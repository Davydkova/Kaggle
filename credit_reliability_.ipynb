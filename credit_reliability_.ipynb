{
 "cells": [
  {
   "cell_type": "markdown",
   "metadata": {},
   "source": [
    "# Исследование надёжности заёмщиков\n",
    "\n",
    "Заказчик — кредитный отдел банка. \n",
    "\n",
    "Нужно разобраться, влияет ли семейное положение и количество детей клиента на факт погашения кредита в срок. Входные данные от банка — статистика о платёжеспособности клиентов.\n",
    "\n",
    "Результаты исследования будут учтены при построении модели **кредитного скоринга** — специальной системы, которая оценивает способность потенциального заёмщика вернуть кредит банку.\n",
    "\n",
    "Цель исследование:\n",
    "\n",
    "   1. Есть ли зависимость между наличием детей и возвратом кредита в срок?\n",
    "   2. Есть ли зависимость между семейным положением и возвратом кредита в срок?\n",
    "   3. Есть ли зависимость между уровнем дохода и возвратом кредита в срок?\n",
    "   4. Как разные цели кредита влияют на его возврат в срок?\n",
    "\n",
    "**Ход исследования**\n",
    "\n",
    "Данные о поведения пользователей (статистика о платежеспособности клиентов) мы получаем из файла - '/datasets/data.csv'. О качестве данных ничего не известно. \n",
    " Исследование пройдёт в три этапа:\n",
    " 1. Обзор данных.\n",
    " 2. Предобработка данных.\n",
    " 3. Ответы на поставленные вопросы.\n",
    " 4. Общий вывод."
   ]
  },
  {
   "cell_type": "markdown",
   "metadata": {},
   "source": [
    "## Шаг 1. Откройте файл с данными и изучите общую информацию"
   ]
  },
  {
   "cell_type": "code",
   "execution_count": 1,
   "metadata": {},
   "outputs": [],
   "source": [
    "import pandas as pd"
   ]
  },
  {
   "cell_type": "code",
   "execution_count": 2,
   "metadata": {},
   "outputs": [
    {
     "data": {
      "text/html": [
       "<div>\n",
       "<style scoped>\n",
       "    .dataframe tbody tr th:only-of-type {\n",
       "        vertical-align: middle;\n",
       "    }\n",
       "\n",
       "    .dataframe tbody tr th {\n",
       "        vertical-align: top;\n",
       "    }\n",
       "\n",
       "    .dataframe thead th {\n",
       "        text-align: right;\n",
       "    }\n",
       "</style>\n",
       "<table border=\"1\" class=\"dataframe\">\n",
       "  <thead>\n",
       "    <tr style=\"text-align: right;\">\n",
       "      <th></th>\n",
       "      <th>children</th>\n",
       "      <th>days_employed</th>\n",
       "      <th>dob_years</th>\n",
       "      <th>education</th>\n",
       "      <th>education_id</th>\n",
       "      <th>family_status</th>\n",
       "      <th>family_status_id</th>\n",
       "      <th>gender</th>\n",
       "      <th>income_type</th>\n",
       "      <th>debt</th>\n",
       "      <th>total_income</th>\n",
       "      <th>purpose</th>\n",
       "    </tr>\n",
       "  </thead>\n",
       "  <tbody>\n",
       "    <tr>\n",
       "      <td>0</td>\n",
       "      <td>1</td>\n",
       "      <td>-8437.673028</td>\n",
       "      <td>42</td>\n",
       "      <td>высшее</td>\n",
       "      <td>0</td>\n",
       "      <td>женат / замужем</td>\n",
       "      <td>0</td>\n",
       "      <td>F</td>\n",
       "      <td>сотрудник</td>\n",
       "      <td>0</td>\n",
       "      <td>253875.639453</td>\n",
       "      <td>покупка жилья</td>\n",
       "    </tr>\n",
       "    <tr>\n",
       "      <td>1</td>\n",
       "      <td>1</td>\n",
       "      <td>-4024.803754</td>\n",
       "      <td>36</td>\n",
       "      <td>среднее</td>\n",
       "      <td>1</td>\n",
       "      <td>женат / замужем</td>\n",
       "      <td>0</td>\n",
       "      <td>F</td>\n",
       "      <td>сотрудник</td>\n",
       "      <td>0</td>\n",
       "      <td>112080.014102</td>\n",
       "      <td>приобретение автомобиля</td>\n",
       "    </tr>\n",
       "    <tr>\n",
       "      <td>2</td>\n",
       "      <td>0</td>\n",
       "      <td>-5623.422610</td>\n",
       "      <td>33</td>\n",
       "      <td>Среднее</td>\n",
       "      <td>1</td>\n",
       "      <td>женат / замужем</td>\n",
       "      <td>0</td>\n",
       "      <td>M</td>\n",
       "      <td>сотрудник</td>\n",
       "      <td>0</td>\n",
       "      <td>145885.952297</td>\n",
       "      <td>покупка жилья</td>\n",
       "    </tr>\n",
       "    <tr>\n",
       "      <td>3</td>\n",
       "      <td>3</td>\n",
       "      <td>-4124.747207</td>\n",
       "      <td>32</td>\n",
       "      <td>среднее</td>\n",
       "      <td>1</td>\n",
       "      <td>женат / замужем</td>\n",
       "      <td>0</td>\n",
       "      <td>M</td>\n",
       "      <td>сотрудник</td>\n",
       "      <td>0</td>\n",
       "      <td>267628.550329</td>\n",
       "      <td>дополнительное образование</td>\n",
       "    </tr>\n",
       "    <tr>\n",
       "      <td>4</td>\n",
       "      <td>0</td>\n",
       "      <td>340266.072047</td>\n",
       "      <td>53</td>\n",
       "      <td>среднее</td>\n",
       "      <td>1</td>\n",
       "      <td>гражданский брак</td>\n",
       "      <td>1</td>\n",
       "      <td>F</td>\n",
       "      <td>пенсионер</td>\n",
       "      <td>0</td>\n",
       "      <td>158616.077870</td>\n",
       "      <td>сыграть свадьбу</td>\n",
       "    </tr>\n",
       "    <tr>\n",
       "      <td>5</td>\n",
       "      <td>0</td>\n",
       "      <td>-926.185831</td>\n",
       "      <td>27</td>\n",
       "      <td>высшее</td>\n",
       "      <td>0</td>\n",
       "      <td>гражданский брак</td>\n",
       "      <td>1</td>\n",
       "      <td>M</td>\n",
       "      <td>компаньон</td>\n",
       "      <td>0</td>\n",
       "      <td>255763.565419</td>\n",
       "      <td>покупка жилья</td>\n",
       "    </tr>\n",
       "    <tr>\n",
       "      <td>6</td>\n",
       "      <td>0</td>\n",
       "      <td>-2879.202052</td>\n",
       "      <td>43</td>\n",
       "      <td>высшее</td>\n",
       "      <td>0</td>\n",
       "      <td>женат / замужем</td>\n",
       "      <td>0</td>\n",
       "      <td>F</td>\n",
       "      <td>компаньон</td>\n",
       "      <td>0</td>\n",
       "      <td>240525.971920</td>\n",
       "      <td>операции с жильем</td>\n",
       "    </tr>\n",
       "    <tr>\n",
       "      <td>7</td>\n",
       "      <td>0</td>\n",
       "      <td>-152.779569</td>\n",
       "      <td>50</td>\n",
       "      <td>СРЕДНЕЕ</td>\n",
       "      <td>1</td>\n",
       "      <td>женат / замужем</td>\n",
       "      <td>0</td>\n",
       "      <td>M</td>\n",
       "      <td>сотрудник</td>\n",
       "      <td>0</td>\n",
       "      <td>135823.934197</td>\n",
       "      <td>образование</td>\n",
       "    </tr>\n",
       "    <tr>\n",
       "      <td>8</td>\n",
       "      <td>2</td>\n",
       "      <td>-6929.865299</td>\n",
       "      <td>35</td>\n",
       "      <td>ВЫСШЕЕ</td>\n",
       "      <td>0</td>\n",
       "      <td>гражданский брак</td>\n",
       "      <td>1</td>\n",
       "      <td>F</td>\n",
       "      <td>сотрудник</td>\n",
       "      <td>0</td>\n",
       "      <td>95856.832424</td>\n",
       "      <td>на проведение свадьбы</td>\n",
       "    </tr>\n",
       "    <tr>\n",
       "      <td>9</td>\n",
       "      <td>0</td>\n",
       "      <td>-2188.756445</td>\n",
       "      <td>41</td>\n",
       "      <td>среднее</td>\n",
       "      <td>1</td>\n",
       "      <td>женат / замужем</td>\n",
       "      <td>0</td>\n",
       "      <td>M</td>\n",
       "      <td>сотрудник</td>\n",
       "      <td>0</td>\n",
       "      <td>144425.938277</td>\n",
       "      <td>покупка жилья для семьи</td>\n",
       "    </tr>\n",
       "  </tbody>\n",
       "</table>\n",
       "</div>"
      ],
      "text/plain": [
       "   children  days_employed  dob_years education  education_id  \\\n",
       "0         1   -8437.673028         42    высшее             0   \n",
       "1         1   -4024.803754         36   среднее             1   \n",
       "2         0   -5623.422610         33   Среднее             1   \n",
       "3         3   -4124.747207         32   среднее             1   \n",
       "4         0  340266.072047         53   среднее             1   \n",
       "5         0    -926.185831         27    высшее             0   \n",
       "6         0   -2879.202052         43    высшее             0   \n",
       "7         0    -152.779569         50   СРЕДНЕЕ             1   \n",
       "8         2   -6929.865299         35    ВЫСШЕЕ             0   \n",
       "9         0   -2188.756445         41   среднее             1   \n",
       "\n",
       "      family_status  family_status_id gender income_type  debt   total_income  \\\n",
       "0   женат / замужем                 0      F   сотрудник     0  253875.639453   \n",
       "1   женат / замужем                 0      F   сотрудник     0  112080.014102   \n",
       "2   женат / замужем                 0      M   сотрудник     0  145885.952297   \n",
       "3   женат / замужем                 0      M   сотрудник     0  267628.550329   \n",
       "4  гражданский брак                 1      F   пенсионер     0  158616.077870   \n",
       "5  гражданский брак                 1      M   компаньон     0  255763.565419   \n",
       "6   женат / замужем                 0      F   компаньон     0  240525.971920   \n",
       "7   женат / замужем                 0      M   сотрудник     0  135823.934197   \n",
       "8  гражданский брак                 1      F   сотрудник     0   95856.832424   \n",
       "9   женат / замужем                 0      M   сотрудник     0  144425.938277   \n",
       "\n",
       "                      purpose  \n",
       "0               покупка жилья  \n",
       "1     приобретение автомобиля  \n",
       "2               покупка жилья  \n",
       "3  дополнительное образование  \n",
       "4             сыграть свадьбу  \n",
       "5               покупка жилья  \n",
       "6           операции с жильем  \n",
       "7                 образование  \n",
       "8       на проведение свадьбы  \n",
       "9     покупка жилья для семьи  "
      ]
     },
     "execution_count": 2,
     "metadata": {},
     "output_type": "execute_result"
    }
   ],
   "source": [
    "try:\n",
    "    df=pd.read_csv('/datasets/data.csv')\n",
    "except:\n",
    "    df=pd.read_csv('https://code.s3.yandex.net/datasets/data.csv')\n",
    "    \n",
    "df.head(10)"
   ]
  },
  {
   "cell_type": "markdown",
   "metadata": {},
   "source": [
    "В столбце days_employed мы видим отрицательные значения и вещественный тип чисел,необходимо преобразование.\n",
    "\n",
    "В столбце education возможно преобразование слов к одному регистру, для дальнейшей корректной работы с ним. "
   ]
  },
  {
   "cell_type": "code",
   "execution_count": 3,
   "metadata": {},
   "outputs": [
    {
     "data": {
      "text/html": [
       "<div>\n",
       "<style scoped>\n",
       "    .dataframe tbody tr th:only-of-type {\n",
       "        vertical-align: middle;\n",
       "    }\n",
       "\n",
       "    .dataframe tbody tr th {\n",
       "        vertical-align: top;\n",
       "    }\n",
       "\n",
       "    .dataframe thead th {\n",
       "        text-align: right;\n",
       "    }\n",
       "</style>\n",
       "<table border=\"1\" class=\"dataframe\">\n",
       "  <thead>\n",
       "    <tr style=\"text-align: right;\">\n",
       "      <th></th>\n",
       "      <th>children</th>\n",
       "      <th>days_employed</th>\n",
       "      <th>dob_years</th>\n",
       "      <th>education_id</th>\n",
       "      <th>family_status_id</th>\n",
       "      <th>debt</th>\n",
       "      <th>total_income</th>\n",
       "    </tr>\n",
       "  </thead>\n",
       "  <tbody>\n",
       "    <tr>\n",
       "      <td>count</td>\n",
       "      <td>21525.000000</td>\n",
       "      <td>19351.000000</td>\n",
       "      <td>21525.000000</td>\n",
       "      <td>21525.000000</td>\n",
       "      <td>21525.000000</td>\n",
       "      <td>21525.000000</td>\n",
       "      <td>1.935100e+04</td>\n",
       "    </tr>\n",
       "    <tr>\n",
       "      <td>mean</td>\n",
       "      <td>0.538908</td>\n",
       "      <td>63046.497661</td>\n",
       "      <td>43.293380</td>\n",
       "      <td>0.817236</td>\n",
       "      <td>0.972544</td>\n",
       "      <td>0.080883</td>\n",
       "      <td>1.674223e+05</td>\n",
       "    </tr>\n",
       "    <tr>\n",
       "      <td>std</td>\n",
       "      <td>1.381587</td>\n",
       "      <td>140827.311974</td>\n",
       "      <td>12.574584</td>\n",
       "      <td>0.548138</td>\n",
       "      <td>1.420324</td>\n",
       "      <td>0.272661</td>\n",
       "      <td>1.029716e+05</td>\n",
       "    </tr>\n",
       "    <tr>\n",
       "      <td>min</td>\n",
       "      <td>-1.000000</td>\n",
       "      <td>-18388.949901</td>\n",
       "      <td>0.000000</td>\n",
       "      <td>0.000000</td>\n",
       "      <td>0.000000</td>\n",
       "      <td>0.000000</td>\n",
       "      <td>2.066726e+04</td>\n",
       "    </tr>\n",
       "    <tr>\n",
       "      <td>25%</td>\n",
       "      <td>0.000000</td>\n",
       "      <td>-2747.423625</td>\n",
       "      <td>33.000000</td>\n",
       "      <td>1.000000</td>\n",
       "      <td>0.000000</td>\n",
       "      <td>0.000000</td>\n",
       "      <td>1.030532e+05</td>\n",
       "    </tr>\n",
       "    <tr>\n",
       "      <td>50%</td>\n",
       "      <td>0.000000</td>\n",
       "      <td>-1203.369529</td>\n",
       "      <td>42.000000</td>\n",
       "      <td>1.000000</td>\n",
       "      <td>0.000000</td>\n",
       "      <td>0.000000</td>\n",
       "      <td>1.450179e+05</td>\n",
       "    </tr>\n",
       "    <tr>\n",
       "      <td>75%</td>\n",
       "      <td>1.000000</td>\n",
       "      <td>-291.095954</td>\n",
       "      <td>53.000000</td>\n",
       "      <td>1.000000</td>\n",
       "      <td>1.000000</td>\n",
       "      <td>0.000000</td>\n",
       "      <td>2.034351e+05</td>\n",
       "    </tr>\n",
       "    <tr>\n",
       "      <td>max</td>\n",
       "      <td>20.000000</td>\n",
       "      <td>401755.400475</td>\n",
       "      <td>75.000000</td>\n",
       "      <td>4.000000</td>\n",
       "      <td>4.000000</td>\n",
       "      <td>1.000000</td>\n",
       "      <td>2.265604e+06</td>\n",
       "    </tr>\n",
       "  </tbody>\n",
       "</table>\n",
       "</div>"
      ],
      "text/plain": [
       "           children  days_employed     dob_years  education_id  \\\n",
       "count  21525.000000   19351.000000  21525.000000  21525.000000   \n",
       "mean       0.538908   63046.497661     43.293380      0.817236   \n",
       "std        1.381587  140827.311974     12.574584      0.548138   \n",
       "min       -1.000000  -18388.949901      0.000000      0.000000   \n",
       "25%        0.000000   -2747.423625     33.000000      1.000000   \n",
       "50%        0.000000   -1203.369529     42.000000      1.000000   \n",
       "75%        1.000000    -291.095954     53.000000      1.000000   \n",
       "max       20.000000  401755.400475     75.000000      4.000000   \n",
       "\n",
       "       family_status_id          debt  total_income  \n",
       "count      21525.000000  21525.000000  1.935100e+04  \n",
       "mean           0.972544      0.080883  1.674223e+05  \n",
       "std            1.420324      0.272661  1.029716e+05  \n",
       "min            0.000000      0.000000  2.066726e+04  \n",
       "25%            0.000000      0.000000  1.030532e+05  \n",
       "50%            0.000000      0.000000  1.450179e+05  \n",
       "75%            1.000000      0.000000  2.034351e+05  \n",
       "max            4.000000      1.000000  2.265604e+06  "
      ]
     },
     "execution_count": 3,
     "metadata": {},
     "output_type": "execute_result"
    }
   ],
   "source": [
    "df.describe()       #describe() используются для просмотра некоторых основных статистических данных"
   ]
  },
  {
   "cell_type": "markdown",
   "metadata": {},
   "source": [
    "Обнаруживаем \"интересные\" значения, *children* детей не может быть \"-1\" , и конечно вряд ли может быть и \"20\". \n",
    "\n",
    "Скорее всего данные были введены некорретно. \n",
    "\n",
    "Преобразуем данные по модулю, и  возможно заменить значение \"20\" медианным, но в данном этапе проекте необходимо только условие, есть дети(от 1 и далее) или нет(0).\n",
    "\n",
    "Возраст в некоторых строках *dob_years* равен 0, возможно пропущен или просто не указан."
   ]
  },
  {
   "cell_type": "code",
   "execution_count": 4,
   "metadata": {},
   "outputs": [
    {
     "name": "stdout",
     "output_type": "stream",
     "text": [
      "<class 'pandas.core.frame.DataFrame'>\n",
      "RangeIndex: 21525 entries, 0 to 21524\n",
      "Data columns (total 12 columns):\n",
      "children            21525 non-null int64\n",
      "days_employed       19351 non-null float64\n",
      "dob_years           21525 non-null int64\n",
      "education           21525 non-null object\n",
      "education_id        21525 non-null int64\n",
      "family_status       21525 non-null object\n",
      "family_status_id    21525 non-null int64\n",
      "gender              21525 non-null object\n",
      "income_type         21525 non-null object\n",
      "debt                21525 non-null int64\n",
      "total_income        19351 non-null float64\n",
      "purpose             21525 non-null object\n",
      "dtypes: float64(2), int64(5), object(5)\n",
      "memory usage: 2.0+ MB\n"
     ]
    }
   ],
   "source": [
    "df.info()"
   ]
  },
  {
   "cell_type": "markdown",
   "metadata": {},
   "source": [
    "В таблице 12 столбцов. \n",
    "\n",
    "Тип данных в столбцах различен: float64(2), int64(5), object(5).\n",
    "\n",
    "Мы можем увидеть,что количество значений в столбцах различаются. Значит, в данных есть пропущенные значения.\n",
    "\n",
    "\n",
    "Согласно документации к данным:\n",
    "\n",
    "    children — количество детей в семье\n",
    "    days_employed — общий трудовой стаж в днях\n",
    "    dob_years — возраст клиента в годах\n",
    "    education — уровень образования клиента\n",
    "    education_id — идентификатор уровня образования\n",
    "    family_status — семейное положение\n",
    "    family_status_id — идентификатор семейного положения\n",
    "    gender — пол клиента\n",
    "    income_type — тип занятости\n",
    "    debt — имел ли задолженность по возврату кредитов\n",
    "    total_income — ежемесячный доход\n",
    "    purpose — цель получения кредита\n",
    "    \n",
    "   "
   ]
  },
  {
   "cell_type": "markdown",
   "metadata": {},
   "source": [
    "**Вывод**\n",
    "\n",
    "В каждой строке таблицы — данные о клиентах. Часть колонок описывает персональные данные клиентов: количество детей в семье, общий трудовой стаж, возраст, уровень образования, семейное положение,тип занятости, пол и ежемесячный доход. Остальные данные рассказывают о клиенте: имел ли он задолженность по возврату кредита и какова цель получения кредита. \n",
    "\n",
    "Предварительно можно утверждать, что данных достаточно для ответов на поставленные вопросы. Но мы встречаем пропуски в данных , а они могут непосредственно влиять на конечный результат.\n",
    "Чтобы двигаться дальше, нужно устранить проблемы в данных."
   ]
  },
  {
   "cell_type": "markdown",
   "metadata": {},
   "source": [
    "## Шаг 2. Предобработка данных"
   ]
  },
  {
   "cell_type": "markdown",
   "metadata": {},
   "source": [
    "### Обработка пропусков"
   ]
  },
  {
   "cell_type": "markdown",
   "metadata": {},
   "source": [
    "Преобразуем столбец *education* к нижнему регистру."
   ]
  },
  {
   "cell_type": "code",
   "execution_count": 5,
   "metadata": {},
   "outputs": [],
   "source": [
    "df['education']=df['education'].str.lower()"
   ]
  },
  {
   "cell_type": "markdown",
   "metadata": {},
   "source": [
    "Преобразуем столбец со стажем по модулю,чтобы избавиться от  отрицательных значений. Проверим результат."
   ]
  },
  {
   "cell_type": "code",
   "execution_count": 6,
   "metadata": {},
   "outputs": [
    {
     "name": "stdout",
     "output_type": "stream",
     "text": [
      "0          8437.673028\n",
      "1          4024.803754\n",
      "2          5623.422610\n",
      "3          4124.747207\n",
      "4        340266.072047\n",
      "             ...      \n",
      "21520      4529.316663\n",
      "21521    343937.404131\n",
      "21522      2113.346888\n",
      "21523      3112.481705\n",
      "21524      1984.507589\n",
      "Name: days_employed, Length: 21525, dtype: float64\n"
     ]
    }
   ],
   "source": [
    "df['days_employed']=df['days_employed'].abs()  #преобразование отрицательных значений \n",
    "print(df['days_employed'])"
   ]
  },
  {
   "cell_type": "markdown",
   "metadata": {},
   "source": [
    "Проверим количество значений с отсутствующими данными."
   ]
  },
  {
   "cell_type": "code",
   "execution_count": 7,
   "metadata": {},
   "outputs": [
    {
     "name": "stdout",
     "output_type": "stream",
     "text": [
      "children               0\n",
      "days_employed       2174\n",
      "dob_years              0\n",
      "education              0\n",
      "education_id           0\n",
      "family_status          0\n",
      "family_status_id       0\n",
      "gender                 0\n",
      "income_type            0\n",
      "debt                   0\n",
      "total_income        2174\n",
      "purpose                0\n",
      "dtype: int64\n"
     ]
    }
   ],
   "source": [
    "print(df.isna().sum())      #cколько в таблице пропущенных значений и где они содержатся"
   ]
  },
  {
   "cell_type": "markdown",
   "metadata": {},
   "source": [
    "Проверим, это одни и те же строки, где отсутствуют данные по обоим столбцам ('days_employed' и 'total_income') или нет."
   ]
  },
  {
   "cell_type": "code",
   "execution_count": 8,
   "metadata": {},
   "outputs": [
    {
     "data": {
      "text/html": [
       "<div>\n",
       "<style scoped>\n",
       "    .dataframe tbody tr th:only-of-type {\n",
       "        vertical-align: middle;\n",
       "    }\n",
       "\n",
       "    .dataframe tbody tr th {\n",
       "        vertical-align: top;\n",
       "    }\n",
       "\n",
       "    .dataframe thead th {\n",
       "        text-align: right;\n",
       "    }\n",
       "</style>\n",
       "<table border=\"1\" class=\"dataframe\">\n",
       "  <thead>\n",
       "    <tr style=\"text-align: right;\">\n",
       "      <th></th>\n",
       "      <th>children</th>\n",
       "      <th>days_employed</th>\n",
       "      <th>dob_years</th>\n",
       "      <th>education</th>\n",
       "      <th>education_id</th>\n",
       "      <th>family_status</th>\n",
       "      <th>family_status_id</th>\n",
       "      <th>gender</th>\n",
       "      <th>income_type</th>\n",
       "      <th>debt</th>\n",
       "      <th>total_income</th>\n",
       "      <th>purpose</th>\n",
       "    </tr>\n",
       "  </thead>\n",
       "  <tbody>\n",
       "    <tr>\n",
       "      <td>12</td>\n",
       "      <td>0</td>\n",
       "      <td>NaN</td>\n",
       "      <td>65</td>\n",
       "      <td>среднее</td>\n",
       "      <td>1</td>\n",
       "      <td>гражданский брак</td>\n",
       "      <td>1</td>\n",
       "      <td>M</td>\n",
       "      <td>пенсионер</td>\n",
       "      <td>0</td>\n",
       "      <td>NaN</td>\n",
       "      <td>сыграть свадьбу</td>\n",
       "    </tr>\n",
       "    <tr>\n",
       "      <td>26</td>\n",
       "      <td>0</td>\n",
       "      <td>NaN</td>\n",
       "      <td>41</td>\n",
       "      <td>среднее</td>\n",
       "      <td>1</td>\n",
       "      <td>женат / замужем</td>\n",
       "      <td>0</td>\n",
       "      <td>M</td>\n",
       "      <td>госслужащий</td>\n",
       "      <td>0</td>\n",
       "      <td>NaN</td>\n",
       "      <td>образование</td>\n",
       "    </tr>\n",
       "    <tr>\n",
       "      <td>29</td>\n",
       "      <td>0</td>\n",
       "      <td>NaN</td>\n",
       "      <td>63</td>\n",
       "      <td>среднее</td>\n",
       "      <td>1</td>\n",
       "      <td>Не женат / не замужем</td>\n",
       "      <td>4</td>\n",
       "      <td>F</td>\n",
       "      <td>пенсионер</td>\n",
       "      <td>0</td>\n",
       "      <td>NaN</td>\n",
       "      <td>строительство жилой недвижимости</td>\n",
       "    </tr>\n",
       "    <tr>\n",
       "      <td>41</td>\n",
       "      <td>0</td>\n",
       "      <td>NaN</td>\n",
       "      <td>50</td>\n",
       "      <td>среднее</td>\n",
       "      <td>1</td>\n",
       "      <td>женат / замужем</td>\n",
       "      <td>0</td>\n",
       "      <td>F</td>\n",
       "      <td>госслужащий</td>\n",
       "      <td>0</td>\n",
       "      <td>NaN</td>\n",
       "      <td>сделка с подержанным автомобилем</td>\n",
       "    </tr>\n",
       "    <tr>\n",
       "      <td>55</td>\n",
       "      <td>0</td>\n",
       "      <td>NaN</td>\n",
       "      <td>54</td>\n",
       "      <td>среднее</td>\n",
       "      <td>1</td>\n",
       "      <td>гражданский брак</td>\n",
       "      <td>1</td>\n",
       "      <td>F</td>\n",
       "      <td>пенсионер</td>\n",
       "      <td>1</td>\n",
       "      <td>NaN</td>\n",
       "      <td>сыграть свадьбу</td>\n",
       "    </tr>\n",
       "    <tr>\n",
       "      <td>65</td>\n",
       "      <td>0</td>\n",
       "      <td>NaN</td>\n",
       "      <td>21</td>\n",
       "      <td>среднее</td>\n",
       "      <td>1</td>\n",
       "      <td>Не женат / не замужем</td>\n",
       "      <td>4</td>\n",
       "      <td>M</td>\n",
       "      <td>компаньон</td>\n",
       "      <td>0</td>\n",
       "      <td>NaN</td>\n",
       "      <td>операции с коммерческой недвижимостью</td>\n",
       "    </tr>\n",
       "    <tr>\n",
       "      <td>67</td>\n",
       "      <td>0</td>\n",
       "      <td>NaN</td>\n",
       "      <td>52</td>\n",
       "      <td>высшее</td>\n",
       "      <td>0</td>\n",
       "      <td>женат / замужем</td>\n",
       "      <td>0</td>\n",
       "      <td>F</td>\n",
       "      <td>пенсионер</td>\n",
       "      <td>0</td>\n",
       "      <td>NaN</td>\n",
       "      <td>покупка жилья для семьи</td>\n",
       "    </tr>\n",
       "    <tr>\n",
       "      <td>72</td>\n",
       "      <td>1</td>\n",
       "      <td>NaN</td>\n",
       "      <td>32</td>\n",
       "      <td>высшее</td>\n",
       "      <td>0</td>\n",
       "      <td>женат / замужем</td>\n",
       "      <td>0</td>\n",
       "      <td>M</td>\n",
       "      <td>госслужащий</td>\n",
       "      <td>0</td>\n",
       "      <td>NaN</td>\n",
       "      <td>операции с коммерческой недвижимостью</td>\n",
       "    </tr>\n",
       "    <tr>\n",
       "      <td>82</td>\n",
       "      <td>2</td>\n",
       "      <td>NaN</td>\n",
       "      <td>50</td>\n",
       "      <td>высшее</td>\n",
       "      <td>0</td>\n",
       "      <td>женат / замужем</td>\n",
       "      <td>0</td>\n",
       "      <td>F</td>\n",
       "      <td>сотрудник</td>\n",
       "      <td>0</td>\n",
       "      <td>NaN</td>\n",
       "      <td>жилье</td>\n",
       "    </tr>\n",
       "    <tr>\n",
       "      <td>83</td>\n",
       "      <td>0</td>\n",
       "      <td>NaN</td>\n",
       "      <td>52</td>\n",
       "      <td>среднее</td>\n",
       "      <td>1</td>\n",
       "      <td>женат / замужем</td>\n",
       "      <td>0</td>\n",
       "      <td>M</td>\n",
       "      <td>сотрудник</td>\n",
       "      <td>0</td>\n",
       "      <td>NaN</td>\n",
       "      <td>жилье</td>\n",
       "    </tr>\n",
       "  </tbody>\n",
       "</table>\n",
       "</div>"
      ],
      "text/plain": [
       "    children  days_employed  dob_years education  education_id  \\\n",
       "12         0            NaN         65   среднее             1   \n",
       "26         0            NaN         41   среднее             1   \n",
       "29         0            NaN         63   среднее             1   \n",
       "41         0            NaN         50   среднее             1   \n",
       "55         0            NaN         54   среднее             1   \n",
       "65         0            NaN         21   среднее             1   \n",
       "67         0            NaN         52    высшее             0   \n",
       "72         1            NaN         32    высшее             0   \n",
       "82         2            NaN         50    высшее             0   \n",
       "83         0            NaN         52   среднее             1   \n",
       "\n",
       "            family_status  family_status_id gender  income_type  debt  \\\n",
       "12       гражданский брак                 1      M    пенсионер     0   \n",
       "26        женат / замужем                 0      M  госслужащий     0   \n",
       "29  Не женат / не замужем                 4      F    пенсионер     0   \n",
       "41        женат / замужем                 0      F  госслужащий     0   \n",
       "55       гражданский брак                 1      F    пенсионер     1   \n",
       "65  Не женат / не замужем                 4      M    компаньон     0   \n",
       "67        женат / замужем                 0      F    пенсионер     0   \n",
       "72        женат / замужем                 0      M  госслужащий     0   \n",
       "82        женат / замужем                 0      F    сотрудник     0   \n",
       "83        женат / замужем                 0      M    сотрудник     0   \n",
       "\n",
       "    total_income                                purpose  \n",
       "12           NaN                        сыграть свадьбу  \n",
       "26           NaN                            образование  \n",
       "29           NaN       строительство жилой недвижимости  \n",
       "41           NaN       сделка с подержанным автомобилем  \n",
       "55           NaN                        сыграть свадьбу  \n",
       "65           NaN  операции с коммерческой недвижимостью  \n",
       "67           NaN                покупка жилья для семьи  \n",
       "72           NaN  операции с коммерческой недвижимостью  \n",
       "82           NaN                                  жилье  \n",
       "83           NaN                                  жилье  "
      ]
     },
     "metadata": {},
     "output_type": "display_data"
    },
    {
     "name": "stdout",
     "output_type": "stream",
     "text": [
      "Количество строк с пропусками: 2174\n"
     ]
    }
   ],
   "source": [
    "is_nan=df[df['days_employed'].isna() & df['total_income'].isna()]\n",
    "display(is_nan.head(10))\n",
    "print('Количество строк с пропусками:',is_nan.shape[0])"
   ]
  },
  {
   "cell_type": "markdown",
   "metadata": {},
   "source": [
    "Предположение подтвердилось, в строках где отсутсвуют данные по столбцу 'days_employed' там же отсутствуют данные и по 'total_income'"
   ]
  },
  {
   "cell_type": "markdown",
   "metadata": {},
   "source": [
    "Далее проанализируем как связаны отсутствующие данные по стажу *days_employed* и типу занятости *income_type*.\n",
    "\n",
    "Для этого зададим условия нулевых значений по нашим столбцам и посчитаем количество клиентов относящихся к каждой группе (тип занятости)"
   ]
  },
  {
   "cell_type": "code",
   "execution_count": 9,
   "metadata": {},
   "outputs": [
    {
     "data": {
      "text/plain": [
       "сотрудник          1105\n",
       "компаньон           508\n",
       "пенсионер           413\n",
       "госслужащий         147\n",
       "предприниматель       1\n",
       "Name: income_type, dtype: int64"
      ]
     },
     "execution_count": 9,
     "metadata": {},
     "output_type": "execute_result"
    }
   ],
   "source": [
    "df[(df['total_income'].isna() == True) & (df['days_employed'].isna() == True)]['income_type'].value_counts()"
   ]
  },
  {
   "cell_type": "markdown",
   "metadata": {},
   "source": [
    "Видим, что пропущенные данные из разных категорий, поэтому средним значением из одной категории заменять их не целесообразно."
   ]
  },
  {
   "cell_type": "markdown",
   "metadata": {},
   "source": [
    "Мы не можем однозначно сказать почему некоторые значения в столбцах days_employed (трудовой стаж) и total_income (ежемесячный доход) отсутствуют, возможно пользователи не захотели предоставить эту информацию, но скорее всего в оформлении заявки на кредит она была обязательна. \n",
    "\n",
    "Тогда возможно на появления пропущенных значений повлиял человеческих фактор или сбой при экспорте данных. В данной ситуации у нас есть достаточно много похожих показателей от других пользователей, поэтому мы можем заменить пропущенные значения средним значением общего трудого стажа клиента. "
   ]
  },
  {
   "cell_type": "code",
   "execution_count": 10,
   "metadata": {},
   "outputs": [],
   "source": [
    "df['days_employed']=df['days_employed'].fillna(value=df['days_employed'].mean())"
   ]
  },
  {
   "cell_type": "markdown",
   "metadata": {},
   "source": [
    "Пропущенные значения в столбце total_income(ежемесяный доход) некорректно заменить средним показателем, потому как есть большие перепады в значениях. Оптимальный способ заменить пропущенные значения медианой (значение признака, находящееся в середине ранжированной (упорядоченной по возрастанию или убыванию) совокупности)"
   ]
  },
  {
   "cell_type": "code",
   "execution_count": 11,
   "metadata": {},
   "outputs": [],
   "source": [
    "df['total_income']=df['total_income'].fillna(value=df['days_employed'].median())"
   ]
  },
  {
   "cell_type": "markdown",
   "metadata": {},
   "source": [
    "Выведем значения медианы в зависимости от занятости клиентов"
   ]
  },
  {
   "cell_type": "code",
   "execution_count": 12,
   "metadata": {},
   "outputs": [
    {
     "name": "stdout",
     "output_type": "stream",
     "text": [
      "income_type\n",
      "безработный        131339.751676\n",
      "в декрете           53829.130729\n",
      "госслужащий        139034.452386\n",
      "компаньон          162401.351555\n",
      "пенсионер          110179.690761\n",
      "предприниматель    250886.492981\n",
      "сотрудник          133546.457238\n",
      "студент             98201.625314\n",
      "Name: total_income, dtype: float64\n"
     ]
    }
   ],
   "source": [
    "total_median = df.groupby('income_type')['total_income'].median()\n",
    "print(total_median)"
   ]
  },
  {
   "cell_type": "code",
   "execution_count": 13,
   "metadata": {},
   "outputs": [
    {
     "name": "stdout",
     "output_type": "stream",
     "text": [
      "135514.71128002706\n"
     ]
    }
   ],
   "source": [
    "mediana=df['total_income'].median()   #сравним с общей медианой по всей группе \n",
    "print(mediana)"
   ]
  },
  {
   "cell_type": "markdown",
   "metadata": {},
   "source": [
    "Заменим пропущенные значения в столбце *total_income* на 0. Затем применим последовательно два условия (по нулевым значениям и типу занятости клиентов) и заменим нулевые на медианные значения по группам."
   ]
  },
  {
   "cell_type": "code",
   "execution_count": 14,
   "metadata": {},
   "outputs": [],
   "source": [
    "df['total_income'] = df['total_income'].fillna(0)"
   ]
  },
  {
   "cell_type": "code",
   "execution_count": 15,
   "metadata": {},
   "outputs": [],
   "source": [
    "df.loc[(df['total_income'] == 0) & (df['income_type'] == 'безработный '), 'total_income'] = total_median[0]\n",
    "df.loc[(df['total_income'] == 0) & (df['income_type'] == 'в декрете'), 'total_income'] = total_median[1]\n",
    "df.loc[(df['total_income'] == 0) & (df['income_type'] == 'госслужащий '), 'total_income'] = total_median[2]\n",
    "df.loc[(df['total_income'] == 0) & (df['income_type'] == 'компаньон'), 'total_income'] = total_median[3]\n",
    "df.loc[(df['total_income'] == 0) & (df['income_type'] == 'пенсионер'), 'total_income'] = total_median[4]\n",
    "df.loc[(df['total_income'] == 0) & (df['income_type'] == 'предприниматель'), 'total_income'] = total_median[5]\n",
    "df.loc[(df['total_income'] == 0) & (df['income_type'] == 'сотрудник'), 'total_income'] = total_median[6]\n",
    "df.loc[(df['total_income'] == 0) & (df['income_type'] == 'студент'), 'total_income'] = total_median[7]\n",
    "\n"
   ]
  },
  {
   "cell_type": "markdown",
   "metadata": {},
   "source": [
    "Другой вариант заполнения медианным значением используя словарь и метод замены пропусков *fillna*"
   ]
  },
  {
   "cell_type": "code",
   "execution_count": 16,
   "metadata": {},
   "outputs": [],
   "source": [
    "df=df.fillna({'total_income':df.groupby('income_type')['total_income'].transform('median')}) "
   ]
  },
  {
   "cell_type": "markdown",
   "metadata": {},
   "source": [
    "Проверим наш датасет на отсутствие пропущенных значений в данных."
   ]
  },
  {
   "cell_type": "code",
   "execution_count": 17,
   "metadata": {},
   "outputs": [
    {
     "name": "stdout",
     "output_type": "stream",
     "text": [
      "<class 'pandas.core.frame.DataFrame'>\n",
      "RangeIndex: 21525 entries, 0 to 21524\n",
      "Data columns (total 12 columns):\n",
      "children            21525 non-null int64\n",
      "days_employed       21525 non-null float64\n",
      "dob_years           21525 non-null int64\n",
      "education           21525 non-null object\n",
      "education_id        21525 non-null int64\n",
      "family_status       21525 non-null object\n",
      "family_status_id    21525 non-null int64\n",
      "gender              21525 non-null object\n",
      "income_type         21525 non-null object\n",
      "debt                21525 non-null int64\n",
      "total_income        21525 non-null float64\n",
      "purpose             21525 non-null object\n",
      "dtypes: float64(2), int64(5), object(5)\n",
      "memory usage: 2.0+ MB\n"
     ]
    }
   ],
   "source": [
    "df.info()"
   ]
  },
  {
   "cell_type": "markdown",
   "metadata": {},
   "source": [
    "**Вывод**"
   ]
  },
  {
   "cell_type": "markdown",
   "metadata": {},
   "source": [
    "Провели преобработку пропущенных значений данных в столбцах (трудовой стаж и ежемесячный доход). \n",
    "\n",
    "Преобразовали пропущенные значения  заменив на среднее значение и медианное по группам соотвественно."
   ]
  },
  {
   "cell_type": "markdown",
   "metadata": {},
   "source": [
    "### Замена типа данных"
   ]
  },
  {
   "cell_type": "markdown",
   "metadata": {},
   "source": [
    "В столбце days_employed (трудовой стаж) мы видим вещественный тип данных (float64), это некорректные данные , стаж может измеряться только в целых днях(int). \n",
    "\n",
    "Замена типа данных методом to_numeric() в данном случае нам не подойдет, так как при переводе все числа будут иметь тип данных float.\n",
    "\n",
    "В нужный тип значения переводят методом astype()."
   ]
  },
  {
   "cell_type": "code",
   "execution_count": 18,
   "metadata": {},
   "outputs": [],
   "source": [
    "df['days_employed'] = df['days_employed'].astype('int')\n",
    "df['total_income'] = df['total_income'].astype('int')#преобразование типа данных в целочисленный"
   ]
  },
  {
   "cell_type": "markdown",
   "metadata": {},
   "source": [
    "\n",
    "Выведем обновленную информацию по нашему датасету и проверим произведенную замену типа данных."
   ]
  },
  {
   "cell_type": "code",
   "execution_count": 19,
   "metadata": {},
   "outputs": [
    {
     "name": "stdout",
     "output_type": "stream",
     "text": [
      "<class 'pandas.core.frame.DataFrame'>\n",
      "RangeIndex: 21525 entries, 0 to 21524\n",
      "Data columns (total 12 columns):\n",
      "children            21525 non-null int64\n",
      "days_employed       21525 non-null int64\n",
      "dob_years           21525 non-null int64\n",
      "education           21525 non-null object\n",
      "education_id        21525 non-null int64\n",
      "family_status       21525 non-null object\n",
      "family_status_id    21525 non-null int64\n",
      "gender              21525 non-null object\n",
      "income_type         21525 non-null object\n",
      "debt                21525 non-null int64\n",
      "total_income        21525 non-null int64\n",
      "purpose             21525 non-null object\n",
      "dtypes: int64(7), object(5)\n",
      "memory usage: 2.0+ MB\n"
     ]
    }
   ],
   "source": [
    "df.info()"
   ]
  },
  {
   "cell_type": "markdown",
   "metadata": {},
   "source": [
    "**Вывод**"
   ]
  },
  {
   "cell_type": "markdown",
   "metadata": {},
   "source": [
    "Замена типа данных произведенна корректно."
   ]
  },
  {
   "cell_type": "markdown",
   "metadata": {},
   "source": [
    "### Обработка дубликатов"
   ]
  },
  {
   "cell_type": "markdown",
   "metadata": {},
   "source": [
    "Теперь посчитаем общее количество дубликатов. \n",
    "\n",
    "Используем стандартный метод *duplicated()* выводим суммарное количество дубликатов по датафрейму:"
   ]
  },
  {
   "cell_type": "code",
   "execution_count": 20,
   "metadata": {},
   "outputs": [
    {
     "data": {
      "text/plain": [
       "71"
      ]
     },
     "execution_count": 20,
     "metadata": {},
     "output_type": "execute_result"
    }
   ],
   "source": [
    "df.duplicated().sum()"
   ]
  },
  {
   "cell_type": "code",
   "execution_count": 21,
   "metadata": {},
   "outputs": [
    {
     "data": {
      "text/html": [
       "<div>\n",
       "<style scoped>\n",
       "    .dataframe tbody tr th:only-of-type {\n",
       "        vertical-align: middle;\n",
       "    }\n",
       "\n",
       "    .dataframe tbody tr th {\n",
       "        vertical-align: top;\n",
       "    }\n",
       "\n",
       "    .dataframe thead th {\n",
       "        text-align: right;\n",
       "    }\n",
       "</style>\n",
       "<table border=\"1\" class=\"dataframe\">\n",
       "  <thead>\n",
       "    <tr style=\"text-align: right;\">\n",
       "      <th></th>\n",
       "      <th>children</th>\n",
       "      <th>days_employed</th>\n",
       "      <th>dob_years</th>\n",
       "      <th>education</th>\n",
       "      <th>education_id</th>\n",
       "      <th>family_status</th>\n",
       "      <th>family_status_id</th>\n",
       "      <th>gender</th>\n",
       "      <th>income_type</th>\n",
       "      <th>debt</th>\n",
       "      <th>total_income</th>\n",
       "      <th>purpose</th>\n",
       "    </tr>\n",
       "  </thead>\n",
       "  <tbody>\n",
       "    <tr>\n",
       "      <td>2849</td>\n",
       "      <td>0</td>\n",
       "      <td>66914</td>\n",
       "      <td>41</td>\n",
       "      <td>среднее</td>\n",
       "      <td>1</td>\n",
       "      <td>женат / замужем</td>\n",
       "      <td>0</td>\n",
       "      <td>F</td>\n",
       "      <td>сотрудник</td>\n",
       "      <td>0</td>\n",
       "      <td>2609</td>\n",
       "      <td>покупка жилья для семьи</td>\n",
       "    </tr>\n",
       "    <tr>\n",
       "      <td>3290</td>\n",
       "      <td>0</td>\n",
       "      <td>66914</td>\n",
       "      <td>58</td>\n",
       "      <td>среднее</td>\n",
       "      <td>1</td>\n",
       "      <td>гражданский брак</td>\n",
       "      <td>1</td>\n",
       "      <td>F</td>\n",
       "      <td>пенсионер</td>\n",
       "      <td>0</td>\n",
       "      <td>2609</td>\n",
       "      <td>сыграть свадьбу</td>\n",
       "    </tr>\n",
       "    <tr>\n",
       "      <td>4182</td>\n",
       "      <td>1</td>\n",
       "      <td>66914</td>\n",
       "      <td>34</td>\n",
       "      <td>высшее</td>\n",
       "      <td>0</td>\n",
       "      <td>гражданский брак</td>\n",
       "      <td>1</td>\n",
       "      <td>F</td>\n",
       "      <td>сотрудник</td>\n",
       "      <td>0</td>\n",
       "      <td>2609</td>\n",
       "      <td>свадьба</td>\n",
       "    </tr>\n",
       "    <tr>\n",
       "      <td>4851</td>\n",
       "      <td>0</td>\n",
       "      <td>66914</td>\n",
       "      <td>60</td>\n",
       "      <td>среднее</td>\n",
       "      <td>1</td>\n",
       "      <td>гражданский брак</td>\n",
       "      <td>1</td>\n",
       "      <td>F</td>\n",
       "      <td>пенсионер</td>\n",
       "      <td>0</td>\n",
       "      <td>2609</td>\n",
       "      <td>свадьба</td>\n",
       "    </tr>\n",
       "    <tr>\n",
       "      <td>5557</td>\n",
       "      <td>0</td>\n",
       "      <td>66914</td>\n",
       "      <td>58</td>\n",
       "      <td>среднее</td>\n",
       "      <td>1</td>\n",
       "      <td>гражданский брак</td>\n",
       "      <td>1</td>\n",
       "      <td>F</td>\n",
       "      <td>пенсионер</td>\n",
       "      <td>0</td>\n",
       "      <td>2609</td>\n",
       "      <td>сыграть свадьбу</td>\n",
       "    </tr>\n",
       "    <tr>\n",
       "      <td>...</td>\n",
       "      <td>...</td>\n",
       "      <td>...</td>\n",
       "      <td>...</td>\n",
       "      <td>...</td>\n",
       "      <td>...</td>\n",
       "      <td>...</td>\n",
       "      <td>...</td>\n",
       "      <td>...</td>\n",
       "      <td>...</td>\n",
       "      <td>...</td>\n",
       "      <td>...</td>\n",
       "      <td>...</td>\n",
       "    </tr>\n",
       "    <tr>\n",
       "      <td>20702</td>\n",
       "      <td>0</td>\n",
       "      <td>66914</td>\n",
       "      <td>64</td>\n",
       "      <td>среднее</td>\n",
       "      <td>1</td>\n",
       "      <td>женат / замужем</td>\n",
       "      <td>0</td>\n",
       "      <td>F</td>\n",
       "      <td>пенсионер</td>\n",
       "      <td>0</td>\n",
       "      <td>2609</td>\n",
       "      <td>дополнительное образование</td>\n",
       "    </tr>\n",
       "    <tr>\n",
       "      <td>21032</td>\n",
       "      <td>0</td>\n",
       "      <td>66914</td>\n",
       "      <td>60</td>\n",
       "      <td>среднее</td>\n",
       "      <td>1</td>\n",
       "      <td>женат / замужем</td>\n",
       "      <td>0</td>\n",
       "      <td>F</td>\n",
       "      <td>пенсионер</td>\n",
       "      <td>0</td>\n",
       "      <td>2609</td>\n",
       "      <td>заняться образованием</td>\n",
       "    </tr>\n",
       "    <tr>\n",
       "      <td>21132</td>\n",
       "      <td>0</td>\n",
       "      <td>66914</td>\n",
       "      <td>47</td>\n",
       "      <td>среднее</td>\n",
       "      <td>1</td>\n",
       "      <td>женат / замужем</td>\n",
       "      <td>0</td>\n",
       "      <td>F</td>\n",
       "      <td>сотрудник</td>\n",
       "      <td>0</td>\n",
       "      <td>2609</td>\n",
       "      <td>ремонт жилью</td>\n",
       "    </tr>\n",
       "    <tr>\n",
       "      <td>21281</td>\n",
       "      <td>1</td>\n",
       "      <td>66914</td>\n",
       "      <td>30</td>\n",
       "      <td>высшее</td>\n",
       "      <td>0</td>\n",
       "      <td>женат / замужем</td>\n",
       "      <td>0</td>\n",
       "      <td>F</td>\n",
       "      <td>сотрудник</td>\n",
       "      <td>0</td>\n",
       "      <td>2609</td>\n",
       "      <td>покупка коммерческой недвижимости</td>\n",
       "    </tr>\n",
       "    <tr>\n",
       "      <td>21415</td>\n",
       "      <td>0</td>\n",
       "      <td>66914</td>\n",
       "      <td>54</td>\n",
       "      <td>среднее</td>\n",
       "      <td>1</td>\n",
       "      <td>женат / замужем</td>\n",
       "      <td>0</td>\n",
       "      <td>F</td>\n",
       "      <td>пенсионер</td>\n",
       "      <td>0</td>\n",
       "      <td>2609</td>\n",
       "      <td>операции с жильем</td>\n",
       "    </tr>\n",
       "  </tbody>\n",
       "</table>\n",
       "<p>71 rows × 12 columns</p>\n",
       "</div>"
      ],
      "text/plain": [
       "       children  days_employed  dob_years education  education_id  \\\n",
       "2849          0          66914         41   среднее             1   \n",
       "3290          0          66914         58   среднее             1   \n",
       "4182          1          66914         34    высшее             0   \n",
       "4851          0          66914         60   среднее             1   \n",
       "5557          0          66914         58   среднее             1   \n",
       "...         ...            ...        ...       ...           ...   \n",
       "20702         0          66914         64   среднее             1   \n",
       "21032         0          66914         60   среднее             1   \n",
       "21132         0          66914         47   среднее             1   \n",
       "21281         1          66914         30    высшее             0   \n",
       "21415         0          66914         54   среднее             1   \n",
       "\n",
       "          family_status  family_status_id gender income_type  debt  \\\n",
       "2849    женат / замужем                 0      F   сотрудник     0   \n",
       "3290   гражданский брак                 1      F   пенсионер     0   \n",
       "4182   гражданский брак                 1      F   сотрудник     0   \n",
       "4851   гражданский брак                 1      F   пенсионер     0   \n",
       "5557   гражданский брак                 1      F   пенсионер     0   \n",
       "...                 ...               ...    ...         ...   ...   \n",
       "20702   женат / замужем                 0      F   пенсионер     0   \n",
       "21032   женат / замужем                 0      F   пенсионер     0   \n",
       "21132   женат / замужем                 0      F   сотрудник     0   \n",
       "21281   женат / замужем                 0      F   сотрудник     0   \n",
       "21415   женат / замужем                 0      F   пенсионер     0   \n",
       "\n",
       "       total_income                            purpose  \n",
       "2849           2609            покупка жилья для семьи  \n",
       "3290           2609                    сыграть свадьбу  \n",
       "4182           2609                            свадьба  \n",
       "4851           2609                            свадьба  \n",
       "5557           2609                    сыграть свадьбу  \n",
       "...             ...                                ...  \n",
       "20702          2609         дополнительное образование  \n",
       "21032          2609              заняться образованием  \n",
       "21132          2609                       ремонт жилью  \n",
       "21281          2609  покупка коммерческой недвижимости  \n",
       "21415          2609                  операции с жильем  \n",
       "\n",
       "[71 rows x 12 columns]"
      ]
     },
     "execution_count": 21,
     "metadata": {},
     "output_type": "execute_result"
    }
   ],
   "source": [
    "df[df.duplicated()].sort_values(by=['total_income', 'days_employed'])"
   ]
  },
  {
   "cell_type": "markdown",
   "metadata": {},
   "source": [
    "Похоже на задвоение данных"
   ]
  },
  {
   "cell_type": "markdown",
   "metadata": {},
   "source": [
    "Удалим пропуски из таблицы методом dropna() и восстановите индексы методом reset_index() c параметром drop, равным True."
   ]
  },
  {
   "cell_type": "code",
   "execution_count": 22,
   "metadata": {},
   "outputs": [],
   "source": [
    "df['total_income']=df['total_income'].drop_duplicates()\n",
    "df = df.dropna().reset_index(drop=True)"
   ]
  },
  {
   "cell_type": "code",
   "execution_count": 23,
   "metadata": {},
   "outputs": [],
   "source": [
    "df['days_employed']=df['days_employed'].drop_duplicates()\n",
    "df = df.dropna().reset_index(drop=True)"
   ]
  },
  {
   "cell_type": "markdown",
   "metadata": {},
   "source": [
    "Проверим заданные таблицы на наличие дубликатов."
   ]
  },
  {
   "cell_type": "code",
   "execution_count": 24,
   "metadata": {},
   "outputs": [
    {
     "name": "stdout",
     "output_type": "stream",
     "text": [
      "Дубликатов в таблице days_employed: 0\n"
     ]
    }
   ],
   "source": [
    "print ('Дубликатов в таблице days_employed:', df['days_employed'].duplicated().sum())"
   ]
  },
  {
   "cell_type": "code",
   "execution_count": 25,
   "metadata": {},
   "outputs": [
    {
     "name": "stdout",
     "output_type": "stream",
     "text": [
      "Дубликатов в таблице total_income: 0\n"
     ]
    }
   ],
   "source": [
    "print ('Дубликатов в таблице total_income:', df['total_income'].duplicated().sum())"
   ]
  },
  {
   "cell_type": "markdown",
   "metadata": {},
   "source": [
    "**Вывод**"
   ]
  },
  {
   "cell_type": "markdown",
   "metadata": {},
   "source": [
    "Дубликаты в данных устраненны."
   ]
  },
  {
   "cell_type": "markdown",
   "metadata": {},
   "source": [
    "### Лемматизация"
   ]
  },
  {
   "cell_type": "markdown",
   "metadata": {},
   "source": [
    "Мы можем выделить леммы в значениях столбца с целями получения кредита. \n",
    "\n",
    "Для этого мы будем использовать библиотеку с функцией лемматизации на русском языке — pymystem3, разработана сотрудниками Яндекса."
   ]
  },
  {
   "cell_type": "code",
   "execution_count": 26,
   "metadata": {},
   "outputs": [],
   "source": [
    "from pymystem3 import Mystem                  #импортируем библиотеку pymystem3\n",
    "m = Mystem() "
   ]
  },
  {
   "cell_type": "markdown",
   "metadata": {},
   "source": [
    "Выведем список уникальных целей"
   ]
  },
  {
   "cell_type": "code",
   "execution_count": 27,
   "metadata": {},
   "outputs": [
    {
     "name": "stdout",
     "output_type": "stream",
     "text": [
      "свадьба                                   311\n",
      "сыграть свадьбу                           310\n",
      "на проведение свадьбы                     310\n",
      "покупка жилья                             294\n",
      "операции с недвижимостью                  276\n",
      "покупка жилья для сдачи                   275\n",
      "покупка коммерческой недвижимости         270\n",
      "строительство жилой недвижимости          270\n",
      "покупка недвижимости                      268\n",
      "операции с коммерческой недвижимостью     266\n",
      "недвижимость                              265\n",
      "покупка своего жилья                      265\n",
      "жилье                                     265\n",
      "покупка жилья для семьи                   264\n",
      "строительство недвижимости                262\n",
      "операции с жильем                         261\n",
      "строительство собственной недвижимости    260\n",
      "операции со своей недвижимостью           256\n",
      "ремонт жилью                              242\n",
      "покупка жилой недвижимости                227\n",
      "автомобиль                                216\n",
      "на покупку подержанного автомобиля        203\n",
      "приобретение автомобиля                   203\n",
      "автомобили                                202\n",
      "заняться высшим образованием              202\n",
      "дополнительное образование                197\n",
      "высшее образование                        194\n",
      "на покупку автомобиля                     193\n",
      "получение дополнительного образования     192\n",
      "образование                               191\n",
      "сделка с подержанным автомобилем          190\n",
      "получение образования                     190\n",
      "свой автомобиль                           187\n",
      "профильное образование                    185\n",
      "получение высшего образования             184\n",
      "на покупку своего автомобиля              184\n",
      "сделка с автомобилем                      181\n",
      "заняться образованием                     173\n",
      "Name: purpose, dtype: int64\n"
     ]
    }
   ],
   "source": [
    "print(df['purpose'].value_counts())"
   ]
  },
  {
   "cell_type": "markdown",
   "metadata": {},
   "source": [
    "Нам нужно получить основы слов для корректной работы с таблицей purpose."
   ]
  },
  {
   "cell_type": "code",
   "execution_count": 28,
   "metadata": {},
   "outputs": [
    {
     "name": "stdout",
     "output_type": "stream",
     "text": [
      "[['покупка', ' ', 'жилье', '\\n'], ['приобретение', ' ', 'автомобиль', '\\n'], ['покупка', ' ', 'жилье', '\\n'], ['дополнительный', ' ', 'образование', '\\n'], ['сыграть', ' ', 'свадьба', '\\n'], ['покупка', ' ', 'жилье', '\\n'], ['операция', ' ', 'с', ' ', 'жилье', '\\n'], ['образование', '\\n'], ['на', ' ', 'проведение', ' ', 'свадьба', '\\n'], ['покупка', ' ', 'жилье', ' ', 'для', ' ', 'семья', '\\n'], ['покупка', ' ', 'недвижимость', '\\n'], ['покупка', ' ', 'коммерческий', ' ', 'недвижимость', '\\n'], ['сыграть', ' ', 'свадьба', '\\n'], ['приобретение', ' ', 'автомобиль', '\\n'], ['покупка', ' ', 'жилой', ' ', 'недвижимость', '\\n'], ['строительство', ' ', 'собственный', ' ', 'недвижимость', '\\n'], ['недвижимость', '\\n'], ['строительство', ' ', 'недвижимость', '\\n'], ['на', ' ', 'покупка', ' ', 'подержать', ' ', 'автомобиль', '\\n'], ['на', ' ', 'покупка', ' ', 'свой', ' ', 'автомобиль', '\\n'], ['недвижимость', '\\n'], ['приобретение', ' ', 'автомобиль', '\\n'], ['на', ' ', 'покупка', ' ', 'подержать', ' ', 'автомобиль', '\\n'], ['сыграть', ' ', 'свадьба', '\\n'], ['операция', ' ', 'с', ' ', 'коммерческий', ' ', 'недвижимость', '\\n'], ['покупка', ' ', 'недвижимость', '\\n'], ['строительство', ' ', 'собственный', ' ', 'недвижимость', '\\n'], ['строительство', ' ', 'собственный', ' ', 'недвижимость', '\\n'], ['операция', ' ', 'с', ' ', 'коммерческий', ' ', 'недвижимость', '\\n'], ['жилье', '\\n'], ['на', ' ', 'проведение', ' ', 'свадьба', '\\n'], ['покупка', ' ', 'жилье', '\\n'], ['операция', ' ', 'со', ' ', 'свой', ' ', 'недвижимость', '\\n'], ['на', ' ', 'проведение', ' ', 'свадьба', '\\n'], ['автомобиль', '\\n'], ['приобретение', ' ', 'автомобиль', '\\n'], ['образование', '\\n'], ['заниматься', ' ', 'образование', '\\n'], ['покупка', ' ', 'недвижимость', '\\n'], ['получение', ' ', 'образование', '\\n'], ['приобретение', ' ', 'автомобиль', '\\n'], ['на', ' ', 'покупка', ' ', 'свой', ' ', 'автомобиль', '\\n'], ['заниматься', ' ', 'образование', '\\n'], ['сделка', ' ', 'с', ' ', 'подержанный', ' ', 'автомобиль', '\\n'], ['на', ' ', 'проведение', ' ', 'свадьба', '\\n'], ['строительство', ' ', 'собственный', ' ', 'недвижимость', '\\n'], ['автомобиль', '\\n'], ['автомобиль', '\\n'], ['свадьба', '\\n'], ['получение', ' ', 'дополнительный', ' ', 'образование', '\\n'], ['покупка', ' ', 'свой', ' ', 'жилье', '\\n'], ['автомобиль', '\\n'], ['образование', '\\n'], ['образование', '\\n'], ['недвижимость', '\\n'], ['операция', ' ', 'с', ' ', 'недвижимость', '\\n'], ['заниматься', ' ', 'образование', '\\n'], ['покупка', ' ', 'недвижимость', '\\n'], ['получение', ' ', 'высокий', ' ', 'образование', '\\n'], ['операция', ' ', 'с', ' ', 'жилье', '\\n'], ['сделка', ' ', 'с', ' ', 'подержанный', ' ', 'автомобиль', '\\n'], ['заниматься', ' ', 'образование', '\\n'], ['операция', ' ', 'с', ' ', 'коммерческий', ' ', 'недвижимость', '\\n'], ['покупка', ' ', 'свой', ' ', 'жилье', '\\n'], ['покупка', ' ', 'коммерческий', ' ', 'недвижимость', '\\n'], ['автомобиль', '\\n'], ['заниматься', ' ', 'образование', '\\n'], ['покупка', ' ', 'жилье', ' ', 'для', ' ', 'семья', '\\n'], ['операция', ' ', 'с', ' ', 'недвижимость', '\\n'], ['на', ' ', 'покупка', ' ', 'подержать', ' ', 'автомобиль', '\\n'], ['свой', ' ', 'автомобиль', '\\n'], ['сделка', ' ', 'с', ' ', 'автомобиль', '\\n'], ['автомобиль', '\\n'], ['сделка', ' ', 'с', ' ', 'автомобиль', '\\n'], ['профильный', ' ', 'образование', '\\n'], ['операция', ' ', 'со', ' ', 'свой', ' ', 'недвижимость', '\\n'], ['высокий', ' ', 'образование', '\\n'], ['свадьба', '\\n'], ['покупка', ' ', 'жилье', ' ', 'для', ' ', 'сдача', '\\n'], ['на', ' ', 'проведение', ' ', 'свадьба', '\\n'], ['сделка', ' ', 'с', ' ', 'подержанный', ' ', 'автомобиль', '\\n'], ['покупка', ' ', 'недвижимость', '\\n'], ['сыграть', ' ', 'свадьба', '\\n'], ['сделка', ' ', 'с', ' ', 'автомобиль', '\\n'], ['автомобиль', '\\n'], ['покупка', ' ', 'жилье', ' ', 'для', ' ', 'сдача', '\\n'], ['автомобиль', '\\n'], ['операция', ' ', 'с', ' ', 'недвижимость', '\\n'], ['на', ' ', 'покупка', ' ', 'свой', ' ', 'автомобиль', '\\n'], ['на', ' ', 'покупка', ' ', 'подержать', ' ', 'автомобиль', '\\n'], ['строительство', ' ', 'недвижимость', '\\n'], ['покупка', ' ', 'жилье', ' ', 'для', ' ', 'сдача', '\\n'], ['строительство', ' ', 'собственный', ' ', 'недвижимость', '\\n'], ['образование', '\\n'], ['строительство', ' ', 'собственный', ' ', 'недвижимость', '\\n'], ['сделка', ' ', 'с', ' ', 'подержанный', ' ', 'автомобиль', '\\n'], ['образование', '\\n'], ['покупка', ' ', 'жилье', '\\n'], ['недвижимость', '\\n'], ['недвижимость', '\\n'], ['образование', '\\n'], ['операция', ' ', 'со', ' ', 'свой', ' ', 'недвижимость', '\\n'], ['операция', ' ', 'с', ' ', 'коммерческий', ' ', 'недвижимость', '\\n'], ['покупка', ' ', 'жилой', ' ', 'недвижимость', '\\n'], ['на', ' ', 'покупка', ' ', 'автомобиль', '\\n'], ['на', ' ', 'проведение', ' ', 'свадьба', '\\n'], ['покупка', ' ', 'коммерческий', ' ', 'недвижимость', '\\n'], ['автомобиль', '\\n'], ['покупка', ' ', 'жилье', ' ', 'для', ' ', 'сдача', '\\n'], ['операция', ' ', 'с', ' ', 'коммерческий', ' ', 'недвижимость', '\\n'], ['свадьба', '\\n'], ['строительство', ' ', 'собственный', ' ', 'недвижимость', '\\n'], ['строительство', ' ', 'жилой', ' ', 'недвижимость', '\\n'], ['сделка', ' ', 'с', ' ', 'автомобиль', '\\n'], ['автомобиль', '\\n'], ['операция', ' ', 'со', ' ', 'свой', ' ', 'недвижимость', '\\n'], ['получение', ' ', 'дополнительный', ' ', 'образование', '\\n'], ['автомобиль', '\\n'], ['образование', '\\n'], ['операция', ' ', 'со', ' ', 'свой', ' ', 'недвижимость', '\\n'], ['сыграть', ' ', 'свадьба', '\\n'], ['покупка', ' ', 'свой', ' ', 'жилье', '\\n'], ['ремонт', ' ', 'жилье', '\\n'], ['покупка', ' ', 'коммерческий', ' ', 'недвижимость', '\\n'], ['сделка', ' ', 'с', ' ', 'подержанный', ' ', 'автомобиль', '\\n'], ['строительство', ' ', 'собственный', ' ', 'недвижимость', '\\n'], ['свой', ' ', 'автомобиль', '\\n'], ['покупка', ' ', 'жилье', '\\n'], ['операция', ' ', 'с', ' ', 'недвижимость', '\\n'], ['на', ' ', 'покупка', ' ', 'свой', ' ', 'автомобиль', '\\n'], ['операция', ' ', 'с', ' ', 'жилье', '\\n'], ['сыграть', ' ', 'свадьба', '\\n'], ['сыграть', ' ', 'свадьба', '\\n'], ['покупка', ' ', 'свой', ' ', 'жилье', '\\n'], ['жилье', '\\n'], ['операция', ' ', 'с', ' ', 'коммерческий', ' ', 'недвижимость', '\\n'], ['дополнительный', ' ', 'образование', '\\n'], ['получение', ' ', 'дополнительный', ' ', 'образование', '\\n'], ['сделка', ' ', 'с', ' ', 'автомобиль', '\\n'], ['образование', '\\n'], ['на', ' ', 'покупка', ' ', 'свой', ' ', 'автомобиль', '\\n'], ['покупка', ' ', 'жилье', ' ', 'для', ' ', 'сдача', '\\n'], ['приобретение', ' ', 'автомобиль', '\\n'], ['получение', ' ', 'дополнительный', ' ', 'образование', '\\n'], ['ремонт', ' ', 'жилье', '\\n'], ['на', ' ', 'покупка', ' ', 'свой', ' ', 'автомобиль', '\\n'], ['покупка', ' ', 'жилье', '\\n'], ['операция', ' ', 'с', ' ', 'жилье', '\\n'], ['на', ' ', 'проведение', ' ', 'свадьба', '\\n'], ['покупка', ' ', 'свой', ' ', 'жилье', '\\n'], ['приобретение', ' ', 'автомобиль', '\\n'], ['жилье', '\\n'], ['на', ' ', 'проведение', ' ', 'свадьба', '\\n'], ['строительство', ' ', 'недвижимость', '\\n'], ['покупка', ' ', 'коммерческий', ' ', 'недвижимость', '\\n'], ['строительство', ' ', 'недвижимость', '\\n'], ['заниматься', ' ', 'высокий', ' ', 'образование', '\\n'], ['сделка', ' ', 'с', ' ', 'подержанный', ' ', 'автомобиль', '\\n'], ['приобретение', ' ', 'автомобиль', '\\n'], ['покупка', ' ', 'свой', ' ', 'жилье', '\\n'], ['сыграть', ' ', 'свадьба', '\\n'], ['свадьба', '\\n'], ['получение', ' ', 'дополнительный', ' ', 'образование', '\\n'], ['покупка', ' ', 'жилье', ' ', 'для', ' ', 'сдача', '\\n'], ['получение', ' ', 'дополнительный', ' ', 'образование', '\\n'], ['операция', ' ', 'с', ' ', 'коммерческий', ' ', 'недвижимость', '\\n'], ['высокий', ' ', 'образование', '\\n'], ['покупка', ' ', 'свой', ' ', 'жилье', '\\n'], ['высокий', ' ', 'образование', '\\n'], ['свой', ' ', 'автомобиль', '\\n'], ['на', ' ', 'покупка', ' ', 'подержать', ' ', 'автомобиль', '\\n'], ['получение', ' ', 'образование', '\\n'], ['дополнительный', ' ', 'образование', '\\n'], ['покупка', ' ', 'свой', ' ', 'жилье', '\\n'], ['покупка', ' ', 'недвижимость', '\\n'], ['на', ' ', 'покупка', ' ', 'свой', ' ', 'автомобиль', '\\n'], ['сделка', ' ', 'с', ' ', 'подержанный', ' ', 'автомобиль', '\\n'], ['строительство', ' ', 'недвижимость', '\\n'], ['покупка', ' ', 'жилой', ' ', 'недвижимость', '\\n'], ['покупка', ' ', 'жилой', ' ', 'недвижимость', '\\n'], ['строительство', ' ', 'собственный', ' ', 'недвижимость', '\\n'], ['строительство', ' ', 'жилой', ' ', 'недвижимость', '\\n'], ['получение', ' ', 'образование', '\\n'], ['покупка', ' ', 'свой', ' ', 'жилье', '\\n'], ['профильный', ' ', 'образование', '\\n'], ['операция', ' ', 'с', ' ', 'коммерческий', ' ', 'недвижимость', '\\n'], ['строительство', ' ', 'жилой', ' ', 'недвижимость', '\\n'], ['сделка', ' ', 'с', ' ', 'подержанный', ' ', 'автомобиль', '\\n'], ['приобретение', ' ', 'автомобиль', '\\n'], ['на', ' ', 'покупка', ' ', 'автомобиль', '\\n'], ['покупка', ' ', 'жилье', ' ', 'для', ' ', 'семья', '\\n'], ['операция', ' ', 'с', ' ', 'недвижимость', '\\n'], ['образование', '\\n'], ['строительство', ' ', 'собственный', ' ', 'недвижимость', '\\n'], ['на', ' ', 'покупка', ' ', 'свой', ' ', 'автомобиль', '\\n'], ['автомобиль', '\\n'], ['покупка', ' ', 'жилой', ' ', 'недвижимость', '\\n'], ['операция', ' ', 'с', ' ', 'коммерческий', ' ', 'недвижимость', '\\n'], ['покупка', ' ', 'свой', ' ', 'жилье', '\\n'], ['строительство', ' ', 'недвижимость', '\\n'], ['получение', ' ', 'высокий', ' ', 'образование', '\\n'], ['жилье', '\\n'], ['ремонт', ' ', 'жилье', '\\n'], ['сделка', ' ', 'с', ' ', 'подержанный', ' ', 'автомобиль', '\\n'], ['свадьба', '\\n'], ['покупка', ' ', 'жилье', ' ', 'для', ' ', 'семья', '\\n'], ['свадьба', '\\n'], ['на', ' ', 'покупка', ' ', 'автомобиль', '\\n'], ['профильный', ' ', 'образование', '\\n'], ['жилье', '\\n'], ['на', ' ', 'покупка', ' ', 'автомобиль', '\\n'], ['покупка', ' ', 'недвижимость', '\\n'], ['на', ' ', 'проведение', ' ', 'свадьба', '\\n'], ['операция', ' ', 'с', ' ', 'недвижимость', '\\n'], ['покупка', ' ', 'коммерческий', ' ', 'недвижимость', '\\n'], ['свадьба', '\\n'], ['высокий', ' ', 'образование', '\\n'], ['покупка', ' ', 'жилой', ' ', 'недвижимость', '\\n'], ['строительство', ' ', 'недвижимость', '\\n'], ['покупка', ' ', 'жилой', ' ', 'недвижимость', '\\n'], ['получение', ' ', 'высокий', ' ', 'образование', '\\n'], ['покупка', ' ', 'коммерческий', ' ', 'недвижимость', '\\n'], ['покупка', ' ', 'жилье', '\\n'], ['получение', ' ', 'высокий', ' ', 'образование', '\\n'], ['жилье', '\\n'], ['покупка', ' ', 'жилье', '\\n'], ['дополнительный', ' ', 'образование', '\\n'], ['операция', ' ', 'с', ' ', 'жилье', '\\n'], ['свадьба', '\\n'], ['свадьба', '\\n'], ['покупка', ' ', 'жилье', ' ', 'для', ' ', 'семья', '\\n'], ['операция', ' ', 'с', ' ', 'жилье', '\\n'], ['покупка', ' ', 'недвижимость', '\\n'], ['строительство', ' ', 'жилой', ' ', 'недвижимость', '\\n'], ['строительство', ' ', 'недвижимость', '\\n'], ['недвижимость', '\\n'], ['операция', ' ', 'с', ' ', 'коммерческий', ' ', 'недвижимость', '\\n'], ['покупка', ' ', 'жилье', '\\n'], ['на', ' ', 'покупка', ' ', 'подержать', ' ', 'автомобиль', '\\n'], ['ремонт', ' ', 'жилье', '\\n'], ['автомобиль', '\\n'], ['заниматься', ' ', 'образование', '\\n'], ['заниматься', ' ', 'высокий', ' ', 'образование', '\\n'], ['сыграть', ' ', 'свадьба', '\\n'], ['покупка', ' ', 'коммерческий', ' ', 'недвижимость', '\\n'], ['ремонт', ' ', 'жилье', '\\n'], ['сыграть', ' ', 'свадьба', '\\n'], ['ремонт', ' ', 'жилье', '\\n'], ['покупка', ' ', 'жилье', '\\n'], ['на', ' ', 'покупка', ' ', 'свой', ' ', 'автомобиль', '\\n'], ['автомобиль', '\\n'], ['заниматься', ' ', 'высокий', ' ', 'образование', '\\n'], ['на', ' ', 'покупка', ' ', 'подержать', ' ', 'автомобиль', '\\n'], ['покупка', ' ', 'свой', ' ', 'жилье', '\\n'], ['строительство', ' ', 'собственный', ' ', 'недвижимость', '\\n'], ['ремонт', ' ', 'жилье', '\\n'], ['получение', ' ', 'дополнительный', ' ', 'образование', '\\n'], ['профильный', ' ', 'образование', '\\n'], ['недвижимость', '\\n'], ['недвижимость', '\\n'], ['свадьба', '\\n'], ['на', ' ', 'покупка', ' ', 'подержать', ' ', 'автомобиль', '\\n'], ['покупка', ' ', 'жилье', ' ', 'для', ' ', 'сдача', '\\n'], ['строительство', ' ', 'недвижимость', '\\n'], ['сделка', ' ', 'с', ' ', 'подержанный', ' ', 'автомобиль', '\\n'], ['операция', ' ', 'с', ' ', 'коммерческий', ' ', 'недвижимость', '\\n'], ['на', ' ', 'проведение', ' ', 'свадьба', '\\n'], ['строительство', ' ', 'недвижимость', '\\n'], ['покупка', ' ', 'коммерческий', ' ', 'недвижимость', '\\n'], ['дополнительный', ' ', 'образование', '\\n'], ['операция', ' ', 'с', ' ', 'коммерческий', ' ', 'недвижимость', '\\n'], ['недвижимость', '\\n'], ['строительство', ' ', 'жилой', ' ', 'недвижимость', '\\n'], ['недвижимость', '\\n'], ['покупка', ' ', 'жилой', ' ', 'недвижимость', '\\n'], ['заниматься', ' ', 'высокий', ' ', 'образование', '\\n'], ['дополнительный', ' ', 'образование', '\\n'], ['покупка', ' ', 'недвижимость', '\\n'], ['образование', '\\n'], ['покупка', ' ', 'жилье', ' ', 'для', ' ', 'семья', '\\n'], ['свой', ' ', 'автомобиль', '\\n'], ['строительство', ' ', 'жилой', ' ', 'недвижимость', '\\n'], ['покупка', ' ', 'жилье', ' ', 'для', ' ', 'сдача', '\\n'], ['операция', ' ', 'с', ' ', 'коммерческий', ' ', 'недвижимость', '\\n'], ['покупка', ' ', 'жилой', ' ', 'недвижимость', '\\n'], ['покупка', ' ', 'недвижимость', '\\n'], ['покупка', ' ', 'коммерческий', ' ', 'недвижимость', '\\n'], ['покупка', ' ', 'жилой', ' ', 'недвижимость', '\\n'], ['покупка', ' ', 'жилье', '\\n'], ['свой', ' ', 'автомобиль', '\\n'], ['высокий', ' ', 'образование', '\\n'], ['на', ' ', 'покупка', ' ', 'подержать', ' ', 'автомобиль', '\\n'], ['свой', ' ', 'автомобиль', '\\n'], ['операция', ' ', 'с', ' ', 'недвижимость', '\\n'], ['строительство', ' ', 'недвижимость', '\\n'], ['автомобиль', '\\n'], ['операция', ' ', 'с', ' ', 'коммерческий', ' ', 'недвижимость', '\\n'], ['сделка', ' ', 'с', ' ', 'подержанный', ' ', 'автомобиль', '\\n'], ['покупка', ' ', 'коммерческий', ' ', 'недвижимость', '\\n'], ['сделка', ' ', 'с', ' ', 'автомобиль', '\\n'], ['сделка', ' ', 'с', ' ', 'автомобиль', '\\n'], ['покупка', ' ', 'жилье', '\\n'], ['операция', ' ', 'с', ' ', 'коммерческий', ' ', 'недвижимость', '\\n'], ['получение', ' ', 'образование', '\\n'], ['заниматься', ' ', 'высокий', ' ', 'образование', '\\n'], ['покупка', ' ', 'жилой', ' ', 'недвижимость', '\\n'], ['операция', ' ', 'с', ' ', 'жилье', '\\n'], ['на', ' ', 'проведение', ' ', 'свадьба', '\\n'], ['покупка', ' ', 'жилье', ' ', 'для', ' ', 'семья', '\\n'], ['покупка', ' ', 'коммерческий', ' ', 'недвижимость', '\\n'], ['автомобиль', '\\n'], ['строительство', ' ', 'собственный', ' ', 'недвижимость', '\\n'], ['покупка', ' ', 'жилой', ' ', 'недвижимость', '\\n'], ['приобретение', ' ', 'автомобиль', '\\n'], ['строительство', ' ', 'жилой', ' ', 'недвижимость', '\\n'], ['свадьба', '\\n'], ['жилье', '\\n'], ['покупка', ' ', 'жилье', ' ', 'для', ' ', 'сдача', '\\n'], ['покупка', ' ', 'жилье', ' ', 'для', ' ', 'сдача', '\\n'], ['покупка', ' ', 'жилой', ' ', 'недвижимость', '\\n'], ['свадьба', '\\n'], ['на', ' ', 'покупка', ' ', 'подержать', ' ', 'автомобиль', '\\n'], ['недвижимость', '\\n'], ['операция', ' ', 'с', ' ', 'недвижимость', '\\n'], ['автомобиль', '\\n'], ['недвижимость', '\\n'], ['получение', ' ', 'образование', '\\n'], ['покупка', ' ', 'недвижимость', '\\n'], ['на', ' ', 'покупка', ' ', 'подержать', ' ', 'автомобиль', '\\n'], ['жилье', '\\n'], ['ремонт', ' ', 'жилье', '\\n'], ['жилье', '\\n'], ['на', ' ', 'проведение', ' ', 'свадьба', '\\n'], ['покупка', ' ', 'жилье', '\\n'], ['сделка', ' ', 'с', ' ', 'подержанный', ' ', 'автомобиль', '\\n'], ['недвижимость', '\\n'], ['получение', ' ', 'образование', '\\n'], ['покупка', ' ', 'жилье', '\\n'], ['операция', ' ', 'с', ' ', 'жилье', '\\n'], ['автомобиль', '\\n'], ['покупка', ' ', 'недвижимость', '\\n'], ['покупка', ' ', 'свой', ' ', 'жилье', '\\n'], ['покупка', ' ', 'коммерческий', ' ', 'недвижимость', '\\n'], ['заниматься', ' ', 'высокий', ' ', 'образование', '\\n'], ['на', ' ', 'покупка', ' ', 'свой', ' ', 'автомобиль', '\\n'], ['недвижимость', '\\n'], ['жилье', '\\n'], ['образование', '\\n'], ['ремонт', ' ', 'жилье', '\\n'], ['операция', ' ', 'с', ' ', 'недвижимость', '\\n'], ['строительство', ' ', 'жилой', ' ', 'недвижимость', '\\n'], ['на', ' ', 'проведение', ' ', 'свадьба', '\\n'], ['на', ' ', 'проведение', ' ', 'свадьба', '\\n'], ['получение', ' ', 'высокий', ' ', 'образование', '\\n'], ['высокий', ' ', 'образование', '\\n'], ['сделка', ' ', 'с', ' ', 'подержанный', ' ', 'автомобиль', '\\n'], ['операция', ' ', 'со', ' ', 'свой', ' ', 'недвижимость', '\\n'], ['свадьба', '\\n'], ['операция', ' ', 'со', ' ', 'свой', ' ', 'недвижимость', '\\n'], ['свадьба', '\\n'], ['сыграть', ' ', 'свадьба', '\\n'], ['автомобиль', '\\n'], ['ремонт', ' ', 'жилье', '\\n'], ['покупка', ' ', 'жилье', ' ', 'для', ' ', 'сдача', '\\n'], ['ремонт', ' ', 'жилье', '\\n'], ['свадьба', '\\n'], ['приобретение', ' ', 'автомобиль', '\\n'], ['покупка', ' ', 'недвижимость', '\\n'], ['операция', ' ', 'со', ' ', 'свой', ' ', 'недвижимость', '\\n'], ['покупка', ' ', 'коммерческий', ' ', 'недвижимость', '\\n'], ['получение', ' ', 'высокий', ' ', 'образование', '\\n'], ['строительство', ' ', 'недвижимость', '\\n'], ['операция', ' ', 'с', ' ', 'жилье', '\\n'], ['операция', ' ', 'с', ' ', 'жилье', '\\n'], ['сыграть', ' ', 'свадьба', '\\n'], ['покупка', ' ', 'жилье', ' ', 'для', ' ', 'семья', '\\n'], ['покупка', ' ', 'жилье', ' ', 'для', ' ', 'семья', '\\n'], ['сыграть', ' ', 'свадьба', '\\n'], ['дополнительный', ' ', 'образование', '\\n'], ['на', ' ', 'покупка', ' ', 'подержать', ' ', 'автомобиль', '\\n'], ['покупка', ' ', 'жилье', ' ', 'для', ' ', 'сдача', '\\n'], ['сделка', ' ', 'с', ' ', 'подержанный', ' ', 'автомобиль', '\\n'], ['заниматься', ' ', 'высокий', ' ', 'образование', '\\n'], ['заниматься', ' ', 'высокий', ' ', 'образование', '\\n'], ['жилье', '\\n'], ['на', ' ', 'покупка', ' ', 'подержать', ' ', 'автомобиль', '\\n'], ['профильный', ' ', 'образование', '\\n'], ['получение', ' ', 'дополнительный', ' ', 'образование', '\\n'], ['покупка', ' ', 'жилье', '\\n'], ['автомобиль', '\\n'], ['на', ' ', 'проведение', ' ', 'свадьба', '\\n'], ['покупка', ' ', 'свой', ' ', 'жилье', '\\n'], ['недвижимость', '\\n'], ['жилье', '\\n'], ['строительство', ' ', 'жилой', ' ', 'недвижимость', '\\n'], ['на', ' ', 'покупка', ' ', 'автомобиль', '\\n'], ['на', ' ', 'проведение', ' ', 'свадьба', '\\n'], ['автомобиль', '\\n'], ['операция', ' ', 'с', ' ', 'коммерческий', ' ', 'недвижимость', '\\n'], ['строительство', ' ', 'собственный', ' ', 'недвижимость', '\\n'], ['профильный', ' ', 'образование', '\\n'], ['сыграть', ' ', 'свадьба', '\\n'], ['высокий', ' ', 'образование', '\\n'], ['покупка', ' ', 'жилье', ' ', 'для', ' ', 'семья', '\\n'], ['на', ' ', 'проведение', ' ', 'свадьба', '\\n'], ['строительство', ' ', 'собственный', ' ', 'недвижимость', '\\n'], ['покупка', ' ', 'недвижимость', '\\n'], ['операция', ' ', 'со', ' ', 'свой', ' ', 'недвижимость', '\\n'], ['на', ' ', 'покупка', ' ', 'свой', ' ', 'автомобиль', '\\n'], ['высокий', ' ', 'образование', '\\n'], ['получение', ' ', 'дополнительный', ' ', 'образование', '\\n'], ['на', ' ', 'покупка', ' ', 'подержать', ' ', 'автомобиль', '\\n'], ['недвижимость', '\\n'], ['недвижимость', '\\n'], ['свадьба', '\\n'], ['жилье', '\\n'], ['свой', ' ', 'автомобиль', '\\n'], ['жилье', '\\n'], ['покупка', ' ', 'жилой', ' ', 'недвижимость', '\\n'], ['на', ' ', 'покупка', ' ', 'автомобиль', '\\n'], ['автомобиль', '\\n'], ['строительство', ' ', 'недвижимость', '\\n'], ['на', ' ', 'проведение', ' ', 'свадьба', '\\n'], ['строительство', ' ', 'жилой', ' ', 'недвижимость', '\\n'], ['заниматься', ' ', 'высокий', ' ', 'образование', '\\n'], ['покупка', ' ', 'недвижимость', '\\n'], ['на', ' ', 'проведение', ' ', 'свадьба', '\\n'], ['покупка', ' ', 'жилой', ' ', 'недвижимость', '\\n'], ['приобретение', ' ', 'автомобиль', '\\n'], ['ремонт', ' ', 'жилье', '\\n'], ['образование', '\\n'], ['на', ' ', 'проведение', ' ', 'свадьба', '\\n'], ['строительство', ' ', 'жилой', ' ', 'недвижимость', '\\n'], ['покупка', ' ', 'жилой', ' ', 'недвижимость', '\\n'], ['профильный', ' ', 'образование', '\\n'], ['покупка', ' ', 'жилье', ' ', 'для', ' ', 'семья', '\\n'], ['свадьба', '\\n'], ['приобретение', ' ', 'автомобиль', '\\n'], ['высокий', ' ', 'образование', '\\n'], ['сыграть', ' ', 'свадьба', '\\n'], ['строительство', ' ', 'недвижимость', '\\n'], ['операция', ' ', 'со', ' ', 'свой', ' ', 'недвижимость', '\\n'], ['операция', ' ', 'с', ' ', 'коммерческий', ' ', 'недвижимость', '\\n'], ['автомобиль', '\\n'], ['операция', ' ', 'с', ' ', 'жилье', '\\n'], ['строительство', ' ', 'жилой', ' ', 'недвижимость', '\\n'], ['операция', ' ', 'с', ' ', 'коммерческий', ' ', 'недвижимость', '\\n'], ['покупка', ' ', 'свой', ' ', 'жилье', '\\n'], ['автомобиль', '\\n'], ['операция', ' ', 'с', ' ', 'жилье', '\\n'], ['автомобиль', '\\n'], ['покупка', ' ', 'жилье', '\\n'], ['на', ' ', 'покупка', ' ', 'подержать', ' ', 'автомобиль', '\\n'], ['покупка', ' ', 'коммерческий', ' ', 'недвижимость', '\\n'], ['недвижимость', '\\n'], ['сыграть', ' ', 'свадьба', '\\n'], ['строительство', ' ', 'недвижимость', '\\n'], ['строительство', ' ', 'недвижимость', '\\n'], ['сыграть', ' ', 'свадьба', '\\n'], ['сделка', ' ', 'с', ' ', 'подержанный', ' ', 'автомобиль', '\\n'], ['операция', ' ', 'с', ' ', 'коммерческий', ' ', 'недвижимость', '\\n'], ['операция', ' ', 'с', ' ', 'недвижимость', '\\n'], ['покупка', ' ', 'недвижимость', '\\n'], ['операция', ' ', 'с', ' ', 'коммерческий', ' ', 'недвижимость', '\\n'], ['строительство', ' ', 'жилой', ' ', 'недвижимость', '\\n'], ['строительство', ' ', 'недвижимость', '\\n'], ['получение', ' ', 'высокий', ' ', 'образование', '\\n'], ['операция', ' ', 'с', ' ', 'жилье', '\\n'], ['сыграть', ' ', 'свадьба', '\\n'], ['образование', '\\n'], ['образование', '\\n'], ['на', ' ', 'покупка', ' ', 'автомобиль', '\\n'], ['высокий', ' ', 'образование', '\\n'], ['операция', ' ', 'с', ' ', 'жилье', '\\n'], ['приобретение', ' ', 'автомобиль', '\\n'], ['сыграть', ' ', 'свадьба', '\\n'], ['на', ' ', 'покупка', ' ', 'свой', ' ', 'автомобиль', '\\n'], ['покупка', ' ', 'жилой', ' ', 'недвижимость', '\\n'], ['покупка', ' ', 'жилье', '\\n'], ['ремонт', ' ', 'жилье', '\\n'], ['недвижимость', '\\n'], ['жилье', '\\n'], ['покупка', ' ', 'коммерческий', ' ', 'недвижимость', '\\n'], ['сделка', ' ', 'с', ' ', 'автомобиль', '\\n'], ['на', ' ', 'покупка', ' ', 'автомобиль', '\\n'], ['покупка', ' ', 'недвижимость', '\\n'], ['на', ' ', 'покупка', ' ', 'подержать', ' ', 'автомобиль', '\\n'], ['покупка', ' ', 'жилье', '\\n'], ['покупка', ' ', 'коммерческий', ' ', 'недвижимость', '\\n'], ['сыграть', ' ', 'свадьба', '\\n'], ['на', ' ', 'проведение', ' ', 'свадьба', '\\n'], ['дополнительный', ' ', 'образование', '\\n'], ['строительство', ' ', 'жилой', ' ', 'недвижимость', '\\n'], ['операция', ' ', 'с', ' ', 'жилье', '\\n'], ['операция', ' ', 'с', ' ', 'жилье', '\\n'], ['профильный', ' ', 'образование', '\\n'], ['сделка', ' ', 'с', ' ', 'подержанный', ' ', 'автомобиль', '\\n'], ['образование', '\\n'], ['строительство', ' ', 'собственный', ' ', 'недвижимость', '\\n'], ['образование', '\\n'], ['дополнительный', ' ', 'образование', '\\n'], ['на', ' ', 'покупка', ' ', 'свой', ' ', 'автомобиль', '\\n'], ['на', ' ', 'проведение', ' ', 'свадьба', '\\n'], ['покупка', ' ', 'жилье', '\\n'], ['операция', ' ', 'со', ' ', 'свой', ' ', 'недвижимость', '\\n'], ['операция', ' ', 'с', ' ', 'недвижимость', '\\n'], ['строительство', ' ', 'недвижимость', '\\n'], ['на', ' ', 'покупка', ' ', 'автомобиль', '\\n'], ['операция', ' ', 'с', ' ', 'коммерческий', ' ', 'недвижимость', '\\n'], ['строительство', ' ', 'собственный', ' ', 'недвижимость', '\\n'], ['на', ' ', 'покупка', ' ', 'подержать', ' ', 'автомобиль', '\\n'], ['на', ' ', 'покупка', ' ', 'свой', ' ', 'автомобиль', '\\n'], ['сыграть', ' ', 'свадьба', '\\n'], ['сделка', ' ', 'с', ' ', 'подержанный', ' ', 'автомобиль', '\\n'], ['покупка', ' ', 'жилье', ' ', 'для', ' ', 'семья', '\\n'], ['покупка', ' ', 'жилье', '\\n'], ['покупка', ' ', 'жилье', ' ', 'для', ' ', 'семья', '\\n'], ['ремонт', ' ', 'жилье', '\\n'], ['строительство', ' ', 'недвижимость', '\\n'], ['покупка', ' ', 'жилье', ' ', 'для', ' ', 'семья', '\\n'], ['сыграть', ' ', 'свадьба', '\\n'], ['покупка', ' ', 'недвижимость', '\\n'], ['строительство', ' ', 'недвижимость', '\\n'], ['свой', ' ', 'автомобиль', '\\n'], ['сделка', ' ', 'с', ' ', 'автомобиль', '\\n'], ['операция', ' ', 'с', ' ', 'жилье', '\\n'], ['покупка', ' ', 'жилье', '\\n'], ['жилье', '\\n'], ['операция', ' ', 'с', ' ', 'коммерческий', ' ', 'недвижимость', '\\n'], ['операция', ' ', 'с', ' ', 'коммерческий', ' ', 'недвижимость', '\\n'], ['на', ' ', 'покупка', ' ', 'подержать', ' ', 'автомобиль', '\\n'], ['строительство', ' ', 'недвижимость', '\\n'], ['жилье', '\\n'], ['высокий', ' ', 'образование', '\\n'], ['операция', ' ', 'со', ' ', 'свой', ' ', 'недвижимость', '\\n'], ['строительство', ' ', 'жилой', ' ', 'недвижимость', '\\n'], ['покупка', ' ', 'жилье', ' ', 'для', ' ', 'сдача', '\\n'], ['заниматься', ' ', 'образование', '\\n'], ['на', ' ', 'покупка', ' ', 'подержать', ' ', 'автомобиль', '\\n'], ['дополнительный', ' ', 'образование', '\\n'], ['сыграть', ' ', 'свадьба', '\\n'], ['на', ' ', 'покупка', ' ', 'свой', ' ', 'автомобиль', '\\n'], ['приобретение', ' ', 'автомобиль', '\\n'], ['сыграть', ' ', 'свадьба', '\\n'], ['на', ' ', 'покупка', ' ', 'автомобиль', '\\n'], ['покупка', ' ', 'жилье', ' ', 'для', ' ', 'семья', '\\n'], ['профильный', ' ', 'образование', '\\n'], ['получение', ' ', 'образование', '\\n'], ['профильный', ' ', 'образование', '\\n'], ['покупка', ' ', 'свой', ' ', 'жилье', '\\n'], ['покупка', ' ', 'жилье', ' ', 'для', ' ', 'сдача', '\\n'], ['покупка', ' ', 'свой', ' ', 'жилье', '\\n'], ['сделка', ' ', 'с', ' ', 'подержанный', ' ', 'автомобиль', '\\n'], ['операция', ' ', 'со', ' ', 'свой', ' ', 'недвижимость', '\\n'], ['строительство', ' ', 'жилой', ' ', 'недвижимость', '\\n'], ['покупка', ' ', 'жилье', ' ', 'для', ' ', 'семья', '\\n'], ['операция', ' ', 'с', ' ', 'недвижимость', '\\n'], ['образование', '\\n'], ['строительство', ' ', 'жилой', ' ', 'недвижимость', '\\n'], ['заниматься', ' ', 'образование', '\\n'], ['на', ' ', 'покупка', ' ', 'автомобиль', '\\n'], ['на', ' ', 'проведение', ' ', 'свадьба', '\\n'], ['ремонт', ' ', 'жилье', '\\n'], ['приобретение', ' ', 'автомобиль', '\\n'], ['приобретение', ' ', 'автомобиль', '\\n'], ['ремонт', ' ', 'жилье', '\\n'], ['недвижимость', '\\n'], ['операция', ' ', 'с', ' ', 'жилье', '\\n'], ['покупка', ' ', 'жилье', '\\n'], ['автомобиль', '\\n'], ['профильный', ' ', 'образование', '\\n'], ['заниматься', ' ', 'образование', '\\n'], ['покупка', ' ', 'жилье', ' ', 'для', ' ', 'семья', '\\n'], ['строительство', ' ', 'недвижимость', '\\n'], ['покупка', ' ', 'жилье', ' ', 'для', ' ', 'сдача', '\\n'], ['операция', ' ', 'с', ' ', 'коммерческий', ' ', 'недвижимость', '\\n'], ['операция', ' ', 'с', ' ', 'недвижимость', '\\n'], ['получение', ' ', 'высокий', ' ', 'образование', '\\n'], ['приобретение', ' ', 'автомобиль', '\\n'], ['на', ' ', 'покупка', ' ', 'подержать', ' ', 'автомобиль', '\\n'], ['на', ' ', 'покупка', ' ', 'свой', ' ', 'автомобиль', '\\n'], ['покупка', ' ', 'коммерческий', ' ', 'недвижимость', '\\n'], ['на', ' ', 'проведение', ' ', 'свадьба', '\\n'], ['операция', ' ', 'с', ' ', 'жилье', '\\n'], ['недвижимость', '\\n'], ['сыграть', ' ', 'свадьба', '\\n'], ['недвижимость', '\\n'], ['покупка', ' ', 'жилье', ' ', 'для', ' ', 'семья', '\\n'], ['заниматься', ' ', 'высокий', ' ', 'образование', '\\n'], ['сыграть', ' ', 'свадьба', '\\n'], ['высокий', ' ', 'образование', '\\n'], ['образование', '\\n'], ['покупка', ' ', 'свой', ' ', 'жилье', '\\n'], ['на', ' ', 'проведение', ' ', 'свадьба', '\\n'], ['ремонт', ' ', 'жилье', '\\n'], ['свой', ' ', 'автомобиль', '\\n'], ['ремонт', ' ', 'жилье', '\\n'], ['покупка', ' ', 'жилье', ' ', 'для', ' ', 'сдача', '\\n'], ['свой', ' ', 'автомобиль', '\\n'], ['на', ' ', 'покупка', ' ', 'подержать', ' ', 'автомобиль', '\\n'], ['покупка', ' ', 'коммерческий', ' ', 'недвижимость', '\\n'], ['на', ' ', 'покупка', ' ', 'автомобиль', '\\n'], ['сделка', ' ', 'с', ' ', 'подержанный', ' ', 'автомобиль', '\\n'], ['получение', ' ', 'образование', '\\n'], ['покупка', ' ', 'жилье', ' ', 'для', ' ', 'сдача', '\\n'], ['высокий', ' ', 'образование', '\\n'], ['сделка', ' ', 'с', ' ', 'подержанный', ' ', 'автомобиль', '\\n'], ['покупка', ' ', 'жилье', '\\n'], ['приобретение', ' ', 'автомобиль', '\\n'], ['строительство', ' ', 'собственный', ' ', 'недвижимость', '\\n'], ['строительство', ' ', 'недвижимость', '\\n'], ['покупка', ' ', 'свой', ' ', 'жилье', '\\n'], ['получение', ' ', 'дополнительный', ' ', 'образование', '\\n'], ['операция', ' ', 'с', ' ', 'недвижимость', '\\n'], ['на', ' ', 'покупка', ' ', 'автомобиль', '\\n'], ['операция', ' ', 'с', ' ', 'жилье', '\\n'], ['покупка', ' ', 'коммерческий', ' ', 'недвижимость', '\\n'], ['операция', ' ', 'с', ' ', 'недвижимость', '\\n'], ['автомобиль', '\\n'], ['покупка', ' ', 'недвижимость', '\\n'], ['недвижимость', '\\n'], ['сделка', ' ', 'с', ' ', 'подержанный', ' ', 'автомобиль', '\\n'], ['свадьба', '\\n'], ['ремонт', ' ', 'жилье', '\\n'], ['заниматься', ' ', 'высокий', ' ', 'образование', '\\n'], ['получение', ' ', 'образование', '\\n'], ['операция', ' ', 'со', ' ', 'свой', ' ', 'недвижимость', '\\n'], ['заниматься', ' ', 'высокий', ' ', 'образование', '\\n'], ['недвижимость', '\\n'], ['операция', ' ', 'с', ' ', 'жилье', '\\n'], ['покупка', ' ', 'жилье', ' ', 'для', ' ', 'сдача', '\\n'], ['операция', ' ', 'с', ' ', 'жилье', '\\n'], ['покупка', ' ', 'жилье', '\\n'], ['образование', '\\n'], ['на', ' ', 'проведение', ' ', 'свадьба', '\\n'], ['автомобиль', '\\n'], ['дополнительный', ' ', 'образование', '\\n'], ['строительство', ' ', 'собственный', ' ', 'недвижимость', '\\n'], ['покупка', ' ', 'недвижимость', '\\n'], ['операция', ' ', 'с', ' ', 'жилье', '\\n'], ['покупка', ' ', 'жилье', '\\n'], ['операция', ' ', 'с', ' ', 'недвижимость', '\\n'], ['операция', ' ', 'с', ' ', 'коммерческий', ' ', 'недвижимость', '\\n'], ['операция', ' ', 'со', ' ', 'свой', ' ', 'недвижимость', '\\n'], ['свадьба', '\\n'], ['дополнительный', ' ', 'образование', '\\n'], ['покупка', ' ', 'недвижимость', '\\n'], ['покупка', ' ', 'жилой', ' ', 'недвижимость', '\\n'], ['свой', ' ', 'автомобиль', '\\n'], ['операция', ' ', 'со', ' ', 'свой', ' ', 'недвижимость', '\\n'], ['операция', ' ', 'с', ' ', 'коммерческий', ' ', 'недвижимость', '\\n'], ['покупка', ' ', 'жилье', ' ', 'для', ' ', 'сдача', '\\n'], ['заниматься', ' ', 'высокий', ' ', 'образование', '\\n'], ['покупка', ' ', 'жилье', ' ', 'для', ' ', 'сдача', '\\n'], ['жилье', '\\n'], ['ремонт', ' ', 'жилье', '\\n'], ['покупка', ' ', 'свой', ' ', 'жилье', '\\n'], ['операция', ' ', 'с', ' ', 'недвижимость', '\\n'], ['покупка', ' ', 'жилье', '\\n'], ['получение', ' ', 'дополнительный', ' ', 'образование', '\\n'], ['свой', ' ', 'автомобиль', '\\n'], ['профильный', ' ', 'образование', '\\n'], ['недвижимость', '\\n'], ['покупка', ' ', 'недвижимость', '\\n'], ['операция', ' ', 'с', ' ', 'недвижимость', '\\n'], ['высокий', ' ', 'образование', '\\n'], ['покупка', ' ', 'недвижимость', '\\n'], ['покупка', ' ', 'жилье', ' ', 'для', ' ', 'сдача', '\\n'], ['строительство', ' ', 'жилой', ' ', 'недвижимость', '\\n'], ['ремонт', ' ', 'жилье', '\\n'], ['покупка', ' ', 'жилье', ' ', 'для', ' ', 'сдача', '\\n'], ['покупка', ' ', 'жилой', ' ', 'недвижимость', '\\n'], ['приобретение', ' ', 'автомобиль', '\\n'], ['автомобиль', '\\n'], ['покупка', ' ', 'жилой', ' ', 'недвижимость', '\\n'], ['операция', ' ', 'со', ' ', 'свой', ' ', 'недвижимость', '\\n'], ['заниматься', ' ', 'образование', '\\n'], ['высокий', ' ', 'образование', '\\n'], ['свой', ' ', 'автомобиль', '\\n'], ['операция', ' ', 'со', ' ', 'свой', ' ', 'недвижимость', '\\n'], ['получение', ' ', 'дополнительный', ' ', 'образование', '\\n'], ['на', ' ', 'проведение', ' ', 'свадьба', '\\n'], ['получение', ' ', 'дополнительный', ' ', 'образование', '\\n'], ['свадьба', '\\n'], ['дополнительный', ' ', 'образование', '\\n'], ['операция', ' ', 'с', ' ', 'коммерческий', ' ', 'недвижимость', '\\n'], ['получение', ' ', 'образование', '\\n'], ['покупка', ' ', 'коммерческий', ' ', 'недвижимость', '\\n'], ['получение', ' ', 'дополнительный', ' ', 'образование', '\\n'], ['операция', ' ', 'с', ' ', 'недвижимость', '\\n'], ['жилье', '\\n'], ['автомобиль', '\\n'], ['покупка', ' ', 'коммерческий', ' ', 'недвижимость', '\\n'], ['автомобиль', '\\n'], ['автомобиль', '\\n'], ['на', ' ', 'покупка', ' ', 'автомобиль', '\\n'], ['сыграть', ' ', 'свадьба', '\\n'], ['ремонт', ' ', 'жилье', '\\n'], ['получение', ' ', 'высокий', ' ', 'образование', '\\n'], ['автомобиль', '\\n'], ['на', ' ', 'проведение', ' ', 'свадьба', '\\n'], ['профильный', ' ', 'образование', '\\n'], ['строительство', ' ', 'жилой', ' ', 'недвижимость', '\\n'], ['покупка', ' ', 'коммерческий', ' ', 'недвижимость', '\\n'], ['операция', ' ', 'с', ' ', 'недвижимость', '\\n'], ['покупка', ' ', 'жилье', ' ', 'для', ' ', 'семья', '\\n'], ['строительство', ' ', 'собственный', ' ', 'недвижимость', '\\n'], ['получение', ' ', 'образование', '\\n'], ['автомобиль', '\\n'], ['покупка', ' ', 'жилье', '\\n'], ['строительство', ' ', 'жилой', ' ', 'недвижимость', '\\n'], ['высокий', ' ', 'образование', '\\n'], ['покупка', ' ', 'жилье', ' ', 'для', ' ', 'семья', '\\n'], ['покупка', ' ', 'жилье', '\\n'], ['строительство', ' ', 'недвижимость', '\\n'], ['заниматься', ' ', 'высокий', ' ', 'образование', '\\n'], ['жилье', '\\n'], ['недвижимость', '\\n'], ['на', ' ', 'покупка', ' ', 'автомобиль', '\\n'], ['приобретение', ' ', 'автомобиль', '\\n'], ['строительство', ' ', 'недвижимость', '\\n'], ['покупка', ' ', 'коммерческий', ' ', 'недвижимость', '\\n'], ['жилье', '\\n'], ['на', ' ', 'покупка', ' ', 'подержать', ' ', 'автомобиль', '\\n'], ['строительство', ' ', 'недвижимость', '\\n'], ['получение', ' ', 'дополнительный', ' ', 'образование', '\\n'], ['операция', ' ', 'с', ' ', 'недвижимость', '\\n'], ['строительство', ' ', 'жилой', ' ', 'недвижимость', '\\n'], ['строительство', ' ', 'жилой', ' ', 'недвижимость', '\\n'], ['покупка', ' ', 'жилье', ' ', 'для', ' ', 'семья', '\\n'], ['покупка', ' ', 'свой', ' ', 'жилье', '\\n'], ['операция', ' ', 'с', ' ', 'коммерческий', ' ', 'недвижимость', '\\n'], ['на', ' ', 'покупка', ' ', 'автомобиль', '\\n'], ['операция', ' ', 'с', ' ', 'жилье', '\\n'], ['недвижимость', '\\n'], ['ремонт', ' ', 'жилье', '\\n'], ['покупка', ' ', 'жилой', ' ', 'недвижимость', '\\n'], ['приобретение', ' ', 'автомобиль', '\\n'], ['ремонт', ' ', 'жилье', '\\n'], ['высокий', ' ', 'образование', '\\n'], ['на', ' ', 'покупка', ' ', 'свой', ' ', 'автомобиль', '\\n'], ['профильный', ' ', 'образование', '\\n'], ['покупка', ' ', 'жилой', ' ', 'недвижимость', '\\n'], ['сделка', ' ', 'с', ' ', 'подержанный', ' ', 'автомобиль', '\\n'], ['заниматься', ' ', 'высокий', ' ', 'образование', '\\n'], ['жилье', '\\n'], ['строительство', ' ', 'недвижимость', '\\n'], ['ремонт', ' ', 'жилье', '\\n'], ['покупка', ' ', 'жилье', '\\n'], ['получение', ' ', 'дополнительный', ' ', 'образование', '\\n'], ['на', ' ', 'покупка', ' ', 'подержать', ' ', 'автомобиль', '\\n'], ['сделка', ' ', 'с', ' ', 'подержанный', ' ', 'автомобиль', '\\n'], ['строительство', ' ', 'жилой', ' ', 'недвижимость', '\\n'], ['получение', ' ', 'высокий', ' ', 'образование', '\\n'], ['на', ' ', 'покупка', ' ', 'свой', ' ', 'автомобиль', '\\n'], ['свадьба', '\\n'], ['операция', ' ', 'с', ' ', 'коммерческий', ' ', 'недвижимость', '\\n'], ['покупка', ' ', 'коммерческий', ' ', 'недвижимость', '\\n'], ['покупка', ' ', 'коммерческий', ' ', 'недвижимость', '\\n'], ['операция', ' ', 'с', ' ', 'недвижимость', '\\n'], ['на', ' ', 'покупка', ' ', 'автомобиль', '\\n'], ['строительство', ' ', 'жилой', ' ', 'недвижимость', '\\n'], ['получение', ' ', 'образование', '\\n'], ['покупка', ' ', 'жилье', ' ', 'для', ' ', 'сдача', '\\n'], ['строительство', ' ', 'жилой', ' ', 'недвижимость', '\\n'], ['автомобиль', '\\n'], ['сыграть', ' ', 'свадьба', '\\n'], ['получение', ' ', 'образование', '\\n'], ['покупка', ' ', 'жилье', '\\n'], ['на', ' ', 'покупка', ' ', 'свой', ' ', 'автомобиль', '\\n'], ['свадьба', '\\n'], ['получение', ' ', 'образование', '\\n'], ['сыграть', ' ', 'свадьба', '\\n'], ['ремонт', ' ', 'жилье', '\\n'], ['автомобиль', '\\n'], ['строительство', ' ', 'жилой', ' ', 'недвижимость', '\\n'], ['на', ' ', 'проведение', ' ', 'свадьба', '\\n'], ['покупка', ' ', 'недвижимость', '\\n'], ['сделка', ' ', 'с', ' ', 'автомобиль', '\\n'], ['на', ' ', 'покупка', ' ', 'свой', ' ', 'автомобиль', '\\n'], ['покупка', ' ', 'свой', ' ', 'жилье', '\\n'], ['на', ' ', 'покупка', ' ', 'свой', ' ', 'автомобиль', '\\n'], ['заниматься', ' ', 'образование', '\\n'], ['операция', ' ', 'с', ' ', 'жилье', '\\n'], ['получение', ' ', 'дополнительный', ' ', 'образование', '\\n'], ['покупка', ' ', 'недвижимость', '\\n'], ['свадьба', '\\n'], ['на', ' ', 'покупка', ' ', 'свой', ' ', 'автомобиль', '\\n'], ['свадьба', '\\n'], ['заниматься', ' ', 'образование', '\\n'], ['покупка', ' ', 'коммерческий', ' ', 'недвижимость', '\\n'], ['на', ' ', 'покупка', ' ', 'автомобиль', '\\n'], ['сыграть', ' ', 'свадьба', '\\n'], ['дополнительный', ' ', 'образование', '\\n'], ['строительство', ' ', 'недвижимость', '\\n'], ['операция', ' ', 'с', ' ', 'жилье', '\\n'], ['недвижимость', '\\n'], ['заниматься', ' ', 'образование', '\\n'], ['получение', ' ', 'дополнительный', ' ', 'образование', '\\n'], ['на', ' ', 'проведение', ' ', 'свадьба', '\\n'], ['сыграть', ' ', 'свадьба', '\\n'], ['покупка', ' ', 'жилье', '\\n'], ['покупка', ' ', 'жилье', ' ', 'для', ' ', 'семья', '\\n'], ['операция', ' ', 'с', ' ', 'коммерческий', ' ', 'недвижимость', '\\n'], ['приобретение', ' ', 'автомобиль', '\\n'], ['профильный', ' ', 'образование', '\\n'], ['высокий', ' ', 'образование', '\\n'], ['свадьба', '\\n'], ['строительство', ' ', 'собственный', ' ', 'недвижимость', '\\n'], ['на', ' ', 'покупка', ' ', 'свой', ' ', 'автомобиль', '\\n'], ['покупка', ' ', 'жилье', '\\n'], ['ремонт', ' ', 'жилье', '\\n'], ['приобретение', ' ', 'автомобиль', '\\n'], ['жилье', '\\n'], ['покупка', ' ', 'коммерческий', ' ', 'недвижимость', '\\n'], ['получение', ' ', 'высокий', ' ', 'образование', '\\n'], ['строительство', ' ', 'жилой', ' ', 'недвижимость', '\\n'], ['покупка', ' ', 'жилье', ' ', 'для', ' ', 'семья', '\\n'], ['покупка', ' ', 'недвижимость', '\\n'], ['автомобиль', '\\n'], ['операция', ' ', 'с', ' ', 'жилье', '\\n'], ['автомобиль', '\\n'], ['сделка', ' ', 'с', ' ', 'подержанный', ' ', 'автомобиль', '\\n'], ['покупка', ' ', 'жилье', ' ', 'для', ' ', 'сдача', '\\n'], ['строительство', ' ', 'недвижимость', '\\n'], ['сделка', ' ', 'с', ' ', 'автомобиль', '\\n'], ['приобретение', ' ', 'автомобиль', '\\n'], ['свой', ' ', 'автомобиль', '\\n'], ['заниматься', ' ', 'образование', '\\n'], ['на', ' ', 'проведение', ' ', 'свадьба', '\\n'], ['покупка', ' ', 'недвижимость', '\\n'], ['жилье', '\\n'], ['на', ' ', 'покупка', ' ', 'автомобиль', '\\n'], ['покупка', ' ', 'недвижимость', '\\n'], ['ремонт', ' ', 'жилье', '\\n'], ['профильный', ' ', 'образование', '\\n'], ['профильный', ' ', 'образование', '\\n'], ['покупка', ' ', 'жилье', '\\n'], ['получение', ' ', 'дополнительный', ' ', 'образование', '\\n'], ['на', ' ', 'проведение', ' ', 'свадьба', '\\n'], ['сделка', ' ', 'с', ' ', 'автомобиль', '\\n'], ['сыграть', ' ', 'свадьба', '\\n'], ['заниматься', ' ', 'образование', '\\n'], ['покупка', ' ', 'коммерческий', ' ', 'недвижимость', '\\n'], ['получение', ' ', 'высокий', ' ', 'образование', '\\n'], ['операция', ' ', 'с', ' ', 'недвижимость', '\\n'], ['получение', ' ', 'дополнительный', ' ', 'образование', '\\n'], ['покупка', ' ', 'жилье', ' ', 'для', ' ', 'сдача', '\\n'], ['ремонт', ' ', 'жилье', '\\n'], ['операция', ' ', 'со', ' ', 'свой', ' ', 'недвижимость', '\\n'], ['операция', ' ', 'с', ' ', 'недвижимость', '\\n'], ['покупка', ' ', 'жилье', ' ', 'для', ' ', 'семья', '\\n'], ['операция', ' ', 'с', ' ', 'жилье', '\\n'], ['жилье', '\\n'], ['покупка', ' ', 'жилье', '\\n'], ['на', ' ', 'проведение', ' ', 'свадьба', '\\n'], ['покупка', ' ', 'жилье', '\\n'], ['строительство', ' ', 'собственный', ' ', 'недвижимость', '\\n'], ['свадьба', '\\n'], ['покупка', ' ', 'недвижимость', '\\n'], ['строительство', ' ', 'недвижимость', '\\n'], ['покупка', ' ', 'жилье', ' ', 'для', ' ', 'семья', '\\n'], ['покупка', ' ', 'жилье', ' ', 'для', ' ', 'семья', '\\n'], ['автомобиль', '\\n'], ['получение', ' ', 'высокий', ' ', 'образование', '\\n'], ['сыграть', ' ', 'свадьба', '\\n'], ['на', ' ', 'покупка', ' ', 'подержать', ' ', 'автомобиль', '\\n'], ['строительство', ' ', 'недвижимость', '\\n'], ['на', ' ', 'проведение', ' ', 'свадьба', '\\n'], ['покупка', ' ', 'жилье', '\\n'], ['на', ' ', 'проведение', ' ', 'свадьба', '\\n'], ['покупка', ' ', 'жилой', ' ', 'недвижимость', '\\n'], ['автомобиль', '\\n'], ['жилье', '\\n'], ['высокий', ' ', 'образование', '\\n'], ['операция', ' ', 'с', ' ', 'недвижимость', '\\n'], ['на', ' ', 'проведение', ' ', 'свадьба', '\\n'], ['строительство', ' ', 'недвижимость', '\\n'], ['покупка', ' ', 'жилье', ' ', 'для', ' ', 'семья', '\\n'], ['свой', ' ', 'автомобиль', '\\n'], ['операция', ' ', 'с', ' ', 'коммерческий', ' ', 'недвижимость', '\\n'], ['покупка', ' ', 'жилой', ' ', 'недвижимость', '\\n'], ['дополнительный', ' ', 'образование', '\\n'], ['получение', ' ', 'высокий', ' ', 'образование', '\\n'], ['покупка', ' ', 'жилье', ' ', 'для', ' ', 'сдача', '\\n'], ['получение', ' ', 'образование', '\\n'], ['покупка', ' ', 'жилой', ' ', 'недвижимость', '\\n'], ['покупка', ' ', 'жилье', ' ', 'для', ' ', 'сдача', '\\n'], ['покупка', ' ', 'жилой', ' ', 'недвижимость', '\\n'], ['строительство', ' ', 'собственный', ' ', 'недвижимость', '\\n'], ['покупка', ' ', 'коммерческий', ' ', 'недвижимость', '\\n'], ['сделка', ' ', 'с', ' ', 'подержанный', ' ', 'автомобиль', '\\n'], ['свой', ' ', 'автомобиль', '\\n'], ['покупка', ' ', 'коммерческий', ' ', 'недвижимость', '\\n'], ['свадьба', '\\n'], ['операция', ' ', 'с', ' ', 'коммерческий', ' ', 'недвижимость', '\\n'], ['операция', ' ', 'с', ' ', 'коммерческий', ' ', 'недвижимость', '\\n'], ['ремонт', ' ', 'жилье', '\\n'], ['недвижимость', '\\n'], ['недвижимость', '\\n'], ['на', ' ', 'проведение', ' ', 'свадьба', '\\n'], ['покупка', ' ', 'жилье', '\\n'], ['операция', ' ', 'с', ' ', 'недвижимость', '\\n'], ['профильный', ' ', 'образование', '\\n'], ['покупка', ' ', 'жилье', '\\n'], ['получение', ' ', 'образование', '\\n'], ['покупка', ' ', 'жилье', '\\n'], ['на', ' ', 'покупка', ' ', 'автомобиль', '\\n'], ['получение', ' ', 'дополнительный', ' ', 'образование', '\\n'], ['автомобиль', '\\n'], ['операция', ' ', 'с', ' ', 'жилье', '\\n'], ['получение', ' ', 'дополнительный', ' ', 'образование', '\\n'], ['заниматься', ' ', 'образование', '\\n'], ['строительство', ' ', 'недвижимость', '\\n'], ['покупка', ' ', 'жилье', ' ', 'для', ' ', 'сдача', '\\n'], ['автомобиль', '\\n'], ['получение', ' ', 'высокий', ' ', 'образование', '\\n'], ['покупка', ' ', 'жилой', ' ', 'недвижимость', '\\n'], ['получение', ' ', 'дополнительный', ' ', 'образование', '\\n'], ['недвижимость', '\\n'], ['сыграть', ' ', 'свадьба', '\\n'], ['на', ' ', 'проведение', ' ', 'свадьба', '\\n'], ['профильный', ' ', 'образование', '\\n'], ['жилье', '\\n'], ['строительство', ' ', 'недвижимость', '\\n'], ['свадьба', '\\n'], ['сыграть', ' ', 'свадьба', '\\n'], ['на', ' ', 'проведение', ' ', 'свадьба', '\\n'], ['приобретение', ' ', 'автомобиль', '\\n'], ['приобретение', ' ', 'автомобиль', '\\n'], ['строительство', ' ', 'собственный', ' ', 'недвижимость', '\\n'], ['ремонт', ' ', 'жилье', '\\n'], ['операция', ' ', 'со', ' ', 'свой', ' ', 'недвижимость', '\\n'], ['заниматься', ' ', 'высокий', ' ', 'образование', '\\n'], ['свадьба', '\\n'], ['покупка', ' ', 'жилье', ' ', 'для', ' ', 'семья', '\\n'], ['строительство', ' ', 'собственный', ' ', 'недвижимость', '\\n'], ['покупка', ' ', 'жилье', ' ', 'для', ' ', 'семья', '\\n'], ['покупка', ' ', 'недвижимость', '\\n'], ['покупка', ' ', 'жилье', ' ', 'для', ' ', 'семья', '\\n'], ['профильный', ' ', 'образование', '\\n'], ['покупка', ' ', 'свой', ' ', 'жилье', '\\n'], ['строительство', ' ', 'недвижимость', '\\n'], ['недвижимость', '\\n'], ['сделка', ' ', 'с', ' ', 'автомобиль', '\\n'], ['свой', ' ', 'автомобиль', '\\n'], ['приобретение', ' ', 'автомобиль', '\\n'], ['на', ' ', 'проведение', ' ', 'свадьба', '\\n'], ['на', ' ', 'проведение', ' ', 'свадьба', '\\n'], ['сделка', ' ', 'с', ' ', 'подержанный', ' ', 'автомобиль', '\\n'], ['покупка', ' ', 'свой', ' ', 'жилье', '\\n'], ['высокий', ' ', 'образование', '\\n'], ['покупка', ' ', 'жилой', ' ', 'недвижимость', '\\n'], ['операция', ' ', 'с', ' ', 'жилье', '\\n'], ['свой', ' ', 'автомобиль', '\\n'], ['высокий', ' ', 'образование', '\\n'], ['сделка', ' ', 'с', ' ', 'подержанный', ' ', 'автомобиль', '\\n'], ['свой', ' ', 'автомобиль', '\\n'], ['свадьба', '\\n'], ['на', ' ', 'покупка', ' ', 'свой', ' ', 'автомобиль', '\\n'], ['покупка', ' ', 'недвижимость', '\\n'], ['ремонт', ' ', 'жилье', '\\n'], ['покупка', ' ', 'жилье', ' ', 'для', ' ', 'сдача', '\\n'], ['на', ' ', 'покупка', ' ', 'подержать', ' ', 'автомобиль', '\\n'], ['жилье', '\\n'], ['на', ' ', 'проведение', ' ', 'свадьба', '\\n'], ['на', ' ', 'покупка', ' ', 'автомобиль', '\\n'], ['жилье', '\\n'], ['приобретение', ' ', 'автомобиль', '\\n'], ['сделка', ' ', 'с', ' ', 'автомобиль', '\\n'], ['покупка', ' ', 'свой', ' ', 'жилье', '\\n'], ['дополнительный', ' ', 'образование', '\\n'], ['автомобиль', '\\n'], ['на', ' ', 'проведение', ' ', 'свадьба', '\\n'], ['ремонт', ' ', 'жилье', '\\n'], ['сыграть', ' ', 'свадьба', '\\n'], ['операция', ' ', 'с', ' ', 'коммерческий', ' ', 'недвижимость', '\\n'], ['операция', ' ', 'с', ' ', 'коммерческий', ' ', 'недвижимость', '\\n'], ['операция', ' ', 'с', ' ', 'коммерческий', ' ', 'недвижимость', '\\n'], ['жилье', '\\n'], ['покупка', ' ', 'недвижимость', '\\n'], ['автомобиль', '\\n'], ['операция', ' ', 'с', ' ', 'недвижимость', '\\n'], ['получение', ' ', 'дополнительный', ' ', 'образование', '\\n'], ['покупка', ' ', 'свой', ' ', 'жилье', '\\n'], ['сделка', ' ', 'с', ' ', 'подержанный', ' ', 'автомобиль', '\\n'], ['строительство', ' ', 'жилой', ' ', 'недвижимость', '\\n'], ['недвижимость', '\\n'], ['получение', ' ', 'дополнительный', ' ', 'образование', '\\n'], ['покупка', ' ', 'жилье', ' ', 'для', ' ', 'семья', '\\n'], ['покупка', ' ', 'коммерческий', ' ', 'недвижимость', '\\n'], ['на', ' ', 'проведение', ' ', 'свадьба', '\\n'], ['строительство', ' ', 'недвижимость', '\\n'], ['операция', ' ', 'со', ' ', 'свой', ' ', 'недвижимость', '\\n'], ['покупка', ' ', 'свой', ' ', 'жилье', '\\n'], ['дополнительный', ' ', 'образование', '\\n'], ['операция', ' ', 'с', ' ', 'недвижимость', '\\n'], ['свадьба', '\\n'], ['строительство', ' ', 'собственный', ' ', 'недвижимость', '\\n'], ['строительство', ' ', 'недвижимость', '\\n'], ['строительство', ' ', 'жилой', ' ', 'недвижимость', '\\n'], ['получение', ' ', 'высокий', ' ', 'образование', '\\n'], ['покупка', ' ', 'жилье', ' ', 'для', ' ', 'семья', '\\n'], ['на', ' ', 'покупка', ' ', 'подержать', ' ', 'автомобиль', '\\n'], ['на', ' ', 'проведение', ' ', 'свадьба', '\\n'], ['покупка', ' ', 'жилье', ' ', 'для', ' ', 'семья', '\\n'], ['операция', ' ', 'с', ' ', 'жилье', '\\n'], ['операция', ' ', 'с', ' ', 'коммерческий', ' ', 'недвижимость', '\\n'], ['на', ' ', 'покупка', ' ', 'подержать', ' ', 'автомобиль', '\\n'], ['покупка', ' ', 'жилье', ' ', 'для', ' ', 'семья', '\\n'], ['профильный', ' ', 'образование', '\\n'], ['сыграть', ' ', 'свадьба', '\\n'], ['операция', ' ', 'с', ' ', 'жилье', '\\n'], ['строительство', ' ', 'собственный', ' ', 'недвижимость', '\\n'], ['покупка', ' ', 'коммерческий', ' ', 'недвижимость', '\\n'], ['покупка', ' ', 'недвижимость', '\\n'], ['сделка', ' ', 'с', ' ', 'автомобиль', '\\n'], ['операция', ' ', 'со', ' ', 'свой', ' ', 'недвижимость', '\\n'], ['покупка', ' ', 'жилье', ' ', 'для', ' ', 'семья', '\\n'], ['строительство', ' ', 'недвижимость', '\\n'], ['сыграть', ' ', 'свадьба', '\\n'], ['заниматься', ' ', 'высокий', ' ', 'образование', '\\n'], ['сделка', ' ', 'с', ' ', 'автомобиль', '\\n'], ['строительство', ' ', 'собственный', ' ', 'недвижимость', '\\n'], ['высокий', ' ', 'образование', '\\n'], ['жилье', '\\n'], ['автомобиль', '\\n'], ['покупка', ' ', 'жилой', ' ', 'недвижимость', '\\n'], ['строительство', ' ', 'жилой', ' ', 'недвижимость', '\\n'], ['операция', ' ', 'с', ' ', 'жилье', '\\n'], ['покупка', ' ', 'жилье', ' ', 'для', ' ', 'семья', '\\n'], ['сыграть', ' ', 'свадьба', '\\n'], ['покупка', ' ', 'коммерческий', ' ', 'недвижимость', '\\n'], ['получение', ' ', 'высокий', ' ', 'образование', '\\n'], ['жилье', '\\n'], ['покупка', ' ', 'свой', ' ', 'жилье', '\\n'], ['на', ' ', 'покупка', ' ', 'подержать', ' ', 'автомобиль', '\\n'], ['покупка', ' ', 'жилье', '\\n'], ['операция', ' ', 'с', ' ', 'коммерческий', ' ', 'недвижимость', '\\n'], ['покупка', ' ', 'свой', ' ', 'жилье', '\\n'], ['строительство', ' ', 'жилой', ' ', 'недвижимость', '\\n'], ['на', ' ', 'покупка', ' ', 'автомобиль', '\\n'], ['получение', ' ', 'образование', '\\n'], ['операция', ' ', 'с', ' ', 'недвижимость', '\\n'], ['дополнительный', ' ', 'образование', '\\n'], ['покупка', ' ', 'недвижимость', '\\n'], ['покупка', ' ', 'жилье', '\\n'], ['покупка', ' ', 'жилье', ' ', 'для', ' ', 'сдача', '\\n'], ['операция', ' ', 'с', ' ', 'недвижимость', '\\n'], ['свадьба', '\\n'], ['строительство', ' ', 'собственный', ' ', 'недвижимость', '\\n'], ['покупка', ' ', 'свой', ' ', 'жилье', '\\n'], ['ремонт', ' ', 'жилье', '\\n'], ['операция', ' ', 'с', ' ', 'жилье', '\\n'], ['заниматься', ' ', 'образование', '\\n'], ['строительство', ' ', 'собственный', ' ', 'недвижимость', '\\n'], ['операция', ' ', 'со', ' ', 'свой', ' ', 'недвижимость', '\\n'], ['сыграть', ' ', 'свадьба', '\\n'], ['приобретение', ' ', 'автомобиль', '\\n'], ['жилье', '\\n'], ['жилье', '\\n'], ['заниматься', ' ', 'высокий', ' ', 'образование', '\\n'], ['покупка', ' ', 'жилье', '\\n'], ['покупка', ' ', 'коммерческий', ' ', 'недвижимость', '\\n'], ['ремонт', ' ', 'жилье', '\\n'], ['покупка', ' ', 'свой', ' ', 'жилье', '\\n'], ['свадьба', '\\n'], ['операция', ' ', 'с', ' ', 'недвижимость', '\\n'], ['операция', ' ', 'с', ' ', 'коммерческий', ' ', 'недвижимость', '\\n'], ['строительство', ' ', 'собственный', ' ', 'недвижимость', '\\n'], ['строительство', ' ', 'собственный', ' ', 'недвижимость', '\\n'], ['на', ' ', 'покупка', ' ', 'свой', ' ', 'автомобиль', '\\n'], ['покупка', ' ', 'коммерческий', ' ', 'недвижимость', '\\n'], ['строительство', ' ', 'собственный', ' ', 'недвижимость', '\\n'], ['операция', ' ', 'со', ' ', 'свой', ' ', 'недвижимость', '\\n'], ['сделка', ' ', 'с', ' ', 'подержанный', ' ', 'автомобиль', '\\n'], ['покупка', ' ', 'жилье', ' ', 'для', ' ', 'сдача', '\\n'], ['на', ' ', 'проведение', ' ', 'свадьба', '\\n'], ['сыграть', ' ', 'свадьба', '\\n'], ['покупка', ' ', 'свой', ' ', 'жилье', '\\n'], ['покупка', ' ', 'жилье', '\\n'], ['сыграть', ' ', 'свадьба', '\\n'], ['операция', ' ', 'с', ' ', 'недвижимость', '\\n'], ['образование', '\\n'], ['жилье', '\\n'], ['высокий', ' ', 'образование', '\\n'], ['строительство', ' ', 'жилой', ' ', 'недвижимость', '\\n'], ['операция', ' ', 'с', ' ', 'коммерческий', ' ', 'недвижимость', '\\n'], ['операция', ' ', 'с', ' ', 'недвижимость', '\\n'], ['операция', ' ', 'с', ' ', 'коммерческий', ' ', 'недвижимость', '\\n'], ['строительство', ' ', 'собственный', ' ', 'недвижимость', '\\n'], ['автомобиль', '\\n'], ['строительство', ' ', 'собственный', ' ', 'недвижимость', '\\n'], ['операция', ' ', 'с', ' ', 'недвижимость', '\\n'], ['покупка', ' ', 'жилье', '\\n'], ['недвижимость', '\\n'], ['покупка', ' ', 'жилье', '\\n'], ['сыграть', ' ', 'свадьба', '\\n'], ['свадьба', '\\n'], ['дополнительный', ' ', 'образование', '\\n'], ['операция', ' ', 'со', ' ', 'свой', ' ', 'недвижимость', '\\n'], ['свадьба', '\\n'], ['профильный', ' ', 'образование', '\\n'], ['недвижимость', '\\n'], ['автомобиль', '\\n'], ['на', ' ', 'покупка', ' ', 'подержать', ' ', 'автомобиль', '\\n'], ['на', ' ', 'покупка', ' ', 'автомобиль', '\\n'], ['операция', ' ', 'с', ' ', 'жилье', '\\n'], ['недвижимость', '\\n'], ['свой', ' ', 'автомобиль', '\\n'], ['покупка', ' ', 'жилье', ' ', 'для', ' ', 'сдача', '\\n'], ['покупка', ' ', 'недвижимость', '\\n'], ['операция', ' ', 'со', ' ', 'свой', ' ', 'недвижимость', '\\n'], ['покупка', ' ', 'жилье', '\\n'], ['строительство', ' ', 'жилой', ' ', 'недвижимость', '\\n'], ['покупка', ' ', 'коммерческий', ' ', 'недвижимость', '\\n'], ['операция', ' ', 'со', ' ', 'свой', ' ', 'недвижимость', '\\n'], ['получение', ' ', 'образование', '\\n'], ['операция', ' ', 'с', ' ', 'недвижимость', '\\n'], ['на', ' ', 'проведение', ' ', 'свадьба', '\\n'], ['операция', ' ', 'со', ' ', 'свой', ' ', 'недвижимость', '\\n'], ['операция', ' ', 'со', ' ', 'свой', ' ', 'недвижимость', '\\n'], ['на', ' ', 'покупка', ' ', 'подержать', ' ', 'автомобиль', '\\n'], ['на', ' ', 'покупка', ' ', 'автомобиль', '\\n'], ['заниматься', ' ', 'образование', '\\n'], ['заниматься', ' ', 'образование', '\\n'], ['профильный', ' ', 'образование', '\\n'], ['свадьба', '\\n'], ['строительство', ' ', 'недвижимость', '\\n'], ['автомобиль', '\\n'], ['свой', ' ', 'автомобиль', '\\n'], ['заниматься', ' ', 'образование', '\\n'], ['заниматься', ' ', 'образование', '\\n'], ['недвижимость', '\\n'], ['свадьба', '\\n'], ['на', ' ', 'покупка', ' ', 'свой', ' ', 'автомобиль', '\\n'], ['получение', ' ', 'высокий', ' ', 'образование', '\\n'], ['на', ' ', 'проведение', ' ', 'свадьба', '\\n'], ['покупка', ' ', 'жилье', ' ', 'для', ' ', 'сдача', '\\n'], ['покупка', ' ', 'коммерческий', ' ', 'недвижимость', '\\n'], ['покупка', ' ', 'недвижимость', '\\n'], ['строительство', ' ', 'недвижимость', '\\n'], ['операция', ' ', 'со', ' ', 'свой', ' ', 'недвижимость', '\\n'], ['операция', ' ', 'с', ' ', 'жилье', '\\n'], ['сделка', ' ', 'с', ' ', 'автомобиль', '\\n'], ['жилье', '\\n'], ['дополнительный', ' ', 'образование', '\\n'], ['операция', ' ', 'со', ' ', 'свой', ' ', 'недвижимость', '\\n'], ['на', ' ', 'покупка', ' ', 'автомобиль', '\\n'], ['свадьба', '\\n'], ['образование', '\\n'], ['операция', ' ', 'с', ' ', 'коммерческий', ' ', 'недвижимость', '\\n'], ['профильный', ' ', 'образование', '\\n'], ['высокий', ' ', 'образование', '\\n'], ['сыграть', ' ', 'свадьба', '\\n'], ['сделка', ' ', 'с', ' ', 'автомобиль', '\\n'], ['заниматься', ' ', 'высокий', ' ', 'образование', '\\n'], ['получение', ' ', 'высокий', ' ', 'образование', '\\n'], ['недвижимость', '\\n'], ['покупка', ' ', 'жилой', ' ', 'недвижимость', '\\n'], ['строительство', ' ', 'жилой', ' ', 'недвижимость', '\\n'], ['высокий', ' ', 'образование', '\\n'], ['образование', '\\n'], ['высокий', ' ', 'образование', '\\n'], ['заниматься', ' ', 'высокий', ' ', 'образование', '\\n'], ['профильный', ' ', 'образование', '\\n'], ['заниматься', ' ', 'образование', '\\n'], ['операция', ' ', 'с', ' ', 'жилье', '\\n'], ['автомобиль', '\\n'], ['недвижимость', '\\n'], ['автомобиль', '\\n'], ['покупка', ' ', 'недвижимость', '\\n'], ['приобретение', ' ', 'автомобиль', '\\n'], ['свадьба', '\\n'], ['приобретение', ' ', 'автомобиль', '\\n'], ['строительство', ' ', 'жилой', ' ', 'недвижимость', '\\n'], ['приобретение', ' ', 'автомобиль', '\\n'], ['строительство', ' ', 'недвижимость', '\\n'], ['покупка', ' ', 'свой', ' ', 'жилье', '\\n'], ['операция', ' ', 'с', ' ', 'жилье', '\\n'], ['сыграть', ' ', 'свадьба', '\\n'], ['покупка', ' ', 'свой', ' ', 'жилье', '\\n'], ['на', ' ', 'покупка', ' ', 'свой', ' ', 'автомобиль', '\\n'], ['автомобиль', '\\n'], ['получение', ' ', 'высокий', ' ', 'образование', '\\n'], ['покупка', ' ', 'коммерческий', ' ', 'недвижимость', '\\n'], ['на', ' ', 'покупка', ' ', 'автомобиль', '\\n'], ['строительство', ' ', 'жилой', ' ', 'недвижимость', '\\n'], ['автомобиль', '\\n'], ['строительство', ' ', 'недвижимость', '\\n'], ['покупка', ' ', 'жилье', ' ', 'для', ' ', 'семья', '\\n'], ['свадьба', '\\n'], ['строительство', ' ', 'собственный', ' ', 'недвижимость', '\\n'], ['покупка', ' ', 'жилье', '\\n'], ['покупка', ' ', 'жилье', ' ', 'для', ' ', 'сдача', '\\n'], ['операция', ' ', 'с', ' ', 'коммерческий', ' ', 'недвижимость', '\\n'], ['покупка', ' ', 'недвижимость', '\\n'], ['автомобиль', '\\n'], ['жилье', '\\n'], ['покупка', ' ', 'жилье', '\\n'], ['операция', ' ', 'со', ' ', 'свой', ' ', 'недвижимость', '\\n'], ['заниматься', ' ', 'высокий', ' ', 'образование', '\\n'], ['строительство', ' ', 'недвижимость', '\\n'], ['образование', '\\n'], ['покупка', ' ', 'коммерческий', ' ', 'недвижимость', '\\n'], ['операция', ' ', 'со', ' ', 'свой', ' ', 'недвижимость', '\\n'], ['покупка', ' ', 'свой', ' ', 'жилье', '\\n'], ['на', ' ', 'покупка', ' ', 'подержать', ' ', 'автомобиль', '\\n'], ['сделка', ' ', 'с', ' ', 'автомобиль', '\\n'], ['покупка', ' ', 'коммерческий', ' ', 'недвижимость', '\\n'], ['свой', ' ', 'автомобиль', '\\n'], ['дополнительный', ' ', 'образование', '\\n'], ['на', ' ', 'покупка', ' ', 'подержать', ' ', 'автомобиль', '\\n'], ['сыграть', ' ', 'свадьба', '\\n'], ['операция', ' ', 'с', ' ', 'недвижимость', '\\n'], ['свой', ' ', 'автомобиль', '\\n'], ['строительство', ' ', 'собственный', ' ', 'недвижимость', '\\n'], ['заниматься', ' ', 'высокий', ' ', 'образование', '\\n'], ['автомобиль', '\\n'], ['строительство', ' ', 'собственный', ' ', 'недвижимость', '\\n'], ['автомобиль', '\\n'], ['на', ' ', 'покупка', ' ', 'автомобиль', '\\n'], ['автомобиль', '\\n'], ['покупка', ' ', 'жилой', ' ', 'недвижимость', '\\n'], ['строительство', ' ', 'жилой', ' ', 'недвижимость', '\\n'], ['операция', ' ', 'с', ' ', 'недвижимость', '\\n'], ['заниматься', ' ', 'высокий', ' ', 'образование', '\\n'], ['на', ' ', 'покупка', ' ', 'автомобиль', '\\n'], ['строительство', ' ', 'собственный', ' ', 'недвижимость', '\\n'], ['получение', ' ', 'дополнительный', ' ', 'образование', '\\n'], ['образование', '\\n'], ['покупка', ' ', 'коммерческий', ' ', 'недвижимость', '\\n'], ['свадьба', '\\n'], ['на', ' ', 'покупка', ' ', 'подержать', ' ', 'автомобиль', '\\n'], ['заниматься', ' ', 'высокий', ' ', 'образование', '\\n'], ['операция', ' ', 'с', ' ', 'жилье', '\\n'], ['получение', ' ', 'образование', '\\n'], ['заниматься', ' ', 'высокий', ' ', 'образование', '\\n'], ['профильный', ' ', 'образование', '\\n'], ['строительство', ' ', 'недвижимость', '\\n'], ['сыграть', ' ', 'свадьба', '\\n'], ['покупка', ' ', 'жилье', '\\n'], ['покупка', ' ', 'жилье', ' ', 'для', ' ', 'сдача', '\\n'], ['операция', ' ', 'с', ' ', 'жилье', '\\n'], ['образование', '\\n'], ['свой', ' ', 'автомобиль', '\\n'], ['недвижимость', '\\n'], ['операция', ' ', 'с', ' ', 'жилье', '\\n'], ['покупка', ' ', 'жилье', ' ', 'для', ' ', 'сдача', '\\n'], ['ремонт', ' ', 'жилье', '\\n'], ['получение', ' ', 'образование', '\\n'], ['заниматься', ' ', 'высокий', ' ', 'образование', '\\n'], ['на', ' ', 'проведение', ' ', 'свадьба', '\\n'], ['жилье', '\\n'], ['заниматься', ' ', 'высокий', ' ', 'образование', '\\n'], ['покупка', ' ', 'свой', ' ', 'жилье', '\\n'], ['покупка', ' ', 'свой', ' ', 'жилье', '\\n'], ['получение', ' ', 'дополнительный', ' ', 'образование', '\\n'], ['операция', ' ', 'с', ' ', 'жилье', '\\n'], ['образование', '\\n'], ['строительство', ' ', 'недвижимость', '\\n'], ['покупка', ' ', 'свой', ' ', 'жилье', '\\n'], ['операция', ' ', 'с', ' ', 'коммерческий', ' ', 'недвижимость', '\\n'], ['автомобиль', '\\n'], ['операция', ' ', 'с', ' ', 'жилье', '\\n'], ['сделка', ' ', 'с', ' ', 'автомобиль', '\\n'], ['строительство', ' ', 'жилой', ' ', 'недвижимость', '\\n'], ['приобретение', ' ', 'автомобиль', '\\n'], ['заниматься', ' ', 'высокий', ' ', 'образование', '\\n'], ['получение', ' ', 'образование', '\\n'], ['получение', ' ', 'образование', '\\n'], ['операция', ' ', 'с', ' ', 'недвижимость', '\\n'], ['получение', ' ', 'дополнительный', ' ', 'образование', '\\n'], ['на', ' ', 'покупка', ' ', 'свой', ' ', 'автомобиль', '\\n'], ['покупка', ' ', 'жилье', '\\n'], ['покупка', ' ', 'жилье', ' ', 'для', ' ', 'семья', '\\n'], ['получение', ' ', 'высокий', ' ', 'образование', '\\n'], ['операция', ' ', 'с', ' ', 'жилье', '\\n'], ['жилье', '\\n'], ['приобретение', ' ', 'автомобиль', '\\n'], ['приобретение', ' ', 'автомобиль', '\\n'], ['получение', ' ', 'образование', '\\n'], ['строительство', ' ', 'собственный', ' ', 'недвижимость', '\\n'], ['сыграть', ' ', 'свадьба', '\\n'], ['свой', ' ', 'автомобиль', '\\n'], ['ремонт', ' ', 'жилье', '\\n'], ['сыграть', ' ', 'свадьба', '\\n'], ['на', ' ', 'покупка', ' ', 'свой', ' ', 'автомобиль', '\\n'], ['сделка', ' ', 'с', ' ', 'подержанный', ' ', 'автомобиль', '\\n'], ['свадьба', '\\n'], ['покупка', ' ', 'жилье', '\\n'], ['сделка', ' ', 'с', ' ', 'подержанный', ' ', 'автомобиль', '\\n'], ['покупка', ' ', 'недвижимость', '\\n'], ['операция', ' ', 'с', ' ', 'коммерческий', ' ', 'недвижимость', '\\n'], ['строительство', ' ', 'собственный', ' ', 'недвижимость', '\\n'], ['покупка', ' ', 'жилье', '\\n'], ['сделка', ' ', 'с', ' ', 'подержанный', ' ', 'автомобиль', '\\n'], ['покупка', ' ', 'жилой', ' ', 'недвижимость', '\\n'], ['получение', ' ', 'образование', '\\n'], ['покупка', ' ', 'жилье', '\\n'], ['заниматься', ' ', 'образование', '\\n'], ['на', ' ', 'покупка', ' ', 'подержать', ' ', 'автомобиль', '\\n'], ['приобретение', ' ', 'автомобиль', '\\n'], ['на', ' ', 'покупка', ' ', 'автомобиль', '\\n'], ['образование', '\\n'], ['покупка', ' ', 'коммерческий', ' ', 'недвижимость', '\\n'], ['образование', '\\n'], ['покупка', ' ', 'свой', ' ', 'жилье', '\\n'], ['на', ' ', 'проведение', ' ', 'свадьба', '\\n'], ['покупка', ' ', 'жилье', '\\n'], ['дополнительный', ' ', 'образование', '\\n'], ['покупка', ' ', 'свой', ' ', 'жилье', '\\n'], ['строительство', ' ', 'собственный', ' ', 'недвижимость', '\\n'], ['покупка', ' ', 'коммерческий', ' ', 'недвижимость', '\\n'], ['операция', ' ', 'со', ' ', 'свой', ' ', 'недвижимость', '\\n'], ['автомобиль', '\\n'], ['операция', ' ', 'с', ' ', 'недвижимость', '\\n'], ['свой', ' ', 'автомобиль', '\\n'], ['получение', ' ', 'высокий', ' ', 'образование', '\\n'], ['дополнительный', ' ', 'образование', '\\n'], ['на', ' ', 'покупка', ' ', 'подержать', ' ', 'автомобиль', '\\n'], ['операция', ' ', 'с', ' ', 'недвижимость', '\\n'], ['ремонт', ' ', 'жилье', '\\n'], ['заниматься', ' ', 'образование', '\\n'], ['недвижимость', '\\n'], ['операция', ' ', 'со', ' ', 'свой', ' ', 'недвижимость', '\\n'], ['строительство', ' ', 'собственный', ' ', 'недвижимость', '\\n'], ['сыграть', ' ', 'свадьба', '\\n'], ['операция', ' ', 'с', ' ', 'недвижимость', '\\n'], ['операция', ' ', 'с', ' ', 'недвижимость', '\\n'], ['на', ' ', 'проведение', ' ', 'свадьба', '\\n'], ['заниматься', ' ', 'образование', '\\n'], ['покупка', ' ', 'свой', ' ', 'жилье', '\\n'], ['строительство', ' ', 'жилой', ' ', 'недвижимость', '\\n'], ['операция', ' ', 'со', ' ', 'свой', ' ', 'недвижимость', '\\n'], ['операция', ' ', 'с', ' ', 'жилье', '\\n'], ['операция', ' ', 'с', ' ', 'недвижимость', '\\n'], ['заниматься', ' ', 'высокий', ' ', 'образование', '\\n'], ['покупка', ' ', 'жилье', ' ', 'для', ' ', 'семья', '\\n'], ['операция', ' ', 'со', ' ', 'свой', ' ', 'недвижимость', '\\n'], ['покупка', ' ', 'жилье', ' ', 'для', ' ', 'сдача', '\\n'], ['операция', ' ', 'со', ' ', 'свой', ' ', 'недвижимость', '\\n'], ['ремонт', ' ', 'жилье', '\\n'], ['профильный', ' ', 'образование', '\\n'], ['заниматься', ' ', 'высокий', ' ', 'образование', '\\n'], ['покупка', ' ', 'жилье', '\\n'], ['ремонт', ' ', 'жилье', '\\n'], ['на', ' ', 'покупка', ' ', 'свой', ' ', 'автомобиль', '\\n'], ['профильный', ' ', 'образование', '\\n'], ['покупка', ' ', 'свой', ' ', 'жилье', '\\n'], ['операция', ' ', 'с', ' ', 'жилье', '\\n'], ['покупка', ' ', 'недвижимость', '\\n'], ['на', ' ', 'проведение', ' ', 'свадьба', '\\n'], ['заниматься', ' ', 'высокий', ' ', 'образование', '\\n'], ['покупка', ' ', 'недвижимость', '\\n'], ['приобретение', ' ', 'автомобиль', '\\n'], ['покупка', ' ', 'жилье', '\\n'], ['получение', ' ', 'высокий', ' ', 'образование', '\\n'], ['жилье', '\\n'], ['операция', ' ', 'с', ' ', 'недвижимость', '\\n'], ['автомобиль', '\\n'], ['свадьба', '\\n'], ['автомобиль', '\\n'], ['дополнительный', ' ', 'образование', '\\n'], ['высокий', ' ', 'образование', '\\n'], ['недвижимость', '\\n'], ['высокий', ' ', 'образование', '\\n'], ['получение', ' ', 'дополнительный', ' ', 'образование', '\\n'], ['на', ' ', 'покупка', ' ', 'подержать', ' ', 'автомобиль', '\\n'], ['на', ' ', 'покупка', ' ', 'свой', ' ', 'автомобиль', '\\n'], ['сделка', ' ', 'с', ' ', 'автомобиль', '\\n'], ['строительство', ' ', 'недвижимость', '\\n'], ['свадьба', '\\n'], ['профильный', ' ', 'образование', '\\n'], ['покупка', ' ', 'жилье', ' ', 'для', ' ', 'сдача', '\\n'], ['операция', ' ', 'с', ' ', 'недвижимость', '\\n'], ['строительство', ' ', 'жилой', ' ', 'недвижимость', '\\n'], ['покупка', ' ', 'жилой', ' ', 'недвижимость', '\\n'], ['операция', ' ', 'с', ' ', 'недвижимость', '\\n'], ['операция', ' ', 'с', ' ', 'коммерческий', ' ', 'недвижимость', '\\n'], ['сыграть', ' ', 'свадьба', '\\n'], ['покупка', ' ', 'жилье', ' ', 'для', ' ', 'семья', '\\n'], ['покупка', ' ', 'жилье', ' ', 'для', ' ', 'сдача', '\\n'], ['свадьба', '\\n'], ['покупка', ' ', 'недвижимость', '\\n'], ['операция', ' ', 'со', ' ', 'свой', ' ', 'недвижимость', '\\n'], ['сыграть', ' ', 'свадьба', '\\n'], ['покупка', ' ', 'жилье', ' ', 'для', ' ', 'семья', '\\n'], ['на', ' ', 'проведение', ' ', 'свадьба', '\\n'], ['получение', ' ', 'высокий', ' ', 'образование', '\\n'], ['на', ' ', 'покупка', ' ', 'свой', ' ', 'автомобиль', '\\n'], ['на', ' ', 'покупка', ' ', 'свой', ' ', 'автомобиль', '\\n'], ['покупка', ' ', 'жилье', ' ', 'для', ' ', 'семья', '\\n'], ['получение', ' ', 'образование', '\\n'], ['заниматься', ' ', 'высокий', ' ', 'образование', '\\n'], ['строительство', ' ', 'собственный', ' ', 'недвижимость', '\\n'], ['дополнительный', ' ', 'образование', '\\n'], ['недвижимость', '\\n'], ['профильный', ' ', 'образование', '\\n'], ['операция', ' ', 'с', ' ', 'коммерческий', ' ', 'недвижимость', '\\n'], ['операция', ' ', 'с', ' ', 'недвижимость', '\\n'], ['операция', ' ', 'с', ' ', 'коммерческий', ' ', 'недвижимость', '\\n'], ['строительство', ' ', 'жилой', ' ', 'недвижимость', '\\n'], ['на', ' ', 'покупка', ' ', 'свой', ' ', 'автомобиль', '\\n'], ['сыграть', ' ', 'свадьба', '\\n'], ['дополнительный', ' ', 'образование', '\\n'], ['на', ' ', 'покупка', ' ', 'свой', ' ', 'автомобиль', '\\n'], ['заниматься', ' ', 'высокий', ' ', 'образование', '\\n'], ['получение', ' ', 'высокий', ' ', 'образование', '\\n'], ['недвижимость', '\\n'], ['свадьба', '\\n'], ['покупка', ' ', 'свой', ' ', 'жилье', '\\n'], ['строительство', ' ', 'недвижимость', '\\n'], ['на', ' ', 'покупка', ' ', 'подержать', ' ', 'автомобиль', '\\n'], ['покупка', ' ', 'жилье', '\\n'], ['получение', ' ', 'образование', '\\n'], ['жилье', '\\n'], ['приобретение', ' ', 'автомобиль', '\\n'], ['автомобиль', '\\n'], ['покупка', ' ', 'недвижимость', '\\n'], ['свадьба', '\\n'], ['покупка', ' ', 'жилье', ' ', 'для', ' ', 'семья', '\\n'], ['получение', ' ', 'высокий', ' ', 'образование', '\\n'], ['покупка', ' ', 'недвижимость', '\\n'], ['покупка', ' ', 'недвижимость', '\\n'], ['строительство', ' ', 'жилой', ' ', 'недвижимость', '\\n'], ['операция', ' ', 'со', ' ', 'свой', ' ', 'недвижимость', '\\n'], ['покупка', ' ', 'жилой', ' ', 'недвижимость', '\\n'], ['покупка', ' ', 'жилье', ' ', 'для', ' ', 'семья', '\\n'], ['недвижимость', '\\n'], ['сделка', ' ', 'с', ' ', 'автомобиль', '\\n'], ['получение', ' ', 'образование', '\\n'], ['сыграть', ' ', 'свадьба', '\\n'], ['высокий', ' ', 'образование', '\\n'], ['покупка', ' ', 'свой', ' ', 'жилье', '\\n'], ['строительство', ' ', 'собственный', ' ', 'недвижимость', '\\n'], ['строительство', ' ', 'собственный', ' ', 'недвижимость', '\\n'], ['покупка', ' ', 'недвижимость', '\\n'], ['покупка', ' ', 'коммерческий', ' ', 'недвижимость', '\\n'], ['автомобиль', '\\n'], ['операция', ' ', 'с', ' ', 'недвижимость', '\\n'], ['строительство', ' ', 'недвижимость', '\\n'], ['операция', ' ', 'с', ' ', 'жилье', '\\n'], ['строительство', ' ', 'собственный', ' ', 'недвижимость', '\\n'], ['покупка', ' ', 'коммерческий', ' ', 'недвижимость', '\\n'], ['недвижимость', '\\n'], ['на', ' ', 'покупка', ' ', 'свой', ' ', 'автомобиль', '\\n'], ['покупка', ' ', 'жилой', ' ', 'недвижимость', '\\n'], ['покупка', ' ', 'жилье', ' ', 'для', ' ', 'сдача', '\\n'], ['свадьба', '\\n'], ['строительство', ' ', 'собственный', ' ', 'недвижимость', '\\n'], ['приобретение', ' ', 'автомобиль', '\\n'], ['на', ' ', 'покупка', ' ', 'подержать', ' ', 'автомобиль', '\\n'], ['строительство', ' ', 'жилой', ' ', 'недвижимость', '\\n'], ['покупка', ' ', 'жилье', ' ', 'для', ' ', 'сдача', '\\n'], ['покупка', ' ', 'жилье', ' ', 'для', ' ', 'сдача', '\\n'], ['дополнительный', ' ', 'образование', '\\n'], ['на', ' ', 'проведение', ' ', 'свадьба', '\\n'], ['свадьба', '\\n'], ['на', ' ', 'покупка', ' ', 'автомобиль', '\\n'], ['сыграть', ' ', 'свадьба', '\\n'], ['операция', ' ', 'с', ' ', 'недвижимость', '\\n'], ['приобретение', ' ', 'автомобиль', '\\n'], ['операция', ' ', 'со', ' ', 'свой', ' ', 'недвижимость', '\\n'], ['операция', ' ', 'с', ' ', 'недвижимость', '\\n'], ['сыграть', ' ', 'свадьба', '\\n'], ['высокий', ' ', 'образование', '\\n'], ['дополнительный', ' ', 'образование', '\\n'], ['покупка', ' ', 'жилье', ' ', 'для', ' ', 'сдача', '\\n'], ['операция', ' ', 'с', ' ', 'недвижимость', '\\n'], ['операция', ' ', 'со', ' ', 'свой', ' ', 'недвижимость', '\\n'], ['свадьба', '\\n'], ['покупка', ' ', 'недвижимость', '\\n'], ['покупка', ' ', 'жилой', ' ', 'недвижимость', '\\n'], ['на', ' ', 'покупка', ' ', 'подержать', ' ', 'автомобиль', '\\n'], ['получение', ' ', 'дополнительный', ' ', 'образование', '\\n'], ['покупка', ' ', 'жилье', '\\n'], ['покупка', ' ', 'свой', ' ', 'жилье', '\\n'], ['покупка', ' ', 'коммерческий', ' ', 'недвижимость', '\\n'], ['жилье', '\\n'], ['автомобиль', '\\n'], ['свадьба', '\\n'], ['получение', ' ', 'образование', '\\n'], ['сделка', ' ', 'с', ' ', 'автомобиль', '\\n'], ['сыграть', ' ', 'свадьба', '\\n'], ['ремонт', ' ', 'жилье', '\\n'], ['на', ' ', 'покупка', ' ', 'автомобиль', '\\n'], ['операция', ' ', 'с', ' ', 'коммерческий', ' ', 'недвижимость', '\\n'], ['на', ' ', 'покупка', ' ', 'автомобиль', '\\n'], ['высокий', ' ', 'образование', '\\n'], ['покупка', ' ', 'коммерческий', ' ', 'недвижимость', '\\n'], ['жилье', '\\n'], ['покупка', ' ', 'свой', ' ', 'жилье', '\\n'], ['операция', ' ', 'со', ' ', 'свой', ' ', 'недвижимость', '\\n'], ['покупка', ' ', 'жилой', ' ', 'недвижимость', '\\n'], ['сделка', ' ', 'с', ' ', 'автомобиль', '\\n'], ['профильный', ' ', 'образование', '\\n'], ['ремонт', ' ', 'жилье', '\\n'], ['покупка', ' ', 'жилой', ' ', 'недвижимость', '\\n'], ['покупка', ' ', 'жилье', ' ', 'для', ' ', 'семья', '\\n'], ['на', ' ', 'проведение', ' ', 'свадьба', '\\n'], ['свой', ' ', 'автомобиль', '\\n'], ['операция', ' ', 'с', ' ', 'коммерческий', ' ', 'недвижимость', '\\n'], ['на', ' ', 'покупка', ' ', 'подержать', ' ', 'автомобиль', '\\n'], ['покупка', ' ', 'жилье', ' ', 'для', ' ', 'сдача', '\\n'], ['на', ' ', 'проведение', ' ', 'свадьба', '\\n'], ['операция', ' ', 'с', ' ', 'жилье', '\\n'], ['свадьба', '\\n'], ['свадьба', '\\n'], ['свой', ' ', 'автомобиль', '\\n'], ['заниматься', ' ', 'образование', '\\n'], ['заниматься', ' ', 'образование', '\\n'], ['сделка', ' ', 'с', ' ', 'автомобиль', '\\n'], ['на', ' ', 'проведение', ' ', 'свадьба', '\\n'], ['образование', '\\n'], ['покупка', ' ', 'жилье', '\\n'], ['профильный', ' ', 'образование', '\\n'], ['приобретение', ' ', 'автомобиль', '\\n'], ['свадьба', '\\n'], ['покупка', ' ', 'жилье', '\\n'], ['заниматься', ' ', 'высокий', ' ', 'образование', '\\n'], ['покупка', ' ', 'жилье', ' ', 'для', ' ', 'семья', '\\n'], ['покупка', ' ', 'коммерческий', ' ', 'недвижимость', '\\n'], ['на', ' ', 'покупка', ' ', 'автомобиль', '\\n'], ['автомобиль', '\\n'], ['автомобиль', '\\n'], ['на', ' ', 'покупка', ' ', 'свой', ' ', 'автомобиль', '\\n'], ['жилье', '\\n'], ['операция', ' ', 'с', ' ', 'жилье', '\\n'], ['операция', ' ', 'с', ' ', 'коммерческий', ' ', 'недвижимость', '\\n'], ['заниматься', ' ', 'высокий', ' ', 'образование', '\\n'], ['покупка', ' ', 'жилье', '\\n'], ['ремонт', ' ', 'жилье', '\\n'], ['заниматься', ' ', 'высокий', ' ', 'образование', '\\n'], ['на', ' ', 'покупка', ' ', 'свой', ' ', 'автомобиль', '\\n'], ['строительство', ' ', 'жилой', ' ', 'недвижимость', '\\n'], ['недвижимость', '\\n'], ['приобретение', ' ', 'автомобиль', '\\n'], ['строительство', ' ', 'собственный', ' ', 'недвижимость', '\\n'], ['сыграть', ' ', 'свадьба', '\\n'], ['автомобиль', '\\n'], ['свадьба', '\\n'], ['профильный', ' ', 'образование', '\\n'], ['недвижимость', '\\n'], ['получение', ' ', 'дополнительный', ' ', 'образование', '\\n'], ['заниматься', ' ', 'высокий', ' ', 'образование', '\\n'], ['покупка', ' ', 'жилье', '\\n'], ['покупка', ' ', 'жилье', '\\n'], ['на', ' ', 'покупка', ' ', 'свой', ' ', 'автомобиль', '\\n'], ['недвижимость', '\\n'], ['высокий', ' ', 'образование', '\\n'], ['сыграть', ' ', 'свадьба', '\\n'], ['на', ' ', 'проведение', ' ', 'свадьба', '\\n'], ['на', ' ', 'проведение', ' ', 'свадьба', '\\n'], ['ремонт', ' ', 'жилье', '\\n'], ['операция', ' ', 'с', ' ', 'жилье', '\\n'], ['покупка', ' ', 'свой', ' ', 'жилье', '\\n'], ['операция', ' ', 'с', ' ', 'коммерческий', ' ', 'недвижимость', '\\n'], ['покупка', ' ', 'жилье', ' ', 'для', ' ', 'сдача', '\\n'], ['строительство', ' ', 'жилой', ' ', 'недвижимость', '\\n'], ['автомобиль', '\\n'], ['операция', ' ', 'со', ' ', 'свой', ' ', 'недвижимость', '\\n'], ['сделка', ' ', 'с', ' ', 'подержанный', ' ', 'автомобиль', '\\n'], ['покупка', ' ', 'жилье', ' ', 'для', ' ', 'семья', '\\n'], ['получение', ' ', 'образование', '\\n'], ['заниматься', ' ', 'образование', '\\n'], ['покупка', ' ', 'жилье', ' ', 'для', ' ', 'сдача', '\\n'], ['приобретение', ' ', 'автомобиль', '\\n'], ['недвижимость', '\\n'], ['покупка', ' ', 'свой', ' ', 'жилье', '\\n'], ['операция', ' ', 'с', ' ', 'коммерческий', ' ', 'недвижимость', '\\n'], ['автомобиль', '\\n'], ['жилье', '\\n'], ['получение', ' ', 'высокий', ' ', 'образование', '\\n'], ['заниматься', ' ', 'высокий', ' ', 'образование', '\\n'], ['ремонт', ' ', 'жилье', '\\n'], ['автомобиль', '\\n'], ['покупка', ' ', 'жилье', '\\n'], ['операция', ' ', 'с', ' ', 'недвижимость', '\\n'], ['свой', ' ', 'автомобиль', '\\n'], ['заниматься', ' ', 'высокий', ' ', 'образование', '\\n'], ['покупка', ' ', 'жилье', ' ', 'для', ' ', 'сдача', '\\n'], ['строительство', ' ', 'жилой', ' ', 'недвижимость', '\\n'], ['покупка', ' ', 'жилье', ' ', 'для', ' ', 'сдача', '\\n'], ['покупка', ' ', 'жилье', ' ', 'для', ' ', 'семья', '\\n'], ['покупка', ' ', 'жилье', '\\n'], ['на', ' ', 'покупка', ' ', 'автомобиль', '\\n'], ['сыграть', ' ', 'свадьба', '\\n'], ['покупка', ' ', 'жилье', ' ', 'для', ' ', 'сдача', '\\n'], ['покупка', ' ', 'жилье', '\\n'], ['заниматься', ' ', 'высокий', ' ', 'образование', '\\n'], ['высокий', ' ', 'образование', '\\n'], ['покупка', ' ', 'жилье', ' ', 'для', ' ', 'семья', '\\n'], ['сделка', ' ', 'с', ' ', 'подержанный', ' ', 'автомобиль', '\\n'], ['на', ' ', 'покупка', ' ', 'автомобиль', '\\n'], ['на', ' ', 'проведение', ' ', 'свадьба', '\\n'], ['получение', ' ', 'дополнительный', ' ', 'образование', '\\n'], ['покупка', ' ', 'коммерческий', ' ', 'недвижимость', '\\n'], ['строительство', ' ', 'недвижимость', '\\n'], ['свой', ' ', 'автомобиль', '\\n'], ['заниматься', ' ', 'образование', '\\n'], ['на', ' ', 'покупка', ' ', 'автомобиль', '\\n'], ['операция', ' ', 'со', ' ', 'свой', ' ', 'недвижимость', '\\n'], ['получение', ' ', 'высокий', ' ', 'образование', '\\n'], ['операция', ' ', 'со', ' ', 'свой', ' ', 'недвижимость', '\\n'], ['покупка', ' ', 'недвижимость', '\\n'], ['операция', ' ', 'с', ' ', 'недвижимость', '\\n'], ['профильный', ' ', 'образование', '\\n'], ['покупка', ' ', 'жилье', ' ', 'для', ' ', 'семья', '\\n'], ['покупка', ' ', 'свой', ' ', 'жилье', '\\n'], ['сделка', ' ', 'с', ' ', 'автомобиль', '\\n'], ['строительство', ' ', 'жилой', ' ', 'недвижимость', '\\n'], ['покупка', ' ', 'свой', ' ', 'жилье', '\\n'], ['на', ' ', 'покупка', ' ', 'свой', ' ', 'автомобиль', '\\n'], ['строительство', ' ', 'жилой', ' ', 'недвижимость', '\\n'], ['недвижимость', '\\n'], ['операция', ' ', 'с', ' ', 'коммерческий', ' ', 'недвижимость', '\\n'], ['операция', ' ', 'с', ' ', 'коммерческий', ' ', 'недвижимость', '\\n'], ['покупка', ' ', 'свой', ' ', 'жилье', '\\n'], ['свой', ' ', 'автомобиль', '\\n'], ['покупка', ' ', 'коммерческий', ' ', 'недвижимость', '\\n'], ['получение', ' ', 'дополнительный', ' ', 'образование', '\\n'], ['покупка', ' ', 'жилье', ' ', 'для', ' ', 'семья', '\\n'], ['дополнительный', ' ', 'образование', '\\n'], ['операция', ' ', 'с', ' ', 'недвижимость', '\\n'], ['свой', ' ', 'автомобиль', '\\n'], ['получение', ' ', 'образование', '\\n'], ['на', ' ', 'проведение', ' ', 'свадьба', '\\n'], ['свой', ' ', 'автомобиль', '\\n'], ['дополнительный', ' ', 'образование', '\\n'], ['покупка', ' ', 'жилье', ' ', 'для', ' ', 'семья', '\\n'], ['высокий', ' ', 'образование', '\\n'], ['строительство', ' ', 'собственный', ' ', 'недвижимость', '\\n'], ['операция', ' ', 'с', ' ', 'жилье', '\\n'], ['сделка', ' ', 'с', ' ', 'подержанный', ' ', 'автомобиль', '\\n'], ['на', ' ', 'покупка', ' ', 'автомобиль', '\\n'], ['профильный', ' ', 'образование', '\\n'], ['недвижимость', '\\n'], ['операция', ' ', 'со', ' ', 'свой', ' ', 'недвижимость', '\\n'], ['операция', ' ', 'с', ' ', 'недвижимость', '\\n'], ['операция', ' ', 'с', ' ', 'недвижимость', '\\n'], ['покупка', ' ', 'жилье', ' ', 'для', ' ', 'семья', '\\n'], ['операция', ' ', 'со', ' ', 'свой', ' ', 'недвижимость', '\\n'], ['сыграть', ' ', 'свадьба', '\\n'], ['операция', ' ', 'с', ' ', 'недвижимость', '\\n'], ['покупка', ' ', 'коммерческий', ' ', 'недвижимость', '\\n'], ['строительство', ' ', 'собственный', ' ', 'недвижимость', '\\n'], ['сыграть', ' ', 'свадьба', '\\n'], ['покупка', ' ', 'жилье', '\\n'], ['покупка', ' ', 'недвижимость', '\\n'], ['высокий', ' ', 'образование', '\\n'], ['строительство', ' ', 'недвижимость', '\\n'], ['покупка', ' ', 'жилье', ' ', 'для', ' ', 'семья', '\\n'], ['на', ' ', 'проведение', ' ', 'свадьба', '\\n'], ['покупка', ' ', 'коммерческий', ' ', 'недвижимость', '\\n'], ['операция', ' ', 'с', ' ', 'недвижимость', '\\n'], ['жилье', '\\n'], ['автомобиль', '\\n'], ['свадьба', '\\n'], ['сделка', ' ', 'с', ' ', 'автомобиль', '\\n'], ['покупка', ' ', 'коммерческий', ' ', 'недвижимость', '\\n'], ['недвижимость', '\\n'], ['покупка', ' ', 'недвижимость', '\\n'], ['покупка', ' ', 'свой', ' ', 'жилье', '\\n'], ['покупка', ' ', 'жилье', '\\n'], ['приобретение', ' ', 'автомобиль', '\\n'], ['строительство', ' ', 'недвижимость', '\\n'], ['покупка', ' ', 'коммерческий', ' ', 'недвижимость', '\\n'], ['сыграть', ' ', 'свадьба', '\\n'], ['образование', '\\n'], ['строительство', ' ', 'собственный', ' ', 'недвижимость', '\\n'], ['операция', ' ', 'с', ' ', 'недвижимость', '\\n'], ['операция', ' ', 'с', ' ', 'коммерческий', ' ', 'недвижимость', '\\n'], ['получение', ' ', 'дополнительный', ' ', 'образование', '\\n'], ['покупка', ' ', 'жилье', ' ', 'для', ' ', 'семья', '\\n'], ['сыграть', ' ', 'свадьба', '\\n'], ['покупка', ' ', 'жилье', ' ', 'для', ' ', 'семья', '\\n'], ['заниматься', ' ', 'высокий', ' ', 'образование', '\\n'], ['на', ' ', 'проведение', ' ', 'свадьба', '\\n'], ['жилье', '\\n'], ['приобретение', ' ', 'автомобиль', '\\n'], ['профильный', ' ', 'образование', '\\n'], ['получение', ' ', 'образование', '\\n'], ['образование', '\\n'], ['покупка', ' ', 'жилье', ' ', 'для', ' ', 'сдача', '\\n'], ['получение', ' ', 'образование', '\\n'], ['высокий', ' ', 'образование', '\\n'], ['получение', ' ', 'образование', '\\n'], ['приобретение', ' ', 'автомобиль', '\\n'], ['свой', ' ', 'автомобиль', '\\n'], ['строительство', ' ', 'недвижимость', '\\n'], ['образование', '\\n'], ['строительство', ' ', 'собственный', ' ', 'недвижимость', '\\n'], ['операция', ' ', 'с', ' ', 'недвижимость', '\\n'], ['заниматься', ' ', 'высокий', ' ', 'образование', '\\n'], ['на', ' ', 'проведение', ' ', 'свадьба', '\\n'], ['покупка', ' ', 'коммерческий', ' ', 'недвижимость', '\\n'], ['покупка', ' ', 'недвижимость', '\\n'], ['профильный', ' ', 'образование', '\\n'], ['покупка', ' ', 'жилой', ' ', 'недвижимость', '\\n'], ['покупка', ' ', 'коммерческий', ' ', 'недвижимость', '\\n'], ['свадьба', '\\n'], ['свадьба', '\\n'], ['строительство', ' ', 'жилой', ' ', 'недвижимость', '\\n'], ['строительство', ' ', 'собственный', ' ', 'недвижимость', '\\n'], ['образование', '\\n'], ['сделка', ' ', 'с', ' ', 'автомобиль', '\\n'], ['автомобиль', '\\n'], ['сделка', ' ', 'с', ' ', 'подержанный', ' ', 'автомобиль', '\\n'], ['сделка', ' ', 'с', ' ', 'подержанный', ' ', 'автомобиль', '\\n'], ['операция', ' ', 'с', ' ', 'жилье', '\\n'], ['получение', ' ', 'высокий', ' ', 'образование', '\\n'], ['ремонт', ' ', 'жилье', '\\n'], ['операция', ' ', 'с', ' ', 'коммерческий', ' ', 'недвижимость', '\\n'], ['операция', ' ', 'с', ' ', 'жилье', '\\n'], ['операция', ' ', 'со', ' ', 'свой', ' ', 'недвижимость', '\\n'], ['на', ' ', 'покупка', ' ', 'свой', ' ', 'автомобиль', '\\n'], ['на', ' ', 'покупка', ' ', 'свой', ' ', 'автомобиль', '\\n'], ['на', ' ', 'проведение', ' ', 'свадьба', '\\n'], ['приобретение', ' ', 'автомобиль', '\\n'], ['жилье', '\\n'], ['на', ' ', 'проведение', ' ', 'свадьба', '\\n'], ['операция', ' ', 'с', ' ', 'недвижимость', '\\n'], ['получение', ' ', 'образование', '\\n'], ['жилье', '\\n'], ['недвижимость', '\\n'], ['покупка', ' ', 'свой', ' ', 'жилье', '\\n'], ['покупка', ' ', 'жилье', ' ', 'для', ' ', 'сдача', '\\n'], ['получение', ' ', 'дополнительный', ' ', 'образование', '\\n'], ['получение', ' ', 'высокий', ' ', 'образование', '\\n'], ['строительство', ' ', 'недвижимость', '\\n'], ['строительство', ' ', 'недвижимость', '\\n'], ['покупка', ' ', 'недвижимость', '\\n'], ['сделка', ' ', 'с', ' ', 'автомобиль', '\\n'], ['недвижимость', '\\n'], ['операция', ' ', 'с', ' ', 'коммерческий', ' ', 'недвижимость', '\\n'], ['дополнительный', ' ', 'образование', '\\n'], ['операция', ' ', 'с', ' ', 'недвижимость', '\\n'], ['покупка', ' ', 'свой', ' ', 'жилье', '\\n'], ['автомобиль', '\\n'], ['покупка', ' ', 'коммерческий', ' ', 'недвижимость', '\\n'], ['заниматься', ' ', 'образование', '\\n'], ['покупка', ' ', 'жилье', ' ', 'для', ' ', 'сдача', '\\n'], ['сделка', ' ', 'с', ' ', 'подержанный', ' ', 'автомобиль', '\\n'], ['сделка', ' ', 'с', ' ', 'автомобиль', '\\n'], ['дополнительный', ' ', 'образование', '\\n'], ['покупка', ' ', 'свой', ' ', 'жилье', '\\n'], ['строительство', ' ', 'собственный', ' ', 'недвижимость', '\\n'], ['ремонт', ' ', 'жилье', '\\n'], ['строительство', ' ', 'собственный', ' ', 'недвижимость', '\\n'], ['покупка', ' ', 'жилье', '\\n'], ['высокий', ' ', 'образование', '\\n'], ['покупка', ' ', 'жилье', '\\n'], ['строительство', ' ', 'собственный', ' ', 'недвижимость', '\\n'], ['заниматься', ' ', 'высокий', ' ', 'образование', '\\n'], ['заниматься', ' ', 'образование', '\\n'], ['свадьба', '\\n'], ['недвижимость', '\\n'], ['на', ' ', 'покупка', ' ', 'свой', ' ', 'автомобиль', '\\n'], ['строительство', ' ', 'собственный', ' ', 'недвижимость', '\\n'], ['профильный', ' ', 'образование', '\\n'], ['строительство', ' ', 'жилой', ' ', 'недвижимость', '\\n'], ['свой', ' ', 'автомобиль', '\\n'], ['свадьба', '\\n'], ['строительство', ' ', 'жилой', ' ', 'недвижимость', '\\n'], ['на', ' ', 'покупка', ' ', 'автомобиль', '\\n'], ['операция', ' ', 'с', ' ', 'жилье', '\\n'], ['свадьба', '\\n'], ['на', ' ', 'покупка', ' ', 'подержать', ' ', 'автомобиль', '\\n'], ['приобретение', ' ', 'автомобиль', '\\n'], ['сделка', ' ', 'с', ' ', 'подержанный', ' ', 'автомобиль', '\\n'], ['дополнительный', ' ', 'образование', '\\n'], ['получение', ' ', 'образование', '\\n'], ['заниматься', ' ', 'высокий', ' ', 'образование', '\\n'], ['жилье', '\\n'], ['покупка', ' ', 'жилье', '\\n'], ['сделка', ' ', 'с', ' ', 'автомобиль', '\\n'], ['приобретение', ' ', 'автомобиль', '\\n'], ['профильный', ' ', 'образование', '\\n'], ['операция', ' ', 'со', ' ', 'свой', ' ', 'недвижимость', '\\n'], ['на', ' ', 'покупка', ' ', 'автомобиль', '\\n'], ['покупка', ' ', 'коммерческий', ' ', 'недвижимость', '\\n'], ['строительство', ' ', 'недвижимость', '\\n'], ['получение', ' ', 'высокий', ' ', 'образование', '\\n'], ['на', ' ', 'проведение', ' ', 'свадьба', '\\n'], ['на', ' ', 'покупка', ' ', 'подержать', ' ', 'автомобиль', '\\n'], ['операция', ' ', 'с', ' ', 'коммерческий', ' ', 'недвижимость', '\\n'], ['недвижимость', '\\n'], ['жилье', '\\n'], ['недвижимость', '\\n'], ['свадьба', '\\n'], ['строительство', ' ', 'собственный', ' ', 'недвижимость', '\\n'], ['операция', ' ', 'с', ' ', 'жилье', '\\n'], ['на', ' ', 'покупка', ' ', 'свой', ' ', 'автомобиль', '\\n'], ['ремонт', ' ', 'жилье', '\\n'], ['образование', '\\n'], ['строительство', ' ', 'недвижимость', '\\n'], ['покупка', ' ', 'свой', ' ', 'жилье', '\\n'], ['образование', '\\n'], ['покупка', ' ', 'жилье', '\\n'], ['сыграть', ' ', 'свадьба', '\\n'], ['операция', ' ', 'с', ' ', 'коммерческий', ' ', 'недвижимость', '\\n'], ['свадьба', '\\n'], ['заниматься', ' ', 'образование', '\\n'], ['операция', ' ', 'со', ' ', 'свой', ' ', 'недвижимость', '\\n'], ['покупка', ' ', 'недвижимость', '\\n'], ['на', ' ', 'покупка', ' ', 'автомобиль', '\\n'], ['покупка', ' ', 'жилье', '\\n'], ['свой', ' ', 'автомобиль', '\\n'], ['операция', ' ', 'со', ' ', 'свой', ' ', 'недвижимость', '\\n'], ['покупка', ' ', 'жилой', ' ', 'недвижимость', '\\n'], ['профильный', ' ', 'образование', '\\n'], ['получение', ' ', 'образование', '\\n'], ['строительство', ' ', 'жилой', ' ', 'недвижимость', '\\n'], ['сделка', ' ', 'с', ' ', 'подержанный', ' ', 'автомобиль', '\\n'], ['строительство', ' ', 'собственный', ' ', 'недвижимость', '\\n'], ['на', ' ', 'покупка', ' ', 'автомобиль', '\\n'], ['ремонт', ' ', 'жилье', '\\n'], ['получение', ' ', 'высокий', ' ', 'образование', '\\n'], ['на', ' ', 'проведение', ' ', 'свадьба', '\\n'], ['строительство', ' ', 'жилой', ' ', 'недвижимость', '\\n'], ['операция', ' ', 'со', ' ', 'свой', ' ', 'недвижимость', '\\n'], ['покупка', ' ', 'жилье', ' ', 'для', ' ', 'семья', '\\n'], ['покупка', ' ', 'жилье', ' ', 'для', ' ', 'семья', '\\n'], ['получение', ' ', 'высокий', ' ', 'образование', '\\n'], ['автомобиль', '\\n'], ['покупка', ' ', 'свой', ' ', 'жилье', '\\n'], ['получение', ' ', 'высокий', ' ', 'образование', '\\n'], ['автомобиль', '\\n'], ['заниматься', ' ', 'высокий', ' ', 'образование', '\\n'], ['покупка', ' ', 'жилье', '\\n'], ['операция', ' ', 'с', ' ', 'жилье', '\\n'], ['покупка', ' ', 'жилой', ' ', 'недвижимость', '\\n'], ['покупка', ' ', 'жилье', '\\n'], ['строительство', ' ', 'собственный', ' ', 'недвижимость', '\\n'], ['строительство', ' ', 'жилой', ' ', 'недвижимость', '\\n'], ['сделка', ' ', 'с', ' ', 'подержанный', ' ', 'автомобиль', '\\n'], ['покупка', ' ', 'жилье', '\\n'], ['строительство', ' ', 'недвижимость', '\\n'], ['на', ' ', 'покупка', ' ', 'подержать', ' ', 'автомобиль', '\\n'], ['свадьба', '\\n'], ['жилье', '\\n'], ['жилье', '\\n'], ['покупка', ' ', 'свой', ' ', 'жилье', '\\n'], ['строительство', ' ', 'собственный', ' ', 'недвижимость', '\\n'], ['приобретение', ' ', 'автомобиль', '\\n'], ['дополнительный', ' ', 'образование', '\\n'], ['операция', ' ', 'с', ' ', 'жилье', '\\n'], ['строительство', ' ', 'недвижимость', '\\n'], ['операция', ' ', 'со', ' ', 'свой', ' ', 'недвижимость', '\\n'], ['строительство', ' ', 'жилой', ' ', 'недвижимость', '\\n'], ['приобретение', ' ', 'автомобиль', '\\n'], ['свадьба', '\\n'], ['операция', ' ', 'с', ' ', 'жилье', '\\n'], ['образование', '\\n'], ['на', ' ', 'покупка', ' ', 'подержать', ' ', 'автомобиль', '\\n'], ['операция', ' ', 'с', ' ', 'коммерческий', ' ', 'недвижимость', '\\n'], ['высокий', ' ', 'образование', '\\n'], ['приобретение', ' ', 'автомобиль', '\\n'], ['покупка', ' ', 'коммерческий', ' ', 'недвижимость', '\\n'], ['на', ' ', 'проведение', ' ', 'свадьба', '\\n'], ['на', ' ', 'покупка', ' ', 'свой', ' ', 'автомобиль', '\\n'], ['покупка', ' ', 'недвижимость', '\\n'], ['свой', ' ', 'автомобиль', '\\n'], ['операция', ' ', 'со', ' ', 'свой', ' ', 'недвижимость', '\\n'], ['высокий', ' ', 'образование', '\\n'], ['строительство', ' ', 'жилой', ' ', 'недвижимость', '\\n'], ['образование', '\\n'], ['заниматься', ' ', 'образование', '\\n'], ['получение', ' ', 'дополнительный', ' ', 'образование', '\\n'], ['профильный', ' ', 'образование', '\\n'], ['автомобиль', '\\n'], ['автомобиль', '\\n'], ['покупка', ' ', 'жилье', ' ', 'для', ' ', 'семья', '\\n'], ['свадьба', '\\n'], ['автомобиль', '\\n'], ['получение', ' ', 'образование', '\\n'], ['покупка', ' ', 'коммерческий', ' ', 'недвижимость', '\\n'], ['покупка', ' ', 'жилье', '\\n'], ['получение', ' ', 'высокий', ' ', 'образование', '\\n'], ['недвижимость', '\\n'], ['автомобиль', '\\n'], ['операция', ' ', 'со', ' ', 'свой', ' ', 'недвижимость', '\\n'], ['операция', ' ', 'с', ' ', 'коммерческий', ' ', 'недвижимость', '\\n'], ['на', ' ', 'покупка', ' ', 'подержать', ' ', 'автомобиль', '\\n'], ['на', ' ', 'покупка', ' ', 'подержать', ' ', 'автомобиль', '\\n'], ['операция', ' ', 'с', ' ', 'недвижимость', '\\n'], ['покупка', ' ', 'коммерческий', ' ', 'недвижимость', '\\n'], ['получение', ' ', 'образование', '\\n'], ['автомобиль', '\\n'], ['операция', ' ', 'со', ' ', 'свой', ' ', 'недвижимость', '\\n'], ['сыграть', ' ', 'свадьба', '\\n'], ['сыграть', ' ', 'свадьба', '\\n'], ['получение', ' ', 'дополнительный', ' ', 'образование', '\\n'], ['дополнительный', ' ', 'образование', '\\n'], ['приобретение', ' ', 'автомобиль', '\\n'], ['строительство', ' ', 'собственный', ' ', 'недвижимость', '\\n'], ['покупка', ' ', 'коммерческий', ' ', 'недвижимость', '\\n'], ['дополнительный', ' ', 'образование', '\\n'], ['профильный', ' ', 'образование', '\\n'], ['ремонт', ' ', 'жилье', '\\n'], ['ремонт', ' ', 'жилье', '\\n'], ['покупка', ' ', 'жилье', ' ', 'для', ' ', 'семья', '\\n'], ['строительство', ' ', 'собственный', ' ', 'недвижимость', '\\n'], ['покупка', ' ', 'жилье', ' ', 'для', ' ', 'сдача', '\\n'], ['автомобиль', '\\n'], ['операция', ' ', 'с', ' ', 'недвижимость', '\\n'], ['сыграть', ' ', 'свадьба', '\\n'], ['автомобиль', '\\n'], ['профильный', ' ', 'образование', '\\n'], ['строительство', ' ', 'собственный', ' ', 'недвижимость', '\\n'], ['операция', ' ', 'с', ' ', 'коммерческий', ' ', 'недвижимость', '\\n'], ['высокий', ' ', 'образование', '\\n'], ['операция', ' ', 'с', ' ', 'жилье', '\\n'], ['свадьба', '\\n'], ['свадьба', '\\n'], ['покупка', ' ', 'недвижимость', '\\n'], ['операция', ' ', 'с', ' ', 'жилье', '\\n'], ['строительство', ' ', 'собственный', ' ', 'недвижимость', '\\n'], ['покупка', ' ', 'жилье', '\\n'], ['недвижимость', '\\n'], ['недвижимость', '\\n'], ['на', ' ', 'покупка', ' ', 'свой', ' ', 'автомобиль', '\\n'], ['недвижимость', '\\n'], ['недвижимость', '\\n'], ['приобретение', ' ', 'автомобиль', '\\n'], ['на', ' ', 'проведение', ' ', 'свадьба', '\\n'], ['дополнительный', ' ', 'образование', '\\n'], ['на', ' ', 'покупка', ' ', 'подержать', ' ', 'автомобиль', '\\n'], ['строительство', ' ', 'жилой', ' ', 'недвижимость', '\\n'], ['строительство', ' ', 'недвижимость', '\\n'], ['получение', ' ', 'образование', '\\n'], ['на', ' ', 'покупка', ' ', 'автомобиль', '\\n'], ['покупка', ' ', 'жилье', '\\n'], ['недвижимость', '\\n'], ['покупка', ' ', 'коммерческий', ' ', 'недвижимость', '\\n'], ['покупка', ' ', 'недвижимость', '\\n'], ['на', ' ', 'покупка', ' ', 'свой', ' ', 'автомобиль', '\\n'], ['операция', ' ', 'с', ' ', 'коммерческий', ' ', 'недвижимость', '\\n'], ['на', ' ', 'покупка', ' ', 'автомобиль', '\\n'], ['покупка', ' ', 'жилье', '\\n'], ['автомобиль', '\\n'], ['операция', ' ', 'с', ' ', 'коммерческий', ' ', 'недвижимость', '\\n'], ['покупка', ' ', 'жилье', ' ', 'для', ' ', 'семья', '\\n'], ['свадьба', '\\n'], ['операция', ' ', 'с', ' ', 'недвижимость', '\\n'], ['заниматься', ' ', 'высокий', ' ', 'образование', '\\n'], ['покупка', ' ', 'жилье', ' ', 'для', ' ', 'семья', '\\n'], ['покупка', ' ', 'жилье', ' ', 'для', ' ', 'семья', '\\n'], ['операция', ' ', 'с', ' ', 'коммерческий', ' ', 'недвижимость', '\\n'], ['покупка', ' ', 'свой', ' ', 'жилье', '\\n'], ['получение', ' ', 'высокий', ' ', 'образование', '\\n'], ['сыграть', ' ', 'свадьба', '\\n'], ['покупка', ' ', 'коммерческий', ' ', 'недвижимость', '\\n'], ['покупка', ' ', 'недвижимость', '\\n'], ['высокий', ' ', 'образование', '\\n'], ['строительство', ' ', 'собственный', ' ', 'недвижимость', '\\n'], ['строительство', ' ', 'недвижимость', '\\n'], ['жилье', '\\n'], ['заниматься', ' ', 'образование', '\\n'], ['сделка', ' ', 'с', ' ', 'подержанный', ' ', 'автомобиль', '\\n'], ['приобретение', ' ', 'автомобиль', '\\n'], ['жилье', '\\n'], ['покупка', ' ', 'жилье', '\\n'], ['операция', ' ', 'с', ' ', 'недвижимость', '\\n'], ['дополнительный', ' ', 'образование', '\\n'], ['заниматься', ' ', 'образование', '\\n'], ['покупка', ' ', 'коммерческий', ' ', 'недвижимость', '\\n'], ['операция', ' ', 'с', ' ', 'коммерческий', ' ', 'недвижимость', '\\n'], ['покупка', ' ', 'свой', ' ', 'жилье', '\\n'], ['получение', ' ', 'высокий', ' ', 'образование', '\\n'], ['строительство', ' ', 'недвижимость', '\\n'], ['строительство', ' ', 'жилой', ' ', 'недвижимость', '\\n'], ['ремонт', ' ', 'жилье', '\\n'], ['автомобиль', '\\n'], ['недвижимость', '\\n'], ['покупка', ' ', 'жилье', ' ', 'для', ' ', 'семья', '\\n'], ['заниматься', ' ', 'образование', '\\n'], ['автомобиль', '\\n'], ['операция', ' ', 'с', ' ', 'недвижимость', '\\n'], ['сыграть', ' ', 'свадьба', '\\n'], ['строительство', ' ', 'собственный', ' ', 'недвижимость', '\\n'], ['покупка', ' ', 'недвижимость', '\\n'], ['строительство', ' ', 'жилой', ' ', 'недвижимость', '\\n'], ['на', ' ', 'проведение', ' ', 'свадьба', '\\n'], ['получение', ' ', 'дополнительный', ' ', 'образование', '\\n'], ['покупка', ' ', 'жилье', ' ', 'для', ' ', 'сдача', '\\n'], ['покупка', ' ', 'жилой', ' ', 'недвижимость', '\\n'], ['свадьба', '\\n'], ['сделка', ' ', 'с', ' ', 'подержанный', ' ', 'автомобиль', '\\n'], ['получение', ' ', 'образование', '\\n'], ['свадьба', '\\n'], ['строительство', ' ', 'собственный', ' ', 'недвижимость', '\\n'], ['на', ' ', 'проведение', ' ', 'свадьба', '\\n'], ['автомобиль', '\\n'], ['сделка', ' ', 'с', ' ', 'автомобиль', '\\n'], ['покупка', ' ', 'свой', ' ', 'жилье', '\\n'], ['высокий', ' ', 'образование', '\\n'], ['получение', ' ', 'высокий', ' ', 'образование', '\\n'], ['получение', ' ', 'высокий', ' ', 'образование', '\\n'], ['дополнительный', ' ', 'образование', '\\n'], ['покупка', ' ', 'жилье', ' ', 'для', ' ', 'сдача', '\\n'], ['операция', ' ', 'со', ' ', 'свой', ' ', 'недвижимость', '\\n'], ['сыграть', ' ', 'свадьба', '\\n'], ['свадьба', '\\n'], ['заниматься', ' ', 'образование', '\\n'], ['операция', ' ', 'с', ' ', 'недвижимость', '\\n'], ['на', ' ', 'покупка', ' ', 'автомобиль', '\\n'], ['жилье', '\\n'], ['свадьба', '\\n'], ['заниматься', ' ', 'образование', '\\n'], ['на', ' ', 'проведение', ' ', 'свадьба', '\\n'], ['недвижимость', '\\n'], ['жилье', '\\n'], ['покупка', ' ', 'жилье', '\\n'], ['сделка', ' ', 'с', ' ', 'автомобиль', '\\n'], ['образование', '\\n'], ['сделка', ' ', 'с', ' ', 'подержанный', ' ', 'автомобиль', '\\n'], ['автомобиль', '\\n'], ['покупка', ' ', 'коммерческий', ' ', 'недвижимость', '\\n'], ['недвижимость', '\\n'], ['строительство', ' ', 'недвижимость', '\\n'], ['на', ' ', 'покупка', ' ', 'подержать', ' ', 'автомобиль', '\\n'], ['получение', ' ', 'дополнительный', ' ', 'образование', '\\n'], ['получение', ' ', 'дополнительный', ' ', 'образование', '\\n'], ['получение', ' ', 'высокий', ' ', 'образование', '\\n'], ['ремонт', ' ', 'жилье', '\\n'], ['ремонт', ' ', 'жилье', '\\n'], ['покупка', ' ', 'свой', ' ', 'жилье', '\\n'], ['покупка', ' ', 'жилье', ' ', 'для', ' ', 'семья', '\\n'], ['свадьба', '\\n'], ['операция', ' ', 'с', ' ', 'жилье', '\\n'], ['свадьба', '\\n'], ['высокий', ' ', 'образование', '\\n'], ['покупка', ' ', 'свой', ' ', 'жилье', '\\n'], ['покупка', ' ', 'свой', ' ', 'жилье', '\\n'], ['покупка', ' ', 'свой', ' ', 'жилье', '\\n'], ['профильный', ' ', 'образование', '\\n'], ['дополнительный', ' ', 'образование', '\\n'], ['на', ' ', 'покупка', ' ', 'автомобиль', '\\n'], ['на', ' ', 'проведение', ' ', 'свадьба', '\\n'], ['покупка', ' ', 'жилье', ' ', 'для', ' ', 'семья', '\\n'], ['жилье', '\\n'], ['операция', ' ', 'с', ' ', 'недвижимость', '\\n'], ['покупка', ' ', 'жилье', ' ', 'для', ' ', 'сдача', '\\n'], ['покупка', ' ', 'недвижимость', '\\n'], ['образование', '\\n'], ['сыграть', ' ', 'свадьба', '\\n'], ['недвижимость', '\\n'], ['операция', ' ', 'с', ' ', 'коммерческий', ' ', 'недвижимость', '\\n'], ['автомобиль', '\\n'], ['сыграть', ' ', 'свадьба', '\\n'], ['образование', '\\n'], ['на', ' ', 'покупка', ' ', 'подержать', ' ', 'автомобиль', '\\n'], ['на', ' ', 'проведение', ' ', 'свадьба', '\\n'], ['заниматься', ' ', 'высокий', ' ', 'образование', '\\n'], ['на', ' ', 'проведение', ' ', 'свадьба', '\\n'], ['операция', ' ', 'с', ' ', 'недвижимость', '\\n'], ['операция', ' ', 'с', ' ', 'недвижимость', '\\n'], ['автомобиль', '\\n'], ['покупка', ' ', 'жилье', ' ', 'для', ' ', 'семья', '\\n'], ['операция', ' ', 'с', ' ', 'жилье', '\\n'], ['на', ' ', 'проведение', ' ', 'свадьба', '\\n'], ['покупка', ' ', 'жилье', '\\n'], ['автомобиль', '\\n'], ['получение', ' ', 'высокий', ' ', 'образование', '\\n'], ['дополнительный', ' ', 'образование', '\\n'], ['покупка', ' ', 'недвижимость', '\\n'], ['покупка', ' ', 'недвижимость', '\\n'], ['покупка', ' ', 'жилье', '\\n'], ['на', ' ', 'проведение', ' ', 'свадьба', '\\n'], ['покупка', ' ', 'жилье', '\\n'], ['строительство', ' ', 'собственный', ' ', 'недвижимость', '\\n'], ['ремонт', ' ', 'жилье', '\\n'], ['высокий', ' ', 'образование', '\\n'], ['покупка', ' ', 'жилье', ' ', 'для', ' ', 'семья', '\\n'], ['автомобиль', '\\n'], ['покупка', ' ', 'свой', ' ', 'жилье', '\\n'], ['на', ' ', 'проведение', ' ', 'свадьба', '\\n'], ['на', ' ', 'покупка', ' ', 'свой', ' ', 'автомобиль', '\\n'], ['заниматься', ' ', 'высокий', ' ', 'образование', '\\n'], ['ремонт', ' ', 'жилье', '\\n'], ['операция', ' ', 'с', ' ', 'недвижимость', '\\n'], ['сыграть', ' ', 'свадьба', '\\n'], ['свой', ' ', 'автомобиль', '\\n'], ['образование', '\\n'], ['операция', ' ', 'с', ' ', 'коммерческий', ' ', 'недвижимость', '\\n'], ['профильный', ' ', 'образование', '\\n'], ['ремонт', ' ', 'жилье', '\\n'], ['строительство', ' ', 'недвижимость', '\\n'], ['образование', '\\n'], ['заниматься', ' ', 'образование', '\\n'], ['покупка', ' ', 'жилой', ' ', 'недвижимость', '\\n'], ['сделка', ' ', 'с', ' ', 'подержанный', ' ', 'автомобиль', '\\n'], ['на', ' ', 'проведение', ' ', 'свадьба', '\\n'], ['дополнительный', ' ', 'образование', '\\n'], ['получение', ' ', 'дополнительный', ' ', 'образование', '\\n'], ['на', ' ', 'покупка', ' ', 'автомобиль', '\\n'], ['получение', ' ', 'образование', '\\n'], ['заниматься', ' ', 'образование', '\\n'], ['покупка', ' ', 'жилье', ' ', 'для', ' ', 'семья', '\\n'], ['строительство', ' ', 'жилой', ' ', 'недвижимость', '\\n'], ['покупка', ' ', 'коммерческий', ' ', 'недвижимость', '\\n'], ['автомобиль', '\\n'], ['покупка', ' ', 'жилье', '\\n'], ['покупка', ' ', 'жилье', '\\n'], ['на', ' ', 'проведение', ' ', 'свадьба', '\\n'], ['получение', ' ', 'дополнительный', ' ', 'образование', '\\n'], ['образование', '\\n'], ['свой', ' ', 'автомобиль', '\\n'], ['ремонт', ' ', 'жилье', '\\n'], ['строительство', ' ', 'недвижимость', '\\n'], ['свой', ' ', 'автомобиль', '\\n'], ['покупка', ' ', 'жилье', ' ', 'для', ' ', 'семья', '\\n'], ['сделка', ' ', 'с', ' ', 'подержанный', ' ', 'автомобиль', '\\n'], ['на', ' ', 'проведение', ' ', 'свадьба', '\\n'], ['строительство', ' ', 'жилой', ' ', 'недвижимость', '\\n'], ['жилье', '\\n'], ['получение', ' ', 'образование', '\\n'], ['операция', ' ', 'с', ' ', 'жилье', '\\n'], ['свадьба', '\\n'], ['автомобиль', '\\n'], ['сделка', ' ', 'с', ' ', 'автомобиль', '\\n'], ['покупка', ' ', 'недвижимость', '\\n'], ['свадьба', '\\n'], ['заниматься', ' ', 'образование', '\\n'], ['покупка', ' ', 'свой', ' ', 'жилье', '\\n'], ['строительство', ' ', 'недвижимость', '\\n'], ['профильный', ' ', 'образование', '\\n'], ['покупка', ' ', 'недвижимость', '\\n'], ['строительство', ' ', 'жилой', ' ', 'недвижимость', '\\n'], ['строительство', ' ', 'жилой', ' ', 'недвижимость', '\\n'], ['сыграть', ' ', 'свадьба', '\\n'], ['операция', ' ', 'с', ' ', 'недвижимость', '\\n'], ['покупка', ' ', 'коммерческий', ' ', 'недвижимость', '\\n'], ['операция', ' ', 'с', ' ', 'недвижимость', '\\n'], ['высокий', ' ', 'образование', '\\n'], ['профильный', ' ', 'образование', '\\n'], ['получение', ' ', 'высокий', ' ', 'образование', '\\n'], ['на', ' ', 'покупка', ' ', 'свой', ' ', 'автомобиль', '\\n'], ['покупка', ' ', 'жилье', ' ', 'для', ' ', 'семья', '\\n'], ['свадьба', '\\n'], ['жилье', '\\n'], ['ремонт', ' ', 'жилье', '\\n'], ['на', ' ', 'покупка', ' ', 'автомобиль', '\\n'], ['ремонт', ' ', 'жилье', '\\n'], ['жилье', '\\n'], ['заниматься', ' ', 'высокий', ' ', 'образование', '\\n'], ['образование', '\\n'], ['ремонт', ' ', 'жилье', '\\n'], ['жилье', '\\n'], ['автомобиль', '\\n'], ['получение', ' ', 'высокий', ' ', 'образование', '\\n'], ['свадьба', '\\n'], ['строительство', ' ', 'жилой', ' ', 'недвижимость', '\\n'], ['операция', ' ', 'со', ' ', 'свой', ' ', 'недвижимость', '\\n'], ['сделка', ' ', 'с', ' ', 'подержанный', ' ', 'автомобиль', '\\n'], ['покупка', ' ', 'жилье', ' ', 'для', ' ', 'семья', '\\n'], ['на', ' ', 'покупка', ' ', 'автомобиль', '\\n'], ['автомобиль', '\\n'], ['операция', ' ', 'со', ' ', 'свой', ' ', 'недвижимость', '\\n'], ['на', ' ', 'покупка', ' ', 'подержать', ' ', 'автомобиль', '\\n'], ['покупка', ' ', 'свой', ' ', 'жилье', '\\n'], ['заниматься', ' ', 'высокий', ' ', 'образование', '\\n'], ['ремонт', ' ', 'жилье', '\\n'], ['автомобиль', '\\n'], ['строительство', ' ', 'жилой', ' ', 'недвижимость', '\\n'], ['покупка', ' ', 'жилой', ' ', 'недвижимость', '\\n'], ['покупка', ' ', 'свой', ' ', 'жилье', '\\n'], ['жилье', '\\n'], ['покупка', ' ', 'жилье', '\\n'], ['покупка', ' ', 'жилье', ' ', 'для', ' ', 'семья', '\\n'], ['на', ' ', 'покупка', ' ', 'подержать', ' ', 'автомобиль', '\\n'], ['ремонт', ' ', 'жилье', '\\n'], ['операция', ' ', 'с', ' ', 'коммерческий', ' ', 'недвижимость', '\\n'], ['профильный', ' ', 'образование', '\\n'], ['покупка', ' ', 'жилье', '\\n'], ['получение', ' ', 'высокий', ' ', 'образование', '\\n'], ['высокий', ' ', 'образование', '\\n'], ['покупка', ' ', 'жилье', '\\n'], ['строительство', ' ', 'собственный', ' ', 'недвижимость', '\\n'], ['покупка', ' ', 'свой', ' ', 'жилье', '\\n'], ['покупка', ' ', 'недвижимость', '\\n'], ['строительство', ' ', 'жилой', ' ', 'недвижимость', '\\n'], ['получение', ' ', 'дополнительный', ' ', 'образование', '\\n'], ['покупка', ' ', 'жилье', ' ', 'для', ' ', 'семья', '\\n'], ['на', ' ', 'покупка', ' ', 'автомобиль', '\\n'], ['покупка', ' ', 'недвижимость', '\\n'], ['свой', ' ', 'автомобиль', '\\n'], ['образование', '\\n'], ['на', ' ', 'покупка', ' ', 'свой', ' ', 'автомобиль', '\\n'], ['на', ' ', 'проведение', ' ', 'свадьба', '\\n'], ['образование', '\\n'], ['на', ' ', 'покупка', ' ', 'подержать', ' ', 'автомобиль', '\\n'], ['недвижимость', '\\n'], ['свой', ' ', 'автомобиль', '\\n'], ['заниматься', ' ', 'высокий', ' ', 'образование', '\\n'], ['свадьба', '\\n'], ['получение', ' ', 'дополнительный', ' ', 'образование', '\\n'], ['операция', ' ', 'со', ' ', 'свой', ' ', 'недвижимость', '\\n'], ['свой', ' ', 'автомобиль', '\\n'], ['покупка', ' ', 'коммерческий', ' ', 'недвижимость', '\\n'], ['недвижимость', '\\n'], ['покупка', ' ', 'коммерческий', ' ', 'недвижимость', '\\n'], ['образование', '\\n'], ['сделка', ' ', 'с', ' ', 'подержанный', ' ', 'автомобиль', '\\n'], ['на', ' ', 'проведение', ' ', 'свадьба', '\\n'], ['недвижимость', '\\n'], ['жилье', '\\n'], ['автомобиль', '\\n'], ['автомобиль', '\\n'], ['покупка', ' ', 'жилье', ' ', 'для', ' ', 'сдача', '\\n'], ['покупка', ' ', 'свой', ' ', 'жилье', '\\n'], ['недвижимость', '\\n'], ['покупка', ' ', 'жилье', ' ', 'для', ' ', 'сдача', '\\n'], ['сыграть', ' ', 'свадьба', '\\n'], ['сделка', ' ', 'с', ' ', 'подержанный', ' ', 'автомобиль', '\\n'], ['операция', ' ', 'с', ' ', 'недвижимость', '\\n'], ['автомобиль', '\\n'], ['недвижимость', '\\n'], ['покупка', ' ', 'жилой', ' ', 'недвижимость', '\\n'], ['приобретение', ' ', 'автомобиль', '\\n'], ['операция', ' ', 'с', ' ', 'недвижимость', '\\n'], ['на', ' ', 'покупка', ' ', 'подержать', ' ', 'автомобиль', '\\n'], ['приобретение', ' ', 'автомобиль', '\\n'], ['покупка', ' ', 'жилье', '\\n'], ['заниматься', ' ', 'высокий', ' ', 'образование', '\\n'], ['покупка', ' ', 'жилье', ' ', 'для', ' ', 'семья', '\\n'], ['свадьба', '\\n'], ['на', ' ', 'покупка', ' ', 'автомобиль', '\\n'], ['операция', ' ', 'с', ' ', 'коммерческий', ' ', 'недвижимость', '\\n'], ['покупка', ' ', 'жилье', ' ', 'для', ' ', 'семья', '\\n'], ['операция', ' ', 'с', ' ', 'коммерческий', ' ', 'недвижимость', '\\n'], ['сыграть', ' ', 'свадьба', '\\n'], ['покупка', ' ', 'коммерческий', ' ', 'недвижимость', '\\n'], ['высокий', ' ', 'образование', '\\n'], ['строительство', ' ', 'жилой', ' ', 'недвижимость', '\\n'], ['заниматься', ' ', 'образование', '\\n'], ['свадьба', '\\n'], ['на', ' ', 'покупка', ' ', 'автомобиль', '\\n'], ['заниматься', ' ', 'высокий', ' ', 'образование', '\\n'], ['недвижимость', '\\n'], ['покупка', ' ', 'жилой', ' ', 'недвижимость', '\\n'], ['на', ' ', 'покупка', ' ', 'свой', ' ', 'автомобиль', '\\n'], ['заниматься', ' ', 'образование', '\\n'], ['заниматься', ' ', 'высокий', ' ', 'образование', '\\n'], ['покупка', ' ', 'жилье', '\\n'], ['сыграть', ' ', 'свадьба', '\\n'], ['покупка', ' ', 'жилье', '\\n'], ['покупка', ' ', 'жилье', '\\n'], ['на', ' ', 'проведение', ' ', 'свадьба', '\\n'], ['дополнительный', ' ', 'образование', '\\n'], ['операция', ' ', 'со', ' ', 'свой', ' ', 'недвижимость', '\\n'], ['покупка', ' ', 'свой', ' ', 'жилье', '\\n'], ['покупка', ' ', 'жилой', ' ', 'недвижимость', '\\n'], ['на', ' ', 'покупка', ' ', 'свой', ' ', 'автомобиль', '\\n'], ['операция', ' ', 'с', ' ', 'жилье', '\\n'], ['на', ' ', 'проведение', ' ', 'свадьба', '\\n'], ['получение', ' ', 'дополнительный', ' ', 'образование', '\\n'], ['строительство', ' ', 'собственный', ' ', 'недвижимость', '\\n'], ['покупка', ' ', 'недвижимость', '\\n'], ['заниматься', ' ', 'образование', '\\n'], ['покупка', ' ', 'жилье', '\\n'], ['автомобиль', '\\n'], ['строительство', ' ', 'жилой', ' ', 'недвижимость', '\\n'], ['операция', ' ', 'с', ' ', 'коммерческий', ' ', 'недвижимость', '\\n'], ['высокий', ' ', 'образование', '\\n'], ['образование', '\\n'], ['операция', ' ', 'со', ' ', 'свой', ' ', 'недвижимость', '\\n'], ['на', ' ', 'покупка', ' ', 'автомобиль', '\\n'], ['получение', ' ', 'высокий', ' ', 'образование', '\\n'], ['недвижимость', '\\n'], ['получение', ' ', 'высокий', ' ', 'образование', '\\n'], ['на', ' ', 'проведение', ' ', 'свадьба', '\\n'], ['операция', ' ', 'с', ' ', 'жилье', '\\n'], ['на', ' ', 'проведение', ' ', 'свадьба', '\\n'], ['строительство', ' ', 'собственный', ' ', 'недвижимость', '\\n'], ['автомобиль', '\\n'], ['покупка', ' ', 'свой', ' ', 'жилье', '\\n'], ['покупка', ' ', 'жилой', ' ', 'недвижимость', '\\n'], ['строительство', ' ', 'жилой', ' ', 'недвижимость', '\\n'], ['сыграть', ' ', 'свадьба', '\\n'], ['заниматься', ' ', 'высокий', ' ', 'образование', '\\n'], ['строительство', ' ', 'недвижимость', '\\n'], ['покупка', ' ', 'жилье', '\\n'], ['покупка', ' ', 'жилье', ' ', 'для', ' ', 'семья', '\\n'], ['автомобиль', '\\n'], ['сыграть', ' ', 'свадьба', '\\n'], ['сделка', ' ', 'с', ' ', 'подержанный', ' ', 'автомобиль', '\\n'], ['получение', ' ', 'образование', '\\n'], ['недвижимость', '\\n'], ['свой', ' ', 'автомобиль', '\\n'], ['покупка', ' ', 'жилье', ' ', 'для', ' ', 'семья', '\\n'], ['операция', ' ', 'с', ' ', 'недвижимость', '\\n'], ['профильный', ' ', 'образование', '\\n'], ['покупка', ' ', 'жилой', ' ', 'недвижимость', '\\n'], ['на', ' ', 'проведение', ' ', 'свадьба', '\\n'], ['сыграть', ' ', 'свадьба', '\\n'], ['дополнительный', ' ', 'образование', '\\n'], ['сделка', ' ', 'с', ' ', 'подержанный', ' ', 'автомобиль', '\\n'], ['покупка', ' ', 'свой', ' ', 'жилье', '\\n'], ['сделка', ' ', 'с', ' ', 'автомобиль', '\\n'], ['жилье', '\\n'], ['операция', ' ', 'с', ' ', 'недвижимость', '\\n'], ['на', ' ', 'покупка', ' ', 'свой', ' ', 'автомобиль', '\\n'], ['строительство', ' ', 'недвижимость', '\\n'], ['покупка', ' ', 'жилье', ' ', 'для', ' ', 'семья', '\\n'], ['получение', ' ', 'высокий', ' ', 'образование', '\\n'], ['строительство', ' ', 'жилой', ' ', 'недвижимость', '\\n'], ['покупка', ' ', 'жилье', ' ', 'для', ' ', 'семья', '\\n'], ['заниматься', ' ', 'высокий', ' ', 'образование', '\\n'], ['на', ' ', 'покупка', ' ', 'подержать', ' ', 'автомобиль', '\\n'], ['строительство', ' ', 'жилой', ' ', 'недвижимость', '\\n'], ['высокий', ' ', 'образование', '\\n'], ['покупка', ' ', 'жилье', '\\n'], ['покупка', ' ', 'свой', ' ', 'жилье', '\\n'], ['на', ' ', 'покупка', ' ', 'автомобиль', '\\n'], ['операция', ' ', 'со', ' ', 'свой', ' ', 'недвижимость', '\\n'], ['свой', ' ', 'автомобиль', '\\n'], ['операция', ' ', 'с', ' ', 'коммерческий', ' ', 'недвижимость', '\\n'], ['недвижимость', '\\n'], ['на', ' ', 'покупка', ' ', 'свой', ' ', 'автомобиль', '\\n'], ['покупка', ' ', 'недвижимость', '\\n'], ['приобретение', ' ', 'автомобиль', '\\n'], ['строительство', ' ', 'недвижимость', '\\n'], ['покупка', ' ', 'недвижимость', '\\n'], ['ремонт', ' ', 'жилье', '\\n'], ['операция', ' ', 'со', ' ', 'свой', ' ', 'недвижимость', '\\n'], ['получение', ' ', 'образование', '\\n'], ['на', ' ', 'проведение', ' ', 'свадьба', '\\n'], ['профильный', ' ', 'образование', '\\n'], ['свой', ' ', 'автомобиль', '\\n'], ['строительство', ' ', 'недвижимость', '\\n'], ['покупка', ' ', 'коммерческий', ' ', 'недвижимость', '\\n'], ['профильный', ' ', 'образование', '\\n'], ['сыграть', ' ', 'свадьба', '\\n'], ['покупка', ' ', 'жилье', ' ', 'для', ' ', 'сдача', '\\n'], ['покупка', ' ', 'свой', ' ', 'жилье', '\\n'], ['покупка', ' ', 'свой', ' ', 'жилье', '\\n'], ['операция', ' ', 'с', ' ', 'коммерческий', ' ', 'недвижимость', '\\n'], ['строительство', ' ', 'недвижимость', '\\n'], ['сделка', ' ', 'с', ' ', 'автомобиль', '\\n'], ['высокий', ' ', 'образование', '\\n'], ['покупка', ' ', 'жилье', ' ', 'для', ' ', 'сдача', '\\n'], ['жилье', '\\n'], ['жилье', '\\n'], ['покупка', ' ', 'жилой', ' ', 'недвижимость', '\\n'], ['заниматься', ' ', 'высокий', ' ', 'образование', '\\n'], ['операция', ' ', 'с', ' ', 'недвижимость', '\\n'], ['недвижимость', '\\n'], ['покупка', ' ', 'жилье', ' ', 'для', ' ', 'сдача', '\\n'], ['покупка', ' ', 'жилье', '\\n'], ['сделка', ' ', 'с', ' ', 'автомобиль', '\\n'], ['на', ' ', 'покупка', ' ', 'свой', ' ', 'автомобиль', '\\n'], ['покупка', ' ', 'жилой', ' ', 'недвижимость', '\\n'], ['получение', ' ', 'образование', '\\n'], ['покупка', ' ', 'коммерческий', ' ', 'недвижимость', '\\n'], ['сделка', ' ', 'с', ' ', 'автомобиль', '\\n'], ['операция', ' ', 'с', ' ', 'жилье', '\\n'], ['операция', ' ', 'с', ' ', 'жилье', '\\n'], ['на', ' ', 'проведение', ' ', 'свадьба', '\\n'], ['операция', ' ', 'со', ' ', 'свой', ' ', 'недвижимость', '\\n'], ['получение', ' ', 'дополнительный', ' ', 'образование', '\\n'], ['строительство', ' ', 'недвижимость', '\\n'], ['на', ' ', 'покупка', ' ', 'автомобиль', '\\n'], ['ремонт', ' ', 'жилье', '\\n'], ['покупка', ' ', 'жилье', '\\n'], ['строительство', ' ', 'собственный', ' ', 'недвижимость', '\\n'], ['покупка', ' ', 'свой', ' ', 'жилье', '\\n'], ['операция', ' ', 'с', ' ', 'коммерческий', ' ', 'недвижимость', '\\n'], ['покупка', ' ', 'жилье', ' ', 'для', ' ', 'сдача', '\\n'], ['получение', ' ', 'дополнительный', ' ', 'образование', '\\n'], ['покупка', ' ', 'коммерческий', ' ', 'недвижимость', '\\n'], ['строительство', ' ', 'недвижимость', '\\n'], ['на', ' ', 'покупка', ' ', 'автомобиль', '\\n'], ['приобретение', ' ', 'автомобиль', '\\n'], ['строительство', ' ', 'собственный', ' ', 'недвижимость', '\\n'], ['покупка', ' ', 'недвижимость', '\\n'], ['покупка', ' ', 'недвижимость', '\\n'], ['покупка', ' ', 'жилой', ' ', 'недвижимость', '\\n'], ['образование', '\\n'], ['заниматься', ' ', 'образование', '\\n'], ['операция', ' ', 'со', ' ', 'свой', ' ', 'недвижимость', '\\n'], ['свой', ' ', 'автомобиль', '\\n'], ['покупка', ' ', 'коммерческий', ' ', 'недвижимость', '\\n'], ['приобретение', ' ', 'автомобиль', '\\n'], ['на', ' ', 'проведение', ' ', 'свадьба', '\\n'], ['строительство', ' ', 'жилой', ' ', 'недвижимость', '\\n'], ['покупка', ' ', 'свой', ' ', 'жилье', '\\n'], ['образование', '\\n'], ['покупка', ' ', 'жилье', ' ', 'для', ' ', 'семья', '\\n'], ['сыграть', ' ', 'свадьба', '\\n'], ['покупка', ' ', 'недвижимость', '\\n'], ['сделка', ' ', 'с', ' ', 'автомобиль', '\\n'], ['операция', ' ', 'с', ' ', 'коммерческий', ' ', 'недвижимость', '\\n'], ['покупка', ' ', 'коммерческий', ' ', 'недвижимость', '\\n'], ['на', ' ', 'покупка', ' ', 'автомобиль', '\\n'], ['получение', ' ', 'дополнительный', ' ', 'образование', '\\n'], ['строительство', ' ', 'недвижимость', '\\n'], ['автомобиль', '\\n'], ['профильный', ' ', 'образование', '\\n'], ['дополнительный', ' ', 'образование', '\\n'], ['получение', ' ', 'образование', '\\n'], ['покупка', ' ', 'недвижимость', '\\n'], ['покупка', ' ', 'коммерческий', ' ', 'недвижимость', '\\n'], ['автомобиль', '\\n'], ['недвижимость', '\\n'], ['покупка', ' ', 'жилье', ' ', 'для', ' ', 'семья', '\\n'], ['на', ' ', 'покупка', ' ', 'свой', ' ', 'автомобиль', '\\n'], ['получение', ' ', 'образование', '\\n'], ['на', ' ', 'проведение', ' ', 'свадьба', '\\n'], ['недвижимость', '\\n'], ['операция', ' ', 'со', ' ', 'свой', ' ', 'недвижимость', '\\n'], ['покупка', ' ', 'жилье', ' ', 'для', ' ', 'семья', '\\n'], ['получение', ' ', 'образование', '\\n'], ['покупка', ' ', 'жилье', ' ', 'для', ' ', 'семья', '\\n'], ['профильный', ' ', 'образование', '\\n'], ['недвижимость', '\\n'], ['на', ' ', 'покупка', ' ', 'свой', ' ', 'автомобиль', '\\n'], ['покупка', ' ', 'жилье', ' ', 'для', ' ', 'семья', '\\n'], ['покупка', ' ', 'жилье', ' ', 'для', ' ', 'семья', '\\n'], ['сделка', ' ', 'с', ' ', 'автомобиль', '\\n'], ['покупка', ' ', 'жилье', ' ', 'для', ' ', 'сдача', '\\n'], ['на', ' ', 'покупка', ' ', 'свой', ' ', 'автомобиль', '\\n'], ['автомобиль', '\\n'], ['на', ' ', 'покупка', ' ', 'подержать', ' ', 'автомобиль', '\\n'], ['сыграть', ' ', 'свадьба', '\\n'], ['свадьба', '\\n'], ['заниматься', ' ', 'высокий', ' ', 'образование', '\\n'], ['операция', ' ', 'с', ' ', 'жилье', '\\n'], ['высокий', ' ', 'образование', '\\n'], ['заниматься', ' ', 'высокий', ' ', 'образование', '\\n'], ['ремонт', ' ', 'жилье', '\\n'], ['недвижимость', '\\n'], ['покупка', ' ', 'жилье', ' ', 'для', ' ', 'сдача', '\\n'], ['автомобиль', '\\n'], ['строительство', ' ', 'жилой', ' ', 'недвижимость', '\\n'], ['покупка', ' ', 'жилье', ' ', 'для', ' ', 'семья', '\\n'], ['на', ' ', 'проведение', ' ', 'свадьба', '\\n'], ['покупка', ' ', 'свой', ' ', 'жилье', '\\n'], ['ремонт', ' ', 'жилье', '\\n'], ['жилье', '\\n'], ['операция', ' ', 'с', ' ', 'жилье', '\\n'], ['на', ' ', 'покупка', ' ', 'подержать', ' ', 'автомобиль', '\\n'], ['образование', '\\n'], ['получение', ' ', 'высокий', ' ', 'образование', '\\n'], ['заниматься', ' ', 'высокий', ' ', 'образование', '\\n'], ['покупка', ' ', 'свой', ' ', 'жилье', '\\n'], ['покупка', ' ', 'жилье', '\\n'], ['строительство', ' ', 'собственный', ' ', 'недвижимость', '\\n'], ['на', ' ', 'проведение', ' ', 'свадьба', '\\n'], ['сделка', ' ', 'с', ' ', 'автомобиль', '\\n'], ['строительство', ' ', 'жилой', ' ', 'недвижимость', '\\n'], ['дополнительный', ' ', 'образование', '\\n'], ['на', ' ', 'покупка', ' ', 'автомобиль', '\\n'], ['операция', ' ', 'со', ' ', 'свой', ' ', 'недвижимость', '\\n'], ['высокий', ' ', 'образование', '\\n'], ['на', ' ', 'покупка', ' ', 'автомобиль', '\\n'], ['ремонт', ' ', 'жилье', '\\n'], ['операция', ' ', 'с', ' ', 'коммерческий', ' ', 'недвижимость', '\\n'], ['покупка', ' ', 'недвижимость', '\\n'], ['ремонт', ' ', 'жилье', '\\n'], ['покупка', ' ', 'жилой', ' ', 'недвижимость', '\\n'], ['заниматься', ' ', 'образование', '\\n'], ['заниматься', ' ', 'образование', '\\n'], ['недвижимость', '\\n'], ['покупка', ' ', 'свой', ' ', 'жилье', '\\n'], ['приобретение', ' ', 'автомобиль', '\\n'], ['дополнительный', ' ', 'образование', '\\n'], ['получение', ' ', 'дополнительный', ' ', 'образование', '\\n'], ['операция', ' ', 'с', ' ', 'жилье', '\\n'], ['операция', ' ', 'с', ' ', 'коммерческий', ' ', 'недвижимость', '\\n'], ['свадьба', '\\n'], ['на', ' ', 'проведение', ' ', 'свадьба', '\\n'], ['строительство', ' ', 'собственный', ' ', 'недвижимость', '\\n'], ['покупка', ' ', 'жилье', ' ', 'для', ' ', 'сдача', '\\n'], ['покупка', ' ', 'жилой', ' ', 'недвижимость', '\\n'], ['операция', ' ', 'со', ' ', 'свой', ' ', 'недвижимость', '\\n'], ['профильный', ' ', 'образование', '\\n'], ['жилье', '\\n'], ['сделка', ' ', 'с', ' ', 'автомобиль', '\\n'], ['сделка', ' ', 'с', ' ', 'подержанный', ' ', 'автомобиль', '\\n'], ['на', ' ', 'покупка', ' ', 'автомобиль', '\\n'], ['автомобиль', '\\n'], ['заниматься', ' ', 'образование', '\\n'], ['недвижимость', '\\n'], ['ремонт', ' ', 'жилье', '\\n'], ['свадьба', '\\n'], ['покупка', ' ', 'жилье', ' ', 'для', ' ', 'семья', '\\n'], ['заниматься', ' ', 'образование', '\\n'], ['покупка', ' ', 'коммерческий', ' ', 'недвижимость', '\\n'], ['покупка', ' ', 'жилье', '\\n'], ['строительство', ' ', 'недвижимость', '\\n'], ['автомобиль', '\\n'], ['заниматься', ' ', 'образование', '\\n'], ['автомобиль', '\\n'], ['покупка', ' ', 'коммерческий', ' ', 'недвижимость', '\\n'], ['покупка', ' ', 'недвижимость', '\\n'], ['высокий', ' ', 'образование', '\\n'], ['строительство', ' ', 'жилой', ' ', 'недвижимость', '\\n'], ['свадьба', '\\n'], ['получение', ' ', 'дополнительный', ' ', 'образование', '\\n'], ['получение', ' ', 'высокий', ' ', 'образование', '\\n'], ['дополнительный', ' ', 'образование', '\\n'], ['сделка', ' ', 'с', ' ', 'подержанный', ' ', 'автомобиль', '\\n'], ['образование', '\\n'], ['строительство', ' ', 'жилой', ' ', 'недвижимость', '\\n'], ['покупка', ' ', 'жилье', ' ', 'для', ' ', 'семья', '\\n'], ['заниматься', ' ', 'образование', '\\n'], ['недвижимость', '\\n'], ['на', ' ', 'покупка', ' ', 'подержать', ' ', 'автомобиль', '\\n'], ['дополнительный', ' ', 'образование', '\\n'], ['получение', ' ', 'образование', '\\n'], ['жилье', '\\n'], ['покупка', ' ', 'жилье', '\\n'], ['получение', ' ', 'образование', '\\n'], ['операция', ' ', 'с', ' ', 'коммерческий', ' ', 'недвижимость', '\\n'], ['ремонт', ' ', 'жилье', '\\n'], ['получение', ' ', 'образование', '\\n'], ['получение', ' ', 'дополнительный', ' ', 'образование', '\\n'], ['высокий', ' ', 'образование', '\\n'], ['строительство', ' ', 'собственный', ' ', 'недвижимость', '\\n'], ['свадьба', '\\n'], ['получение', ' ', 'дополнительный', ' ', 'образование', '\\n'], ['строительство', ' ', 'собственный', ' ', 'недвижимость', '\\n'], ['покупка', ' ', 'коммерческий', ' ', 'недвижимость', '\\n'], ['покупка', ' ', 'коммерческий', ' ', 'недвижимость', '\\n'], ['сделка', ' ', 'с', ' ', 'подержанный', ' ', 'автомобиль', '\\n'], ['покупка', ' ', 'недвижимость', '\\n'], ['образование', '\\n'], ['свой', ' ', 'автомобиль', '\\n'], ['строительство', ' ', 'собственный', ' ', 'недвижимость', '\\n'], ['сделка', ' ', 'с', ' ', 'подержанный', ' ', 'автомобиль', '\\n'], ['свой', ' ', 'автомобиль', '\\n'], ['на', ' ', 'покупка', ' ', 'свой', ' ', 'автомобиль', '\\n'], ['свадьба', '\\n'], ['операция', ' ', 'с', ' ', 'жилье', '\\n'], ['получение', ' ', 'высокий', ' ', 'образование', '\\n'], ['на', ' ', 'проведение', ' ', 'свадьба', '\\n'], ['строительство', ' ', 'недвижимость', '\\n'], ['сделка', ' ', 'с', ' ', 'подержанный', ' ', 'автомобиль', '\\n'], ['покупка', ' ', 'жилье', ' ', 'для', ' ', 'семья', '\\n'], ['дополнительный', ' ', 'образование', '\\n'], ['строительство', ' ', 'собственный', ' ', 'недвижимость', '\\n'], ['покупка', ' ', 'коммерческий', ' ', 'недвижимость', '\\n'], ['на', ' ', 'покупка', ' ', 'свой', ' ', 'автомобиль', '\\n'], ['операция', ' ', 'с', ' ', 'жилье', '\\n'], ['получение', ' ', 'высокий', ' ', 'образование', '\\n'], ['операция', ' ', 'с', ' ', 'коммерческий', ' ', 'недвижимость', '\\n'], ['жилье', '\\n'], ['операция', ' ', 'со', ' ', 'свой', ' ', 'недвижимость', '\\n'], ['покупка', ' ', 'жилье', ' ', 'для', ' ', 'сдача', '\\n'], ['сделка', ' ', 'с', ' ', 'автомобиль', '\\n'], ['покупка', ' ', 'жилье', ' ', 'для', ' ', 'семья', '\\n'], ['жилье', '\\n'], ['свадьба', '\\n'], ['дополнительный', ' ', 'образование', '\\n'], ['дополнительный', ' ', 'образование', '\\n'], ['покупка', ' ', 'жилье', ' ', 'для', ' ', 'семья', '\\n'], ['строительство', ' ', 'недвижимость', '\\n'], ['ремонт', ' ', 'жилье', '\\n'], ['на', ' ', 'покупка', ' ', 'автомобиль', '\\n'], ['покупка', ' ', 'свой', ' ', 'жилье', '\\n'], ['покупка', ' ', 'жилье', '\\n'], ['покупка', ' ', 'недвижимость', '\\n'], ['строительство', ' ', 'жилой', ' ', 'недвижимость', '\\n'], ['получение', ' ', 'дополнительный', ' ', 'образование', '\\n'], ['строительство', ' ', 'жилой', ' ', 'недвижимость', '\\n'], ['автомобиль', '\\n'], ['автомобиль', '\\n'], ['на', ' ', 'проведение', ' ', 'свадьба', '\\n'], ['на', ' ', 'проведение', ' ', 'свадьба', '\\n'], ['получение', ' ', 'дополнительный', ' ', 'образование', '\\n'], ['покупка', ' ', 'свой', ' ', 'жилье', '\\n'], ['строительство', ' ', 'жилой', ' ', 'недвижимость', '\\n'], ['сделка', ' ', 'с', ' ', 'автомобиль', '\\n'], ['дополнительный', ' ', 'образование', '\\n'], ['получение', ' ', 'образование', '\\n'], ['сделка', ' ', 'с', ' ', 'автомобиль', '\\n'], ['высокий', ' ', 'образование', '\\n'], ['автомобиль', '\\n'], ['получение', ' ', 'дополнительный', ' ', 'образование', '\\n'], ['приобретение', ' ', 'автомобиль', '\\n'], ['покупка', ' ', 'жилье', ' ', 'для', ' ', 'сдача', '\\n'], ['покупка', ' ', 'жилье', ' ', 'для', ' ', 'сдача', '\\n'], ['сыграть', ' ', 'свадьба', '\\n'], ['сыграть', ' ', 'свадьба', '\\n'], ['покупка', ' ', 'жилой', ' ', 'недвижимость', '\\n'], ['покупка', ' ', 'жилье', ' ', 'для', ' ', 'семья', '\\n'], ['покупка', ' ', 'жилье', '\\n'], ['операция', ' ', 'с', ' ', 'жилье', '\\n'], ['операция', ' ', 'со', ' ', 'свой', ' ', 'недвижимость', '\\n'], ['покупка', ' ', 'жилье', '\\n'], ['операция', ' ', 'со', ' ', 'свой', ' ', 'недвижимость', '\\n'], ['операция', ' ', 'со', ' ', 'свой', ' ', 'недвижимость', '\\n'], ['свадьба', '\\n'], ['автомобиль', '\\n'], ['профильный', ' ', 'образование', '\\n'], ['получение', ' ', 'высокий', ' ', 'образование', '\\n'], ['получение', ' ', 'образование', '\\n'], ['строительство', ' ', 'жилой', ' ', 'недвижимость', '\\n'], ['автомобиль', '\\n'], ['строительство', ' ', 'жилой', ' ', 'недвижимость', '\\n'], ['операция', ' ', 'с', ' ', 'недвижимость', '\\n'], ['сыграть', ' ', 'свадьба', '\\n'], ['покупка', ' ', 'жилой', ' ', 'недвижимость', '\\n'], ['покупка', ' ', 'жилой', ' ', 'недвижимость', '\\n'], ['автомобиль', '\\n'], ['покупка', ' ', 'жилье', ' ', 'для', ' ', 'семья', '\\n'], ['ремонт', ' ', 'жилье', '\\n'], ['свой', ' ', 'автомобиль', '\\n'], ['получение', ' ', 'высокий', ' ', 'образование', '\\n'], ['свой', ' ', 'автомобиль', '\\n'], ['ремонт', ' ', 'жилье', '\\n'], ['операция', ' ', 'с', ' ', 'коммерческий', ' ', 'недвижимость', '\\n'], ['свой', ' ', 'автомобиль', '\\n'], ['покупка', ' ', 'жилье', ' ', 'для', ' ', 'сдача', '\\n'], ['покупка', ' ', 'свой', ' ', 'жилье', '\\n'], ['ремонт', ' ', 'жилье', '\\n'], ['строительство', ' ', 'жилой', ' ', 'недвижимость', '\\n'], ['покупка', ' ', 'жилье', ' ', 'для', ' ', 'семья', '\\n'], ['профильный', ' ', 'образование', '\\n'], ['покупка', ' ', 'недвижимость', '\\n'], ['покупка', ' ', 'жилье', '\\n'], ['жилье', '\\n'], ['строительство', ' ', 'жилой', ' ', 'недвижимость', '\\n'], ['профильный', ' ', 'образование', '\\n'], ['жилье', '\\n'], ['высокий', ' ', 'образование', '\\n'], ['операция', ' ', 'со', ' ', 'свой', ' ', 'недвижимость', '\\n'], ['операция', ' ', 'со', ' ', 'свой', ' ', 'недвижимость', '\\n'], ['свадьба', '\\n'], ['получение', ' ', 'образование', '\\n'], ['на', ' ', 'проведение', ' ', 'свадьба', '\\n'], ['покупка', ' ', 'свой', ' ', 'жилье', '\\n'], ['покупка', ' ', 'коммерческий', ' ', 'недвижимость', '\\n'], ['дополнительный', ' ', 'образование', '\\n'], ['автомобиль', '\\n'], ['заниматься', ' ', 'высокий', ' ', 'образование', '\\n'], ['высокий', ' ', 'образование', '\\n'], ['покупка', ' ', 'жилье', ' ', 'для', ' ', 'семья', '\\n'], ['строительство', ' ', 'собственный', ' ', 'недвижимость', '\\n'], ['ремонт', ' ', 'жилье', '\\n'], ['получение', ' ', 'образование', '\\n'], ['на', ' ', 'покупка', ' ', 'подержать', ' ', 'автомобиль', '\\n'], ['операция', ' ', 'со', ' ', 'свой', ' ', 'недвижимость', '\\n'], ['на', ' ', 'проведение', ' ', 'свадьба', '\\n'], ['покупка', ' ', 'свой', ' ', 'жилье', '\\n'], ['покупка', ' ', 'свой', ' ', 'жилье', '\\n'], ['строительство', ' ', 'жилой', ' ', 'недвижимость', '\\n'], ['сыграть', ' ', 'свадьба', '\\n'], ['сыграть', ' ', 'свадьба', '\\n'], ['получение', ' ', 'дополнительный', ' ', 'образование', '\\n'], ['операция', ' ', 'с', ' ', 'недвижимость', '\\n'], ['свой', ' ', 'автомобиль', '\\n'], ['дополнительный', ' ', 'образование', '\\n'], ['на', ' ', 'проведение', ' ', 'свадьба', '\\n'], ['покупка', ' ', 'жилье', '\\n'], ['покупка', ' ', 'жилье', '\\n'], ['свой', ' ', 'автомобиль', '\\n'], ['на', ' ', 'покупка', ' ', 'подержать', ' ', 'автомобиль', '\\n'], ['покупка', ' ', 'жилой', ' ', 'недвижимость', '\\n'], ['покупка', ' ', 'жилье', ' ', 'для', ' ', 'семья', '\\n'], ['сделка', ' ', 'с', ' ', 'подержанный', ' ', 'автомобиль', '\\n'], ['профильный', ' ', 'образование', '\\n'], ['сделка', ' ', 'с', ' ', 'подержанный', ' ', 'автомобиль', '\\n'], ['строительство', ' ', 'собственный', ' ', 'недвижимость', '\\n'], ['покупка', ' ', 'жилье', ' ', 'для', ' ', 'семья', '\\n'], ['ремонт', ' ', 'жилье', '\\n'], ['покупка', ' ', 'недвижимость', '\\n'], ['ремонт', ' ', 'жилье', '\\n'], ['покупка', ' ', 'коммерческий', ' ', 'недвижимость', '\\n'], ['операция', ' ', 'с', ' ', 'жилье', '\\n'], ['высокий', ' ', 'образование', '\\n'], ['автомобиль', '\\n'], ['операция', ' ', 'со', ' ', 'свой', ' ', 'недвижимость', '\\n'], ['жилье', '\\n'], ['профильный', ' ', 'образование', '\\n'], ['покупка', ' ', 'жилой', ' ', 'недвижимость', '\\n'], ['профильный', ' ', 'образование', '\\n'], ['недвижимость', '\\n'], ['жилье', '\\n'], ['недвижимость', '\\n'], ['покупка', ' ', 'жилой', ' ', 'недвижимость', '\\n'], ['дополнительный', ' ', 'образование', '\\n'], ['автомобиль', '\\n'], ['свой', ' ', 'автомобиль', '\\n'], ['ремонт', ' ', 'жилье', '\\n'], ['на', ' ', 'проведение', ' ', 'свадьба', '\\n'], ['покупка', ' ', 'недвижимость', '\\n'], ['покупка', ' ', 'свой', ' ', 'жилье', '\\n'], ['покупка', ' ', 'свой', ' ', 'жилье', '\\n'], ['заниматься', ' ', 'образование', '\\n'], ['сыграть', ' ', 'свадьба', '\\n'], ['на', ' ', 'проведение', ' ', 'свадьба', '\\n'], ['сыграть', ' ', 'свадьба', '\\n'], ['покупка', ' ', 'недвижимость', '\\n'], ['на', ' ', 'покупка', ' ', 'подержать', ' ', 'автомобиль', '\\n'], ['операция', ' ', 'с', ' ', 'недвижимость', '\\n'], ['образование', '\\n'], ['покупка', ' ', 'жилье', ' ', 'для', ' ', 'семья', '\\n'], ['покупка', ' ', 'жилой', ' ', 'недвижимость', '\\n'], ['операция', ' ', 'с', ' ', 'коммерческий', ' ', 'недвижимость', '\\n'], ['получение', ' ', 'дополнительный', ' ', 'образование', '\\n'], ['покупка', ' ', 'жилье', ' ', 'для', ' ', 'сдача', '\\n'], ['свадьба', '\\n'], ['профильный', ' ', 'образование', '\\n'], ['автомобиль', '\\n'], ['недвижимость', '\\n'], ['сыграть', ' ', 'свадьба', '\\n'], ['на', ' ', 'проведение', ' ', 'свадьба', '\\n'], ['покупка', ' ', 'недвижимость', '\\n'], ['на', ' ', 'проведение', ' ', 'свадьба', '\\n'], ['профильный', ' ', 'образование', '\\n'], ['автомобиль', '\\n'], ['покупка', ' ', 'жилье', ' ', 'для', ' ', 'сдача', '\\n'], ['строительство', ' ', 'недвижимость', '\\n'], ['заниматься', ' ', 'образование', '\\n'], ['сделка', ' ', 'с', ' ', 'подержанный', ' ', 'автомобиль', '\\n'], ['дополнительный', ' ', 'образование', '\\n'], ['ремонт', ' ', 'жилье', '\\n'], ['покупка', ' ', 'жилье', '\\n'], ['на', ' ', 'проведение', ' ', 'свадьба', '\\n'], ['свой', ' ', 'автомобиль', '\\n'], ['покупка', ' ', 'жилье', ' ', 'для', ' ', 'сдача', '\\n'], ['на', ' ', 'покупка', ' ', 'свой', ' ', 'автомобиль', '\\n'], ['операция', ' ', 'с', ' ', 'жилье', '\\n'], ['недвижимость', '\\n'], ['высокий', ' ', 'образование', '\\n'], ['операция', ' ', 'со', ' ', 'свой', ' ', 'недвижимость', '\\n'], ['сделка', ' ', 'с', ' ', 'автомобиль', '\\n'], ['сделка', ' ', 'с', ' ', 'подержанный', ' ', 'автомобиль', '\\n'], ['дополнительный', ' ', 'образование', '\\n'], ['недвижимость', '\\n'], ['операция', ' ', 'с', ' ', 'жилье', '\\n'], ['свадьба', '\\n'], ['на', ' ', 'покупка', ' ', 'свой', ' ', 'автомобиль', '\\n'], ['автомобиль', '\\n'], ['высокий', ' ', 'образование', '\\n'], ['операция', ' ', 'с', ' ', 'коммерческий', ' ', 'недвижимость', '\\n'], ['образование', '\\n'], ['строительство', ' ', 'собственный', ' ', 'недвижимость', '\\n'], ['сделка', ' ', 'с', ' ', 'подержанный', ' ', 'автомобиль', '\\n'], ['покупка', ' ', 'недвижимость', '\\n'], ['свадьба', '\\n'], ['недвижимость', '\\n'], ['покупка', ' ', 'недвижимость', '\\n'], ['недвижимость', '\\n'], ['образование', '\\n'], ['покупка', ' ', 'жилой', ' ', 'недвижимость', '\\n'], ['приобретение', ' ', 'автомобиль', '\\n'], ['строительство', ' ', 'недвижимость', '\\n'], ['покупка', ' ', 'жилой', ' ', 'недвижимость', '\\n'], ['получение', ' ', 'образование', '\\n'], ['на', ' ', 'покупка', ' ', 'подержать', ' ', 'автомобиль', '\\n'], ['сыграть', ' ', 'свадьба', '\\n'], ['операция', ' ', 'со', ' ', 'свой', ' ', 'недвижимость', '\\n'], ['операция', ' ', 'с', ' ', 'коммерческий', ' ', 'недвижимость', '\\n'], ['покупка', ' ', 'жилье', '\\n'], ['получение', ' ', 'высокий', ' ', 'образование', '\\n'], ['операция', ' ', 'с', ' ', 'недвижимость', '\\n'], ['жилье', '\\n'], ['на', ' ', 'проведение', ' ', 'свадьба', '\\n'], ['операция', ' ', 'с', ' ', 'жилье', '\\n'], ['на', ' ', 'проведение', ' ', 'свадьба', '\\n'], ['на', ' ', 'покупка', ' ', 'подержать', ' ', 'автомобиль', '\\n'], ['на', ' ', 'покупка', ' ', 'подержать', ' ', 'автомобиль', '\\n'], ['профильный', ' ', 'образование', '\\n'], ['приобретение', ' ', 'автомобиль', '\\n'], ['заниматься', ' ', 'высокий', ' ', 'образование', '\\n'], ['покупка', ' ', 'жилье', ' ', 'для', ' ', 'сдача', '\\n'], ['покупка', ' ', 'коммерческий', ' ', 'недвижимость', '\\n'], ['жилье', '\\n'], ['свой', ' ', 'автомобиль', '\\n'], ['строительство', ' ', 'собственный', ' ', 'недвижимость', '\\n'], ['на', ' ', 'покупка', ' ', 'автомобиль', '\\n'], ['получение', ' ', 'высокий', ' ', 'образование', '\\n'], ['заниматься', ' ', 'образование', '\\n'], ['сыграть', ' ', 'свадьба', '\\n'], ['сделка', ' ', 'с', ' ', 'подержанный', ' ', 'автомобиль', '\\n'], ['профильный', ' ', 'образование', '\\n'], ['на', ' ', 'проведение', ' ', 'свадьба', '\\n'], ['покупка', ' ', 'жилье', '\\n'], ['покупка', ' ', 'жилье', ' ', 'для', ' ', 'сдача', '\\n'], ['свадьба', '\\n'], ['покупка', ' ', 'недвижимость', '\\n'], ['покупка', ' ', 'коммерческий', ' ', 'недвижимость', '\\n'], ['строительство', ' ', 'жилой', ' ', 'недвижимость', '\\n'], ['сыграть', ' ', 'свадьба', '\\n'], ['строительство', ' ', 'жилой', ' ', 'недвижимость', '\\n'], ['сделка', ' ', 'с', ' ', 'подержанный', ' ', 'автомобиль', '\\n'], ['недвижимость', '\\n'], ['покупка', ' ', 'жилье', ' ', 'для', ' ', 'семья', '\\n'], ['операция', ' ', 'со', ' ', 'свой', ' ', 'недвижимость', '\\n'], ['сыграть', ' ', 'свадьба', '\\n'], ['получение', ' ', 'высокий', ' ', 'образование', '\\n'], ['свой', ' ', 'автомобиль', '\\n'], ['сделка', ' ', 'с', ' ', 'подержанный', ' ', 'автомобиль', '\\n'], ['на', ' ', 'покупка', ' ', 'автомобиль', '\\n'], ['операция', ' ', 'с', ' ', 'недвижимость', '\\n'], ['покупка', ' ', 'коммерческий', ' ', 'недвижимость', '\\n'], ['покупка', ' ', 'жилой', ' ', 'недвижимость', '\\n'], ['на', ' ', 'покупка', ' ', 'свой', ' ', 'автомобиль', '\\n'], ['профильный', ' ', 'образование', '\\n'], ['приобретение', ' ', 'автомобиль', '\\n'], ['на', ' ', 'проведение', ' ', 'свадьба', '\\n'], ['операция', ' ', 'со', ' ', 'свой', ' ', 'недвижимость', '\\n'], ['операция', ' ', 'с', ' ', 'недвижимость', '\\n'], ['строительство', ' ', 'жилой', ' ', 'недвижимость', '\\n'], ['операция', ' ', 'со', ' ', 'свой', ' ', 'недвижимость', '\\n'], ['строительство', ' ', 'недвижимость', '\\n'], ['покупка', ' ', 'жилье', '\\n'], ['сыграть', ' ', 'свадьба', '\\n'], ['строительство', ' ', 'недвижимость', '\\n'], ['покупка', ' ', 'коммерческий', ' ', 'недвижимость', '\\n'], ['приобретение', ' ', 'автомобиль', '\\n'], ['сделка', ' ', 'с', ' ', 'автомобиль', '\\n'], ['на', ' ', 'покупка', ' ', 'автомобиль', '\\n'], ['на', ' ', 'проведение', ' ', 'свадьба', '\\n'], ['высокий', ' ', 'образование', '\\n'], ['покупка', ' ', 'недвижимость', '\\n'], ['покупка', ' ', 'свой', ' ', 'жилье', '\\n'], ['на', ' ', 'покупка', ' ', 'подержать', ' ', 'автомобиль', '\\n'], ['на', ' ', 'проведение', ' ', 'свадьба', '\\n'], ['получение', ' ', 'дополнительный', ' ', 'образование', '\\n'], ['на', ' ', 'покупка', ' ', 'подержать', ' ', 'автомобиль', '\\n'], ['строительство', ' ', 'собственный', ' ', 'недвижимость', '\\n'], ['строительство', ' ', 'жилой', ' ', 'недвижимость', '\\n'], ['покупка', ' ', 'жилье', ' ', 'для', ' ', 'сдача', '\\n'], ['сделка', ' ', 'с', ' ', 'автомобиль', '\\n'], ['сделка', ' ', 'с', ' ', 'подержанный', ' ', 'автомобиль', '\\n'], ['строительство', ' ', 'недвижимость', '\\n'], ['операция', ' ', 'с', ' ', 'коммерческий', ' ', 'недвижимость', '\\n'], ['операция', ' ', 'с', ' ', 'жилье', '\\n'], ['строительство', ' ', 'собственный', ' ', 'недвижимость', '\\n'], ['операция', ' ', 'с', ' ', 'коммерческий', ' ', 'недвижимость', '\\n'], ['на', ' ', 'покупка', ' ', 'подержать', ' ', 'автомобиль', '\\n'], ['автомобиль', '\\n'], ['покупка', ' ', 'жилье', ' ', 'для', ' ', 'сдача', '\\n'], ['покупка', ' ', 'недвижимость', '\\n'], ['строительство', ' ', 'жилой', ' ', 'недвижимость', '\\n'], ['высокий', ' ', 'образование', '\\n'], ['покупка', ' ', 'коммерческий', ' ', 'недвижимость', '\\n'], ['получение', ' ', 'образование', '\\n'], ['жилье', '\\n'], ['высокий', ' ', 'образование', '\\n'], ['автомобиль', '\\n'], ['строительство', ' ', 'недвижимость', '\\n'], ['сделка', ' ', 'с', ' ', 'автомобиль', '\\n'], ['на', ' ', 'покупка', ' ', 'автомобиль', '\\n'], ['автомобиль', '\\n'], ['операция', ' ', 'с', ' ', 'недвижимость', '\\n'], ['профильный', ' ', 'образование', '\\n'], ['сыграть', ' ', 'свадьба', '\\n'], ['сыграть', ' ', 'свадьба', '\\n'], ['покупка', ' ', 'недвижимость', '\\n'], ['высокий', ' ', 'образование', '\\n'], ['свадьба', '\\n'], ['покупка', ' ', 'жилье', ' ', 'для', ' ', 'сдача', '\\n'], ['операция', ' ', 'с', ' ', 'жилье', '\\n'], ['свадьба', '\\n'], ['автомобиль', '\\n'], ['покупка', ' ', 'недвижимость', '\\n'], ['заниматься', ' ', 'высокий', ' ', 'образование', '\\n'], ['высокий', ' ', 'образование', '\\n'], ['покупка', ' ', 'жилье', ' ', 'для', ' ', 'сдача', '\\n'], ['на', ' ', 'покупка', ' ', 'автомобиль', '\\n'], ['свадьба', '\\n'], ['свой', ' ', 'автомобиль', '\\n'], ['дополнительный', ' ', 'образование', '\\n'], ['высокий', ' ', 'образование', '\\n'], ['получение', ' ', 'образование', '\\n'], ['высокий', ' ', 'образование', '\\n'], ['покупка', ' ', 'свой', ' ', 'жилье', '\\n'], ['покупка', ' ', 'жилье', ' ', 'для', ' ', 'сдача', '\\n'], ['жилье', '\\n'], ['автомобиль', '\\n'], ['покупка', ' ', 'жилой', ' ', 'недвижимость', '\\n'], ['свадьба', '\\n'], ['на', ' ', 'покупка', ' ', 'подержать', ' ', 'автомобиль', '\\n'], ['покупка', ' ', 'жилье', ' ', 'для', ' ', 'сдача', '\\n'], ['высокий', ' ', 'образование', '\\n'], ['операция', ' ', 'с', ' ', 'жилье', '\\n'], ['операция', ' ', 'с', ' ', 'недвижимость', '\\n'], ['автомобиль', '\\n'], ['покупка', ' ', 'жилой', ' ', 'недвижимость', '\\n'], ['свадьба', '\\n'], ['на', ' ', 'покупка', ' ', 'автомобиль', '\\n'], ['покупка', ' ', 'коммерческий', ' ', 'недвижимость', '\\n'], ['строительство', ' ', 'недвижимость', '\\n'], ['профильный', ' ', 'образование', '\\n'], ['образование', '\\n'], ['операция', ' ', 'с', ' ', 'коммерческий', ' ', 'недвижимость', '\\n'], ['приобретение', ' ', 'автомобиль', '\\n'], ['покупка', ' ', 'жилье', ' ', 'для', ' ', 'сдача', '\\n'], ['на', ' ', 'проведение', ' ', 'свадьба', '\\n'], ['строительство', ' ', 'жилой', ' ', 'недвижимость', '\\n'], ['автомобиль', '\\n'], ['покупка', ' ', 'коммерческий', ' ', 'недвижимость', '\\n'], ['высокий', ' ', 'образование', '\\n'], ['получение', ' ', 'образование', '\\n'], ['образование', '\\n'], ['на', ' ', 'покупка', ' ', 'свой', ' ', 'автомобиль', '\\n'], ['заниматься', ' ', 'образование', '\\n'], ['покупка', ' ', 'жилой', ' ', 'недвижимость', '\\n'], ['получение', ' ', 'образование', '\\n'], ['покупка', ' ', 'жилье', ' ', 'для', ' ', 'семья', '\\n'], ['ремонт', ' ', 'жилье', '\\n'], ['строительство', ' ', 'недвижимость', '\\n'], ['получение', ' ', 'дополнительный', ' ', 'образование', '\\n'], ['свадьба', '\\n'], ['получение', ' ', 'образование', '\\n'], ['сыграть', ' ', 'свадьба', '\\n'], ['операция', ' ', 'со', ' ', 'свой', ' ', 'недвижимость', '\\n'], ['операция', ' ', 'с', ' ', 'недвижимость', '\\n'], ['операция', ' ', 'с', ' ', 'жилье', '\\n'], ['сделка', ' ', 'с', ' ', 'подержанный', ' ', 'автомобиль', '\\n'], ['сделка', ' ', 'с', ' ', 'автомобиль', '\\n'], ['строительство', ' ', 'недвижимость', '\\n'], ['на', ' ', 'проведение', ' ', 'свадьба', '\\n'], ['строительство', ' ', 'жилой', ' ', 'недвижимость', '\\n'], ['сделка', ' ', 'с', ' ', 'подержанный', ' ', 'автомобиль', '\\n'], ['сделка', ' ', 'с', ' ', 'подержанный', ' ', 'автомобиль', '\\n'], ['покупка', ' ', 'жилье', ' ', 'для', ' ', 'сдача', '\\n'], ['строительство', ' ', 'недвижимость', '\\n'], ['недвижимость', '\\n'], ['на', ' ', 'покупка', ' ', 'подержать', ' ', 'автомобиль', '\\n'], ['недвижимость', '\\n'], ['высокий', ' ', 'образование', '\\n'], ['на', ' ', 'проведение', ' ', 'свадьба', '\\n'], ['сделка', ' ', 'с', ' ', 'автомобиль', '\\n'], ['получение', ' ', 'высокий', ' ', 'образование', '\\n'], ['свадьба', '\\n'], ['свадьба', '\\n'], ['операция', ' ', 'с', ' ', 'недвижимость', '\\n'], ['недвижимость', '\\n'], ['сделка', ' ', 'с', ' ', 'подержанный', ' ', 'автомобиль', '\\n'], ['покупка', ' ', 'недвижимость', '\\n'], ['покупка', ' ', 'свой', ' ', 'жилье', '\\n'], ['свой', ' ', 'автомобиль', '\\n'], ['покупка', ' ', 'жилье', '\\n'], ['на', ' ', 'проведение', ' ', 'свадьба', '\\n'], ['покупка', ' ', 'жилье', '\\n'], ['операция', ' ', 'с', ' ', 'коммерческий', ' ', 'недвижимость', '\\n'], ['покупка', ' ', 'жилье', ' ', 'для', ' ', 'семья', '\\n'], ['свой', ' ', 'автомобиль', '\\n'], ['покупка', ' ', 'жилой', ' ', 'недвижимость', '\\n'], ['покупка', ' ', 'жилье', ' ', 'для', ' ', 'сдача', '\\n'], ['получение', ' ', 'дополнительный', ' ', 'образование', '\\n'], ['дополнительный', ' ', 'образование', '\\n'], ['высокий', ' ', 'образование', '\\n'], ['недвижимость', '\\n'], ['получение', ' ', 'высокий', ' ', 'образование', '\\n'], ['покупка', ' ', 'жилой', ' ', 'недвижимость', '\\n'], ['сделка', ' ', 'с', ' ', 'подержанный', ' ', 'автомобиль', '\\n'], ['операция', ' ', 'с', ' ', 'коммерческий', ' ', 'недвижимость', '\\n'], ['на', ' ', 'покупка', ' ', 'автомобиль', '\\n'], ['на', ' ', 'покупка', ' ', 'свой', ' ', 'автомобиль', '\\n'], ['ремонт', ' ', 'жилье', '\\n'], ['ремонт', ' ', 'жилье', '\\n'], ['покупка', ' ', 'свой', ' ', 'жилье', '\\n'], ['операция', ' ', 'со', ' ', 'свой', ' ', 'недвижимость', '\\n'], ['покупка', ' ', 'свой', ' ', 'жилье', '\\n'], ['покупка', ' ', 'жилье', ' ', 'для', ' ', 'сдача', '\\n'], ['на', ' ', 'покупка', ' ', 'свой', ' ', 'автомобиль', '\\n'], ['операция', ' ', 'со', ' ', 'свой', ' ', 'недвижимость', '\\n'], ['на', ' ', 'покупка', ' ', 'подержать', ' ', 'автомобиль', '\\n'], ['строительство', ' ', 'жилой', ' ', 'недвижимость', '\\n'], ['на', ' ', 'проведение', ' ', 'свадьба', '\\n'], ['покупка', ' ', 'жилье', ' ', 'для', ' ', 'сдача', '\\n'], ['приобретение', ' ', 'автомобиль', '\\n'], ['покупка', ' ', 'жилье', ' ', 'для', ' ', 'сдача', '\\n'], ['строительство', ' ', 'собственный', ' ', 'недвижимость', '\\n'], ['на', ' ', 'покупка', ' ', 'свой', ' ', 'автомобиль', '\\n'], ['дополнительный', ' ', 'образование', '\\n'], ['приобретение', ' ', 'автомобиль', '\\n'], ['заниматься', ' ', 'высокий', ' ', 'образование', '\\n'], ['свадьба', '\\n'], ['покупка', ' ', 'коммерческий', ' ', 'недвижимость', '\\n'], ['операция', ' ', 'с', ' ', 'недвижимость', '\\n'], ['покупка', ' ', 'жилье', '\\n'], ['строительство', ' ', 'жилой', ' ', 'недвижимость', '\\n'], ['сделка', ' ', 'с', ' ', 'подержанный', ' ', 'автомобиль', '\\n'], ['свадьба', '\\n'], ['ремонт', ' ', 'жилье', '\\n'], ['покупка', ' ', 'жилой', ' ', 'недвижимость', '\\n'], ['заниматься', ' ', 'образование', '\\n'], ['приобретение', ' ', 'автомобиль', '\\n'], ['приобретение', ' ', 'автомобиль', '\\n'], ['покупка', ' ', 'жилой', ' ', 'недвижимость', '\\n'], ['получение', ' ', 'высокий', ' ', 'образование', '\\n'], ['покупка', ' ', 'недвижимость', '\\n'], ['автомобиль', '\\n'], ['свадьба', '\\n'], ['недвижимость', '\\n'], ['операция', ' ', 'со', ' ', 'свой', ' ', 'недвижимость', '\\n'], ['покупка', ' ', 'коммерческий', ' ', 'недвижимость', '\\n'], ['покупка', ' ', 'жилье', ' ', 'для', ' ', 'сдача', '\\n'], ['покупка', ' ', 'коммерческий', ' ', 'недвижимость', '\\n'], ['автомобиль', '\\n'], ['ремонт', ' ', 'жилье', '\\n'], ['покупка', ' ', 'коммерческий', ' ', 'недвижимость', '\\n'], ['покупка', ' ', 'жилье', ' ', 'для', ' ', 'семья', '\\n'], ['покупка', ' ', 'жилье', '\\n'], ['дополнительный', ' ', 'образование', '\\n'], ['покупка', ' ', 'жилой', ' ', 'недвижимость', '\\n'], ['автомобиль', '\\n'], ['заниматься', ' ', 'образование', '\\n'], ['получение', ' ', 'образование', '\\n'], ['строительство', ' ', 'жилой', ' ', 'недвижимость', '\\n'], ['автомобиль', '\\n'], ['операция', ' ', 'с', ' ', 'коммерческий', ' ', 'недвижимость', '\\n'], ['покупка', ' ', 'жилье', ' ', 'для', ' ', 'сдача', '\\n'], ['покупка', ' ', 'жилой', ' ', 'недвижимость', '\\n'], ['жилье', '\\n'], ['заниматься', ' ', 'высокий', ' ', 'образование', '\\n'], ['образование', '\\n'], ['образование', '\\n'], ['покупка', ' ', 'жилье', ' ', 'для', ' ', 'сдача', '\\n'], ['получение', ' ', 'дополнительный', ' ', 'образование', '\\n'], ['операция', ' ', 'с', ' ', 'жилье', '\\n'], ['дополнительный', ' ', 'образование', '\\n'], ['операция', ' ', 'с', ' ', 'недвижимость', '\\n'], ['покупка', ' ', 'жилье', ' ', 'для', ' ', 'сдача', '\\n'], ['на', ' ', 'покупка', ' ', 'подержать', ' ', 'автомобиль', '\\n'], ['сделка', ' ', 'с', ' ', 'подержанный', ' ', 'автомобиль', '\\n'], ['автомобиль', '\\n'], ['операция', ' ', 'с', ' ', 'недвижимость', '\\n'], ['покупка', ' ', 'жилье', ' ', 'для', ' ', 'семья', '\\n'], ['операция', ' ', 'с', ' ', 'жилье', '\\n'], ['покупка', ' ', 'жилье', '\\n'], ['операция', ' ', 'с', ' ', 'коммерческий', ' ', 'недвижимость', '\\n'], ['жилье', '\\n'], ['автомобиль', '\\n'], ['на', ' ', 'проведение', ' ', 'свадьба', '\\n'], ['покупка', ' ', 'недвижимость', '\\n'], ['покупка', ' ', 'свой', ' ', 'жилье', '\\n'], ['покупка', ' ', 'жилье', ' ', 'для', ' ', 'семья', '\\n'], ['ремонт', ' ', 'жилье', '\\n'], ['покупка', ' ', 'свой', ' ', 'жилье', '\\n'], ['покупка', ' ', 'жилье', '\\n'], ['недвижимость', '\\n'], ['ремонт', ' ', 'жилье', '\\n'], ['покупка', ' ', 'жилье', ' ', 'для', ' ', 'сдача', '\\n'], ['операция', ' ', 'со', ' ', 'свой', ' ', 'недвижимость', '\\n'], ['строительство', ' ', 'жилой', ' ', 'недвижимость', '\\n'], ['образование', '\\n'], ['свадьба', '\\n'], ['недвижимость', '\\n'], ['операция', ' ', 'с', ' ', 'жилье', '\\n'], ['жилье', '\\n'], ['покупка', ' ', 'жилье', ' ', 'для', ' ', 'семья', '\\n'], ['жилье', '\\n'], ['свадьба', '\\n'], ['строительство', ' ', 'собственный', ' ', 'недвижимость', '\\n'], ['сыграть', ' ', 'свадьба', '\\n'], ['автомобиль', '\\n'], ['покупка', ' ', 'жилье', ' ', 'для', ' ', 'семья', '\\n'], ['строительство', ' ', 'собственный', ' ', 'недвижимость', '\\n'], ['жилье', '\\n'], ['сыграть', ' ', 'свадьба', '\\n'], ['на', ' ', 'покупка', ' ', 'автомобиль', '\\n'], ['покупка', ' ', 'свой', ' ', 'жилье', '\\n'], ['покупка', ' ', 'жилье', ' ', 'для', ' ', 'сдача', '\\n'], ['покупка', ' ', 'жилье', '\\n'], ['на', ' ', 'проведение', ' ', 'свадьба', '\\n'], ['сделка', ' ', 'с', ' ', 'подержанный', ' ', 'автомобиль', '\\n'], ['заниматься', ' ', 'образование', '\\n'], ['недвижимость', '\\n'], ['автомобиль', '\\n'], ['сделка', ' ', 'с', ' ', 'автомобиль', '\\n'], ['на', ' ', 'покупка', ' ', 'подержать', ' ', 'автомобиль', '\\n'], ['операция', ' ', 'со', ' ', 'свой', ' ', 'недвижимость', '\\n'], ['заниматься', ' ', 'высокий', ' ', 'образование', '\\n'], ['покупка', ' ', 'жилой', ' ', 'недвижимость', '\\n'], ['покупка', ' ', 'свой', ' ', 'жилье', '\\n'], ['свадьба', '\\n'], ['автомобиль', '\\n'], ['операция', ' ', 'с', ' ', 'недвижимость', '\\n'], ['дополнительный', ' ', 'образование', '\\n'], ['покупка', ' ', 'недвижимость', '\\n'], ['ремонт', ' ', 'жилье', '\\n'], ['недвижимость', '\\n'], ['сделка', ' ', 'с', ' ', 'подержанный', ' ', 'автомобиль', '\\n'], ['недвижимость', '\\n'], ['на', ' ', 'покупка', ' ', 'подержать', ' ', 'автомобиль', '\\n'], ['приобретение', ' ', 'автомобиль', '\\n'], ['операция', ' ', 'с', ' ', 'коммерческий', ' ', 'недвижимость', '\\n'], ['ремонт', ' ', 'жилье', '\\n'], ['операция', ' ', 'с', ' ', 'коммерческий', ' ', 'недвижимость', '\\n'], ['строительство', ' ', 'жилой', ' ', 'недвижимость', '\\n'], ['операция', ' ', 'с', ' ', 'коммерческий', ' ', 'недвижимость', '\\n'], ['строительство', ' ', 'недвижимость', '\\n'], ['покупка', ' ', 'жилье', ' ', 'для', ' ', 'сдача', '\\n'], ['покупка', ' ', 'свой', ' ', 'жилье', '\\n'], ['недвижимость', '\\n'], ['заниматься', ' ', 'высокий', ' ', 'образование', '\\n'], ['операция', ' ', 'с', ' ', 'недвижимость', '\\n'], ['заниматься', ' ', 'образование', '\\n'], ['покупка', ' ', 'недвижимость', '\\n'], ['строительство', ' ', 'жилой', ' ', 'недвижимость', '\\n'], ['покупка', ' ', 'коммерческий', ' ', 'недвижимость', '\\n'], ['строительство', ' ', 'жилой', ' ', 'недвижимость', '\\n'], ['сделка', ' ', 'с', ' ', 'автомобиль', '\\n'], ['автомобиль', '\\n'], ['на', ' ', 'проведение', ' ', 'свадьба', '\\n'], ['высокий', ' ', 'образование', '\\n'], ['профильный', ' ', 'образование', '\\n'], ['покупка', ' ', 'коммерческий', ' ', 'недвижимость', '\\n'], ['покупка', ' ', 'недвижимость', '\\n'], ['строительство', ' ', 'жилой', ' ', 'недвижимость', '\\n'], ['покупка', ' ', 'жилье', ' ', 'для', ' ', 'семья', '\\n'], ['строительство', ' ', 'недвижимость', '\\n'], ['покупка', ' ', 'коммерческий', ' ', 'недвижимость', '\\n'], ['заниматься', ' ', 'образование', '\\n'], ['операция', ' ', 'со', ' ', 'свой', ' ', 'недвижимость', '\\n'], ['получение', ' ', 'образование', '\\n'], ['получение', ' ', 'дополнительный', ' ', 'образование', '\\n'], ['операция', ' ', 'со', ' ', 'свой', ' ', 'недвижимость', '\\n'], ['на', ' ', 'покупка', ' ', 'свой', ' ', 'автомобиль', '\\n'], ['сделка', ' ', 'с', ' ', 'подержанный', ' ', 'автомобиль', '\\n'], ['на', ' ', 'покупка', ' ', 'свой', ' ', 'автомобиль', '\\n'], ['сделка', ' ', 'с', ' ', 'подержанный', ' ', 'автомобиль', '\\n'], ['на', ' ', 'покупка', ' ', 'автомобиль', '\\n'], ['покупка', ' ', 'жилой', ' ', 'недвижимость', '\\n'], ['на', ' ', 'покупка', ' ', 'свой', ' ', 'автомобиль', '\\n'], ['ремонт', ' ', 'жилье', '\\n'], ['автомобиль', '\\n'], ['свой', ' ', 'автомобиль', '\\n'], ['покупка', ' ', 'жилой', ' ', 'недвижимость', '\\n'], ['жилье', '\\n'], ['покупка', ' ', 'недвижимость', '\\n'], ['покупка', ' ', 'недвижимость', '\\n'], ['сделка', ' ', 'с', ' ', 'автомобиль', '\\n'], ['покупка', ' ', 'жилье', ' ', 'для', ' ', 'сдача', '\\n'], ['сыграть', ' ', 'свадьба', '\\n'], ['строительство', ' ', 'недвижимость', '\\n'], ['профильный', ' ', 'образование', '\\n'], ['покупка', ' ', 'коммерческий', ' ', 'недвижимость', '\\n'], ['на', ' ', 'покупка', ' ', 'подержать', ' ', 'автомобиль', '\\n'], ['жилье', '\\n'], ['сыграть', ' ', 'свадьба', '\\n'], ['покупка', ' ', 'жилой', ' ', 'недвижимость', '\\n'], ['строительство', ' ', 'недвижимость', '\\n'], ['покупка', ' ', 'жилье', '\\n'], ['операция', ' ', 'со', ' ', 'свой', ' ', 'недвижимость', '\\n'], ['покупка', ' ', 'жилой', ' ', 'недвижимость', '\\n'], ['операция', ' ', 'с', ' ', 'жилье', '\\n'], ['автомобиль', '\\n'], ['на', ' ', 'покупка', ' ', 'подержать', ' ', 'автомобиль', '\\n'], ['операция', ' ', 'с', ' ', 'жилье', '\\n'], ['свадьба', '\\n'], ['покупка', ' ', 'жилой', ' ', 'недвижимость', '\\n'], ['операция', ' ', 'с', ' ', 'недвижимость', '\\n'], ['заниматься', ' ', 'образование', '\\n'], ['получение', ' ', 'образование', '\\n'], ['строительство', ' ', 'жилой', ' ', 'недвижимость', '\\n'], ['получение', ' ', 'образование', '\\n'], ['сыграть', ' ', 'свадьба', '\\n'], ['на', ' ', 'покупка', ' ', 'подержать', ' ', 'автомобиль', '\\n'], ['покупка', ' ', 'недвижимость', '\\n'], ['автомобиль', '\\n'], ['строительство', ' ', 'недвижимость', '\\n'], ['дополнительный', ' ', 'образование', '\\n'], ['операция', ' ', 'со', ' ', 'свой', ' ', 'недвижимость', '\\n'], ['операция', ' ', 'с', ' ', 'недвижимость', '\\n'], ['образование', '\\n'], ['операция', ' ', 'с', ' ', 'коммерческий', ' ', 'недвижимость', '\\n'], ['на', ' ', 'проведение', ' ', 'свадьба', '\\n'], ['свой', ' ', 'автомобиль', '\\n'], ['заниматься', ' ', 'высокий', ' ', 'образование', '\\n'], ['строительство', ' ', 'недвижимость', '\\n'], ['жилье', '\\n'], ['высокий', ' ', 'образование', '\\n'], ['покупка', ' ', 'свой', ' ', 'жилье', '\\n'], ['профильный', ' ', 'образование', '\\n'], ['профильный', ' ', 'образование', '\\n'], ['покупка', ' ', 'свой', ' ', 'жилье', '\\n'], ['покупка', ' ', 'жилье', '\\n'], ['покупка', ' ', 'жилье', '\\n'], ['свадьба', '\\n'], ['строительство', ' ', 'недвижимость', '\\n'], ['сделка', ' ', 'с', ' ', 'автомобиль', '\\n'], ['на', ' ', 'покупка', ' ', 'свой', ' ', 'автомобиль', '\\n'], ['строительство', ' ', 'собственный', ' ', 'недвижимость', '\\n'], ['на', ' ', 'покупка', ' ', 'свой', ' ', 'автомобиль', '\\n'], ['свадьба', '\\n'], ['сделка', ' ', 'с', ' ', 'подержанный', ' ', 'автомобиль', '\\n'], ['получение', ' ', 'образование', '\\n'], ['свадьба', '\\n'], ['операция', ' ', 'с', ' ', 'жилье', '\\n'], ['профильный', ' ', 'образование', '\\n'], ['покупка', ' ', 'жилье', ' ', 'для', ' ', 'сдача', '\\n'], ['заниматься', ' ', 'высокий', ' ', 'образование', '\\n'], ['сыграть', ' ', 'свадьба', '\\n'], ['покупка', ' ', 'жилой', ' ', 'недвижимость', '\\n'], ['образование', '\\n'], ['сыграть', ' ', 'свадьба', '\\n'], ['на', ' ', 'покупка', ' ', 'свой', ' ', 'автомобиль', '\\n'], ['строительство', ' ', 'недвижимость', '\\n'], ['на', ' ', 'покупка', ' ', 'подержать', ' ', 'автомобиль', '\\n'], ['недвижимость', '\\n'], ['образование', '\\n'], ['строительство', ' ', 'недвижимость', '\\n'], ['заниматься', ' ', 'высокий', ' ', 'образование', '\\n'], ['заниматься', ' ', 'высокий', ' ', 'образование', '\\n'], ['сыграть', ' ', 'свадьба', '\\n'], ['покупка', ' ', 'недвижимость', '\\n'], ['покупка', ' ', 'жилье', ' ', 'для', ' ', 'семья', '\\n'], ['покупка', ' ', 'жилье', ' ', 'для', ' ', 'сдача', '\\n'], ['покупка', ' ', 'жилье', '\\n'], ['получение', ' ', 'дополнительный', ' ', 'образование', '\\n'], ['покупка', ' ', 'коммерческий', ' ', 'недвижимость', '\\n'], ['заниматься', ' ', 'образование', '\\n'], ['строительство', ' ', 'жилой', ' ', 'недвижимость', '\\n'], ['жилье', '\\n'], ['строительство', ' ', 'недвижимость', '\\n'], ['свой', ' ', 'автомобиль', '\\n'], ['покупка', ' ', 'свой', ' ', 'жилье', '\\n'], ['получение', ' ', 'образование', '\\n'], ['операция', ' ', 'с', ' ', 'недвижимость', '\\n'], ['недвижимость', '\\n'], ['строительство', ' ', 'недвижимость', '\\n'], ['покупка', ' ', 'жилье', '\\n'], ['автомобиль', '\\n'], ['покупка', ' ', 'недвижимость', '\\n'], ['сыграть', ' ', 'свадьба', '\\n'], ['операция', ' ', 'с', ' ', 'жилье', '\\n'], ['на', ' ', 'покупка', ' ', 'подержать', ' ', 'автомобиль', '\\n'], ['свой', ' ', 'автомобиль', '\\n'], ['на', ' ', 'проведение', ' ', 'свадьба', '\\n'], ['строительство', ' ', 'жилой', ' ', 'недвижимость', '\\n'], ['дополнительный', ' ', 'образование', '\\n'], ['строительство', ' ', 'жилой', ' ', 'недвижимость', '\\n'], ['покупка', ' ', 'жилье', ' ', 'для', ' ', 'семья', '\\n'], ['строительство', ' ', 'недвижимость', '\\n'], ['строительство', ' ', 'собственный', ' ', 'недвижимость', '\\n'], ['получение', ' ', 'высокий', ' ', 'образование', '\\n'], ['сыграть', ' ', 'свадьба', '\\n'], ['покупка', ' ', 'жилье', ' ', 'для', ' ', 'сдача', '\\n'], ['покупка', ' ', 'жилье', ' ', 'для', ' ', 'семья', '\\n'], ['дополнительный', ' ', 'образование', '\\n'], ['заниматься', ' ', 'высокий', ' ', 'образование', '\\n'], ['высокий', ' ', 'образование', '\\n'], ['покупка', ' ', 'жилой', ' ', 'недвижимость', '\\n'], ['свой', ' ', 'автомобиль', '\\n'], ['операция', ' ', 'со', ' ', 'свой', ' ', 'недвижимость', '\\n'], ['свадьба', '\\n'], ['дополнительный', ' ', 'образование', '\\n'], ['покупка', ' ', 'жилье', ' ', 'для', ' ', 'сдача', '\\n'], ['свой', ' ', 'автомобиль', '\\n'], ['профильный', ' ', 'образование', '\\n'], ['автомобиль', '\\n'], ['на', ' ', 'проведение', ' ', 'свадьба', '\\n'], ['покупка', ' ', 'жилье', '\\n'], ['автомобиль', '\\n'], ['высокий', ' ', 'образование', '\\n'], ['получение', ' ', 'высокий', ' ', 'образование', '\\n'], ['приобретение', ' ', 'автомобиль', '\\n'], ['свадьба', '\\n'], ['заниматься', ' ', 'образование', '\\n'], ['ремонт', ' ', 'жилье', '\\n'], ['недвижимость', '\\n'], ['операция', ' ', 'со', ' ', 'свой', ' ', 'недвижимость', '\\n'], ['покупка', ' ', 'недвижимость', '\\n'], ['сыграть', ' ', 'свадьба', '\\n'], ['покупка', ' ', 'коммерческий', ' ', 'недвижимость', '\\n'], ['на', ' ', 'покупка', ' ', 'подержать', ' ', 'автомобиль', '\\n'], ['операция', ' ', 'со', ' ', 'свой', ' ', 'недвижимость', '\\n'], ['строительство', ' ', 'жилой', ' ', 'недвижимость', '\\n'], ['покупка', ' ', 'жилье', '\\n'], ['на', ' ', 'проведение', ' ', 'свадьба', '\\n'], ['покупка', ' ', 'жилье', ' ', 'для', ' ', 'семья', '\\n'], ['операция', ' ', 'с', ' ', 'недвижимость', '\\n'], ['строительство', ' ', 'недвижимость', '\\n'], ['на', ' ', 'проведение', ' ', 'свадьба', '\\n'], ['покупка', ' ', 'недвижимость', '\\n'], ['строительство', ' ', 'недвижимость', '\\n'], ['покупка', ' ', 'жилье', ' ', 'для', ' ', 'семья', '\\n'], ['покупка', ' ', 'свой', ' ', 'жилье', '\\n'], ['операция', ' ', 'со', ' ', 'свой', ' ', 'недвижимость', '\\n'], ['сделка', ' ', 'с', ' ', 'подержанный', ' ', 'автомобиль', '\\n'], ['строительство', ' ', 'жилой', ' ', 'недвижимость', '\\n'], ['строительство', ' ', 'собственный', ' ', 'недвижимость', '\\n'], ['строительство', ' ', 'собственный', ' ', 'недвижимость', '\\n'], ['получение', ' ', 'образование', '\\n'], ['получение', ' ', 'дополнительный', ' ', 'образование', '\\n'], ['операция', ' ', 'со', ' ', 'свой', ' ', 'недвижимость', '\\n'], ['операция', ' ', 'с', ' ', 'жилье', '\\n'], ['покупка', ' ', 'свой', ' ', 'жилье', '\\n'], ['операция', ' ', 'с', ' ', 'жилье', '\\n'], ['получение', ' ', 'дополнительный', ' ', 'образование', '\\n'], ['операция', ' ', 'со', ' ', 'свой', ' ', 'недвижимость', '\\n'], ['высокий', ' ', 'образование', '\\n'], ['строительство', ' ', 'недвижимость', '\\n'], ['получение', ' ', 'высокий', ' ', 'образование', '\\n'], ['на', ' ', 'покупка', ' ', 'автомобиль', '\\n'], ['покупка', ' ', 'свой', ' ', 'жилье', '\\n'], ['получение', ' ', 'образование', '\\n'], ['заниматься', ' ', 'высокий', ' ', 'образование', '\\n'], ['строительство', ' ', 'собственный', ' ', 'недвижимость', '\\n'], ['получение', ' ', 'образование', '\\n'], ['строительство', ' ', 'жилой', ' ', 'недвижимость', '\\n'], ['операция', ' ', 'с', ' ', 'коммерческий', ' ', 'недвижимость', '\\n'], ['операция', ' ', 'с', ' ', 'недвижимость', '\\n'], ['жилье', '\\n'], ['дополнительный', ' ', 'образование', '\\n'], ['покупка', ' ', 'свой', ' ', 'жилье', '\\n'], ['сделка', ' ', 'с', ' ', 'автомобиль', '\\n'], ['свадьба', '\\n'], ['покупка', ' ', 'жилье', ' ', 'для', ' ', 'сдача', '\\n'], ['на', ' ', 'покупка', ' ', 'подержать', ' ', 'автомобиль', '\\n'], ['покупка', ' ', 'жилье', '\\n'], ['операция', ' ', 'с', ' ', 'жилье', '\\n'], ['покупка', ' ', 'свой', ' ', 'жилье', '\\n'], ['образование', '\\n'], ['получение', ' ', 'высокий', ' ', 'образование', '\\n'], ['на', ' ', 'покупка', ' ', 'свой', ' ', 'автомобиль', '\\n'], ['на', ' ', 'проведение', ' ', 'свадьба', '\\n'], ['свадьба', '\\n'], ['жилье', '\\n'], ['покупка', ' ', 'свой', ' ', 'жилье', '\\n'], ['покупка', ' ', 'свой', ' ', 'жилье', '\\n'], ['на', ' ', 'проведение', ' ', 'свадьба', '\\n'], ['покупка', ' ', 'жилье', '\\n'], ['строительство', ' ', 'собственный', ' ', 'недвижимость', '\\n'], ['операция', ' ', 'с', ' ', 'недвижимость', '\\n'], ['дополнительный', ' ', 'образование', '\\n'], ['сделка', ' ', 'с', ' ', 'подержанный', ' ', 'автомобиль', '\\n'], ['автомобиль', '\\n'], ['покупка', ' ', 'жилье', ' ', 'для', ' ', 'семья', '\\n'], ['свой', ' ', 'автомобиль', '\\n'], ['покупка', ' ', 'коммерческий', ' ', 'недвижимость', '\\n'], ['операция', ' ', 'с', ' ', 'коммерческий', ' ', 'недвижимость', '\\n'], ['на', ' ', 'проведение', ' ', 'свадьба', '\\n'], ['покупка', ' ', 'свой', ' ', 'жилье', '\\n'], ['заниматься', ' ', 'образование', '\\n'], ['высокий', ' ', 'образование', '\\n'], ['покупка', ' ', 'свой', ' ', 'жилье', '\\n'], ['дополнительный', ' ', 'образование', '\\n'], ['покупка', ' ', 'жилой', ' ', 'недвижимость', '\\n'], ['сделка', ' ', 'с', ' ', 'автомобиль', '\\n'], ['на', ' ', 'покупка', ' ', 'свой', ' ', 'автомобиль', '\\n'], ['свадьба', '\\n'], ['покупка', ' ', 'коммерческий', ' ', 'недвижимость', '\\n'], ['автомобиль', '\\n'], ['на', ' ', 'покупка', ' ', 'автомобиль', '\\n'], ['сделка', ' ', 'с', ' ', 'автомобиль', '\\n'], ['заниматься', ' ', 'высокий', ' ', 'образование', '\\n'], ['получение', ' ', 'высокий', ' ', 'образование', '\\n'], ['строительство', ' ', 'собственный', ' ', 'недвижимость', '\\n'], ['на', ' ', 'покупка', ' ', 'автомобиль', '\\n'], ['операция', ' ', 'с', ' ', 'жилье', '\\n'], ['высокий', ' ', 'образование', '\\n'], ['строительство', ' ', 'жилой', ' ', 'недвижимость', '\\n'], ['строительство', ' ', 'жилой', ' ', 'недвижимость', '\\n'], ['сыграть', ' ', 'свадьба', '\\n'], ['операция', ' ', 'с', ' ', 'жилье', '\\n'], ['операция', ' ', 'с', ' ', 'жилье', '\\n'], ['сыграть', ' ', 'свадьба', '\\n'], ['высокий', ' ', 'образование', '\\n'], ['свой', ' ', 'автомобиль', '\\n'], ['высокий', ' ', 'образование', '\\n'], ['покупка', ' ', 'свой', ' ', 'жилье', '\\n'], ['на', ' ', 'проведение', ' ', 'свадьба', '\\n'], ['заниматься', ' ', 'высокий', ' ', 'образование', '\\n'], ['операция', ' ', 'с', ' ', 'коммерческий', ' ', 'недвижимость', '\\n'], ['на', ' ', 'покупка', ' ', 'свой', ' ', 'автомобиль', '\\n'], ['свой', ' ', 'автомобиль', '\\n'], ['заниматься', ' ', 'высокий', ' ', 'образование', '\\n'], ['строительство', ' ', 'собственный', ' ', 'недвижимость', '\\n'], ['операция', ' ', 'с', ' ', 'жилье', '\\n'], ['покупка', ' ', 'жилье', ' ', 'для', ' ', 'семья', '\\n'], ['операция', ' ', 'с', ' ', 'жилье', '\\n'], ['сделка', ' ', 'с', ' ', 'подержанный', ' ', 'автомобиль', '\\n'], ['операция', ' ', 'с', ' ', 'недвижимость', '\\n'], ['покупка', ' ', 'свой', ' ', 'жилье', '\\n'], ['строительство', ' ', 'жилой', ' ', 'недвижимость', '\\n'], ['свадьба', '\\n'], ['автомобиль', '\\n'], ['заниматься', ' ', 'высокий', ' ', 'образование', '\\n'], ['получение', ' ', 'высокий', ' ', 'образование', '\\n'], ['на', ' ', 'покупка', ' ', 'автомобиль', '\\n'], ['профильный', ' ', 'образование', '\\n'], ['на', ' ', 'проведение', ' ', 'свадьба', '\\n'], ['на', ' ', 'проведение', ' ', 'свадьба', '\\n'], ['получение', ' ', 'образование', '\\n'], ['операция', ' ', 'с', ' ', 'жилье', '\\n'], ['операция', ' ', 'со', ' ', 'свой', ' ', 'недвижимость', '\\n'], ['операция', ' ', 'с', ' ', 'коммерческий', ' ', 'недвижимость', '\\n'], ['операция', ' ', 'с', ' ', 'коммерческий', ' ', 'недвижимость', '\\n'], ['строительство', ' ', 'недвижимость', '\\n'], ['покупка', ' ', 'недвижимость', '\\n'], ['на', ' ', 'проведение', ' ', 'свадьба', '\\n'], ['свой', ' ', 'автомобиль', '\\n'], ['операция', ' ', 'с', ' ', 'недвижимость', '\\n'], ['жилье', '\\n'], ['покупка', ' ', 'жилье', ' ', 'для', ' ', 'семья', '\\n'], ['автомобиль', '\\n'], ['сделка', ' ', 'с', ' ', 'автомобиль', '\\n'], ['недвижимость', '\\n'], ['дополнительный', ' ', 'образование', '\\n'], ['строительство', ' ', 'недвижимость', '\\n'], ['получение', ' ', 'высокий', ' ', 'образование', '\\n'], ['свадьба', '\\n'], ['на', ' ', 'покупка', ' ', 'свой', ' ', 'автомобиль', '\\n'], ['покупка', ' ', 'коммерческий', ' ', 'недвижимость', '\\n'], ['покупка', ' ', 'жилой', ' ', 'недвижимость', '\\n'], ['профильный', ' ', 'образование', '\\n'], ['покупка', ' ', 'жилой', ' ', 'недвижимость', '\\n'], ['операция', ' ', 'со', ' ', 'свой', ' ', 'недвижимость', '\\n'], ['операция', ' ', 'со', ' ', 'свой', ' ', 'недвижимость', '\\n'], ['свой', ' ', 'автомобиль', '\\n'], ['на', ' ', 'покупка', ' ', 'свой', ' ', 'автомобиль', '\\n'], ['на', ' ', 'проведение', ' ', 'свадьба', '\\n'], ['операция', ' ', 'со', ' ', 'свой', ' ', 'недвижимость', '\\n'], ['операция', ' ', 'с', ' ', 'коммерческий', ' ', 'недвижимость', '\\n'], ['получение', ' ', 'высокий', ' ', 'образование', '\\n'], ['сделка', ' ', 'с', ' ', 'автомобиль', '\\n'], ['на', ' ', 'покупка', ' ', 'свой', ' ', 'автомобиль', '\\n'], ['операция', ' ', 'с', ' ', 'жилье', '\\n'], ['дополнительный', ' ', 'образование', '\\n'], ['недвижимость', '\\n'], ['операция', ' ', 'со', ' ', 'свой', ' ', 'недвижимость', '\\n'], ['операция', ' ', 'со', ' ', 'свой', ' ', 'недвижимость', '\\n'], ['образование', '\\n'], ['операция', ' ', 'с', ' ', 'жилье', '\\n'], ['заниматься', ' ', 'образование', '\\n'], ['операция', ' ', 'с', ' ', 'жилье', '\\n'], ['покупка', ' ', 'коммерческий', ' ', 'недвижимость', '\\n'], ['строительство', ' ', 'собственный', ' ', 'недвижимость', '\\n'], ['на', ' ', 'покупка', ' ', 'подержать', ' ', 'автомобиль', '\\n'], ['жилье', '\\n'], ['жилье', '\\n'], ['операция', ' ', 'с', ' ', 'коммерческий', ' ', 'недвижимость', '\\n'], ['покупка', ' ', 'жилой', ' ', 'недвижимость', '\\n'], ['сыграть', ' ', 'свадьба', '\\n'], ['сделка', ' ', 'с', ' ', 'автомобиль', '\\n'], ['на', ' ', 'проведение', ' ', 'свадьба', '\\n'], ['получение', ' ', 'образование', '\\n'], ['строительство', ' ', 'недвижимость', '\\n'], ['сыграть', ' ', 'свадьба', '\\n'], ['сделка', ' ', 'с', ' ', 'подержанный', ' ', 'автомобиль', '\\n'], ['сделка', ' ', 'с', ' ', 'автомобиль', '\\n'], ['операция', ' ', 'с', ' ', 'жилье', '\\n'], ['сыграть', ' ', 'свадьба', '\\n'], ['покупка', ' ', 'жилье', '\\n'], ['недвижимость', '\\n'], ['сыграть', ' ', 'свадьба', '\\n'], ['автомобиль', '\\n'], ['профильный', ' ', 'образование', '\\n'], ['недвижимость', '\\n'], ['строительство', ' ', 'недвижимость', '\\n'], ['недвижимость', '\\n'], ['строительство', ' ', 'собственный', ' ', 'недвижимость', '\\n'], ['автомобиль', '\\n'], ['заниматься', ' ', 'образование', '\\n'], ['образование', '\\n'], ['получение', ' ', 'образование', '\\n'], ['на', ' ', 'проведение', ' ', 'свадьба', '\\n'], ['покупка', ' ', 'жилье', ' ', 'для', ' ', 'сдача', '\\n'], ['на', ' ', 'покупка', ' ', 'подержать', ' ', 'автомобиль', '\\n'], ['приобретение', ' ', 'автомобиль', '\\n'], ['образование', '\\n'], ['заниматься', ' ', 'образование', '\\n'], ['высокий', ' ', 'образование', '\\n'], ['покупка', ' ', 'жилье', ' ', 'для', ' ', 'семья', '\\n'], ['жилье', '\\n'], ['покупка', ' ', 'коммерческий', ' ', 'недвижимость', '\\n'], ['заниматься', ' ', 'образование', '\\n'], ['высокий', ' ', 'образование', '\\n'], ['заниматься', ' ', 'высокий', ' ', 'образование', '\\n'], ['ремонт', ' ', 'жилье', '\\n'], ['свой', ' ', 'автомобиль', '\\n'], ['покупка', ' ', 'свой', ' ', 'жилье', '\\n'], ['свадьба', '\\n'], ['сделка', ' ', 'с', ' ', 'автомобиль', '\\n'], ['покупка', ' ', 'жилье', ' ', 'для', ' ', 'сдача', '\\n'], ['дополнительный', ' ', 'образование', '\\n'], ['автомобиль', '\\n'], ['сделка', ' ', 'с', ' ', 'автомобиль', '\\n'], ['на', ' ', 'покупка', ' ', 'автомобиль', '\\n'], ['операция', ' ', 'с', ' ', 'коммерческий', ' ', 'недвижимость', '\\n'], ['образование', '\\n'], ['автомобиль', '\\n'], ['покупка', ' ', 'жилье', ' ', 'для', ' ', 'сдача', '\\n'], ['покупка', ' ', 'жилой', ' ', 'недвижимость', '\\n'], ['операция', ' ', 'со', ' ', 'свой', ' ', 'недвижимость', '\\n'], ['на', ' ', 'проведение', ' ', 'свадьба', '\\n'], ['покупка', ' ', 'жилой', ' ', 'недвижимость', '\\n'], ['покупка', ' ', 'жилье', ' ', 'для', ' ', 'сдача', '\\n'], ['на', ' ', 'покупка', ' ', 'подержать', ' ', 'автомобиль', '\\n'], ['высокий', ' ', 'образование', '\\n'], ['автомобиль', '\\n'], ['приобретение', ' ', 'автомобиль', '\\n'], ['образование', '\\n'], ['операция', ' ', 'с', ' ', 'жилье', '\\n'], ['покупка', ' ', 'жилье', '\\n'], ['покупка', ' ', 'жилой', ' ', 'недвижимость', '\\n'], ['свадьба', '\\n'], ['покупка', ' ', 'коммерческий', ' ', 'недвижимость', '\\n'], ['получение', ' ', 'дополнительный', ' ', 'образование', '\\n'], ['покупка', ' ', 'коммерческий', ' ', 'недвижимость', '\\n'], ['получение', ' ', 'высокий', ' ', 'образование', '\\n'], ['покупка', ' ', 'коммерческий', ' ', 'недвижимость', '\\n'], ['получение', ' ', 'высокий', ' ', 'образование', '\\n'], ['покупка', ' ', 'жилье', ' ', 'для', ' ', 'семья', '\\n'], ['операция', ' ', 'с', ' ', 'коммерческий', ' ', 'недвижимость', '\\n'], ['заниматься', ' ', 'высокий', ' ', 'образование', '\\n'], ['покупка', ' ', 'жилье', ' ', 'для', ' ', 'сдача', '\\n'], ['дополнительный', ' ', 'образование', '\\n'], ['автомобиль', '\\n'], ['свадьба', '\\n'], ['покупка', ' ', 'жилье', ' ', 'для', ' ', 'семья', '\\n'], ['строительство', ' ', 'жилой', ' ', 'недвижимость', '\\n'], ['покупка', ' ', 'недвижимость', '\\n'], ['сыграть', ' ', 'свадьба', '\\n'], ['сделка', ' ', 'с', ' ', 'подержанный', ' ', 'автомобиль', '\\n'], ['строительство', ' ', 'собственный', ' ', 'недвижимость', '\\n'], ['покупка', ' ', 'свой', ' ', 'жилье', '\\n'], ['покупка', ' ', 'свой', ' ', 'жилье', '\\n'], ['на', ' ', 'покупка', ' ', 'автомобиль', '\\n'], ['покупка', ' ', 'жилье', '\\n'], ['строительство', ' ', 'недвижимость', '\\n'], ['строительство', ' ', 'жилой', ' ', 'недвижимость', '\\n'], ['свой', ' ', 'автомобиль', '\\n'], ['строительство', ' ', 'собственный', ' ', 'недвижимость', '\\n'], ['строительство', ' ', 'жилой', ' ', 'недвижимость', '\\n'], ['операция', ' ', 'с', ' ', 'жилье', '\\n'], ['строительство', ' ', 'собственный', ' ', 'недвижимость', '\\n'], ['заниматься', ' ', 'образование', '\\n'], ['получение', ' ', 'дополнительный', ' ', 'образование', '\\n'], ['заниматься', ' ', 'высокий', ' ', 'образование', '\\n'], ['операция', ' ', 'с', ' ', 'коммерческий', ' ', 'недвижимость', '\\n'], ['покупка', ' ', 'жилье', '\\n'], ['профильный', ' ', 'образование', '\\n'], ['строительство', ' ', 'собственный', ' ', 'недвижимость', '\\n'], ['покупка', ' ', 'недвижимость', '\\n'], ['высокий', ' ', 'образование', '\\n'], ['сыграть', ' ', 'свадьба', '\\n'], ['получение', ' ', 'образование', '\\n'], ['недвижимость', '\\n'], ['ремонт', ' ', 'жилье', '\\n'], ['покупка', ' ', 'недвижимость', '\\n'], ['получение', ' ', 'образование', '\\n'], ['получение', ' ', 'образование', '\\n'], ['на', ' ', 'проведение', ' ', 'свадьба', '\\n'], ['покупка', ' ', 'жилье', ' ', 'для', ' ', 'сдача', '\\n'], ['на', ' ', 'покупка', ' ', 'автомобиль', '\\n'], ['жилье', '\\n'], ['покупка', ' ', 'жилье', ' ', 'для', ' ', 'семья', '\\n'], ['получение', ' ', 'образование', '\\n'], ['приобретение', ' ', 'автомобиль', '\\n'], ['покупка', ' ', 'жилье', '\\n'], ['свой', ' ', 'автомобиль', '\\n'], ['высокий', ' ', 'образование', '\\n'], ['сделка', ' ', 'с', ' ', 'автомобиль', '\\n'], ['на', ' ', 'покупка', ' ', 'автомобиль', '\\n'], ['приобретение', ' ', 'автомобиль', '\\n'], ['покупка', ' ', 'свой', ' ', 'жилье', '\\n'], ['строительство', ' ', 'собственный', ' ', 'недвижимость', '\\n'], ['строительство', ' ', 'недвижимость', '\\n'], ['покупка', ' ', 'недвижимость', '\\n'], ['операция', ' ', 'со', ' ', 'свой', ' ', 'недвижимость', '\\n'], ['покупка', ' ', 'жилой', ' ', 'недвижимость', '\\n'], ['сыграть', ' ', 'свадьба', '\\n'], ['операция', ' ', 'с', ' ', 'недвижимость', '\\n'], ['заниматься', ' ', 'высокий', ' ', 'образование', '\\n'], ['приобретение', ' ', 'автомобиль', '\\n'], ['покупка', ' ', 'недвижимость', '\\n'], ['операция', ' ', 'со', ' ', 'свой', ' ', 'недвижимость', '\\n'], ['получение', ' ', 'дополнительный', ' ', 'образование', '\\n'], ['на', ' ', 'проведение', ' ', 'свадьба', '\\n'], ['на', ' ', 'покупка', ' ', 'автомобиль', '\\n'], ['недвижимость', '\\n'], ['заниматься', ' ', 'образование', '\\n'], ['покупка', ' ', 'жилье', ' ', 'для', ' ', 'семья', '\\n'], ['недвижимость', '\\n'], ['ремонт', ' ', 'жилье', '\\n'], ['покупка', ' ', 'жилье', '\\n'], ['операция', ' ', 'со', ' ', 'свой', ' ', 'недвижимость', '\\n'], ['покупка', ' ', 'коммерческий', ' ', 'недвижимость', '\\n'], ['свой', ' ', 'автомобиль', '\\n'], ['строительство', ' ', 'собственный', ' ', 'недвижимость', '\\n'], ['покупка', ' ', 'коммерческий', ' ', 'недвижимость', '\\n'], ['покупка', ' ', 'жилье', ' ', 'для', ' ', 'семья', '\\n'], ['автомобиль', '\\n'], ['получение', ' ', 'дополнительный', ' ', 'образование', '\\n'], ['профильный', ' ', 'образование', '\\n'], ['операция', ' ', 'с', ' ', 'жилье', '\\n'], ['ремонт', ' ', 'жилье', '\\n'], ['на', ' ', 'покупка', ' ', 'автомобиль', '\\n'], ['недвижимость', '\\n'], ['свадьба', '\\n'], ['на', ' ', 'проведение', ' ', 'свадьба', '\\n'], ['операция', ' ', 'с', ' ', 'жилье', '\\n'], ['на', ' ', 'проведение', ' ', 'свадьба', '\\n'], ['операция', ' ', 'с', ' ', 'жилье', '\\n'], ['операция', ' ', 'с', ' ', 'коммерческий', ' ', 'недвижимость', '\\n'], ['свой', ' ', 'автомобиль', '\\n'], ['ремонт', ' ', 'жилье', '\\n'], ['покупка', ' ', 'жилой', ' ', 'недвижимость', '\\n'], ['автомобиль', '\\n'], ['жилье', '\\n'], ['строительство', ' ', 'недвижимость', '\\n'], ['операция', ' ', 'с', ' ', 'недвижимость', '\\n'], ['свадьба', '\\n'], ['покупка', ' ', 'коммерческий', ' ', 'недвижимость', '\\n'], ['заниматься', ' ', 'высокий', ' ', 'образование', '\\n'], ['строительство', ' ', 'собственный', ' ', 'недвижимость', '\\n'], ['операция', ' ', 'с', ' ', 'недвижимость', '\\n'], ['образование', '\\n'], ['заниматься', ' ', 'образование', '\\n'], ['жилье', '\\n'], ['ремонт', ' ', 'жилье', '\\n'], ['покупка', ' ', 'свой', ' ', 'жилье', '\\n'], ['заниматься', ' ', 'высокий', ' ', 'образование', '\\n'], ['сделка', ' ', 'с', ' ', 'автомобиль', '\\n'], ['покупка', ' ', 'жилье', '\\n'], ['операция', ' ', 'с', ' ', 'коммерческий', ' ', 'недвижимость', '\\n'], ['операция', ' ', 'с', ' ', 'недвижимость', '\\n'], ['высокий', ' ', 'образование', '\\n'], ['операция', ' ', 'с', ' ', 'недвижимость', '\\n'], ['покупка', ' ', 'жилье', ' ', 'для', ' ', 'сдача', '\\n'], ['строительство', ' ', 'недвижимость', '\\n'], ['свой', ' ', 'автомобиль', '\\n'], ['на', ' ', 'покупка', ' ', 'свой', ' ', 'автомобиль', '\\n'], ['сыграть', ' ', 'свадьба', '\\n'], ['строительство', ' ', 'жилой', ' ', 'недвижимость', '\\n'], ['заниматься', ' ', 'высокий', ' ', 'образование', '\\n'], ['свой', ' ', 'автомобиль', '\\n'], ['жилье', '\\n'], ['операция', ' ', 'с', ' ', 'коммерческий', ' ', 'недвижимость', '\\n'], ['покупка', ' ', 'недвижимость', '\\n'], ['заниматься', ' ', 'высокий', ' ', 'образование', '\\n'], ['строительство', ' ', 'недвижимость', '\\n'], ['операция', ' ', 'с', ' ', 'коммерческий', ' ', 'недвижимость', '\\n'], ['покупка', ' ', 'коммерческий', ' ', 'недвижимость', '\\n'], ['на', ' ', 'покупка', ' ', 'автомобиль', '\\n'], ['покупка', ' ', 'жилой', ' ', 'недвижимость', '\\n'], ['недвижимость', '\\n'], ['покупка', ' ', 'жилье', '\\n'], ['сделка', ' ', 'с', ' ', 'автомобиль', '\\n'], ['операция', ' ', 'с', ' ', 'коммерческий', ' ', 'недвижимость', '\\n'], ['получение', ' ', 'образование', '\\n'], ['получение', ' ', 'дополнительный', ' ', 'образование', '\\n'], ['покупка', ' ', 'свой', ' ', 'жилье', '\\n'], ['получение', ' ', 'образование', '\\n'], ['сыграть', ' ', 'свадьба', '\\n'], ['ремонт', ' ', 'жилье', '\\n'], ['на', ' ', 'проведение', ' ', 'свадьба', '\\n'], ['операция', ' ', 'с', ' ', 'жилье', '\\n'], ['жилье', '\\n'], ['операция', ' ', 'с', ' ', 'недвижимость', '\\n'], ['покупка', ' ', 'жилье', ' ', 'для', ' ', 'сдача', '\\n'], ['свадьба', '\\n'], ['покупка', ' ', 'жилье', '\\n'], ['автомобиль', '\\n'], ['операция', ' ', 'с', ' ', 'жилье', '\\n'], ['жилье', '\\n'], ['получение', ' ', 'высокий', ' ', 'образование', '\\n'], ['профильный', ' ', 'образование', '\\n'], ['недвижимость', '\\n'], ['получение', ' ', 'дополнительный', ' ', 'образование', '\\n'], ['получение', ' ', 'дополнительный', ' ', 'образование', '\\n'], ['на', ' ', 'проведение', ' ', 'свадьба', '\\n'], ['покупка', ' ', 'коммерческий', ' ', 'недвижимость', '\\n'], ['свой', ' ', 'автомобиль', '\\n'], ['жилье', '\\n'], ['покупка', ' ', 'жилье', ' ', 'для', ' ', 'сдача', '\\n'], ['покупка', ' ', 'свой', ' ', 'жилье', '\\n'], ['высокий', ' ', 'образование', '\\n'], ['операция', ' ', 'со', ' ', 'свой', ' ', 'недвижимость', '\\n'], ['приобретение', ' ', 'автомобиль', '\\n'], ['свой', ' ', 'автомобиль', '\\n'], ['строительство', ' ', 'недвижимость', '\\n'], ['операция', ' ', 'с', ' ', 'недвижимость', '\\n'], ['автомобиль', '\\n'], ['операция', ' ', 'с', ' ', 'недвижимость', '\\n'], ['строительство', ' ', 'недвижимость', '\\n'], ['строительство', ' ', 'жилой', ' ', 'недвижимость', '\\n'], ['дополнительный', ' ', 'образование', '\\n'], ['строительство', ' ', 'недвижимость', '\\n'], ['операция', ' ', 'с', ' ', 'недвижимость', '\\n'], ['покупка', ' ', 'коммерческий', ' ', 'недвижимость', '\\n'], ['автомобиль', '\\n'], ['покупка', ' ', 'коммерческий', ' ', 'недвижимость', '\\n'], ['операция', ' ', 'с', ' ', 'жилье', '\\n'], ['покупка', ' ', 'жилье', ' ', 'для', ' ', 'семья', '\\n'], ['покупка', ' ', 'недвижимость', '\\n'], ['образование', '\\n'], ['операция', ' ', 'с', ' ', 'недвижимость', '\\n'], ['сыграть', ' ', 'свадьба', '\\n'], ['на', ' ', 'покупка', ' ', 'свой', ' ', 'автомобиль', '\\n'], ['на', ' ', 'проведение', ' ', 'свадьба', '\\n'], ['покупка', ' ', 'коммерческий', ' ', 'недвижимость', '\\n'], ['свадьба', '\\n'], ['ремонт', ' ', 'жилье', '\\n'], ['операция', ' ', 'с', ' ', 'жилье', '\\n'], ['операция', ' ', 'со', ' ', 'свой', ' ', 'недвижимость', '\\n'], ['дополнительный', ' ', 'образование', '\\n'], ['строительство', ' ', 'недвижимость', '\\n'], ['операция', ' ', 'со', ' ', 'свой', ' ', 'недвижимость', '\\n'], ['получение', ' ', 'высокий', ' ', 'образование', '\\n'], ['получение', ' ', 'высокий', ' ', 'образование', '\\n'], ['сделка', ' ', 'с', ' ', 'автомобиль', '\\n'], ['на', ' ', 'покупка', ' ', 'автомобиль', '\\n'], ['операция', ' ', 'с', ' ', 'жилье', '\\n'], ['получение', ' ', 'дополнительный', ' ', 'образование', '\\n'], ['автомобиль', '\\n'], ['образование', '\\n'], ['недвижимость', '\\n'], ['профильный', ' ', 'образование', '\\n'], ['получение', ' ', 'образование', '\\n'], ['заниматься', ' ', 'образование', '\\n'], ['операция', ' ', 'с', ' ', 'жилье', '\\n'], ['операция', ' ', 'с', ' ', 'коммерческий', ' ', 'недвижимость', '\\n'], ['на', ' ', 'проведение', ' ', 'свадьба', '\\n'], ['на', ' ', 'покупка', ' ', 'свой', ' ', 'автомобиль', '\\n'], ['покупка', ' ', 'жилой', ' ', 'недвижимость', '\\n'], ['покупка', ' ', 'недвижимость', '\\n'], ['операция', ' ', 'с', ' ', 'недвижимость', '\\n'], ['строительство', ' ', 'недвижимость', '\\n'], ['покупка', ' ', 'недвижимость', '\\n'], ['покупка', ' ', 'недвижимость', '\\n'], ['приобретение', ' ', 'автомобиль', '\\n'], ['на', ' ', 'проведение', ' ', 'свадьба', '\\n'], ['дополнительный', ' ', 'образование', '\\n'], ['получение', ' ', 'высокий', ' ', 'образование', '\\n'], ['операция', ' ', 'с', ' ', 'коммерческий', ' ', 'недвижимость', '\\n'], ['операция', ' ', 'с', ' ', 'коммерческий', ' ', 'недвижимость', '\\n'], ['дополнительный', ' ', 'образование', '\\n'], ['приобретение', ' ', 'автомобиль', '\\n'], ['покупка', ' ', 'жилье', ' ', 'для', ' ', 'сдача', '\\n'], ['высокий', ' ', 'образование', '\\n'], ['автомобиль', '\\n'], ['заниматься', ' ', 'высокий', ' ', 'образование', '\\n'], ['профильный', ' ', 'образование', '\\n'], ['дополнительный', ' ', 'образование', '\\n'], ['сделка', ' ', 'с', ' ', 'автомобиль', '\\n'], ['приобретение', ' ', 'автомобиль', '\\n'], ['на', ' ', 'покупка', ' ', 'подержать', ' ', 'автомобиль', '\\n'], ['покупка', ' ', 'жилой', ' ', 'недвижимость', '\\n'], ['автомобиль', '\\n'], ['операция', ' ', 'с', ' ', 'недвижимость', '\\n'], ['покупка', ' ', 'недвижимость', '\\n'], ['свой', ' ', 'автомобиль', '\\n'], ['покупка', ' ', 'жилье', ' ', 'для', ' ', 'сдача', '\\n'], ['заниматься', ' ', 'высокий', ' ', 'образование', '\\n'], ['операция', ' ', 'с', ' ', 'жилье', '\\n'], ['строительство', ' ', 'недвижимость', '\\n'], ['профильный', ' ', 'образование', '\\n'], ['приобретение', ' ', 'автомобиль', '\\n'], ['операция', ' ', 'с', ' ', 'недвижимость', '\\n'], ['получение', ' ', 'образование', '\\n'], ['строительство', ' ', 'жилой', ' ', 'недвижимость', '\\n'], ['покупка', ' ', 'жилье', ' ', 'для', ' ', 'семья', '\\n'], ['на', ' ', 'проведение', ' ', 'свадьба', '\\n'], ['на', ' ', 'проведение', ' ', 'свадьба', '\\n'], ['автомобиль', '\\n'], ['строительство', ' ', 'собственный', ' ', 'недвижимость', '\\n'], ['покупка', ' ', 'свой', ' ', 'жилье', '\\n'], ['ремонт', ' ', 'жилье', '\\n'], ['ремонт', ' ', 'жилье', '\\n'], ['операция', ' ', 'с', ' ', 'недвижимость', '\\n'], ['автомобиль', '\\n'], ['строительство', ' ', 'собственный', ' ', 'недвижимость', '\\n'], ['покупка', ' ', 'жилье', ' ', 'для', ' ', 'семья', '\\n'], ['покупка', ' ', 'недвижимость', '\\n'], ['получение', ' ', 'образование', '\\n'], ['получение', ' ', 'дополнительный', ' ', 'образование', '\\n'], ['покупка', ' ', 'свой', ' ', 'жилье', '\\n'], ['операция', ' ', 'с', ' ', 'жилье', '\\n'], ['приобретение', ' ', 'автомобиль', '\\n'], ['на', ' ', 'проведение', ' ', 'свадьба', '\\n'], ['профильный', ' ', 'образование', '\\n'], ['приобретение', ' ', 'автомобиль', '\\n'], ['покупка', ' ', 'жилье', '\\n'], ['получение', ' ', 'высокий', ' ', 'образование', '\\n'], ['заниматься', ' ', 'образование', '\\n'], ['сыграть', ' ', 'свадьба', '\\n'], ['строительство', ' ', 'собственный', ' ', 'недвижимость', '\\n'], ['покупка', ' ', 'свой', ' ', 'жилье', '\\n'], ['свадьба', '\\n'], ['свадьба', '\\n'], ['дополнительный', ' ', 'образование', '\\n'], ['строительство', ' ', 'недвижимость', '\\n'], ['получение', ' ', 'образование', '\\n'], ['сыграть', ' ', 'свадьба', '\\n'], ['строительство', ' ', 'жилой', ' ', 'недвижимость', '\\n'], ['на', ' ', 'покупка', ' ', 'автомобиль', '\\n'], ['строительство', ' ', 'собственный', ' ', 'недвижимость', '\\n'], ['строительство', ' ', 'жилой', ' ', 'недвижимость', '\\n'], ['строительство', ' ', 'недвижимость', '\\n'], ['недвижимость', '\\n'], ['на', ' ', 'покупка', ' ', 'автомобиль', '\\n'], ['автомобиль', '\\n'], ['строительство', ' ', 'жилой', ' ', 'недвижимость', '\\n'], ['ремонт', ' ', 'жилье', '\\n'], ['покупка', ' ', 'жилье', ' ', 'для', ' ', 'семья', '\\n'], ['недвижимость', '\\n'], ['профильный', ' ', 'образование', '\\n'], ['высокий', ' ', 'образование', '\\n'], ['операция', ' ', 'со', ' ', 'свой', ' ', 'недвижимость', '\\n'], ['на', ' ', 'покупка', ' ', 'автомобиль', '\\n'], ['получение', ' ', 'дополнительный', ' ', 'образование', '\\n'], ['покупка', ' ', 'жилье', '\\n'], ['приобретение', ' ', 'автомобиль', '\\n'], ['на', ' ', 'покупка', ' ', 'автомобиль', '\\n'], ['операция', ' ', 'с', ' ', 'недвижимость', '\\n'], ['на', ' ', 'покупка', ' ', 'автомобиль', '\\n'], ['покупка', ' ', 'свой', ' ', 'жилье', '\\n'], ['на', ' ', 'проведение', ' ', 'свадьба', '\\n'], ['получение', ' ', 'дополнительный', ' ', 'образование', '\\n'], ['покупка', ' ', 'коммерческий', ' ', 'недвижимость', '\\n'], ['покупка', ' ', 'жилье', ' ', 'для', ' ', 'сдача', '\\n'], ['профильный', ' ', 'образование', '\\n'], ['свадьба', '\\n'], ['покупка', ' ', 'недвижимость', '\\n'], ['получение', ' ', 'образование', '\\n'], ['на', ' ', 'покупка', ' ', 'подержать', ' ', 'автомобиль', '\\n'], ['свадьба', '\\n'], ['недвижимость', '\\n'], ['сыграть', ' ', 'свадьба', '\\n'], ['получение', ' ', 'образование', '\\n'], ['операция', ' ', 'с', ' ', 'недвижимость', '\\n'], ['жилье', '\\n'], ['строительство', ' ', 'собственный', ' ', 'недвижимость', '\\n'], ['ремонт', ' ', 'жилье', '\\n'], ['операция', ' ', 'со', ' ', 'свой', ' ', 'недвижимость', '\\n'], ['операция', ' ', 'с', ' ', 'коммерческий', ' ', 'недвижимость', '\\n'], ['ремонт', ' ', 'жилье', '\\n'], ['заниматься', ' ', 'высокий', ' ', 'образование', '\\n'], ['операция', ' ', 'с', ' ', 'недвижимость', '\\n'], ['образование', '\\n'], ['получение', ' ', 'дополнительный', ' ', 'образование', '\\n'], ['строительство', ' ', 'недвижимость', '\\n'], ['образование', '\\n'], ['строительство', ' ', 'жилой', ' ', 'недвижимость', '\\n'], ['строительство', ' ', 'жилой', ' ', 'недвижимость', '\\n'], ['покупка', ' ', 'жилье', ' ', 'для', ' ', 'сдача', '\\n'], ['автомобиль', '\\n'], ['покупка', ' ', 'свой', ' ', 'жилье', '\\n'], ['покупка', ' ', 'жилье', ' ', 'для', ' ', 'сдача', '\\n'], ['жилье', '\\n'], ['покупка', ' ', 'жилье', ' ', 'для', ' ', 'сдача', '\\n'], ['профильный', ' ', 'образование', '\\n'], ['на', ' ', 'покупка', ' ', 'автомобиль', '\\n'], ['операция', ' ', 'с', ' ', 'недвижимость', '\\n'], ['операция', ' ', 'с', ' ', 'недвижимость', '\\n'], ['покупка', ' ', 'коммерческий', ' ', 'недвижимость', '\\n'], ['операция', ' ', 'с', ' ', 'жилье', '\\n'], ['заниматься', ' ', 'образование', '\\n'], ['покупка', ' ', 'жилье', ' ', 'для', ' ', 'семья', '\\n'], ['покупка', ' ', 'жилье', ' ', 'для', ' ', 'семья', '\\n'], ['свадьба', '\\n'], ['профильный', ' ', 'образование', '\\n'], ['операция', ' ', 'со', ' ', 'свой', ' ', 'недвижимость', '\\n'], ['строительство', ' ', 'собственный', ' ', 'недвижимость', '\\n'], ['жилье', '\\n'], ['ремонт', ' ', 'жилье', '\\n'], ['высокий', ' ', 'образование', '\\n'], ['ремонт', ' ', 'жилье', '\\n'], ['на', ' ', 'покупка', ' ', 'автомобиль', '\\n'], ['покупка', ' ', 'недвижимость', '\\n'], ['покупка', ' ', 'жилье', '\\n'], ['высокий', ' ', 'образование', '\\n'], ['сделка', ' ', 'с', ' ', 'подержанный', ' ', 'автомобиль', '\\n'], ['сыграть', ' ', 'свадьба', '\\n'], ['операция', ' ', 'с', ' ', 'недвижимость', '\\n'], ['получение', ' ', 'образование', '\\n'], ['покупка', ' ', 'недвижимость', '\\n'], ['на', ' ', 'покупка', ' ', 'подержать', ' ', 'автомобиль', '\\n'], ['автомобиль', '\\n'], ['на', ' ', 'покупка', ' ', 'автомобиль', '\\n'], ['на', ' ', 'покупка', ' ', 'свой', ' ', 'автомобиль', '\\n'], ['строительство', ' ', 'собственный', ' ', 'недвижимость', '\\n'], ['операция', ' ', 'со', ' ', 'свой', ' ', 'недвижимость', '\\n'], ['профильный', ' ', 'образование', '\\n'], ['на', ' ', 'покупка', ' ', 'подержать', ' ', 'автомобиль', '\\n'], ['операция', ' ', 'со', ' ', 'свой', ' ', 'недвижимость', '\\n'], ['профильный', ' ', 'образование', '\\n'], ['свадьба', '\\n'], ['образование', '\\n'], ['автомобиль', '\\n'], ['дополнительный', ' ', 'образование', '\\n'], ['дополнительный', ' ', 'образование', '\\n'], ['дополнительный', ' ', 'образование', '\\n'], ['свадьба', '\\n'], ['автомобиль', '\\n'], ['жилье', '\\n'], ['образование', '\\n'], ['на', ' ', 'покупка', ' ', 'свой', ' ', 'автомобиль', '\\n'], ['образование', '\\n'], ['покупка', ' ', 'недвижимость', '\\n'], ['свой', ' ', 'автомобиль', '\\n'], ['операция', ' ', 'с', ' ', 'недвижимость', '\\n'], ['высокий', ' ', 'образование', '\\n'], ['на', ' ', 'покупка', ' ', 'подержать', ' ', 'автомобиль', '\\n'], ['на', ' ', 'покупка', ' ', 'автомобиль', '\\n'], ['образование', '\\n'], ['сделка', ' ', 'с', ' ', 'подержанный', ' ', 'автомобиль', '\\n'], ['жилье', '\\n'], ['автомобиль', '\\n'], ['получение', ' ', 'дополнительный', ' ', 'образование', '\\n'], ['на', ' ', 'проведение', ' ', 'свадьба', '\\n'], ['получение', ' ', 'дополнительный', ' ', 'образование', '\\n'], ['покупка', ' ', 'жилье', '\\n'], ['операция', ' ', 'с', ' ', 'недвижимость', '\\n'], ['покупка', ' ', 'жилье', ' ', 'для', ' ', 'сдача', '\\n'], ['заниматься', ' ', 'образование', '\\n'], ['на', ' ', 'покупка', ' ', 'автомобиль', '\\n'], ['строительство', ' ', 'жилой', ' ', 'недвижимость', '\\n'], ['жилье', '\\n'], ['покупка', ' ', 'жилой', ' ', 'недвижимость', '\\n'], ['операция', ' ', 'с', ' ', 'коммерческий', ' ', 'недвижимость', '\\n'], ['автомобиль', '\\n'], ['покупка', ' ', 'жилье', ' ', 'для', ' ', 'семья', '\\n'], ['строительство', ' ', 'жилой', ' ', 'недвижимость', '\\n'], ['покупка', ' ', 'коммерческий', ' ', 'недвижимость', '\\n'], ['получение', ' ', 'дополнительный', ' ', 'образование', '\\n'], ['получение', ' ', 'дополнительный', ' ', 'образование', '\\n'], ['операция', ' ', 'с', ' ', 'жилье', '\\n'], ['жилье', '\\n'], ['получение', ' ', 'дополнительный', ' ', 'образование', '\\n'], ['недвижимость', '\\n'], ['свадьба', '\\n'], ['высокий', ' ', 'образование', '\\n'], ['недвижимость', '\\n'], ['жилье', '\\n'], ['на', ' ', 'покупка', ' ', 'автомобиль', '\\n'], ['покупка', ' ', 'жилье', ' ', 'для', ' ', 'сдача', '\\n'], ['покупка', ' ', 'недвижимость', '\\n'], ['покупка', ' ', 'жилье', ' ', 'для', ' ', 'сдача', '\\n'], ['недвижимость', '\\n'], ['свадьба', '\\n'], ['жилье', '\\n'], ['заниматься', ' ', 'высокий', ' ', 'образование', '\\n'], ['недвижимость', '\\n'], ['профильный', ' ', 'образование', '\\n'], ['операция', ' ', 'с', ' ', 'жилье', '\\n'], ['на', ' ', 'проведение', ' ', 'свадьба', '\\n'], ['заниматься', ' ', 'образование', '\\n'], ['строительство', ' ', 'недвижимость', '\\n'], ['покупка', ' ', 'недвижимость', '\\n'], ['заниматься', ' ', 'образование', '\\n'], ['операция', ' ', 'с', ' ', 'коммерческий', ' ', 'недвижимость', '\\n'], ['получение', ' ', 'высокий', ' ', 'образование', '\\n'], ['строительство', ' ', 'недвижимость', '\\n'], ['операция', ' ', 'с', ' ', 'недвижимость', '\\n'], ['операция', ' ', 'с', ' ', 'недвижимость', '\\n'], ['покупка', ' ', 'недвижимость', '\\n'], ['получение', ' ', 'высокий', ' ', 'образование', '\\n'], ['получение', ' ', 'дополнительный', ' ', 'образование', '\\n'], ['заниматься', ' ', 'образование', '\\n'], ['покупка', ' ', 'недвижимость', '\\n'], ['недвижимость', '\\n'], ['покупка', ' ', 'жилье', ' ', 'для', ' ', 'сдача', '\\n'], ['сделка', ' ', 'с', ' ', 'подержанный', ' ', 'автомобиль', '\\n'], ['операция', ' ', 'с', ' ', 'недвижимость', '\\n'], ['автомобиль', '\\n'], ['свадьба', '\\n'], ['на', ' ', 'покупка', ' ', 'свой', ' ', 'автомобиль', '\\n'], ['получение', ' ', 'высокий', ' ', 'образование', '\\n'], ['сделка', ' ', 'с', ' ', 'автомобиль', '\\n'], ['приобретение', ' ', 'автомобиль', '\\n'], ['образование', '\\n'], ['на', ' ', 'проведение', ' ', 'свадьба', '\\n'], ['операция', ' ', 'со', ' ', 'свой', ' ', 'недвижимость', '\\n'], ['покупка', ' ', 'свой', ' ', 'жилье', '\\n'], ['на', ' ', 'покупка', ' ', 'автомобиль', '\\n'], ['строительство', ' ', 'собственный', ' ', 'недвижимость', '\\n'], ['операция', ' ', 'с', ' ', 'жилье', '\\n'], ['недвижимость', '\\n'], ['сыграть', ' ', 'свадьба', '\\n'], ['свадьба', '\\n'], ['приобретение', ' ', 'автомобиль', '\\n'], ['получение', ' ', 'дополнительный', ' ', 'образование', '\\n'], ['заниматься', ' ', 'образование', '\\n'], ['покупка', ' ', 'свой', ' ', 'жилье', '\\n'], ['сделка', ' ', 'с', ' ', 'подержанный', ' ', 'автомобиль', '\\n'], ['строительство', ' ', 'жилой', ' ', 'недвижимость', '\\n'], ['строительство', ' ', 'жилой', ' ', 'недвижимость', '\\n'], ['строительство', ' ', 'недвижимость', '\\n'], ['покупка', ' ', 'жилой', ' ', 'недвижимость', '\\n'], ['операция', ' ', 'с', ' ', 'жилье', '\\n'], ['высокий', ' ', 'образование', '\\n'], ['покупка', ' ', 'свой', ' ', 'жилье', '\\n'], ['получение', ' ', 'образование', '\\n'], ['строительство', ' ', 'жилой', ' ', 'недвижимость', '\\n'], ['сыграть', ' ', 'свадьба', '\\n'], ['получение', ' ', 'образование', '\\n'], ['строительство', ' ', 'собственный', ' ', 'недвижимость', '\\n'], ['приобретение', ' ', 'автомобиль', '\\n'], ['недвижимость', '\\n'], ['на', ' ', 'покупка', ' ', 'автомобиль', '\\n'], ['покупка', ' ', 'жилье', ' ', 'для', ' ', 'семья', '\\n'], ['на', ' ', 'проведение', ' ', 'свадьба', '\\n'], ['профильный', ' ', 'образование', '\\n'], ['сыграть', ' ', 'свадьба', '\\n'], ['операция', ' ', 'с', ' ', 'недвижимость', '\\n'], ['образование', '\\n'], ['покупка', ' ', 'коммерческий', ' ', 'недвижимость', '\\n'], ['операция', ' ', 'с', ' ', 'коммерческий', ' ', 'недвижимость', '\\n'], ['на', ' ', 'покупка', ' ', 'автомобиль', '\\n'], ['строительство', ' ', 'недвижимость', '\\n'], ['на', ' ', 'покупка', ' ', 'подержать', ' ', 'автомобиль', '\\n'], ['строительство', ' ', 'собственный', ' ', 'недвижимость', '\\n'], ['операция', ' ', 'со', ' ', 'свой', ' ', 'недвижимость', '\\n'], ['свой', ' ', 'автомобиль', '\\n'], ['покупка', ' ', 'жилой', ' ', 'недвижимость', '\\n'], ['заниматься', ' ', 'образование', '\\n'], ['автомобиль', '\\n'], ['получение', ' ', 'высокий', ' ', 'образование', '\\n'], ['операция', ' ', 'с', ' ', 'недвижимость', '\\n'], ['свой', ' ', 'автомобиль', '\\n'], ['покупка', ' ', 'жилой', ' ', 'недвижимость', '\\n'], ['покупка', ' ', 'жилье', ' ', 'для', ' ', 'семья', '\\n'], ['покупка', ' ', 'коммерческий', ' ', 'недвижимость', '\\n'], ['покупка', ' ', 'коммерческий', ' ', 'недвижимость', '\\n'], ['покупка', ' ', 'жилье', ' ', 'для', ' ', 'сдача', '\\n'], ['жилье', '\\n'], ['приобретение', ' ', 'автомобиль', '\\n'], ['покупка', ' ', 'недвижимость', '\\n'], ['строительство', ' ', 'собственный', ' ', 'недвижимость', '\\n'], ['высокий', ' ', 'образование', '\\n'], ['сделка', ' ', 'с', ' ', 'автомобиль', '\\n'], ['покупка', ' ', 'свой', ' ', 'жилье', '\\n'], ['сыграть', ' ', 'свадьба', '\\n'], ['заниматься', ' ', 'образование', '\\n'], ['покупка', ' ', 'коммерческий', ' ', 'недвижимость', '\\n'], ['операция', ' ', 'со', ' ', 'свой', ' ', 'недвижимость', '\\n'], ['сделка', ' ', 'с', ' ', 'автомобиль', '\\n'], ['приобретение', ' ', 'автомобиль', '\\n'], ['заниматься', ' ', 'высокий', ' ', 'образование', '\\n'], ['приобретение', ' ', 'автомобиль', '\\n'], ['покупка', ' ', 'жилье', ' ', 'для', ' ', 'сдача', '\\n'], ['свой', ' ', 'автомобиль', '\\n'], ['профильный', ' ', 'образование', '\\n'], ['получение', ' ', 'высокий', ' ', 'образование', '\\n'], ['образование', '\\n'], ['покупка', ' ', 'недвижимость', '\\n'], ['ремонт', ' ', 'жилье', '\\n'], ['покупка', ' ', 'жилье', ' ', 'для', ' ', 'семья', '\\n'], ['дополнительный', ' ', 'образование', '\\n'], ['автомобиль', '\\n'], ['свадьба', '\\n'], ['строительство', ' ', 'жилой', ' ', 'недвижимость', '\\n'], ['строительство', ' ', 'жилой', ' ', 'недвижимость', '\\n'], ['жилье', '\\n'], ['на', ' ', 'покупка', ' ', 'автомобиль', '\\n'], ['на', ' ', 'покупка', ' ', 'подержать', ' ', 'автомобиль', '\\n'], ['сыграть', ' ', 'свадьба', '\\n'], ['недвижимость', '\\n'], ['операция', ' ', 'с', ' ', 'жилье', '\\n'], ['покупка', ' ', 'коммерческий', ' ', 'недвижимость', '\\n'], ['заниматься', ' ', 'образование', '\\n'], ['покупка', ' ', 'жилье', '\\n'], ['операция', ' ', 'со', ' ', 'свой', ' ', 'недвижимость', '\\n'], ['покупка', ' ', 'жилье', ' ', 'для', ' ', 'семья', '\\n'], ['жилье', '\\n'], ['покупка', ' ', 'недвижимость', '\\n'], ['автомобиль', '\\n'], ['получение', ' ', 'образование', '\\n'], ['заниматься', ' ', 'высокий', ' ', 'образование', '\\n'], ['на', ' ', 'покупка', ' ', 'подержать', ' ', 'автомобиль', '\\n'], ['покупка', ' ', 'жилье', ' ', 'для', ' ', 'сдача', '\\n'], ['дополнительный', ' ', 'образование', '\\n'], ['операция', ' ', 'с', ' ', 'недвижимость', '\\n'], ['на', ' ', 'покупка', ' ', 'подержать', ' ', 'автомобиль', '\\n'], ['операция', ' ', 'со', ' ', 'свой', ' ', 'недвижимость', '\\n'], ['операция', ' ', 'со', ' ', 'свой', ' ', 'недвижимость', '\\n'], ['покупка', ' ', 'свой', ' ', 'жилье', '\\n'], ['автомобиль', '\\n'], ['образование', '\\n'], ['на', ' ', 'покупка', ' ', 'подержать', ' ', 'автомобиль', '\\n'], ['недвижимость', '\\n'], ['ремонт', ' ', 'жилье', '\\n'], ['ремонт', ' ', 'жилье', '\\n'], ['на', ' ', 'покупка', ' ', 'свой', ' ', 'автомобиль', '\\n'], ['приобретение', ' ', 'автомобиль', '\\n'], ['на', ' ', 'проведение', ' ', 'свадьба', '\\n'], ['строительство', ' ', 'жилой', ' ', 'недвижимость', '\\n'], ['приобретение', ' ', 'автомобиль', '\\n'], ['покупка', ' ', 'недвижимость', '\\n'], ['строительство', ' ', 'недвижимость', '\\n'], ['покупка', ' ', 'жилье', '\\n'], ['недвижимость', '\\n'], ['строительство', ' ', 'недвижимость', '\\n'], ['покупка', ' ', 'коммерческий', ' ', 'недвижимость', '\\n'], ['операция', ' ', 'со', ' ', 'свой', ' ', 'недвижимость', '\\n'], ['покупка', ' ', 'жилой', ' ', 'недвижимость', '\\n'], ['ремонт', ' ', 'жилье', '\\n'], ['покупка', ' ', 'жилье', ' ', 'для', ' ', 'семья', '\\n'], ['сделка', ' ', 'с', ' ', 'подержанный', ' ', 'автомобиль', '\\n'], ['сыграть', ' ', 'свадьба', '\\n'], ['операция', ' ', 'с', ' ', 'коммерческий', ' ', 'недвижимость', '\\n'], ['заниматься', ' ', 'образование', '\\n'], ['автомобиль', '\\n'], ['жилье', '\\n'], ['покупка', ' ', 'жилье', '\\n'], ['свадьба', '\\n'], ['покупка', ' ', 'жилье', ' ', 'для', ' ', 'сдача', '\\n'], ['покупка', ' ', 'жилье', '\\n'], ['получение', ' ', 'образование', '\\n'], ['ремонт', ' ', 'жилье', '\\n'], ['строительство', ' ', 'жилой', ' ', 'недвижимость', '\\n'], ['покупка', ' ', 'жилье', '\\n'], ['заниматься', ' ', 'высокий', ' ', 'образование', '\\n'], ['автомобиль', '\\n'], ['заниматься', ' ', 'высокий', ' ', 'образование', '\\n'], ['покупка', ' ', 'недвижимость', '\\n'], ['операция', ' ', 'со', ' ', 'свой', ' ', 'недвижимость', '\\n'], ['покупка', ' ', 'жилой', ' ', 'недвижимость', '\\n'], ['покупка', ' ', 'жилье', ' ', 'для', ' ', 'сдача', '\\n'], ['получение', ' ', 'образование', '\\n'], ['заниматься', ' ', 'образование', '\\n'], ['покупка', ' ', 'недвижимость', '\\n'], ['свой', ' ', 'автомобиль', '\\n'], ['операция', ' ', 'со', ' ', 'свой', ' ', 'недвижимость', '\\n'], ['свадьба', '\\n'], ['покупка', ' ', 'жилье', ' ', 'для', ' ', 'сдача', '\\n'], ['покупка', ' ', 'жилой', ' ', 'недвижимость', '\\n'], ['на', ' ', 'проведение', ' ', 'свадьба', '\\n'], ['покупка', ' ', 'коммерческий', ' ', 'недвижимость', '\\n'], ['на', ' ', 'проведение', ' ', 'свадьба', '\\n'], ['покупка', ' ', 'жилье', ' ', 'для', ' ', 'сдача', '\\n'], ['покупка', ' ', 'жилье', '\\n'], ['сделка', ' ', 'с', ' ', 'автомобиль', '\\n'], ['покупка', ' ', 'жилье', ' ', 'для', ' ', 'семья', '\\n'], ['покупка', ' ', 'жилье', ' ', 'для', ' ', 'сдача', '\\n'], ['свой', ' ', 'автомобиль', '\\n'], ['сделка', ' ', 'с', ' ', 'автомобиль', '\\n'], ['покупка', ' ', 'жилье', ' ', 'для', ' ', 'сдача', '\\n'], ['операция', ' ', 'с', ' ', 'коммерческий', ' ', 'недвижимость', '\\n'], ['ремонт', ' ', 'жилье', '\\n'], ['операция', ' ', 'со', ' ', 'свой', ' ', 'недвижимость', '\\n'], ['операция', ' ', 'со', ' ', 'свой', ' ', 'недвижимость', '\\n'], ['недвижимость', '\\n'], ['операция', ' ', 'с', ' ', 'недвижимость', '\\n'], ['получение', ' ', 'образование', '\\n'], ['покупка', ' ', 'жилье', ' ', 'для', ' ', 'сдача', '\\n'], ['жилье', '\\n'], ['покупка', ' ', 'жилье', ' ', 'для', ' ', 'семья', '\\n'], ['покупка', ' ', 'свой', ' ', 'жилье', '\\n'], ['автомобиль', '\\n'], ['заниматься', ' ', 'высокий', ' ', 'образование', '\\n'], ['операция', ' ', 'с', ' ', 'коммерческий', ' ', 'недвижимость', '\\n'], ['сыграть', ' ', 'свадьба', '\\n'], ['на', ' ', 'проведение', ' ', 'свадьба', '\\n'], ['на', ' ', 'покупка', ' ', 'свой', ' ', 'автомобиль', '\\n'], ['строительство', ' ', 'недвижимость', '\\n'], ['операция', ' ', 'с', ' ', 'коммерческий', ' ', 'недвижимость', '\\n'], ['покупка', ' ', 'коммерческий', ' ', 'недвижимость', '\\n'], ['операция', ' ', 'с', ' ', 'недвижимость', '\\n'], ['покупка', ' ', 'жилье', ' ', 'для', ' ', 'семья', '\\n'], ['автомобиль', '\\n'], ['на', ' ', 'покупка', ' ', 'свой', ' ', 'автомобиль', '\\n'], ['покупка', ' ', 'жилье', ' ', 'для', ' ', 'сдача', '\\n'], ['на', ' ', 'покупка', ' ', 'подержать', ' ', 'автомобиль', '\\n'], ['жилье', '\\n'], ['получение', ' ', 'дополнительный', ' ', 'образование', '\\n'], ['получение', ' ', 'дополнительный', ' ', 'образование', '\\n'], ['свой', ' ', 'автомобиль', '\\n'], ['сыграть', ' ', 'свадьба', '\\n'], ['сыграть', ' ', 'свадьба', '\\n'], ['строительство', ' ', 'жилой', ' ', 'недвижимость', '\\n'], ['покупка', ' ', 'свой', ' ', 'жилье', '\\n'], ['покупка', ' ', 'недвижимость', '\\n'], ['образование', '\\n'], ['покупка', ' ', 'недвижимость', '\\n'], ['операция', ' ', 'с', ' ', 'недвижимость', '\\n'], ['профильный', ' ', 'образование', '\\n'], ['образование', '\\n'], ['строительство', ' ', 'собственный', ' ', 'недвижимость', '\\n'], ['получение', ' ', 'высокий', ' ', 'образование', '\\n'], ['строительство', ' ', 'недвижимость', '\\n'], ['покупка', ' ', 'жилье', '\\n'], ['образование', '\\n'], ['покупка', ' ', 'недвижимость', '\\n'], ['сделка', ' ', 'с', ' ', 'автомобиль', '\\n'], ['ремонт', ' ', 'жилье', '\\n'], ['покупка', ' ', 'жилье', ' ', 'для', ' ', 'семья', '\\n'], ['дополнительный', ' ', 'образование', '\\n'], ['строительство', ' ', 'недвижимость', '\\n'], ['операция', ' ', 'с', ' ', 'недвижимость', '\\n'], ['операция', ' ', 'с', ' ', 'коммерческий', ' ', 'недвижимость', '\\n'], ['профильный', ' ', 'образование', '\\n'], ['покупка', ' ', 'коммерческий', ' ', 'недвижимость', '\\n'], ['сыграть', ' ', 'свадьба', '\\n'], ['сделка', ' ', 'с', ' ', 'автомобиль', '\\n'], ['операция', ' ', 'с', ' ', 'недвижимость', '\\n'], ['операция', ' ', 'с', ' ', 'жилье', '\\n'], ['строительство', ' ', 'жилой', ' ', 'недвижимость', '\\n'], ['свадьба', '\\n'], ['на', ' ', 'покупка', ' ', 'подержать', ' ', 'автомобиль', '\\n'], ['заниматься', ' ', 'высокий', ' ', 'образование', '\\n'], ['недвижимость', '\\n'], ['покупка', ' ', 'недвижимость', '\\n'], ['заниматься', ' ', 'высокий', ' ', 'образование', '\\n'], ['на', ' ', 'покупка', ' ', 'автомобиль', '\\n'], ['покупка', ' ', 'коммерческий', ' ', 'недвижимость', '\\n'], ['сыграть', ' ', 'свадьба', '\\n'], ['ремонт', ' ', 'жилье', '\\n'], ['операция', ' ', 'с', ' ', 'жилье', '\\n'], ['высокий', ' ', 'образование', '\\n'], ['покупка', ' ', 'коммерческий', ' ', 'недвижимость', '\\n'], ['покупка', ' ', 'свой', ' ', 'жилье', '\\n'], ['покупка', ' ', 'коммерческий', ' ', 'недвижимость', '\\n'], ['операция', ' ', 'с', ' ', 'недвижимость', '\\n'], ['операция', ' ', 'с', ' ', 'недвижимость', '\\n'], ['образование', '\\n'], ['автомобиль', '\\n'], ['строительство', ' ', 'жилой', ' ', 'недвижимость', '\\n'], ['покупка', ' ', 'свой', ' ', 'жилье', '\\n'], ['покупка', ' ', 'свой', ' ', 'жилье', '\\n'], ['покупка', ' ', 'жилье', ' ', 'для', ' ', 'семья', '\\n'], ['покупка', ' ', 'недвижимость', '\\n'], ['покупка', ' ', 'жилье', ' ', 'для', ' ', 'сдача', '\\n'], ['свой', ' ', 'автомобиль', '\\n'], ['ремонт', ' ', 'жилье', '\\n'], ['операция', ' ', 'с', ' ', 'коммерческий', ' ', 'недвижимость', '\\n'], ['автомобиль', '\\n'], ['образование', '\\n'], ['покупка', ' ', 'жилой', ' ', 'недвижимость', '\\n'], ['свадьба', '\\n'], ['жилье', '\\n'], ['на', ' ', 'проведение', ' ', 'свадьба', '\\n'], ['строительство', ' ', 'недвижимость', '\\n'], ['заниматься', ' ', 'высокий', ' ', 'образование', '\\n'], ['операция', ' ', 'со', ' ', 'свой', ' ', 'недвижимость', '\\n'], ['покупка', ' ', 'коммерческий', ' ', 'недвижимость', '\\n'], ['на', ' ', 'покупка', ' ', 'свой', ' ', 'автомобиль', '\\n'], ['строительство', ' ', 'недвижимость', '\\n'], ['автомобиль', '\\n'], ['покупка', ' ', 'жилье', ' ', 'для', ' ', 'сдача', '\\n'], ['операция', ' ', 'с', ' ', 'коммерческий', ' ', 'недвижимость', '\\n'], ['покупка', ' ', 'недвижимость', '\\n'], ['заниматься', ' ', 'высокий', ' ', 'образование', '\\n'], ['покупка', ' ', 'жилье', ' ', 'для', ' ', 'семья', '\\n'], ['свадьба', '\\n'], ['недвижимость', '\\n'], ['заниматься', ' ', 'образование', '\\n'], ['покупка', ' ', 'жилье', ' ', 'для', ' ', 'сдача', '\\n'], ['сделка', ' ', 'с', ' ', 'автомобиль', '\\n'], ['покупка', ' ', 'жилой', ' ', 'недвижимость', '\\n'], ['свой', ' ', 'автомобиль', '\\n'], ['приобретение', ' ', 'автомобиль', '\\n'], ['операция', ' ', 'с', ' ', 'коммерческий', ' ', 'недвижимость', '\\n'], ['операция', ' ', 'с', ' ', 'коммерческий', ' ', 'недвижимость', '\\n'], ['операция', ' ', 'с', ' ', 'жилье', '\\n'], ['автомобиль', '\\n'], ['покупка', ' ', 'свой', ' ', 'жилье', '\\n'], ['сделка', ' ', 'с', ' ', 'автомобиль', '\\n'], ['на', ' ', 'покупка', ' ', 'свой', ' ', 'автомобиль', '\\n'], ['заниматься', ' ', 'высокий', ' ', 'образование', '\\n'], ['дополнительный', ' ', 'образование', '\\n'], ['строительство', ' ', 'жилой', ' ', 'недвижимость', '\\n'], ['строительство', ' ', 'собственный', ' ', 'недвижимость', '\\n'], ['покупка', ' ', 'коммерческий', ' ', 'недвижимость', '\\n'], ['строительство', ' ', 'недвижимость', '\\n'], ['строительство', ' ', 'недвижимость', '\\n'], ['покупка', ' ', 'свой', ' ', 'жилье', '\\n'], ['операция', ' ', 'с', ' ', 'коммерческий', ' ', 'недвижимость', '\\n'], ['на', ' ', 'покупка', ' ', 'подержать', ' ', 'автомобиль', '\\n'], ['покупка', ' ', 'недвижимость', '\\n'], ['операция', ' ', 'с', ' ', 'жилье', '\\n'], ['профильный', ' ', 'образование', '\\n'], ['автомобиль', '\\n'], ['сделка', ' ', 'с', ' ', 'автомобиль', '\\n'], ['покупка', ' ', 'коммерческий', ' ', 'недвижимость', '\\n'], ['на', ' ', 'покупка', ' ', 'автомобиль', '\\n'], ['получение', ' ', 'высокий', ' ', 'образование', '\\n'], ['операция', ' ', 'с', ' ', 'коммерческий', ' ', 'недвижимость', '\\n'], ['автомобиль', '\\n'], ['покупка', ' ', 'недвижимость', '\\n'], ['покупка', ' ', 'жилье', ' ', 'для', ' ', 'сдача', '\\n'], ['строительство', ' ', 'недвижимость', '\\n'], ['покупка', ' ', 'жилье', '\\n'], ['строительство', ' ', 'жилой', ' ', 'недвижимость', '\\n'], ['сыграть', ' ', 'свадьба', '\\n'], ['строительство', ' ', 'собственный', ' ', 'недвижимость', '\\n'], ['сыграть', ' ', 'свадьба', '\\n'], ['жилье', '\\n'], ['сделка', ' ', 'с', ' ', 'автомобиль', '\\n'], ['получение', ' ', 'высокий', ' ', 'образование', '\\n'], ['на', ' ', 'проведение', ' ', 'свадьба', '\\n'], ['покупка', ' ', 'жилье', ' ', 'для', ' ', 'семья', '\\n'], ['получение', ' ', 'дополнительный', ' ', 'образование', '\\n'], ['дополнительный', ' ', 'образование', '\\n'], ['покупка', ' ', 'жилье', '\\n'], ['заниматься', ' ', 'высокий', ' ', 'образование', '\\n'], ['покупка', ' ', 'жилье', ' ', 'для', ' ', 'сдача', '\\n'], ['дополнительный', ' ', 'образование', '\\n'], ['жилье', '\\n'], ['покупка', ' ', 'недвижимость', '\\n'], ['получение', ' ', 'дополнительный', ' ', 'образование', '\\n'], ['операция', ' ', 'с', ' ', 'коммерческий', ' ', 'недвижимость', '\\n'], ['жилье', '\\n'], ['строительство', ' ', 'жилой', ' ', 'недвижимость', '\\n'], ['покупка', ' ', 'жилье', ' ', 'для', ' ', 'сдача', '\\n'], ['приобретение', ' ', 'автомобиль', '\\n'], ['операция', ' ', 'со', ' ', 'свой', ' ', 'недвижимость', '\\n'], ['покупка', ' ', 'свой', ' ', 'жилье', '\\n'], ['операция', ' ', 'с', ' ', 'жилье', '\\n'], ['недвижимость', '\\n'], ['покупка', ' ', 'коммерческий', ' ', 'недвижимость', '\\n'], ['покупка', ' ', 'жилье', ' ', 'для', ' ', 'сдача', '\\n'], ['операция', ' ', 'с', ' ', 'коммерческий', ' ', 'недвижимость', '\\n'], ['получение', ' ', 'образование', '\\n'], ['недвижимость', '\\n'], ['недвижимость', '\\n'], ['недвижимость', '\\n'], ['получение', ' ', 'дополнительный', ' ', 'образование', '\\n'], ['приобретение', ' ', 'автомобиль', '\\n'], ['получение', ' ', 'дополнительный', ' ', 'образование', '\\n'], ['операция', ' ', 'с', ' ', 'недвижимость', '\\n'], ['строительство', ' ', 'жилой', ' ', 'недвижимость', '\\n'], ['свадьба', '\\n'], ['операция', ' ', 'с', ' ', 'жилье', '\\n'], ['получение', ' ', 'дополнительный', ' ', 'образование', '\\n'], ['покупка', ' ', 'недвижимость', '\\n'], ['покупка', ' ', 'жилой', ' ', 'недвижимость', '\\n'], ['операция', ' ', 'с', ' ', 'недвижимость', '\\n'], ['покупка', ' ', 'жилье', ' ', 'для', ' ', 'семья', '\\n'], ['приобретение', ' ', 'автомобиль', '\\n'], ['покупка', ' ', 'недвижимость', '\\n'], ['на', ' ', 'проведение', ' ', 'свадьба', '\\n'], ['недвижимость', '\\n'], ['автомобиль', '\\n'], ['строительство', ' ', 'недвижимость', '\\n'], ['заниматься', ' ', 'высокий', ' ', 'образование', '\\n'], ['ремонт', ' ', 'жилье', '\\n'], ['жилье', '\\n'], ['дополнительный', ' ', 'образование', '\\n'], ['на', ' ', 'покупка', ' ', 'подержать', ' ', 'автомобиль', '\\n'], ['сделка', ' ', 'с', ' ', 'подержанный', ' ', 'автомобиль', '\\n'], ['заниматься', ' ', 'высокий', ' ', 'образование', '\\n'], ['автомобиль', '\\n'], ['дополнительный', ' ', 'образование', '\\n'], ['сыграть', ' ', 'свадьба', '\\n'], ['получение', ' ', 'дополнительный', ' ', 'образование', '\\n'], ['покупка', ' ', 'свой', ' ', 'жилье', '\\n'], ['сделка', ' ', 'с', ' ', 'автомобиль', '\\n'], ['ремонт', ' ', 'жилье', '\\n'], ['операция', ' ', 'с', ' ', 'коммерческий', ' ', 'недвижимость', '\\n'], ['получение', ' ', 'высокий', ' ', 'образование', '\\n'], ['на', ' ', 'проведение', ' ', 'свадьба', '\\n'], ['автомобиль', '\\n'], ['приобретение', ' ', 'автомобиль', '\\n'], ['операция', ' ', 'с', ' ', 'жилье', '\\n'], ['получение', ' ', 'дополнительный', ' ', 'образование', '\\n'], ['на', ' ', 'покупка', ' ', 'подержать', ' ', 'автомобиль', '\\n'], ['строительство', ' ', 'недвижимость', '\\n'], ['ремонт', ' ', 'жилье', '\\n'], ['автомобиль', '\\n'], ['покупка', ' ', 'жилье', '\\n'], ['покупка', ' ', 'жилье', '\\n'], ['покупка', ' ', 'жилье', ' ', 'для', ' ', 'сдача', '\\n'], ['на', ' ', 'покупка', ' ', 'автомобиль', '\\n'], ['покупка', ' ', 'жилье', ' ', 'для', ' ', 'семья', '\\n'], ['строительство', ' ', 'собственный', ' ', 'недвижимость', '\\n'], ['образование', '\\n'], ['строительство', ' ', 'жилой', ' ', 'недвижимость', '\\n'], ['на', ' ', 'покупка', ' ', 'свой', ' ', 'автомобиль', '\\n'], ['операция', ' ', 'с', ' ', 'недвижимость', '\\n'], ['операция', ' ', 'с', ' ', 'недвижимость', '\\n'], ['операция', ' ', 'с', ' ', 'недвижимость', '\\n'], ['жилье', '\\n'], ['операция', ' ', 'с', ' ', 'жилье', '\\n'], ['покупка', ' ', 'жилой', ' ', 'недвижимость', '\\n'], ['ремонт', ' ', 'жилье', '\\n'], ['ремонт', ' ', 'жилье', '\\n'], ['приобретение', ' ', 'автомобиль', '\\n'], ['автомобиль', '\\n'], ['заниматься', ' ', 'образование', '\\n'], ['покупка', ' ', 'жилье', ' ', 'для', ' ', 'сдача', '\\n'], ['приобретение', ' ', 'автомобиль', '\\n'], ['на', ' ', 'проведение', ' ', 'свадьба', '\\n'], ['покупка', ' ', 'недвижимость', '\\n'], ['строительство', ' ', 'недвижимость', '\\n'], ['строительство', ' ', 'собственный', ' ', 'недвижимость', '\\n'], ['на', ' ', 'покупка', ' ', 'свой', ' ', 'автомобиль', '\\n'], ['покупка', ' ', 'недвижимость', '\\n'], ['операция', ' ', 'с', ' ', 'коммерческий', ' ', 'недвижимость', '\\n'], ['получение', ' ', 'высокий', ' ', 'образование', '\\n'], ['строительство', ' ', 'недвижимость', '\\n'], ['покупка', ' ', 'свой', ' ', 'жилье', '\\n'], ['свадьба', '\\n'], ['заниматься', ' ', 'высокий', ' ', 'образование', '\\n'], ['недвижимость', '\\n'], ['покупка', ' ', 'коммерческий', ' ', 'недвижимость', '\\n'], ['заниматься', ' ', 'образование', '\\n'], ['свадьба', '\\n'], ['сделка', ' ', 'с', ' ', 'автомобиль', '\\n'], ['на', ' ', 'покупка', ' ', 'автомобиль', '\\n'], ['строительство', ' ', 'недвижимость', '\\n'], ['профильный', ' ', 'образование', '\\n'], ['сделка', ' ', 'с', ' ', 'автомобиль', '\\n'], ['сделка', ' ', 'с', ' ', 'автомобиль', '\\n'], ['ремонт', ' ', 'жилье', '\\n'], ['покупка', ' ', 'коммерческий', ' ', 'недвижимость', '\\n'], ['строительство', ' ', 'жилой', ' ', 'недвижимость', '\\n'], ['свой', ' ', 'автомобиль', '\\n'], ['строительство', ' ', 'недвижимость', '\\n'], ['покупка', ' ', 'коммерческий', ' ', 'недвижимость', '\\n'], ['на', ' ', 'покупка', ' ', 'автомобиль', '\\n'], ['покупка', ' ', 'жилье', ' ', 'для', ' ', 'сдача', '\\n'], ['на', ' ', 'проведение', ' ', 'свадьба', '\\n'], ['автомобиль', '\\n'], ['покупка', ' ', 'жилой', ' ', 'недвижимость', '\\n'], ['получение', ' ', 'образование', '\\n'], ['покупка', ' ', 'жилой', ' ', 'недвижимость', '\\n'], ['дополнительный', ' ', 'образование', '\\n'], ['строительство', ' ', 'собственный', ' ', 'недвижимость', '\\n'], ['покупка', ' ', 'жилье', '\\n'], ['заниматься', ' ', 'образование', '\\n'], ['недвижимость', '\\n'], ['ремонт', ' ', 'жилье', '\\n'], ['на', ' ', 'покупка', ' ', 'свой', ' ', 'автомобиль', '\\n'], ['сделка', ' ', 'с', ' ', 'подержанный', ' ', 'автомобиль', '\\n'], ['строительство', ' ', 'жилой', ' ', 'недвижимость', '\\n'], ['покупка', ' ', 'коммерческий', ' ', 'недвижимость', '\\n'], ['образование', '\\n'], ['высокий', ' ', 'образование', '\\n'], ['свадьба', '\\n'], ['операция', ' ', 'со', ' ', 'свой', ' ', 'недвижимость', '\\n'], ['приобретение', ' ', 'автомобиль', '\\n'], ['строительство', ' ', 'собственный', ' ', 'недвижимость', '\\n'], ['операция', ' ', 'со', ' ', 'свой', ' ', 'недвижимость', '\\n'], ['строительство', ' ', 'недвижимость', '\\n'], ['свой', ' ', 'автомобиль', '\\n'], ['образование', '\\n'], ['жилье', '\\n'], ['заниматься', ' ', 'образование', '\\n'], ['автомобиль', '\\n'], ['покупка', ' ', 'коммерческий', ' ', 'недвижимость', '\\n'], ['строительство', ' ', 'собственный', ' ', 'недвижимость', '\\n'], ['покупка', ' ', 'жилье', ' ', 'для', ' ', 'семья', '\\n'], ['сыграть', ' ', 'свадьба', '\\n'], ['профильный', ' ', 'образование', '\\n'], ['на', ' ', 'проведение', ' ', 'свадьба', '\\n'], ['операция', ' ', 'со', ' ', 'свой', ' ', 'недвижимость', '\\n'], ['приобретение', ' ', 'автомобиль', '\\n'], ['на', ' ', 'покупка', ' ', 'свой', ' ', 'автомобиль', '\\n'], ['дополнительный', ' ', 'образование', '\\n'], ['сделка', ' ', 'с', ' ', 'автомобиль', '\\n'], ['свадьба', '\\n'], ['получение', ' ', 'образование', '\\n'], ['на', ' ', 'покупка', ' ', 'подержать', ' ', 'автомобиль', '\\n'], ['покупка', ' ', 'жилье', '\\n'], ['покупка', ' ', 'жилье', ' ', 'для', ' ', 'сдача', '\\n'], ['сделка', ' ', 'с', ' ', 'подержанный', ' ', 'автомобиль', '\\n'], ['покупка', ' ', 'жилье', ' ', 'для', ' ', 'семья', '\\n'], ['недвижимость', '\\n'], ['автомобиль', '\\n'], ['образование', '\\n'], ['жилье', '\\n'], ['покупка', ' ', 'жилой', ' ', 'недвижимость', '\\n'], ['образование', '\\n'], ['получение', ' ', 'образование', '\\n'], ['сыграть', ' ', 'свадьба', '\\n'], ['сделка', ' ', 'с', ' ', 'подержанный', ' ', 'автомобиль', '\\n'], ['получение', ' ', 'образование', '\\n'], ['сделка', ' ', 'с', ' ', 'подержанный', ' ', 'автомобиль', '\\n'], ['операция', ' ', 'с', ' ', 'недвижимость', '\\n'], ['свадьба', '\\n'], ['операция', ' ', 'со', ' ', 'свой', ' ', 'недвижимость', '\\n'], ['высокий', ' ', 'образование', '\\n'], ['на', ' ', 'покупка', ' ', 'подержать', ' ', 'автомобиль', '\\n'], ['сделка', ' ', 'с', ' ', 'автомобиль', '\\n'], ['операция', ' ', 'с', ' ', 'жилье', '\\n'], ['недвижимость', '\\n'], ['ремонт', ' ', 'жилье', '\\n'], ['покупка', ' ', 'недвижимость', '\\n'], ['строительство', ' ', 'собственный', ' ', 'недвижимость', '\\n'], ['сделка', ' ', 'с', ' ', 'подержанный', ' ', 'автомобиль', '\\n'], ['операция', ' ', 'с', ' ', 'недвижимость', '\\n'], ['получение', ' ', 'образование', '\\n'], ['на', ' ', 'проведение', ' ', 'свадьба', '\\n'], ['операция', ' ', 'с', ' ', 'коммерческий', ' ', 'недвижимость', '\\n'], ['покупка', ' ', 'свой', ' ', 'жилье', '\\n'], ['на', ' ', 'проведение', ' ', 'свадьба', '\\n'], ['получение', ' ', 'дополнительный', ' ', 'образование', '\\n'], ['на', ' ', 'проведение', ' ', 'свадьба', '\\n'], ['на', ' ', 'покупка', ' ', 'автомобиль', '\\n'], ['ремонт', ' ', 'жилье', '\\n'], ['сделка', ' ', 'с', ' ', 'подержанный', ' ', 'автомобиль', '\\n'], ['строительство', ' ', 'собственный', ' ', 'недвижимость', '\\n'], ['операция', ' ', 'с', ' ', 'жилье', '\\n'], ['операция', ' ', 'с', ' ', 'жилье', '\\n'], ['заниматься', ' ', 'высокий', ' ', 'образование', '\\n'], ['ремонт', ' ', 'жилье', '\\n'], ['строительство', ' ', 'собственный', ' ', 'недвижимость', '\\n'], ['автомобиль', '\\n'], ['высокий', ' ', 'образование', '\\n'], ['покупка', ' ', 'жилье', '\\n'], ['операция', ' ', 'с', ' ', 'недвижимость', '\\n'], ['покупка', ' ', 'жилье', '\\n'], ['приобретение', ' ', 'автомобиль', '\\n'], ['автомобиль', '\\n'], ['получение', ' ', 'образование', '\\n'], ['строительство', ' ', 'жилой', ' ', 'недвижимость', '\\n'], ['свадьба', '\\n'], ['получение', ' ', 'дополнительный', ' ', 'образование', '\\n'], ['покупка', ' ', 'жилой', ' ', 'недвижимость', '\\n'], ['операция', ' ', 'с', ' ', 'недвижимость', '\\n'], ['операция', ' ', 'с', ' ', 'недвижимость', '\\n'], ['строительство', ' ', 'собственный', ' ', 'недвижимость', '\\n'], ['на', ' ', 'покупка', ' ', 'автомобиль', '\\n'], ['покупка', ' ', 'коммерческий', ' ', 'недвижимость', '\\n'], ['приобретение', ' ', 'автомобиль', '\\n'], ['получение', ' ', 'дополнительный', ' ', 'образование', '\\n'], ['заниматься', ' ', 'высокий', ' ', 'образование', '\\n'], ['операция', ' ', 'со', ' ', 'свой', ' ', 'недвижимость', '\\n'], ['покупка', ' ', 'жилой', ' ', 'недвижимость', '\\n'], ['на', ' ', 'проведение', ' ', 'свадьба', '\\n'], ['покупка', ' ', 'недвижимость', '\\n'], ['получение', ' ', 'высокий', ' ', 'образование', '\\n'], ['операция', ' ', 'со', ' ', 'свой', ' ', 'недвижимость', '\\n'], ['строительство', ' ', 'жилой', ' ', 'недвижимость', '\\n'], ['строительство', ' ', 'собственный', ' ', 'недвижимость', '\\n'], ['на', ' ', 'покупка', ' ', 'свой', ' ', 'автомобиль', '\\n'], ['высокий', ' ', 'образование', '\\n'], ['покупка', ' ', 'жилье', '\\n'], ['сделка', ' ', 'с', ' ', 'автомобиль', '\\n'], ['заниматься', ' ', 'высокий', ' ', 'образование', '\\n'], ['на', ' ', 'проведение', ' ', 'свадьба', '\\n'], ['автомобиль', '\\n'], ['приобретение', ' ', 'автомобиль', '\\n'], ['на', ' ', 'покупка', ' ', 'автомобиль', '\\n'], ['получение', ' ', 'дополнительный', ' ', 'образование', '\\n'], ['ремонт', ' ', 'жилье', '\\n'], ['покупка', ' ', 'коммерческий', ' ', 'недвижимость', '\\n'], ['на', ' ', 'покупка', ' ', 'подержать', ' ', 'автомобиль', '\\n'], ['свадьба', '\\n'], ['свадьба', '\\n'], ['профильный', ' ', 'образование', '\\n'], ['покупка', ' ', 'недвижимость', '\\n'], ['на', ' ', 'покупка', ' ', 'автомобиль', '\\n'], ['операция', ' ', 'с', ' ', 'коммерческий', ' ', 'недвижимость', '\\n'], ['получение', ' ', 'дополнительный', ' ', 'образование', '\\n'], ['свадьба', '\\n'], ['покупка', ' ', 'свой', ' ', 'жилье', '\\n'], ['на', ' ', 'покупка', ' ', 'автомобиль', '\\n'], ['получение', ' ', 'образование', '\\n'], ['дополнительный', ' ', 'образование', '\\n'], ['приобретение', ' ', 'автомобиль', '\\n'], ['образование', '\\n'], ['получение', ' ', 'образование', '\\n'], ['получение', ' ', 'образование', '\\n'], ['приобретение', ' ', 'автомобиль', '\\n'], ['покупка', ' ', 'жилой', ' ', 'недвижимость', '\\n'], ['сделка', ' ', 'с', ' ', 'подержанный', ' ', 'автомобиль', '\\n'], ['автомобиль', '\\n'], ['строительство', ' ', 'собственный', ' ', 'недвижимость', '\\n'], ['автомобиль', '\\n'], ['сыграть', ' ', 'свадьба', '\\n'], ['операция', ' ', 'с', ' ', 'коммерческий', ' ', 'недвижимость', '\\n'], ['высокий', ' ', 'образование', '\\n'], ['автомобиль', '\\n'], ['автомобиль', '\\n'], ['покупка', ' ', 'жилье', ' ', 'для', ' ', 'сдача', '\\n'], ['заниматься', ' ', 'образование', '\\n'], ['высокий', ' ', 'образование', '\\n'], ['операция', ' ', 'с', ' ', 'коммерческий', ' ', 'недвижимость', '\\n'], ['дополнительный', ' ', 'образование', '\\n'], ['покупка', ' ', 'жилой', ' ', 'недвижимость', '\\n'], ['строительство', ' ', 'жилой', ' ', 'недвижимость', '\\n'], ['покупка', ' ', 'коммерческий', ' ', 'недвижимость', '\\n'], ['строительство', ' ', 'жилой', ' ', 'недвижимость', '\\n'], ['операция', ' ', 'со', ' ', 'свой', ' ', 'недвижимость', '\\n'], ['операция', ' ', 'с', ' ', 'недвижимость', '\\n'], ['заниматься', ' ', 'высокий', ' ', 'образование', '\\n'], ['высокий', ' ', 'образование', '\\n'], ['строительство', ' ', 'жилой', ' ', 'недвижимость', '\\n'], ['автомобиль', '\\n'], ['дополнительный', ' ', 'образование', '\\n'], ['жилье', '\\n'], ['строительство', ' ', 'жилой', ' ', 'недвижимость', '\\n'], ['операция', ' ', 'с', ' ', 'жилье', '\\n'], ['операция', ' ', 'с', ' ', 'жилье', '\\n'], ['ремонт', ' ', 'жилье', '\\n'], ['сделка', ' ', 'с', ' ', 'подержанный', ' ', 'автомобиль', '\\n'], ['операция', ' ', 'с', ' ', 'недвижимость', '\\n'], ['недвижимость', '\\n'], ['на', ' ', 'покупка', ' ', 'подержать', ' ', 'автомобиль', '\\n'], ['приобретение', ' ', 'автомобиль', '\\n'], ['приобретение', ' ', 'автомобиль', '\\n'], ['заниматься', ' ', 'образование', '\\n'], ['сделка', ' ', 'с', ' ', 'подержанный', ' ', 'автомобиль', '\\n'], ['свой', ' ', 'автомобиль', '\\n'], ['сделка', ' ', 'с', ' ', 'автомобиль', '\\n'], ['покупка', ' ', 'жилье', '\\n'], ['свадьба', '\\n'], ['сыграть', ' ', 'свадьба', '\\n'], ['образование', '\\n'], ['покупка', ' ', 'жилье', '\\n'], ['автомобиль', '\\n'], ['покупка', ' ', 'жилье', '\\n'], ['покупка', ' ', 'жилье', '\\n'], ['операция', ' ', 'с', ' ', 'жилье', '\\n'], ['операция', ' ', 'с', ' ', 'коммерческий', ' ', 'недвижимость', '\\n'], ['свадьба', '\\n'], ['сделка', ' ', 'с', ' ', 'автомобиль', '\\n'], ['покупка', ' ', 'жилье', ' ', 'для', ' ', 'сдача', '\\n'], ['покупка', ' ', 'жилой', ' ', 'недвижимость', '\\n'], ['образование', '\\n'], ['покупка', ' ', 'жилье', '\\n'], ['покупка', ' ', 'жилье', '\\n'], ['сыграть', ' ', 'свадьба', '\\n'], ['получение', ' ', 'высокий', ' ', 'образование', '\\n'], ['покупка', ' ', 'жилье', ' ', 'для', ' ', 'семья', '\\n'], ['автомобиль', '\\n'], ['свадьба', '\\n'], ['сыграть', ' ', 'свадьба', '\\n'], ['операция', ' ', 'со', ' ', 'свой', ' ', 'недвижимость', '\\n'], ['сыграть', ' ', 'свадьба', '\\n'], ['покупка', ' ', 'жилье', ' ', 'для', ' ', 'сдача', '\\n'], ['получение', ' ', 'образование', '\\n'], ['получение', ' ', 'образование', '\\n'], ['получение', ' ', 'высокий', ' ', 'образование', '\\n'], ['дополнительный', ' ', 'образование', '\\n'], ['операция', ' ', 'с', ' ', 'коммерческий', ' ', 'недвижимость', '\\n'], ['на', ' ', 'покупка', ' ', 'свой', ' ', 'автомобиль', '\\n'], ['операция', ' ', 'с', ' ', 'недвижимость', '\\n'], ['операция', ' ', 'с', ' ', 'жилье', '\\n'], ['строительство', ' ', 'недвижимость', '\\n'], ['получение', ' ', 'дополнительный', ' ', 'образование', '\\n'], ['на', ' ', 'покупка', ' ', 'свой', ' ', 'автомобиль', '\\n'], ['операция', ' ', 'с', ' ', 'жилье', '\\n'], ['высокий', ' ', 'образование', '\\n'], ['операция', ' ', 'с', ' ', 'недвижимость', '\\n'], ['недвижимость', '\\n'], ['покупка', ' ', 'жилье', ' ', 'для', ' ', 'семья', '\\n'], ['операция', ' ', 'с', ' ', 'жилье', '\\n'], ['свадьба', '\\n'], ['покупка', ' ', 'жилой', ' ', 'недвижимость', '\\n'], ['строительство', ' ', 'жилой', ' ', 'недвижимость', '\\n'], ['операция', ' ', 'с', ' ', 'коммерческий', ' ', 'недвижимость', '\\n'], ['приобретение', ' ', 'автомобиль', '\\n'], ['операция', ' ', 'с', ' ', 'жилье', '\\n'], ['на', ' ', 'проведение', ' ', 'свадьба', '\\n'], ['сделка', ' ', 'с', ' ', 'автомобиль', '\\n'], ['покупка', ' ', 'жилье', ' ', 'для', ' ', 'семья', '\\n'], ['приобретение', ' ', 'автомобиль', '\\n'], ['операция', ' ', 'с', ' ', 'недвижимость', '\\n'], ['свадьба', '\\n'], ['свой', ' ', 'автомобиль', '\\n'], ['на', ' ', 'покупка', ' ', 'свой', ' ', 'автомобиль', '\\n'], ['получение', ' ', 'образование', '\\n'], ['строительство', ' ', 'собственный', ' ', 'недвижимость', '\\n'], ['приобретение', ' ', 'автомобиль', '\\n'], ['получение', ' ', 'дополнительный', ' ', 'образование', '\\n'], ['жилье', '\\n'], ['строительство', ' ', 'жилой', ' ', 'недвижимость', '\\n'], ['строительство', ' ', 'жилой', ' ', 'недвижимость', '\\n'], ['строительство', ' ', 'собственный', ' ', 'недвижимость', '\\n'], ['высокий', ' ', 'образование', '\\n'], ['строительство', ' ', 'собственный', ' ', 'недвижимость', '\\n'], ['покупка', ' ', 'жилье', ' ', 'для', ' ', 'семья', '\\n'], ['покупка', ' ', 'жилой', ' ', 'недвижимость', '\\n'], ['сыграть', ' ', 'свадьба', '\\n'], ['недвижимость', '\\n'], ['строительство', ' ', 'жилой', ' ', 'недвижимость', '\\n'], ['получение', ' ', 'дополнительный', ' ', 'образование', '\\n'], ['на', ' ', 'покупка', ' ', 'свой', ' ', 'автомобиль', '\\n'], ['операция', ' ', 'со', ' ', 'свой', ' ', 'недвижимость', '\\n'], ['получение', ' ', 'образование', '\\n'], ['автомобиль', '\\n'], ['строительство', ' ', 'недвижимость', '\\n'], ['операция', ' ', 'с', ' ', 'недвижимость', '\\n'], ['свой', ' ', 'автомобиль', '\\n'], ['строительство', ' ', 'собственный', ' ', 'недвижимость', '\\n'], ['на', ' ', 'проведение', ' ', 'свадьба', '\\n'], ['покупка', ' ', 'жилой', ' ', 'недвижимость', '\\n'], ['операция', ' ', 'со', ' ', 'свой', ' ', 'недвижимость', '\\n'], ['автомобиль', '\\n'], ['операция', ' ', 'с', ' ', 'коммерческий', ' ', 'недвижимость', '\\n'], ['на', ' ', 'покупка', ' ', 'подержать', ' ', 'автомобиль', '\\n'], ['на', ' ', 'покупка', ' ', 'подержать', ' ', 'автомобиль', '\\n'], ['автомобиль', '\\n'], ['покупка', ' ', 'свой', ' ', 'жилье', '\\n'], ['строительство', ' ', 'жилой', ' ', 'недвижимость', '\\n'], ['строительство', ' ', 'собственный', ' ', 'недвижимость', '\\n'], ['сыграть', ' ', 'свадьба', '\\n'], ['свой', ' ', 'автомобиль', '\\n'], ['покупка', ' ', 'коммерческий', ' ', 'недвижимость', '\\n'], ['заниматься', ' ', 'образование', '\\n'], ['на', ' ', 'проведение', ' ', 'свадьба', '\\n'], ['покупка', ' ', 'жилой', ' ', 'недвижимость', '\\n'], ['ремонт', ' ', 'жилье', '\\n'], ['операция', ' ', 'с', ' ', 'недвижимость', '\\n'], ['строительство', ' ', 'собственный', ' ', 'недвижимость', '\\n'], ['покупка', ' ', 'коммерческий', ' ', 'недвижимость', '\\n'], ['автомобиль', '\\n'], ['ремонт', ' ', 'жилье', '\\n'], ['свадьба', '\\n'], ['заниматься', ' ', 'образование', '\\n'], ['покупка', ' ', 'свой', ' ', 'жилье', '\\n'], ['покупка', ' ', 'жилой', ' ', 'недвижимость', '\\n'], ['заниматься', ' ', 'образование', '\\n'], ['автомобиль', '\\n'], ['строительство', ' ', 'жилой', ' ', 'недвижимость', '\\n'], ['покупка', ' ', 'жилой', ' ', 'недвижимость', '\\n'], ['сделка', ' ', 'с', ' ', 'автомобиль', '\\n'], ['операция', ' ', 'с', ' ', 'коммерческий', ' ', 'недвижимость', '\\n'], ['покупка', ' ', 'свой', ' ', 'жилье', '\\n'], ['недвижимость', '\\n'], ['покупка', ' ', 'коммерческий', ' ', 'недвижимость', '\\n'], ['автомобиль', '\\n'], ['на', ' ', 'покупка', ' ', 'автомобиль', '\\n'], ['покупка', ' ', 'жилье', '\\n'], ['операция', ' ', 'со', ' ', 'свой', ' ', 'недвижимость', '\\n'], ['свой', ' ', 'автомобиль', '\\n'], ['жилье', '\\n'], ['на', ' ', 'покупка', ' ', 'подержать', ' ', 'автомобиль', '\\n'], ['покупка', ' ', 'свой', ' ', 'жилье', '\\n'], ['на', ' ', 'проведение', ' ', 'свадьба', '\\n'], ['ремонт', ' ', 'жилье', '\\n'], ['профильный', ' ', 'образование', '\\n'], ['высокий', ' ', 'образование', '\\n'], ['покупка', ' ', 'жилье', ' ', 'для', ' ', 'сдача', '\\n'], ['сделка', ' ', 'с', ' ', 'автомобиль', '\\n'], ['свой', ' ', 'автомобиль', '\\n'], ['покупка', ' ', 'жилье', ' ', 'для', ' ', 'семья', '\\n'], ['получение', ' ', 'высокий', ' ', 'образование', '\\n'], ['жилье', '\\n'], ['на', ' ', 'покупка', ' ', 'автомобиль', '\\n'], ['высокий', ' ', 'образование', '\\n'], ['дополнительный', ' ', 'образование', '\\n'], ['покупка', ' ', 'коммерческий', ' ', 'недвижимость', '\\n'], ['заниматься', ' ', 'высокий', ' ', 'образование', '\\n'], ['на', ' ', 'покупка', ' ', 'свой', ' ', 'автомобиль', '\\n'], ['на', ' ', 'покупка', ' ', 'подержать', ' ', 'автомобиль', '\\n'], ['ремонт', ' ', 'жилье', '\\n'], ['получение', ' ', 'высокий', ' ', 'образование', '\\n'], ['высокий', ' ', 'образование', '\\n'], ['сыграть', ' ', 'свадьба', '\\n'], ['на', ' ', 'проведение', ' ', 'свадьба', '\\n'], ['операция', ' ', 'со', ' ', 'свой', ' ', 'недвижимость', '\\n'], ['сделка', ' ', 'с', ' ', 'подержанный', ' ', 'автомобиль', '\\n'], ['ремонт', ' ', 'жилье', '\\n'], ['сделка', ' ', 'с', ' ', 'автомобиль', '\\n'], ['покупка', ' ', 'свой', ' ', 'жилье', '\\n'], ['автомобиль', '\\n'], ['покупка', ' ', 'жилой', ' ', 'недвижимость', '\\n'], ['ремонт', ' ', 'жилье', '\\n'], ['ремонт', ' ', 'жилье', '\\n'], ['свадьба', '\\n'], ['покупка', ' ', 'недвижимость', '\\n'], ['операция', ' ', 'со', ' ', 'свой', ' ', 'недвижимость', '\\n'], ['автомобиль', '\\n'], ['высокий', ' ', 'образование', '\\n'], ['покупка', ' ', 'жилье', '\\n'], ['ремонт', ' ', 'жилье', '\\n'], ['сделка', ' ', 'с', ' ', 'автомобиль', '\\n'], ['на', ' ', 'покупка', ' ', 'свой', ' ', 'автомобиль', '\\n'], ['на', ' ', 'покупка', ' ', 'подержать', ' ', 'автомобиль', '\\n'], ['покупка', ' ', 'жилье', '\\n'], ['высокий', ' ', 'образование', '\\n'], ['получение', ' ', 'образование', '\\n'], ['операция', ' ', 'с', ' ', 'коммерческий', ' ', 'недвижимость', '\\n'], ['строительство', ' ', 'собственный', ' ', 'недвижимость', '\\n'], ['приобретение', ' ', 'автомобиль', '\\n'], ['операция', ' ', 'с', ' ', 'жилье', '\\n'], ['получение', ' ', 'дополнительный', ' ', 'образование', '\\n'], ['строительство', ' ', 'собственный', ' ', 'недвижимость', '\\n'], ['жилье', '\\n'], ['свадьба', '\\n'], ['покупка', ' ', 'жилье', ' ', 'для', ' ', 'семья', '\\n'], ['покупка', ' ', 'коммерческий', ' ', 'недвижимость', '\\n'], ['жилье', '\\n'], ['сделка', ' ', 'с', ' ', 'автомобиль', '\\n'], ['на', ' ', 'покупка', ' ', 'подержать', ' ', 'автомобиль', '\\n'], ['покупка', ' ', 'свой', ' ', 'жилье', '\\n'], ['строительство', ' ', 'жилой', ' ', 'недвижимость', '\\n'], ['получение', ' ', 'дополнительный', ' ', 'образование', '\\n'], ['жилье', '\\n'], ['строительство', ' ', 'недвижимость', '\\n'], ['на', ' ', 'покупка', ' ', 'свой', ' ', 'автомобиль', '\\n'], ['высокий', ' ', 'образование', '\\n'], ['строительство', ' ', 'жилой', ' ', 'недвижимость', '\\n'], ['строительство', ' ', 'собственный', ' ', 'недвижимость', '\\n'], ['приобретение', ' ', 'автомобиль', '\\n'], ['свадьба', '\\n'], ['свадьба', '\\n'], ['приобретение', ' ', 'автомобиль', '\\n'], ['автомобиль', '\\n'], ['ремонт', ' ', 'жилье', '\\n'], ['на', ' ', 'покупка', ' ', 'автомобиль', '\\n'], ['строительство', ' ', 'жилой', ' ', 'недвижимость', '\\n'], ['сыграть', ' ', 'свадьба', '\\n'], ['на', ' ', 'покупка', ' ', 'свой', ' ', 'автомобиль', '\\n'], ['сделка', ' ', 'с', ' ', 'подержанный', ' ', 'автомобиль', '\\n'], ['жилье', '\\n'], ['недвижимость', '\\n'], ['покупка', ' ', 'жилье', ' ', 'для', ' ', 'сдача', '\\n'], ['на', ' ', 'проведение', ' ', 'свадьба', '\\n'], ['получение', ' ', 'высокий', ' ', 'образование', '\\n'], ['образование', '\\n'], ['дополнительный', ' ', 'образование', '\\n'], ['покупка', ' ', 'жилье', ' ', 'для', ' ', 'сдача', '\\n'], ['покупка', ' ', 'жилье', '\\n'], ['операция', ' ', 'с', ' ', 'коммерческий', ' ', 'недвижимость', '\\n'], ['операция', ' ', 'с', ' ', 'недвижимость', '\\n'], ['дополнительный', ' ', 'образование', '\\n'], ['автомобиль', '\\n'], ['покупка', ' ', 'свой', ' ', 'жилье', '\\n'], ['свадьба', '\\n'], ['операция', ' ', 'с', ' ', 'жилье', '\\n'], ['покупка', ' ', 'недвижимость', '\\n'], ['приобретение', ' ', 'автомобиль', '\\n'], ['получение', ' ', 'высокий', ' ', 'образование', '\\n'], ['высокий', ' ', 'образование', '\\n'], ['на', ' ', 'покупка', ' ', 'автомобиль', '\\n'], ['покупка', ' ', 'недвижимость', '\\n'], ['покупка', ' ', 'жилой', ' ', 'недвижимость', '\\n'], ['строительство', ' ', 'недвижимость', '\\n'], ['ремонт', ' ', 'жилье', '\\n'], ['автомобиль', '\\n'], ['строительство', ' ', 'жилой', ' ', 'недвижимость', '\\n'], ['сделка', ' ', 'с', ' ', 'автомобиль', '\\n'], ['образование', '\\n'], ['покупка', ' ', 'коммерческий', ' ', 'недвижимость', '\\n'], ['на', ' ', 'покупка', ' ', 'подержать', ' ', 'автомобиль', '\\n'], ['образование', '\\n'], ['покупка', ' ', 'коммерческий', ' ', 'недвижимость', '\\n'], ['покупка', ' ', 'жилье', ' ', 'для', ' ', 'семья', '\\n'], ['строительство', ' ', 'жилой', ' ', 'недвижимость', '\\n'], ['покупка', ' ', 'жилье', ' ', 'для', ' ', 'сдача', '\\n'], ['покупка', ' ', 'жилой', ' ', 'недвижимость', '\\n'], ['заниматься', ' ', 'высокий', ' ', 'образование', '\\n'], ['покупка', ' ', 'коммерческий', ' ', 'недвижимость', '\\n'], ['операция', ' ', 'с', ' ', 'недвижимость', '\\n'], ['покупка', ' ', 'жилье', ' ', 'для', ' ', 'семья', '\\n'], ['на', ' ', 'проведение', ' ', 'свадьба', '\\n'], ['покупка', ' ', 'недвижимость', '\\n'], ['операция', ' ', 'с', ' ', 'недвижимость', '\\n'], ['на', ' ', 'проведение', ' ', 'свадьба', '\\n'], ['ремонт', ' ', 'жилье', '\\n'], ['покупка', ' ', 'жилье', ' ', 'для', ' ', 'сдача', '\\n'], ['покупка', ' ', 'недвижимость', '\\n'], ['свой', ' ', 'автомобиль', '\\n'], ['покупка', ' ', 'жилье', '\\n'], ['покупка', ' ', 'жилье', '\\n'], ['получение', ' ', 'высокий', ' ', 'образование', '\\n'], ['профильный', ' ', 'образование', '\\n'], ['жилье', '\\n'], ['покупка', ' ', 'жилье', ' ', 'для', ' ', 'семья', '\\n'], ['покупка', ' ', 'жилье', ' ', 'для', ' ', 'сдача', '\\n'], ['приобретение', ' ', 'автомобиль', '\\n'], ['ремонт', ' ', 'жилье', '\\n'], ['профильный', ' ', 'образование', '\\n'], ['жилье', '\\n'], ['операция', ' ', 'с', ' ', 'жилье', '\\n'], ['свой', ' ', 'автомобиль', '\\n'], ['заниматься', ' ', 'образование', '\\n'], ['операция', ' ', 'со', ' ', 'свой', ' ', 'недвижимость', '\\n'], ['заниматься', ' ', 'образование', '\\n'], ['строительство', ' ', 'собственный', ' ', 'недвижимость', '\\n'], ['свадьба', '\\n'], ['свадьба', '\\n'], ['профильный', ' ', 'образование', '\\n'], ['на', ' ', 'проведение', ' ', 'свадьба', '\\n'], ['покупка', ' ', 'свой', ' ', 'жилье', '\\n'], ['на', ' ', 'покупка', ' ', 'подержать', ' ', 'автомобиль', '\\n'], ['автомобиль', '\\n'], ['получение', ' ', 'образование', '\\n'], ['операция', ' ', 'со', ' ', 'свой', ' ', 'недвижимость', '\\n'], ['покупка', ' ', 'жилье', ' ', 'для', ' ', 'семья', '\\n'], ['покупка', ' ', 'жилье', ' ', 'для', ' ', 'сдача', '\\n'], ['сыграть', ' ', 'свадьба', '\\n'], ['свадьба', '\\n'], ['покупка', ' ', 'жилой', ' ', 'недвижимость', '\\n'], ['жилье', '\\n'], ['операция', ' ', 'с', ' ', 'коммерческий', ' ', 'недвижимость', '\\n'], ['на', ' ', 'покупка', ' ', 'подержать', ' ', 'автомобиль', '\\n'], ['сыграть', ' ', 'свадьба', '\\n'], ['на', ' ', 'покупка', ' ', 'автомобиль', '\\n'], ['ремонт', ' ', 'жилье', '\\n'], ['строительство', ' ', 'недвижимость', '\\n'], ['ремонт', ' ', 'жилье', '\\n'], ['профильный', ' ', 'образование', '\\n'], ['покупка', ' ', 'жилье', ' ', 'для', ' ', 'сдача', '\\n'], ['приобретение', ' ', 'автомобиль', '\\n'], ['автомобиль', '\\n'], ['получение', ' ', 'высокий', ' ', 'образование', '\\n'], ['сделка', ' ', 'с', ' ', 'автомобиль', '\\n'], ['на', ' ', 'покупка', ' ', 'свой', ' ', 'автомобиль', '\\n'], ['автомобиль', '\\n'], ['дополнительный', ' ', 'образование', '\\n'], ['на', ' ', 'покупка', ' ', 'подержать', ' ', 'автомобиль', '\\n'], ['ремонт', ' ', 'жилье', '\\n'], ['покупка', ' ', 'жилье', ' ', 'для', ' ', 'семья', '\\n'], ['автомобиль', '\\n'], ['свой', ' ', 'автомобиль', '\\n'], ['строительство', ' ', 'недвижимость', '\\n'], ['получение', ' ', 'дополнительный', ' ', 'образование', '\\n'], ['на', ' ', 'проведение', ' ', 'свадьба', '\\n'], ['покупка', ' ', 'жилой', ' ', 'недвижимость', '\\n'], ['покупка', ' ', 'недвижимость', '\\n'], ['покупка', ' ', 'жилье', ' ', 'для', ' ', 'семья', '\\n'], ['покупка', ' ', 'жилье', '\\n'], ['покупка', ' ', 'жилой', ' ', 'недвижимость', '\\n'], ['сыграть', ' ', 'свадьба', '\\n'], ['покупка', ' ', 'жилье', ' ', 'для', ' ', 'сдача', '\\n'], ['ремонт', ' ', 'жилье', '\\n'], ['свой', ' ', 'автомобиль', '\\n'], ['операция', ' ', 'с', ' ', 'коммерческий', ' ', 'недвижимость', '\\n'], ['образование', '\\n'], ['сделка', ' ', 'с', ' ', 'автомобиль', '\\n'], ['операция', ' ', 'с', ' ', 'жилье', '\\n'], ['сыграть', ' ', 'свадьба', '\\n'], ['на', ' ', 'покупка', ' ', 'автомобиль', '\\n'], ['покупка', ' ', 'жилой', ' ', 'недвижимость', '\\n'], ['покупка', ' ', 'коммерческий', ' ', 'недвижимость', '\\n'], ['автомобиль', '\\n'], ['на', ' ', 'покупка', ' ', 'подержать', ' ', 'автомобиль', '\\n'], ['сыграть', ' ', 'свадьба', '\\n'], ['покупка', ' ', 'жилье', ' ', 'для', ' ', 'сдача', '\\n'], ['получение', ' ', 'образование', '\\n'], ['свадьба', '\\n'], ['операция', ' ', 'с', ' ', 'недвижимость', '\\n'], ['сделка', ' ', 'с', ' ', 'автомобиль', '\\n'], ['получение', ' ', 'дополнительный', ' ', 'образование', '\\n'], ['строительство', ' ', 'жилой', ' ', 'недвижимость', '\\n'], ['свадьба', '\\n'], ['покупка', ' ', 'недвижимость', '\\n'], ['автомобиль', '\\n'], ['образование', '\\n'], ['жилье', '\\n'], ['получение', ' ', 'образование', '\\n'], ['сыграть', ' ', 'свадьба', '\\n'], ['покупка', ' ', 'свой', ' ', 'жилье', '\\n'], ['на', ' ', 'покупка', ' ', 'подержать', ' ', 'автомобиль', '\\n'], ['строительство', ' ', 'недвижимость', '\\n'], ['свадьба', '\\n'], ['образование', '\\n'], ['образование', '\\n'], ['сыграть', ' ', 'свадьба', '\\n'], ['получение', ' ', 'дополнительный', ' ', 'образование', '\\n'], ['покупка', ' ', 'жилой', ' ', 'недвижимость', '\\n'], ['на', ' ', 'покупка', ' ', 'подержать', ' ', 'автомобиль', '\\n'], ['операция', ' ', 'с', ' ', 'недвижимость', '\\n'], ['свой', ' ', 'автомобиль', '\\n'], ['на', ' ', 'покупка', ' ', 'автомобиль', '\\n'], ['покупка', ' ', 'жилье', ' ', 'для', ' ', 'сдача', '\\n'], ['покупка', ' ', 'коммерческий', ' ', 'недвижимость', '\\n'], ['свой', ' ', 'автомобиль', '\\n'], ['покупка', ' ', 'недвижимость', '\\n'], ['покупка', ' ', 'жилье', '\\n'], ['на', ' ', 'покупка', ' ', 'подержать', ' ', 'автомобиль', '\\n'], ['операция', ' ', 'с', ' ', 'жилье', '\\n'], ['образование', '\\n'], ['операция', ' ', 'со', ' ', 'свой', ' ', 'недвижимость', '\\n'], ['свадьба', '\\n'], ['покупка', ' ', 'жилье', ' ', 'для', ' ', 'сдача', '\\n'], ['строительство', ' ', 'жилой', ' ', 'недвижимость', '\\n'], ['приобретение', ' ', 'автомобиль', '\\n'], ['на', ' ', 'покупка', ' ', 'автомобиль', '\\n'], ['покупка', ' ', 'жилой', ' ', 'недвижимость', '\\n'], ['автомобиль', '\\n'], ['покупка', ' ', 'жилье', ' ', 'для', ' ', 'сдача', '\\n'], ['операция', ' ', 'с', ' ', 'недвижимость', '\\n'], ['ремонт', ' ', 'жилье', '\\n'], ['покупка', ' ', 'жилье', ' ', 'для', ' ', 'семья', '\\n'], ['автомобиль', '\\n'], ['на', ' ', 'покупка', ' ', 'подержать', ' ', 'автомобиль', '\\n'], ['недвижимость', '\\n'], ['покупка', ' ', 'жилье', ' ', 'для', ' ', 'сдача', '\\n'], ['операция', ' ', 'с', ' ', 'недвижимость', '\\n'], ['получение', ' ', 'высокий', ' ', 'образование', '\\n'], ['получение', ' ', 'образование', '\\n'], ['покупка', ' ', 'жилье', ' ', 'для', ' ', 'семья', '\\n'], ['получение', ' ', 'высокий', ' ', 'образование', '\\n'], ['высокий', ' ', 'образование', '\\n'], ['покупка', ' ', 'жилой', ' ', 'недвижимость', '\\n'], ['операция', ' ', 'с', ' ', 'недвижимость', '\\n'], ['недвижимость', '\\n'], ['покупка', ' ', 'жилье', '\\n'], ['строительство', ' ', 'жилой', ' ', 'недвижимость', '\\n'], ['дополнительный', ' ', 'образование', '\\n'], ['высокий', ' ', 'образование', '\\n'], ['заниматься', ' ', 'высокий', ' ', 'образование', '\\n'], ['свадьба', '\\n'], ['на', ' ', 'покупка', ' ', 'свой', ' ', 'автомобиль', '\\n'], ['получение', ' ', 'дополнительный', ' ', 'образование', '\\n'], ['жилье', '\\n'], ['покупка', ' ', 'жилье', '\\n'], ['сделка', ' ', 'с', ' ', 'автомобиль', '\\n'], ['покупка', ' ', 'коммерческий', ' ', 'недвижимость', '\\n'], ['на', ' ', 'проведение', ' ', 'свадьба', '\\n'], ['сыграть', ' ', 'свадьба', '\\n'], ['на', ' ', 'проведение', ' ', 'свадьба', '\\n'], ['на', ' ', 'проведение', ' ', 'свадьба', '\\n'], ['строительство', ' ', 'собственный', ' ', 'недвижимость', '\\n'], ['покупка', ' ', 'коммерческий', ' ', 'недвижимость', '\\n'], ['сделка', ' ', 'с', ' ', 'автомобиль', '\\n'], ['заниматься', ' ', 'образование', '\\n'], ['покупка', ' ', 'жилье', ' ', 'для', ' ', 'сдача', '\\n'], ['свадьба', '\\n'], ['недвижимость', '\\n'], ['покупка', ' ', 'жилье', '\\n'], ['профильный', ' ', 'образование', '\\n'], ['получение', ' ', 'высокий', ' ', 'образование', '\\n'], ['операция', ' ', 'с', ' ', 'жилье', '\\n'], ['покупка', ' ', 'жилье', ' ', 'для', ' ', 'сдача', '\\n'], ['покупка', ' ', 'недвижимость', '\\n'], ['получение', ' ', 'дополнительный', ' ', 'образование', '\\n'], ['свадьба', '\\n'], ['покупка', ' ', 'свой', ' ', 'жилье', '\\n'], ['операция', ' ', 'со', ' ', 'свой', ' ', 'недвижимость', '\\n'], ['дополнительный', ' ', 'образование', '\\n'], ['недвижимость', '\\n'], ['жилье', '\\n'], ['покупка', ' ', 'жилье', ' ', 'для', ' ', 'семья', '\\n'], ['на', ' ', 'проведение', ' ', 'свадьба', '\\n'], ['автомобиль', '\\n'], ['ремонт', ' ', 'жилье', '\\n'], ['покупка', ' ', 'свой', ' ', 'жилье', '\\n'], ['сделка', ' ', 'с', ' ', 'подержанный', ' ', 'автомобиль', '\\n'], ['покупка', ' ', 'жилье', ' ', 'для', ' ', 'семья', '\\n'], ['жилье', '\\n'], ['операция', ' ', 'с', ' ', 'жилье', '\\n'], ['недвижимость', '\\n'], ['операция', ' ', 'с', ' ', 'коммерческий', ' ', 'недвижимость', '\\n'], ['свой', ' ', 'автомобиль', '\\n'], ['операция', ' ', 'с', ' ', 'недвижимость', '\\n'], ['операция', ' ', 'с', ' ', 'коммерческий', ' ', 'недвижимость', '\\n'], ['получение', ' ', 'дополнительный', ' ', 'образование', '\\n'], ['свадьба', '\\n'], ['профильный', ' ', 'образование', '\\n'], ['свадьба', '\\n'], ['автомобиль', '\\n'], ['профильный', ' ', 'образование', '\\n'], ['высокий', ' ', 'образование', '\\n'], ['покупка', ' ', 'жилье', ' ', 'для', ' ', 'сдача', '\\n'], ['операция', ' ', 'с', ' ', 'жилье', '\\n'], ['строительство', ' ', 'собственный', ' ', 'недвижимость', '\\n'], ['покупка', ' ', 'коммерческий', ' ', 'недвижимость', '\\n'], ['на', ' ', 'покупка', ' ', 'автомобиль', '\\n'], ['получение', ' ', 'образование', '\\n'], ['на', ' ', 'покупка', ' ', 'свой', ' ', 'автомобиль', '\\n'], ['заниматься', ' ', 'образование', '\\n'], ['автомобиль', '\\n'], ['покупка', ' ', 'жилье', ' ', 'для', ' ', 'сдача', '\\n'], ['жилье', '\\n'], ['автомобиль', '\\n'], ['покупка', ' ', 'жилье', ' ', 'для', ' ', 'семья', '\\n'], ['автомобиль', '\\n'], ['автомобиль', '\\n'], ['операция', ' ', 'с', ' ', 'недвижимость', '\\n'], ['ремонт', ' ', 'жилье', '\\n'], ['недвижимость', '\\n'], ['покупка', ' ', 'жилье', '\\n'], ['образование', '\\n'], ['получение', ' ', 'дополнительный', ' ', 'образование', '\\n'], ['строительство', ' ', 'недвижимость', '\\n'], ['операция', ' ', 'с', ' ', 'недвижимость', '\\n'], ['на', ' ', 'покупка', ' ', 'автомобиль', '\\n'], ['получение', ' ', 'дополнительный', ' ', 'образование', '\\n'], ['сделка', ' ', 'с', ' ', 'подержанный', ' ', 'автомобиль', '\\n'], ['на', ' ', 'проведение', ' ', 'свадьба', '\\n'], ['строительство', ' ', 'жилой', ' ', 'недвижимость', '\\n'], ['жилье', '\\n'], ['свой', ' ', 'автомобиль', '\\n'], ['операция', ' ', 'с', ' ', 'недвижимость', '\\n'], ['операция', ' ', 'с', ' ', 'недвижимость', '\\n'], ['получение', ' ', 'дополнительный', ' ', 'образование', '\\n'], ['сделка', ' ', 'с', ' ', 'подержанный', ' ', 'автомобиль', '\\n'], ['профильный', ' ', 'образование', '\\n'], ['на', ' ', 'проведение', ' ', 'свадьба', '\\n'], ['сделка', ' ', 'с', ' ', 'подержанный', ' ', 'автомобиль', '\\n'], ['автомобиль', '\\n'], ['получение', ' ', 'образование', '\\n'], ['жилье', '\\n'], ['заниматься', ' ', 'высокий', ' ', 'образование', '\\n'], ['профильный', ' ', 'образование', '\\n'], ['образование', '\\n'], ['автомобиль', '\\n'], ['дополнительный', ' ', 'образование', '\\n'], ['заниматься', ' ', 'высокий', ' ', 'образование', '\\n'], ['строительство', ' ', 'недвижимость', '\\n'], ['строительство', ' ', 'собственный', ' ', 'недвижимость', '\\n'], ['сыграть', ' ', 'свадьба', '\\n'], ['сыграть', ' ', 'свадьба', '\\n'], ['сделка', ' ', 'с', ' ', 'автомобиль', '\\n'], ['профильный', ' ', 'образование', '\\n'], ['покупка', ' ', 'жилье', ' ', 'для', ' ', 'сдача', '\\n'], ['автомобиль', '\\n'], ['строительство', ' ', 'недвижимость', '\\n'], ['свой', ' ', 'автомобиль', '\\n'], ['покупка', ' ', 'жилье', ' ', 'для', ' ', 'семья', '\\n'], ['сыграть', ' ', 'свадьба', '\\n'], ['строительство', ' ', 'недвижимость', '\\n'], ['покупка', ' ', 'свой', ' ', 'жилье', '\\n'], ['получение', ' ', 'образование', '\\n'], ['покупка', ' ', 'свой', ' ', 'жилье', '\\n'], ['покупка', ' ', 'недвижимость', '\\n'], ['сыграть', ' ', 'свадьба', '\\n'], ['на', ' ', 'проведение', ' ', 'свадьба', '\\n'], ['строительство', ' ', 'жилой', ' ', 'недвижимость', '\\n'], ['на', ' ', 'покупка', ' ', 'подержать', ' ', 'автомобиль', '\\n'], ['покупка', ' ', 'жилье', '\\n'], ['высокий', ' ', 'образование', '\\n'], ['покупка', ' ', 'недвижимость', '\\n'], ['автомобиль', '\\n'], ['покупка', ' ', 'коммерческий', ' ', 'недвижимость', '\\n'], ['сыграть', ' ', 'свадьба', '\\n'], ['сделка', ' ', 'с', ' ', 'подержанный', ' ', 'автомобиль', '\\n'], ['строительство', ' ', 'недвижимость', '\\n'], ['получение', ' ', 'дополнительный', ' ', 'образование', '\\n'], ['строительство', ' ', 'недвижимость', '\\n'], ['ремонт', ' ', 'жилье', '\\n'], ['приобретение', ' ', 'автомобиль', '\\n'], ['операция', ' ', 'с', ' ', 'недвижимость', '\\n'], ['свадьба', '\\n'], ['сделка', ' ', 'с', ' ', 'подержанный', ' ', 'автомобиль', '\\n'], ['покупка', ' ', 'коммерческий', ' ', 'недвижимость', '\\n'], ['автомобиль', '\\n'], ['профильный', ' ', 'образование', '\\n'], ['покупка', ' ', 'свой', ' ', 'жилье', '\\n'], ['недвижимость', '\\n'], ['свадьба', '\\n'], ['получение', ' ', 'дополнительный', ' ', 'образование', '\\n'], ['заниматься', ' ', 'образование', '\\n'], ['ремонт', ' ', 'жилье', '\\n'], ['покупка', ' ', 'жилье', ' ', 'для', ' ', 'сдача', '\\n'], ['операция', ' ', 'со', ' ', 'свой', ' ', 'недвижимость', '\\n'], ['приобретение', ' ', 'автомобиль', '\\n'], ['сделка', ' ', 'с', ' ', 'подержанный', ' ', 'автомобиль', '\\n'], ['строительство', ' ', 'недвижимость', '\\n'], ['покупка', ' ', 'жилье', ' ', 'для', ' ', 'сдача', '\\n'], ['заниматься', ' ', 'образование', '\\n'], ['приобретение', ' ', 'автомобиль', '\\n'], ['получение', ' ', 'образование', '\\n'], ['профильный', ' ', 'образование', '\\n'], ['покупка', ' ', 'жилье', ' ', 'для', ' ', 'семья', '\\n'], ['покупка', ' ', 'жилье', ' ', 'для', ' ', 'семья', '\\n'], ['операция', ' ', 'с', ' ', 'недвижимость', '\\n'], ['получение', ' ', 'образование', '\\n'], ['сделка', ' ', 'с', ' ', 'автомобиль', '\\n'], ['на', ' ', 'покупка', ' ', 'свой', ' ', 'автомобиль', '\\n'], ['на', ' ', 'покупка', ' ', 'подержать', ' ', 'автомобиль', '\\n'], ['на', ' ', 'покупка', ' ', 'автомобиль', '\\n'], ['операция', ' ', 'с', ' ', 'коммерческий', ' ', 'недвижимость', '\\n'], ['на', ' ', 'покупка', ' ', 'свой', ' ', 'автомобиль', '\\n'], ['покупка', ' ', 'недвижимость', '\\n'], ['высокий', ' ', 'образование', '\\n'], ['покупка', ' ', 'недвижимость', '\\n'], ['покупка', ' ', 'жилой', ' ', 'недвижимость', '\\n'], ['покупка', ' ', 'жилье', ' ', 'для', ' ', 'сдача', '\\n'], ['свадьба', '\\n'], ['на', ' ', 'проведение', ' ', 'свадьба', '\\n'], ['покупка', ' ', 'жилье', ' ', 'для', ' ', 'сдача', '\\n'], ['покупка', ' ', 'жилье', '\\n'], ['ремонт', ' ', 'жилье', '\\n'], ['заниматься', ' ', 'высокий', ' ', 'образование', '\\n'], ['жилье', '\\n'], ['сделка', ' ', 'с', ' ', 'подержанный', ' ', 'автомобиль', '\\n'], ['покупка', ' ', 'коммерческий', ' ', 'недвижимость', '\\n'], ['строительство', ' ', 'собственный', ' ', 'недвижимость', '\\n'], ['на', ' ', 'покупка', ' ', 'свой', ' ', 'автомобиль', '\\n'], ['строительство', ' ', 'недвижимость', '\\n'], ['сыграть', ' ', 'свадьба', '\\n'], ['на', ' ', 'проведение', ' ', 'свадьба', '\\n'], ['сделка', ' ', 'с', ' ', 'подержанный', ' ', 'автомобиль', '\\n'], ['операция', ' ', 'с', ' ', 'коммерческий', ' ', 'недвижимость', '\\n'], ['на', ' ', 'покупка', ' ', 'свой', ' ', 'автомобиль', '\\n'], ['строительство', ' ', 'жилой', ' ', 'недвижимость', '\\n'], ['операция', ' ', 'со', ' ', 'свой', ' ', 'недвижимость', '\\n'], ['на', ' ', 'покупка', ' ', 'подержать', ' ', 'автомобиль', '\\n'], ['свой', ' ', 'автомобиль', '\\n'], ['покупка', ' ', 'жилье', ' ', 'для', ' ', 'сдача', '\\n'], ['автомобиль', '\\n'], ['свой', ' ', 'автомобиль', '\\n'], ['покупка', ' ', 'коммерческий', ' ', 'недвижимость', '\\n'], ['дополнительный', ' ', 'образование', '\\n'], ['строительство', ' ', 'жилой', ' ', 'недвижимость', '\\n'], ['покупка', ' ', 'свой', ' ', 'жилье', '\\n'], ['получение', ' ', 'дополнительный', ' ', 'образование', '\\n'], ['профильный', ' ', 'образование', '\\n'], ['покупка', ' ', 'коммерческий', ' ', 'недвижимость', '\\n'], ['покупка', ' ', 'жилье', ' ', 'для', ' ', 'сдача', '\\n'], ['автомобиль', '\\n'], ['строительство', ' ', 'недвижимость', '\\n'], ['сыграть', ' ', 'свадьба', '\\n'], ['жилье', '\\n'], ['сыграть', ' ', 'свадьба', '\\n'], ['получение', ' ', 'дополнительный', ' ', 'образование', '\\n'], ['сыграть', ' ', 'свадьба', '\\n'], ['высокий', ' ', 'образование', '\\n'], ['операция', ' ', 'с', ' ', 'жилье', '\\n'], ['строительство', ' ', 'жилой', ' ', 'недвижимость', '\\n'], ['операция', ' ', 'с', ' ', 'коммерческий', ' ', 'недвижимость', '\\n'], ['получение', ' ', 'образование', '\\n'], ['на', ' ', 'проведение', ' ', 'свадьба', '\\n'], ['получение', ' ', 'образование', '\\n'], ['операция', ' ', 'с', ' ', 'недвижимость', '\\n'], ['получение', ' ', 'высокий', ' ', 'образование', '\\n'], ['жилье', '\\n'], ['операция', ' ', 'с', ' ', 'коммерческий', ' ', 'недвижимость', '\\n'], ['покупка', ' ', 'жилье', ' ', 'для', ' ', 'семья', '\\n'], ['сделка', ' ', 'с', ' ', 'автомобиль', '\\n'], ['приобретение', ' ', 'автомобиль', '\\n'], ['операция', ' ', 'с', ' ', 'жилье', '\\n'], ['операция', ' ', 'с', ' ', 'жилье', '\\n'], ['покупка', ' ', 'жилой', ' ', 'недвижимость', '\\n'], ['строительство', ' ', 'жилой', ' ', 'недвижимость', '\\n'], ['операция', ' ', 'с', ' ', 'недвижимость', '\\n'], ['покупка', ' ', 'жилой', ' ', 'недвижимость', '\\n'], ['покупка', ' ', 'недвижимость', '\\n'], ['операция', ' ', 'с', ' ', 'недвижимость', '\\n'], ['высокий', ' ', 'образование', '\\n'], ['сделка', ' ', 'с', ' ', 'подержанный', ' ', 'автомобиль', '\\n'], ['операция', ' ', 'с', ' ', 'коммерческий', ' ', 'недвижимость', '\\n'], ['строительство', ' ', 'жилой', ' ', 'недвижимость', '\\n'], ['покупка', ' ', 'жилье', ' ', 'для', ' ', 'семья', '\\n'], ['сыграть', ' ', 'свадьба', '\\n'], ['строительство', ' ', 'собственный', ' ', 'недвижимость', '\\n'], ['автомобиль', '\\n'], ['получение', ' ', 'дополнительный', ' ', 'образование', '\\n'], ['операция', ' ', 'с', ' ', 'недвижимость', '\\n'], ['операция', ' ', 'с', ' ', 'коммерческий', ' ', 'недвижимость', '\\n'], ['заниматься', ' ', 'высокий', ' ', 'образование', '\\n'], ['операция', ' ', 'со', ' ', 'свой', ' ', 'недвижимость', '\\n'], ['на', ' ', 'покупка', ' ', 'подержать', ' ', 'автомобиль', '\\n'], ['автомобиль', '\\n'], ['операция', ' ', 'с', ' ', 'жилье', '\\n'], ['строительство', ' ', 'собственный', ' ', 'недвижимость', '\\n'], ['сыграть', ' ', 'свадьба', '\\n'], ['строительство', ' ', 'жилой', ' ', 'недвижимость', '\\n'], ['сыграть', ' ', 'свадьба', '\\n'], ['приобретение', ' ', 'автомобиль', '\\n'], ['покупка', ' ', 'жилье', ' ', 'для', ' ', 'семья', '\\n'], ['дополнительный', ' ', 'образование', '\\n'], ['дополнительный', ' ', 'образование', '\\n'], ['на', ' ', 'покупка', ' ', 'автомобиль', '\\n'], ['покупка', ' ', 'жилой', ' ', 'недвижимость', '\\n'], ['операция', ' ', 'с', ' ', 'недвижимость', '\\n'], ['дополнительный', ' ', 'образование', '\\n'], ['жилье', '\\n'], ['покупка', ' ', 'свой', ' ', 'жилье', '\\n'], ['жилье', '\\n'], ['сделка', ' ', 'с', ' ', 'автомобиль', '\\n'], ['операция', ' ', 'с', ' ', 'недвижимость', '\\n'], ['заниматься', ' ', 'образование', '\\n'], ['покупка', ' ', 'коммерческий', ' ', 'недвижимость', '\\n'], ['сыграть', ' ', 'свадьба', '\\n'], ['жилье', '\\n'], ['свой', ' ', 'автомобиль', '\\n'], ['строительство', ' ', 'жилой', ' ', 'недвижимость', '\\n'], ['строительство', ' ', 'жилой', ' ', 'недвижимость', '\\n'], ['операция', ' ', 'с', ' ', 'жилье', '\\n'], ['заниматься', ' ', 'высокий', ' ', 'образование', '\\n'], ['получение', ' ', 'образование', '\\n'], ['профильный', ' ', 'образование', '\\n'], ['покупка', ' ', 'недвижимость', '\\n'], ['строительство', ' ', 'собственный', ' ', 'недвижимость', '\\n'], ['дополнительный', ' ', 'образование', '\\n'], ['получение', ' ', 'высокий', ' ', 'образование', '\\n'], ['покупка', ' ', 'жилье', ' ', 'для', ' ', 'сдача', '\\n'], ['получение', ' ', 'высокий', ' ', 'образование', '\\n'], ['покупка', ' ', 'недвижимость', '\\n'], ['недвижимость', '\\n'], ['покупка', ' ', 'коммерческий', ' ', 'недвижимость', '\\n'], ['покупка', ' ', 'жилой', ' ', 'недвижимость', '\\n'], ['на', ' ', 'покупка', ' ', 'автомобиль', '\\n'], ['получение', ' ', 'высокий', ' ', 'образование', '\\n'], ['дополнительный', ' ', 'образование', '\\n'], ['на', ' ', 'проведение', ' ', 'свадьба', '\\n'], ['высокий', ' ', 'образование', '\\n'], ['покупка', ' ', 'жилье', ' ', 'для', ' ', 'сдача', '\\n'], ['операция', ' ', 'с', ' ', 'недвижимость', '\\n'], ['покупка', ' ', 'свой', ' ', 'жилье', '\\n'], ['покупка', ' ', 'свой', ' ', 'жилье', '\\n'], ['строительство', ' ', 'жилой', ' ', 'недвижимость', '\\n'], ['заниматься', ' ', 'высокий', ' ', 'образование', '\\n'], ['строительство', ' ', 'недвижимость', '\\n'], ['высокий', ' ', 'образование', '\\n'], ['свой', ' ', 'автомобиль', '\\n'], ['строительство', ' ', 'жилой', ' ', 'недвижимость', '\\n'], ['строительство', ' ', 'недвижимость', '\\n'], ['приобретение', ' ', 'автомобиль', '\\n'], ['строительство', ' ', 'жилой', ' ', 'недвижимость', '\\n'], ['свой', ' ', 'автомобиль', '\\n'], ['покупка', ' ', 'жилье', ' ', 'для', ' ', 'семья', '\\n'], ['строительство', ' ', 'собственный', ' ', 'недвижимость', '\\n'], ['покупка', ' ', 'недвижимость', '\\n'], ['недвижимость', '\\n'], ['свадьба', '\\n'], ['покупка', ' ', 'недвижимость', '\\n'], ['свадьба', '\\n'], ['покупка', ' ', 'жилье', ' ', 'для', ' ', 'сдача', '\\n'], ['свадьба', '\\n'], ['сделка', ' ', 'с', ' ', 'подержанный', ' ', 'автомобиль', '\\n'], ['покупка', ' ', 'коммерческий', ' ', 'недвижимость', '\\n'], ['строительство', ' ', 'недвижимость', '\\n'], ['операция', ' ', 'с', ' ', 'недвижимость', '\\n'], ['покупка', ' ', 'жилой', ' ', 'недвижимость', '\\n'], ['покупка', ' ', 'коммерческий', ' ', 'недвижимость', '\\n'], ['строительство', ' ', 'собственный', ' ', 'недвижимость', '\\n'], ['покупка', ' ', 'свой', ' ', 'жилье', '\\n'], ['получение', ' ', 'дополнительный', ' ', 'образование', '\\n'], ['покупка', ' ', 'недвижимость', '\\n'], ['сделка', ' ', 'с', ' ', 'автомобиль', '\\n'], ['дополнительный', ' ', 'образование', '\\n'], ['свадьба', '\\n'], ['приобретение', ' ', 'автомобиль', '\\n'], ['недвижимость', '\\n'], ['покупка', ' ', 'свой', ' ', 'жилье', '\\n'], ['заниматься', ' ', 'высокий', ' ', 'образование', '\\n'], ['на', ' ', 'покупка', ' ', 'автомобиль', '\\n'], ['строительство', ' ', 'жилой', ' ', 'недвижимость', '\\n'], ['операция', ' ', 'со', ' ', 'свой', ' ', 'недвижимость', '\\n'], ['покупка', ' ', 'жилье', ' ', 'для', ' ', 'семья', '\\n'], ['покупка', ' ', 'жилье', '\\n'], ['на', ' ', 'проведение', ' ', 'свадьба', '\\n'], ['профильный', ' ', 'образование', '\\n'], ['покупка', ' ', 'жилой', ' ', 'недвижимость', '\\n'], ['на', ' ', 'покупка', ' ', 'свой', ' ', 'автомобиль', '\\n'], ['приобретение', ' ', 'автомобиль', '\\n'], ['получение', ' ', 'образование', '\\n'], ['покупка', ' ', 'коммерческий', ' ', 'недвижимость', '\\n'], ['на', ' ', 'покупка', ' ', 'свой', ' ', 'автомобиль', '\\n'], ['свой', ' ', 'автомобиль', '\\n'], ['заниматься', ' ', 'высокий', ' ', 'образование', '\\n'], ['на', ' ', 'покупка', ' ', 'свой', ' ', 'автомобиль', '\\n'], ['строительство', ' ', 'собственный', ' ', 'недвижимость', '\\n'], ['свадьба', '\\n'], ['жилье', '\\n'], ['покупка', ' ', 'коммерческий', ' ', 'недвижимость', '\\n'], ['приобретение', ' ', 'автомобиль', '\\n'], ['на', ' ', 'проведение', ' ', 'свадьба', '\\n'], ['покупка', ' ', 'жилье', ' ', 'для', ' ', 'семья', '\\n'], ['профильный', ' ', 'образование', '\\n'], ['операция', ' ', 'с', ' ', 'жилье', '\\n'], ['получение', ' ', 'высокий', ' ', 'образование', '\\n'], ['на', ' ', 'проведение', ' ', 'свадьба', '\\n'], ['на', ' ', 'проведение', ' ', 'свадьба', '\\n'], ['автомобиль', '\\n'], ['свой', ' ', 'автомобиль', '\\n'], ['жилье', '\\n'], ['свой', ' ', 'автомобиль', '\\n'], ['профильный', ' ', 'образование', '\\n'], ['покупка', ' ', 'недвижимость', '\\n'], ['профильный', ' ', 'образование', '\\n'], ['жилье', '\\n'], ['операция', ' ', 'с', ' ', 'жилье', '\\n'], ['автомобиль', '\\n'], ['покупка', ' ', 'свой', ' ', 'жилье', '\\n'], ['на', ' ', 'покупка', ' ', 'свой', ' ', 'автомобиль', '\\n'], ['покупка', ' ', 'коммерческий', ' ', 'недвижимость', '\\n'], ['строительство', ' ', 'жилой', ' ', 'недвижимость', '\\n'], ['недвижимость', '\\n'], ['жилье', '\\n'], ['сыграть', ' ', 'свадьба', '\\n'], ['операция', ' ', 'с', ' ', 'недвижимость', '\\n'], ['жилье', '\\n'], ['получение', ' ', 'дополнительный', ' ', 'образование', '\\n'], ['покупка', ' ', 'свой', ' ', 'жилье', '\\n'], ['жилье', '\\n'], ['покупка', ' ', 'жилье', ' ', 'для', ' ', 'сдача', '\\n'], ['приобретение', ' ', 'автомобиль', '\\n'], ['сделка', ' ', 'с', ' ', 'подержанный', ' ', 'автомобиль', '\\n'], ['покупка', ' ', 'недвижимость', '\\n'], ['на', ' ', 'покупка', ' ', 'подержать', ' ', 'автомобиль', '\\n'], ['строительство', ' ', 'недвижимость', '\\n'], ['на', ' ', 'покупка', ' ', 'подержать', ' ', 'автомобиль', '\\n'], ['заниматься', ' ', 'высокий', ' ', 'образование', '\\n'], ['покупка', ' ', 'коммерческий', ' ', 'недвижимость', '\\n'], ['строительство', ' ', 'жилой', ' ', 'недвижимость', '\\n'], ['операция', ' ', 'с', ' ', 'коммерческий', ' ', 'недвижимость', '\\n'], ['образование', '\\n'], ['строительство', ' ', 'собственный', ' ', 'недвижимость', '\\n'], ['получение', ' ', 'высокий', ' ', 'образование', '\\n'], ['профильный', ' ', 'образование', '\\n'], ['профильный', ' ', 'образование', '\\n'], ['строительство', ' ', 'недвижимость', '\\n'], ['жилье', '\\n'], ['заниматься', ' ', 'образование', '\\n'], ['операция', ' ', 'с', ' ', 'жилье', '\\n'], ['свадьба', '\\n'], ['получение', ' ', 'высокий', ' ', 'образование', '\\n'], ['заниматься', ' ', 'образование', '\\n'], ['автомобиль', '\\n'], ['свадьба', '\\n'], ['свадьба', '\\n'], ['заниматься', ' ', 'высокий', ' ', 'образование', '\\n'], ['операция', ' ', 'с', ' ', 'жилье', '\\n'], ['свадьба', '\\n'], ['образование', '\\n'], ['строительство', ' ', 'собственный', ' ', 'недвижимость', '\\n'], ['на', ' ', 'покупка', ' ', 'автомобиль', '\\n'], ['покупка', ' ', 'свой', ' ', 'жилье', '\\n'], ['операция', ' ', 'с', ' ', 'недвижимость', '\\n'], ['строительство', ' ', 'собственный', ' ', 'недвижимость', '\\n'], ['на', ' ', 'проведение', ' ', 'свадьба', '\\n'], ['покупка', ' ', 'свой', ' ', 'жилье', '\\n'], ['автомобиль', '\\n'], ['ремонт', ' ', 'жилье', '\\n'], ['на', ' ', 'покупка', ' ', 'свой', ' ', 'автомобиль', '\\n'], ['покупка', ' ', 'жилой', ' ', 'недвижимость', '\\n'], ['заниматься', ' ', 'образование', '\\n'], ['получение', ' ', 'образование', '\\n'], ['получение', ' ', 'образование', '\\n'], ['сделка', ' ', 'с', ' ', 'подержанный', ' ', 'автомобиль', '\\n'], ['дополнительный', ' ', 'образование', '\\n'], ['заниматься', ' ', 'высокий', ' ', 'образование', '\\n'], ['приобретение', ' ', 'автомобиль', '\\n'], ['свадьба', '\\n'], ['операция', ' ', 'с', ' ', 'недвижимость', '\\n'], ['операция', ' ', 'со', ' ', 'свой', ' ', 'недвижимость', '\\n'], ['на', ' ', 'покупка', ' ', 'свой', ' ', 'автомобиль', '\\n'], ['профильный', ' ', 'образование', '\\n'], ['приобретение', ' ', 'автомобиль', '\\n'], ['покупка', ' ', 'жилье', ' ', 'для', ' ', 'сдача', '\\n'], ['свадьба', '\\n'], ['строительство', ' ', 'собственный', ' ', 'недвижимость', '\\n'], ['сыграть', ' ', 'свадьба', '\\n'], ['покупка', ' ', 'коммерческий', ' ', 'недвижимость', '\\n'], ['покупка', ' ', 'недвижимость', '\\n'], ['покупка', ' ', 'жилье', ' ', 'для', ' ', 'семья', '\\n'], ['покупка', ' ', 'жилье', ' ', 'для', ' ', 'сдача', '\\n'], ['образование', '\\n'], ['жилье', '\\n'], ['сыграть', ' ', 'свадьба', '\\n'], ['на', ' ', 'проведение', ' ', 'свадьба', '\\n'], ['на', ' ', 'покупка', ' ', 'подержать', ' ', 'автомобиль', '\\n'], ['на', ' ', 'покупка', ' ', 'автомобиль', '\\n'], ['покупка', ' ', 'недвижимость', '\\n'], ['операция', ' ', 'с', ' ', 'коммерческий', ' ', 'недвижимость', '\\n'], ['образование', '\\n'], ['строительство', ' ', 'недвижимость', '\\n'], ['операция', ' ', 'с', ' ', 'коммерческий', ' ', 'недвижимость', '\\n'], ['сделка', ' ', 'с', ' ', 'автомобиль', '\\n'], ['профильный', ' ', 'образование', '\\n'], ['строительство', ' ', 'недвижимость', '\\n'], ['операция', ' ', 'с', ' ', 'недвижимость', '\\n'], ['автомобиль', '\\n'], ['на', ' ', 'покупка', ' ', 'автомобиль', '\\n'], ['покупка', ' ', 'недвижимость', '\\n'], ['покупка', ' ', 'коммерческий', ' ', 'недвижимость', '\\n'], ['операция', ' ', 'с', ' ', 'жилье', '\\n'], ['операция', ' ', 'с', ' ', 'жилье', '\\n'], ['жилье', '\\n'], ['недвижимость', '\\n'], ['операция', ' ', 'с', ' ', 'коммерческий', ' ', 'недвижимость', '\\n'], ['заниматься', ' ', 'высокий', ' ', 'образование', '\\n'], ['свой', ' ', 'автомобиль', '\\n'], ['операция', ' ', 'с', ' ', 'жилье', '\\n'], ['приобретение', ' ', 'автомобиль', '\\n'], ['операция', ' ', 'со', ' ', 'свой', ' ', 'недвижимость', '\\n'], ['ремонт', ' ', 'жилье', '\\n'], ['операция', ' ', 'с', ' ', 'недвижимость', '\\n'], ['образование', '\\n'], ['покупка', ' ', 'свой', ' ', 'жилье', '\\n'], ['недвижимость', '\\n'], ['на', ' ', 'покупка', ' ', 'автомобиль', '\\n'], ['высокий', ' ', 'образование', '\\n'], ['строительство', ' ', 'собственный', ' ', 'недвижимость', '\\n'], ['строительство', ' ', 'собственный', ' ', 'недвижимость', '\\n'], ['недвижимость', '\\n'], ['автомобиль', '\\n'], ['получение', ' ', 'дополнительный', ' ', 'образование', '\\n'], ['строительство', ' ', 'недвижимость', '\\n'], ['строительство', ' ', 'жилой', ' ', 'недвижимость', '\\n'], ['строительство', ' ', 'собственный', ' ', 'недвижимость', '\\n'], ['ремонт', ' ', 'жилье', '\\n'], ['получение', ' ', 'дополнительный', ' ', 'образование', '\\n'], ['свадьба', '\\n'], ['автомобиль', '\\n'], ['приобретение', ' ', 'автомобиль', '\\n'], ['недвижимость', '\\n'], ['ремонт', ' ', 'жилье', '\\n'], ['дополнительный', ' ', 'образование', '\\n'], ['строительство', ' ', 'жилой', ' ', 'недвижимость', '\\n'], ['сыграть', ' ', 'свадьба', '\\n'], ['покупка', ' ', 'жилой', ' ', 'недвижимость', '\\n'], ['приобретение', ' ', 'автомобиль', '\\n'], ['получение', ' ', 'дополнительный', ' ', 'образование', '\\n'], ['автомобиль', '\\n'], ['строительство', ' ', 'жилой', ' ', 'недвижимость', '\\n'], ['покупка', ' ', 'свой', ' ', 'жилье', '\\n'], ['свадьба', '\\n'], ['недвижимость', '\\n'], ['на', ' ', 'покупка', ' ', 'свой', ' ', 'автомобиль', '\\n'], ['покупка', ' ', 'жилье', ' ', 'для', ' ', 'семья', '\\n'], ['ремонт', ' ', 'жилье', '\\n'], ['на', ' ', 'покупка', ' ', 'подержать', ' ', 'автомобиль', '\\n'], ['высокий', ' ', 'образование', '\\n'], ['операция', ' ', 'со', ' ', 'свой', ' ', 'недвижимость', '\\n'], ['сыграть', ' ', 'свадьба', '\\n'], ['на', ' ', 'покупка', ' ', 'подержать', ' ', 'автомобиль', '\\n'], ['строительство', ' ', 'жилой', ' ', 'недвижимость', '\\n'], ['автомобиль', '\\n'], ['покупка', ' ', 'жилье', ' ', 'для', ' ', 'семья', '\\n'], ['покупка', ' ', 'коммерческий', ' ', 'недвижимость', '\\n'], ['покупка', ' ', 'жилье', ' ', 'для', ' ', 'сдача', '\\n'], ['недвижимость', '\\n'], ['жилье', '\\n'], ['жилье', '\\n'], ['заниматься', ' ', 'образование', '\\n'], ['покупка', ' ', 'коммерческий', ' ', 'недвижимость', '\\n'], ['высокий', ' ', 'образование', '\\n'], ['операция', ' ', 'с', ' ', 'коммерческий', ' ', 'недвижимость', '\\n'], ['получение', ' ', 'высокий', ' ', 'образование', '\\n'], ['недвижимость', '\\n'], ['сделка', ' ', 'с', ' ', 'автомобиль', '\\n'], ['строительство', ' ', 'жилой', ' ', 'недвижимость', '\\n'], ['свадьба', '\\n'], ['заниматься', ' ', 'образование', '\\n'], ['строительство', ' ', 'собственный', ' ', 'недвижимость', '\\n'], ['строительство', ' ', 'жилой', ' ', 'недвижимость', '\\n'], ['образование', '\\n'], ['покупка', ' ', 'жилье', ' ', 'для', ' ', 'сдача', '\\n'], ['получение', ' ', 'дополнительный', ' ', 'образование', '\\n'], ['получение', ' ', 'образование', '\\n'], ['операция', ' ', 'со', ' ', 'свой', ' ', 'недвижимость', '\\n'], ['операция', ' ', 'со', ' ', 'свой', ' ', 'недвижимость', '\\n'], ['покупка', ' ', 'жилье', ' ', 'для', ' ', 'семья', '\\n'], ['автомобиль', '\\n'], ['покупка', ' ', 'жилье', '\\n'], ['получение', ' ', 'дополнительный', ' ', 'образование', '\\n'], ['на', ' ', 'покупка', ' ', 'свой', ' ', 'автомобиль', '\\n'], ['операция', ' ', 'с', ' ', 'жилье', '\\n'], ['операция', ' ', 'со', ' ', 'свой', ' ', 'недвижимость', '\\n'], ['высокий', ' ', 'образование', '\\n'], ['сделка', ' ', 'с', ' ', 'подержанный', ' ', 'автомобиль', '\\n'], ['строительство', ' ', 'собственный', ' ', 'недвижимость', '\\n'], ['строительство', ' ', 'собственный', ' ', 'недвижимость', '\\n'], ['приобретение', ' ', 'автомобиль', '\\n'], ['покупка', ' ', 'жилье', ' ', 'для', ' ', 'сдача', '\\n'], ['строительство', ' ', 'недвижимость', '\\n'], ['на', ' ', 'проведение', ' ', 'свадьба', '\\n'], ['получение', ' ', 'высокий', ' ', 'образование', '\\n'], ['операция', ' ', 'с', ' ', 'коммерческий', ' ', 'недвижимость', '\\n'], ['строительство', ' ', 'недвижимость', '\\n'], ['покупка', ' ', 'свой', ' ', 'жилье', '\\n'], ['получение', ' ', 'образование', '\\n'], ['автомобиль', '\\n'], ['получение', ' ', 'дополнительный', ' ', 'образование', '\\n'], ['покупка', ' ', 'коммерческий', ' ', 'недвижимость', '\\n'], ['заниматься', ' ', 'высокий', ' ', 'образование', '\\n'], ['операция', ' ', 'с', ' ', 'коммерческий', ' ', 'недвижимость', '\\n'], ['на', ' ', 'покупка', ' ', 'свой', ' ', 'автомобиль', '\\n'], ['на', ' ', 'покупка', ' ', 'подержать', ' ', 'автомобиль', '\\n'], ['покупка', ' ', 'жилье', ' ', 'для', ' ', 'семья', '\\n'], ['недвижимость', '\\n'], ['высокий', ' ', 'образование', '\\n'], ['свой', ' ', 'автомобиль', '\\n'], ['операция', ' ', 'с', ' ', 'жилье', '\\n'], ['на', ' ', 'покупка', ' ', 'автомобиль', '\\n'], ['операция', ' ', 'с', ' ', 'жилье', '\\n'], ['образование', '\\n'], ['покупка', ' ', 'жилье', ' ', 'для', ' ', 'семья', '\\n'], ['ремонт', ' ', 'жилье', '\\n'], ['жилье', '\\n'], ['ремонт', ' ', 'жилье', '\\n'], ['получение', ' ', 'дополнительный', ' ', 'образование', '\\n'], ['жилье', '\\n'], ['покупка', ' ', 'недвижимость', '\\n'], ['операция', ' ', 'с', ' ', 'недвижимость', '\\n'], ['свадьба', '\\n'], ['операция', ' ', 'с', ' ', 'недвижимость', '\\n'], ['операция', ' ', 'с', ' ', 'жилье', '\\n'], ['операция', ' ', 'со', ' ', 'свой', ' ', 'недвижимость', '\\n'], ['операция', ' ', 'со', ' ', 'свой', ' ', 'недвижимость', '\\n'], ['получение', ' ', 'дополнительный', ' ', 'образование', '\\n'], ['недвижимость', '\\n'], ['на', ' ', 'покупка', ' ', 'автомобиль', '\\n'], ['на', ' ', 'покупка', ' ', 'автомобиль', '\\n'], ['свадьба', '\\n'], ['автомобиль', '\\n'], ['строительство', ' ', 'недвижимость', '\\n'], ['сделка', ' ', 'с', ' ', 'подержанный', ' ', 'автомобиль', '\\n'], ['покупка', ' ', 'жилье', '\\n'], ['операция', ' ', 'с', ' ', 'недвижимость', '\\n'], ['получение', ' ', 'образование', '\\n'], ['заниматься', ' ', 'образование', '\\n'], ['операция', ' ', 'со', ' ', 'свой', ' ', 'недвижимость', '\\n'], ['покупка', ' ', 'жилье', ' ', 'для', ' ', 'семья', '\\n'], ['профильный', ' ', 'образование', '\\n'], ['покупка', ' ', 'коммерческий', ' ', 'недвижимость', '\\n'], ['операция', ' ', 'с', ' ', 'коммерческий', ' ', 'недвижимость', '\\n'], ['свадьба', '\\n'], ['на', ' ', 'покупка', ' ', 'подержать', ' ', 'автомобиль', '\\n'], ['операция', ' ', 'с', ' ', 'жилье', '\\n'], ['профильный', ' ', 'образование', '\\n'], ['операция', ' ', 'с', ' ', 'жилье', '\\n'], ['на', ' ', 'покупка', ' ', 'автомобиль', '\\n'], ['строительство', ' ', 'жилой', ' ', 'недвижимость', '\\n'], ['жилье', '\\n'], ['получение', ' ', 'высокий', ' ', 'образование', '\\n'], ['заниматься', ' ', 'высокий', ' ', 'образование', '\\n'], ['на', ' ', 'проведение', ' ', 'свадьба', '\\n'], ['сыграть', ' ', 'свадьба', '\\n'], ['строительство', ' ', 'недвижимость', '\\n'], ['ремонт', ' ', 'жилье', '\\n'], ['высокий', ' ', 'образование', '\\n'], ['сыграть', ' ', 'свадьба', '\\n'], ['автомобиль', '\\n'], ['получение', ' ', 'дополнительный', ' ', 'образование', '\\n'], ['получение', ' ', 'высокий', ' ', 'образование', '\\n'], ['жилье', '\\n'], ['покупка', ' ', 'жилье', '\\n'], ['образование', '\\n'], ['приобретение', ' ', 'автомобиль', '\\n'], ['покупка', ' ', 'жилой', ' ', 'недвижимость', '\\n'], ['сделка', ' ', 'с', ' ', 'автомобиль', '\\n'], ['получение', ' ', 'образование', '\\n'], ['свой', ' ', 'автомобиль', '\\n'], ['недвижимость', '\\n'], ['покупка', ' ', 'коммерческий', ' ', 'недвижимость', '\\n'], ['сыграть', ' ', 'свадьба', '\\n'], ['автомобиль', '\\n'], ['операция', ' ', 'со', ' ', 'свой', ' ', 'недвижимость', '\\n'], ['покупка', ' ', 'жилье', ' ', 'для', ' ', 'сдача', '\\n'], ['высокий', ' ', 'образование', '\\n'], ['получение', ' ', 'образование', '\\n'], ['операция', ' ', 'с', ' ', 'коммерческий', ' ', 'недвижимость', '\\n'], ['дополнительный', ' ', 'образование', '\\n'], ['строительство', ' ', 'жилой', ' ', 'недвижимость', '\\n'], ['операция', ' ', 'с', ' ', 'коммерческий', ' ', 'недвижимость', '\\n'], ['недвижимость', '\\n'], ['дополнительный', ' ', 'образование', '\\n'], ['свадьба', '\\n'], ['покупка', ' ', 'жилье', '\\n'], ['заниматься', ' ', 'высокий', ' ', 'образование', '\\n'], ['ремонт', ' ', 'жилье', '\\n'], ['ремонт', ' ', 'жилье', '\\n'], ['сделка', ' ', 'с', ' ', 'подержанный', ' ', 'автомобиль', '\\n'], ['дополнительный', ' ', 'образование', '\\n'], ['покупка', ' ', 'жилье', ' ', 'для', ' ', 'сдача', '\\n'], ['жилье', '\\n'], ['получение', ' ', 'высокий', ' ', 'образование', '\\n'], ['свадьба', '\\n'], ['получение', ' ', 'высокий', ' ', 'образование', '\\n'], ['высокий', ' ', 'образование', '\\n'], ['сделка', ' ', 'с', ' ', 'автомобиль', '\\n'], ['строительство', ' ', 'недвижимость', '\\n'], ['высокий', ' ', 'образование', '\\n'], ['свадьба', '\\n'], ['на', ' ', 'покупка', ' ', 'подержать', ' ', 'автомобиль', '\\n'], ['сделка', ' ', 'с', ' ', 'подержанный', ' ', 'автомобиль', '\\n'], ['недвижимость', '\\n'], ['операция', ' ', 'с', ' ', 'коммерческий', ' ', 'недвижимость', '\\n'], ['операция', ' ', 'с', ' ', 'коммерческий', ' ', 'недвижимость', '\\n'], ['недвижимость', '\\n'], ['получение', ' ', 'дополнительный', ' ', 'образование', '\\n'], ['покупка', ' ', 'свой', ' ', 'жилье', '\\n'], ['операция', ' ', 'с', ' ', 'недвижимость', '\\n'], ['операция', ' ', 'со', ' ', 'свой', ' ', 'недвижимость', '\\n'], ['на', ' ', 'покупка', ' ', 'автомобиль', '\\n'], ['на', ' ', 'покупка', ' ', 'подержать', ' ', 'автомобиль', '\\n'], ['образование', '\\n'], ['сделка', ' ', 'с', ' ', 'автомобиль', '\\n'], ['сделка', ' ', 'с', ' ', 'подержанный', ' ', 'автомобиль', '\\n'], ['профильный', ' ', 'образование', '\\n'], ['операция', ' ', 'с', ' ', 'коммерческий', ' ', 'недвижимость', '\\n'], ['высокий', ' ', 'образование', '\\n'], ['автомобиль', '\\n'], ['автомобиль', '\\n'], ['покупка', ' ', 'жилье', '\\n'], ['сделка', ' ', 'с', ' ', 'подержанный', ' ', 'автомобиль', '\\n'], ['сделка', ' ', 'с', ' ', 'подержанный', ' ', 'автомобиль', '\\n'], ['высокий', ' ', 'образование', '\\n'], ['покупка', ' ', 'недвижимость', '\\n'], ['заниматься', ' ', 'высокий', ' ', 'образование', '\\n'], ['жилье', '\\n'], ['сделка', ' ', 'с', ' ', 'подержанный', ' ', 'автомобиль', '\\n'], ['автомобиль', '\\n'], ['покупка', ' ', 'жилье', '\\n'], ['высокий', ' ', 'образование', '\\n'], ['операция', ' ', 'с', ' ', 'коммерческий', ' ', 'недвижимость', '\\n'], ['покупка', ' ', 'коммерческий', ' ', 'недвижимость', '\\n'], ['покупка', ' ', 'жилье', '\\n'], ['заниматься', ' ', 'образование', '\\n'], ['приобретение', ' ', 'автомобиль', '\\n'], ['недвижимость', '\\n'], ['профильный', ' ', 'образование', '\\n'], ['заниматься', ' ', 'образование', '\\n'], ['автомобиль', '\\n'], ['автомобиль', '\\n'], ['сыграть', ' ', 'свадьба', '\\n'], ['сделка', ' ', 'с', ' ', 'подержанный', ' ', 'автомобиль', '\\n'], ['на', ' ', 'покупка', ' ', 'подержать', ' ', 'автомобиль', '\\n'], ['жилье', '\\n'], ['дополнительный', ' ', 'образование', '\\n'], ['свадьба', '\\n'], ['на', ' ', 'покупка', ' ', 'подержать', ' ', 'автомобиль', '\\n'], ['покупка', ' ', 'жилье', '\\n'], ['операция', ' ', 'с', ' ', 'недвижимость', '\\n'], ['ремонт', ' ', 'жилье', '\\n'], ['на', ' ', 'покупка', ' ', 'автомобиль', '\\n'], ['сыграть', ' ', 'свадьба', '\\n'], ['покупка', ' ', 'коммерческий', ' ', 'недвижимость', '\\n'], ['сыграть', ' ', 'свадьба', '\\n'], ['сделка', ' ', 'с', ' ', 'подержанный', ' ', 'автомобиль', '\\n'], ['покупка', ' ', 'жилье', ' ', 'для', ' ', 'семья', '\\n'], ['сделка', ' ', 'с', ' ', 'автомобиль', '\\n'], ['покупка', ' ', 'недвижимость', '\\n'], ['покупка', ' ', 'жилье', '\\n'], ['автомобиль', '\\n'], ['недвижимость', '\\n'], ['операция', ' ', 'с', ' ', 'недвижимость', '\\n'], ['строительство', ' ', 'недвижимость', '\\n'], ['операция', ' ', 'с', ' ', 'недвижимость', '\\n'], ['покупка', ' ', 'свой', ' ', 'жилье', '\\n'], ['дополнительный', ' ', 'образование', '\\n'], ['строительство', ' ', 'недвижимость', '\\n'], ['на', ' ', 'покупка', ' ', 'свой', ' ', 'автомобиль', '\\n'], ['сыграть', ' ', 'свадьба', '\\n'], ['жилье', '\\n'], ['высокий', ' ', 'образование', '\\n'], ['покупка', ' ', 'жилье', ' ', 'для', ' ', 'сдача', '\\n'], ['строительство', ' ', 'жилой', ' ', 'недвижимость', '\\n'], ['операция', ' ', 'со', ' ', 'свой', ' ', 'недвижимость', '\\n'], ['покупка', ' ', 'жилье', '\\n'], ['на', ' ', 'покупка', ' ', 'подержать', ' ', 'автомобиль', '\\n'], ['строительство', ' ', 'собственный', ' ', 'недвижимость', '\\n'], ['на', ' ', 'покупка', ' ', 'свой', ' ', 'автомобиль', '\\n'], ['на', ' ', 'покупка', ' ', 'подержать', ' ', 'автомобиль', '\\n'], ['сделка', ' ', 'с', ' ', 'подержанный', ' ', 'автомобиль', '\\n'], ['автомобиль', '\\n'], ['строительство', ' ', 'собственный', ' ', 'недвижимость', '\\n'], ['сделка', ' ', 'с', ' ', 'автомобиль', '\\n'], ['на', ' ', 'покупка', ' ', 'подержать', ' ', 'автомобиль', '\\n'], ['автомобиль', '\\n'], ['профильный', ' ', 'образование', '\\n'], ['строительство', ' ', 'собственный', ' ', 'недвижимость', '\\n'], ['на', ' ', 'проведение', ' ', 'свадьба', '\\n'], ['на', ' ', 'покупка', ' ', 'свой', ' ', 'автомобиль', '\\n'], ['заниматься', ' ', 'высокий', ' ', 'образование', '\\n'], ['жилье', '\\n'], ['заниматься', ' ', 'высокий', ' ', 'образование', '\\n'], ['профильный', ' ', 'образование', '\\n'], ['строительство', ' ', 'недвижимость', '\\n'], ['на', ' ', 'покупка', ' ', 'автомобиль', '\\n'], ['покупка', ' ', 'жилье', ' ', 'для', ' ', 'сдача', '\\n'], ['свадьба', '\\n'], ['покупка', ' ', 'недвижимость', '\\n'], ['операция', ' ', 'с', ' ', 'коммерческий', ' ', 'недвижимость', '\\n'], ['ремонт', ' ', 'жилье', '\\n'], ['получение', ' ', 'высокий', ' ', 'образование', '\\n'], ['свадьба', '\\n'], ['свадьба', '\\n'], ['сыграть', ' ', 'свадьба', '\\n'], ['операция', ' ', 'с', ' ', 'жилье', '\\n'], ['покупка', ' ', 'жилье', '\\n'], ['строительство', ' ', 'собственный', ' ', 'недвижимость', '\\n'], ['получение', ' ', 'высокий', ' ', 'образование', '\\n'], ['недвижимость', '\\n'], ['на', ' ', 'покупка', ' ', 'автомобиль', '\\n'], ['ремонт', ' ', 'жилье', '\\n'], ['покупка', ' ', 'свой', ' ', 'жилье', '\\n'], ['покупка', ' ', 'свой', ' ', 'жилье', '\\n'], ['заниматься', ' ', 'образование', '\\n'], ['покупка', ' ', 'жилье', '\\n'], ['сыграть', ' ', 'свадьба', '\\n'], ['автомобиль', '\\n'], ['покупка', ' ', 'коммерческий', ' ', 'недвижимость', '\\n'], ['сыграть', ' ', 'свадьба', '\\n'], ['операция', ' ', 'со', ' ', 'свой', ' ', 'недвижимость', '\\n'], ['профильный', ' ', 'образование', '\\n'], ['свой', ' ', 'автомобиль', '\\n'], ['на', ' ', 'проведение', ' ', 'свадьба', '\\n'], ['автомобиль', '\\n'], ['профильный', ' ', 'образование', '\\n'], ['автомобиль', '\\n'], ['покупка', ' ', 'коммерческий', ' ', 'недвижимость', '\\n'], ['покупка', ' ', 'недвижимость', '\\n'], ['свадьба', '\\n'], ['свой', ' ', 'автомобиль', '\\n'], ['ремонт', ' ', 'жилье', '\\n'], ['свой', ' ', 'автомобиль', '\\n'], ['жилье', '\\n'], ['строительство', ' ', 'недвижимость', '\\n'], ['покупка', ' ', 'жилье', ' ', 'для', ' ', 'сдача', '\\n'], ['сделка', ' ', 'с', ' ', 'автомобиль', '\\n'], ['свой', ' ', 'автомобиль', '\\n'], ['операция', ' ', 'с', ' ', 'недвижимость', '\\n'], ['покупка', ' ', 'свой', ' ', 'жилье', '\\n'], ['приобретение', ' ', 'автомобиль', '\\n'], ['строительство', ' ', 'жилой', ' ', 'недвижимость', '\\n'], ['сыграть', ' ', 'свадьба', '\\n'], ['заниматься', ' ', 'образование', '\\n'], ['профильный', ' ', 'образование', '\\n'], ['покупка', ' ', 'свой', ' ', 'жилье', '\\n'], ['свадьба', '\\n'], ['высокий', ' ', 'образование', '\\n'], ['получение', ' ', 'образование', '\\n'], ['покупка', ' ', 'жилье', ' ', 'для', ' ', 'семья', '\\n'], ['покупка', ' ', 'жилье', ' ', 'для', ' ', 'сдача', '\\n'], ['автомобиль', '\\n'], ['сделка', ' ', 'с', ' ', 'подержанный', ' ', 'автомобиль', '\\n'], ['на', ' ', 'покупка', ' ', 'подержать', ' ', 'автомобиль', '\\n'], ['строительство', ' ', 'недвижимость', '\\n'], ['покупка', ' ', 'свой', ' ', 'жилье', '\\n'], ['сделка', ' ', 'с', ' ', 'автомобиль', '\\n'], ['на', ' ', 'покупка', ' ', 'автомобиль', '\\n'], ['покупка', ' ', 'жилье', ' ', 'для', ' ', 'сдача', '\\n'], ['покупка', ' ', 'жилье', ' ', 'для', ' ', 'семья', '\\n'], ['получение', ' ', 'дополнительный', ' ', 'образование', '\\n'], ['покупка', ' ', 'жилье', ' ', 'для', ' ', 'семья', '\\n'], ['заниматься', ' ', 'высокий', ' ', 'образование', '\\n'], ['покупка', ' ', 'недвижимость', '\\n'], ['свадьба', '\\n'], ['получение', ' ', 'высокий', ' ', 'образование', '\\n'], ['на', ' ', 'проведение', ' ', 'свадьба', '\\n'], ['свадьба', '\\n'], ['сыграть', ' ', 'свадьба', '\\n'], ['приобретение', ' ', 'автомобиль', '\\n'], ['покупка', ' ', 'жилье', ' ', 'для', ' ', 'семья', '\\n'], ['дополнительный', ' ', 'образование', '\\n'], ['свой', ' ', 'автомобиль', '\\n'], ['свадьба', '\\n'], ['приобретение', ' ', 'автомобиль', '\\n'], ['покупка', ' ', 'жилье', '\\n'], ['покупка', ' ', 'жилье', ' ', 'для', ' ', 'семья', '\\n'], ['на', ' ', 'покупка', ' ', 'подержать', ' ', 'автомобиль', '\\n'], ['покупка', ' ', 'жилой', ' ', 'недвижимость', '\\n'], ['покупка', ' ', 'свой', ' ', 'жилье', '\\n'], ['покупка', ' ', 'жилой', ' ', 'недвижимость', '\\n'], ['высокий', ' ', 'образование', '\\n'], ['строительство', ' ', 'недвижимость', '\\n'], ['высокий', ' ', 'образование', '\\n'], ['на', ' ', 'покупка', ' ', 'автомобиль', '\\n'], ['получение', ' ', 'образование', '\\n'], ['покупка', ' ', 'жилье', ' ', 'для', ' ', 'семья', '\\n'], ['на', ' ', 'покупка', ' ', 'автомобиль', '\\n'], ['сыграть', ' ', 'свадьба', '\\n'], ['высокий', ' ', 'образование', '\\n'], ['ремонт', ' ', 'жилье', '\\n'], ['операция', ' ', 'с', ' ', 'недвижимость', '\\n'], ['получение', ' ', 'образование', '\\n'], ['покупка', ' ', 'свой', ' ', 'жилье', '\\n'], ['ремонт', ' ', 'жилье', '\\n'], ['высокий', ' ', 'образование', '\\n'], ['профильный', ' ', 'образование', '\\n'], ['получение', ' ', 'высокий', ' ', 'образование', '\\n'], ['автомобиль', '\\n'], ['сделка', ' ', 'с', ' ', 'автомобиль', '\\n'], ['на', ' ', 'проведение', ' ', 'свадьба', '\\n'], ['строительство', ' ', 'собственный', ' ', 'недвижимость', '\\n'], ['профильный', ' ', 'образование', '\\n'], ['получение', ' ', 'дополнительный', ' ', 'образование', '\\n'], ['сделка', ' ', 'с', ' ', 'подержанный', ' ', 'автомобиль', '\\n'], ['покупка', ' ', 'жилье', ' ', 'для', ' ', 'сдача', '\\n'], ['автомобиль', '\\n'], ['на', ' ', 'покупка', ' ', 'автомобиль', '\\n'], ['жилье', '\\n'], ['покупка', ' ', 'недвижимость', '\\n'], ['образование', '\\n'], ['свадьба', '\\n'], ['строительство', ' ', 'недвижимость', '\\n'], ['получение', ' ', 'высокий', ' ', 'образование', '\\n'], ['получение', ' ', 'дополнительный', ' ', 'образование', '\\n'], ['сделка', ' ', 'с', ' ', 'автомобиль', '\\n'], ['строительство', ' ', 'недвижимость', '\\n'], ['строительство', ' ', 'жилой', ' ', 'недвижимость', '\\n'], ['покупка', ' ', 'недвижимость', '\\n'], ['строительство', ' ', 'недвижимость', '\\n'], ['покупка', ' ', 'жилой', ' ', 'недвижимость', '\\n'], ['строительство', ' ', 'недвижимость', '\\n'], ['дополнительный', ' ', 'образование', '\\n'], ['сделка', ' ', 'с', ' ', 'автомобиль', '\\n'], ['операция', ' ', 'со', ' ', 'свой', ' ', 'недвижимость', '\\n'], ['автомобиль', '\\n'], ['заниматься', ' ', 'высокий', ' ', 'образование', '\\n'], ['на', ' ', 'покупка', ' ', 'свой', ' ', 'автомобиль', '\\n'], ['свадьба', '\\n'], ['приобретение', ' ', 'автомобиль', '\\n'], ['образование', '\\n'], ['ремонт', ' ', 'жилье', '\\n'], ['свадьба', '\\n'], ['операция', ' ', 'с', ' ', 'недвижимость', '\\n'], ['операция', ' ', 'со', ' ', 'свой', ' ', 'недвижимость', '\\n'], ['автомобиль', '\\n'], ['получение', ' ', 'образование', '\\n'], ['покупка', ' ', 'жилой', ' ', 'недвижимость', '\\n'], ['покупка', ' ', 'коммерческий', ' ', 'недвижимость', '\\n'], ['покупка', ' ', 'жилье', ' ', 'для', ' ', 'семья', '\\n'], ['жилье', '\\n'], ['недвижимость', '\\n'], ['заниматься', ' ', 'образование', '\\n'], ['заниматься', ' ', 'образование', '\\n'], ['ремонт', ' ', 'жилье', '\\n'], ['профильный', ' ', 'образование', '\\n'], ['свадьба', '\\n'], ['операция', ' ', 'со', ' ', 'свой', ' ', 'недвижимость', '\\n'], ['недвижимость', '\\n'], ['строительство', ' ', 'жилой', ' ', 'недвижимость', '\\n'], ['покупка', ' ', 'жилье', '\\n'], ['образование', '\\n'], ['покупка', ' ', 'жилой', ' ', 'недвижимость', '\\n'], ['ремонт', ' ', 'жилье', '\\n'], ['операция', ' ', 'со', ' ', 'свой', ' ', 'недвижимость', '\\n'], ['ремонт', ' ', 'жилье', '\\n'], ['сыграть', ' ', 'свадьба', '\\n'], ['заниматься', ' ', 'высокий', ' ', 'образование', '\\n'], ['операция', ' ', 'со', ' ', 'свой', ' ', 'недвижимость', '\\n'], ['строительство', ' ', 'жилой', ' ', 'недвижимость', '\\n'], ['автомобиль', '\\n'], ['жилье', '\\n'], ['на', ' ', 'покупка', ' ', 'свой', ' ', 'автомобиль', '\\n'], ['на', ' ', 'покупка', ' ', 'автомобиль', '\\n'], ['заниматься', ' ', 'образование', '\\n'], ['операция', ' ', 'с', ' ', 'жилье', '\\n'], ['жилье', '\\n'], ['строительство', ' ', 'жилой', ' ', 'недвижимость', '\\n'], ['на', ' ', 'покупка', ' ', 'свой', ' ', 'автомобиль', '\\n'], ['операция', ' ', 'со', ' ', 'свой', ' ', 'недвижимость', '\\n'], ['покупка', ' ', 'жилье', '\\n'], ['жилье', '\\n'], ['получение', ' ', 'дополнительный', ' ', 'образование', '\\n'], ['сыграть', ' ', 'свадьба', '\\n'], ['на', ' ', 'покупка', ' ', 'автомобиль', '\\n'], ['недвижимость', '\\n'], ['получение', ' ', 'высокий', ' ', 'образование', '\\n'], ['покупка', ' ', 'жилой', ' ', 'недвижимость', '\\n'], ['получение', ' ', 'высокий', ' ', 'образование', '\\n'], ['недвижимость', '\\n'], ['свой', ' ', 'автомобиль', '\\n'], ['операция', ' ', 'с', ' ', 'жилье', '\\n'], ['автомобиль', '\\n'], ['недвижимость', '\\n'], ['покупка', ' ', 'свой', ' ', 'жилье', '\\n'], ['высокий', ' ', 'образование', '\\n'], ['покупка', ' ', 'жилье', ' ', 'для', ' ', 'семья', '\\n'], ['покупка', ' ', 'жилье', ' ', 'для', ' ', 'сдача', '\\n'], ['покупка', ' ', 'жилье', '\\n'], ['заниматься', ' ', 'образование', '\\n'], ['образование', '\\n'], ['покупка', ' ', 'коммерческий', ' ', 'недвижимость', '\\n'], ['жилье', '\\n'], ['получение', ' ', 'образование', '\\n'], ['высокий', ' ', 'образование', '\\n'], ['на', ' ', 'проведение', ' ', 'свадьба', '\\n'], ['покупка', ' ', 'жилье', ' ', 'для', ' ', 'сдача', '\\n'], ['операция', ' ', 'с', ' ', 'коммерческий', ' ', 'недвижимость', '\\n'], ['дополнительный', ' ', 'образование', '\\n'], ['недвижимость', '\\n'], ['на', ' ', 'проведение', ' ', 'свадьба', '\\n'], ['на', ' ', 'покупка', ' ', 'свой', ' ', 'автомобиль', '\\n'], ['на', ' ', 'покупка', ' ', 'автомобиль', '\\n'], ['сделка', ' ', 'с', ' ', 'подержанный', ' ', 'автомобиль', '\\n'], ['покупка', ' ', 'жилье', '\\n'], ['образование', '\\n'], ['сыграть', ' ', 'свадьба', '\\n'], ['операция', ' ', 'с', ' ', 'жилье', '\\n'], ['автомобиль', '\\n'], ['дополнительный', ' ', 'образование', '\\n'], ['получение', ' ', 'высокий', ' ', 'образование', '\\n'], ['покупка', ' ', 'свой', ' ', 'жилье', '\\n'], ['покупка', ' ', 'жилье', ' ', 'для', ' ', 'сдача', '\\n'], ['операция', ' ', 'с', ' ', 'жилье', '\\n'], ['получение', ' ', 'образование', '\\n'], ['операция', ' ', 'с', ' ', 'недвижимость', '\\n'], ['покупка', ' ', 'жилой', ' ', 'недвижимость', '\\n'], ['жилье', '\\n'], ['операция', ' ', 'с', ' ', 'жилье', '\\n'], ['операция', ' ', 'с', ' ', 'жилье', '\\n'], ['операция', ' ', 'с', ' ', 'коммерческий', ' ', 'недвижимость', '\\n'], ['покупка', ' ', 'жилой', ' ', 'недвижимость', '\\n'], ['покупка', ' ', 'свой', ' ', 'жилье', '\\n'], ['покупка', ' ', 'жилье', ' ', 'для', ' ', 'сдача', '\\n'], ['операция', ' ', 'с', ' ', 'коммерческий', ' ', 'недвижимость', '\\n'], ['на', ' ', 'проведение', ' ', 'свадьба', '\\n'], ['на', ' ', 'покупка', ' ', 'свой', ' ', 'автомобиль', '\\n'], ['свадьба', '\\n'], ['получение', ' ', 'образование', '\\n'], ['покупка', ' ', 'жилье', '\\n'], ['жилье', '\\n'], ['получение', ' ', 'дополнительный', ' ', 'образование', '\\n'], ['приобретение', ' ', 'автомобиль', '\\n'], ['автомобиль', '\\n'], ['операция', ' ', 'со', ' ', 'свой', ' ', 'недвижимость', '\\n'], ['строительство', ' ', 'собственный', ' ', 'недвижимость', '\\n'], ['покупка', ' ', 'жилье', '\\n'], ['свой', ' ', 'автомобиль', '\\n'], ['дополнительный', ' ', 'образование', '\\n'], ['недвижимость', '\\n'], ['операция', ' ', 'со', ' ', 'свой', ' ', 'недвижимость', '\\n'], ['заниматься', ' ', 'образование', '\\n'], ['сыграть', ' ', 'свадьба', '\\n'], ['дополнительный', ' ', 'образование', '\\n'], ['получение', ' ', 'дополнительный', ' ', 'образование', '\\n'], ['на', ' ', 'покупка', ' ', 'автомобиль', '\\n'], ['покупка', ' ', 'жилье', ' ', 'для', ' ', 'семья', '\\n'], ['операция', ' ', 'с', ' ', 'коммерческий', ' ', 'недвижимость', '\\n'], ['сыграть', ' ', 'свадьба', '\\n'], ['операция', ' ', 'со', ' ', 'свой', ' ', 'недвижимость', '\\n'], ['приобретение', ' ', 'автомобиль', '\\n'], ['заниматься', ' ', 'высокий', ' ', 'образование', '\\n'], ['строительство', ' ', 'собственный', ' ', 'недвижимость', '\\n'], ['покупка', ' ', 'жилье', '\\n'], ['операция', ' ', 'со', ' ', 'свой', ' ', 'недвижимость', '\\n'], ['на', ' ', 'проведение', ' ', 'свадьба', '\\n'], ['операция', ' ', 'с', ' ', 'коммерческий', ' ', 'недвижимость', '\\n'], ['образование', '\\n'], ['строительство', ' ', 'недвижимость', '\\n'], ['покупка', ' ', 'жилье', ' ', 'для', ' ', 'сдача', '\\n'], ['строительство', ' ', 'недвижимость', '\\n'], ['заниматься', ' ', 'высокий', ' ', 'образование', '\\n'], ['операция', ' ', 'с', ' ', 'коммерческий', ' ', 'недвижимость', '\\n'], ['ремонт', ' ', 'жилье', '\\n'], ['дополнительный', ' ', 'образование', '\\n'], ['профильный', ' ', 'образование', '\\n'], ['строительство', ' ', 'собственный', ' ', 'недвижимость', '\\n'], ['свадьба', '\\n'], ['сыграть', ' ', 'свадьба', '\\n'], ['получение', ' ', 'дополнительный', ' ', 'образование', '\\n'], ['покупка', ' ', 'недвижимость', '\\n'], ['операция', ' ', 'с', ' ', 'коммерческий', ' ', 'недвижимость', '\\n'], ['на', ' ', 'покупка', ' ', 'подержать', ' ', 'автомобиль', '\\n'], ['операция', ' ', 'с', ' ', 'недвижимость', '\\n'], ['на', ' ', 'проведение', ' ', 'свадьба', '\\n'], ['на', ' ', 'проведение', ' ', 'свадьба', '\\n'], ['свой', ' ', 'автомобиль', '\\n'], ['на', ' ', 'покупка', ' ', 'автомобиль', '\\n'], ['дополнительный', ' ', 'образование', '\\n'], ['недвижимость', '\\n'], ['заниматься', ' ', 'высокий', ' ', 'образование', '\\n'], ['строительство', ' ', 'недвижимость', '\\n'], ['строительство', ' ', 'собственный', ' ', 'недвижимость', '\\n'], ['операция', ' ', 'с', ' ', 'коммерческий', ' ', 'недвижимость', '\\n'], ['высокий', ' ', 'образование', '\\n'], ['операция', ' ', 'с', ' ', 'жилье', '\\n'], ['покупка', ' ', 'коммерческий', ' ', 'недвижимость', '\\n'], ['покупка', ' ', 'жилье', '\\n'], ['недвижимость', '\\n'], ['автомобиль', '\\n'], ['получение', ' ', 'высокий', ' ', 'образование', '\\n'], ['покупка', ' ', 'коммерческий', ' ', 'недвижимость', '\\n'], ['образование', '\\n'], ['недвижимость', '\\n'], ['на', ' ', 'покупка', ' ', 'подержать', ' ', 'автомобиль', '\\n'], ['операция', ' ', 'с', ' ', 'недвижимость', '\\n'], ['заниматься', ' ', 'образование', '\\n'], ['покупка', ' ', 'жилье', ' ', 'для', ' ', 'сдача', '\\n'], ['покупка', ' ', 'свой', ' ', 'жилье', '\\n'], ['покупка', ' ', 'жилье', '\\n'], ['строительство', ' ', 'недвижимость', '\\n'], ['покупка', ' ', 'коммерческий', ' ', 'недвижимость', '\\n'], ['покупка', ' ', 'жилой', ' ', 'недвижимость', '\\n'], ['сыграть', ' ', 'свадьба', '\\n'], ['сделка', ' ', 'с', ' ', 'подержанный', ' ', 'автомобиль', '\\n'], ['операция', ' ', 'с', ' ', 'жилье', '\\n'], ['недвижимость', '\\n'], ['покупка', ' ', 'жилой', ' ', 'недвижимость', '\\n'], ['покупка', ' ', 'жилье', ' ', 'для', ' ', 'сдача', '\\n'], ['операция', ' ', 'со', ' ', 'свой', ' ', 'недвижимость', '\\n'], ['приобретение', ' ', 'автомобиль', '\\n'], ['автомобиль', '\\n'], ['недвижимость', '\\n'], ['приобретение', ' ', 'автомобиль', '\\n'], ['ремонт', ' ', 'жилье', '\\n'], ['получение', ' ', 'образование', '\\n'], ['свадьба', '\\n'], ['строительство', ' ', 'недвижимость', '\\n'], ['операция', ' ', 'со', ' ', 'свой', ' ', 'недвижимость', '\\n'], ['на', ' ', 'проведение', ' ', 'свадьба', '\\n'], ['строительство', ' ', 'недвижимость', '\\n'], ['строительство', ' ', 'недвижимость', '\\n'], ['дополнительный', ' ', 'образование', '\\n'], ['строительство', ' ', 'недвижимость', '\\n'], ['автомобиль', '\\n'], ['получение', ' ', 'дополнительный', ' ', 'образование', '\\n'], ['на', ' ', 'покупка', ' ', 'автомобиль', '\\n'], ['свадьба', '\\n'], ['покупка', ' ', 'коммерческий', ' ', 'недвижимость', '\\n'], ['сделка', ' ', 'с', ' ', 'автомобиль', '\\n'], ['операция', ' ', 'с', ' ', 'недвижимость', '\\n'], ['покупка', ' ', 'жилье', '\\n'], ['строительство', ' ', 'жилой', ' ', 'недвижимость', '\\n'], ['операция', ' ', 'с', ' ', 'коммерческий', ' ', 'недвижимость', '\\n'], ['на', ' ', 'покупка', ' ', 'свой', ' ', 'автомобиль', '\\n'], ['автомобиль', '\\n'], ['дополнительный', ' ', 'образование', '\\n'], ['на', ' ', 'проведение', ' ', 'свадьба', '\\n'], ['строительство', ' ', 'недвижимость', '\\n'], ['образование', '\\n'], ['покупка', ' ', 'жилье', '\\n'], ['автомобиль', '\\n'], ['покупка', ' ', 'жилье', ' ', 'для', ' ', 'сдача', '\\n'], ['свадьба', '\\n'], ['покупка', ' ', 'жилье', ' ', 'для', ' ', 'сдача', '\\n'], ['жилье', '\\n'], ['свадьба', '\\n'], ['на', ' ', 'проведение', ' ', 'свадьба', '\\n'], ['покупка', ' ', 'свой', ' ', 'жилье', '\\n'], ['сыграть', ' ', 'свадьба', '\\n'], ['покупка', ' ', 'свой', ' ', 'жилье', '\\n'], ['строительство', ' ', 'собственный', ' ', 'недвижимость', '\\n'], ['покупка', ' ', 'недвижимость', '\\n'], ['строительство', ' ', 'недвижимость', '\\n'], ['заниматься', ' ', 'образование', '\\n'], ['операция', ' ', 'с', ' ', 'жилье', '\\n'], ['получение', ' ', 'образование', '\\n'], ['образование', '\\n'], ['дополнительный', ' ', 'образование', '\\n'], ['сыграть', ' ', 'свадьба', '\\n'], ['строительство', ' ', 'собственный', ' ', 'недвижимость', '\\n'], ['покупка', ' ', 'свой', ' ', 'жилье', '\\n'], ['покупка', ' ', 'жилой', ' ', 'недвижимость', '\\n'], ['на', ' ', 'проведение', ' ', 'свадьба', '\\n'], ['строительство', ' ', 'недвижимость', '\\n'], ['операция', ' ', 'со', ' ', 'свой', ' ', 'недвижимость', '\\n'], ['автомобиль', '\\n'], ['строительство', ' ', 'недвижимость', '\\n'], ['операция', ' ', 'с', ' ', 'недвижимость', '\\n'], ['получение', ' ', 'образование', '\\n'], ['жилье', '\\n'], ['покупка', ' ', 'свой', ' ', 'жилье', '\\n'], ['покупка', ' ', 'жилье', '\\n'], ['покупка', ' ', 'жилье', ' ', 'для', ' ', 'семья', '\\n'], ['на', ' ', 'покупка', ' ', 'свой', ' ', 'автомобиль', '\\n'], ['сделка', ' ', 'с', ' ', 'подержанный', ' ', 'автомобиль', '\\n'], ['получение', ' ', 'дополнительный', ' ', 'образование', '\\n'], ['операция', ' ', 'со', ' ', 'свой', ' ', 'недвижимость', '\\n'], ['на', ' ', 'проведение', ' ', 'свадьба', '\\n'], ['заниматься', ' ', 'образование', '\\n'], ['покупка', ' ', 'жилье', '\\n'], ['дополнительный', ' ', 'образование', '\\n'], ['строительство', ' ', 'собственный', ' ', 'недвижимость', '\\n'], ['строительство', ' ', 'жилой', ' ', 'недвижимость', '\\n'], ['операция', ' ', 'с', ' ', 'недвижимость', '\\n'], ['покупка', ' ', 'жилье', ' ', 'для', ' ', 'семья', '\\n'], ['сделка', ' ', 'с', ' ', 'подержанный', ' ', 'автомобиль', '\\n'], ['сыграть', ' ', 'свадьба', '\\n'], ['покупка', ' ', 'жилье', ' ', 'для', ' ', 'сдача', '\\n'], ['получение', ' ', 'образование', '\\n'], ['автомобиль', '\\n'], ['сделка', ' ', 'с', ' ', 'автомобиль', '\\n'], ['жилье', '\\n'], ['сыграть', ' ', 'свадьба', '\\n'], ['на', ' ', 'покупка', ' ', 'свой', ' ', 'автомобиль', '\\n'], ['ремонт', ' ', 'жилье', '\\n'], ['заниматься', ' ', 'высокий', ' ', 'образование', '\\n'], ['покупка', ' ', 'жилье', ' ', 'для', ' ', 'семья', '\\n'], ['получение', ' ', 'образование', '\\n'], ['ремонт', ' ', 'жилье', '\\n'], ['покупка', ' ', 'коммерческий', ' ', 'недвижимость', '\\n'], ['получение', ' ', 'образование', '\\n'], ['ремонт', ' ', 'жилье', '\\n'], ['профильный', ' ', 'образование', '\\n'], ['покупка', ' ', 'коммерческий', ' ', 'недвижимость', '\\n'], ['операция', ' ', 'с', ' ', 'коммерческий', ' ', 'недвижимость', '\\n'], ['получение', ' ', 'образование', '\\n'], ['покупка', ' ', 'жилье', '\\n'], ['свадьба', '\\n'], ['покупка', ' ', 'жилье', ' ', 'для', ' ', 'сдача', '\\n'], ['сделка', ' ', 'с', ' ', 'автомобиль', '\\n'], ['на', ' ', 'проведение', ' ', 'свадьба', '\\n'], ['операция', ' ', 'со', ' ', 'свой', ' ', 'недвижимость', '\\n'], ['на', ' ', 'покупка', ' ', 'свой', ' ', 'автомобиль', '\\n'], ['строительство', ' ', 'недвижимость', '\\n'], ['покупка', ' ', 'жилье', '\\n'], ['покупка', ' ', 'жилье', '\\n'], ['операция', ' ', 'с', ' ', 'жилье', '\\n'], ['операция', ' ', 'с', ' ', 'недвижимость', '\\n'], ['покупка', ' ', 'жилье', ' ', 'для', ' ', 'сдача', '\\n'], ['получение', ' ', 'высокий', ' ', 'образование', '\\n'], ['сыграть', ' ', 'свадьба', '\\n'], ['получение', ' ', 'дополнительный', ' ', 'образование', '\\n'], ['высокий', ' ', 'образование', '\\n'], ['операция', ' ', 'с', ' ', 'жилье', '\\n'], ['свадьба', '\\n'], ['высокий', ' ', 'образование', '\\n'], ['операция', ' ', 'с', ' ', 'коммерческий', ' ', 'недвижимость', '\\n'], ['сделка', ' ', 'с', ' ', 'подержанный', ' ', 'автомобиль', '\\n'], ['дополнительный', ' ', 'образование', '\\n'], ['сделка', ' ', 'с', ' ', 'автомобиль', '\\n'], ['покупка', ' ', 'жилье', ' ', 'для', ' ', 'семья', '\\n'], ['покупка', ' ', 'жилье', ' ', 'для', ' ', 'семья', '\\n'], ['образование', '\\n'], ['профильный', ' ', 'образование', '\\n'], ['свадьба', '\\n'], ['строительство', ' ', 'собственный', ' ', 'недвижимость', '\\n'], ['свадьба', '\\n'], ['автомобиль', '\\n'], ['на', ' ', 'покупка', ' ', 'подержать', ' ', 'автомобиль', '\\n'], ['сыграть', ' ', 'свадьба', '\\n'], ['операция', ' ', 'с', ' ', 'недвижимость', '\\n'], ['получение', ' ', 'дополнительный', ' ', 'образование', '\\n'], ['сделка', ' ', 'с', ' ', 'автомобиль', '\\n'], ['ремонт', ' ', 'жилье', '\\n'], ['покупка', ' ', 'жилье', '\\n'], ['строительство', ' ', 'недвижимость', '\\n'], ['свадьба', '\\n'], ['автомобиль', '\\n'], ['заниматься', ' ', 'высокий', ' ', 'образование', '\\n'], ['покупка', ' ', 'жилье', ' ', 'для', ' ', 'семья', '\\n'], ['на', ' ', 'проведение', ' ', 'свадьба', '\\n'], ['на', ' ', 'покупка', ' ', 'свой', ' ', 'автомобиль', '\\n'], ['жилье', '\\n'], ['операция', ' ', 'с', ' ', 'жилье', '\\n'], ['получение', ' ', 'высокий', ' ', 'образование', '\\n'], ['операция', ' ', 'с', ' ', 'жилье', '\\n'], ['строительство', ' ', 'собственный', ' ', 'недвижимость', '\\n'], ['автомобиль', '\\n'], ['сыграть', ' ', 'свадьба', '\\n'], ['операция', ' ', 'со', ' ', 'свой', ' ', 'недвижимость', '\\n'], ['заниматься', ' ', 'образование', '\\n'], ['получение', ' ', 'высокий', ' ', 'образование', '\\n'], ['образование', '\\n'], ['автомобиль', '\\n'], ['строительство', ' ', 'жилой', ' ', 'недвижимость', '\\n'], ['покупка', ' ', 'жилье', '\\n'], ['свадьба', '\\n'], ['операция', ' ', 'с', ' ', 'недвижимость', '\\n'], ['профильный', ' ', 'образование', '\\n'], ['свой', ' ', 'автомобиль', '\\n'], ['строительство', ' ', 'недвижимость', '\\n'], ['покупка', ' ', 'жилье', ' ', 'для', ' ', 'семья', '\\n'], ['строительство', ' ', 'жилой', ' ', 'недвижимость', '\\n'], ['операция', ' ', 'со', ' ', 'свой', ' ', 'недвижимость', '\\n'], ['высокий', ' ', 'образование', '\\n'], ['покупка', ' ', 'недвижимость', '\\n'], ['операция', ' ', 'с', ' ', 'жилье', '\\n'], ['покупка', ' ', 'жилье', ' ', 'для', ' ', 'семья', '\\n'], ['покупка', ' ', 'жилье', ' ', 'для', ' ', 'семья', '\\n'], ['на', ' ', 'проведение', ' ', 'свадьба', '\\n'], ['на', ' ', 'покупка', ' ', 'автомобиль', '\\n'], ['покупка', ' ', 'коммерческий', ' ', 'недвижимость', '\\n'], ['профильный', ' ', 'образование', '\\n'], ['образование', '\\n'], ['жилье', '\\n'], ['строительство', ' ', 'жилой', ' ', 'недвижимость', '\\n'], ['жилье', '\\n'], ['дополнительный', ' ', 'образование', '\\n'], ['на', ' ', 'покупка', ' ', 'автомобиль', '\\n'], ['покупка', ' ', 'жилье', ' ', 'для', ' ', 'сдача', '\\n'], ['операция', ' ', 'с', ' ', 'жилье', '\\n'], ['дополнительный', ' ', 'образование', '\\n'], ['получение', ' ', 'высокий', ' ', 'образование', '\\n'], ['операция', ' ', 'с', ' ', 'недвижимость', '\\n'], ['получение', ' ', 'высокий', ' ', 'образование', '\\n'], ['покупка', ' ', 'жилье', '\\n'], ['покупка', ' ', 'недвижимость', '\\n'], ['автомобиль', '\\n'], ['покупка', ' ', 'свой', ' ', 'жилье', '\\n'], ['получение', ' ', 'высокий', ' ', 'образование', '\\n'], ['на', ' ', 'проведение', ' ', 'свадьба', '\\n'], ['заниматься', ' ', 'образование', '\\n'], ['заниматься', ' ', 'образование', '\\n'], ['покупка', ' ', 'свой', ' ', 'жилье', '\\n'], ['дополнительный', ' ', 'образование', '\\n'], ['на', ' ', 'покупка', ' ', 'подержать', ' ', 'автомобиль', '\\n'], ['заниматься', ' ', 'высокий', ' ', 'образование', '\\n'], ['образование', '\\n'], ['покупка', ' ', 'жилье', '\\n'], ['недвижимость', '\\n'], ['операция', ' ', 'с', ' ', 'недвижимость', '\\n'], ['образование', '\\n'], ['операция', ' ', 'с', ' ', 'жилье', '\\n'], ['на', ' ', 'покупка', ' ', 'автомобиль', '\\n'], ['свой', ' ', 'автомобиль', '\\n'], ['заниматься', ' ', 'высокий', ' ', 'образование', '\\n'], ['операция', ' ', 'со', ' ', 'свой', ' ', 'недвижимость', '\\n'], ['свадьба', '\\n'], ['заниматься', ' ', 'высокий', ' ', 'образование', '\\n'], ['операция', ' ', 'со', ' ', 'свой', ' ', 'недвижимость', '\\n'], ['образование', '\\n'], ['профильный', ' ', 'образование', '\\n'], ['сыграть', ' ', 'свадьба', '\\n'], ['получение', ' ', 'высокий', ' ', 'образование', '\\n'], ['операция', ' ', 'с', ' ', 'коммерческий', ' ', 'недвижимость', '\\n'], ['покупка', ' ', 'свой', ' ', 'жилье', '\\n'], ['покупка', ' ', 'недвижимость', '\\n'], ['строительство', ' ', 'жилой', ' ', 'недвижимость', '\\n'], ['на', ' ', 'покупка', ' ', 'подержать', ' ', 'автомобиль', '\\n'], ['дополнительный', ' ', 'образование', '\\n'], ['покупка', ' ', 'жилье', ' ', 'для', ' ', 'сдача', '\\n'], ['сделка', ' ', 'с', ' ', 'подержанный', ' ', 'автомобиль', '\\n'], ['ремонт', ' ', 'жилье', '\\n'], ['покупка', ' ', 'недвижимость', '\\n'], ['покупка', ' ', 'жилой', ' ', 'недвижимость', '\\n'], ['покупка', ' ', 'жилье', ' ', 'для', ' ', 'семья', '\\n'], ['автомобиль', '\\n'], ['сыграть', ' ', 'свадьба', '\\n'], ['покупка', ' ', 'коммерческий', ' ', 'недвижимость', '\\n'], ['строительство', ' ', 'собственный', ' ', 'недвижимость', '\\n'], ['строительство', ' ', 'собственный', ' ', 'недвижимость', '\\n'], ['операция', ' ', 'с', ' ', 'жилье', '\\n'], ['получение', ' ', 'дополнительный', ' ', 'образование', '\\n'], ['покупка', ' ', 'жилье', ' ', 'для', ' ', 'сдача', '\\n'], ['профильный', ' ', 'образование', '\\n'], ['строительство', ' ', 'собственный', ' ', 'недвижимость', '\\n'], ['операция', ' ', 'с', ' ', 'коммерческий', ' ', 'недвижимость', '\\n'], ['строительство', ' ', 'жилой', ' ', 'недвижимость', '\\n'], ['на', ' ', 'проведение', ' ', 'свадьба', '\\n'], ['покупка', ' ', 'коммерческий', ' ', 'недвижимость', '\\n'], ['свадьба', '\\n'], ['сыграть', ' ', 'свадьба', '\\n'], ['покупка', ' ', 'жилье', ' ', 'для', ' ', 'семья', '\\n'], ['ремонт', ' ', 'жилье', '\\n'], ['покупка', ' ', 'жилье', '\\n'], ['жилье', '\\n'], ['заниматься', ' ', 'образование', '\\n'], ['операция', ' ', 'со', ' ', 'свой', ' ', 'недвижимость', '\\n'], ['сыграть', ' ', 'свадьба', '\\n'], ['на', ' ', 'покупка', ' ', 'подержать', ' ', 'автомобиль', '\\n'], ['недвижимость', '\\n'], ['покупка', ' ', 'коммерческий', ' ', 'недвижимость', '\\n'], ['образование', '\\n'], ['приобретение', ' ', 'автомобиль', '\\n'], ['строительство', ' ', 'жилой', ' ', 'недвижимость', '\\n'], ['операция', ' ', 'с', ' ', 'жилье', '\\n'], ['покупка', ' ', 'жилье', ' ', 'для', ' ', 'семья', '\\n'], ['строительство', ' ', 'недвижимость', '\\n'], ['операция', ' ', 'с', ' ', 'недвижимость', '\\n'], ['высокий', ' ', 'образование', '\\n'], ['операция', ' ', 'с', ' ', 'жилье', '\\n'], ['автомобиль', '\\n'], ['покупка', ' ', 'недвижимость', '\\n'], ['на', ' ', 'проведение', ' ', 'свадьба', '\\n'], ['покупка', ' ', 'коммерческий', ' ', 'недвижимость', '\\n'], ['получение', ' ', 'образование', '\\n'], ['операция', ' ', 'со', ' ', 'свой', ' ', 'недвижимость', '\\n'], ['покупка', ' ', 'жилой', ' ', 'недвижимость', '\\n'], ['операция', ' ', 'с', ' ', 'жилье', '\\n'], ['строительство', ' ', 'недвижимость', '\\n'], ['покупка', ' ', 'жилье', ' ', 'для', ' ', 'семья', '\\n'], ['покупка', ' ', 'жилой', ' ', 'недвижимость', '\\n'], ['заниматься', ' ', 'высокий', ' ', 'образование', '\\n'], ['получение', ' ', 'дополнительный', ' ', 'образование', '\\n'], ['покупка', ' ', 'коммерческий', ' ', 'недвижимость', '\\n'], ['жилье', '\\n'], ['покупка', ' ', 'жилье', ' ', 'для', ' ', 'сдача', '\\n'], ['сделка', ' ', 'с', ' ', 'подержанный', ' ', 'автомобиль', '\\n'], ['на', ' ', 'проведение', ' ', 'свадьба', '\\n'], ['операция', ' ', 'с', ' ', 'жилье', '\\n'], ['покупка', ' ', 'коммерческий', ' ', 'недвижимость', '\\n'], ['на', ' ', 'покупка', ' ', 'автомобиль', '\\n'], ['операция', ' ', 'со', ' ', 'свой', ' ', 'недвижимость', '\\n'], ['покупка', ' ', 'жилье', ' ', 'для', ' ', 'сдача', '\\n'], ['покупка', ' ', 'недвижимость', '\\n'], ['покупка', ' ', 'жилье', '\\n'], ['недвижимость', '\\n'], ['недвижимость', '\\n'], ['заниматься', ' ', 'образование', '\\n'], ['покупка', ' ', 'жилье', ' ', 'для', ' ', 'сдача', '\\n'], ['высокий', ' ', 'образование', '\\n'], ['автомобиль', '\\n'], ['покупка', ' ', 'недвижимость', '\\n'], ['приобретение', ' ', 'автомобиль', '\\n'], ['покупка', ' ', 'жилье', '\\n'], ['получение', ' ', 'дополнительный', ' ', 'образование', '\\n'], ['получение', ' ', 'высокий', ' ', 'образование', '\\n'], ['приобретение', ' ', 'автомобиль', '\\n'], ['заниматься', ' ', 'образование', '\\n'], ['заниматься', ' ', 'высокий', ' ', 'образование', '\\n'], ['автомобиль', '\\n'], ['покупка', ' ', 'жилье', '\\n'], ['сделка', ' ', 'с', ' ', 'автомобиль', '\\n'], ['покупка', ' ', 'недвижимость', '\\n'], ['покупка', ' ', 'жилье', ' ', 'для', ' ', 'сдача', '\\n'], ['сделка', ' ', 'с', ' ', 'подержанный', ' ', 'автомобиль', '\\n'], ['недвижимость', '\\n'], ['на', ' ', 'покупка', ' ', 'подержать', ' ', 'автомобиль', '\\n'], ['покупка', ' ', 'недвижимость', '\\n'], ['образование', '\\n'], ['автомобиль', '\\n'], ['покупка', ' ', 'жилой', ' ', 'недвижимость', '\\n'], ['ремонт', ' ', 'жилье', '\\n'], ['строительство', ' ', 'недвижимость', '\\n'], ['на', ' ', 'проведение', ' ', 'свадьба', '\\n'], ['операция', ' ', 'со', ' ', 'свой', ' ', 'недвижимость', '\\n'], ['покупка', ' ', 'жилье', '\\n'], ['на', ' ', 'покупка', ' ', 'подержать', ' ', 'автомобиль', '\\n'], ['строительство', ' ', 'недвижимость', '\\n'], ['свадьба', '\\n'], ['заниматься', ' ', 'высокий', ' ', 'образование', '\\n'], ['покупка', ' ', 'жилой', ' ', 'недвижимость', '\\n'], ['операция', ' ', 'с', ' ', 'коммерческий', ' ', 'недвижимость', '\\n'], ['получение', ' ', 'образование', '\\n'], ['покупка', ' ', 'недвижимость', '\\n'], ['свадьба', '\\n'], ['сыграть', ' ', 'свадьба', '\\n'], ['дополнительный', ' ', 'образование', '\\n'], ['ремонт', ' ', 'жилье', '\\n'], ['приобретение', ' ', 'автомобиль', '\\n'], ['свадьба', '\\n'], ['покупка', ' ', 'коммерческий', ' ', 'недвижимость', '\\n'], ['на', ' ', 'покупка', ' ', 'свой', ' ', 'автомобиль', '\\n'], ['сыграть', ' ', 'свадьба', '\\n'], ['операция', ' ', 'со', ' ', 'свой', ' ', 'недвижимость', '\\n'], ['покупка', ' ', 'жилье', ' ', 'для', ' ', 'сдача', '\\n'], ['дополнительный', ' ', 'образование', '\\n'], ['сделка', ' ', 'с', ' ', 'подержанный', ' ', 'автомобиль', '\\n'], ['автомобиль', '\\n'], ['операция', ' ', 'с', ' ', 'коммерческий', ' ', 'недвижимость', '\\n'], ['на', ' ', 'покупка', ' ', 'автомобиль', '\\n'], ['покупка', ' ', 'свой', ' ', 'жилье', '\\n'], ['заниматься', ' ', 'образование', '\\n'], ['сыграть', ' ', 'свадьба', '\\n'], ['строительство', ' ', 'жилой', ' ', 'недвижимость', '\\n'], ['образование', '\\n'], ['покупка', ' ', 'жилой', ' ', 'недвижимость', '\\n'], ['сделка', ' ', 'с', ' ', 'автомобиль', '\\n'], ['покупка', ' ', 'жилье', ' ', 'для', ' ', 'сдача', '\\n'], ['строительство', ' ', 'жилой', ' ', 'недвижимость', '\\n'], ['ремонт', ' ', 'жилье', '\\n'], ['покупка', ' ', 'коммерческий', ' ', 'недвижимость', '\\n'], ['покупка', ' ', 'жилье', ' ', 'для', ' ', 'сдача', '\\n'], ['операция', ' ', 'с', ' ', 'жилье', '\\n'], ['автомобиль', '\\n'], ['свой', ' ', 'автомобиль', '\\n'], ['операция', ' ', 'с', ' ', 'коммерческий', ' ', 'недвижимость', '\\n'], ['ремонт', ' ', 'жилье', '\\n'], ['покупка', ' ', 'недвижимость', '\\n'], ['приобретение', ' ', 'автомобиль', '\\n'], ['автомобиль', '\\n'], ['сыграть', ' ', 'свадьба', '\\n'], ['покупка', ' ', 'свой', ' ', 'жилье', '\\n'], ['автомобиль', '\\n'], ['сделка', ' ', 'с', ' ', 'автомобиль', '\\n'], ['автомобиль', '\\n'], ['строительство', ' ', 'собственный', ' ', 'недвижимость', '\\n'], ['сделка', ' ', 'с', ' ', 'подержанный', ' ', 'автомобиль', '\\n'], ['покупка', ' ', 'жилье', ' ', 'для', ' ', 'семья', '\\n'], ['покупка', ' ', 'свой', ' ', 'жилье', '\\n'], ['профильный', ' ', 'образование', '\\n'], ['получение', ' ', 'образование', '\\n'], ['свадьба', '\\n'], ['получение', ' ', 'высокий', ' ', 'образование', '\\n'], ['заниматься', ' ', 'образование', '\\n'], ['покупка', ' ', 'жилье', '\\n'], ['сыграть', ' ', 'свадьба', '\\n'], ['получение', ' ', 'дополнительный', ' ', 'образование', '\\n'], ['операция', ' ', 'с', ' ', 'недвижимость', '\\n'], ['сыграть', ' ', 'свадьба', '\\n'], ['получение', ' ', 'высокий', ' ', 'образование', '\\n'], ['автомобиль', '\\n'], ['свой', ' ', 'автомобиль', '\\n'], ['покупка', ' ', 'жилье', ' ', 'для', ' ', 'сдача', '\\n'], ['автомобиль', '\\n'], ['жилье', '\\n'], ['получение', ' ', 'образование', '\\n'], ['сыграть', ' ', 'свадьба', '\\n'], ['операция', ' ', 'с', ' ', 'жилье', '\\n'], ['на', ' ', 'покупка', ' ', 'свой', ' ', 'автомобиль', '\\n'], ['покупка', ' ', 'жилье', ' ', 'для', ' ', 'семья', '\\n'], ['покупка', ' ', 'свой', ' ', 'жилье', '\\n'], ['на', ' ', 'покупка', ' ', 'подержать', ' ', 'автомобиль', '\\n'], ['свой', ' ', 'автомобиль', '\\n'], ['покупка', ' ', 'жилье', ' ', 'для', ' ', 'сдача', '\\n'], ['ремонт', ' ', 'жилье', '\\n'], ['свадьба', '\\n'], ['на', ' ', 'проведение', ' ', 'свадьба', '\\n'], ['строительство', ' ', 'жилой', ' ', 'недвижимость', '\\n'], ['покупка', ' ', 'недвижимость', '\\n'], ['приобретение', ' ', 'автомобиль', '\\n'], ['автомобиль', '\\n'], ['заниматься', ' ', 'высокий', ' ', 'образование', '\\n'], ['операция', ' ', 'со', ' ', 'свой', ' ', 'недвижимость', '\\n'], ['покупка', ' ', 'жилье', ' ', 'для', ' ', 'семья', '\\n'], ['покупка', ' ', 'свой', ' ', 'жилье', '\\n'], ['автомобиль', '\\n'], ['строительство', ' ', 'жилой', ' ', 'недвижимость', '\\n'], ['недвижимость', '\\n'], ['операция', ' ', 'со', ' ', 'свой', ' ', 'недвижимость', '\\n'], ['автомобиль', '\\n'], ['покупка', ' ', 'недвижимость', '\\n'], ['автомобиль', '\\n'], ['автомобиль', '\\n'], ['получение', ' ', 'высокий', ' ', 'образование', '\\n'], ['на', ' ', 'покупка', ' ', 'подержать', ' ', 'автомобиль', '\\n'], ['покупка', ' ', 'свой', ' ', 'жилье', '\\n'], ['профильный', ' ', 'образование', '\\n'], ['строительство', ' ', 'собственный', ' ', 'недвижимость', '\\n'], ['покупка', ' ', 'жилой', ' ', 'недвижимость', '\\n'], ['операция', ' ', 'со', ' ', 'свой', ' ', 'недвижимость', '\\n'], ['строительство', ' ', 'собственный', ' ', 'недвижимость', '\\n'], ['покупка', ' ', 'коммерческий', ' ', 'недвижимость', '\\n'], ['получение', ' ', 'образование', '\\n'], ['покупка', ' ', 'жилой', ' ', 'недвижимость', '\\n'], ['образование', '\\n'], ['строительство', ' ', 'недвижимость', '\\n'], ['на', ' ', 'проведение', ' ', 'свадьба', '\\n'], ['покупка', ' ', 'свой', ' ', 'жилье', '\\n'], ['операция', ' ', 'с', ' ', 'коммерческий', ' ', 'недвижимость', '\\n'], ['покупка', ' ', 'свой', ' ', 'жилье', '\\n'], ['на', ' ', 'проведение', ' ', 'свадьба', '\\n'], ['на', ' ', 'покупка', ' ', 'свой', ' ', 'автомобиль', '\\n'], ['покупка', ' ', 'жилой', ' ', 'недвижимость', '\\n'], ['получение', ' ', 'образование', '\\n'], ['строительство', ' ', 'недвижимость', '\\n'], ['на', ' ', 'покупка', ' ', 'свой', ' ', 'автомобиль', '\\n'], ['строительство', ' ', 'собственный', ' ', 'недвижимость', '\\n'], ['получение', ' ', 'высокий', ' ', 'образование', '\\n'], ['автомобиль', '\\n'], ['автомобиль', '\\n'], ['получение', ' ', 'высокий', ' ', 'образование', '\\n'], ['заниматься', ' ', 'образование', '\\n'], ['свой', ' ', 'автомобиль', '\\n'], ['покупка', ' ', 'коммерческий', ' ', 'недвижимость', '\\n'], ['заниматься', ' ', 'образование', '\\n'], ['покупка', ' ', 'жилой', ' ', 'недвижимость', '\\n'], ['свадьба', '\\n'], ['операция', ' ', 'со', ' ', 'свой', ' ', 'недвижимость', '\\n'], ['свадьба', '\\n'], ['на', ' ', 'проведение', ' ', 'свадьба', '\\n'], ['жилье', '\\n'], ['жилье', '\\n'], ['сделка', ' ', 'с', ' ', 'автомобиль', '\\n'], ['покупка', ' ', 'жилой', ' ', 'недвижимость', '\\n'], ['образование', '\\n'], ['покупка', ' ', 'жилье', ' ', 'для', ' ', 'сдача', '\\n'], ['покупка', ' ', 'жилой', ' ', 'недвижимость', '\\n'], ['свой', ' ', 'автомобиль', '\\n'], ['жилье', '\\n'], ['приобретение', ' ', 'автомобиль', '\\n'], ['строительство', ' ', 'жилой', ' ', 'недвижимость', '\\n'], ['строительство', ' ', 'жилой', ' ', 'недвижимость', '\\n'], ['высокий', ' ', 'образование', '\\n'], ['получение', ' ', 'высокий', ' ', 'образование', '\\n'], ['сыграть', ' ', 'свадьба', '\\n'], ['получение', ' ', 'дополнительный', ' ', 'образование', '\\n'], ['операция', ' ', 'со', ' ', 'свой', ' ', 'недвижимость', '\\n'], ['получение', ' ', 'высокий', ' ', 'образование', '\\n'], ['операция', ' ', 'с', ' ', 'коммерческий', ' ', 'недвижимость', '\\n'], ['заниматься', ' ', 'высокий', ' ', 'образование', '\\n'], ['операция', ' ', 'со', ' ', 'свой', ' ', 'недвижимость', '\\n'], ['заниматься', ' ', 'высокий', ' ', 'образование', '\\n'], ['на', ' ', 'покупка', ' ', 'свой', ' ', 'автомобиль', '\\n'], ['свой', ' ', 'автомобиль', '\\n'], ['покупка', ' ', 'жилье', ' ', 'для', ' ', 'семья', '\\n'], ['профильный', ' ', 'образование', '\\n'], ['на', ' ', 'покупка', ' ', 'свой', ' ', 'автомобиль', '\\n'], ['покупка', ' ', 'жилье', ' ', 'для', ' ', 'сдача', '\\n'], ['операция', ' ', 'с', ' ', 'коммерческий', ' ', 'недвижимость', '\\n'], ['покупка', ' ', 'свой', ' ', 'жилье', '\\n'], ['покупка', ' ', 'жилье', ' ', 'для', ' ', 'сдача', '\\n'], ['заниматься', ' ', 'высокий', ' ', 'образование', '\\n'], ['дополнительный', ' ', 'образование', '\\n'], ['жилье', '\\n'], ['недвижимость', '\\n'], ['строительство', ' ', 'собственный', ' ', 'недвижимость', '\\n'], ['покупка', ' ', 'жилой', ' ', 'недвижимость', '\\n'], ['покупка', ' ', 'жилье', '\\n'], ['операция', ' ', 'с', ' ', 'жилье', '\\n'], ['покупка', ' ', 'жилье', ' ', 'для', ' ', 'сдача', '\\n'], ['сделка', ' ', 'с', ' ', 'автомобиль', '\\n'], ['строительство', ' ', 'жилой', ' ', 'недвижимость', '\\n'], ['сыграть', ' ', 'свадьба', '\\n'], ['покупка', ' ', 'коммерческий', ' ', 'недвижимость', '\\n'], ['получение', ' ', 'образование', '\\n'], ['строительство', ' ', 'жилой', ' ', 'недвижимость', '\\n'], ['жилье', '\\n'], ['операция', ' ', 'со', ' ', 'свой', ' ', 'недвижимость', '\\n'], ['свадьба', '\\n'], ['покупка', ' ', 'жилой', ' ', 'недвижимость', '\\n'], ['жилье', '\\n'], ['заниматься', ' ', 'высокий', ' ', 'образование', '\\n'], ['на', ' ', 'покупка', ' ', 'автомобиль', '\\n'], ['покупка', ' ', 'коммерческий', ' ', 'недвижимость', '\\n'], ['строительство', ' ', 'жилой', ' ', 'недвижимость', '\\n'], ['ремонт', ' ', 'жилье', '\\n'], ['заниматься', ' ', 'высокий', ' ', 'образование', '\\n'], ['сделка', ' ', 'с', ' ', 'подержанный', ' ', 'автомобиль', '\\n'], ['покупка', ' ', 'жилой', ' ', 'недвижимость', '\\n'], ['покупка', ' ', 'недвижимость', '\\n'], ['сыграть', ' ', 'свадьба', '\\n'], ['получение', ' ', 'образование', '\\n'], ['покупка', ' ', 'жилье', '\\n'], ['покупка', ' ', 'жилье', ' ', 'для', ' ', 'семья', '\\n'], ['образование', '\\n'], ['строительство', ' ', 'недвижимость', '\\n'], ['на', ' ', 'проведение', ' ', 'свадьба', '\\n'], ['покупка', ' ', 'жилой', ' ', 'недвижимость', '\\n'], ['на', ' ', 'проведение', ' ', 'свадьба', '\\n'], ['приобретение', ' ', 'автомобиль', '\\n'], ['на', ' ', 'покупка', ' ', 'подержать', ' ', 'автомобиль', '\\n'], ['на', ' ', 'проведение', ' ', 'свадьба', '\\n'], ['покупка', ' ', 'коммерческий', ' ', 'недвижимость', '\\n'], ['покупка', ' ', 'жилье', ' ', 'для', ' ', 'сдача', '\\n'], ['сыграть', ' ', 'свадьба', '\\n'], ['жилье', '\\n'], ['сыграть', ' ', 'свадьба', '\\n'], ['на', ' ', 'покупка', ' ', 'автомобиль', '\\n'], ['свадьба', '\\n'], ['покупка', ' ', 'жилье', '\\n'], ['сделка', ' ', 'с', ' ', 'автомобиль', '\\n'], ['операция', ' ', 'с', ' ', 'жилье', '\\n'], ['сыграть', ' ', 'свадьба', '\\n'], ['заниматься', ' ', 'образование', '\\n'], ['образование', '\\n'], ['свой', ' ', 'автомобиль', '\\n'], ['покупка', ' ', 'недвижимость', '\\n'], ['заниматься', ' ', 'образование', '\\n'], ['строительство', ' ', 'собственный', ' ', 'недвижимость', '\\n'], ['на', ' ', 'покупка', ' ', 'автомобиль', '\\n'], ['высокий', ' ', 'образование', '\\n'], ['операция', ' ', 'с', ' ', 'недвижимость', '\\n'], ['операция', ' ', 'с', ' ', 'коммерческий', ' ', 'недвижимость', '\\n'], ['заниматься', ' ', 'высокий', ' ', 'образование', '\\n'], ['сделка', ' ', 'с', ' ', 'подержанный', ' ', 'автомобиль', '\\n'], ['операция', ' ', 'со', ' ', 'свой', ' ', 'недвижимость', '\\n'], ['заниматься', ' ', 'образование', '\\n'], ['профильный', ' ', 'образование', '\\n'], ['ремонт', ' ', 'жилье', '\\n'], ['сделка', ' ', 'с', ' ', 'подержанный', ' ', 'автомобиль', '\\n'], ['дополнительный', ' ', 'образование', '\\n'], ['покупка', ' ', 'жилой', ' ', 'недвижимость', '\\n'], ['автомобиль', '\\n'], ['операция', ' ', 'с', ' ', 'жилье', '\\n'], ['операция', ' ', 'с', ' ', 'жилье', '\\n'], ['автомобиль', '\\n'], ['заниматься', ' ', 'высокий', ' ', 'образование', '\\n'], ['на', ' ', 'покупка', ' ', 'подержать', ' ', 'автомобиль', '\\n'], ['приобретение', ' ', 'автомобиль', '\\n'], ['сделка', ' ', 'с', ' ', 'автомобиль', '\\n'], ['покупка', ' ', 'коммерческий', ' ', 'недвижимость', '\\n'], ['жилье', '\\n'], ['профильный', ' ', 'образование', '\\n'], ['автомобиль', '\\n'], ['жилье', '\\n'], ['сыграть', ' ', 'свадьба', '\\n'], ['сделка', ' ', 'с', ' ', 'автомобиль', '\\n'], ['свадьба', '\\n'], ['профильный', ' ', 'образование', '\\n'], ['покупка', ' ', 'коммерческий', ' ', 'недвижимость', '\\n'], ['автомобиль', '\\n'], ['получение', ' ', 'образование', '\\n'], ['профильный', ' ', 'образование', '\\n'], ['свадьба', '\\n'], ['покупка', ' ', 'жилье', ' ', 'для', ' ', 'сдача', '\\n'], ['операция', ' ', 'с', ' ', 'недвижимость', '\\n'], ['ремонт', ' ', 'жилье', '\\n'], ['операция', ' ', 'с', ' ', 'жилье', '\\n'], ['операция', ' ', 'с', ' ', 'недвижимость', '\\n'], ['на', ' ', 'покупка', ' ', 'свой', ' ', 'автомобиль', '\\n'], ['получение', ' ', 'дополнительный', ' ', 'образование', '\\n'], ['покупка', ' ', 'жилье', ' ', 'для', ' ', 'сдача', '\\n'], ['дополнительный', ' ', 'образование', '\\n'], ['получение', ' ', 'дополнительный', ' ', 'образование', '\\n'], ['строительство', ' ', 'жилой', ' ', 'недвижимость', '\\n'], ['на', ' ', 'проведение', ' ', 'свадьба', '\\n'], ['операция', ' ', 'с', ' ', 'жилье', '\\n'], ['покупка', ' ', 'недвижимость', '\\n'], ['покупка', ' ', 'жилье', ' ', 'для', ' ', 'семья', '\\n'], ['сыграть', ' ', 'свадьба', '\\n'], ['покупка', ' ', 'свой', ' ', 'жилье', '\\n'], ['на', ' ', 'покупка', ' ', 'автомобиль', '\\n'], ['операция', ' ', 'с', ' ', 'недвижимость', '\\n'], ['строительство', ' ', 'жилой', ' ', 'недвижимость', '\\n'], ['ремонт', ' ', 'жилье', '\\n'], ['свадьба', '\\n'], ['высокий', ' ', 'образование', '\\n'], ['покупка', ' ', 'коммерческий', ' ', 'недвижимость', '\\n'], ['получение', ' ', 'образование', '\\n'], ['жилье', '\\n'], ['свадьба', '\\n'], ['операция', ' ', 'с', ' ', 'коммерческий', ' ', 'недвижимость', '\\n'], ['свадьба', '\\n'], ['дополнительный', ' ', 'образование', '\\n'], ['покупка', ' ', 'жилье', ' ', 'для', ' ', 'сдача', '\\n'], ['свадьба', '\\n'], ['строительство', ' ', 'собственный', ' ', 'недвижимость', '\\n'], ['покупка', ' ', 'коммерческий', ' ', 'недвижимость', '\\n'], ['получение', ' ', 'дополнительный', ' ', 'образование', '\\n'], ['строительство', ' ', 'недвижимость', '\\n'], ['заниматься', ' ', 'образование', '\\n'], ['покупка', ' ', 'жилой', ' ', 'недвижимость', '\\n'], ['сыграть', ' ', 'свадьба', '\\n'], ['на', ' ', 'проведение', ' ', 'свадьба', '\\n'], ['получение', ' ', 'образование', '\\n'], ['покупка', ' ', 'недвижимость', '\\n'], ['свадьба', '\\n'], ['ремонт', ' ', 'жилье', '\\n'], ['покупка', ' ', 'жилье', '\\n'], ['операция', ' ', 'с', ' ', 'коммерческий', ' ', 'недвижимость', '\\n'], ['операция', ' ', 'с', ' ', 'коммерческий', ' ', 'недвижимость', '\\n'], ['покупка', ' ', 'свой', ' ', 'жилье', '\\n'], ['операция', ' ', 'с', ' ', 'жилье', '\\n'], ['заниматься', ' ', 'образование', '\\n'], ['автомобиль', '\\n'], ['покупка', ' ', 'коммерческий', ' ', 'недвижимость', '\\n'], ['образование', '\\n'], ['на', ' ', 'покупка', ' ', 'подержать', ' ', 'автомобиль', '\\n'], ['покупка', ' ', 'жилье', ' ', 'для', ' ', 'семья', '\\n'], ['покупка', ' ', 'свой', ' ', 'жилье', '\\n'], ['на', ' ', 'покупка', ' ', 'подержать', ' ', 'автомобиль', '\\n'], ['автомобиль', '\\n'], ['покупка', ' ', 'недвижимость', '\\n'], ['жилье', '\\n'], ['операция', ' ', 'с', ' ', 'коммерческий', ' ', 'недвижимость', '\\n'], ['дополнительный', ' ', 'образование', '\\n'], ['получение', ' ', 'высокий', ' ', 'образование', '\\n'], ['на', ' ', 'покупка', ' ', 'подержать', ' ', 'автомобиль', '\\n'], ['строительство', ' ', 'собственный', ' ', 'недвижимость', '\\n'], ['строительство', ' ', 'жилой', ' ', 'недвижимость', '\\n'], ['заниматься', ' ', 'высокий', ' ', 'образование', '\\n'], ['покупка', ' ', 'жилье', '\\n'], ['покупка', ' ', 'жилье', ' ', 'для', ' ', 'семья', '\\n'], ['покупка', ' ', 'недвижимость', '\\n'], ['операция', ' ', 'с', ' ', 'коммерческий', ' ', 'недвижимость', '\\n'], ['операция', ' ', 'с', ' ', 'коммерческий', ' ', 'недвижимость', '\\n'], ['получение', ' ', 'образование', '\\n'], ['приобретение', ' ', 'автомобиль', '\\n'], ['строительство', ' ', 'собственный', ' ', 'недвижимость', '\\n'], ['на', ' ', 'покупка', ' ', 'автомобиль', '\\n'], ['приобретение', ' ', 'автомобиль', '\\n'], ['покупка', ' ', 'жилье', '\\n'], ['получение', ' ', 'высокий', ' ', 'образование', '\\n'], ['на', ' ', 'покупка', ' ', 'автомобиль', '\\n'], ['строительство', ' ', 'недвижимость', '\\n'], ['строительство', ' ', 'недвижимость', '\\n'], ['строительство', ' ', 'собственный', ' ', 'недвижимость', '\\n'], ['свадьба', '\\n'], ['сделка', ' ', 'с', ' ', 'подержанный', ' ', 'автомобиль', '\\n'], ['покупка', ' ', 'жилье', ' ', 'для', ' ', 'семья', '\\n'], ['получение', ' ', 'образование', '\\n'], ['недвижимость', '\\n'], ['строительство', ' ', 'собственный', ' ', 'недвижимость', '\\n'], ['строительство', ' ', 'жилой', ' ', 'недвижимость', '\\n'], ['покупка', ' ', 'свой', ' ', 'жилье', '\\n'], ['покупка', ' ', 'недвижимость', '\\n'], ['покупка', ' ', 'жилой', ' ', 'недвижимость', '\\n'], ['на', ' ', 'проведение', ' ', 'свадьба', '\\n'], ['приобретение', ' ', 'автомобиль', '\\n'], ['на', ' ', 'проведение', ' ', 'свадьба', '\\n'], ['жилье', '\\n'], ['сыграть', ' ', 'свадьба', '\\n'], ['покупка', ' ', 'жилье', ' ', 'для', ' ', 'сдача', '\\n'], ['операция', ' ', 'с', ' ', 'недвижимость', '\\n'], ['покупка', ' ', 'жилой', ' ', 'недвижимость', '\\n'], ['сыграть', ' ', 'свадьба', '\\n'], ['на', ' ', 'покупка', ' ', 'свой', ' ', 'автомобиль', '\\n'], ['жилье', '\\n'], ['сделка', ' ', 'с', ' ', 'автомобиль', '\\n'], ['строительство', ' ', 'собственный', ' ', 'недвижимость', '\\n'], ['сделка', ' ', 'с', ' ', 'автомобиль', '\\n'], ['на', ' ', 'покупка', ' ', 'свой', ' ', 'автомобиль', '\\n'], ['строительство', ' ', 'собственный', ' ', 'недвижимость', '\\n'], ['свадьба', '\\n'], ['сделка', ' ', 'с', ' ', 'подержанный', ' ', 'автомобиль', '\\n'], ['получение', ' ', 'высокий', ' ', 'образование', '\\n'], ['на', ' ', 'проведение', ' ', 'свадьба', '\\n'], ['на', ' ', 'покупка', ' ', 'свой', ' ', 'автомобиль', '\\n'], ['получение', ' ', 'высокий', ' ', 'образование', '\\n'], ['свой', ' ', 'автомобиль', '\\n'], ['на', ' ', 'проведение', ' ', 'свадьба', '\\n'], ['покупка', ' ', 'свой', ' ', 'жилье', '\\n'], ['получение', ' ', 'высокий', ' ', 'образование', '\\n'], ['недвижимость', '\\n'], ['покупка', ' ', 'коммерческий', ' ', 'недвижимость', '\\n'], ['покупка', ' ', 'недвижимость', '\\n'], ['строительство', ' ', 'жилой', ' ', 'недвижимость', '\\n'], ['недвижимость', '\\n'], ['покупка', ' ', 'жилье', '\\n'], ['операция', ' ', 'с', ' ', 'недвижимость', '\\n'], ['сыграть', ' ', 'свадьба', '\\n'], ['сыграть', ' ', 'свадьба', '\\n'], ['автомобиль', '\\n'], ['строительство', ' ', 'недвижимость', '\\n'], ['операция', ' ', 'с', ' ', 'недвижимость', '\\n'], ['покупка', ' ', 'жилье', ' ', 'для', ' ', 'семья', '\\n'], ['сделка', ' ', 'с', ' ', 'подержанный', ' ', 'автомобиль', '\\n'], ['на', ' ', 'покупка', ' ', 'автомобиль', '\\n'], ['операция', ' ', 'с', ' ', 'коммерческий', ' ', 'недвижимость', '\\n'], ['высокий', ' ', 'образование', '\\n'], ['недвижимость', '\\n'], ['высокий', ' ', 'образование', '\\n'], ['покупка', ' ', 'свой', ' ', 'жилье', '\\n'], ['свадьба', '\\n'], ['получение', ' ', 'высокий', ' ', 'образование', '\\n'], ['профильный', ' ', 'образование', '\\n'], ['сыграть', ' ', 'свадьба', '\\n'], ['покупка', ' ', 'жилой', ' ', 'недвижимость', '\\n'], ['дополнительный', ' ', 'образование', '\\n'], ['на', ' ', 'покупка', ' ', 'свой', ' ', 'автомобиль', '\\n'], ['на', ' ', 'проведение', ' ', 'свадьба', '\\n'], ['недвижимость', '\\n'], ['на', ' ', 'покупка', ' ', 'подержать', ' ', 'автомобиль', '\\n'], ['автомобиль', '\\n'], ['высокий', ' ', 'образование', '\\n'], ['недвижимость', '\\n'], ['строительство', ' ', 'недвижимость', '\\n'], ['профильный', ' ', 'образование', '\\n'], ['на', ' ', 'покупка', ' ', 'автомобиль', '\\n'], ['покупка', ' ', 'жилье', ' ', 'для', ' ', 'семья', '\\n'], ['получение', ' ', 'высокий', ' ', 'образование', '\\n'], ['автомобиль', '\\n'], ['покупка', ' ', 'недвижимость', '\\n'], ['ремонт', ' ', 'жилье', '\\n'], ['образование', '\\n'], ['на', ' ', 'покупка', ' ', 'автомобиль', '\\n'], ['операция', ' ', 'с', ' ', 'коммерческий', ' ', 'недвижимость', '\\n'], ['образование', '\\n'], ['покупка', ' ', 'недвижимость', '\\n'], ['операция', ' ', 'с', ' ', 'жилье', '\\n'], ['недвижимость', '\\n'], ['на', ' ', 'проведение', ' ', 'свадьба', '\\n'], ['профильный', ' ', 'образование', '\\n'], ['получение', ' ', 'дополнительный', ' ', 'образование', '\\n'], ['получение', ' ', 'дополнительный', ' ', 'образование', '\\n'], ['покупка', ' ', 'жилье', '\\n'], ['свой', ' ', 'автомобиль', '\\n'], ['строительство', ' ', 'жилой', ' ', 'недвижимость', '\\n'], ['заниматься', ' ', 'высокий', ' ', 'образование', '\\n'], ['на', ' ', 'покупка', ' ', 'подержать', ' ', 'автомобиль', '\\n'], ['покупка', ' ', 'жилье', '\\n'], ['операция', ' ', 'с', ' ', 'недвижимость', '\\n'], ['дополнительный', ' ', 'образование', '\\n'], ['высокий', ' ', 'образование', '\\n'], ['покупка', ' ', 'жилье', ' ', 'для', ' ', 'сдача', '\\n'], ['покупка', ' ', 'свой', ' ', 'жилье', '\\n'], ['покупка', ' ', 'жилье', '\\n'], ['заниматься', ' ', 'высокий', ' ', 'образование', '\\n'], ['заниматься', ' ', 'высокий', ' ', 'образование', '\\n'], ['получение', ' ', 'дополнительный', ' ', 'образование', '\\n'], ['операция', ' ', 'с', ' ', 'коммерческий', ' ', 'недвижимость', '\\n'], ['строительство', ' ', 'недвижимость', '\\n'], ['покупка', ' ', 'жилье', '\\n'], ['операция', ' ', 'с', ' ', 'жилье', '\\n'], ['на', ' ', 'покупка', ' ', 'свой', ' ', 'автомобиль', '\\n'], ['покупка', ' ', 'свой', ' ', 'жилье', '\\n'], ['покупка', ' ', 'жилье', '\\n'], ['автомобиль', '\\n'], ['профильный', ' ', 'образование', '\\n'], ['операция', ' ', 'со', ' ', 'свой', ' ', 'недвижимость', '\\n'], ['покупка', ' ', 'свой', ' ', 'жилье', '\\n'], ['покупка', ' ', 'жилой', ' ', 'недвижимость', '\\n'], ['образование', '\\n'], ['получение', ' ', 'высокий', ' ', 'образование', '\\n'], ['сделка', ' ', 'с', ' ', 'автомобиль', '\\n'], ['операция', ' ', 'с', ' ', 'коммерческий', ' ', 'недвижимость', '\\n'], ['на', ' ', 'покупка', ' ', 'автомобиль', '\\n'], ['строительство', ' ', 'жилой', ' ', 'недвижимость', '\\n'], ['покупка', ' ', 'жилье', ' ', 'для', ' ', 'сдача', '\\n'], ['операция', ' ', 'с', ' ', 'недвижимость', '\\n'], ['получение', ' ', 'высокий', ' ', 'образование', '\\n'], ['покупка', ' ', 'жилье', '\\n'], ['получение', ' ', 'дополнительный', ' ', 'образование', '\\n'], ['покупка', ' ', 'жилье', ' ', 'для', ' ', 'семья', '\\n'], ['свадьба', '\\n'], ['свой', ' ', 'автомобиль', '\\n'], ['покупка', ' ', 'свой', ' ', 'жилье', '\\n'], ['автомобиль', '\\n'], ['операция', ' ', 'со', ' ', 'свой', ' ', 'недвижимость', '\\n'], ['операция', ' ', 'с', ' ', 'жилье', '\\n'], ['сделка', ' ', 'с', ' ', 'автомобиль', '\\n'], ['покупка', ' ', 'свой', ' ', 'жилье', '\\n'], ['дополнительный', ' ', 'образование', '\\n'], ['покупка', ' ', 'жилье', ' ', 'для', ' ', 'семья', '\\n'], ['ремонт', ' ', 'жилье', '\\n'], ['свадьба', '\\n'], ['профильный', ' ', 'образование', '\\n'], ['строительство', ' ', 'жилой', ' ', 'недвижимость', '\\n'], ['получение', ' ', 'высокий', ' ', 'образование', '\\n'], ['образование', '\\n'], ['покупка', ' ', 'коммерческий', ' ', 'недвижимость', '\\n'], ['автомобиль', '\\n'], ['получение', ' ', 'высокий', ' ', 'образование', '\\n'], ['сделка', ' ', 'с', ' ', 'подержанный', ' ', 'автомобиль', '\\n'], ['сыграть', ' ', 'свадьба', '\\n'], ['автомобиль', '\\n'], ['сделка', ' ', 'с', ' ', 'автомобиль', '\\n'], ['покупка', ' ', 'недвижимость', '\\n'], ['автомобиль', '\\n'], ['образование', '\\n'], ['операция', ' ', 'с', ' ', 'жилье', '\\n'], ['покупка', ' ', 'жилье', ' ', 'для', ' ', 'семья', '\\n'], ['приобретение', ' ', 'автомобиль', '\\n'], ['покупка', ' ', 'свой', ' ', 'жилье', '\\n'], ['приобретение', ' ', 'автомобиль', '\\n'], ['образование', '\\n'], ['образование', '\\n'], ['операция', ' ', 'с', ' ', 'жилье', '\\n'], ['образование', '\\n'], ['на', ' ', 'покупка', ' ', 'автомобиль', '\\n'], ['заниматься', ' ', 'высокий', ' ', 'образование', '\\n'], ['заниматься', ' ', 'образование', '\\n'], ['дополнительный', ' ', 'образование', '\\n'], ['покупка', ' ', 'жилой', ' ', 'недвижимость', '\\n'], ['строительство', ' ', 'недвижимость', '\\n'], ['ремонт', ' ', 'жилье', '\\n'], ['покупка', ' ', 'жилой', ' ', 'недвижимость', '\\n'], ['строительство', ' ', 'собственный', ' ', 'недвижимость', '\\n'], ['строительство', ' ', 'жилой', ' ', 'недвижимость', '\\n'], ['операция', ' ', 'с', ' ', 'недвижимость', '\\n'], ['на', ' ', 'покупка', ' ', 'свой', ' ', 'автомобиль', '\\n'], ['покупка', ' ', 'свой', ' ', 'жилье', '\\n'], ['автомобиль', '\\n'], ['свадьба', '\\n'], ['операция', ' ', 'с', ' ', 'коммерческий', ' ', 'недвижимость', '\\n'], ['на', ' ', 'покупка', ' ', 'свой', ' ', 'автомобиль', '\\n'], ['заниматься', ' ', 'высокий', ' ', 'образование', '\\n'], ['автомобиль', '\\n'], ['заниматься', ' ', 'образование', '\\n'], ['получение', ' ', 'дополнительный', ' ', 'образование', '\\n'], ['на', ' ', 'проведение', ' ', 'свадьба', '\\n'], ['автомобиль', '\\n'], ['покупка', ' ', 'коммерческий', ' ', 'недвижимость', '\\n'], ['заниматься', ' ', 'высокий', ' ', 'образование', '\\n'], ['покупка', ' ', 'недвижимость', '\\n'], ['операция', ' ', 'со', ' ', 'свой', ' ', 'недвижимость', '\\n'], ['автомобиль', '\\n'], ['покупка', ' ', 'жилье', '\\n'], ['покупка', ' ', 'коммерческий', ' ', 'недвижимость', '\\n'], ['автомобиль', '\\n'], ['сыграть', ' ', 'свадьба', '\\n'], ['сыграть', ' ', 'свадьба', '\\n'], ['образование', '\\n'], ['заниматься', ' ', 'высокий', ' ', 'образование', '\\n'], ['недвижимость', '\\n'], ['сыграть', ' ', 'свадьба', '\\n'], ['сделка', ' ', 'с', ' ', 'автомобиль', '\\n'], ['ремонт', ' ', 'жилье', '\\n'], ['на', ' ', 'проведение', ' ', 'свадьба', '\\n'], ['на', ' ', 'проведение', ' ', 'свадьба', '\\n'], ['операция', ' ', 'с', ' ', 'жилье', '\\n'], ['высокий', ' ', 'образование', '\\n'], ['жилье', '\\n'], ['операция', ' ', 'с', ' ', 'недвижимость', '\\n'], ['сыграть', ' ', 'свадьба', '\\n'], ['покупка', ' ', 'коммерческий', ' ', 'недвижимость', '\\n'], ['автомобиль', '\\n'], ['получение', ' ', 'высокий', ' ', 'образование', '\\n'], ['автомобиль', '\\n'], ['покупка', ' ', 'коммерческий', ' ', 'недвижимость', '\\n'], ['профильный', ' ', 'образование', '\\n'], ['свой', ' ', 'автомобиль', '\\n'], ['сыграть', ' ', 'свадьба', '\\n'], ['строительство', ' ', 'недвижимость', '\\n'], ['операция', ' ', 'с', ' ', 'коммерческий', ' ', 'недвижимость', '\\n'], ['покупка', ' ', 'свой', ' ', 'жилье', '\\n'], ['получение', ' ', 'высокий', ' ', 'образование', '\\n'], ['покупка', ' ', 'недвижимость', '\\n'], ['операция', ' ', 'с', ' ', 'коммерческий', ' ', 'недвижимость', '\\n'], ['операция', ' ', 'с', ' ', 'жилье', '\\n'], ['приобретение', ' ', 'автомобиль', '\\n'], ['сыграть', ' ', 'свадьба', '\\n'], ['покупка', ' ', 'свой', ' ', 'жилье', '\\n'], ['строительство', ' ', 'жилой', ' ', 'недвижимость', '\\n'], ['на', ' ', 'покупка', ' ', 'подержать', ' ', 'автомобиль', '\\n'], ['операция', ' ', 'с', ' ', 'коммерческий', ' ', 'недвижимость', '\\n'], ['недвижимость', '\\n'], ['жилье', '\\n'], ['профильный', ' ', 'образование', '\\n'], ['недвижимость', '\\n'], ['покупка', ' ', 'жилье', ' ', 'для', ' ', 'семья', '\\n'], ['свадьба', '\\n'], ['операция', ' ', 'с', ' ', 'жилье', '\\n'], ['покупка', ' ', 'жилье', '\\n'], ['недвижимость', '\\n'], ['операция', ' ', 'с', ' ', 'недвижимость', '\\n'], ['дополнительный', ' ', 'образование', '\\n'], ['образование', '\\n'], ['покупка', ' ', 'жилье', ' ', 'для', ' ', 'сдача', '\\n'], ['покупка', ' ', 'свой', ' ', 'жилье', '\\n'], ['операция', ' ', 'с', ' ', 'коммерческий', ' ', 'недвижимость', '\\n'], ['дополнительный', ' ', 'образование', '\\n'], ['на', ' ', 'покупка', ' ', 'подержать', ' ', 'автомобиль', '\\n'], ['жилье', '\\n'], ['покупка', ' ', 'жилой', ' ', 'недвижимость', '\\n'], ['получение', ' ', 'образование', '\\n'], ['заниматься', ' ', 'высокий', ' ', 'образование', '\\n'], ['высокий', ' ', 'образование', '\\n'], ['сделка', ' ', 'с', ' ', 'автомобиль', '\\n'], ['заниматься', ' ', 'высокий', ' ', 'образование', '\\n'], ['сыграть', ' ', 'свадьба', '\\n'], ['покупка', ' ', 'жилой', ' ', 'недвижимость', '\\n'], ['строительство', ' ', 'собственный', ' ', 'недвижимость', '\\n'], ['покупка', ' ', 'жилой', ' ', 'недвижимость', '\\n'], ['покупка', ' ', 'свой', ' ', 'жилье', '\\n'], ['операция', ' ', 'с', ' ', 'коммерческий', ' ', 'недвижимость', '\\n'], ['операция', ' ', 'со', ' ', 'свой', ' ', 'недвижимость', '\\n'], ['получение', ' ', 'дополнительный', ' ', 'образование', '\\n'], ['сделка', ' ', 'с', ' ', 'подержанный', ' ', 'автомобиль', '\\n'], ['автомобиль', '\\n'], ['покупка', ' ', 'жилье', '\\n'], ['получение', ' ', 'образование', '\\n'], ['строительство', ' ', 'недвижимость', '\\n'], ['покупка', ' ', 'недвижимость', '\\n'], ['покупка', ' ', 'жилье', '\\n'], ['получение', ' ', 'высокий', ' ', 'образование', '\\n'], ['операция', ' ', 'с', ' ', 'коммерческий', ' ', 'недвижимость', '\\n'], ['операция', ' ', 'с', ' ', 'недвижимость', '\\n'], ['заниматься', ' ', 'образование', '\\n'], ['операция', ' ', 'с', ' ', 'жилье', '\\n'], ['свадьба', '\\n'], ['на', ' ', 'покупка', ' ', 'автомобиль', '\\n'], ['получение', ' ', 'высокий', ' ', 'образование', '\\n'], ['свадьба', '\\n'], ['операция', ' ', 'с', ' ', 'коммерческий', ' ', 'недвижимость', '\\n'], ['операция', ' ', 'со', ' ', 'свой', ' ', 'недвижимость', '\\n'], ['покупка', ' ', 'недвижимость', '\\n'], ['жилье', '\\n'], ['покупка', ' ', 'недвижимость', '\\n'], ['на', ' ', 'покупка', ' ', 'подержать', ' ', 'автомобиль', '\\n'], ['заниматься', ' ', 'образование', '\\n'], ['покупка', ' ', 'жилье', '\\n'], ['на', ' ', 'покупка', ' ', 'автомобиль', '\\n'], ['жилье', '\\n'], ['сыграть', ' ', 'свадьба', '\\n'], ['автомобиль', '\\n'], ['сыграть', ' ', 'свадьба', '\\n'], ['операция', ' ', 'с', ' ', 'недвижимость', '\\n'], ['строительство', ' ', 'собственный', ' ', 'недвижимость', '\\n'], ['сыграть', ' ', 'свадьба', '\\n'], ['покупка', ' ', 'коммерческий', ' ', 'недвижимость', '\\n'], ['получение', ' ', 'образование', '\\n'], ['сыграть', ' ', 'свадьба', '\\n'], ['строительство', ' ', 'собственный', ' ', 'недвижимость', '\\n'], ['получение', ' ', 'дополнительный', ' ', 'образование', '\\n'], ['на', ' ', 'покупка', ' ', 'свой', ' ', 'автомобиль', '\\n'], ['профильный', ' ', 'образование', '\\n'], ['заниматься', ' ', 'образование', '\\n'], ['покупка', ' ', 'жилье', '\\n'], ['операция', ' ', 'с', ' ', 'недвижимость', '\\n'], ['свадьба', '\\n'], ['строительство', ' ', 'жилой', ' ', 'недвижимость', '\\n'], ['операция', ' ', 'с', ' ', 'коммерческий', ' ', 'недвижимость', '\\n'], ['операция', ' ', 'со', ' ', 'свой', ' ', 'недвижимость', '\\n'], ['приобретение', ' ', 'автомобиль', '\\n'], ['сделка', ' ', 'с', ' ', 'автомобиль', '\\n'], ['приобретение', ' ', 'автомобиль', '\\n'], ['ремонт', ' ', 'жилье', '\\n'], ['ремонт', ' ', 'жилье', '\\n'], ['на', ' ', 'проведение', ' ', 'свадьба', '\\n'], ['свадьба', '\\n'], ['сделка', ' ', 'с', ' ', 'автомобиль', '\\n'], ['автомобиль', '\\n'], ['на', ' ', 'покупка', ' ', 'подержать', ' ', 'автомобиль', '\\n'], ['покупка', ' ', 'свой', ' ', 'жилье', '\\n'], ['приобретение', ' ', 'автомобиль', '\\n'], ['заниматься', ' ', 'образование', '\\n'], ['покупка', ' ', 'жилье', '\\n'], ['образование', '\\n'], ['операция', ' ', 'с', ' ', 'недвижимость', '\\n'], ['покупка', ' ', 'жилье', '\\n'], ['строительство', ' ', 'недвижимость', '\\n'], ['покупка', ' ', 'жилье', ' ', 'для', ' ', 'семья', '\\n'], ['покупка', ' ', 'жилье', ' ', 'для', ' ', 'сдача', '\\n'], ['свой', ' ', 'автомобиль', '\\n'], ['получение', ' ', 'высокий', ' ', 'образование', '\\n'], ['на', ' ', 'покупка', ' ', 'свой', ' ', 'автомобиль', '\\n'], ['недвижимость', '\\n'], ['покупка', ' ', 'недвижимость', '\\n'], ['покупка', ' ', 'коммерческий', ' ', 'недвижимость', '\\n'], ['операция', ' ', 'с', ' ', 'жилье', '\\n'], ['свой', ' ', 'автомобиль', '\\n'], ['недвижимость', '\\n'], ['дополнительный', ' ', 'образование', '\\n'], ['получение', ' ', 'образование', '\\n'], ['покупка', ' ', 'жилье', ' ', 'для', ' ', 'сдача', '\\n'], ['автомобиль', '\\n'], ['строительство', ' ', 'собственный', ' ', 'недвижимость', '\\n'], ['жилье', '\\n'], ['покупка', ' ', 'свой', ' ', 'жилье', '\\n'], ['высокий', ' ', 'образование', '\\n'], ['образование', '\\n'], ['операция', ' ', 'с', ' ', 'коммерческий', ' ', 'недвижимость', '\\n'], ['покупка', ' ', 'жилье', ' ', 'для', ' ', 'семья', '\\n'], ['дополнительный', ' ', 'образование', '\\n'], ['покупка', ' ', 'жилье', ' ', 'для', ' ', 'сдача', '\\n'], ['жилье', '\\n'], ['на', ' ', 'проведение', ' ', 'свадьба', '\\n'], ['на', ' ', 'проведение', ' ', 'свадьба', '\\n'], ['недвижимость', '\\n'], ['операция', ' ', 'с', ' ', 'недвижимость', '\\n'], ['получение', ' ', 'высокий', ' ', 'образование', '\\n'], ['сделка', ' ', 'с', ' ', 'подержанный', ' ', 'автомобиль', '\\n'], ['операция', ' ', 'с', ' ', 'коммерческий', ' ', 'недвижимость', '\\n'], ['дополнительный', ' ', 'образование', '\\n'], ['операция', ' ', 'со', ' ', 'свой', ' ', 'недвижимость', '\\n'], ['получение', ' ', 'дополнительный', ' ', 'образование', '\\n'], ['строительство', ' ', 'жилой', ' ', 'недвижимость', '\\n'], ['свадьба', '\\n'], ['заниматься', ' ', 'образование', '\\n'], ['недвижимость', '\\n'], ['на', ' ', 'покупка', ' ', 'свой', ' ', 'автомобиль', '\\n'], ['покупка', ' ', 'жилье', '\\n'], ['покупка', ' ', 'жилье', ' ', 'для', ' ', 'сдача', '\\n'], ['образование', '\\n'], ['недвижимость', '\\n'], ['строительство', ' ', 'недвижимость', '\\n'], ['заниматься', ' ', 'образование', '\\n'], ['ремонт', ' ', 'жилье', '\\n'], ['покупка', ' ', 'жилье', '\\n'], ['сделка', ' ', 'с', ' ', 'автомобиль', '\\n'], ['приобретение', ' ', 'автомобиль', '\\n'], ['операция', ' ', 'с', ' ', 'жилье', '\\n'], ['строительство', ' ', 'недвижимость', '\\n'], ['операция', ' ', 'со', ' ', 'свой', ' ', 'недвижимость', '\\n'], ['покупка', ' ', 'недвижимость', '\\n'], ['операция', ' ', 'с', ' ', 'недвижимость', '\\n'], ['на', ' ', 'покупка', ' ', 'свой', ' ', 'автомобиль', '\\n'], ['высокий', ' ', 'образование', '\\n'], ['операция', ' ', 'с', ' ', 'коммерческий', ' ', 'недвижимость', '\\n'], ['строительство', ' ', 'собственный', ' ', 'недвижимость', '\\n'], ['покупка', ' ', 'жилье', ' ', 'для', ' ', 'сдача', '\\n'], ['недвижимость', '\\n'], ['на', ' ', 'покупка', ' ', 'свой', ' ', 'автомобиль', '\\n'], ['свадьба', '\\n'], ['сыграть', ' ', 'свадьба', '\\n'], ['строительство', ' ', 'недвижимость', '\\n'], ['сделка', ' ', 'с', ' ', 'автомобиль', '\\n'], ['ремонт', ' ', 'жилье', '\\n'], ['дополнительный', ' ', 'образование', '\\n'], ['операция', ' ', 'с', ' ', 'недвижимость', '\\n'], ['высокий', ' ', 'образование', '\\n'], ['ремонт', ' ', 'жилье', '\\n'], ['приобретение', ' ', 'автомобиль', '\\n'], ['на', ' ', 'проведение', ' ', 'свадьба', '\\n'], ['высокий', ' ', 'образование', '\\n'], ['операция', ' ', 'со', ' ', 'свой', ' ', 'недвижимость', '\\n'], ['сыграть', ' ', 'свадьба', '\\n'], ['покупка', ' ', 'коммерческий', ' ', 'недвижимость', '\\n'], ['заниматься', ' ', 'образование', '\\n'], ['автомобиль', '\\n'], ['покупка', ' ', 'коммерческий', ' ', 'недвижимость', '\\n'], ['дополнительный', ' ', 'образование', '\\n'], ['автомобиль', '\\n'], ['заниматься', ' ', 'высокий', ' ', 'образование', '\\n'], ['образование', '\\n'], ['строительство', ' ', 'недвижимость', '\\n'], ['на', ' ', 'проведение', ' ', 'свадьба', '\\n'], ['покупка', ' ', 'недвижимость', '\\n'], ['операция', ' ', 'с', ' ', 'жилье', '\\n'], ['покупка', ' ', 'свой', ' ', 'жилье', '\\n'], ['сделка', ' ', 'с', ' ', 'автомобиль', '\\n'], ['покупка', ' ', 'жилой', ' ', 'недвижимость', '\\n'], ['недвижимость', '\\n'], ['ремонт', ' ', 'жилье', '\\n'], ['свой', ' ', 'автомобиль', '\\n'], ['операция', ' ', 'со', ' ', 'свой', ' ', 'недвижимость', '\\n'], ['жилье', '\\n'], ['недвижимость', '\\n'], ['автомобиль', '\\n'], ['заниматься', ' ', 'образование', '\\n'], ['автомобиль', '\\n'], ['получение', ' ', 'дополнительный', ' ', 'образование', '\\n'], ['покупка', ' ', 'жилой', ' ', 'недвижимость', '\\n'], ['получение', ' ', 'дополнительный', ' ', 'образование', '\\n'], ['на', ' ', 'покупка', ' ', 'свой', ' ', 'автомобиль', '\\n'], ['операция', ' ', 'с', ' ', 'недвижимость', '\\n'], ['сыграть', ' ', 'свадьба', '\\n'], ['покупка', ' ', 'недвижимость', '\\n'], ['покупка', ' ', 'коммерческий', ' ', 'недвижимость', '\\n'], ['на', ' ', 'покупка', ' ', 'свой', ' ', 'автомобиль', '\\n'], ['строительство', ' ', 'собственный', ' ', 'недвижимость', '\\n'], ['покупка', ' ', 'недвижимость', '\\n'], ['строительство', ' ', 'жилой', ' ', 'недвижимость', '\\n'], ['покупка', ' ', 'жилой', ' ', 'недвижимость', '\\n'], ['покупка', ' ', 'жилой', ' ', 'недвижимость', '\\n'], ['сыграть', ' ', 'свадьба', '\\n'], ['автомобиль', '\\n'], ['на', ' ', 'покупка', ' ', 'подержать', ' ', 'автомобиль', '\\n'], ['покупка', ' ', 'жилье', '\\n'], ['операция', ' ', 'с', ' ', 'коммерческий', ' ', 'недвижимость', '\\n'], ['операция', ' ', 'со', ' ', 'свой', ' ', 'недвижимость', '\\n'], ['на', ' ', 'покупка', ' ', 'автомобиль', '\\n'], ['покупка', ' ', 'коммерческий', ' ', 'недвижимость', '\\n'], ['покупка', ' ', 'жилье', ' ', 'для', ' ', 'сдача', '\\n'], ['покупка', ' ', 'жилье', ' ', 'для', ' ', 'сдача', '\\n'], ['образование', '\\n'], ['покупка', ' ', 'коммерческий', ' ', 'недвижимость', '\\n'], ['свадьба', '\\n'], ['операция', ' ', 'со', ' ', 'свой', ' ', 'недвижимость', '\\n'], ['операция', ' ', 'со', ' ', 'свой', ' ', 'недвижимость', '\\n'], ['профильный', ' ', 'образование', '\\n'], ['сыграть', ' ', 'свадьба', '\\n'], ['получение', ' ', 'образование', '\\n'], ['образование', '\\n'], ['покупка', ' ', 'жилье', '\\n'], ['автомобиль', '\\n'], ['автомобиль', '\\n'], ['покупка', ' ', 'свой', ' ', 'жилье', '\\n'], ['покупка', ' ', 'коммерческий', ' ', 'недвижимость', '\\n'], ['покупка', ' ', 'коммерческий', ' ', 'недвижимость', '\\n'], ['покупка', ' ', 'свой', ' ', 'жилье', '\\n'], ['на', ' ', 'покупка', ' ', 'автомобиль', '\\n'], ['получение', ' ', 'образование', '\\n'], ['операция', ' ', 'с', ' ', 'жилье', '\\n'], ['профильный', ' ', 'образование', '\\n'], ['покупка', ' ', 'недвижимость', '\\n'], ['покупка', ' ', 'жилье', ' ', 'для', ' ', 'семья', '\\n'], ['автомобиль', '\\n'], ['заниматься', ' ', 'высокий', ' ', 'образование', '\\n'], ['заниматься', ' ', 'образование', '\\n'], ['операция', ' ', 'с', ' ', 'коммерческий', ' ', 'недвижимость', '\\n'], ['операция', ' ', 'со', ' ', 'свой', ' ', 'недвижимость', '\\n'], ['операция', ' ', 'с', ' ', 'недвижимость', '\\n'], ['на', ' ', 'покупка', ' ', 'свой', ' ', 'автомобиль', '\\n'], ['операция', ' ', 'с', ' ', 'недвижимость', '\\n'], ['недвижимость', '\\n'], ['строительство', ' ', 'недвижимость', '\\n'], ['ремонт', ' ', 'жилье', '\\n'], ['на', ' ', 'покупка', ' ', 'подержать', ' ', 'автомобиль', '\\n'], ['на', ' ', 'покупка', ' ', 'автомобиль', '\\n'], ['приобретение', ' ', 'автомобиль', '\\n'], ['покупка', ' ', 'жилой', ' ', 'недвижимость', '\\n'], ['строительство', ' ', 'жилой', ' ', 'недвижимость', '\\n'], ['на', ' ', 'проведение', ' ', 'свадьба', '\\n'], ['покупка', ' ', 'жилой', ' ', 'недвижимость', '\\n'], ['получение', ' ', 'дополнительный', ' ', 'образование', '\\n'], ['строительство', ' ', 'собственный', ' ', 'недвижимость', '\\n'], ['покупка', ' ', 'жилье', ' ', 'для', ' ', 'семья', '\\n'], ['заниматься', ' ', 'образование', '\\n'], ['сделка', ' ', 'с', ' ', 'автомобиль', '\\n'], ['жилье', '\\n'], ['получение', ' ', 'высокий', ' ', 'образование', '\\n'], ['покупка', ' ', 'недвижимость', '\\n'], ['операция', ' ', 'с', ' ', 'недвижимость', '\\n'], ['заниматься', ' ', 'высокий', ' ', 'образование', '\\n'], ['на', ' ', 'проведение', ' ', 'свадьба', '\\n'], ['покупка', ' ', 'свой', ' ', 'жилье', '\\n'], ['покупка', ' ', 'недвижимость', '\\n'], ['строительство', ' ', 'недвижимость', '\\n'], ['покупка', ' ', 'жилье', '\\n'], ['получение', ' ', 'образование', '\\n'], ['свой', ' ', 'автомобиль', '\\n'], ['сделка', ' ', 'с', ' ', 'подержанный', ' ', 'автомобиль', '\\n'], ['строительство', ' ', 'собственный', ' ', 'недвижимость', '\\n'], ['профильный', ' ', 'образование', '\\n'], ['получение', ' ', 'высокий', ' ', 'образование', '\\n'], ['сыграть', ' ', 'свадьба', '\\n'], ['операция', ' ', 'со', ' ', 'свой', ' ', 'недвижимость', '\\n'], ['операция', ' ', 'с', ' ', 'жилье', '\\n'], ['получение', ' ', 'дополнительный', ' ', 'образование', '\\n'], ['покупка', ' ', 'жилье', ' ', 'для', ' ', 'семья', '\\n'], ['сделка', ' ', 'с', ' ', 'подержанный', ' ', 'автомобиль', '\\n'], ['профильный', ' ', 'образование', '\\n'], ['свой', ' ', 'автомобиль', '\\n'], ['свадьба', '\\n'], ['автомобиль', '\\n'], ['сделка', ' ', 'с', ' ', 'подержанный', ' ', 'автомобиль', '\\n'], ['на', ' ', 'проведение', ' ', 'свадьба', '\\n'], ['операция', ' ', 'со', ' ', 'свой', ' ', 'недвижимость', '\\n'], ['покупка', ' ', 'жилой', ' ', 'недвижимость', '\\n'], ['получение', ' ', 'образование', '\\n'], ['автомобиль', '\\n'], ['свадьба', '\\n'], ['на', ' ', 'проведение', ' ', 'свадьба', '\\n'], ['строительство', ' ', 'недвижимость', '\\n'], ['покупка', ' ', 'жилой', ' ', 'недвижимость', '\\n'], ['покупка', ' ', 'недвижимость', '\\n'], ['недвижимость', '\\n'], ['автомобиль', '\\n'], ['покупка', ' ', 'жилье', ' ', 'для', ' ', 'сдача', '\\n'], ['покупка', ' ', 'жилье', '\\n'], ['свадьба', '\\n'], ['сделка', ' ', 'с', ' ', 'автомобиль', '\\n'], ['жилье', '\\n'], ['покупка', ' ', 'коммерческий', ' ', 'недвижимость', '\\n'], ['покупка', ' ', 'коммерческий', ' ', 'недвижимость', '\\n'], ['сделка', ' ', 'с', ' ', 'автомобиль', '\\n'], ['жилье', '\\n'], ['покупка', ' ', 'недвижимость', '\\n'], ['заниматься', ' ', 'высокий', ' ', 'образование', '\\n'], ['образование', '\\n'], ['покупка', ' ', 'жилье', ' ', 'для', ' ', 'сдача', '\\n'], ['строительство', ' ', 'собственный', ' ', 'недвижимость', '\\n'], ['образование', '\\n'], ['свой', ' ', 'автомобиль', '\\n'], ['строительство', ' ', 'собственный', ' ', 'недвижимость', '\\n'], ['сделка', ' ', 'с', ' ', 'автомобиль', '\\n'], ['на', ' ', 'проведение', ' ', 'свадьба', '\\n'], ['получение', ' ', 'образование', '\\n'], ['дополнительный', ' ', 'образование', '\\n'], ['жилье', '\\n'], ['покупка', ' ', 'жилой', ' ', 'недвижимость', '\\n'], ['покупка', ' ', 'недвижимость', '\\n'], ['операция', ' ', 'со', ' ', 'свой', ' ', 'недвижимость', '\\n'], ['высокий', ' ', 'образование', '\\n'], ['операция', ' ', 'с', ' ', 'недвижимость', '\\n'], ['заниматься', ' ', 'высокий', ' ', 'образование', '\\n'], ['сыграть', ' ', 'свадьба', '\\n'], ['покупка', ' ', 'жилье', '\\n'], ['покупка', ' ', 'недвижимость', '\\n'], ['получение', ' ', 'высокий', ' ', 'образование', '\\n'], ['покупка', ' ', 'жилье', ' ', 'для', ' ', 'семья', '\\n'], ['автомобиль', '\\n'], ['получение', ' ', 'дополнительный', ' ', 'образование', '\\n'], ['недвижимость', '\\n'], ['строительство', ' ', 'недвижимость', '\\n'], ['операция', ' ', 'с', ' ', 'недвижимость', '\\n'], ['строительство', ' ', 'недвижимость', '\\n'], ['покупка', ' ', 'жилье', ' ', 'для', ' ', 'семья', '\\n'], ['операция', ' ', 'с', ' ', 'недвижимость', '\\n'], ['жилье', '\\n'], ['получение', ' ', 'высокий', ' ', 'образование', '\\n'], ['сделка', ' ', 'с', ' ', 'автомобиль', '\\n'], ['строительство', ' ', 'недвижимость', '\\n'], ['строительство', ' ', 'собственный', ' ', 'недвижимость', '\\n'], ['свадьба', '\\n'], ['свой', ' ', 'автомобиль', '\\n'], ['покупка', ' ', 'коммерческий', ' ', 'недвижимость', '\\n'], ['покупка', ' ', 'свой', ' ', 'жилье', '\\n'], ['операция', ' ', 'с', ' ', 'коммерческий', ' ', 'недвижимость', '\\n'], ['на', ' ', 'покупка', ' ', 'свой', ' ', 'автомобиль', '\\n'], ['автомобиль', '\\n'], ['на', ' ', 'проведение', ' ', 'свадьба', '\\n'], ['получение', ' ', 'дополнительный', ' ', 'образование', '\\n'], ['автомобиль', '\\n'], ['дополнительный', ' ', 'образование', '\\n'], ['покупка', ' ', 'жилье', ' ', 'для', ' ', 'сдача', '\\n'], ['строительство', ' ', 'недвижимость', '\\n'], ['операция', ' ', 'с', ' ', 'жилье', '\\n'], ['на', ' ', 'покупка', ' ', 'автомобиль', '\\n'], ['строительство', ' ', 'недвижимость', '\\n'], ['свадьба', '\\n'], ['на', ' ', 'покупка', ' ', 'свой', ' ', 'автомобиль', '\\n'], ['покупка', ' ', 'свой', ' ', 'жилье', '\\n'], ['ремонт', ' ', 'жилье', '\\n'], ['заниматься', ' ', 'высокий', ' ', 'образование', '\\n'], ['покупка', ' ', 'коммерческий', ' ', 'недвижимость', '\\n'], ['на', ' ', 'проведение', ' ', 'свадьба', '\\n'], ['на', ' ', 'покупка', ' ', 'подержать', ' ', 'автомобиль', '\\n'], ['сделка', ' ', 'с', ' ', 'автомобиль', '\\n'], ['свой', ' ', 'автомобиль', '\\n'], ['покупка', ' ', 'коммерческий', ' ', 'недвижимость', '\\n'], ['строительство', ' ', 'жилой', ' ', 'недвижимость', '\\n'], ['получение', ' ', 'образование', '\\n'], ['недвижимость', '\\n'], ['ремонт', ' ', 'жилье', '\\n'], ['профильный', ' ', 'образование', '\\n'], ['жилье', '\\n'], ['покупка', ' ', 'недвижимость', '\\n'], ['покупка', ' ', 'недвижимость', '\\n'], ['строительство', ' ', 'недвижимость', '\\n'], ['операция', ' ', 'с', ' ', 'коммерческий', ' ', 'недвижимость', '\\n'], ['заниматься', ' ', 'образование', '\\n'], ['покупка', ' ', 'жилье', ' ', 'для', ' ', 'сдача', '\\n'], ['операция', ' ', 'с', ' ', 'жилье', '\\n'], ['заниматься', ' ', 'высокий', ' ', 'образование', '\\n'], ['автомобиль', '\\n'], ['на', ' ', 'проведение', ' ', 'свадьба', '\\n'], ['покупка', ' ', 'свой', ' ', 'жилье', '\\n'], ['покупка', ' ', 'жилье', ' ', 'для', ' ', 'сдача', '\\n'], ['профильный', ' ', 'образование', '\\n'], ['покупка', ' ', 'жилье', '\\n'], ['покупка', ' ', 'коммерческий', ' ', 'недвижимость', '\\n'], ['операция', ' ', 'со', ' ', 'свой', ' ', 'недвижимость', '\\n'], ['покупка', ' ', 'жилой', ' ', 'недвижимость', '\\n'], ['свадьба', '\\n'], ['жилье', '\\n'], ['покупка', ' ', 'свой', ' ', 'жилье', '\\n'], ['покупка', ' ', 'коммерческий', ' ', 'недвижимость', '\\n'], ['операция', ' ', 'с', ' ', 'жилье', '\\n'], ['операция', ' ', 'с', ' ', 'коммерческий', ' ', 'недвижимость', '\\n'], ['на', ' ', 'покупка', ' ', 'подержать', ' ', 'автомобиль', '\\n'], ['операция', ' ', 'со', ' ', 'свой', ' ', 'недвижимость', '\\n'], ['строительство', ' ', 'собственный', ' ', 'недвижимость', '\\n'], ['строительство', ' ', 'собственный', ' ', 'недвижимость', '\\n'], ['покупка', ' ', 'жилье', '\\n'], ['сыграть', ' ', 'свадьба', '\\n'], ['покупка', ' ', 'свой', ' ', 'жилье', '\\n'], ['жилье', '\\n'], ['образование', '\\n'], ['заниматься', ' ', 'образование', '\\n'], ['операция', ' ', 'с', ' ', 'жилье', '\\n'], ['дополнительный', ' ', 'образование', '\\n'], ['на', ' ', 'покупка', ' ', 'автомобиль', '\\n'], ['покупка', ' ', 'жилой', ' ', 'недвижимость', '\\n'], ['высокий', ' ', 'образование', '\\n'], ['ремонт', ' ', 'жилье', '\\n'], ['образование', '\\n'], ['операция', ' ', 'с', ' ', 'недвижимость', '\\n'], ['строительство', ' ', 'собственный', ' ', 'недвижимость', '\\n'], ['покупка', ' ', 'коммерческий', ' ', 'недвижимость', '\\n'], ['сыграть', ' ', 'свадьба', '\\n'], ['покупка', ' ', 'жилье', ' ', 'для', ' ', 'сдача', '\\n'], ['на', ' ', 'покупка', ' ', 'свой', ' ', 'автомобиль', '\\n'], ['автомобиль', '\\n'], ['на', ' ', 'покупка', ' ', 'автомобиль', '\\n'], ['свой', ' ', 'автомобиль', '\\n'], ['покупка', ' ', 'недвижимость', '\\n'], ['на', ' ', 'покупка', ' ', 'подержать', ' ', 'автомобиль', '\\n'], ['получение', ' ', 'высокий', ' ', 'образование', '\\n'], ['жилье', '\\n'], ['получение', ' ', 'высокий', ' ', 'образование', '\\n'], ['покупка', ' ', 'недвижимость', '\\n'], ['покупка', ' ', 'свой', ' ', 'жилье', '\\n'], ['строительство', ' ', 'недвижимость', '\\n'], ['покупка', ' ', 'свой', ' ', 'жилье', '\\n'], ['недвижимость', '\\n'], ['заниматься', ' ', 'образование', '\\n'], ['свой', ' ', 'автомобиль', '\\n'], ['покупка', ' ', 'коммерческий', ' ', 'недвижимость', '\\n'], ['покупка', ' ', 'жилье', ' ', 'для', ' ', 'сдача', '\\n'], ['на', ' ', 'проведение', ' ', 'свадьба', '\\n'], ['покупка', ' ', 'свой', ' ', 'жилье', '\\n'], ['дополнительный', ' ', 'образование', '\\n'], ['на', ' ', 'покупка', ' ', 'автомобиль', '\\n'], ['получение', ' ', 'образование', '\\n'], ['образование', '\\n'], ['свадьба', '\\n'], ['операция', ' ', 'с', ' ', 'коммерческий', ' ', 'недвижимость', '\\n'], ['заниматься', ' ', 'образование', '\\n'], ['покупка', ' ', 'жилой', ' ', 'недвижимость', '\\n'], ['строительство', ' ', 'собственный', ' ', 'недвижимость', '\\n'], ['покупка', ' ', 'недвижимость', '\\n'], ['сыграть', ' ', 'свадьба', '\\n'], ['получение', ' ', 'образование', '\\n'], ['приобретение', ' ', 'автомобиль', '\\n'], ['ремонт', ' ', 'жилье', '\\n'], ['на', ' ', 'проведение', ' ', 'свадьба', '\\n'], ['дополнительный', ' ', 'образование', '\\n'], ['покупка', ' ', 'жилье', ' ', 'для', ' ', 'семья', '\\n'], ['сыграть', ' ', 'свадьба', '\\n'], ['получение', ' ', 'дополнительный', ' ', 'образование', '\\n'], ['ремонт', ' ', 'жилье', '\\n'], ['на', ' ', 'покупка', ' ', 'автомобиль', '\\n'], ['покупка', ' ', 'жилье', '\\n'], ['высокий', ' ', 'образование', '\\n'], ['свой', ' ', 'автомобиль', '\\n'], ['недвижимость', '\\n'], ['автомобиль', '\\n'], ['покупка', ' ', 'свой', ' ', 'жилье', '\\n'], ['покупка', ' ', 'недвижимость', '\\n'], ['высокий', ' ', 'образование', '\\n'], ['автомобиль', '\\n'], ['покупка', ' ', 'жилье', ' ', 'для', ' ', 'семья', '\\n'], ['автомобиль', '\\n'], ['дополнительный', ' ', 'образование', '\\n'], ['недвижимость', '\\n'], ['на', ' ', 'покупка', ' ', 'подержать', ' ', 'автомобиль', '\\n'], ['сделка', ' ', 'с', ' ', 'подержанный', ' ', 'автомобиль', '\\n'], ['покупка', ' ', 'жилье', ' ', 'для', ' ', 'сдача', '\\n'], ['дополнительный', ' ', 'образование', '\\n'], ['покупка', ' ', 'коммерческий', ' ', 'недвижимость', '\\n'], ['дополнительный', ' ', 'образование', '\\n'], ['заниматься', ' ', 'высокий', ' ', 'образование', '\\n'], ['покупка', ' ', 'коммерческий', ' ', 'недвижимость', '\\n'], ['получение', ' ', 'высокий', ' ', 'образование', '\\n'], ['сыграть', ' ', 'свадьба', '\\n'], ['покупка', ' ', 'жилье', ' ', 'для', ' ', 'сдача', '\\n'], ['покупка', ' ', 'жилье', ' ', 'для', ' ', 'сдача', '\\n'], ['операция', ' ', 'с', ' ', 'недвижимость', '\\n'], ['недвижимость', '\\n'], ['дополнительный', ' ', 'образование', '\\n'], ['операция', ' ', 'с', ' ', 'коммерческий', ' ', 'недвижимость', '\\n'], ['недвижимость', '\\n'], ['жилье', '\\n'], ['получение', ' ', 'образование', '\\n'], ['дополнительный', ' ', 'образование', '\\n'], ['свадьба', '\\n'], ['высокий', ' ', 'образование', '\\n'], ['покупка', ' ', 'свой', ' ', 'жилье', '\\n'], ['сыграть', ' ', 'свадьба', '\\n'], ['свадьба', '\\n'], ['покупка', ' ', 'коммерческий', ' ', 'недвижимость', '\\n'], ['строительство', ' ', 'недвижимость', '\\n'], ['строительство', ' ', 'собственный', ' ', 'недвижимость', '\\n'], ['покупка', ' ', 'жилой', ' ', 'недвижимость', '\\n'], ['покупка', ' ', 'жилой', ' ', 'недвижимость', '\\n'], ['покупка', ' ', 'коммерческий', ' ', 'недвижимость', '\\n'], ['покупка', ' ', 'жилье', '\\n'], ['на', ' ', 'покупка', ' ', 'подержать', ' ', 'автомобиль', '\\n'], ['строительство', ' ', 'недвижимость', '\\n'], ['строительство', ' ', 'собственный', ' ', 'недвижимость', '\\n'], ['строительство', ' ', 'недвижимость', '\\n'], ['покупка', ' ', 'жилой', ' ', 'недвижимость', '\\n'], ['получение', ' ', 'высокий', ' ', 'образование', '\\n'], ['получение', ' ', 'образование', '\\n'], ['профильный', ' ', 'образование', '\\n'], ['автомобиль', '\\n'], ['образование', '\\n'], ['жилье', '\\n'], ['на', ' ', 'покупка', ' ', 'подержать', ' ', 'автомобиль', '\\n'], ['строительство', ' ', 'собственный', ' ', 'недвижимость', '\\n'], ['покупка', ' ', 'жилье', '\\n'], ['заниматься', ' ', 'высокий', ' ', 'образование', '\\n'], ['получение', ' ', 'высокий', ' ', 'образование', '\\n'], ['на', ' ', 'покупка', ' ', 'автомобиль', '\\n'], ['на', ' ', 'покупка', ' ', 'подержать', ' ', 'автомобиль', '\\n'], ['строительство', ' ', 'собственный', ' ', 'недвижимость', '\\n'], ['заниматься', ' ', 'образование', '\\n'], ['операция', ' ', 'со', ' ', 'свой', ' ', 'недвижимость', '\\n'], ['свадьба', '\\n'], ['покупка', ' ', 'жилье', '\\n'], ['дополнительный', ' ', 'образование', '\\n'], ['свадьба', '\\n'], ['покупка', ' ', 'недвижимость', '\\n'], ['автомобиль', '\\n'], ['автомобиль', '\\n'], ['получение', ' ', 'образование', '\\n'], ['автомобиль', '\\n'], ['свадьба', '\\n'], ['заниматься', ' ', 'высокий', ' ', 'образование', '\\n'], ['жилье', '\\n'], ['сыграть', ' ', 'свадьба', '\\n'], ['строительство', ' ', 'жилой', ' ', 'недвижимость', '\\n'], ['на', ' ', 'покупка', ' ', 'подержать', ' ', 'автомобиль', '\\n'], ['на', ' ', 'покупка', ' ', 'свой', ' ', 'автомобиль', '\\n'], ['покупка', ' ', 'жилой', ' ', 'недвижимость', '\\n'], ['на', ' ', 'проведение', ' ', 'свадьба', '\\n'], ['получение', ' ', 'образование', '\\n'], ['автомобиль', '\\n'], ['свадьба', '\\n'], ['недвижимость', '\\n'], ['покупка', ' ', 'недвижимость', '\\n'], ['свой', ' ', 'автомобиль', '\\n'], ['строительство', ' ', 'жилой', ' ', 'недвижимость', '\\n'], ['покупка', ' ', 'жилье', ' ', 'для', ' ', 'сдача', '\\n'], ['операция', ' ', 'с', ' ', 'жилье', '\\n'], ['операция', ' ', 'с', ' ', 'недвижимость', '\\n'], ['недвижимость', '\\n'], ['на', ' ', 'проведение', ' ', 'свадьба', '\\n'], ['заниматься', ' ', 'высокий', ' ', 'образование', '\\n'], ['покупка', ' ', 'жилой', ' ', 'недвижимость', '\\n'], ['покупка', ' ', 'жилье', ' ', 'для', ' ', 'семья', '\\n'], ['операция', ' ', 'со', ' ', 'свой', ' ', 'недвижимость', '\\n'], ['недвижимость', '\\n'], ['операция', ' ', 'с', ' ', 'жилье', '\\n'], ['высокий', ' ', 'образование', '\\n'], ['покупка', ' ', 'коммерческий', ' ', 'недвижимость', '\\n'], ['покупка', ' ', 'недвижимость', '\\n'], ['операция', ' ', 'со', ' ', 'свой', ' ', 'недвижимость', '\\n'], ['покупка', ' ', 'жилье', ' ', 'для', ' ', 'сдача', '\\n'], ['покупка', ' ', 'жилье', '\\n'], ['недвижимость', '\\n'], ['автомобиль', '\\n'], ['покупка', ' ', 'жилье', ' ', 'для', ' ', 'семья', '\\n'], ['на', ' ', 'покупка', ' ', 'автомобиль', '\\n'], ['жилье', '\\n'], ['заниматься', ' ', 'высокий', ' ', 'образование', '\\n'], ['строительство', ' ', 'собственный', ' ', 'недвижимость', '\\n'], ['покупка', ' ', 'жилой', ' ', 'недвижимость', '\\n'], ['сыграть', ' ', 'свадьба', '\\n'], ['на', ' ', 'покупка', ' ', 'подержать', ' ', 'автомобиль', '\\n'], ['операция', ' ', 'с', ' ', 'коммерческий', ' ', 'недвижимость', '\\n'], ['на', ' ', 'проведение', ' ', 'свадьба', '\\n'], ['операция', ' ', 'со', ' ', 'свой', ' ', 'недвижимость', '\\n'], ['покупка', ' ', 'недвижимость', '\\n'], ['приобретение', ' ', 'автомобиль', '\\n'], ['получение', ' ', 'дополнительный', ' ', 'образование', '\\n'], ['операция', ' ', 'с', ' ', 'недвижимость', '\\n'], ['покупка', ' ', 'жилье', ' ', 'для', ' ', 'сдача', '\\n'], ['ремонт', ' ', 'жилье', '\\n'], ['приобретение', ' ', 'автомобиль', '\\n'], ['образование', '\\n'], ['получение', ' ', 'дополнительный', ' ', 'образование', '\\n'], ['на', ' ', 'покупка', ' ', 'подержать', ' ', 'автомобиль', '\\n'], ['покупка', ' ', 'недвижимость', '\\n'], ['покупка', ' ', 'жилье', '\\n'], ['строительство', ' ', 'жилой', ' ', 'недвижимость', '\\n'], ['свадьба', '\\n'], ['операция', ' ', 'с', ' ', 'недвижимость', '\\n'], ['автомобиль', '\\n'], ['сделка', ' ', 'с', ' ', 'автомобиль', '\\n'], ['на', ' ', 'покупка', ' ', 'автомобиль', '\\n'], ['операция', ' ', 'с', ' ', 'недвижимость', '\\n'], ['свадьба', '\\n'], ['на', ' ', 'проведение', ' ', 'свадьба', '\\n'], ['получение', ' ', 'образование', '\\n'], ['операция', ' ', 'со', ' ', 'свой', ' ', 'недвижимость', '\\n'], ['покупка', ' ', 'жилой', ' ', 'недвижимость', '\\n'], ['ремонт', ' ', 'жилье', '\\n'], ['сыграть', ' ', 'свадьба', '\\n'], ['ремонт', ' ', 'жилье', '\\n'], ['образование', '\\n'], ['свой', ' ', 'автомобиль', '\\n'], ['сделка', ' ', 'с', ' ', 'подержанный', ' ', 'автомобиль', '\\n'], ['недвижимость', '\\n'], ['операция', ' ', 'с', ' ', 'коммерческий', ' ', 'недвижимость', '\\n'], ['сыграть', ' ', 'свадьба', '\\n'], ['сделка', ' ', 'с', ' ', 'подержанный', ' ', 'автомобиль', '\\n'], ['на', ' ', 'покупка', ' ', 'свой', ' ', 'автомобиль', '\\n'], ['получение', ' ', 'дополнительный', ' ', 'образование', '\\n'], ['операция', ' ', 'с', ' ', 'жилье', '\\n'], ['свадьба', '\\n'], ['строительство', ' ', 'жилой', ' ', 'недвижимость', '\\n'], ['сделка', ' ', 'с', ' ', 'подержанный', ' ', 'автомобиль', '\\n'], ['покупка', ' ', 'жилье', ' ', 'для', ' ', 'семья', '\\n'], ['на', ' ', 'покупка', ' ', 'подержать', ' ', 'автомобиль', '\\n'], ['сыграть', ' ', 'свадьба', '\\n'], ['покупка', ' ', 'жилье', '\\n'], ['профильный', ' ', 'образование', '\\n'], ['заниматься', ' ', 'образование', '\\n'], ['покупка', ' ', 'жилье', '\\n'], ['автомобиль', '\\n'], ['покупка', ' ', 'жилье', '\\n'], ['покупка', ' ', 'коммерческий', ' ', 'недвижимость', '\\n'], ['сыграть', ' ', 'свадьба', '\\n'], ['на', ' ', 'проведение', ' ', 'свадьба', '\\n'], ['покупка', ' ', 'жилье', ' ', 'для', ' ', 'сдача', '\\n'], ['на', ' ', 'покупка', ' ', 'свой', ' ', 'автомобиль', '\\n'], ['на', ' ', 'проведение', ' ', 'свадьба', '\\n'], ['сделка', ' ', 'с', ' ', 'подержанный', ' ', 'автомобиль', '\\n'], ['строительство', ' ', 'жилой', ' ', 'недвижимость', '\\n'], ['на', ' ', 'покупка', ' ', 'свой', ' ', 'автомобиль', '\\n'], ['сыграть', ' ', 'свадьба', '\\n'], ['строительство', ' ', 'собственный', ' ', 'недвижимость', '\\n'], ['операция', ' ', 'с', ' ', 'коммерческий', ' ', 'недвижимость', '\\n'], ['жилье', '\\n'], ['жилье', '\\n'], ['свадьба', '\\n'], ['строительство', ' ', 'жилой', ' ', 'недвижимость', '\\n'], ['покупка', ' ', 'жилье', ' ', 'для', ' ', 'семья', '\\n'], ['заниматься', ' ', 'высокий', ' ', 'образование', '\\n'], ['заниматься', ' ', 'высокий', ' ', 'образование', '\\n'], ['на', ' ', 'покупка', ' ', 'свой', ' ', 'автомобиль', '\\n'], ['покупка', ' ', 'недвижимость', '\\n'], ['недвижимость', '\\n'], ['получение', ' ', 'высокий', ' ', 'образование', '\\n'], ['жилье', '\\n'], ['сыграть', ' ', 'свадьба', '\\n'], ['профильный', ' ', 'образование', '\\n'], ['операция', ' ', 'с', ' ', 'жилье', '\\n'], ['на', ' ', 'покупка', ' ', 'подержать', ' ', 'автомобиль', '\\n'], ['сыграть', ' ', 'свадьба', '\\n'], ['получение', ' ', 'высокий', ' ', 'образование', '\\n'], ['недвижимость', '\\n'], ['покупка', ' ', 'жилье', ' ', 'для', ' ', 'семья', '\\n'], ['строительство', ' ', 'собственный', ' ', 'недвижимость', '\\n'], ['высокий', ' ', 'образование', '\\n'], ['на', ' ', 'покупка', ' ', 'подержать', ' ', 'автомобиль', '\\n'], ['приобретение', ' ', 'автомобиль', '\\n'], ['на', ' ', 'покупка', ' ', 'свой', ' ', 'автомобиль', '\\n'], ['строительство', ' ', 'собственный', ' ', 'недвижимость', '\\n'], ['ремонт', ' ', 'жилье', '\\n'], ['приобретение', ' ', 'автомобиль', '\\n'], ['покупка', ' ', 'коммерческий', ' ', 'недвижимость', '\\n'], ['покупка', ' ', 'жилье', ' ', 'для', ' ', 'семья', '\\n'], ['на', ' ', 'проведение', ' ', 'свадьба', '\\n'], ['операция', ' ', 'со', ' ', 'свой', ' ', 'недвижимость', '\\n'], ['строительство', ' ', 'собственный', ' ', 'недвижимость', '\\n'], ['сделка', ' ', 'с', ' ', 'подержанный', ' ', 'автомобиль', '\\n'], ['покупка', ' ', 'недвижимость', '\\n'], ['автомобиль', '\\n'], ['жилье', '\\n'], ['образование', '\\n'], ['на', ' ', 'покупка', ' ', 'подержать', ' ', 'автомобиль', '\\n'], ['операция', ' ', 'с', ' ', 'жилье', '\\n'], ['операция', ' ', 'с', ' ', 'жилье', '\\n'], ['покупка', ' ', 'коммерческий', ' ', 'недвижимость', '\\n'], ['ремонт', ' ', 'жилье', '\\n'], ['строительство', ' ', 'собственный', ' ', 'недвижимость', '\\n'], ['на', ' ', 'проведение', ' ', 'свадьба', '\\n'], ['строительство', ' ', 'собственный', ' ', 'недвижимость', '\\n'], ['на', ' ', 'покупка', ' ', 'подержать', ' ', 'автомобиль', '\\n'], ['жилье', '\\n'], ['получение', ' ', 'дополнительный', ' ', 'образование', '\\n'], ['жилье', '\\n'], ['покупка', ' ', 'жилой', ' ', 'недвижимость', '\\n'], ['приобретение', ' ', 'автомобиль', '\\n'], ['получение', ' ', 'дополнительный', ' ', 'образование', '\\n'], ['операция', ' ', 'с', ' ', 'коммерческий', ' ', 'недвижимость', '\\n'], ['высокий', ' ', 'образование', '\\n'], ['получение', ' ', 'высокий', ' ', 'образование', '\\n'], ['строительство', ' ', 'недвижимость', '\\n'], ['покупка', ' ', 'жилье', '\\n'], ['сыграть', ' ', 'свадьба', '\\n'], ['покупка', ' ', 'жилье', ' ', 'для', ' ', 'сдача', '\\n'], ['покупка', ' ', 'коммерческий', ' ', 'недвижимость', '\\n'], ['операция', ' ', 'с', ' ', 'недвижимость', '\\n'], ['операция', ' ', 'с', ' ', 'недвижимость', '\\n'], ['покупка', ' ', 'свой', ' ', 'жилье', '\\n'], ['сделка', ' ', 'с', ' ', 'автомобиль', '\\n'], ['операция', ' ', 'с', ' ', 'коммерческий', ' ', 'недвижимость', '\\n'], ['сделка', ' ', 'с', ' ', 'подержанный', ' ', 'автомобиль', '\\n'], ['покупка', ' ', 'жилье', '\\n'], ['сделка', ' ', 'с', ' ', 'подержанный', ' ', 'автомобиль', '\\n'], ['на', ' ', 'покупка', ' ', 'свой', ' ', 'автомобиль', '\\n'], ['профильный', ' ', 'образование', '\\n'], ['свадьба', '\\n'], ['покупка', ' ', 'жилой', ' ', 'недвижимость', '\\n'], ['высокий', ' ', 'образование', '\\n'], ['покупка', ' ', 'жилье', ' ', 'для', ' ', 'сдача', '\\n'], ['недвижимость', '\\n'], ['сыграть', ' ', 'свадьба', '\\n'], ['жилье', '\\n'], ['недвижимость', '\\n'], ['образование', '\\n'], ['операция', ' ', 'со', ' ', 'свой', ' ', 'недвижимость', '\\n'], ['покупка', ' ', 'жилье', ' ', 'для', ' ', 'сдача', '\\n'], ['покупка', ' ', 'недвижимость', '\\n'], ['заниматься', ' ', 'высокий', ' ', 'образование', '\\n'], ['заниматься', ' ', 'высокий', ' ', 'образование', '\\n'], ['на', ' ', 'проведение', ' ', 'свадьба', '\\n'], ['на', ' ', 'проведение', ' ', 'свадьба', '\\n'], ['приобретение', ' ', 'автомобиль', '\\n'], ['покупка', ' ', 'жилье', ' ', 'для', ' ', 'семья', '\\n'], ['сделка', ' ', 'с', ' ', 'автомобиль', '\\n'], ['покупка', ' ', 'жилье', ' ', 'для', ' ', 'сдача', '\\n'], ['на', ' ', 'проведение', ' ', 'свадьба', '\\n'], ['покупка', ' ', 'жилой', ' ', 'недвижимость', '\\n'], ['автомобиль', '\\n'], ['ремонт', ' ', 'жилье', '\\n'], ['операция', ' ', 'со', ' ', 'свой', ' ', 'недвижимость', '\\n'], ['операция', ' ', 'с', ' ', 'жилье', '\\n'], ['жилье', '\\n'], ['жилье', '\\n'], ['покупка', ' ', 'свой', ' ', 'жилье', '\\n'], ['получение', ' ', 'высокий', ' ', 'образование', '\\n'], ['свой', ' ', 'автомобиль', '\\n'], ['операция', ' ', 'с', ' ', 'жилье', '\\n'], ['жилье', '\\n'], ['сделка', ' ', 'с', ' ', 'автомобиль', '\\n'], ['сыграть', ' ', 'свадьба', '\\n'], ['покупка', ' ', 'жилье', '\\n'], ['автомобиль', '\\n'], ['строительство', ' ', 'недвижимость', '\\n'], ['на', ' ', 'покупка', ' ', 'свой', ' ', 'автомобиль', '\\n'], ['покупка', ' ', 'свой', ' ', 'жилье', '\\n'], ['жилье', '\\n'], ['покупка', ' ', 'недвижимость', '\\n'], ['сделка', ' ', 'с', ' ', 'автомобиль', '\\n'], ['на', ' ', 'проведение', ' ', 'свадьба', '\\n'], ['строительство', ' ', 'недвижимость', '\\n'], ['строительство', ' ', 'собственный', ' ', 'недвижимость', '\\n'], ['строительство', ' ', 'собственный', ' ', 'недвижимость', '\\n'], ['сыграть', ' ', 'свадьба', '\\n'], ['высокий', ' ', 'образование', '\\n'], ['покупка', ' ', 'жилье', ' ', 'для', ' ', 'сдача', '\\n'], ['на', ' ', 'покупка', ' ', 'автомобиль', '\\n'], ['на', ' ', 'проведение', ' ', 'свадьба', '\\n'], ['на', ' ', 'покупка', ' ', 'подержать', ' ', 'автомобиль', '\\n'], ['получение', ' ', 'дополнительный', ' ', 'образование', '\\n'], ['свадьба', '\\n'], ['сделка', ' ', 'с', ' ', 'подержанный', ' ', 'автомобиль', '\\n'], ['получение', ' ', 'высокий', ' ', 'образование', '\\n'], ['операция', ' ', 'со', ' ', 'свой', ' ', 'недвижимость', '\\n'], ['покупка', ' ', 'жилье', ' ', 'для', ' ', 'семья', '\\n'], ['на', ' ', 'проведение', ' ', 'свадьба', '\\n'], ['автомобиль', '\\n'], ['свадьба', '\\n'], ['операция', ' ', 'с', ' ', 'жилье', '\\n'], ['на', ' ', 'покупка', ' ', 'автомобиль', '\\n'], ['сделка', ' ', 'с', ' ', 'автомобиль', '\\n'], ['образование', '\\n'], ['дополнительный', ' ', 'образование', '\\n'], ['покупка', ' ', 'недвижимость', '\\n'], ['профильный', ' ', 'образование', '\\n'], ['сделка', ' ', 'с', ' ', 'подержанный', ' ', 'автомобиль', '\\n'], ['операция', ' ', 'с', ' ', 'жилье', '\\n'], ['покупка', ' ', 'жилье', ' ', 'для', ' ', 'сдача', '\\n'], ['недвижимость', '\\n'], ['покупка', ' ', 'жилье', ' ', 'для', ' ', 'сдача', '\\n'], ['покупка', ' ', 'свой', ' ', 'жилье', '\\n'], ['дополнительный', ' ', 'образование', '\\n'], ['заниматься', ' ', 'образование', '\\n'], ['операция', ' ', 'со', ' ', 'свой', ' ', 'недвижимость', '\\n'], ['покупка', ' ', 'свой', ' ', 'жилье', '\\n'], ['жилье', '\\n'], ['покупка', ' ', 'жилье', ' ', 'для', ' ', 'сдача', '\\n'], ['сделка', ' ', 'с', ' ', 'автомобиль', '\\n'], ['строительство', ' ', 'собственный', ' ', 'недвижимость', '\\n'], ['ремонт', ' ', 'жилье', '\\n'], ['на', ' ', 'покупка', ' ', 'подержать', ' ', 'автомобиль', '\\n'], ['покупка', ' ', 'недвижимость', '\\n'], ['на', ' ', 'покупка', ' ', 'свой', ' ', 'автомобиль', '\\n'], ['жилье', '\\n'], ['приобретение', ' ', 'автомобиль', '\\n'], ['дополнительный', ' ', 'образование', '\\n'], ['на', ' ', 'проведение', ' ', 'свадьба', '\\n'], ['сыграть', ' ', 'свадьба', '\\n'], ['на', ' ', 'покупка', ' ', 'подержать', ' ', 'автомобиль', '\\n'], ['сделка', ' ', 'с', ' ', 'автомобиль', '\\n'], ['ремонт', ' ', 'жилье', '\\n'], ['ремонт', ' ', 'жилье', '\\n'], ['образование', '\\n'], ['автомобиль', '\\n'], ['сыграть', ' ', 'свадьба', '\\n'], ['покупка', ' ', 'коммерческий', ' ', 'недвижимость', '\\n'], ['покупка', ' ', 'свой', ' ', 'жилье', '\\n'], ['недвижимость', '\\n'], ['строительство', ' ', 'жилой', ' ', 'недвижимость', '\\n'], ['операция', ' ', 'со', ' ', 'свой', ' ', 'недвижимость', '\\n'], ['операция', ' ', 'со', ' ', 'свой', ' ', 'недвижимость', '\\n'], ['сделка', ' ', 'с', ' ', 'автомобиль', '\\n'], ['сыграть', ' ', 'свадьба', '\\n'], ['покупка', ' ', 'жилье', ' ', 'для', ' ', 'сдача', '\\n'], ['покупка', ' ', 'свой', ' ', 'жилье', '\\n'], ['строительство', ' ', 'жилой', ' ', 'недвижимость', '\\n'], ['приобретение', ' ', 'автомобиль', '\\n'], ['получение', ' ', 'дополнительный', ' ', 'образование', '\\n'], ['заниматься', ' ', 'образование', '\\n'], ['строительство', ' ', 'собственный', ' ', 'недвижимость', '\\n'], ['сыграть', ' ', 'свадьба', '\\n'], ['сделка', ' ', 'с', ' ', 'подержанный', ' ', 'автомобиль', '\\n'], ['на', ' ', 'проведение', ' ', 'свадьба', '\\n'], ['приобретение', ' ', 'автомобиль', '\\n'], ['строительство', ' ', 'жилой', ' ', 'недвижимость', '\\n'], ['покупка', ' ', 'жилой', ' ', 'недвижимость', '\\n'], ['строительство', ' ', 'жилой', ' ', 'недвижимость', '\\n'], ['свадьба', '\\n'], ['ремонт', ' ', 'жилье', '\\n'], ['строительство', ' ', 'собственный', ' ', 'недвижимость', '\\n'], ['строительство', ' ', 'собственный', ' ', 'недвижимость', '\\n'], ['на', ' ', 'покупка', ' ', 'подержать', ' ', 'автомобиль', '\\n'], ['строительство', ' ', 'собственный', ' ', 'недвижимость', '\\n'], ['операция', ' ', 'с', ' ', 'недвижимость', '\\n'], ['свадьба', '\\n'], ['операция', ' ', 'с', ' ', 'жилье', '\\n'], ['получение', ' ', 'дополнительный', ' ', 'образование', '\\n'], ['на', ' ', 'покупка', ' ', 'автомобиль', '\\n'], ['на', ' ', 'покупка', ' ', 'подержать', ' ', 'автомобиль', '\\n'], ['покупка', ' ', 'жилье', ' ', 'для', ' ', 'семья', '\\n'], ['операция', ' ', 'с', ' ', 'жилье', '\\n'], ['приобретение', ' ', 'автомобиль', '\\n'], ['на', ' ', 'покупка', ' ', 'автомобиль', '\\n'], ['заниматься', ' ', 'образование', '\\n'], ['жилье', '\\n'], ['строительство', ' ', 'жилой', ' ', 'недвижимость', '\\n'], ['на', ' ', 'покупка', ' ', 'подержать', ' ', 'автомобиль', '\\n'], ['операция', ' ', 'со', ' ', 'свой', ' ', 'недвижимость', '\\n'], ['на', ' ', 'проведение', ' ', 'свадьба', '\\n'], ['свадьба', '\\n'], ['сыграть', ' ', 'свадьба', '\\n'], ['операция', ' ', 'с', ' ', 'недвижимость', '\\n'], ['покупка', ' ', 'недвижимость', '\\n'], ['строительство', ' ', 'собственный', ' ', 'недвижимость', '\\n'], ['на', ' ', 'покупка', ' ', 'автомобиль', '\\n'], ['операция', ' ', 'с', ' ', 'недвижимость', '\\n'], ['образование', '\\n'], ['получение', ' ', 'высокий', ' ', 'образование', '\\n'], ['свой', ' ', 'автомобиль', '\\n'], ['строительство', ' ', 'жилой', ' ', 'недвижимость', '\\n'], ['на', ' ', 'проведение', ' ', 'свадьба', '\\n'], ['операция', ' ', 'с', ' ', 'жилье', '\\n'], ['ремонт', ' ', 'жилье', '\\n'], ['автомобиль', '\\n'], ['сыграть', ' ', 'свадьба', '\\n'], ['жилье', '\\n'], ['покупка', ' ', 'жилой', ' ', 'недвижимость', '\\n'], ['автомобиль', '\\n'], ['строительство', ' ', 'собственный', ' ', 'недвижимость', '\\n'], ['покупка', ' ', 'свой', ' ', 'жилье', '\\n'], ['покупка', ' ', 'жилой', ' ', 'недвижимость', '\\n'], ['операция', ' ', 'с', ' ', 'коммерческий', ' ', 'недвижимость', '\\n'], ['заниматься', ' ', 'высокий', ' ', 'образование', '\\n'], ['свой', ' ', 'автомобиль', '\\n'], ['свадьба', '\\n'], ['покупка', ' ', 'свой', ' ', 'жилье', '\\n'], ['автомобиль', '\\n'], ['приобретение', ' ', 'автомобиль', '\\n'], ['жилье', '\\n'], ['сделка', ' ', 'с', ' ', 'автомобиль', '\\n'], ['на', ' ', 'проведение', ' ', 'свадьба', '\\n'], ['строительство', ' ', 'собственный', ' ', 'недвижимость', '\\n'], ['заниматься', ' ', 'высокий', ' ', 'образование', '\\n'], ['сыграть', ' ', 'свадьба', '\\n'], ['операция', ' ', 'с', ' ', 'недвижимость', '\\n'], ['сделка', ' ', 'с', ' ', 'подержанный', ' ', 'автомобиль', '\\n'], ['покупка', ' ', 'свой', ' ', 'жилье', '\\n'], ['строительство', ' ', 'недвижимость', '\\n'], ['получение', ' ', 'образование', '\\n'], ['приобретение', ' ', 'автомобиль', '\\n'], ['операция', ' ', 'с', ' ', 'жилье', '\\n'], ['операция', ' ', 'со', ' ', 'свой', ' ', 'недвижимость', '\\n'], ['на', ' ', 'покупка', ' ', 'свой', ' ', 'автомобиль', '\\n'], ['покупка', ' ', 'жилой', ' ', 'недвижимость', '\\n'], ['строительство', ' ', 'недвижимость', '\\n'], ['покупка', ' ', 'жилье', ' ', 'для', ' ', 'сдача', '\\n'], ['приобретение', ' ', 'автомобиль', '\\n'], ['заниматься', ' ', 'высокий', ' ', 'образование', '\\n'], ['сделка', ' ', 'с', ' ', 'автомобиль', '\\n'], ['покупка', ' ', 'жилье', '\\n'], ['заниматься', ' ', 'высокий', ' ', 'образование', '\\n'], ['операция', ' ', 'с', ' ', 'жилье', '\\n'], ['покупка', ' ', 'жилой', ' ', 'недвижимость', '\\n'], ['сделка', ' ', 'с', ' ', 'подержанный', ' ', 'автомобиль', '\\n'], ['покупка', ' ', 'свой', ' ', 'жилье', '\\n'], ['покупка', ' ', 'недвижимость', '\\n'], ['автомобиль', '\\n'], ['операция', ' ', 'с', ' ', 'коммерческий', ' ', 'недвижимость', '\\n'], ['сыграть', ' ', 'свадьба', '\\n'], ['сделка', ' ', 'с', ' ', 'подержанный', ' ', 'автомобиль', '\\n'], ['свадьба', '\\n'], ['покупка', ' ', 'жилье', ' ', 'для', ' ', 'сдача', '\\n'], ['операция', ' ', 'с', ' ', 'коммерческий', ' ', 'недвижимость', '\\n'], ['профильный', ' ', 'образование', '\\n'], ['сделка', ' ', 'с', ' ', 'подержанный', ' ', 'автомобиль', '\\n'], ['ремонт', ' ', 'жилье', '\\n'], ['сделка', ' ', 'с', ' ', 'автомобиль', '\\n'], ['покупка', ' ', 'коммерческий', ' ', 'недвижимость', '\\n'], ['автомобиль', '\\n'], ['покупка', ' ', 'жилье', ' ', 'для', ' ', 'сдача', '\\n'], ['получение', ' ', 'образование', '\\n'], ['операция', ' ', 'с', ' ', 'жилье', '\\n'], ['операция', ' ', 'с', ' ', 'коммерческий', ' ', 'недвижимость', '\\n'], ['на', ' ', 'покупка', ' ', 'подержать', ' ', 'автомобиль', '\\n'], ['операция', ' ', 'с', ' ', 'недвижимость', '\\n'], ['покупка', ' ', 'коммерческий', ' ', 'недвижимость', '\\n'], ['получение', ' ', 'высокий', ' ', 'образование', '\\n'], ['недвижимость', '\\n'], ['сделка', ' ', 'с', ' ', 'автомобиль', '\\n'], ['дополнительный', ' ', 'образование', '\\n'], ['на', ' ', 'покупка', ' ', 'свой', ' ', 'автомобиль', '\\n'], ['операция', ' ', 'с', ' ', 'недвижимость', '\\n'], ['свой', ' ', 'автомобиль', '\\n'], ['автомобиль', '\\n'], ['свадьба', '\\n'], ['сделка', ' ', 'с', ' ', 'подержанный', ' ', 'автомобиль', '\\n'], ['сыграть', ' ', 'свадьба', '\\n'], ['получение', ' ', 'образование', '\\n'], ['на', ' ', 'покупка', ' ', 'подержать', ' ', 'автомобиль', '\\n'], ['покупка', ' ', 'жилье', ' ', 'для', ' ', 'семья', '\\n'], ['операция', ' ', 'со', ' ', 'свой', ' ', 'недвижимость', '\\n'], ['покупка', ' ', 'коммерческий', ' ', 'недвижимость', '\\n'], ['на', ' ', 'покупка', ' ', 'автомобиль', '\\n'], ['свадьба', '\\n'], ['операция', ' ', 'со', ' ', 'свой', ' ', 'недвижимость', '\\n'], ['сделка', ' ', 'с', ' ', 'подержанный', ' ', 'автомобиль', '\\n'], ['покупка', ' ', 'жилой', ' ', 'недвижимость', '\\n'], ['операция', ' ', 'с', ' ', 'коммерческий', ' ', 'недвижимость', '\\n'], ['недвижимость', '\\n'], ['операция', ' ', 'с', ' ', 'недвижимость', '\\n'], ['на', ' ', 'проведение', ' ', 'свадьба', '\\n'], ['операция', ' ', 'с', ' ', 'коммерческий', ' ', 'недвижимость', '\\n'], ['строительство', ' ', 'жилой', ' ', 'недвижимость', '\\n'], ['покупка', ' ', 'коммерческий', ' ', 'недвижимость', '\\n'], ['свадьба', '\\n'], ['жилье', '\\n'], ['свой', ' ', 'автомобиль', '\\n'], ['на', ' ', 'покупка', ' ', 'свой', ' ', 'автомобиль', '\\n'], ['свой', ' ', 'автомобиль', '\\n'], ['строительство', ' ', 'жилой', ' ', 'недвижимость', '\\n'], ['ремонт', ' ', 'жилье', '\\n'], ['операция', ' ', 'с', ' ', 'жилье', '\\n'], ['покупка', ' ', 'жилье', ' ', 'для', ' ', 'семья', '\\n'], ['профильный', ' ', 'образование', '\\n'], ['сыграть', ' ', 'свадьба', '\\n'], ['строительство', ' ', 'недвижимость', '\\n'], ['недвижимость', '\\n'], ['покупка', ' ', 'жилой', ' ', 'недвижимость', '\\n'], ['сыграть', ' ', 'свадьба', '\\n'], ['операция', ' ', 'с', ' ', 'коммерческий', ' ', 'недвижимость', '\\n'], ['покупка', ' ', 'жилье', '\\n'], ['свой', ' ', 'автомобиль', '\\n'], ['операция', ' ', 'с', ' ', 'коммерческий', ' ', 'недвижимость', '\\n'], ['покупка', ' ', 'свой', ' ', 'жилье', '\\n'], ['профильный', ' ', 'образование', '\\n'], ['сделка', ' ', 'с', ' ', 'подержанный', ' ', 'автомобиль', '\\n'], ['получение', ' ', 'высокий', ' ', 'образование', '\\n'], ['заниматься', ' ', 'образование', '\\n'], ['на', ' ', 'проведение', ' ', 'свадьба', '\\n'], ['заниматься', ' ', 'высокий', ' ', 'образование', '\\n'], ['свой', ' ', 'автомобиль', '\\n'], ['покупка', ' ', 'свой', ' ', 'жилье', '\\n'], ['покупка', ' ', 'жилье', ' ', 'для', ' ', 'сдача', '\\n'], ['автомобиль', '\\n'], ['получение', ' ', 'дополнительный', ' ', 'образование', '\\n'], ['ремонт', ' ', 'жилье', '\\n'], ['сделка', ' ', 'с', ' ', 'подержанный', ' ', 'автомобиль', '\\n'], ['на', ' ', 'покупка', ' ', 'автомобиль', '\\n'], ['операция', ' ', 'с', ' ', 'недвижимость', '\\n'], ['операция', ' ', 'с', ' ', 'коммерческий', ' ', 'недвижимость', '\\n'], ['свой', ' ', 'автомобиль', '\\n'], ['жилье', '\\n'], ['покупка', ' ', 'жилье', ' ', 'для', ' ', 'семья', '\\n'], ['заниматься', ' ', 'образование', '\\n'], ['на', ' ', 'покупка', ' ', 'подержать', ' ', 'автомобиль', '\\n'], ['недвижимость', '\\n'], ['автомобиль', '\\n'], ['заниматься', ' ', 'образование', '\\n'], ['строительство', ' ', 'собственный', ' ', 'недвижимость', '\\n'], ['на', ' ', 'покупка', ' ', 'подержать', ' ', 'автомобиль', '\\n'], ['заниматься', ' ', 'высокий', ' ', 'образование', '\\n'], ['строительство', ' ', 'жилой', ' ', 'недвижимость', '\\n'], ['получение', ' ', 'образование', '\\n'], ['автомобиль', '\\n'], ['автомобиль', '\\n'], ['заниматься', ' ', 'высокий', ' ', 'образование', '\\n'], ['на', ' ', 'покупка', ' ', 'подержать', ' ', 'автомобиль', '\\n'], ['строительство', ' ', 'собственный', ' ', 'недвижимость', '\\n'], ['заниматься', ' ', 'образование', '\\n'], ['покупка', ' ', 'недвижимость', '\\n'], ['высокий', ' ', 'образование', '\\n'], ['заниматься', ' ', 'высокий', ' ', 'образование', '\\n'], ['получение', ' ', 'дополнительный', ' ', 'образование', '\\n'], ['покупка', ' ', 'недвижимость', '\\n'], ['операция', ' ', 'с', ' ', 'коммерческий', ' ', 'недвижимость', '\\n'], ['автомобиль', '\\n'], ['жилье', '\\n'], ['автомобиль', '\\n'], ['операция', ' ', 'с', ' ', 'жилье', '\\n'], ['строительство', ' ', 'собственный', ' ', 'недвижимость', '\\n'], ['свадьба', '\\n'], ['сделка', ' ', 'с', ' ', 'автомобиль', '\\n'], ['на', ' ', 'покупка', ' ', 'подержать', ' ', 'автомобиль', '\\n'], ['дополнительный', ' ', 'образование', '\\n'], ['образование', '\\n'], ['операция', ' ', 'со', ' ', 'свой', ' ', 'недвижимость', '\\n'], ['образование', '\\n'], ['покупка', ' ', 'жилье', '\\n'], ['покупка', ' ', 'жилье', ' ', 'для', ' ', 'семья', '\\n'], ['приобретение', ' ', 'автомобиль', '\\n'], ['заниматься', ' ', 'высокий', ' ', 'образование', '\\n'], ['строительство', ' ', 'недвижимость', '\\n'], ['ремонт', ' ', 'жилье', '\\n'], ['строительство', ' ', 'жилой', ' ', 'недвижимость', '\\n'], ['получение', ' ', 'высокий', ' ', 'образование', '\\n'], ['сыграть', ' ', 'свадьба', '\\n'], ['получение', ' ', 'дополнительный', ' ', 'образование', '\\n'], ['строительство', ' ', 'жилой', ' ', 'недвижимость', '\\n'], ['жилье', '\\n'], ['недвижимость', '\\n'], ['операция', ' ', 'с', ' ', 'недвижимость', '\\n'], ['дополнительный', ' ', 'образование', '\\n'], ['сделка', ' ', 'с', ' ', 'подержанный', ' ', 'автомобиль', '\\n'], ['покупка', ' ', 'жилье', ' ', 'для', ' ', 'семья', '\\n'], ['образование', '\\n'], ['покупка', ' ', 'свой', ' ', 'жилье', '\\n'], ['профильный', ' ', 'образование', '\\n'], ['высокий', ' ', 'образование', '\\n'], ['профильный', ' ', 'образование', '\\n'], ['получение', ' ', 'дополнительный', ' ', 'образование', '\\n'], ['получение', ' ', 'образование', '\\n'], ['покупка', ' ', 'жилье', ' ', 'для', ' ', 'сдача', '\\n'], ['строительство', ' ', 'жилой', ' ', 'недвижимость', '\\n'], ['сделка', ' ', 'с', ' ', 'подержанный', ' ', 'автомобиль', '\\n'], ['строительство', ' ', 'недвижимость', '\\n'], ['операция', ' ', 'с', ' ', 'коммерческий', ' ', 'недвижимость', '\\n'], ['приобретение', ' ', 'автомобиль', '\\n'], ['профильный', ' ', 'образование', '\\n'], ['на', ' ', 'покупка', ' ', 'автомобиль', '\\n'], ['покупка', ' ', 'коммерческий', ' ', 'недвижимость', '\\n'], ['ремонт', ' ', 'жилье', '\\n'], ['покупка', ' ', 'коммерческий', ' ', 'недвижимость', '\\n'], ['операция', ' ', 'с', ' ', 'недвижимость', '\\n'], ['сделка', ' ', 'с', ' ', 'подержанный', ' ', 'автомобиль', '\\n'], ['операция', ' ', 'с', ' ', 'недвижимость', '\\n'], ['строительство', ' ', 'собственный', ' ', 'недвижимость', '\\n'], ['сделка', ' ', 'с', ' ', 'подержанный', ' ', 'автомобиль', '\\n'], ['недвижимость', '\\n'], ['на', ' ', 'покупка', ' ', 'свой', ' ', 'автомобиль', '\\n'], ['строительство', ' ', 'собственный', ' ', 'недвижимость', '\\n'], ['на', ' ', 'покупка', ' ', 'свой', ' ', 'автомобиль', '\\n'], ['сделка', ' ', 'с', ' ', 'автомобиль', '\\n'], ['покупка', ' ', 'коммерческий', ' ', 'недвижимость', '\\n'], ['строительство', ' ', 'недвижимость', '\\n'], ['покупка', ' ', 'недвижимость', '\\n'], ['дополнительный', ' ', 'образование', '\\n'], ['операция', ' ', 'с', ' ', 'коммерческий', ' ', 'недвижимость', '\\n'], ['операция', ' ', 'с', ' ', 'коммерческий', ' ', 'недвижимость', '\\n'], ['заниматься', ' ', 'образование', '\\n'], ['жилье', '\\n'], ['ремонт', ' ', 'жилье', '\\n'], ['жилье', '\\n'], ['на', ' ', 'проведение', ' ', 'свадьба', '\\n'], ['на', ' ', 'покупка', ' ', 'свой', ' ', 'автомобиль', '\\n'], ['свой', ' ', 'автомобиль', '\\n'], ['на', ' ', 'проведение', ' ', 'свадьба', '\\n'], ['покупка', ' ', 'жилье', '\\n'], ['операция', ' ', 'со', ' ', 'свой', ' ', 'недвижимость', '\\n'], ['покупка', ' ', 'жилой', ' ', 'недвижимость', '\\n'], ['получение', ' ', 'образование', '\\n'], ['операция', ' ', 'с', ' ', 'коммерческий', ' ', 'недвижимость', '\\n'], ['высокий', ' ', 'образование', '\\n'], ['операция', ' ', 'с', ' ', 'коммерческий', ' ', 'недвижимость', '\\n'], ['автомобиль', '\\n'], ['получение', ' ', 'дополнительный', ' ', 'образование', '\\n'], ['на', ' ', 'проведение', ' ', 'свадьба', '\\n'], ['получение', ' ', 'образование', '\\n'], ['приобретение', ' ', 'автомобиль', '\\n'], ['операция', ' ', 'с', ' ', 'жилье', '\\n'], ['покупка', ' ', 'свой', ' ', 'жилье', '\\n'], ['на', ' ', 'покупка', ' ', 'подержать', ' ', 'автомобиль', '\\n'], ['покупка', ' ', 'жилье', '\\n'], ['операция', ' ', 'с', ' ', 'жилье', '\\n'], ['свадьба', '\\n'], ['на', ' ', 'проведение', ' ', 'свадьба', '\\n'], ['заниматься', ' ', 'высокий', ' ', 'образование', '\\n'], ['операция', ' ', 'с', ' ', 'недвижимость', '\\n'], ['сыграть', ' ', 'свадьба', '\\n'], ['покупка', ' ', 'жилье', ' ', 'для', ' ', 'сдача', '\\n'], ['покупка', ' ', 'жилье', ' ', 'для', ' ', 'сдача', '\\n'], ['на', ' ', 'покупка', ' ', 'свой', ' ', 'автомобиль', '\\n'], ['получение', ' ', 'дополнительный', ' ', 'образование', '\\n'], ['автомобиль', '\\n'], ['покупка', ' ', 'недвижимость', '\\n'], ['высокий', ' ', 'образование', '\\n'], ['операция', ' ', 'с', ' ', 'жилье', '\\n'], ['получение', ' ', 'образование', '\\n'], ['высокий', ' ', 'образование', '\\n'], ['дополнительный', ' ', 'образование', '\\n'], ['получение', ' ', 'высокий', ' ', 'образование', '\\n'], ['приобретение', ' ', 'автомобиль', '\\n'], ['покупка', ' ', 'недвижимость', '\\n'], ['покупка', ' ', 'жилье', ' ', 'для', ' ', 'семья', '\\n'], ['операция', ' ', 'с', ' ', 'недвижимость', '\\n'], ['сделка', ' ', 'с', ' ', 'подержанный', ' ', 'автомобиль', '\\n'], ['покупка', ' ', 'жилье', '\\n'], ['строительство', ' ', 'собственный', ' ', 'недвижимость', '\\n'], ['ремонт', ' ', 'жилье', '\\n'], ['заниматься', ' ', 'образование', '\\n'], ['высокий', ' ', 'образование', '\\n'], ['дополнительный', ' ', 'образование', '\\n'], ['дополнительный', ' ', 'образование', '\\n'], ['операция', ' ', 'с', ' ', 'коммерческий', ' ', 'недвижимость', '\\n'], ['образование', '\\n'], ['автомобиль', '\\n'], ['получение', ' ', 'высокий', ' ', 'образование', '\\n'], ['жилье', '\\n'], ['операция', ' ', 'с', ' ', 'коммерческий', ' ', 'недвижимость', '\\n'], ['покупка', ' ', 'жилье', ' ', 'для', ' ', 'семья', '\\n'], ['покупка', ' ', 'жилье', ' ', 'для', ' ', 'семья', '\\n'], ['покупка', ' ', 'жилье', ' ', 'для', ' ', 'сдача', '\\n'], ['приобретение', ' ', 'автомобиль', '\\n'], ['строительство', ' ', 'собственный', ' ', 'недвижимость', '\\n'], ['на', ' ', 'покупка', ' ', 'свой', ' ', 'автомобиль', '\\n'], ['заниматься', ' ', 'образование', '\\n'], ['свадьба', '\\n'], ['операция', ' ', 'с', ' ', 'коммерческий', ' ', 'недвижимость', '\\n'], ['дополнительный', ' ', 'образование', '\\n'], ['строительство', ' ', 'собственный', ' ', 'недвижимость', '\\n'], ['на', ' ', 'проведение', ' ', 'свадьба', '\\n'], ['на', ' ', 'покупка', ' ', 'подержать', ' ', 'автомобиль', '\\n'], ['покупка', ' ', 'недвижимость', '\\n'], ['образование', '\\n'], ['жилье', '\\n'], ['строительство', ' ', 'жилой', ' ', 'недвижимость', '\\n'], ['операция', ' ', 'с', ' ', 'жилье', '\\n'], ['заниматься', ' ', 'высокий', ' ', 'образование', '\\n'], ['получение', ' ', 'высокий', ' ', 'образование', '\\n'], ['образование', '\\n'], ['заниматься', ' ', 'высокий', ' ', 'образование', '\\n'], ['ремонт', ' ', 'жилье', '\\n'], ['на', ' ', 'проведение', ' ', 'свадьба', '\\n'], ['высокий', ' ', 'образование', '\\n'], ['покупка', ' ', 'жилье', ' ', 'для', ' ', 'семья', '\\n'], ['операция', ' ', 'с', ' ', 'коммерческий', ' ', 'недвижимость', '\\n'], ['операция', ' ', 'с', ' ', 'недвижимость', '\\n'], ['покупка', ' ', 'жилье', '\\n'], ['строительство', ' ', 'недвижимость', '\\n'], ['ремонт', ' ', 'жилье', '\\n'], ['покупка', ' ', 'жилье', '\\n'], ['сделка', ' ', 'с', ' ', 'подержанный', ' ', 'автомобиль', '\\n'], ['получение', ' ', 'дополнительный', ' ', 'образование', '\\n'], ['сыграть', ' ', 'свадьба', '\\n'], ['на', ' ', 'проведение', ' ', 'свадьба', '\\n'], ['покупка', ' ', 'жилой', ' ', 'недвижимость', '\\n'], ['жилье', '\\n'], ['строительство', ' ', 'жилой', ' ', 'недвижимость', '\\n'], ['строительство', ' ', 'жилой', ' ', 'недвижимость', '\\n'], ['операция', ' ', 'со', ' ', 'свой', ' ', 'недвижимость', '\\n'], ['получение', ' ', 'дополнительный', ' ', 'образование', '\\n'], ['свадьба', '\\n'], ['жилье', '\\n'], ['на', ' ', 'покупка', ' ', 'автомобиль', '\\n'], ['на', ' ', 'покупка', ' ', 'автомобиль', '\\n'], ['покупка', ' ', 'жилье', '\\n'], ['покупка', ' ', 'коммерческий', ' ', 'недвижимость', '\\n'], ['покупка', ' ', 'свой', ' ', 'жилье', '\\n'], ['дополнительный', ' ', 'образование', '\\n'], ['сыграть', ' ', 'свадьба', '\\n'], ['операция', ' ', 'со', ' ', 'свой', ' ', 'недвижимость', '\\n'], ['жилье', '\\n'], ['покупка', ' ', 'жилье', '\\n'], ['получение', ' ', 'образование', '\\n'], ['образование', '\\n'], ['операция', ' ', 'с', ' ', 'недвижимость', '\\n'], ['покупка', ' ', 'коммерческий', ' ', 'недвижимость', '\\n'], ['покупка', ' ', 'жилье', '\\n'], ['строительство', ' ', 'собственный', ' ', 'недвижимость', '\\n'], ['свадьба', '\\n'], ['свой', ' ', 'автомобиль', '\\n'], ['получение', ' ', 'дополнительный', ' ', 'образование', '\\n'], ['покупка', ' ', 'жилой', ' ', 'недвижимость', '\\n'], ['жилье', '\\n'], ['сделка', ' ', 'с', ' ', 'подержанный', ' ', 'автомобиль', '\\n'], ['строительство', ' ', 'собственный', ' ', 'недвижимость', '\\n'], ['покупка', ' ', 'жилье', ' ', 'для', ' ', 'семья', '\\n'], ['дополнительный', ' ', 'образование', '\\n'], ['операция', ' ', 'с', ' ', 'коммерческий', ' ', 'недвижимость', '\\n'], ['покупка', ' ', 'свой', ' ', 'жилье', '\\n'], ['сыграть', ' ', 'свадьба', '\\n'], ['заниматься', ' ', 'образование', '\\n'], ['покупка', ' ', 'недвижимость', '\\n'], ['сыграть', ' ', 'свадьба', '\\n'], ['получение', ' ', 'высокий', ' ', 'образование', '\\n'], ['операция', ' ', 'с', ' ', 'недвижимость', '\\n'], ['автомобиль', '\\n'], ['сыграть', ' ', 'свадьба', '\\n'], ['образование', '\\n'], ['ремонт', ' ', 'жилье', '\\n'], ['сделка', ' ', 'с', ' ', 'подержанный', ' ', 'автомобиль', '\\n'], ['строительство', ' ', 'жилой', ' ', 'недвижимость', '\\n'], ['ремонт', ' ', 'жилье', '\\n'], ['покупка', ' ', 'коммерческий', ' ', 'недвижимость', '\\n'], ['покупка', ' ', 'коммерческий', ' ', 'недвижимость', '\\n'], ['покупка', ' ', 'недвижимость', '\\n'], ['свой', ' ', 'автомобиль', '\\n'], ['автомобиль', '\\n'], ['строительство', ' ', 'жилой', ' ', 'недвижимость', '\\n'], ['автомобиль', '\\n'], ['заниматься', ' ', 'высокий', ' ', 'образование', '\\n'], ['получение', ' ', 'образование', '\\n'], ['автомобиль', '\\n'], ['высокий', ' ', 'образование', '\\n'], ['покупка', ' ', 'жилье', ' ', 'для', ' ', 'семья', '\\n'], ['сыграть', ' ', 'свадьба', '\\n'], ['операция', ' ', 'с', ' ', 'жилье', '\\n'], ['профильный', ' ', 'образование', '\\n'], ['операция', ' ', 'с', ' ', 'жилье', '\\n'], ['строительство', ' ', 'жилой', ' ', 'недвижимость', '\\n'], ['покупка', ' ', 'жилой', ' ', 'недвижимость', '\\n'], ['операция', ' ', 'с', ' ', 'жилье', '\\n'], ['операция', ' ', 'со', ' ', 'свой', ' ', 'недвижимость', '\\n'], ['покупка', ' ', 'жилье', ' ', 'для', ' ', 'сдача', '\\n'], ['заниматься', ' ', 'образование', '\\n'], ['получение', ' ', 'высокий', ' ', 'образование', '\\n'], ['строительство', ' ', 'недвижимость', '\\n'], ['недвижимость', '\\n'], ['автомобиль', '\\n'], ['операция', ' ', 'с', ' ', 'недвижимость', '\\n'], ['получение', ' ', 'образование', '\\n'], ['дополнительный', ' ', 'образование', '\\n'], ['дополнительный', ' ', 'образование', '\\n'], ['на', ' ', 'проведение', ' ', 'свадьба', '\\n'], ['на', ' ', 'проведение', ' ', 'свадьба', '\\n'], ['покупка', ' ', 'жилой', ' ', 'недвижимость', '\\n'], ['на', ' ', 'покупка', ' ', 'подержать', ' ', 'автомобиль', '\\n'], ['строительство', ' ', 'собственный', ' ', 'недвижимость', '\\n'], ['покупка', ' ', 'жилье', ' ', 'для', ' ', 'семья', '\\n'], ['сделка', ' ', 'с', ' ', 'автомобиль', '\\n'], ['недвижимость', '\\n'], ['строительство', ' ', 'недвижимость', '\\n'], ['свой', ' ', 'автомобиль', '\\n'], ['автомобиль', '\\n'], ['ремонт', ' ', 'жилье', '\\n'], ['строительство', ' ', 'недвижимость', '\\n'], ['недвижимость', '\\n'], ['операция', ' ', 'с', ' ', 'жилье', '\\n'], ['операция', ' ', 'с', ' ', 'недвижимость', '\\n'], ['сделка', ' ', 'с', ' ', 'автомобиль', '\\n'], ['ремонт', ' ', 'жилье', '\\n'], ['высокий', ' ', 'образование', '\\n'], ['строительство', ' ', 'жилой', ' ', 'недвижимость', '\\n'], ['покупка', ' ', 'жилой', ' ', 'недвижимость', '\\n'], ['покупка', ' ', 'коммерческий', ' ', 'недвижимость', '\\n'], ['получение', ' ', 'высокий', ' ', 'образование', '\\n'], ['операция', ' ', 'с', ' ', 'жилье', '\\n'], ['покупка', ' ', 'недвижимость', '\\n'], ['автомобиль', '\\n'], ['покупка', ' ', 'свой', ' ', 'жилье', '\\n'], ['заниматься', ' ', 'высокий', ' ', 'образование', '\\n'], ['покупка', ' ', 'коммерческий', ' ', 'недвижимость', '\\n'], ['сыграть', ' ', 'свадьба', '\\n'], ['на', ' ', 'проведение', ' ', 'свадьба', '\\n'], ['жилье', '\\n'], ['сделка', ' ', 'с', ' ', 'подержанный', ' ', 'автомобиль', '\\n'], ['ремонт', ' ', 'жилье', '\\n'], ['приобретение', ' ', 'автомобиль', '\\n'], ['сыграть', ' ', 'свадьба', '\\n'], ['профильный', ' ', 'образование', '\\n'], ['на', ' ', 'проведение', ' ', 'свадьба', '\\n'], ['автомобиль', '\\n'], ['жилье', '\\n'], ['покупка', ' ', 'свой', ' ', 'жилье', '\\n'], ['получение', ' ', 'образование', '\\n'], ['приобретение', ' ', 'автомобиль', '\\n'], ['сделка', ' ', 'с', ' ', 'автомобиль', '\\n'], ['получение', ' ', 'дополнительный', ' ', 'образование', '\\n'], ['покупка', ' ', 'жилье', ' ', 'для', ' ', 'семья', '\\n'], ['свадьба', '\\n'], ['покупка', ' ', 'недвижимость', '\\n'], ['свадьба', '\\n'], ['свадьба', '\\n'], ['образование', '\\n'], ['покупка', ' ', 'свой', ' ', 'жилье', '\\n'], ['ремонт', ' ', 'жилье', '\\n'], ['дополнительный', ' ', 'образование', '\\n'], ['заниматься', ' ', 'высокий', ' ', 'образование', '\\n'], ['сделка', ' ', 'с', ' ', 'подержанный', ' ', 'автомобиль', '\\n'], ['заниматься', ' ', 'образование', '\\n'], ['свой', ' ', 'автомобиль', '\\n'], ['автомобиль', '\\n'], ['строительство', ' ', 'недвижимость', '\\n'], ['покупка', ' ', 'недвижимость', '\\n'], ['покупка', ' ', 'жилой', ' ', 'недвижимость', '\\n'], ['на', ' ', 'покупка', ' ', 'свой', ' ', 'автомобиль', '\\n'], ['операция', ' ', 'с', ' ', 'недвижимость', '\\n'], ['строительство', ' ', 'недвижимость', '\\n'], ['автомобиль', '\\n'], ['на', ' ', 'покупка', ' ', 'автомобиль', '\\n'], ['сыграть', ' ', 'свадьба', '\\n'], ['покупка', ' ', 'коммерческий', ' ', 'недвижимость', '\\n'], ['операция', ' ', 'с', ' ', 'коммерческий', ' ', 'недвижимость', '\\n'], ['получение', ' ', 'дополнительный', ' ', 'образование', '\\n'], ['свой', ' ', 'автомобиль', '\\n'], ['покупка', ' ', 'жилой', ' ', 'недвижимость', '\\n'], ['получение', ' ', 'высокий', ' ', 'образование', '\\n'], ['сыграть', ' ', 'свадьба', '\\n'], ['операция', ' ', 'с', ' ', 'жилье', '\\n'], ['покупка', ' ', 'коммерческий', ' ', 'недвижимость', '\\n'], ['недвижимость', '\\n'], ['профильный', ' ', 'образование', '\\n'], ['на', ' ', 'покупка', ' ', 'свой', ' ', 'автомобиль', '\\n'], ['операция', ' ', 'с', ' ', 'коммерческий', ' ', 'недвижимость', '\\n'], ['операция', ' ', 'с', ' ', 'коммерческий', ' ', 'недвижимость', '\\n'], ['операция', ' ', 'с', ' ', 'недвижимость', '\\n'], ['высокий', ' ', 'образование', '\\n'], ['строительство', ' ', 'собственный', ' ', 'недвижимость', '\\n'], ['сделка', ' ', 'с', ' ', 'подержанный', ' ', 'автомобиль', '\\n'], ['сделка', ' ', 'с', ' ', 'автомобиль', '\\n'], ['жилье', '\\n'], ['на', ' ', 'проведение', ' ', 'свадьба', '\\n'], ['операция', ' ', 'со', ' ', 'свой', ' ', 'недвижимость', '\\n'], ['строительство', ' ', 'жилой', ' ', 'недвижимость', '\\n'], ['заниматься', ' ', 'высокий', ' ', 'образование', '\\n'], ['покупка', ' ', 'жилье', '\\n'], ['получение', ' ', 'дополнительный', ' ', 'образование', '\\n'], ['покупка', ' ', 'свой', ' ', 'жилье', '\\n'], ['строительство', ' ', 'жилой', ' ', 'недвижимость', '\\n'], ['ремонт', ' ', 'жилье', '\\n'], ['покупка', ' ', 'жилье', '\\n'], ['покупка', ' ', 'жилье', '\\n'], ['операция', ' ', 'с', ' ', 'жилье', '\\n'], ['операция', ' ', 'со', ' ', 'свой', ' ', 'недвижимость', '\\n'], ['приобретение', ' ', 'автомобиль', '\\n'], ['операция', ' ', 'с', ' ', 'коммерческий', ' ', 'недвижимость', '\\n'], ['дополнительный', ' ', 'образование', '\\n'], ['операция', ' ', 'с', ' ', 'жилье', '\\n'], ['заниматься', ' ', 'образование', '\\n'], ['покупка', ' ', 'жилье', '\\n'], ['операция', ' ', 'с', ' ', 'жилье', '\\n'], ['строительство', ' ', 'собственный', ' ', 'недвижимость', '\\n'], ['сыграть', ' ', 'свадьба', '\\n'], ['образование', '\\n'], ['операция', ' ', 'с', ' ', 'жилье', '\\n'], ['заниматься', ' ', 'высокий', ' ', 'образование', '\\n'], ['заниматься', ' ', 'образование', '\\n'], ['сделка', ' ', 'с', ' ', 'автомобиль', '\\n'], ['строительство', ' ', 'недвижимость', '\\n'], ['покупка', ' ', 'недвижимость', '\\n'], ['строительство', ' ', 'жилой', ' ', 'недвижимость', '\\n'], ['на', ' ', 'проведение', ' ', 'свадьба', '\\n'], ['покупка', ' ', 'жилье', ' ', 'для', ' ', 'семья', '\\n'], ['ремонт', ' ', 'жилье', '\\n'], ['сделка', ' ', 'с', ' ', 'автомобиль', '\\n'], ['на', ' ', 'проведение', ' ', 'свадьба', '\\n'], ['дополнительный', ' ', 'образование', '\\n'], ['строительство', ' ', 'недвижимость', '\\n'], ['высокий', ' ', 'образование', '\\n'], ['покупка', ' ', 'недвижимость', '\\n'], ['высокий', ' ', 'образование', '\\n'], ['сделка', ' ', 'с', ' ', 'подержанный', ' ', 'автомобиль', '\\n'], ['жилье', '\\n'], ['строительство', ' ', 'жилой', ' ', 'недвижимость', '\\n'], ['заниматься', ' ', 'высокий', ' ', 'образование', '\\n'], ['получение', ' ', 'высокий', ' ', 'образование', '\\n'], ['покупка', ' ', 'свой', ' ', 'жилье', '\\n'], ['свадьба', '\\n'], ['автомобиль', '\\n'], ['автомобиль', '\\n'], ['покупка', ' ', 'недвижимость', '\\n'], ['покупка', ' ', 'жилье', ' ', 'для', ' ', 'семья', '\\n'], ['покупка', ' ', 'недвижимость', '\\n'], ['операция', ' ', 'со', ' ', 'свой', ' ', 'недвижимость', '\\n'], ['на', ' ', 'проведение', ' ', 'свадьба', '\\n'], ['операция', ' ', 'с', ' ', 'жилье', '\\n'], ['недвижимость', '\\n'], ['сделка', ' ', 'с', ' ', 'подержанный', ' ', 'автомобиль', '\\n'], ['на', ' ', 'проведение', ' ', 'свадьба', '\\n'], ['на', ' ', 'покупка', ' ', 'подержать', ' ', 'автомобиль', '\\n'], ['покупка', ' ', 'жилой', ' ', 'недвижимость', '\\n'], ['строительство', ' ', 'недвижимость', '\\n'], ['автомобиль', '\\n'], ['покупка', ' ', 'жилье', ' ', 'для', ' ', 'семья', '\\n'], ['сыграть', ' ', 'свадьба', '\\n'], ['операция', ' ', 'с', ' ', 'недвижимость', '\\n'], ['операция', ' ', 'с', ' ', 'жилье', '\\n'], ['сделка', ' ', 'с', ' ', 'автомобиль', '\\n'], ['дополнительный', ' ', 'образование', '\\n'], ['свой', ' ', 'автомобиль', '\\n'], ['покупка', ' ', 'недвижимость', '\\n'], ['строительство', ' ', 'жилой', ' ', 'недвижимость', '\\n'], ['недвижимость', '\\n'], ['строительство', ' ', 'жилой', ' ', 'недвижимость', '\\n'], ['на', ' ', 'покупка', ' ', 'подержать', ' ', 'автомобиль', '\\n'], ['свадьба', '\\n'], ['сыграть', ' ', 'свадьба', '\\n'], ['операция', ' ', 'с', ' ', 'жилье', '\\n'], ['заниматься', ' ', 'высокий', ' ', 'образование', '\\n'], ['покупка', ' ', 'жилье', ' ', 'для', ' ', 'семья', '\\n'], ['строительство', ' ', 'собственный', ' ', 'недвижимость', '\\n'], ['строительство', ' ', 'жилой', ' ', 'недвижимость', '\\n'], ['приобретение', ' ', 'автомобиль', '\\n'], ['жилье', '\\n'], ['ремонт', ' ', 'жилье', '\\n'], ['покупка', ' ', 'жилье', ' ', 'для', ' ', 'сдача', '\\n'], ['покупка', ' ', 'коммерческий', ' ', 'недвижимость', '\\n'], ['строительство', ' ', 'жилой', ' ', 'недвижимость', '\\n'], ['операция', ' ', 'со', ' ', 'свой', ' ', 'недвижимость', '\\n'], ['операция', ' ', 'с', ' ', 'недвижимость', '\\n'], ['сыграть', ' ', 'свадьба', '\\n'], ['дополнительный', ' ', 'образование', '\\n'], ['сделка', ' ', 'с', ' ', 'подержанный', ' ', 'автомобиль', '\\n'], ['операция', ' ', 'с', ' ', 'коммерческий', ' ', 'недвижимость', '\\n'], ['свадьба', '\\n'], ['дополнительный', ' ', 'образование', '\\n'], ['автомобиль', '\\n'], ['заниматься', ' ', 'высокий', ' ', 'образование', '\\n'], ['свадьба', '\\n'], ['операция', ' ', 'со', ' ', 'свой', ' ', 'недвижимость', '\\n'], ['сделка', ' ', 'с', ' ', 'автомобиль', '\\n'], ['строительство', ' ', 'жилой', ' ', 'недвижимость', '\\n'], ['образование', '\\n'], ['ремонт', ' ', 'жилье', '\\n'], ['покупка', ' ', 'коммерческий', ' ', 'недвижимость', '\\n'], ['автомобиль', '\\n'], ['сделка', ' ', 'с', ' ', 'автомобиль', '\\n'], ['строительство', ' ', 'жилой', ' ', 'недвижимость', '\\n'], ['заниматься', ' ', 'высокий', ' ', 'образование', '\\n'], ['образование', '\\n'], ['покупка', ' ', 'недвижимость', '\\n'], ['строительство', ' ', 'недвижимость', '\\n'], ['строительство', ' ', 'жилой', ' ', 'недвижимость', '\\n'], ['строительство', ' ', 'жилой', ' ', 'недвижимость', '\\n'], ['операция', ' ', 'со', ' ', 'свой', ' ', 'недвижимость', '\\n'], ['заниматься', ' ', 'образование', '\\n'], ['свой', ' ', 'автомобиль', '\\n'], ['высокий', ' ', 'образование', '\\n'], ['образование', '\\n'], ['дополнительный', ' ', 'образование', '\\n'], ['получение', ' ', 'высокий', ' ', 'образование', '\\n'], ['покупка', ' ', 'жилье', '\\n'], ['покупка', ' ', 'недвижимость', '\\n'], ['приобретение', ' ', 'автомобиль', '\\n'], ['свой', ' ', 'автомобиль', '\\n'], ['автомобиль', '\\n'], ['строительство', ' ', 'жилой', ' ', 'недвижимость', '\\n'], ['образование', '\\n'], ['на', ' ', 'проведение', ' ', 'свадьба', '\\n'], ['автомобиль', '\\n'], ['получение', ' ', 'дополнительный', ' ', 'образование', '\\n'], ['покупка', ' ', 'жилой', ' ', 'недвижимость', '\\n'], ['свадьба', '\\n'], ['автомобиль', '\\n'], ['получение', ' ', 'высокий', ' ', 'образование', '\\n'], ['на', ' ', 'проведение', ' ', 'свадьба', '\\n'], ['жилье', '\\n'], ['заниматься', ' ', 'образование', '\\n'], ['получение', ' ', 'высокий', ' ', 'образование', '\\n'], ['свадьба', '\\n'], ['высокий', ' ', 'образование', '\\n'], ['строительство', ' ', 'жилой', ' ', 'недвижимость', '\\n'], ['недвижимость', '\\n'], ['ремонт', ' ', 'жилье', '\\n'], ['образование', '\\n'], ['профильный', ' ', 'образование', '\\n'], ['автомобиль', '\\n'], ['операция', ' ', 'со', ' ', 'свой', ' ', 'недвижимость', '\\n'], ['покупка', ' ', 'жилье', '\\n'], ['покупка', ' ', 'недвижимость', '\\n'], ['покупка', ' ', 'свой', ' ', 'жилье', '\\n'], ['операция', ' ', 'с', ' ', 'недвижимость', '\\n'], ['недвижимость', '\\n'], ['профильный', ' ', 'образование', '\\n'], ['автомобиль', '\\n'], ['автомобиль', '\\n'], ['высокий', ' ', 'образование', '\\n'], ['приобретение', ' ', 'автомобиль', '\\n'], ['приобретение', ' ', 'автомобиль', '\\n'], ['сыграть', ' ', 'свадьба', '\\n'], ['свадьба', '\\n'], ['строительство', ' ', 'жилой', ' ', 'недвижимость', '\\n'], ['покупка', ' ', 'жилье', ' ', 'для', ' ', 'сдача', '\\n'], ['операция', ' ', 'со', ' ', 'свой', ' ', 'недвижимость', '\\n'], ['операция', ' ', 'с', ' ', 'жилье', '\\n'], ['получение', ' ', 'дополнительный', ' ', 'образование', '\\n'], ['покупка', ' ', 'жилье', ' ', 'для', ' ', 'сдача', '\\n'], ['на', ' ', 'покупка', ' ', 'подержать', ' ', 'автомобиль', '\\n'], ['дополнительный', ' ', 'образование', '\\n'], ['операция', ' ', 'с', ' ', 'жилье', '\\n'], ['операция', ' ', 'с', ' ', 'жилье', '\\n'], ['на', ' ', 'проведение', ' ', 'свадьба', '\\n'], ['операция', ' ', 'с', ' ', 'жилье', '\\n'], ['ремонт', ' ', 'жилье', '\\n'], ['сыграть', ' ', 'свадьба', '\\n'], ['покупка', ' ', 'коммерческий', ' ', 'недвижимость', '\\n'], ['операция', ' ', 'со', ' ', 'свой', ' ', 'недвижимость', '\\n'], ['высокий', ' ', 'образование', '\\n'], ['свадьба', '\\n'], ['операция', ' ', 'с', ' ', 'коммерческий', ' ', 'недвижимость', '\\n'], ['автомобиль', '\\n'], ['строительство', ' ', 'собственный', ' ', 'недвижимость', '\\n'], ['покупка', ' ', 'коммерческий', ' ', 'недвижимость', '\\n'], ['операция', ' ', 'с', ' ', 'коммерческий', ' ', 'недвижимость', '\\n'], ['сделка', ' ', 'с', ' ', 'подержанный', ' ', 'автомобиль', '\\n'], ['операция', ' ', 'с', ' ', 'коммерческий', ' ', 'недвижимость', '\\n'], ['операция', ' ', 'с', ' ', 'недвижимость', '\\n'], ['строительство', ' ', 'собственный', ' ', 'недвижимость', '\\n'], ['свой', ' ', 'автомобиль', '\\n'], ['свой', ' ', 'автомобиль', '\\n'], ['покупка', ' ', 'жилье', ' ', 'для', ' ', 'семья', '\\n'], ['строительство', ' ', 'собственный', ' ', 'недвижимость', '\\n'], ['на', ' ', 'проведение', ' ', 'свадьба', '\\n'], ['сыграть', ' ', 'свадьба', '\\n'], ['операция', ' ', 'с', ' ', 'жилье', '\\n'], ['покупка', ' ', 'недвижимость', '\\n'], ['сыграть', ' ', 'свадьба', '\\n'], ['на', ' ', 'покупка', ' ', 'автомобиль', '\\n'], ['образование', '\\n'], ['жилье', '\\n'], ['свадьба', '\\n'], ['ремонт', ' ', 'жилье', '\\n'], ['покупка', ' ', 'недвижимость', '\\n'], ['недвижимость', '\\n'], ['на', ' ', 'покупка', ' ', 'подержать', ' ', 'автомобиль', '\\n'], ['строительство', ' ', 'жилой', ' ', 'недвижимость', '\\n'], ['покупка', ' ', 'жилье', ' ', 'для', ' ', 'сдача', '\\n'], ['покупка', ' ', 'жилье', ' ', 'для', ' ', 'сдача', '\\n'], ['покупка', ' ', 'жилье', '\\n'], ['высокий', ' ', 'образование', '\\n'], ['сыграть', ' ', 'свадьба', '\\n'], ['ремонт', ' ', 'жилье', '\\n'], ['строительство', ' ', 'собственный', ' ', 'недвижимость', '\\n'], ['покупка', ' ', 'жилье', ' ', 'для', ' ', 'сдача', '\\n'], ['недвижимость', '\\n'], ['сделка', ' ', 'с', ' ', 'подержанный', ' ', 'автомобиль', '\\n'], ['строительство', ' ', 'собственный', ' ', 'недвижимость', '\\n'], ['заниматься', ' ', 'высокий', ' ', 'образование', '\\n'], ['покупка', ' ', 'свой', ' ', 'жилье', '\\n'], ['жилье', '\\n'], ['свой', ' ', 'автомобиль', '\\n'], ['на', ' ', 'покупка', ' ', 'автомобиль', '\\n'], ['автомобиль', '\\n'], ['недвижимость', '\\n'], ['на', ' ', 'проведение', ' ', 'свадьба', '\\n'], ['покупка', ' ', 'жилой', ' ', 'недвижимость', '\\n'], ['покупка', ' ', 'коммерческий', ' ', 'недвижимость', '\\n'], ['недвижимость', '\\n'], ['покупка', ' ', 'жилье', '\\n'], ['покупка', ' ', 'коммерческий', ' ', 'недвижимость', '\\n'], ['высокий', ' ', 'образование', '\\n'], ['на', ' ', 'покупка', ' ', 'автомобиль', '\\n'], ['операция', ' ', 'с', ' ', 'коммерческий', ' ', 'недвижимость', '\\n'], ['на', ' ', 'покупка', ' ', 'подержать', ' ', 'автомобиль', '\\n'], ['строительство', ' ', 'жилой', ' ', 'недвижимость', '\\n'], ['на', ' ', 'покупка', ' ', 'автомобиль', '\\n'], ['операция', ' ', 'с', ' ', 'недвижимость', '\\n'], ['покупка', ' ', 'жилье', '\\n'], ['сыграть', ' ', 'свадьба', '\\n'], ['операция', ' ', 'с', ' ', 'недвижимость', '\\n'], ['автомобиль', '\\n'], ['на', ' ', 'покупка', ' ', 'свой', ' ', 'автомобиль', '\\n'], ['получение', ' ', 'дополнительный', ' ', 'образование', '\\n'], ['автомобиль', '\\n'], ['покупка', ' ', 'жилье', ' ', 'для', ' ', 'семья', '\\n'], ['высокий', ' ', 'образование', '\\n'], ['покупка', ' ', 'недвижимость', '\\n'], ['на', ' ', 'проведение', ' ', 'свадьба', '\\n'], ['свадьба', '\\n'], ['покупка', ' ', 'жилье', '\\n'], ['высокий', ' ', 'образование', '\\n'], ['сыграть', ' ', 'свадьба', '\\n'], ['на', ' ', 'проведение', ' ', 'свадьба', '\\n'], ['на', ' ', 'покупка', ' ', 'свой', ' ', 'автомобиль', '\\n'], ['сделка', ' ', 'с', ' ', 'подержанный', ' ', 'автомобиль', '\\n'], ['покупка', ' ', 'жилье', ' ', 'для', ' ', 'сдача', '\\n'], ['получение', ' ', 'высокий', ' ', 'образование', '\\n'], ['строительство', ' ', 'жилой', ' ', 'недвижимость', '\\n'], ['сыграть', ' ', 'свадьба', '\\n'], ['покупка', ' ', 'коммерческий', ' ', 'недвижимость', '\\n'], ['покупка', ' ', 'недвижимость', '\\n'], ['недвижимость', '\\n'], ['получение', ' ', 'высокий', ' ', 'образование', '\\n'], ['операция', ' ', 'с', ' ', 'коммерческий', ' ', 'недвижимость', '\\n'], ['покупка', ' ', 'коммерческий', ' ', 'недвижимость', '\\n'], ['покупка', ' ', 'недвижимость', '\\n'], ['на', ' ', 'проведение', ' ', 'свадьба', '\\n'], ['сделка', ' ', 'с', ' ', 'подержанный', ' ', 'автомобиль', '\\n'], ['покупка', ' ', 'жилье', '\\n'], ['на', ' ', 'проведение', ' ', 'свадьба', '\\n'], ['покупка', ' ', 'свой', ' ', 'жилье', '\\n'], ['строительство', ' ', 'недвижимость', '\\n'], ['на', ' ', 'покупка', ' ', 'подержать', ' ', 'автомобиль', '\\n'], ['на', ' ', 'покупка', ' ', 'автомобиль', '\\n'], ['автомобиль', '\\n'], ['строительство', ' ', 'недвижимость', '\\n'], ['образование', '\\n'], ['свой', ' ', 'автомобиль', '\\n'], ['покупка', ' ', 'жилье', ' ', 'для', ' ', 'семья', '\\n'], ['сделка', ' ', 'с', ' ', 'автомобиль', '\\n'], ['заниматься', ' ', 'образование', '\\n'], ['недвижимость', '\\n'], ['операция', ' ', 'с', ' ', 'коммерческий', ' ', 'недвижимость', '\\n'], ['на', ' ', 'покупка', ' ', 'свой', ' ', 'автомобиль', '\\n'], ['строительство', ' ', 'жилой', ' ', 'недвижимость', '\\n'], ['строительство', ' ', 'недвижимость', '\\n'], ['операция', ' ', 'со', ' ', 'свой', ' ', 'недвижимость', '\\n'], ['покупка', ' ', 'жилой', ' ', 'недвижимость', '\\n'], ['покупка', ' ', 'жилье', ' ', 'для', ' ', 'сдача', '\\n'], ['сделка', ' ', 'с', ' ', 'подержанный', ' ', 'автомобиль', '\\n'], ['на', ' ', 'проведение', ' ', 'свадьба', '\\n'], ['сделка', ' ', 'с', ' ', 'автомобиль', '\\n'], ['строительство', ' ', 'жилой', ' ', 'недвижимость', '\\n'], ['автомобиль', '\\n'], ['на', ' ', 'покупка', ' ', 'подержать', ' ', 'автомобиль', '\\n'], ['на', ' ', 'проведение', ' ', 'свадьба', '\\n'], ['покупка', ' ', 'жилье', '\\n'], ['дополнительный', ' ', 'образование', '\\n'], ['на', ' ', 'покупка', ' ', 'подержать', ' ', 'автомобиль', '\\n'], ['на', ' ', 'проведение', ' ', 'свадьба', '\\n'], ['покупка', ' ', 'жилье', ' ', 'для', ' ', 'семья', '\\n'], ['операция', ' ', 'с', ' ', 'недвижимость', '\\n'], ['жилье', '\\n'], ['дополнительный', ' ', 'образование', '\\n'], ['покупка', ' ', 'жилой', ' ', 'недвижимость', '\\n'], ['покупка', ' ', 'свой', ' ', 'жилье', '\\n'], ['свой', ' ', 'автомобиль', '\\n'], ['автомобиль', '\\n'], ['на', ' ', 'покупка', ' ', 'свой', ' ', 'автомобиль', '\\n'], ['ремонт', ' ', 'жилье', '\\n'], ['свадьба', '\\n'], ['профильный', ' ', 'образование', '\\n'], ['ремонт', ' ', 'жилье', '\\n'], ['строительство', ' ', 'собственный', ' ', 'недвижимость', '\\n'], ['покупка', ' ', 'жилой', ' ', 'недвижимость', '\\n'], ['операция', ' ', 'с', ' ', 'жилье', '\\n'], ['сыграть', ' ', 'свадьба', '\\n'], ['жилье', '\\n'], ['строительство', ' ', 'жилой', ' ', 'недвижимость', '\\n'], ['покупка', ' ', 'недвижимость', '\\n'], ['покупка', ' ', 'жилье', ' ', 'для', ' ', 'семья', '\\n'], ['свадьба', '\\n'], ['приобретение', ' ', 'автомобиль', '\\n'], ['на', ' ', 'проведение', ' ', 'свадьба', '\\n'], ['получение', ' ', 'образование', '\\n'], ['недвижимость', '\\n'], ['покупка', ' ', 'свой', ' ', 'жилье', '\\n'], ['строительство', ' ', 'собственный', ' ', 'недвижимость', '\\n'], ['свадьба', '\\n'], ['покупка', ' ', 'жилье', '\\n'], ['покупка', ' ', 'жилье', '\\n'], ['свой', ' ', 'автомобиль', '\\n'], ['операция', ' ', 'со', ' ', 'свой', ' ', 'недвижимость', '\\n'], ['свой', ' ', 'автомобиль', '\\n'], ['строительство', ' ', 'собственный', ' ', 'недвижимость', '\\n'], ['операция', ' ', 'с', ' ', 'коммерческий', ' ', 'недвижимость', '\\n'], ['получение', ' ', 'дополнительный', ' ', 'образование', '\\n'], ['сделка', ' ', 'с', ' ', 'подержанный', ' ', 'автомобиль', '\\n'], ['сделка', ' ', 'с', ' ', 'автомобиль', '\\n'], ['недвижимость', '\\n'], ['получение', ' ', 'высокий', ' ', 'образование', '\\n'], ['образование', '\\n'], ['сыграть', ' ', 'свадьба', '\\n'], ['свой', ' ', 'автомобиль', '\\n'], ['покупка', ' ', 'недвижимость', '\\n'], ['покупка', ' ', 'недвижимость', '\\n'], ['образование', '\\n'], ['профильный', ' ', 'образование', '\\n'], ['недвижимость', '\\n'], ['операция', ' ', 'с', ' ', 'жилье', '\\n'], ['покупка', ' ', 'жилье', ' ', 'для', ' ', 'сдача', '\\n'], ['строительство', ' ', 'недвижимость', '\\n'], ['операция', ' ', 'с', ' ', 'жилье', '\\n'], ['жилье', '\\n'], ['недвижимость', '\\n'], ['на', ' ', 'покупка', ' ', 'свой', ' ', 'автомобиль', '\\n'], ['получение', ' ', 'образование', '\\n'], ['покупка', ' ', 'свой', ' ', 'жилье', '\\n'], ['недвижимость', '\\n'], ['операция', ' ', 'с', ' ', 'недвижимость', '\\n'], ['профильный', ' ', 'образование', '\\n'], ['покупка', ' ', 'жилой', ' ', 'недвижимость', '\\n'], ['свадьба', '\\n'], ['на', ' ', 'покупка', ' ', 'автомобиль', '\\n'], ['сыграть', ' ', 'свадьба', '\\n'], ['автомобиль', '\\n'], ['строительство', ' ', 'недвижимость', '\\n'], ['покупка', ' ', 'жилье', '\\n'], ['профильный', ' ', 'образование', '\\n'], ['операция', ' ', 'со', ' ', 'свой', ' ', 'недвижимость', '\\n'], ['строительство', ' ', 'собственный', ' ', 'недвижимость', '\\n'], ['покупка', ' ', 'жилье', '\\n'], ['покупка', ' ', 'жилье', '\\n'], ['покупка', ' ', 'свой', ' ', 'жилье', '\\n'], ['строительство', ' ', 'недвижимость', '\\n'], ['покупка', ' ', 'свой', ' ', 'жилье', '\\n'], ['строительство', ' ', 'собственный', ' ', 'недвижимость', '\\n'], ['покупка', ' ', 'жилье', ' ', 'для', ' ', 'сдача', '\\n'], ['на', ' ', 'покупка', ' ', 'автомобиль', '\\n'], ['автомобиль', '\\n'], ['операция', ' ', 'со', ' ', 'свой', ' ', 'недвижимость', '\\n'], ['операция', ' ', 'с', ' ', 'недвижимость', '\\n'], ['на', ' ', 'проведение', ' ', 'свадьба', '\\n'], ['дополнительный', ' ', 'образование', '\\n'], ['на', ' ', 'проведение', ' ', 'свадьба', '\\n'], ['получение', ' ', 'образование', '\\n'], ['операция', ' ', 'со', ' ', 'свой', ' ', 'недвижимость', '\\n'], ['сделка', ' ', 'с', ' ', 'автомобиль', '\\n'], ['образование', '\\n'], ['получение', ' ', 'дополнительный', ' ', 'образование', '\\n'], ['на', ' ', 'покупка', ' ', 'подержать', ' ', 'автомобиль', '\\n'], ['покупка', ' ', 'жилье', '\\n'], ['покупка', ' ', 'коммерческий', ' ', 'недвижимость', '\\n'], ['покупка', ' ', 'жилье', ' ', 'для', ' ', 'сдача', '\\n'], ['покупка', ' ', 'жилой', ' ', 'недвижимость', '\\n'], ['приобретение', ' ', 'автомобиль', '\\n'], ['свой', ' ', 'автомобиль', '\\n'], ['покупка', ' ', 'жилье', '\\n'], ['строительство', ' ', 'недвижимость', '\\n'], ['строительство', ' ', 'собственный', ' ', 'недвижимость', '\\n'], ['на', ' ', 'покупка', ' ', 'подержать', ' ', 'автомобиль', '\\n'], ['автомобиль', '\\n'], ['покупка', ' ', 'жилье', ' ', 'для', ' ', 'семья', '\\n'], ['операция', ' ', 'с', ' ', 'жилье', '\\n'], ['сделка', ' ', 'с', ' ', 'подержанный', ' ', 'автомобиль', '\\n'], ['операция', ' ', 'с', ' ', 'жилье', '\\n'], ['операция', ' ', 'с', ' ', 'коммерческий', ' ', 'недвижимость', '\\n'], ['свой', ' ', 'автомобиль', '\\n'], ['строительство', ' ', 'собственный', ' ', 'недвижимость', '\\n'], ['автомобиль', '\\n'], ['заниматься', ' ', 'высокий', ' ', 'образование', '\\n'], ['покупка', ' ', 'жилье', ' ', 'для', ' ', 'семья', '\\n'], ['получение', ' ', 'образование', '\\n'], ['приобретение', ' ', 'автомобиль', '\\n'], ['на', ' ', 'проведение', ' ', 'свадьба', '\\n'], ['получение', ' ', 'высокий', ' ', 'образование', '\\n'], ['на', ' ', 'проведение', ' ', 'свадьба', '\\n'], ['автомобиль', '\\n'], ['заниматься', ' ', 'образование', '\\n'], ['профильный', ' ', 'образование', '\\n'], ['заниматься', ' ', 'высокий', ' ', 'образование', '\\n'], ['жилье', '\\n'], ['приобретение', ' ', 'автомобиль', '\\n'], ['операция', ' ', 'с', ' ', 'коммерческий', ' ', 'недвижимость', '\\n'], ['операция', ' ', 'с', ' ', 'недвижимость', '\\n'], ['на', ' ', 'покупка', ' ', 'автомобиль', '\\n'], ['операция', ' ', 'с', ' ', 'недвижимость', '\\n'], ['покупка', ' ', 'жилье', ' ', 'для', ' ', 'сдача', '\\n'], ['заниматься', ' ', 'высокий', ' ', 'образование', '\\n'], ['свой', ' ', 'автомобиль', '\\n'], ['покупка', ' ', 'недвижимость', '\\n'], ['дополнительный', ' ', 'образование', '\\n'], ['получение', ' ', 'образование', '\\n'], ['на', ' ', 'покупка', ' ', 'подержать', ' ', 'автомобиль', '\\n'], ['сделка', ' ', 'с', ' ', 'подержанный', ' ', 'автомобиль', '\\n'], ['жилье', '\\n'], ['операция', ' ', 'с', ' ', 'недвижимость', '\\n'], ['приобретение', ' ', 'автомобиль', '\\n'], ['приобретение', ' ', 'автомобиль', '\\n'], ['получение', ' ', 'дополнительный', ' ', 'образование', '\\n'], ['на', ' ', 'покупка', ' ', 'подержать', ' ', 'автомобиль', '\\n'], ['высокий', ' ', 'образование', '\\n'], ['строительство', ' ', 'недвижимость', '\\n'], ['покупка', ' ', 'жилой', ' ', 'недвижимость', '\\n'], ['операция', ' ', 'с', ' ', 'жилье', '\\n'], ['дополнительный', ' ', 'образование', '\\n'], ['операция', ' ', 'с', ' ', 'коммерческий', ' ', 'недвижимость', '\\n'], ['получение', ' ', 'образование', '\\n'], ['автомобиль', '\\n'], ['профильный', ' ', 'образование', '\\n'], ['недвижимость', '\\n'], ['операция', ' ', 'с', ' ', 'недвижимость', '\\n'], ['сыграть', ' ', 'свадьба', '\\n'], ['свой', ' ', 'автомобиль', '\\n'], ['строительство', ' ', 'собственный', ' ', 'недвижимость', '\\n'], ['операция', ' ', 'с', ' ', 'коммерческий', ' ', 'недвижимость', '\\n'], ['покупка', ' ', 'жилье', '\\n'], ['высокий', ' ', 'образование', '\\n'], ['свадьба', '\\n'], ['строительство', ' ', 'собственный', ' ', 'недвижимость', '\\n'], ['операция', ' ', 'с', ' ', 'коммерческий', ' ', 'недвижимость', '\\n'], ['операция', ' ', 'со', ' ', 'свой', ' ', 'недвижимость', '\\n'], ['автомобиль', '\\n'], ['жилье', '\\n'], ['операция', ' ', 'со', ' ', 'свой', ' ', 'недвижимость', '\\n'], ['профильный', ' ', 'образование', '\\n'], ['операция', ' ', 'со', ' ', 'свой', ' ', 'недвижимость', '\\n'], ['операция', ' ', 'с', ' ', 'коммерческий', ' ', 'недвижимость', '\\n'], ['недвижимость', '\\n'], ['покупка', ' ', 'свой', ' ', 'жилье', '\\n'], ['ремонт', ' ', 'жилье', '\\n'], ['автомобиль', '\\n'], ['образование', '\\n'], ['покупка', ' ', 'коммерческий', ' ', 'недвижимость', '\\n'], ['автомобиль', '\\n'], ['на', ' ', 'покупка', ' ', 'подержать', ' ', 'автомобиль', '\\n'], ['покупка', ' ', 'коммерческий', ' ', 'недвижимость', '\\n'], ['покупка', ' ', 'недвижимость', '\\n'], ['автомобиль', '\\n'], ['строительство', ' ', 'собственный', ' ', 'недвижимость', '\\n'], ['заниматься', ' ', 'высокий', ' ', 'образование', '\\n'], ['жилье', '\\n'], ['на', ' ', 'покупка', ' ', 'автомобиль', '\\n'], ['операция', ' ', 'с', ' ', 'недвижимость', '\\n'], ['операция', ' ', 'с', ' ', 'коммерческий', ' ', 'недвижимость', '\\n'], ['строительство', ' ', 'жилой', ' ', 'недвижимость', '\\n'], ['сыграть', ' ', 'свадьба', '\\n'], ['свадьба', '\\n'], ['свадьба', '\\n'], ['сделка', ' ', 'с', ' ', 'автомобиль', '\\n'], ['свадьба', '\\n'], ['автомобиль', '\\n'], ['на', ' ', 'покупка', ' ', 'автомобиль', '\\n'], ['покупка', ' ', 'жилье', '\\n'], ['операция', ' ', 'с', ' ', 'жилье', '\\n'], ['покупка', ' ', 'свой', ' ', 'жилье', '\\n'], ['покупка', ' ', 'жилье', '\\n'], ['покупка', ' ', 'жилье', ' ', 'для', ' ', 'сдача', '\\n'], ['автомобиль', '\\n'], ['покупка', ' ', 'жилой', ' ', 'недвижимость', '\\n'], ['покупка', ' ', 'недвижимость', '\\n'], ['сделка', ' ', 'с', ' ', 'подержанный', ' ', 'автомобиль', '\\n'], ['на', ' ', 'покупка', ' ', 'автомобиль', '\\n'], ['покупка', ' ', 'жилье', ' ', 'для', ' ', 'семья', '\\n'], ['получение', ' ', 'дополнительный', ' ', 'образование', '\\n'], ['автомобиль', '\\n'], ['дополнительный', ' ', 'образование', '\\n'], ['строительство', ' ', 'недвижимость', '\\n'], ['высокий', ' ', 'образование', '\\n'], ['покупка', ' ', 'жилье', ' ', 'для', ' ', 'семья', '\\n'], ['строительство', ' ', 'недвижимость', '\\n'], ['операция', ' ', 'со', ' ', 'свой', ' ', 'недвижимость', '\\n'], ['покупка', ' ', 'жилой', ' ', 'недвижимость', '\\n'], ['автомобиль', '\\n'], ['высокий', ' ', 'образование', '\\n'], ['покупка', ' ', 'жилье', ' ', 'для', ' ', 'сдача', '\\n'], ['заниматься', ' ', 'образование', '\\n'], ['свой', ' ', 'автомобиль', '\\n'], ['строительство', ' ', 'недвижимость', '\\n'], ['строительство', ' ', 'собственный', ' ', 'недвижимость', '\\n'], ['на', ' ', 'покупка', ' ', 'свой', ' ', 'автомобиль', '\\n'], ['покупка', ' ', 'свой', ' ', 'жилье', '\\n'], ['строительство', ' ', 'недвижимость', '\\n'], ['получение', ' ', 'дополнительный', ' ', 'образование', '\\n'], ['получение', ' ', 'дополнительный', ' ', 'образование', '\\n'], ['приобретение', ' ', 'автомобиль', '\\n'], ['покупка', ' ', 'жилье', ' ', 'для', ' ', 'сдача', '\\n'], ['покупка', ' ', 'жилье', ' ', 'для', ' ', 'семья', '\\n'], ['свой', ' ', 'автомобиль', '\\n'], ['операция', ' ', 'с', ' ', 'недвижимость', '\\n'], ['получение', ' ', 'высокий', ' ', 'образование', '\\n'], ['сделка', ' ', 'с', ' ', 'подержанный', ' ', 'автомобиль', '\\n'], ['строительство', ' ', 'собственный', ' ', 'недвижимость', '\\n'], ['свой', ' ', 'автомобиль', '\\n'], ['операция', ' ', 'с', ' ', 'коммерческий', ' ', 'недвижимость', '\\n'], ['сделка', ' ', 'с', ' ', 'автомобиль', '\\n'], ['покупка', ' ', 'жилой', ' ', 'недвижимость', '\\n'], ['строительство', ' ', 'недвижимость', '\\n'], ['операция', ' ', 'с', ' ', 'коммерческий', ' ', 'недвижимость', '\\n'], ['строительство', ' ', 'жилой', ' ', 'недвижимость', '\\n'], ['заниматься', ' ', 'образование', '\\n'], ['образование', '\\n'], ['сыграть', ' ', 'свадьба', '\\n'], ['строительство', ' ', 'собственный', ' ', 'недвижимость', '\\n'], ['покупка', ' ', 'жилье', '\\n'], ['на', ' ', 'покупка', ' ', 'свой', ' ', 'автомобиль', '\\n'], ['приобретение', ' ', 'автомобиль', '\\n'], ['на', ' ', 'покупка', ' ', 'свой', ' ', 'автомобиль', '\\n'], ['покупка', ' ', 'жилой', ' ', 'недвижимость', '\\n'], ['операция', ' ', 'с', ' ', 'недвижимость', '\\n'], ['покупка', ' ', 'жилой', ' ', 'недвижимость', '\\n'], ['строительство', ' ', 'недвижимость', '\\n'], ['операция', ' ', 'со', ' ', 'свой', ' ', 'недвижимость', '\\n'], ['операция', ' ', 'с', ' ', 'коммерческий', ' ', 'недвижимость', '\\n'], ['профильный', ' ', 'образование', '\\n'], ['покупка', ' ', 'свой', ' ', 'жилье', '\\n'], ['покупка', ' ', 'жилье', ' ', 'для', ' ', 'семья', '\\n'], ['приобретение', ' ', 'автомобиль', '\\n'], ['строительство', ' ', 'жилой', ' ', 'недвижимость', '\\n'], ['покупка', ' ', 'жилье', ' ', 'для', ' ', 'семья', '\\n'], ['недвижимость', '\\n'], ['операция', ' ', 'с', ' ', 'жилье', '\\n'], ['покупка', ' ', 'коммерческий', ' ', 'недвижимость', '\\n'], ['строительство', ' ', 'недвижимость', '\\n'], ['недвижимость', '\\n'], ['покупка', ' ', 'жилье', ' ', 'для', ' ', 'семья', '\\n'], ['операция', ' ', 'со', ' ', 'свой', ' ', 'недвижимость', '\\n'], ['на', ' ', 'проведение', ' ', 'свадьба', '\\n'], ['образование', '\\n'], ['автомобиль', '\\n'], ['недвижимость', '\\n'], ['дополнительный', ' ', 'образование', '\\n'], ['ремонт', ' ', 'жилье', '\\n'], ['получение', ' ', 'образование', '\\n'], ['автомобиль', '\\n'], ['операция', ' ', 'с', ' ', 'коммерческий', ' ', 'недвижимость', '\\n'], ['свой', ' ', 'автомобиль', '\\n'], ['ремонт', ' ', 'жилье', '\\n'], ['на', ' ', 'покупка', ' ', 'подержать', ' ', 'автомобиль', '\\n'], ['дополнительный', ' ', 'образование', '\\n'], ['жилье', '\\n'], ['дополнительный', ' ', 'образование', '\\n'], ['сыграть', ' ', 'свадьба', '\\n'], ['недвижимость', '\\n'], ['операция', ' ', 'с', ' ', 'недвижимость', '\\n'], ['сделка', ' ', 'с', ' ', 'автомобиль', '\\n'], ['сделка', ' ', 'с', ' ', 'автомобиль', '\\n']]\n"
     ]
    }
   ],
   "source": [
    "m = Mystem()\n",
    "list_lemmas = []\n",
    "for index in df['purpose']:\n",
    "    lemma = m.lemmatize(index)\n",
    "    list_lemmas.append(lemma)\n",
    "print(list_lemmas)"
   ]
  },
  {
   "cell_type": "markdown",
   "metadata": {},
   "source": [
    "Выделим список с основными категориями.\n",
    "\n",
    "Проверим лемматизацию, заменим полученный список лемм на слово из списка *lem_cat*"
   ]
  },
  {
   "cell_type": "code",
   "execution_count": 29,
   "metadata": {},
   "outputs": [],
   "source": [
    "lem_cat = ['жилье','образование','свадьба','недвижимость','автомобиль']\n",
    "\n",
    "def categoria(text):\n",
    "    lemma = m.lemmatize(text)\n",
    "    for index in lem_cat:\n",
    "        if index in lemma:\n",
    "            lemma = index\n",
    "    return lemma\n"
   ]
  },
  {
   "cell_type": "markdown",
   "metadata": {},
   "source": [
    "Проверим на корректность работы нашу функцию categoria."
   ]
  },
  {
   "cell_type": "code",
   "execution_count": 30,
   "metadata": {},
   "outputs": [
    {
     "name": "stdout",
     "output_type": "stream",
     "text": [
      "жилье\n"
     ]
    }
   ],
   "source": [
    "print(categoria('покупка жилья'))"
   ]
  },
  {
   "cell_type": "markdown",
   "metadata": {},
   "source": [
    "Преобразуем функцию *categoria(text)*\n",
    "\n",
    "Выделим основные категории: *коммерческая недвижимость*, *автомобиль*,*свадьба*, *образование*."
   ]
  },
  {
   "cell_type": "code",
   "execution_count": 31,
   "metadata": {},
   "outputs": [],
   "source": [
    "def categoria(row):\n",
    "    lemma = m.lemmatize(row)\n",
    "    if ('жилье' or 'недвижимость') in lemma:\n",
    "        return 'коммерческая недвижимость'\n",
    "    elif 'автомобиль' in lemma:\n",
    "        return 'автомобиль'\n",
    "    elif 'свадьба' in lemma:\n",
    "        return 'свадьба'\n",
    "    elif 'образование' in lemma:\n",
    "        return 'образование'"
   ]
  },
  {
   "cell_type": "markdown",
   "metadata": {},
   "source": [
    "Далее применим метод *apply()* c нашей функцией *сategoria*  к столбцу *purpose* "
   ]
  },
  {
   "cell_type": "code",
   "execution_count": 32,
   "metadata": {},
   "outputs": [
    {
     "data": {
      "text/html": [
       "<div>\n",
       "<style scoped>\n",
       "    .dataframe tbody tr th:only-of-type {\n",
       "        vertical-align: middle;\n",
       "    }\n",
       "\n",
       "    .dataframe tbody tr th {\n",
       "        vertical-align: top;\n",
       "    }\n",
       "\n",
       "    .dataframe thead th {\n",
       "        text-align: right;\n",
       "    }\n",
       "</style>\n",
       "<table border=\"1\" class=\"dataframe\">\n",
       "  <thead>\n",
       "    <tr style=\"text-align: right;\">\n",
       "      <th></th>\n",
       "      <th>children</th>\n",
       "      <th>days_employed</th>\n",
       "      <th>dob_years</th>\n",
       "      <th>education</th>\n",
       "      <th>education_id</th>\n",
       "      <th>family_status</th>\n",
       "      <th>family_status_id</th>\n",
       "      <th>gender</th>\n",
       "      <th>income_type</th>\n",
       "      <th>debt</th>\n",
       "      <th>total_income</th>\n",
       "      <th>purpose</th>\n",
       "      <th>purpose_group</th>\n",
       "    </tr>\n",
       "  </thead>\n",
       "  <tbody>\n",
       "    <tr>\n",
       "      <td>0</td>\n",
       "      <td>1</td>\n",
       "      <td>8437.0</td>\n",
       "      <td>42</td>\n",
       "      <td>высшее</td>\n",
       "      <td>0</td>\n",
       "      <td>женат / замужем</td>\n",
       "      <td>0</td>\n",
       "      <td>F</td>\n",
       "      <td>сотрудник</td>\n",
       "      <td>0</td>\n",
       "      <td>253875.0</td>\n",
       "      <td>покупка жилья</td>\n",
       "      <td>коммерческая недвижимость</td>\n",
       "    </tr>\n",
       "    <tr>\n",
       "      <td>1</td>\n",
       "      <td>1</td>\n",
       "      <td>4024.0</td>\n",
       "      <td>36</td>\n",
       "      <td>среднее</td>\n",
       "      <td>1</td>\n",
       "      <td>женат / замужем</td>\n",
       "      <td>0</td>\n",
       "      <td>F</td>\n",
       "      <td>сотрудник</td>\n",
       "      <td>0</td>\n",
       "      <td>112080.0</td>\n",
       "      <td>приобретение автомобиля</td>\n",
       "      <td>автомобиль</td>\n",
       "    </tr>\n",
       "    <tr>\n",
       "      <td>2</td>\n",
       "      <td>0</td>\n",
       "      <td>5623.0</td>\n",
       "      <td>33</td>\n",
       "      <td>среднее</td>\n",
       "      <td>1</td>\n",
       "      <td>женат / замужем</td>\n",
       "      <td>0</td>\n",
       "      <td>M</td>\n",
       "      <td>сотрудник</td>\n",
       "      <td>0</td>\n",
       "      <td>145885.0</td>\n",
       "      <td>покупка жилья</td>\n",
       "      <td>коммерческая недвижимость</td>\n",
       "    </tr>\n",
       "    <tr>\n",
       "      <td>3</td>\n",
       "      <td>3</td>\n",
       "      <td>4124.0</td>\n",
       "      <td>32</td>\n",
       "      <td>среднее</td>\n",
       "      <td>1</td>\n",
       "      <td>женат / замужем</td>\n",
       "      <td>0</td>\n",
       "      <td>M</td>\n",
       "      <td>сотрудник</td>\n",
       "      <td>0</td>\n",
       "      <td>267628.0</td>\n",
       "      <td>дополнительное образование</td>\n",
       "      <td>образование</td>\n",
       "    </tr>\n",
       "    <tr>\n",
       "      <td>4</td>\n",
       "      <td>0</td>\n",
       "      <td>340266.0</td>\n",
       "      <td>53</td>\n",
       "      <td>среднее</td>\n",
       "      <td>1</td>\n",
       "      <td>гражданский брак</td>\n",
       "      <td>1</td>\n",
       "      <td>F</td>\n",
       "      <td>пенсионер</td>\n",
       "      <td>0</td>\n",
       "      <td>158616.0</td>\n",
       "      <td>сыграть свадьбу</td>\n",
       "      <td>свадьба</td>\n",
       "    </tr>\n",
       "    <tr>\n",
       "      <td>5</td>\n",
       "      <td>0</td>\n",
       "      <td>926.0</td>\n",
       "      <td>27</td>\n",
       "      <td>высшее</td>\n",
       "      <td>0</td>\n",
       "      <td>гражданский брак</td>\n",
       "      <td>1</td>\n",
       "      <td>M</td>\n",
       "      <td>компаньон</td>\n",
       "      <td>0</td>\n",
       "      <td>255763.0</td>\n",
       "      <td>покупка жилья</td>\n",
       "      <td>коммерческая недвижимость</td>\n",
       "    </tr>\n",
       "    <tr>\n",
       "      <td>6</td>\n",
       "      <td>0</td>\n",
       "      <td>2879.0</td>\n",
       "      <td>43</td>\n",
       "      <td>высшее</td>\n",
       "      <td>0</td>\n",
       "      <td>женат / замужем</td>\n",
       "      <td>0</td>\n",
       "      <td>F</td>\n",
       "      <td>компаньон</td>\n",
       "      <td>0</td>\n",
       "      <td>240525.0</td>\n",
       "      <td>операции с жильем</td>\n",
       "      <td>коммерческая недвижимость</td>\n",
       "    </tr>\n",
       "    <tr>\n",
       "      <td>7</td>\n",
       "      <td>0</td>\n",
       "      <td>152.0</td>\n",
       "      <td>50</td>\n",
       "      <td>среднее</td>\n",
       "      <td>1</td>\n",
       "      <td>женат / замужем</td>\n",
       "      <td>0</td>\n",
       "      <td>M</td>\n",
       "      <td>сотрудник</td>\n",
       "      <td>0</td>\n",
       "      <td>135823.0</td>\n",
       "      <td>образование</td>\n",
       "      <td>образование</td>\n",
       "    </tr>\n",
       "    <tr>\n",
       "      <td>8</td>\n",
       "      <td>2</td>\n",
       "      <td>6929.0</td>\n",
       "      <td>35</td>\n",
       "      <td>высшее</td>\n",
       "      <td>0</td>\n",
       "      <td>гражданский брак</td>\n",
       "      <td>1</td>\n",
       "      <td>F</td>\n",
       "      <td>сотрудник</td>\n",
       "      <td>0</td>\n",
       "      <td>95856.0</td>\n",
       "      <td>на проведение свадьбы</td>\n",
       "      <td>свадьба</td>\n",
       "    </tr>\n",
       "    <tr>\n",
       "      <td>9</td>\n",
       "      <td>0</td>\n",
       "      <td>2188.0</td>\n",
       "      <td>41</td>\n",
       "      <td>среднее</td>\n",
       "      <td>1</td>\n",
       "      <td>женат / замужем</td>\n",
       "      <td>0</td>\n",
       "      <td>M</td>\n",
       "      <td>сотрудник</td>\n",
       "      <td>0</td>\n",
       "      <td>144425.0</td>\n",
       "      <td>покупка жилья для семьи</td>\n",
       "      <td>коммерческая недвижимость</td>\n",
       "    </tr>\n",
       "  </tbody>\n",
       "</table>\n",
       "</div>"
      ],
      "text/plain": [
       "   children  days_employed  dob_years education  education_id  \\\n",
       "0         1         8437.0         42    высшее             0   \n",
       "1         1         4024.0         36   среднее             1   \n",
       "2         0         5623.0         33   среднее             1   \n",
       "3         3         4124.0         32   среднее             1   \n",
       "4         0       340266.0         53   среднее             1   \n",
       "5         0          926.0         27    высшее             0   \n",
       "6         0         2879.0         43    высшее             0   \n",
       "7         0          152.0         50   среднее             1   \n",
       "8         2         6929.0         35    высшее             0   \n",
       "9         0         2188.0         41   среднее             1   \n",
       "\n",
       "      family_status  family_status_id gender income_type  debt  total_income  \\\n",
       "0   женат / замужем                 0      F   сотрудник     0      253875.0   \n",
       "1   женат / замужем                 0      F   сотрудник     0      112080.0   \n",
       "2   женат / замужем                 0      M   сотрудник     0      145885.0   \n",
       "3   женат / замужем                 0      M   сотрудник     0      267628.0   \n",
       "4  гражданский брак                 1      F   пенсионер     0      158616.0   \n",
       "5  гражданский брак                 1      M   компаньон     0      255763.0   \n",
       "6   женат / замужем                 0      F   компаньон     0      240525.0   \n",
       "7   женат / замужем                 0      M   сотрудник     0      135823.0   \n",
       "8  гражданский брак                 1      F   сотрудник     0       95856.0   \n",
       "9   женат / замужем                 0      M   сотрудник     0      144425.0   \n",
       "\n",
       "                      purpose              purpose_group  \n",
       "0               покупка жилья  коммерческая недвижимость  \n",
       "1     приобретение автомобиля                 автомобиль  \n",
       "2               покупка жилья  коммерческая недвижимость  \n",
       "3  дополнительное образование                образование  \n",
       "4             сыграть свадьбу                    свадьба  \n",
       "5               покупка жилья  коммерческая недвижимость  \n",
       "6           операции с жильем  коммерческая недвижимость  \n",
       "7                 образование                образование  \n",
       "8       на проведение свадьбы                    свадьба  \n",
       "9     покупка жилья для семьи  коммерческая недвижимость  "
      ]
     },
     "execution_count": 32,
     "metadata": {},
     "output_type": "execute_result"
    }
   ],
   "source": [
    "df['purpose_group']=df['purpose'].apply(categoria)\n",
    "df.head(10)"
   ]
  },
  {
   "cell_type": "markdown",
   "metadata": {},
   "source": [
    "**Вывод**"
   ]
  },
  {
   "cell_type": "markdown",
   "metadata": {},
   "source": [
    "Лемматизация целей кредита произведена , в дальнейшем она приходится нам в категоризации данных."
   ]
  },
  {
   "cell_type": "markdown",
   "metadata": {},
   "source": [
    "### Категоризация данных"
   ]
  },
  {
   "cell_type": "markdown",
   "metadata": {},
   "source": [
    "Категоризация по целям была проведена ранее при помощи лемматизации.\n",
    "Сгруппируем по типу и количеству цели.\n"
   ]
  },
  {
   "cell_type": "code",
   "execution_count": 33,
   "metadata": {},
   "outputs": [
    {
     "data": {
      "text/plain": [
       "коммерческая недвижимость    1866\n",
       "автомобиль                   1759\n",
       "образование                  1708\n",
       "свадьба                       931\n",
       "Name: purpose_group, dtype: int64"
      ]
     },
     "execution_count": 33,
     "metadata": {},
     "output_type": "execute_result"
    }
   ],
   "source": [
    "df['purpose_group'].value_counts()"
   ]
  },
  {
   "cell_type": "markdown",
   "metadata": {},
   "source": [
    "Чаще всего люди берут  кредиты именно для покупки жилья или недвижимости."
   ]
  },
  {
   "cell_type": "code",
   "execution_count": 34,
   "metadata": {},
   "outputs": [
    {
     "name": "stdout",
     "output_type": "stream",
     "text": [
      "327678.0    1\n",
      "121512.0    1\n",
      "189779.0    1\n",
      "533870.0    1\n",
      "77153.0     1\n",
      "           ..\n",
      "70924.0     1\n",
      "162466.0    1\n",
      "50468.0     1\n",
      "64285.0     1\n",
      "151552.0    1\n",
      "Name: total_income, Length: 8884, dtype: int64\n"
     ]
    }
   ],
   "source": [
    "print(df['total_income'].value_counts())"
   ]
  },
  {
   "cell_type": "markdown",
   "metadata": {},
   "source": [
    "Можно произвести категоризацию по возрастной группе клиентов, заодно обработав нулевые значения в данной категории."
   ]
  },
  {
   "cell_type": "code",
   "execution_count": 35,
   "metadata": {},
   "outputs": [
    {
     "name": "stdout",
     "output_type": "stream",
     "text": [
      "59    309\n",
      "58    285\n",
      "57    278\n",
      "56    276\n",
      "60    266\n",
      "61    262\n",
      "62    254\n",
      "55    252\n",
      "54    248\n",
      "52    240\n",
      "53    240\n",
      "48    227\n",
      "44    222\n",
      "50    218\n",
      "42    217\n",
      "41    210\n",
      "63    205\n",
      "49    202\n",
      "40    197\n",
      "47    196\n",
      "64    195\n",
      "38    195\n",
      "45    193\n",
      "39    192\n",
      "51    192\n",
      "35    189\n",
      "43    187\n",
      "33    185\n",
      "36    183\n",
      "46    182\n",
      "34    164\n",
      "37    160\n",
      "31    154\n",
      "65    147\n",
      "30    142\n",
      "66    139\n",
      "67    137\n",
      "29    134\n",
      "32    123\n",
      "27    114\n",
      "28    108\n",
      "26     89\n",
      "68     83\n",
      "69     76\n",
      "25     74\n",
      "70     56\n",
      "24     53\n",
      "71     47\n",
      "23     44\n",
      "0      36\n",
      "22     34\n",
      "72     29\n",
      "21     18\n",
      "20     12\n",
      "73      7\n",
      "74      5\n",
      "19      2\n",
      "Name: dob_years, dtype: int64\n"
     ]
    }
   ],
   "source": [
    "print(df['dob_years'].value_counts())"
   ]
  },
  {
   "cell_type": "markdown",
   "metadata": {},
   "source": [
    "Выявим какой тип занятости имеют клиенты с нулевым возрастом"
   ]
  },
  {
   "cell_type": "code",
   "execution_count": 36,
   "metadata": {},
   "outputs": [
    {
     "data": {
      "text/plain": [
       "пенсионер      14\n",
       "сотрудник      12\n",
       "компаньон       6\n",
       "госслужащий     4\n",
       "Name: income_type, dtype: int64"
      ]
     },
     "execution_count": 36,
     "metadata": {},
     "output_type": "execute_result"
    }
   ],
   "source": [
    "df.loc[df['dob_years'] == 0, 'income_type'].value_counts()"
   ]
  },
  {
   "cell_type": "code",
   "execution_count": 37,
   "metadata": {},
   "outputs": [
    {
     "name": "stdout",
     "output_type": "stream",
     "text": [
      "income_type\n",
      "безработный    38\n",
      "в декрете      39\n",
      "госслужащий    42\n",
      "компаньон      42\n",
      "пенсионер      60\n",
      "сотрудник      42\n",
      "Name: dob_years, dtype: int64\n"
     ]
    }
   ],
   "source": [
    "age_median = df.groupby('income_type')['dob_years'].median()\n",
    "print(age_median)"
   ]
  },
  {
   "cell_type": "markdown",
   "metadata": {},
   "source": [
    "Заменим клиентов с нулевым значением возраста на средние значения в соответствии с типом категориями. \n",
    "\n",
    "Применим для этого логическую индексацию с несколькими условиями"
   ]
  },
  {
   "cell_type": "code",
   "execution_count": 38,
   "metadata": {},
   "outputs": [],
   "source": [
    "df.loc[(df['dob_years'] == 0) & (df['income_type'] == 'сотрудник'), 'dob_years'] = age_median[5]\n",
    "df.loc[(df['dob_years'] == 0) & (df['income_type'] == 'пенсионер'), 'dob_years'] = age_median[4]\n",
    "df.loc[(df['dob_years'] == 0) & (df['income_type'] == 'компаньон'), 'dob_years'] = age_median[3]\n",
    "df.loc[(df['dob_years'] == 0) & (df['income_type'] == 'госслужащий'), 'dob_years'] = age_median[2]"
   ]
  },
  {
   "cell_type": "markdown",
   "metadata": {},
   "source": [
    "Проверим наличие нулевого возраста в нашем датафрейме"
   ]
  },
  {
   "cell_type": "code",
   "execution_count": 39,
   "metadata": {},
   "outputs": [
    {
     "data": {
      "text/plain": [
       "Series([], Name: dob_years, dtype: int64)"
      ]
     },
     "execution_count": 39,
     "metadata": {},
     "output_type": "execute_result"
    }
   ],
   "source": [
    "df.loc[df['dob_years'] == 0, 'dob_years'].value_counts()"
   ]
  },
  {
   "cell_type": "markdown",
   "metadata": {},
   "source": [
    "Теперь можем приступать к категоризации по возрастной группе.\n",
    "Для этого напишем вспомогательную функцию *years*"
   ]
  },
  {
   "cell_type": "code",
   "execution_count": 40,
   "metadata": {},
   "outputs": [
    {
     "name": "stdout",
     "output_type": "stream",
     "text": [
      "   children  days_employed  dob_years education  education_id  \\\n",
      "0         1         8437.0         42    высшее             0   \n",
      "1         1         4024.0         36   среднее             1   \n",
      "2         0         5623.0         33   среднее             1   \n",
      "3         3         4124.0         32   среднее             1   \n",
      "4         0       340266.0         53   среднее             1   \n",
      "\n",
      "      family_status  family_status_id gender income_type  debt  total_income  \\\n",
      "0   женат / замужем                 0      F   сотрудник     0      253875.0   \n",
      "1   женат / замужем                 0      F   сотрудник     0      112080.0   \n",
      "2   женат / замужем                 0      M   сотрудник     0      145885.0   \n",
      "3   женат / замужем                 0      M   сотрудник     0      267628.0   \n",
      "4  гражданский брак                 1      F   пенсионер     0      158616.0   \n",
      "\n",
      "                      purpose              purpose_group    age_group  \n",
      "0               покупка жилья  коммерческая недвижимость  от 30 до 45  \n",
      "1     приобретение автомобиля                 автомобиль  от 30 до 45  \n",
      "2               покупка жилья  коммерческая недвижимость  от 30 до 45  \n",
      "3  дополнительное образование                образование  от 30 до 45  \n",
      "4             сыграть свадьбу                    свадьба  от 45 до 65  \n"
     ]
    }
   ],
   "source": [
    "def age_group(age):\n",
    "    if age < 30:\n",
    "        return 'до 30 лет'\n",
    "    elif 30<=age < 45:\n",
    "        return 'от 30 до 45'\n",
    "    elif 45<=age<65:\n",
    "        return 'от 45 до 65'\n",
    "    elif age>=65:\n",
    "         return 'после 65' \n",
    "df['age_group'] = df['dob_years'].apply(age_group)\n",
    "print(df.head()) "
   ]
  },
  {
   "cell_type": "code",
   "execution_count": 41,
   "metadata": {},
   "outputs": [
    {
     "data": {
      "text/plain": [
       "от 45 до 65    4734\n",
       "от 30 до 45    2742\n",
       "после 65        726\n",
       "до 30 лет       682\n",
       "Name: age_group, dtype: int64"
      ]
     },
     "execution_count": 41,
     "metadata": {},
     "output_type": "execute_result"
    }
   ],
   "source": [
    "df['age_group'].value_counts()"
   ]
  },
  {
   "cell_type": "markdown",
   "metadata": {},
   "source": [
    "На основании категоризации данных по возрастной группе мы видим что больше всего людей в возрасте от 45 до 65 пользуются услугами по кредитованию"
   ]
  },
  {
   "cell_type": "markdown",
   "metadata": {},
   "source": [
    "Далее мы можем категоризировать данные по наличию детей у клиентов."
   ]
  },
  {
   "cell_type": "code",
   "execution_count": 42,
   "metadata": {},
   "outputs": [
    {
     "name": "stdout",
     "output_type": "stream",
     "text": [
      "   children  days_employed  dob_years education  education_id  \\\n",
      "0         1         8437.0         42    высшее             0   \n",
      "1         1         4024.0         36   среднее             1   \n",
      "2         0         5623.0         33   среднее             1   \n",
      "3         3         4124.0         32   среднее             1   \n",
      "4         0       340266.0         53   среднее             1   \n",
      "\n",
      "      family_status  family_status_id gender income_type  debt  total_income  \\\n",
      "0   женат / замужем                 0      F   сотрудник     0      253875.0   \n",
      "1   женат / замужем                 0      F   сотрудник     0      112080.0   \n",
      "2   женат / замужем                 0      M   сотрудник     0      145885.0   \n",
      "3   женат / замужем                 0      M   сотрудник     0      267628.0   \n",
      "4  гражданский брак                 1      F   пенсионер     0      158616.0   \n",
      "\n",
      "                      purpose              purpose_group    age_group  \\\n",
      "0               покупка жилья  коммерческая недвижимость  от 30 до 45   \n",
      "1     приобретение автомобиля                 автомобиль  от 30 до 45   \n",
      "2               покупка жилья  коммерческая недвижимость  от 30 до 45   \n",
      "3  дополнительное образование                образование  от 30 до 45   \n",
      "4             сыграть свадьбу                    свадьба  от 45 до 65   \n",
      "\n",
      "  children_group  \n",
      "0      есть дети  \n",
      "1      есть дети  \n",
      "2      нет детей  \n",
      "3      есть дети  \n",
      "4      нет детей  \n"
     ]
    }
   ],
   "source": [
    "def have_children(children):\n",
    "    if children>=1:\n",
    "        return \"есть дети\"\n",
    "    if children==0:\n",
    "        return \"нет детей\"\n",
    "df['children_group'] = df['children'].apply(have_children)\n",
    "print(df.head()) "
   ]
  },
  {
   "cell_type": "code",
   "execution_count": 43,
   "metadata": {},
   "outputs": [
    {
     "data": {
      "text/plain": [
       "нет детей    6427\n",
       "есть дети    2439\n",
       "Name: children_group, dtype: int64"
      ]
     },
     "execution_count": 43,
     "metadata": {},
     "output_type": "execute_result"
    }
   ],
   "source": [
    "df['children_group'].value_counts() "
   ]
  },
  {
   "cell_type": "markdown",
   "metadata": {},
   "source": [
    "Далее перейдем произведем категоризацию по уровню дохода.\n",
    "Создадим вспомогательную функцию *salary*"
   ]
  },
  {
   "cell_type": "code",
   "execution_count": 44,
   "metadata": {},
   "outputs": [
    {
     "name": "stdout",
     "output_type": "stream",
     "text": [
      "   children  days_employed  dob_years education  education_id  \\\n",
      "0         1         8437.0         42    высшее             0   \n",
      "1         1         4024.0         36   среднее             1   \n",
      "2         0         5623.0         33   среднее             1   \n",
      "3         3         4124.0         32   среднее             1   \n",
      "4         0       340266.0         53   среднее             1   \n",
      "\n",
      "      family_status  family_status_id gender income_type  debt  total_income  \\\n",
      "0   женат / замужем                 0      F   сотрудник     0      253875.0   \n",
      "1   женат / замужем                 0      F   сотрудник     0      112080.0   \n",
      "2   женат / замужем                 0      M   сотрудник     0      145885.0   \n",
      "3   женат / замужем                 0      M   сотрудник     0      267628.0   \n",
      "4  гражданский брак                 1      F   пенсионер     0      158616.0   \n",
      "\n",
      "                      purpose              purpose_group    age_group  \\\n",
      "0               покупка жилья  коммерческая недвижимость  от 30 до 45   \n",
      "1     приобретение автомобиля                 автомобиль  от 30 до 45   \n",
      "2               покупка жилья  коммерческая недвижимость  от 30 до 45   \n",
      "3  дополнительное образование                образование  от 30 до 45   \n",
      "4             сыграть свадьбу                    свадьба  от 45 до 65   \n",
      "\n",
      "  children_group    total_group  \n",
      "0      есть дети        богатые  \n",
      "1      есть дети  средний класс  \n",
      "2      нет детей        богатые  \n",
      "3      есть дети        богатые  \n",
      "4      нет детей        богатые  \n"
     ]
    }
   ],
   "source": [
    "def salary(row):\n",
    "    if row<= 50000:\n",
    "        return 'бедные'\n",
    "    elif 50000 < row<= 120000:\n",
    "        return 'средний класс'\n",
    "    elif 120000 < row< 1000000:\n",
    "        return 'богатые'\n",
    "df['total_group'] = df['total_income'].apply(salary)\n",
    "print(df.head())    \n",
    "        "
   ]
  },
  {
   "cell_type": "code",
   "execution_count": 45,
   "metadata": {},
   "outputs": [
    {
     "data": {
      "text/plain": [
       "богатые          5454\n",
       "средний класс    3164\n",
       "бедные            255\n",
       "Name: total_group, dtype: int64"
      ]
     },
     "execution_count": 45,
     "metadata": {},
     "output_type": "execute_result"
    }
   ],
   "source": [
    "df['total_group'].value_counts() "
   ]
  },
  {
   "cell_type": "markdown",
   "metadata": {},
   "source": [
    "Богатые чаще всего берут кредиты, наверно чтобы пустить свои деньги в оборот и приумножить их."
   ]
  },
  {
   "cell_type": "code",
   "execution_count": 46,
   "metadata": {},
   "outputs": [
    {
     "name": "stdout",
     "output_type": "stream",
     "text": [
      "<class 'pandas.core.frame.DataFrame'>\n",
      "RangeIndex: 8884 entries, 0 to 8883\n",
      "Data columns (total 16 columns):\n",
      "children            8884 non-null int64\n",
      "days_employed       8884 non-null float64\n",
      "dob_years           8884 non-null int64\n",
      "education           8884 non-null object\n",
      "education_id        8884 non-null int64\n",
      "family_status       8884 non-null object\n",
      "family_status_id    8884 non-null int64\n",
      "gender              8884 non-null object\n",
      "income_type         8884 non-null object\n",
      "debt                8884 non-null int64\n",
      "total_income        8884 non-null float64\n",
      "purpose             8884 non-null object\n",
      "purpose_group       6264 non-null object\n",
      "age_group           8884 non-null object\n",
      "children_group      8866 non-null object\n",
      "total_group         8873 non-null object\n",
      "dtypes: float64(2), int64(5), object(9)\n",
      "memory usage: 1.1+ MB\n"
     ]
    }
   ],
   "source": [
    "df.info()"
   ]
  },
  {
   "cell_type": "markdown",
   "metadata": {},
   "source": [
    "**Вывод**"
   ]
  },
  {
   "cell_type": "markdown",
   "metadata": {},
   "source": [
    "Проведена категоризация клиентов по целям , возрастным группам и наличию детей.\n",
    "**Дописать **"
   ]
  },
  {
   "cell_type": "markdown",
   "metadata": {},
   "source": [
    "## Шаг 3. Ответьте на вопросы"
   ]
  },
  {
   "cell_type": "markdown",
   "metadata": {},
   "source": [
    "- Есть ли зависимость между наличием детей и возвратом кредита в срок?"
   ]
  },
  {
   "cell_type": "markdown",
   "metadata": {},
   "source": [
    "Создадим новую таблицу *children* с данными о наличии детей у клиентов и наличием задолженности по кредиту"
   ]
  },
  {
   "cell_type": "code",
   "execution_count": 47,
   "metadata": {},
   "outputs": [
    {
     "name": "stdout",
     "output_type": "stream",
     "text": [
      "      debt children_group\n",
      "0        0      есть дети\n",
      "1        0      есть дети\n",
      "2        0      нет детей\n",
      "3        0      есть дети\n",
      "4        0      нет детей\n",
      "...    ...            ...\n",
      "8879     0      нет детей\n",
      "8880     0      нет детей\n",
      "8881     0      нет детей\n",
      "8882     0      нет детей\n",
      "8883     0      нет детей\n",
      "\n",
      "[8884 rows x 2 columns]\n"
     ]
    }
   ],
   "source": [
    "children=df[['debt','children_group']]\n",
    "print(children)"
   ]
  },
  {
   "cell_type": "markdown",
   "metadata": {},
   "source": [
    "Зададим условие - не имел задолженность по кредиту и группируем по наличию детей нашу таблицу *children*"
   ]
  },
  {
   "cell_type": "code",
   "execution_count": 48,
   "metadata": {},
   "outputs": [
    {
     "name": "stdout",
     "output_type": "stream",
     "text": [
      "нет детей    6039\n",
      "есть дети    2264\n",
      "Name: children_group, dtype: int64\n"
     ]
    }
   ],
   "source": [
    "children_debt=children.loc[(children['debt'] == 0)]['children_group'].value_counts()\n",
    "print(children_debt)"
   ]
  },
  {
   "cell_type": "markdown",
   "metadata": {},
   "source": [
    "Далее мы должны посчитать соотношение клиентов не имеющих задолжности по кредиту к общему количеству клиентов не имеющих детей."
   ]
  },
  {
   "cell_type": "code",
   "execution_count": 49,
   "metadata": {},
   "outputs": [
    {
     "name": "stdout",
     "output_type": "stream",
     "text": [
      "нет детей    6427\n",
      "есть дети    2439\n",
      "Name: children_group, dtype: int64\n"
     ]
    }
   ],
   "source": [
    "count_nonechildren=children['children_group'].value_counts()\n",
    "print(count_nonechildren)"
   ]
  },
  {
   "cell_type": "code",
   "execution_count": 50,
   "metadata": {},
   "outputs": [
    {
     "name": "stdout",
     "output_type": "stream",
     "text": [
      "Процентное соотношение клиентов (без наличия детей) вернувших кредит в срок, составляет\n",
      "94.0\n",
      "Процентное соотношение клиентов (имеющих детей) вернувших кредит в срок, составляет\n",
      "92.8\n"
     ]
    }
   ],
   "source": [
    "conv_free_child=round((children_debt[0]/count_nonechildren[0])*100,1)\n",
    "conv_child=round((children_debt[1]/count_nonechildren[1])*100,1)\n",
    "print('Процентное соотношение клиентов (без наличия детей) вернувших кредит в срок, составляет')\n",
    "print(conv_free_child)\n",
    "print('Процентное соотношение клиентов (имеющих детей) вернувших кредит в срок, составляет')\n",
    "print(conv_child)"
   ]
  },
  {
   "cell_type": "code",
   "execution_count": 51,
   "metadata": {},
   "outputs": [],
   "source": [
    "#children_debt_none=children.loc[(children['debt'] == 1)]['children_group'].value_counts()\n",
    "#print(children_debt) ДАННЫЕ О НАЛИЧИИ ДЕТЕЙ ПРИ НЕВОЗВРАТЕ КРЕДИТА"
   ]
  },
  {
   "cell_type": "code",
   "execution_count": 52,
   "metadata": {},
   "outputs": [],
   "source": [
    "#conv_free_child=round((children_debt_none[0]/count_nonechildren[0])*100,1)\n",
    "#conv_child=round((children_debt_none[1]/count_nonechildren[1])*100,1)\n",
    "#print('Процентное соотношение клиентов (без наличия детей) невернувших кредит в срок, составляет')\n",
    "#print(conv_free_child)\n",
    "#print('Процентное соотношение клиентов (имеющих детей) невернувших кредит в срок, составляет')\n",
    "#print(conv_child)"
   ]
  },
  {
   "cell_type": "markdown",
   "metadata": {},
   "source": [
    "**Вывод**"
   ]
  },
  {
   "cell_type": "markdown",
   "metadata": {},
   "source": [
    "Мы можем сделать вывод что клиенты у которых нет детей возращают чуть лучше кредиты в срок банку. "
   ]
  },
  {
   "cell_type": "markdown",
   "metadata": {},
   "source": [
    "- Есть ли зависимость между семейным положением и возвратом кредита в срок?"
   ]
  },
  {
   "cell_type": "markdown",
   "metadata": {},
   "source": [
    "Создадим новую таблицу *family_debt* в которой будут данные клиентов о их семейном положении и возвратностью кредитов в срок"
   ]
  },
  {
   "cell_type": "code",
   "execution_count": 53,
   "metadata": {},
   "outputs": [
    {
     "name": "stdout",
     "output_type": "stream",
     "text": [
      "         family_status  debt\n",
      "0      женат / замужем     0\n",
      "1      женат / замужем     0\n",
      "2      женат / замужем     0\n",
      "3      женат / замужем     0\n",
      "4     гражданский брак     0\n",
      "...                ...   ...\n",
      "8879  гражданский брак     0\n",
      "8880   женат / замужем     0\n",
      "8881   женат / замужем     0\n",
      "8882   женат / замужем     0\n",
      "8883   женат / замужем     0\n",
      "\n",
      "[8884 rows x 2 columns]\n"
     ]
    }
   ],
   "source": [
    "family_debt=df[['family_status','debt']]\n",
    "print(family_debt)"
   ]
  },
  {
   "cell_type": "markdown",
   "metadata": {},
   "source": [
    "Выявим все уникальные значения в таблице семейного положения клиентов"
   ]
  },
  {
   "cell_type": "code",
   "execution_count": 54,
   "metadata": {},
   "outputs": [
    {
     "data": {
      "text/plain": [
       "array(['женат / замужем', 'гражданский брак', 'вдовец / вдова',\n",
       "       'в разводе', 'Не женат / не замужем'], dtype=object)"
      ]
     },
     "execution_count": 54,
     "metadata": {},
     "output_type": "execute_result"
    }
   ],
   "source": [
    "family_debt['family_status'].unique()"
   ]
  },
  {
   "cell_type": "markdown",
   "metadata": {},
   "source": [
    "Создадим новую переменную *count_family* в которой будут хранится данные о всех пользователях в соответствии с их семейным положением"
   ]
  },
  {
   "cell_type": "code",
   "execution_count": 55,
   "metadata": {},
   "outputs": [
    {
     "name": "stdout",
     "output_type": "stream",
     "text": [
      "женат / замужем          5210\n",
      "гражданский брак         1582\n",
      "Не женат / не замужем     940\n",
      "вдовец / вдова            632\n",
      "в разводе                 520\n",
      "Name: family_status, dtype: int64\n"
     ]
    }
   ],
   "source": [
    "count_family=family_debt['family_status'].value_counts()\n",
    "print(count_family)"
   ]
  },
  {
   "cell_type": "markdown",
   "metadata": {},
   "source": [
    "В таблице *family* информация о возврате кредита с срок в соответствии с семейным положением клиентов"
   ]
  },
  {
   "cell_type": "code",
   "execution_count": 56,
   "metadata": {},
   "outputs": [
    {
     "name": "stdout",
     "output_type": "stream",
     "text": [
      "женат / замужем          4898\n",
      "гражданский брак         1461\n",
      "Не женат / не замужем     876\n",
      "вдовец / вдова            592\n",
      "в разводе                 494\n",
      "Name: family_status, dtype: int64\n"
     ]
    }
   ],
   "source": [
    "family=family_debt.loc[(family_debt['debt'] == 0)]['family_status'].value_counts()\n",
    "print(family)"
   ]
  },
  {
   "cell_type": "markdown",
   "metadata": {},
   "source": [
    "Посчитаем процентое соотношение возвратности кредита в срок по каждой группе семейного положения клиентов"
   ]
  },
  {
   "cell_type": "code",
   "execution_count": 57,
   "metadata": {},
   "outputs": [
    {
     "name": "stdout",
     "output_type": "stream",
     "text": [
      "Процентное соотношение клиентов (женат/замужем) вернувших кредит в срок, составляет\n",
      "94.0\n",
      "Процентное соотношение клиентов (гражданский брак) вернувших кредит в срок, составляет\n",
      "92.4\n",
      "Процентное соотношение клиентов (не женат/не замужем) вернувших кредит в срок, составляет\n",
      "93.2\n",
      "Процентное соотношение клиентов (вдовец/вдова) вернувших кредит в срок, составляет\n",
      "93.7\n",
      "Процентное соотношение клиентов (в разводе) вернувших кредит в срок, составляет\n",
      "95.0\n"
     ]
    }
   ],
   "source": [
    "conv_married=round((family[0]/count_family[0])*100,1)\n",
    "conv_civil_mar=round((family[1]/count_family[1])*100,1)\n",
    "conv_notmar=round((family[2]/count_family[2])*100,1)\n",
    "conv_widow=round((family[3]/count_family[3])*100,1)\n",
    "conv_divors=round((family[4]/count_family[4])*100,1)\n",
    "print('Процентное соотношение клиентов (женат/замужем) вернувших кредит в срок, составляет')\n",
    "print(conv_married)\n",
    "print('Процентное соотношение клиентов (гражданский брак) вернувших кредит в срок, составляет')\n",
    "print(conv_civil_mar)\n",
    "print('Процентное соотношение клиентов (не женат/не замужем) вернувших кредит в срок, составляет')\n",
    "print(conv_notmar)\n",
    "print('Процентное соотношение клиентов (вдовец/вдова) вернувших кредит в срок, составляет')\n",
    "print(conv_widow)\n",
    "print('Процентное соотношение клиентов (в разводе) вернувших кредит в срок, составляет')\n",
    "print(conv_divors)"
   ]
  },
  {
   "cell_type": "markdown",
   "metadata": {},
   "source": [
    "**Вывод**"
   ]
  },
  {
   "cell_type": "markdown",
   "metadata": {},
   "source": [
    "Интересный вывод , в разводе клиенты лучше возвращают кредиты. \n"
   ]
  },
  {
   "cell_type": "markdown",
   "metadata": {},
   "source": [
    "- Есть ли зависимость между уровнем дохода и возвратом кредита в срок?"
   ]
  },
  {
   "cell_type": "markdown",
   "metadata": {},
   "source": [
    "Создадим таблицу *salary_debt* зависимости возвратности кредита и уровня дохода клиентов по категории"
   ]
  },
  {
   "cell_type": "code",
   "execution_count": 58,
   "metadata": {},
   "outputs": [
    {
     "name": "stdout",
     "output_type": "stream",
     "text": [
      "      debt    total_group\n",
      "0        0        богатые\n",
      "1        0  средний класс\n",
      "2        0        богатые\n",
      "3        0        богатые\n",
      "4        0        богатые\n",
      "...    ...            ...\n",
      "8879     0  средний класс\n",
      "8880     0  средний класс\n",
      "8881     0  средний класс\n",
      "8882     0        богатые\n",
      "8883     0        богатые\n",
      "\n",
      "[8884 rows x 2 columns]\n"
     ]
    }
   ],
   "source": [
    "salary_debt=df[['debt','total_group']]\n",
    "print(salary_debt)"
   ]
  },
  {
   "cell_type": "markdown",
   "metadata": {},
   "source": [
    "Вычислим данные по условию возвратности кредита в срок и уровню доходности клиентов."
   ]
  },
  {
   "cell_type": "code",
   "execution_count": 59,
   "metadata": {},
   "outputs": [
    {
     "name": "stdout",
     "output_type": "stream",
     "text": [
      "богатые          5088\n",
      "средний класс    2981\n",
      "бедные            242\n",
      "Name: total_group, dtype: int64\n"
     ]
    }
   ],
   "source": [
    "salary=salary_debt.loc[(salary_debt['debt'] == 0)]['total_group'].value_counts()\n",
    "print(salary)"
   ]
  },
  {
   "cell_type": "markdown",
   "metadata": {},
   "source": [
    "Данные об общем количестве клиентов по уровню доходности"
   ]
  },
  {
   "cell_type": "code",
   "execution_count": 60,
   "metadata": {},
   "outputs": [
    {
     "name": "stdout",
     "output_type": "stream",
     "text": [
      "богатые          5454\n",
      "средний класс    3164\n",
      "бедные            255\n",
      "Name: total_group, dtype: int64\n"
     ]
    }
   ],
   "source": [
    "count_salary=salary_debt['total_group'].value_counts()\n",
    "print(count_salary)"
   ]
  },
  {
   "cell_type": "code",
   "execution_count": 61,
   "metadata": {},
   "outputs": [
    {
     "name": "stdout",
     "output_type": "stream",
     "text": [
      "Процентное соотношение богатых клиентов вернувших кредит в срок, составляет\n",
      "93.3\n",
      "Процентное соотношение клиентов среднего класса вернувших кредит в срок, составляет\n",
      "94.2\n",
      "Процентное соотношение бедных клиентов вернувших кредит в срок, составляет\n",
      "94.9\n"
     ]
    }
   ],
   "source": [
    "conv_rich=round((salary[0]/count_salary[0])*100,1)\n",
    "conv_avg=round((salary[1]/count_salary[1])*100,1)\n",
    "conv_poor=round((salary[2]/count_salary[2])*100,1)\n",
    "\n",
    "print('Процентное соотношение богатых клиентов вернувших кредит в срок, составляет')\n",
    "print(conv_rich)\n",
    "print('Процентное соотношение клиентов среднего класса вернувших кредит в срок, составляет')\n",
    "print(conv_avg)\n",
    "print('Процентное соотношение бедных клиентов вернувших кредит в срок, составляет')\n",
    "print(conv_poor)\n"
   ]
  },
  {
   "cell_type": "markdown",
   "metadata": {},
   "source": [
    "**Вывод**"
   ]
  },
  {
   "cell_type": "markdown",
   "metadata": {},
   "source": [
    "Как ни странно бедные клиенты более обязательны в возратах кредита"
   ]
  },
  {
   "cell_type": "markdown",
   "metadata": {},
   "source": [
    "- Как разные цели кредита влияют на его возврат в срок?"
   ]
  },
  {
   "cell_type": "markdown",
   "metadata": {},
   "source": [
    "Создадим таблицу *purpose_debt* зависимостей целей получения кредита и задолженности по кредиту"
   ]
  },
  {
   "cell_type": "code",
   "execution_count": 62,
   "metadata": {},
   "outputs": [
    {
     "name": "stdout",
     "output_type": "stream",
     "text": [
      "      debt              purpose_group\n",
      "0        0  коммерческая недвижимость\n",
      "1        0                 автомобиль\n",
      "2        0  коммерческая недвижимость\n",
      "3        0                образование\n",
      "4        0                    свадьба\n",
      "...    ...                        ...\n",
      "8879     0                    свадьба\n",
      "8880     0                       None\n",
      "8881     0                       None\n",
      "8882     0                 автомобиль\n",
      "8883     0                 автомобиль\n",
      "\n",
      "[8884 rows x 2 columns]\n"
     ]
    }
   ],
   "source": [
    "purpose_debt=df[['debt','purpose_group']]\n",
    "print(purpose_debt)"
   ]
  },
  {
   "cell_type": "markdown",
   "metadata": {},
   "source": [
    "Создадим новую переменную *count_purpose* в которой будут хранится данные о всех пользователях в соответствии с их целями получения кредита."
   ]
  },
  {
   "cell_type": "code",
   "execution_count": 63,
   "metadata": {},
   "outputs": [
    {
     "name": "stdout",
     "output_type": "stream",
     "text": [
      "коммерческая недвижимость    1866\n",
      "автомобиль                   1759\n",
      "образование                  1708\n",
      "свадьба                       931\n",
      "Name: purpose_group, dtype: int64\n"
     ]
    }
   ],
   "source": [
    "count_purpose=purpose_debt['purpose_group'].value_counts()\n",
    "print(count_purpose)"
   ]
  },
  {
   "cell_type": "markdown",
   "metadata": {},
   "source": [
    "Получим данные по целям получения кредита с его возвратностью в срок."
   ]
  },
  {
   "cell_type": "code",
   "execution_count": 64,
   "metadata": {},
   "outputs": [
    {
     "name": "stdout",
     "output_type": "stream",
     "text": [
      "коммерческая недвижимость    1760\n",
      "автомобиль                   1627\n",
      "образование                  1587\n",
      "свадьба                       873\n",
      "Name: purpose_group, dtype: int64\n"
     ]
    }
   ],
   "source": [
    "purpose=purpose_debt.loc[(purpose_debt['debt'] == 0)]['purpose_group'].value_counts()\n",
    "print(purpose)"
   ]
  },
  {
   "cell_type": "code",
   "execution_count": 65,
   "metadata": {},
   "outputs": [
    {
     "name": "stdout",
     "output_type": "stream",
     "text": [
      "Процентное соотношение клиентов с целью- коммерческая недвижимость вернувших кредит в срок, составляет\n",
      "94.3\n",
      "Процентное соотношение клиентов с целью-автомобиль вернувших кредит в срок, составляет\n",
      "92.5\n",
      "Процентное соотношение клиентов с целью-образование вернувших кредит в срок, составляет\n",
      "92.9\n",
      "Процентное соотношение клиентов с целью-свадьба вернувших кредит в срок, составляет\n",
      "93.8\n"
     ]
    }
   ],
   "source": [
    "conv_realty=round((purpose[0]/count_purpose[0])*100,1)\n",
    "conv_avto=round((purpose[1]/count_purpose[1])*100,1)\n",
    "conv_educ=round((purpose[2]/count_purpose[2])*100,1)\n",
    "conv_wedd=round((purpose[3]/count_purpose[3])*100,1)\n",
    "print('Процентное соотношение клиентов с целью- коммерческая недвижимость вернувших кредит в срок, составляет')\n",
    "print(conv_realty)\n",
    "print('Процентное соотношение клиентов с целью-автомобиль вернувших кредит в срок, составляет')\n",
    "print(conv_avto)\n",
    "print('Процентное соотношение клиентов с целью-образование вернувших кредит в срок, составляет')\n",
    "print(conv_educ)\n",
    "print('Процентное соотношение клиентов с целью-свадьба вернувших кредит в срок, составляет')\n",
    "print(conv_wedd)"
   ]
  },
  {
   "cell_type": "markdown",
   "metadata": {},
   "source": [
    "**Вывод**"
   ]
  },
  {
   "cell_type": "markdown",
   "metadata": {},
   "source": [
    "Лучше всего клиенты возвращают кредиты по недвижимости/жилью."
   ]
  },
  {
   "cell_type": "markdown",
   "metadata": {},
   "source": [
    "## Шаг 4. Общий вывод"
   ]
  },
  {
   "cell_type": "markdown",
   "metadata": {},
   "source": [
    "Общий вывод - семейный статус влияет на вероятность платежей по кредиту в срок - люди, бывший в браке чаще плятят в срок чем те, кто не бывали в браке. \n",
    "Наличие детей у клиентов влияет на возврат кредита в срок, бездетные реже просрачивают оплату."
   ]
  },
  {
   "cell_type": "markdown",
   "metadata": {},
   "source": [
    "Построим сводную таблицу, для ответа на вопрос: \n",
    "\n",
    "**Есть ли зависимость между наличием детей и возвратом кредита в срок?**"
   ]
  },
  {
   "cell_type": "code",
   "execution_count": 66,
   "metadata": {},
   "outputs": [
    {
     "data": {
      "text/html": [
       "<div>\n",
       "<style scoped>\n",
       "    .dataframe tbody tr th:only-of-type {\n",
       "        vertical-align: middle;\n",
       "    }\n",
       "\n",
       "    .dataframe tbody tr th {\n",
       "        vertical-align: top;\n",
       "    }\n",
       "\n",
       "    .dataframe thead th {\n",
       "        text-align: right;\n",
       "    }\n",
       "</style>\n",
       "<table border=\"1\" class=\"dataframe\">\n",
       "  <thead>\n",
       "    <tr style=\"text-align: right;\">\n",
       "      <th></th>\n",
       "      <th>children</th>\n",
       "      <th>children_group</th>\n",
       "      <th>debt</th>\n",
       "    </tr>\n",
       "  </thead>\n",
       "  <tbody>\n",
       "    <tr>\n",
       "      <td>0</td>\n",
       "      <td>1</td>\n",
       "      <td>есть дети</td>\n",
       "      <td>0</td>\n",
       "    </tr>\n",
       "    <tr>\n",
       "      <td>1</td>\n",
       "      <td>1</td>\n",
       "      <td>есть дети</td>\n",
       "      <td>0</td>\n",
       "    </tr>\n",
       "    <tr>\n",
       "      <td>2</td>\n",
       "      <td>0</td>\n",
       "      <td>нет детей</td>\n",
       "      <td>0</td>\n",
       "    </tr>\n",
       "    <tr>\n",
       "      <td>3</td>\n",
       "      <td>3</td>\n",
       "      <td>есть дети</td>\n",
       "      <td>0</td>\n",
       "    </tr>\n",
       "    <tr>\n",
       "      <td>4</td>\n",
       "      <td>0</td>\n",
       "      <td>нет детей</td>\n",
       "      <td>0</td>\n",
       "    </tr>\n",
       "    <tr>\n",
       "      <td>5</td>\n",
       "      <td>0</td>\n",
       "      <td>нет детей</td>\n",
       "      <td>0</td>\n",
       "    </tr>\n",
       "    <tr>\n",
       "      <td>6</td>\n",
       "      <td>0</td>\n",
       "      <td>нет детей</td>\n",
       "      <td>0</td>\n",
       "    </tr>\n",
       "    <tr>\n",
       "      <td>7</td>\n",
       "      <td>0</td>\n",
       "      <td>нет детей</td>\n",
       "      <td>0</td>\n",
       "    </tr>\n",
       "    <tr>\n",
       "      <td>8</td>\n",
       "      <td>2</td>\n",
       "      <td>есть дети</td>\n",
       "      <td>0</td>\n",
       "    </tr>\n",
       "    <tr>\n",
       "      <td>9</td>\n",
       "      <td>0</td>\n",
       "      <td>нет детей</td>\n",
       "      <td>0</td>\n",
       "    </tr>\n",
       "  </tbody>\n",
       "</table>\n",
       "</div>"
      ],
      "text/plain": [
       "   children children_group  debt\n",
       "0         1      есть дети     0\n",
       "1         1      есть дети     0\n",
       "2         0      нет детей     0\n",
       "3         3      есть дети     0\n",
       "4         0      нет детей     0\n",
       "5         0      нет детей     0\n",
       "6         0      нет детей     0\n",
       "7         0      нет детей     0\n",
       "8         2      есть дети     0\n",
       "9         0      нет детей     0"
      ]
     },
     "execution_count": 66,
     "metadata": {},
     "output_type": "execute_result"
    }
   ],
   "source": [
    "children_debt=df.loc[:,['children','children_group','debt']]\n",
    "children_debt.head(10)"
   ]
  },
  {
   "cell_type": "code",
   "execution_count": 67,
   "metadata": {},
   "outputs": [
    {
     "data": {
      "text/html": [
       "<div>\n",
       "<style scoped>\n",
       "    .dataframe tbody tr th:only-of-type {\n",
       "        vertical-align: middle;\n",
       "    }\n",
       "\n",
       "    .dataframe tbody tr th {\n",
       "        vertical-align: top;\n",
       "    }\n",
       "\n",
       "    .dataframe thead th {\n",
       "        text-align: right;\n",
       "    }\n",
       "</style>\n",
       "<table border=\"1\" class=\"dataframe\">\n",
       "  <thead>\n",
       "    <tr style=\"text-align: right;\">\n",
       "      <th>debt</th>\n",
       "      <th>0</th>\n",
       "      <th>1</th>\n",
       "    </tr>\n",
       "    <tr>\n",
       "      <th>children_group</th>\n",
       "      <th></th>\n",
       "      <th></th>\n",
       "    </tr>\n",
       "  </thead>\n",
       "  <tbody>\n",
       "    <tr>\n",
       "      <td>есть дети</td>\n",
       "      <td>2264</td>\n",
       "      <td>175</td>\n",
       "    </tr>\n",
       "    <tr>\n",
       "      <td>нет детей</td>\n",
       "      <td>6039</td>\n",
       "      <td>388</td>\n",
       "    </tr>\n",
       "  </tbody>\n",
       "</table>\n",
       "</div>"
      ],
      "text/plain": [
       "debt               0    1\n",
       "children_group           \n",
       "есть дети       2264  175\n",
       "нет детей       6039  388"
      ]
     },
     "execution_count": 67,
     "metadata": {},
     "output_type": "execute_result"
    }
   ],
   "source": [
    "#создадим сводную таблицу \n",
    "children_pivot=df.pivot_table(\n",
    "    index='children_group',\n",
    "    columns='debt',\n",
    "    values='children',\n",
    "    aggfunc='count')\n",
    "children_pivot.head(10)"
   ]
  },
  {
   "cell_type": "code",
   "execution_count": 68,
   "metadata": {},
   "outputs": [
    {
     "data": {
      "text/html": [
       "<div>\n",
       "<style scoped>\n",
       "    .dataframe tbody tr th:only-of-type {\n",
       "        vertical-align: middle;\n",
       "    }\n",
       "\n",
       "    .dataframe tbody tr th {\n",
       "        vertical-align: top;\n",
       "    }\n",
       "\n",
       "    .dataframe thead th {\n",
       "        text-align: right;\n",
       "    }\n",
       "</style>\n",
       "<table border=\"1\" class=\"dataframe\">\n",
       "  <thead>\n",
       "    <tr style=\"text-align: right;\">\n",
       "      <th>debt</th>\n",
       "      <th>0</th>\n",
       "      <th>1</th>\n",
       "    </tr>\n",
       "    <tr>\n",
       "      <th>children_group</th>\n",
       "      <th></th>\n",
       "      <th></th>\n",
       "    </tr>\n",
       "  </thead>\n",
       "  <tbody>\n",
       "    <tr>\n",
       "      <td>есть дети</td>\n",
       "      <td>2264</td>\n",
       "      <td>175</td>\n",
       "    </tr>\n",
       "    <tr>\n",
       "      <td>нет детей</td>\n",
       "      <td>6039</td>\n",
       "      <td>388</td>\n",
       "    </tr>\n",
       "  </tbody>\n",
       "</table>\n",
       "</div>"
      ],
      "text/plain": [
       "debt               0    1\n",
       "children_group           \n",
       "есть дети       2264  175\n",
       "нет детей       6039  388"
      ]
     },
     "execution_count": 68,
     "metadata": {},
     "output_type": "execute_result"
    }
   ],
   "source": [
    "#создадим сводную таблицу \n",
    "children_pivot=children_debt.pivot_table(\n",
    "    index='children_group',\n",
    "    columns='debt',\n",
    "    values='children',\n",
    "    aggfunc='count')\n",
    "children_pivot.head(10)"
   ]
  },
  {
   "cell_type": "code",
   "execution_count": 69,
   "metadata": {},
   "outputs": [
    {
     "data": {
      "text/html": [
       "<div>\n",
       "<style scoped>\n",
       "    .dataframe tbody tr th:only-of-type {\n",
       "        vertical-align: middle;\n",
       "    }\n",
       "\n",
       "    .dataframe tbody tr th {\n",
       "        vertical-align: top;\n",
       "    }\n",
       "\n",
       "    .dataframe thead th {\n",
       "        text-align: right;\n",
       "    }\n",
       "</style>\n",
       "<table border=\"1\" class=\"dataframe\">\n",
       "  <thead>\n",
       "    <tr style=\"text-align: right;\">\n",
       "      <th>debt</th>\n",
       "      <th>0</th>\n",
       "      <th>1</th>\n",
       "      <th>percent</th>\n",
       "    </tr>\n",
       "    <tr>\n",
       "      <th>children_group</th>\n",
       "      <th></th>\n",
       "      <th></th>\n",
       "      <th></th>\n",
       "    </tr>\n",
       "  </thead>\n",
       "  <tbody>\n",
       "    <tr>\n",
       "      <td>есть дети</td>\n",
       "      <td>2264</td>\n",
       "      <td>175</td>\n",
       "      <td>92.824928</td>\n",
       "    </tr>\n",
       "    <tr>\n",
       "      <td>нет детей</td>\n",
       "      <td>6039</td>\n",
       "      <td>388</td>\n",
       "      <td>93.962969</td>\n",
       "    </tr>\n",
       "  </tbody>\n",
       "</table>\n",
       "</div>"
      ],
      "text/plain": [
       "debt               0    1    percent\n",
       "children_group                      \n",
       "есть дети       2264  175  92.824928\n",
       "нет детей       6039  388  93.962969"
      ]
     },
     "execution_count": 69,
     "metadata": {},
     "output_type": "execute_result"
    }
   ],
   "source": [
    "children_pivot['percent']=(children_pivot[0]/(children_pivot[0]+children_pivot[1]))*100\n",
    "children_pivot"
   ]
  },
  {
   "cell_type": "markdown",
   "metadata": {},
   "source": [
    "Клиенты без детей возвращают кредиты все же лучше."
   ]
  },
  {
   "cell_type": "markdown",
   "metadata": {},
   "source": [
    "**Исследуем вопрос возврастности кредита в срок в соответствии с возрастной группой**"
   ]
  },
  {
   "cell_type": "code",
   "execution_count": 70,
   "metadata": {},
   "outputs": [
    {
     "data": {
      "text/html": [
       "<div>\n",
       "<style scoped>\n",
       "    .dataframe tbody tr th:only-of-type {\n",
       "        vertical-align: middle;\n",
       "    }\n",
       "\n",
       "    .dataframe tbody tr th {\n",
       "        vertical-align: top;\n",
       "    }\n",
       "\n",
       "    .dataframe thead th {\n",
       "        text-align: right;\n",
       "    }\n",
       "</style>\n",
       "<table border=\"1\" class=\"dataframe\">\n",
       "  <thead>\n",
       "    <tr style=\"text-align: right;\">\n",
       "      <th></th>\n",
       "      <th>dob_years</th>\n",
       "      <th>age_group</th>\n",
       "      <th>debt</th>\n",
       "    </tr>\n",
       "  </thead>\n",
       "  <tbody>\n",
       "    <tr>\n",
       "      <td>0</td>\n",
       "      <td>42</td>\n",
       "      <td>от 30 до 45</td>\n",
       "      <td>0</td>\n",
       "    </tr>\n",
       "    <tr>\n",
       "      <td>1</td>\n",
       "      <td>36</td>\n",
       "      <td>от 30 до 45</td>\n",
       "      <td>0</td>\n",
       "    </tr>\n",
       "    <tr>\n",
       "      <td>2</td>\n",
       "      <td>33</td>\n",
       "      <td>от 30 до 45</td>\n",
       "      <td>0</td>\n",
       "    </tr>\n",
       "    <tr>\n",
       "      <td>3</td>\n",
       "      <td>32</td>\n",
       "      <td>от 30 до 45</td>\n",
       "      <td>0</td>\n",
       "    </tr>\n",
       "    <tr>\n",
       "      <td>4</td>\n",
       "      <td>53</td>\n",
       "      <td>от 45 до 65</td>\n",
       "      <td>0</td>\n",
       "    </tr>\n",
       "  </tbody>\n",
       "</table>\n",
       "</div>"
      ],
      "text/plain": [
       "   dob_years    age_group  debt\n",
       "0         42  от 30 до 45     0\n",
       "1         36  от 30 до 45     0\n",
       "2         33  от 30 до 45     0\n",
       "3         32  от 30 до 45     0\n",
       "4         53  от 45 до 65     0"
      ]
     },
     "execution_count": 70,
     "metadata": {},
     "output_type": "execute_result"
    }
   ],
   "source": [
    "age_debt=df.loc[:,['dob_years','age_group','debt']]\n",
    "age_debt.head()"
   ]
  },
  {
   "cell_type": "code",
   "execution_count": 71,
   "metadata": {},
   "outputs": [
    {
     "data": {
      "text/html": [
       "<div>\n",
       "<style scoped>\n",
       "    .dataframe tbody tr th:only-of-type {\n",
       "        vertical-align: middle;\n",
       "    }\n",
       "\n",
       "    .dataframe tbody tr th {\n",
       "        vertical-align: top;\n",
       "    }\n",
       "\n",
       "    .dataframe thead th {\n",
       "        text-align: right;\n",
       "    }\n",
       "</style>\n",
       "<table border=\"1\" class=\"dataframe\">\n",
       "  <thead>\n",
       "    <tr style=\"text-align: right;\">\n",
       "      <th>debt</th>\n",
       "      <th>0</th>\n",
       "      <th>1</th>\n",
       "    </tr>\n",
       "    <tr>\n",
       "      <th>age_group</th>\n",
       "      <th></th>\n",
       "      <th></th>\n",
       "    </tr>\n",
       "  </thead>\n",
       "  <tbody>\n",
       "    <tr>\n",
       "      <td>до 30 лет</td>\n",
       "      <td>618</td>\n",
       "      <td>64</td>\n",
       "    </tr>\n",
       "    <tr>\n",
       "      <td>от 30 до 45</td>\n",
       "      <td>2530</td>\n",
       "      <td>212</td>\n",
       "    </tr>\n",
       "    <tr>\n",
       "      <td>от 45 до 65</td>\n",
       "      <td>4484</td>\n",
       "      <td>250</td>\n",
       "    </tr>\n",
       "    <tr>\n",
       "      <td>после 65</td>\n",
       "      <td>689</td>\n",
       "      <td>37</td>\n",
       "    </tr>\n",
       "  </tbody>\n",
       "</table>\n",
       "</div>"
      ],
      "text/plain": [
       "debt            0    1\n",
       "age_group             \n",
       "до 30 лет     618   64\n",
       "от 30 до 45  2530  212\n",
       "от 45 до 65  4484  250\n",
       "после 65      689   37"
      ]
     },
     "execution_count": 71,
     "metadata": {},
     "output_type": "execute_result"
    }
   ],
   "source": [
    "#создадим сводную таблицу \n",
    "age_pivot=age_debt.pivot_table(\n",
    "    index='age_group',\n",
    "    columns='debt',\n",
    "    values='dob_years',\n",
    "    aggfunc='count')\n",
    "age_pivot.head(10)"
   ]
  },
  {
   "cell_type": "markdown",
   "metadata": {},
   "source": [
    "Добавим к сводной таблице столбец по процентной задолженности в соответствии с возрастной группой "
   ]
  },
  {
   "cell_type": "code",
   "execution_count": 72,
   "metadata": {},
   "outputs": [
    {
     "data": {
      "text/html": [
       "<div>\n",
       "<style scoped>\n",
       "    .dataframe tbody tr th:only-of-type {\n",
       "        vertical-align: middle;\n",
       "    }\n",
       "\n",
       "    .dataframe tbody tr th {\n",
       "        vertical-align: top;\n",
       "    }\n",
       "\n",
       "    .dataframe thead th {\n",
       "        text-align: right;\n",
       "    }\n",
       "</style>\n",
       "<table border=\"1\" class=\"dataframe\">\n",
       "  <thead>\n",
       "    <tr style=\"text-align: right;\">\n",
       "      <th>debt</th>\n",
       "      <th>0</th>\n",
       "      <th>1</th>\n",
       "      <th>percent</th>\n",
       "    </tr>\n",
       "    <tr>\n",
       "      <th>age_group</th>\n",
       "      <th></th>\n",
       "      <th></th>\n",
       "      <th></th>\n",
       "    </tr>\n",
       "  </thead>\n",
       "  <tbody>\n",
       "    <tr>\n",
       "      <td>до 30 лет</td>\n",
       "      <td>618</td>\n",
       "      <td>64</td>\n",
       "      <td>90.615836</td>\n",
       "    </tr>\n",
       "    <tr>\n",
       "      <td>от 30 до 45</td>\n",
       "      <td>2530</td>\n",
       "      <td>212</td>\n",
       "      <td>92.268417</td>\n",
       "    </tr>\n",
       "    <tr>\n",
       "      <td>от 45 до 65</td>\n",
       "      <td>4484</td>\n",
       "      <td>250</td>\n",
       "      <td>94.719054</td>\n",
       "    </tr>\n",
       "    <tr>\n",
       "      <td>после 65</td>\n",
       "      <td>689</td>\n",
       "      <td>37</td>\n",
       "      <td>94.903581</td>\n",
       "    </tr>\n",
       "  </tbody>\n",
       "</table>\n",
       "</div>"
      ],
      "text/plain": [
       "debt            0    1    percent\n",
       "age_group                        \n",
       "до 30 лет     618   64  90.615836\n",
       "от 30 до 45  2530  212  92.268417\n",
       "от 45 до 65  4484  250  94.719054\n",
       "после 65      689   37  94.903581"
      ]
     },
     "execution_count": 72,
     "metadata": {},
     "output_type": "execute_result"
    }
   ],
   "source": [
    "age_pivot['percent']=(age_pivot[0]/(age_pivot[0]+age_pivot[1]))*100\n",
    "age_pivot"
   ]
  },
  {
   "cell_type": "markdown",
   "metadata": {},
   "source": [
    "Ответственней всего проявляют себя люди пенсионного возраста. Конечно в силу возраста люди могут быть более ответственны.\n",
    "\n",
    "Возможно их суммы кредита невелики и они быстрей погашают свои кредиты,но это лишь наши предположения."
   ]
  },
  {
   "cell_type": "markdown",
   "metadata": {},
   "source": [
    "## Чек-лист готовности проекта\n",
    "\n",
    "Поставьте 'x' в выполненных пунктах. Далее нажмите Shift+Enter."
   ]
  },
  {
   "cell_type": "markdown",
   "metadata": {},
   "source": [
    "- [x]  открыт файл;\n",
    "- [x]  файл изучен;\n",
    "- [x]  определены пропущенные значения;\n",
    "- [x]  заполнены пропущенные значения;\n",
    "- [x]  есть пояснение, какие пропущенные значения обнаружены;\n",
    "- [x]  описаны возможные причины появления пропусков в данных;\n",
    "- [x]  объяснено, по какому принципу заполнены пропуски;\n",
    "- [x]  заменен вещественный тип данных на целочисленный;\n",
    "- [x]  есть пояснение, какой метод используется для изменения типа данных и почему;\n",
    "- [x]  удалены дубликаты;\n",
    "- [x]  есть пояснение, какой метод используется для поиска и удаления дубликатов;\n",
    "- [x]  описаны возможные причины появления дубликатов в данных;\n",
    "- [x]  выделены леммы в значениях столбца с целями получения кредита;\n",
    "- [x]  описан процесс лемматизации;\n",
    "- [x]  данные категоризированы;\n",
    "- [x]  есть объяснение принципа категоризации данных;\n",
    "- [x]  есть ответ на вопрос: \"Есть ли зависимость между наличием детей и возвратом кредита в срок?\";\n",
    "- [x]  есть ответ на вопрос: \"Есть ли зависимость между семейным положением и возвратом кредита в срок?\";\n",
    "- [x]  есть ответ на вопрос: \"Есть ли зависимость между уровнем дохода и возвратом кредита в срок?\";\n",
    "- [x]  есть ответ на вопрос: \"Как разные цели кредита влияют на его возврат в срок?\";\n",
    "- [x]  в каждом этапе есть выводы;\n",
    "- [x]  есть общий вывод."
   ]
  }
 ],
 "metadata": {
  "ExecuteTimeLog": [
   {
    "duration": 601,
    "start_time": "2022-01-01T16:48:49.640Z"
   },
   {
    "duration": 53,
    "start_time": "2022-01-01T16:51:22.064Z"
   },
   {
    "duration": 64,
    "start_time": "2022-01-01T16:52:19.956Z"
   },
   {
    "duration": 11,
    "start_time": "2022-01-01T16:53:45.340Z"
   },
   {
    "duration": 11,
    "start_time": "2022-01-01T16:54:20.473Z"
   },
   {
    "duration": 10,
    "start_time": "2022-01-01T18:16:11.101Z"
   },
   {
    "duration": 6,
    "start_time": "2022-01-01T18:21:00.300Z"
   },
   {
    "duration": 8,
    "start_time": "2022-01-01T18:22:06.895Z"
   },
   {
    "duration": 9,
    "start_time": "2022-01-01T18:24:06.302Z"
   },
   {
    "duration": 12,
    "start_time": "2022-01-01T18:25:49.874Z"
   },
   {
    "duration": 10,
    "start_time": "2022-01-01T18:26:27.761Z"
   },
   {
    "duration": 72,
    "start_time": "2022-01-01T18:28:30.280Z"
   },
   {
    "duration": 170,
    "start_time": "2022-01-01T18:28:43.324Z"
   },
   {
    "duration": 5,
    "start_time": "2022-01-01T18:29:20.041Z"
   },
   {
    "duration": 271,
    "start_time": "2022-01-01T18:39:39.507Z"
   },
   {
    "duration": 6,
    "start_time": "2022-01-01T18:40:11.922Z"
   },
   {
    "duration": 9,
    "start_time": "2022-01-01T18:45:01.848Z"
   },
   {
    "duration": 10,
    "start_time": "2022-01-01T18:52:15.322Z"
   },
   {
    "duration": 754,
    "start_time": "2022-01-02T06:54:45.940Z"
   },
   {
    "duration": 84,
    "start_time": "2022-01-02T06:54:46.696Z"
   },
   {
    "duration": 21,
    "start_time": "2022-01-02T06:54:46.783Z"
   },
   {
    "duration": 29,
    "start_time": "2022-01-02T06:54:46.806Z"
   },
   {
    "duration": 13,
    "start_time": "2022-01-02T06:54:46.838Z"
   },
   {
    "duration": 12,
    "start_time": "2022-01-02T06:54:46.854Z"
   },
   {
    "duration": 8,
    "start_time": "2022-01-02T06:54:46.868Z"
   },
   {
    "duration": 47,
    "start_time": "2022-01-02T06:54:46.879Z"
   },
   {
    "duration": 6,
    "start_time": "2022-01-02T06:56:42.757Z"
   },
   {
    "duration": 19,
    "start_time": "2022-01-02T06:56:54.909Z"
   },
   {
    "duration": 457,
    "start_time": "2022-01-02T07:02:22.241Z"
   },
   {
    "duration": 473,
    "start_time": "2022-01-02T07:02:53.460Z"
   },
   {
    "duration": 318,
    "start_time": "2022-01-02T07:03:04.011Z"
   },
   {
    "duration": 19,
    "start_time": "2022-01-02T07:03:14.723Z"
   },
   {
    "duration": 329,
    "start_time": "2022-01-02T07:03:55.438Z"
   },
   {
    "duration": 354,
    "start_time": "2022-01-02T07:10:39.224Z"
   },
   {
    "duration": 370,
    "start_time": "2022-01-02T07:10:59.475Z"
   },
   {
    "duration": 20,
    "start_time": "2022-01-02T08:26:50.496Z"
   },
   {
    "duration": 7,
    "start_time": "2022-01-02T08:29:38.568Z"
   },
   {
    "duration": 6,
    "start_time": "2022-01-02T08:30:22.927Z"
   },
   {
    "duration": 16,
    "start_time": "2022-01-02T08:30:35.817Z"
   },
   {
    "duration": 6,
    "start_time": "2022-01-02T08:31:23.077Z"
   },
   {
    "duration": 6,
    "start_time": "2022-01-02T08:31:39.297Z"
   },
   {
    "duration": 7,
    "start_time": "2022-01-02T08:51:38.594Z"
   },
   {
    "duration": 17,
    "start_time": "2022-01-02T08:52:59.973Z"
   },
   {
    "duration": 315,
    "start_time": "2022-01-02T09:02:14.594Z"
   },
   {
    "duration": 21,
    "start_time": "2022-01-02T09:02:26.472Z"
   },
   {
    "duration": 18,
    "start_time": "2022-01-02T09:02:36.171Z"
   },
   {
    "duration": 19,
    "start_time": "2022-01-02T09:02:50.228Z"
   },
   {
    "duration": 19,
    "start_time": "2022-01-02T09:04:50.487Z"
   },
   {
    "duration": 6,
    "start_time": "2022-01-02T09:05:04.280Z"
   },
   {
    "duration": 6,
    "start_time": "2022-01-02T09:05:06.706Z"
   },
   {
    "duration": 15,
    "start_time": "2022-01-02T09:05:11.665Z"
   },
   {
    "duration": 5,
    "start_time": "2022-01-02T09:07:37.795Z"
   },
   {
    "duration": 7,
    "start_time": "2022-01-02T09:08:24.801Z"
   },
   {
    "duration": 72,
    "start_time": "2022-01-02T09:08:39.013Z"
   },
   {
    "duration": 14,
    "start_time": "2022-01-02T09:08:53.343Z"
   },
   {
    "duration": 7,
    "start_time": "2022-01-02T09:09:00.683Z"
   },
   {
    "duration": 16,
    "start_time": "2022-01-02T09:09:28.264Z"
   },
   {
    "duration": 5,
    "start_time": "2022-01-02T09:09:41.910Z"
   },
   {
    "duration": 6,
    "start_time": "2022-01-02T09:09:46.409Z"
   },
   {
    "duration": 13,
    "start_time": "2022-01-02T09:09:54.649Z"
   },
   {
    "duration": 5,
    "start_time": "2022-01-02T09:17:21.293Z"
   },
   {
    "duration": 15,
    "start_time": "2022-01-02T09:17:54.681Z"
   },
   {
    "duration": 6,
    "start_time": "2022-01-02T09:54:44.803Z"
   },
   {
    "duration": 11,
    "start_time": "2022-01-02T10:02:12.880Z"
   },
   {
    "duration": 331,
    "start_time": "2022-01-02T10:10:52.898Z"
   },
   {
    "duration": 118,
    "start_time": "2022-01-02T10:17:14.220Z"
   },
   {
    "duration": 749,
    "start_time": "2022-01-02T10:18:06.586Z"
   },
   {
    "duration": 7,
    "start_time": "2022-01-02T10:19:53.997Z"
   },
   {
    "duration": 139,
    "start_time": "2022-01-02T10:20:22.280Z"
   },
   {
    "duration": 4,
    "start_time": "2022-01-02T10:20:33.468Z"
   },
   {
    "duration": 341,
    "start_time": "2022-01-02T10:21:08.140Z"
   },
   {
    "duration": 872,
    "start_time": "2022-01-02T10:21:23.280Z"
   },
   {
    "duration": 8,
    "start_time": "2022-01-02T10:24:04.462Z"
   },
   {
    "duration": 4513,
    "start_time": "2022-01-02T10:35:40.494Z"
   },
   {
    "duration": 4,
    "start_time": "2022-01-02T10:36:25.311Z"
   },
   {
    "duration": 756,
    "start_time": "2022-01-02T12:25:16.445Z"
   },
   {
    "duration": 93,
    "start_time": "2022-01-02T12:25:17.203Z"
   },
   {
    "duration": 16,
    "start_time": "2022-01-02T12:25:17.299Z"
   },
   {
    "duration": 18,
    "start_time": "2022-01-02T12:25:17.318Z"
   },
   {
    "duration": 38,
    "start_time": "2022-01-02T12:25:17.339Z"
   },
   {
    "duration": 15,
    "start_time": "2022-01-02T12:25:17.381Z"
   },
   {
    "duration": 6,
    "start_time": "2022-01-02T12:25:17.399Z"
   },
   {
    "duration": 52,
    "start_time": "2022-01-02T12:25:17.411Z"
   },
   {
    "duration": 10,
    "start_time": "2022-01-02T12:25:17.467Z"
   },
   {
    "duration": 5,
    "start_time": "2022-01-02T12:25:17.480Z"
   },
   {
    "duration": 8,
    "start_time": "2022-01-02T12:25:17.487Z"
   },
   {
    "duration": 15,
    "start_time": "2022-01-02T12:25:17.497Z"
   },
   {
    "duration": 4,
    "start_time": "2022-01-02T12:25:17.514Z"
   },
   {
    "duration": 63,
    "start_time": "2022-01-02T12:25:17.520Z"
   },
   {
    "duration": 5,
    "start_time": "2022-01-02T12:25:17.585Z"
   },
   {
    "duration": 10,
    "start_time": "2022-01-02T12:25:17.592Z"
   },
   {
    "duration": 5011,
    "start_time": "2022-01-02T12:25:17.605Z"
   },
   {
    "duration": 401,
    "start_time": "2022-01-02T12:26:30.344Z"
   },
   {
    "duration": 6,
    "start_time": "2022-01-02T12:27:21.415Z"
   },
   {
    "duration": 258,
    "start_time": "2022-01-02T12:27:39.444Z"
   },
   {
    "duration": 6,
    "start_time": "2022-01-02T12:27:45.375Z"
   },
   {
    "duration": 238,
    "start_time": "2022-01-02T12:28:52.116Z"
   },
   {
    "duration": 43,
    "start_time": "2022-01-02T12:29:35.485Z"
   },
   {
    "duration": 7,
    "start_time": "2022-01-02T12:47:05.689Z"
   },
   {
    "duration": 10,
    "start_time": "2022-01-02T12:50:42.860Z"
   },
   {
    "duration": 6,
    "start_time": "2022-01-02T13:11:07.826Z"
   },
   {
    "duration": 49,
    "start_time": "2022-01-02T13:11:12.263Z"
   },
   {
    "duration": 5,
    "start_time": "2022-01-02T13:13:52.857Z"
   },
   {
    "duration": 7,
    "start_time": "2022-01-02T13:14:24.033Z"
   },
   {
    "duration": 20,
    "start_time": "2022-01-02T13:18:39.385Z"
   },
   {
    "duration": 30,
    "start_time": "2022-01-02T13:20:01.991Z"
   },
   {
    "duration": 39,
    "start_time": "2022-01-02T13:20:28.835Z"
   },
   {
    "duration": 4,
    "start_time": "2022-01-02T13:45:56.279Z"
   },
   {
    "duration": 86,
    "start_time": "2022-01-02T13:45:56.285Z"
   },
   {
    "duration": 25,
    "start_time": "2022-01-02T13:45:56.375Z"
   },
   {
    "duration": 24,
    "start_time": "2022-01-02T13:45:56.405Z"
   },
   {
    "duration": 12,
    "start_time": "2022-01-02T13:45:56.464Z"
   },
   {
    "duration": 13,
    "start_time": "2022-01-02T13:45:56.478Z"
   },
   {
    "duration": 5,
    "start_time": "2022-01-02T13:45:56.494Z"
   },
   {
    "duration": 61,
    "start_time": "2022-01-02T13:45:56.502Z"
   },
   {
    "duration": 7,
    "start_time": "2022-01-02T13:45:56.569Z"
   },
   {
    "duration": 5,
    "start_time": "2022-01-02T13:45:56.579Z"
   },
   {
    "duration": 6,
    "start_time": "2022-01-02T13:45:56.586Z"
   },
   {
    "duration": 14,
    "start_time": "2022-01-02T13:45:56.594Z"
   },
   {
    "duration": 6,
    "start_time": "2022-01-02T13:45:56.664Z"
   },
   {
    "duration": 16,
    "start_time": "2022-01-02T13:45:56.672Z"
   },
   {
    "duration": 5,
    "start_time": "2022-01-02T13:45:56.691Z"
   },
   {
    "duration": 79,
    "start_time": "2022-01-02T13:45:56.698Z"
   },
   {
    "duration": 1053,
    "start_time": "2022-01-02T13:45:56.780Z"
   },
   {
    "duration": 47,
    "start_time": "2022-01-02T13:45:57.836Z"
   },
   {
    "duration": 7,
    "start_time": "2022-01-02T13:45:57.885Z"
   },
   {
    "duration": 7,
    "start_time": "2022-01-02T13:45:57.895Z"
   },
   {
    "duration": 7,
    "start_time": "2022-01-02T13:45:57.905Z"
   },
   {
    "duration": 8,
    "start_time": "2022-01-02T13:45:57.963Z"
   },
   {
    "duration": 5,
    "start_time": "2022-01-02T13:46:21.838Z"
   },
   {
    "duration": 3,
    "start_time": "2022-01-02T13:47:03.684Z"
   },
   {
    "duration": 79,
    "start_time": "2022-01-02T13:47:06.012Z"
   },
   {
    "duration": 18,
    "start_time": "2022-01-02T13:47:12.836Z"
   },
   {
    "duration": 12,
    "start_time": "2022-01-02T13:47:25.457Z"
   },
   {
    "duration": 16,
    "start_time": "2022-01-02T13:47:28.056Z"
   },
   {
    "duration": 7,
    "start_time": "2022-01-02T13:47:32.825Z"
   },
   {
    "duration": 11,
    "start_time": "2022-01-02T13:47:39.174Z"
   },
   {
    "duration": 5,
    "start_time": "2022-01-02T13:47:50.893Z"
   },
   {
    "duration": 11,
    "start_time": "2022-01-02T13:47:55.465Z"
   },
   {
    "duration": 21,
    "start_time": "2022-01-02T13:47:58.853Z"
   },
   {
    "duration": 6,
    "start_time": "2022-01-02T13:48:04.878Z"
   },
   {
    "duration": 19,
    "start_time": "2022-01-02T13:48:07.455Z"
   },
   {
    "duration": 38,
    "start_time": "2022-01-02T13:48:21.444Z"
   },
   {
    "duration": 980,
    "start_time": "2022-01-02T13:48:23.554Z"
   },
   {
    "duration": 31,
    "start_time": "2022-01-02T13:48:26.909Z"
   },
   {
    "duration": 30,
    "start_time": "2022-01-02T13:48:49.803Z"
   },
   {
    "duration": 959,
    "start_time": "2022-01-02T13:48:53.653Z"
   },
   {
    "duration": 35,
    "start_time": "2022-01-02T13:49:01.317Z"
   },
   {
    "duration": 7,
    "start_time": "2022-01-02T13:49:22.628Z"
   },
   {
    "duration": 8,
    "start_time": "2022-01-02T13:49:31.095Z"
   },
   {
    "duration": 7,
    "start_time": "2022-01-02T13:49:56.873Z"
   },
   {
    "duration": 8,
    "start_time": "2022-01-02T13:50:02.158Z"
   },
   {
    "duration": 27,
    "start_time": "2022-01-02T13:50:44.795Z"
   },
   {
    "duration": 1217,
    "start_time": "2022-01-02T13:50:49.932Z"
   },
   {
    "duration": 32,
    "start_time": "2022-01-02T13:50:53.938Z"
   },
   {
    "duration": 17,
    "start_time": "2022-01-02T13:51:31.539Z"
   },
   {
    "duration": 18,
    "start_time": "2022-01-02T13:51:41.759Z"
   },
   {
    "duration": 7,
    "start_time": "2022-01-02T13:51:52.011Z"
   },
   {
    "duration": 40,
    "start_time": "2022-01-02T13:52:02.925Z"
   },
   {
    "duration": 342,
    "start_time": "2022-01-02T14:04:21.557Z"
   },
   {
    "duration": 243,
    "start_time": "2022-01-02T14:04:40.749Z"
   },
   {
    "duration": 8,
    "start_time": "2022-01-02T14:04:59.045Z"
   },
   {
    "duration": 5,
    "start_time": "2022-01-02T14:05:26.435Z"
   },
   {
    "duration": 15,
    "start_time": "2022-01-02T14:06:21.564Z"
   },
   {
    "duration": 386,
    "start_time": "2022-01-02T14:06:42.516Z"
   },
   {
    "duration": 261,
    "start_time": "2022-01-02T14:06:55.617Z"
   },
   {
    "duration": 8,
    "start_time": "2022-01-02T14:07:02.094Z"
   },
   {
    "duration": 10,
    "start_time": "2022-01-02T14:08:39.804Z"
   },
   {
    "duration": 9,
    "start_time": "2022-01-02T14:11:23.514Z"
   },
   {
    "duration": 253,
    "start_time": "2022-01-02T14:11:37.508Z"
   },
   {
    "duration": 247,
    "start_time": "2022-01-02T14:11:54.754Z"
   },
   {
    "duration": 265,
    "start_time": "2022-01-02T14:12:36.359Z"
   },
   {
    "duration": 250,
    "start_time": "2022-01-02T14:12:55.343Z"
   },
   {
    "duration": 27,
    "start_time": "2022-01-02T14:13:56.513Z"
   },
   {
    "duration": 810,
    "start_time": "2022-01-02T14:14:44.994Z"
   },
   {
    "duration": 764,
    "start_time": "2022-01-02T16:25:43.549Z"
   },
   {
    "duration": 89,
    "start_time": "2022-01-02T16:25:44.315Z"
   },
   {
    "duration": 23,
    "start_time": "2022-01-02T16:25:44.408Z"
   },
   {
    "duration": 15,
    "start_time": "2022-01-02T16:25:44.434Z"
   },
   {
    "duration": 11,
    "start_time": "2022-01-02T16:25:44.452Z"
   },
   {
    "duration": 18,
    "start_time": "2022-01-02T16:25:44.465Z"
   },
   {
    "duration": 6,
    "start_time": "2022-01-02T16:25:44.518Z"
   },
   {
    "duration": 6,
    "start_time": "2022-01-02T16:25:44.528Z"
   },
   {
    "duration": 7,
    "start_time": "2022-01-02T16:25:44.536Z"
   },
   {
    "duration": 6,
    "start_time": "2022-01-02T16:25:44.545Z"
   },
   {
    "duration": 5,
    "start_time": "2022-01-02T16:25:44.553Z"
   },
   {
    "duration": 59,
    "start_time": "2022-01-02T16:25:44.561Z"
   },
   {
    "duration": 5,
    "start_time": "2022-01-02T16:25:44.622Z"
   },
   {
    "duration": 15,
    "start_time": "2022-01-02T16:25:44.629Z"
   },
   {
    "duration": 5,
    "start_time": "2022-01-02T16:25:44.646Z"
   },
   {
    "duration": 9,
    "start_time": "2022-01-02T16:25:44.654Z"
   },
   {
    "duration": 942,
    "start_time": "2022-01-02T16:25:44.665Z"
   },
   {
    "duration": 33,
    "start_time": "2022-01-02T16:25:45.616Z"
   },
   {
    "duration": 6,
    "start_time": "2022-01-02T16:25:45.651Z"
   },
   {
    "duration": 8,
    "start_time": "2022-01-02T16:25:45.659Z"
   },
   {
    "duration": 13,
    "start_time": "2022-01-02T16:25:45.669Z"
   },
   {
    "duration": 48,
    "start_time": "2022-01-02T16:25:45.684Z"
   },
   {
    "duration": 6,
    "start_time": "2022-01-02T16:25:45.736Z"
   },
   {
    "duration": 7,
    "start_time": "2022-01-02T16:25:45.744Z"
   },
   {
    "duration": 3,
    "start_time": "2022-01-02T16:33:42.169Z"
   },
   {
    "duration": 4,
    "start_time": "2022-01-02T16:34:06.921Z"
   },
   {
    "duration": 21,
    "start_time": "2022-01-02T16:37:08.529Z"
   },
   {
    "duration": 9,
    "start_time": "2022-01-02T16:38:30.496Z"
   },
   {
    "duration": 12,
    "start_time": "2022-01-02T16:40:02.950Z"
   },
   {
    "duration": 8,
    "start_time": "2022-01-02T16:41:38.242Z"
   },
   {
    "duration": 8,
    "start_time": "2022-01-02T16:42:17.911Z"
   },
   {
    "duration": 18,
    "start_time": "2022-01-02T16:44:56.447Z"
   },
   {
    "duration": 4,
    "start_time": "2022-01-02T16:45:00.279Z"
   },
   {
    "duration": 21,
    "start_time": "2022-01-02T16:45:38.388Z"
   },
   {
    "duration": 17,
    "start_time": "2022-01-02T16:48:23.115Z"
   },
   {
    "duration": 15,
    "start_time": "2022-01-02T16:49:19.341Z"
   },
   {
    "duration": 22,
    "start_time": "2022-01-02T16:50:30.700Z"
   },
   {
    "duration": 3,
    "start_time": "2022-01-02T16:50:52.659Z"
   },
   {
    "duration": 13,
    "start_time": "2022-01-02T16:51:27.925Z"
   },
   {
    "duration": 20,
    "start_time": "2022-01-02T16:51:50.066Z"
   },
   {
    "duration": 20,
    "start_time": "2022-01-02T16:52:23.066Z"
   },
   {
    "duration": 4,
    "start_time": "2022-01-02T16:52:35.497Z"
   },
   {
    "duration": 10,
    "start_time": "2022-01-02T16:52:40.101Z"
   },
   {
    "duration": 9377,
    "start_time": "2022-01-02T16:54:34.505Z"
   },
   {
    "duration": 10,
    "start_time": "2022-01-02T16:58:01.891Z"
   },
   {
    "duration": 16,
    "start_time": "2022-01-02T16:58:15.471Z"
   },
   {
    "duration": 8,
    "start_time": "2022-01-02T16:58:18.209Z"
   },
   {
    "duration": 8,
    "start_time": "2022-01-02T16:59:50.026Z"
   },
   {
    "duration": 3,
    "start_time": "2022-01-02T17:30:21.735Z"
   },
   {
    "duration": 75,
    "start_time": "2022-01-02T17:30:24.232Z"
   },
   {
    "duration": 16,
    "start_time": "2022-01-02T17:30:54.282Z"
   },
   {
    "duration": 13,
    "start_time": "2022-01-02T17:32:22.365Z"
   },
   {
    "duration": 15,
    "start_time": "2022-01-02T17:32:25.871Z"
   },
   {
    "duration": 6,
    "start_time": "2022-01-02T17:32:49.291Z"
   },
   {
    "duration": 5,
    "start_time": "2022-01-02T17:34:19.394Z"
   },
   {
    "duration": 6,
    "start_time": "2022-01-02T17:34:36.353Z"
   },
   {
    "duration": 15,
    "start_time": "2022-01-02T17:34:40.658Z"
   },
   {
    "duration": 7,
    "start_time": "2022-01-02T17:35:02.402Z"
   },
   {
    "duration": 16,
    "start_time": "2022-01-02T17:35:08.804Z"
   },
   {
    "duration": 7,
    "start_time": "2022-01-02T17:39:10.588Z"
   },
   {
    "duration": 5,
    "start_time": "2022-01-02T17:40:00.186Z"
   },
   {
    "duration": 6,
    "start_time": "2022-01-02T17:40:47.555Z"
   },
   {
    "duration": 8,
    "start_time": "2022-01-02T17:41:30.373Z"
   },
   {
    "duration": 7805,
    "start_time": "2022-01-02T17:48:23.415Z"
   },
   {
    "duration": 8,
    "start_time": "2022-01-02T17:50:44.624Z"
   },
   {
    "duration": 11,
    "start_time": "2022-01-02T17:51:16.837Z"
   },
   {
    "duration": 8,
    "start_time": "2022-01-02T17:53:40.643Z"
   },
   {
    "duration": 19,
    "start_time": "2022-01-02T17:56:19.125Z"
   },
   {
    "duration": 17,
    "start_time": "2022-01-02T17:57:02.020Z"
   },
   {
    "duration": 8,
    "start_time": "2022-01-02T17:57:17.172Z"
   },
   {
    "duration": 9,
    "start_time": "2022-01-02T17:57:44.441Z"
   },
   {
    "duration": 6,
    "start_time": "2022-01-02T17:58:27.311Z"
   },
   {
    "duration": 6,
    "start_time": "2022-01-02T17:58:30.214Z"
   },
   {
    "duration": 12,
    "start_time": "2022-01-02T18:01:00.137Z"
   },
   {
    "duration": 7,
    "start_time": "2022-01-02T18:02:25.348Z"
   },
   {
    "duration": 7,
    "start_time": "2022-01-02T18:02:54.607Z"
   },
   {
    "duration": 25,
    "start_time": "2022-01-02T18:05:09.806Z"
   },
   {
    "duration": 891,
    "start_time": "2022-01-02T18:05:12.285Z"
   },
   {
    "duration": 34,
    "start_time": "2022-01-02T18:05:20.836Z"
   },
   {
    "duration": 24,
    "start_time": "2022-01-02T18:29:27.798Z"
   },
   {
    "duration": 369,
    "start_time": "2022-01-02T18:29:35.914Z"
   },
   {
    "duration": 315,
    "start_time": "2022-01-02T18:30:50.299Z"
   },
   {
    "duration": 934,
    "start_time": "2022-01-02T18:30:56.220Z"
   },
   {
    "duration": 34,
    "start_time": "2022-01-02T18:31:02.744Z"
   },
   {
    "duration": 6,
    "start_time": "2022-01-02T18:32:02.646Z"
   },
   {
    "duration": 31,
    "start_time": "2022-01-02T18:32:09.366Z"
   },
   {
    "duration": 4,
    "start_time": "2022-01-02T18:34:43.009Z"
   },
   {
    "duration": 929,
    "start_time": "2022-01-02T18:39:55.773Z"
   },
   {
    "duration": 7,
    "start_time": "2022-01-02T18:46:39.781Z"
   },
   {
    "duration": 13,
    "start_time": "2022-01-02T18:48:07.305Z"
   },
   {
    "duration": 1596,
    "start_time": "2022-01-02T18:55:09.801Z"
   },
   {
    "duration": 1538,
    "start_time": "2022-01-02T18:55:41.249Z"
   },
   {
    "duration": 384,
    "start_time": "2022-01-02T18:58:55.405Z"
   },
   {
    "duration": 2487,
    "start_time": "2022-01-02T18:59:39.942Z"
   },
   {
    "duration": 1428,
    "start_time": "2022-01-02T19:04:43.835Z"
   },
   {
    "duration": 8429,
    "start_time": "2022-01-02T19:22:26.914Z"
   },
   {
    "duration": 8,
    "start_time": "2022-01-02T19:22:48.083Z"
   },
   {
    "duration": 1463,
    "start_time": "2022-01-02T19:28:58.968Z"
   },
   {
    "duration": 327,
    "start_time": "2022-01-02T19:30:22.151Z"
   },
   {
    "duration": 543,
    "start_time": "2022-01-02T19:30:42.110Z"
   },
   {
    "duration": 314,
    "start_time": "2022-01-02T19:33:26.784Z"
   },
   {
    "duration": 47,
    "start_time": "2022-01-02T19:41:43.223Z"
   },
   {
    "duration": 325,
    "start_time": "2022-01-02T19:58:26.172Z"
   },
   {
    "duration": 12,
    "start_time": "2022-01-02T19:58:33.714Z"
   },
   {
    "duration": 10,
    "start_time": "2022-01-02T19:58:44.761Z"
   },
   {
    "duration": 8,
    "start_time": "2022-01-02T19:59:01.063Z"
   },
   {
    "duration": 2391,
    "start_time": "2022-01-02T20:01:21.292Z"
   },
   {
    "duration": 2363,
    "start_time": "2022-01-02T20:02:14.490Z"
   },
   {
    "duration": 2384,
    "start_time": "2022-01-02T20:02:34.267Z"
   },
   {
    "duration": 738,
    "start_time": "2022-01-03T08:47:40.919Z"
   },
   {
    "duration": 84,
    "start_time": "2022-01-03T08:47:45.233Z"
   },
   {
    "duration": 44,
    "start_time": "2022-01-03T08:57:33.440Z"
   },
   {
    "duration": 8998,
    "start_time": "2022-01-03T09:23:51.567Z"
   },
   {
    "duration": 1336,
    "start_time": "2022-01-03T09:24:31.823Z"
   },
   {
    "duration": 115,
    "start_time": "2022-01-03T09:30:09.127Z"
   },
   {
    "duration": 8802,
    "start_time": "2022-01-03T09:35:42.748Z"
   },
   {
    "duration": 313,
    "start_time": "2022-01-03T09:36:37.604Z"
   },
   {
    "duration": 9419,
    "start_time": "2022-01-03T09:36:45.773Z"
   },
   {
    "duration": 13,
    "start_time": "2022-01-03T09:37:54.235Z"
   },
   {
    "duration": 13,
    "start_time": "2022-01-03T09:39:20.470Z"
   },
   {
    "duration": 23,
    "start_time": "2022-01-03T10:06:20.184Z"
   },
   {
    "duration": 6,
    "start_time": "2022-01-03T10:06:29.966Z"
   },
   {
    "duration": 46,
    "start_time": "2022-01-03T10:09:30.170Z"
   },
   {
    "duration": 50,
    "start_time": "2022-01-03T10:11:20.059Z"
   },
   {
    "duration": 48,
    "start_time": "2022-01-03T10:12:48.957Z"
   },
   {
    "duration": 5,
    "start_time": "2022-01-03T10:13:10.856Z"
   },
   {
    "duration": 6,
    "start_time": "2022-01-03T10:13:16.370Z"
   },
   {
    "duration": 15,
    "start_time": "2022-01-03T10:13:22.123Z"
   },
   {
    "duration": 5,
    "start_time": "2022-01-03T10:13:28.750Z"
   },
   {
    "duration": 14,
    "start_time": "2022-01-03T10:13:31.537Z"
   },
   {
    "duration": 21,
    "start_time": "2022-01-03T10:13:39.734Z"
   },
   {
    "duration": 55,
    "start_time": "2022-01-03T10:13:43.103Z"
   },
   {
    "duration": 50,
    "start_time": "2022-01-03T10:14:04.432Z"
   },
   {
    "duration": 5,
    "start_time": "2022-01-03T10:14:21.204Z"
   },
   {
    "duration": 9,
    "start_time": "2022-01-03T10:15:29.309Z"
   },
   {
    "duration": 7,
    "start_time": "2022-01-03T10:15:40.832Z"
   },
   {
    "duration": 8,
    "start_time": "2022-01-03T10:15:57.785Z"
   },
   {
    "duration": 20,
    "start_time": "2022-01-03T10:16:55.802Z"
   },
   {
    "duration": 18,
    "start_time": "2022-01-03T10:16:58.808Z"
   },
   {
    "duration": 6,
    "start_time": "2022-01-03T10:17:59.365Z"
   },
   {
    "duration": 8,
    "start_time": "2022-01-03T10:18:03.581Z"
   },
   {
    "duration": 6,
    "start_time": "2022-01-03T10:18:52.911Z"
   },
   {
    "duration": 11,
    "start_time": "2022-01-03T10:23:25.876Z"
   },
   {
    "duration": 8,
    "start_time": "2022-01-03T10:23:29.231Z"
   },
   {
    "duration": 8,
    "start_time": "2022-01-03T10:26:15.081Z"
   },
   {
    "duration": 2617,
    "start_time": "2022-01-03T10:31:12.193Z"
   },
   {
    "duration": 1520,
    "start_time": "2022-01-03T10:47:32.545Z"
   },
   {
    "duration": 13020,
    "start_time": "2022-01-03T10:48:33.896Z"
   },
   {
    "duration": 1449,
    "start_time": "2022-01-03T11:00:32.076Z"
   },
   {
    "duration": 1516,
    "start_time": "2022-01-03T11:01:16.932Z"
   },
   {
    "duration": 335,
    "start_time": "2022-01-03T11:08:03.729Z"
   },
   {
    "duration": 2082,
    "start_time": "2022-01-03T11:08:24.834Z"
   },
   {
    "duration": 1750,
    "start_time": "2022-01-03T11:08:34.985Z"
   },
   {
    "duration": 2623,
    "start_time": "2022-01-03T11:09:47.582Z"
   },
   {
    "duration": 1496,
    "start_time": "2022-01-03T11:21:43.471Z"
   },
   {
    "duration": 1730,
    "start_time": "2022-01-03T11:22:09.355Z"
   },
   {
    "duration": 1756,
    "start_time": "2022-01-03T11:24:17.121Z"
   },
   {
    "duration": 1511,
    "start_time": "2022-01-03T11:58:50.363Z"
   },
   {
    "duration": 110,
    "start_time": "2022-01-03T12:04:18.148Z"
   },
   {
    "duration": 391,
    "start_time": "2022-01-03T12:04:30.091Z"
   },
   {
    "duration": 7,
    "start_time": "2022-01-03T12:05:20.736Z"
   },
   {
    "duration": 5,
    "start_time": "2022-01-03T12:06:39.089Z"
   },
   {
    "duration": 142,
    "start_time": "2022-01-03T12:08:44.096Z"
   },
   {
    "duration": 1565,
    "start_time": "2022-01-03T12:09:26.147Z"
   },
   {
    "duration": 4,
    "start_time": "2022-01-03T12:10:14.132Z"
   },
   {
    "duration": 6,
    "start_time": "2022-01-03T12:14:01.726Z"
   },
   {
    "duration": 9,
    "start_time": "2022-01-03T12:27:21.551Z"
   },
   {
    "duration": 8574,
    "start_time": "2022-01-03T12:36:27.238Z"
   },
   {
    "duration": 8619,
    "start_time": "2022-01-03T12:36:44.373Z"
   },
   {
    "duration": 8858,
    "start_time": "2022-01-03T12:37:23.800Z"
   },
   {
    "duration": 8,
    "start_time": "2022-01-03T12:38:02.018Z"
   },
   {
    "duration": 5,
    "start_time": "2022-01-03T12:38:30.132Z"
   },
   {
    "duration": 7,
    "start_time": "2022-01-03T13:06:54.042Z"
   },
   {
    "duration": 5,
    "start_time": "2022-01-03T13:08:40.043Z"
   },
   {
    "duration": 1569,
    "start_time": "2022-01-03T13:09:50.806Z"
   },
   {
    "duration": 1223,
    "start_time": "2022-01-03T13:12:09.037Z"
   },
   {
    "duration": 1285,
    "start_time": "2022-01-03T13:12:32.748Z"
   },
   {
    "duration": 10,
    "start_time": "2022-01-03T13:15:52.200Z"
   },
   {
    "duration": 6,
    "start_time": "2022-01-03T13:17:45.901Z"
   },
   {
    "duration": 6,
    "start_time": "2022-01-03T13:17:57.171Z"
   },
   {
    "duration": 5,
    "start_time": "2022-01-03T13:18:29.570Z"
   },
   {
    "duration": 10,
    "start_time": "2022-01-03T13:20:05.041Z"
   },
   {
    "duration": 488,
    "start_time": "2022-01-03T13:24:28.992Z"
   },
   {
    "duration": 25,
    "start_time": "2022-01-03T13:24:47.403Z"
   },
   {
    "duration": 10,
    "start_time": "2022-01-03T13:28:21.124Z"
   },
   {
    "duration": 4,
    "start_time": "2022-01-03T13:42:38.791Z"
   },
   {
    "duration": 561,
    "start_time": "2022-01-03T13:43:53.798Z"
   },
   {
    "duration": 12,
    "start_time": "2022-01-03T13:46:06.661Z"
   },
   {
    "duration": 10,
    "start_time": "2022-01-03T13:46:55.199Z"
   },
   {
    "duration": 112,
    "start_time": "2022-01-03T13:53:13.855Z"
   },
   {
    "duration": 19,
    "start_time": "2022-01-03T13:53:30.966Z"
   },
   {
    "duration": 19,
    "start_time": "2022-01-03T13:58:02.676Z"
   },
   {
    "duration": 19,
    "start_time": "2022-01-03T13:58:15.584Z"
   },
   {
    "duration": 19,
    "start_time": "2022-01-03T13:58:30.534Z"
   },
   {
    "duration": 9,
    "start_time": "2022-01-03T13:59:48.373Z"
   },
   {
    "duration": 18,
    "start_time": "2022-01-03T14:09:22.811Z"
   },
   {
    "duration": 8268,
    "start_time": "2022-01-03T14:10:47.568Z"
   },
   {
    "duration": 8,
    "start_time": "2022-01-03T14:11:23.981Z"
   },
   {
    "duration": 369,
    "start_time": "2022-01-03T14:32:44.883Z"
   },
   {
    "duration": 335,
    "start_time": "2022-01-03T14:35:53.183Z"
   },
   {
    "duration": 6,
    "start_time": "2022-01-03T14:36:12.936Z"
   },
   {
    "duration": 1737,
    "start_time": "2022-01-03T18:26:10.968Z"
   },
   {
    "duration": 82,
    "start_time": "2022-01-03T18:26:12.707Z"
   },
   {
    "duration": 70,
    "start_time": "2022-01-03T18:26:12.792Z"
   },
   {
    "duration": 16,
    "start_time": "2022-01-03T18:26:12.865Z"
   },
   {
    "duration": 17,
    "start_time": "2022-01-03T18:26:12.883Z"
   },
   {
    "duration": 1913,
    "start_time": "2022-01-03T18:26:12.902Z"
   },
   {
    "duration": -9514,
    "start_time": "2022-01-03T18:26:24.333Z"
   },
   {
    "duration": -9518,
    "start_time": "2022-01-03T18:26:24.338Z"
   },
   {
    "duration": -9518,
    "start_time": "2022-01-03T18:26:24.340Z"
   },
   {
    "duration": -9519,
    "start_time": "2022-01-03T18:26:24.342Z"
   },
   {
    "duration": -9519,
    "start_time": "2022-01-03T18:26:24.344Z"
   },
   {
    "duration": -9531,
    "start_time": "2022-01-03T18:26:24.357Z"
   },
   {
    "duration": -9533,
    "start_time": "2022-01-03T18:26:24.360Z"
   },
   {
    "duration": -9534,
    "start_time": "2022-01-03T18:26:24.362Z"
   },
   {
    "duration": -9539,
    "start_time": "2022-01-03T18:26:24.368Z"
   },
   {
    "duration": -9538,
    "start_time": "2022-01-03T18:26:24.369Z"
   },
   {
    "duration": -9539,
    "start_time": "2022-01-03T18:26:24.371Z"
   },
   {
    "duration": -9540,
    "start_time": "2022-01-03T18:26:24.373Z"
   },
   {
    "duration": -9540,
    "start_time": "2022-01-03T18:26:24.374Z"
   },
   {
    "duration": -9559,
    "start_time": "2022-01-03T18:26:24.394Z"
   },
   {
    "duration": -9562,
    "start_time": "2022-01-03T18:26:24.398Z"
   },
   {
    "duration": -9564,
    "start_time": "2022-01-03T18:26:24.402Z"
   },
   {
    "duration": -9566,
    "start_time": "2022-01-03T18:26:24.405Z"
   },
   {
    "duration": -9568,
    "start_time": "2022-01-03T18:26:24.408Z"
   },
   {
    "duration": -9569,
    "start_time": "2022-01-03T18:26:24.410Z"
   },
   {
    "duration": -9570,
    "start_time": "2022-01-03T18:26:24.413Z"
   },
   {
    "duration": -9601,
    "start_time": "2022-01-03T18:26:24.445Z"
   },
   {
    "duration": -9609,
    "start_time": "2022-01-03T18:26:24.454Z"
   },
   {
    "duration": -9610,
    "start_time": "2022-01-03T18:26:24.457Z"
   },
   {
    "duration": -9611,
    "start_time": "2022-01-03T18:26:24.459Z"
   },
   {
    "duration": -9613,
    "start_time": "2022-01-03T18:26:24.462Z"
   },
   {
    "duration": -9645,
    "start_time": "2022-01-03T18:26:24.496Z"
   },
   {
    "duration": -9650,
    "start_time": "2022-01-03T18:26:24.502Z"
   },
   {
    "duration": -9652,
    "start_time": "2022-01-03T18:26:24.505Z"
   },
   {
    "duration": -9667,
    "start_time": "2022-01-03T18:26:24.521Z"
   },
   {
    "duration": -9668,
    "start_time": "2022-01-03T18:26:24.524Z"
   },
   {
    "duration": 8885,
    "start_time": "2022-01-03T18:26:31.519Z"
   },
   {
    "duration": 12,
    "start_time": "2022-01-03T18:26:57.144Z"
   },
   {
    "duration": 7,
    "start_time": "2022-01-03T18:27:05.114Z"
   },
   {
    "duration": 6,
    "start_time": "2022-01-03T18:27:11.110Z"
   },
   {
    "duration": 7,
    "start_time": "2022-01-03T18:27:13.715Z"
   },
   {
    "duration": 15,
    "start_time": "2022-01-03T18:27:17.095Z"
   },
   {
    "duration": 5,
    "start_time": "2022-01-03T18:27:24.181Z"
   },
   {
    "duration": 16,
    "start_time": "2022-01-03T18:27:27.520Z"
   },
   {
    "duration": 23,
    "start_time": "2022-01-03T18:27:34.098Z"
   },
   {
    "duration": 52,
    "start_time": "2022-01-03T18:27:35.374Z"
   },
   {
    "duration": 19,
    "start_time": "2022-01-03T18:27:43.090Z"
   },
   {
    "duration": 17,
    "start_time": "2022-01-03T18:27:44.387Z"
   },
   {
    "duration": 6,
    "start_time": "2022-01-03T18:27:45.728Z"
   },
   {
    "duration": 5,
    "start_time": "2022-01-03T18:27:46.456Z"
   },
   {
    "duration": 10,
    "start_time": "2022-01-03T18:27:52.818Z"
   },
   {
    "duration": 8,
    "start_time": "2022-01-03T18:27:54.017Z"
   },
   {
    "duration": 2468,
    "start_time": "2022-01-03T18:27:55.204Z"
   },
   {
    "duration": 6,
    "start_time": "2022-01-03T18:27:57.675Z"
   },
   {
    "duration": 5,
    "start_time": "2022-01-03T18:28:01.725Z"
   },
   {
    "duration": 1699,
    "start_time": "2022-01-03T18:28:12.826Z"
   },
   {
    "duration": 9,
    "start_time": "2022-01-03T18:28:19.125Z"
   },
   {
    "duration": 7,
    "start_time": "2022-01-03T18:28:21.266Z"
   },
   {
    "duration": 10,
    "start_time": "2022-01-03T18:28:22.992Z"
   },
   {
    "duration": 10,
    "start_time": "2022-01-03T18:28:23.911Z"
   },
   {
    "duration": 25,
    "start_time": "2022-01-03T18:28:26.032Z"
   },
   {
    "duration": 10,
    "start_time": "2022-01-03T18:28:28.425Z"
   },
   {
    "duration": 20,
    "start_time": "2022-01-03T18:28:30.697Z"
   },
   {
    "duration": 8,
    "start_time": "2022-01-03T18:28:31.439Z"
   },
   {
    "duration": 18,
    "start_time": "2022-01-03T18:28:34.863Z"
   },
   {
    "duration": 9,
    "start_time": "2022-01-03T18:28:36.557Z"
   },
   {
    "duration": 536,
    "start_time": "2022-01-03T19:03:54.351Z"
   },
   {
    "duration": 7,
    "start_time": "2022-01-03T19:04:08.883Z"
   },
   {
    "duration": 12,
    "start_time": "2022-01-03T19:04:20.940Z"
   },
   {
    "duration": 8,
    "start_time": "2022-01-03T19:05:48.087Z"
   },
   {
    "duration": 579,
    "start_time": "2022-01-03T19:08:37.868Z"
   },
   {
    "duration": 150,
    "start_time": "2022-01-03T19:11:04.248Z"
   },
   {
    "duration": 125,
    "start_time": "2022-01-03T19:11:23.188Z"
   },
   {
    "duration": 9,
    "start_time": "2022-01-03T19:11:50.802Z"
   },
   {
    "duration": 10,
    "start_time": "2022-01-03T19:21:35.085Z"
   },
   {
    "duration": 11,
    "start_time": "2022-01-03T19:22:36.398Z"
   },
   {
    "duration": 10,
    "start_time": "2022-01-03T19:31:38.671Z"
   },
   {
    "duration": 7,
    "start_time": "2022-01-03T19:32:48.984Z"
   },
   {
    "duration": 10,
    "start_time": "2022-01-03T19:37:22.147Z"
   },
   {
    "duration": 7,
    "start_time": "2022-01-03T19:37:36.794Z"
   },
   {
    "duration": 12,
    "start_time": "2022-01-03T19:38:32.753Z"
   },
   {
    "duration": 10,
    "start_time": "2022-01-03T19:52:32.080Z"
   },
   {
    "duration": 12,
    "start_time": "2022-01-03T19:53:53.458Z"
   },
   {
    "duration": 10,
    "start_time": "2022-01-03T19:56:48.676Z"
   },
   {
    "duration": 10,
    "start_time": "2022-01-03T19:59:52.857Z"
   },
   {
    "duration": 530,
    "start_time": "2022-01-04T07:45:30.926Z"
   },
   {
    "duration": 66,
    "start_time": "2022-01-04T07:45:33.671Z"
   },
   {
    "duration": 32,
    "start_time": "2022-01-04T07:45:43.832Z"
   },
   {
    "duration": 192,
    "start_time": "2022-01-04T07:50:28.453Z"
   },
   {
    "duration": 126,
    "start_time": "2022-01-04T07:50:48.295Z"
   },
   {
    "duration": 11,
    "start_time": "2022-01-04T07:51:00.279Z"
   },
   {
    "duration": 127,
    "start_time": "2022-01-04T07:51:27.596Z"
   },
   {
    "duration": 20,
    "start_time": "2022-01-04T07:51:37.175Z"
   },
   {
    "duration": 53,
    "start_time": "2022-01-04T07:51:50.792Z"
   },
   {
    "duration": 970,
    "start_time": "2022-01-04T07:52:35.108Z"
   },
   {
    "duration": 593,
    "start_time": "2022-01-04T07:53:13.247Z"
   },
   {
    "duration": 9,
    "start_time": "2022-01-04T07:53:52.009Z"
   },
   {
    "duration": 4,
    "start_time": "2022-01-04T07:56:22.692Z"
   },
   {
    "duration": 5,
    "start_time": "2022-01-04T07:56:40.026Z"
   },
   {
    "duration": 11,
    "start_time": "2022-01-04T07:56:51.432Z"
   },
   {
    "duration": 4,
    "start_time": "2022-01-04T07:57:12.080Z"
   },
   {
    "duration": 13,
    "start_time": "2022-01-04T07:57:15.845Z"
   },
   {
    "duration": 17,
    "start_time": "2022-01-04T07:57:38.762Z"
   },
   {
    "duration": 30,
    "start_time": "2022-01-04T07:57:41.590Z"
   },
   {
    "duration": 15,
    "start_time": "2022-01-04T07:57:54.090Z"
   },
   {
    "duration": 14,
    "start_time": "2022-01-04T07:57:55.170Z"
   },
   {
    "duration": 4,
    "start_time": "2022-01-04T07:57:58.542Z"
   },
   {
    "duration": 4,
    "start_time": "2022-01-04T07:57:59.794Z"
   },
   {
    "duration": 4,
    "start_time": "2022-01-04T07:58:06.508Z"
   },
   {
    "duration": 7,
    "start_time": "2022-01-04T07:58:08.503Z"
   },
   {
    "duration": 1764,
    "start_time": "2022-01-04T07:58:19.545Z"
   },
   {
    "duration": 4,
    "start_time": "2022-01-04T07:58:26.627Z"
   },
   {
    "duration": 4,
    "start_time": "2022-01-04T07:58:29.103Z"
   },
   {
    "duration": 1223,
    "start_time": "2022-01-04T07:58:32.891Z"
   },
   {
    "duration": 7,
    "start_time": "2022-01-04T07:58:53.073Z"
   },
   {
    "duration": 6,
    "start_time": "2022-01-04T07:59:00.551Z"
   },
   {
    "duration": 7,
    "start_time": "2022-01-04T07:59:20.406Z"
   },
   {
    "duration": 9,
    "start_time": "2022-01-04T07:59:25.263Z"
   },
   {
    "duration": 16,
    "start_time": "2022-01-04T07:59:36.154Z"
   },
   {
    "duration": 6,
    "start_time": "2022-01-04T08:00:14.484Z"
   },
   {
    "duration": 16,
    "start_time": "2022-01-04T08:00:41.607Z"
   },
   {
    "duration": 6,
    "start_time": "2022-01-04T08:00:52.458Z"
   },
   {
    "duration": 14,
    "start_time": "2022-01-04T08:01:05.049Z"
   },
   {
    "duration": 7,
    "start_time": "2022-01-04T08:01:12.098Z"
   },
   {
    "duration": 11,
    "start_time": "2022-01-04T08:08:02.329Z"
   },
   {
    "duration": 322,
    "start_time": "2022-01-04T08:13:50.265Z"
   },
   {
    "duration": 12,
    "start_time": "2022-01-04T08:14:09.354Z"
   },
   {
    "duration": 6,
    "start_time": "2022-01-04T08:14:18.393Z"
   },
   {
    "duration": 9,
    "start_time": "2022-01-04T08:14:26.620Z"
   },
   {
    "duration": 8,
    "start_time": "2022-01-04T08:14:32.181Z"
   },
   {
    "duration": 71,
    "start_time": "2022-01-04T08:17:19.609Z"
   },
   {
    "duration": 3,
    "start_time": "2022-01-04T08:17:32.568Z"
   },
   {
    "duration": 3,
    "start_time": "2022-01-04T08:18:18.368Z"
   },
   {
    "duration": 44,
    "start_time": "2022-01-04T08:18:25.245Z"
   },
   {
    "duration": 4,
    "start_time": "2022-01-04T08:18:37.024Z"
   },
   {
    "duration": 3,
    "start_time": "2022-01-04T08:18:56.466Z"
   },
   {
    "duration": 4,
    "start_time": "2022-01-04T08:19:12.891Z"
   },
   {
    "duration": 9,
    "start_time": "2022-01-04T08:19:42.812Z"
   },
   {
    "duration": 3,
    "start_time": "2022-01-04T08:20:20.926Z"
   },
   {
    "duration": 767,
    "start_time": "2022-01-05T07:47:24.766Z"
   },
   {
    "duration": 89,
    "start_time": "2022-01-05T07:47:26.169Z"
   },
   {
    "duration": 45,
    "start_time": "2022-01-05T07:50:04.469Z"
   },
   {
    "duration": 22,
    "start_time": "2022-01-05T07:51:16.256Z"
   },
   {
    "duration": 16,
    "start_time": "2022-01-05T07:51:21.660Z"
   },
   {
    "duration": 8,
    "start_time": "2022-01-05T07:51:24.613Z"
   },
   {
    "duration": 12,
    "start_time": "2022-01-05T07:52:05.970Z"
   },
   {
    "duration": 1458,
    "start_time": "2022-01-05T07:52:08.773Z"
   },
   {
    "duration": 14,
    "start_time": "2022-01-05T07:52:13.491Z"
   },
   {
    "duration": 6,
    "start_time": "2022-01-05T07:52:16.351Z"
   },
   {
    "duration": 125,
    "start_time": "2022-01-05T07:56:02.870Z"
   },
   {
    "duration": 102,
    "start_time": "2022-01-05T07:56:33.825Z"
   },
   {
    "duration": 39,
    "start_time": "2022-01-05T07:57:28.250Z"
   },
   {
    "duration": 29,
    "start_time": "2022-01-05T07:58:32.711Z"
   },
   {
    "duration": 3,
    "start_time": "2022-01-05T07:58:47.791Z"
   },
   {
    "duration": 79,
    "start_time": "2022-01-05T07:58:49.361Z"
   },
   {
    "duration": 45,
    "start_time": "2022-01-05T07:58:52.502Z"
   },
   {
    "duration": 15,
    "start_time": "2022-01-05T07:58:55.289Z"
   },
   {
    "duration": 15,
    "start_time": "2022-01-05T07:59:03.521Z"
   },
   {
    "duration": 7,
    "start_time": "2022-01-05T07:59:06.325Z"
   },
   {
    "duration": 12,
    "start_time": "2022-01-05T07:59:08.749Z"
   },
   {
    "duration": 1294,
    "start_time": "2022-01-05T07:59:10.857Z"
   },
   {
    "duration": 23,
    "start_time": "2022-01-05T07:59:46.127Z"
   },
   {
    "duration": 1328,
    "start_time": "2022-01-05T08:01:02.066Z"
   },
   {
    "duration": 17,
    "start_time": "2022-01-05T08:08:41.197Z"
   },
   {
    "duration": 4,
    "start_time": "2022-01-05T08:09:27.471Z"
   },
   {
    "duration": 80,
    "start_time": "2022-01-05T08:09:27.477Z"
   },
   {
    "duration": 45,
    "start_time": "2022-01-05T08:09:32.878Z"
   },
   {
    "duration": 14,
    "start_time": "2022-01-05T08:09:32.926Z"
   },
   {
    "duration": 28,
    "start_time": "2022-01-05T08:09:32.943Z"
   },
   {
    "duration": 9,
    "start_time": "2022-01-05T08:09:32.974Z"
   },
   {
    "duration": 11,
    "start_time": "2022-01-05T08:09:32.986Z"
   },
   {
    "duration": 17,
    "start_time": "2022-01-05T08:09:32.999Z"
   },
   {
    "duration": 13,
    "start_time": "2022-01-05T08:09:34.474Z"
   },
   {
    "duration": 17,
    "start_time": "2022-01-05T08:09:34.489Z"
   },
   {
    "duration": 50,
    "start_time": "2022-01-05T08:09:34.509Z"
   },
   {
    "duration": 15,
    "start_time": "2022-01-05T08:09:34.562Z"
   },
   {
    "duration": 7,
    "start_time": "2022-01-05T08:09:34.580Z"
   },
   {
    "duration": 19,
    "start_time": "2022-01-05T08:09:34.589Z"
   },
   {
    "duration": 50,
    "start_time": "2022-01-05T08:09:34.611Z"
   },
   {
    "duration": 45,
    "start_time": "2022-01-05T08:09:34.665Z"
   },
   {
    "duration": 19,
    "start_time": "2022-01-05T08:09:34.714Z"
   },
   {
    "duration": 18,
    "start_time": "2022-01-05T08:09:34.760Z"
   },
   {
    "duration": 5,
    "start_time": "2022-01-05T08:09:34.780Z"
   },
   {
    "duration": 5,
    "start_time": "2022-01-05T08:09:34.788Z"
   },
   {
    "duration": 6,
    "start_time": "2022-01-05T08:09:34.795Z"
   },
   {
    "duration": 7,
    "start_time": "2022-01-05T08:09:34.804Z"
   },
   {
    "duration": 2681,
    "start_time": "2022-01-05T08:09:34.813Z"
   },
   {
    "duration": 4,
    "start_time": "2022-01-05T08:09:37.497Z"
   },
   {
    "duration": 9,
    "start_time": "2022-01-05T08:09:37.504Z"
   },
   {
    "duration": 1670,
    "start_time": "2022-01-05T08:09:37.515Z"
   },
   {
    "duration": 8,
    "start_time": "2022-01-05T08:09:39.187Z"
   },
   {
    "duration": 11,
    "start_time": "2022-01-05T08:09:39.198Z"
   },
   {
    "duration": 11,
    "start_time": "2022-01-05T08:09:39.212Z"
   },
   {
    "duration": 42,
    "start_time": "2022-01-05T08:09:39.226Z"
   },
   {
    "duration": 25,
    "start_time": "2022-01-05T08:09:39.275Z"
   },
   {
    "duration": 9,
    "start_time": "2022-01-05T08:09:39.303Z"
   },
   {
    "duration": 56,
    "start_time": "2022-01-05T08:09:39.315Z"
   },
   {
    "duration": 12,
    "start_time": "2022-01-05T08:09:39.374Z"
   },
   {
    "duration": 19,
    "start_time": "2022-01-05T08:09:39.389Z"
   },
   {
    "duration": 51,
    "start_time": "2022-01-05T08:09:39.411Z"
   },
   {
    "duration": 24,
    "start_time": "2022-01-05T08:09:39.465Z"
   },
   {
    "duration": 23,
    "start_time": "2022-01-05T08:09:39.504Z"
   },
   {
    "duration": 110,
    "start_time": "2022-01-05T08:09:39.531Z"
   },
   {
    "duration": 91,
    "start_time": "2022-01-05T08:09:39.644Z"
   },
   {
    "duration": 132,
    "start_time": "2022-01-05T08:09:39.738Z"
   },
   {
    "duration": 114,
    "start_time": "2022-01-05T08:09:39.873Z"
   },
   {
    "duration": 10,
    "start_time": "2022-01-05T08:09:39.991Z"
   },
   {
    "duration": 9,
    "start_time": "2022-01-05T08:09:40.004Z"
   },
   {
    "duration": 13,
    "start_time": "2022-01-05T08:09:40.016Z"
   },
   {
    "duration": 3,
    "start_time": "2022-01-05T08:09:40.031Z"
   },
   {
    "duration": 10,
    "start_time": "2022-01-05T08:09:40.060Z"
   },
   {
    "duration": 12,
    "start_time": "2022-01-05T08:09:40.072Z"
   },
   {
    "duration": 10,
    "start_time": "2022-01-05T08:09:40.087Z"
   },
   {
    "duration": 8,
    "start_time": "2022-01-05T08:12:55.515Z"
   },
   {
    "duration": 10,
    "start_time": "2022-01-05T08:13:24.388Z"
   },
   {
    "duration": 114,
    "start_time": "2022-01-05T08:18:00.509Z"
   },
   {
    "duration": 37,
    "start_time": "2022-01-05T08:18:12.358Z"
   },
   {
    "duration": 40,
    "start_time": "2022-01-05T08:18:28.923Z"
   },
   {
    "duration": 8,
    "start_time": "2022-01-05T08:19:29.908Z"
   },
   {
    "duration": 10,
    "start_time": "2022-01-05T08:23:00.538Z"
   },
   {
    "duration": 9,
    "start_time": "2022-01-05T08:23:15.086Z"
   },
   {
    "duration": 14,
    "start_time": "2022-01-05T08:23:21.179Z"
   },
   {
    "duration": 6,
    "start_time": "2022-01-05T08:33:22.349Z"
   },
   {
    "duration": 6,
    "start_time": "2022-01-05T08:34:58.910Z"
   },
   {
    "duration": 6,
    "start_time": "2022-01-05T08:36:46.120Z"
   },
   {
    "duration": 7,
    "start_time": "2022-01-05T08:36:58.032Z"
   },
   {
    "duration": 7,
    "start_time": "2022-01-05T08:37:15.746Z"
   },
   {
    "duration": 9,
    "start_time": "2022-01-05T08:38:33.191Z"
   },
   {
    "duration": 352,
    "start_time": "2022-01-05T08:41:48.954Z"
   },
   {
    "duration": 9,
    "start_time": "2022-01-05T08:42:04.700Z"
   },
   {
    "duration": 6,
    "start_time": "2022-01-05T08:42:09.640Z"
   },
   {
    "duration": 9,
    "start_time": "2022-01-05T09:11:45.906Z"
   },
   {
    "duration": 8,
    "start_time": "2022-01-05T09:11:49.326Z"
   },
   {
    "duration": 10,
    "start_time": "2022-01-05T09:11:55.822Z"
   },
   {
    "duration": 11,
    "start_time": "2022-01-05T09:12:09.021Z"
   },
   {
    "duration": 8,
    "start_time": "2022-01-05T09:16:31.485Z"
   },
   {
    "duration": 10,
    "start_time": "2022-01-05T09:25:19.653Z"
   },
   {
    "duration": 13,
    "start_time": "2022-01-05T09:38:25.563Z"
   },
   {
    "duration": 11,
    "start_time": "2022-01-05T09:38:49.350Z"
   },
   {
    "duration": 8,
    "start_time": "2022-01-05T09:43:43.880Z"
   },
   {
    "duration": 9,
    "start_time": "2022-01-05T09:44:04.518Z"
   },
   {
    "duration": 8673,
    "start_time": "2022-01-05T09:45:31.538Z"
   },
   {
    "duration": 8,
    "start_time": "2022-01-05T09:46:09.345Z"
   },
   {
    "duration": 10,
    "start_time": "2022-01-05T09:47:32.042Z"
   },
   {
    "duration": 10,
    "start_time": "2022-01-05T09:54:18.927Z"
   },
   {
    "duration": 8,
    "start_time": "2022-01-05T10:17:03.382Z"
   },
   {
    "duration": 4,
    "start_time": "2022-01-05T10:25:36.050Z"
   },
   {
    "duration": 1492,
    "start_time": "2022-01-05T10:26:44.595Z"
   },
   {
    "duration": 6,
    "start_time": "2022-01-05T10:28:17.966Z"
   },
   {
    "duration": 4,
    "start_time": "2022-01-05T10:41:43.796Z"
   },
   {
    "duration": 80,
    "start_time": "2022-01-05T10:41:43.803Z"
   },
   {
    "duration": 84,
    "start_time": "2022-01-05T10:41:43.886Z"
   },
   {
    "duration": 23,
    "start_time": "2022-01-05T10:41:43.974Z"
   },
   {
    "duration": 25,
    "start_time": "2022-01-05T10:41:44.000Z"
   },
   {
    "duration": 38,
    "start_time": "2022-01-05T10:41:44.027Z"
   },
   {
    "duration": 16,
    "start_time": "2022-01-05T10:41:44.070Z"
   },
   {
    "duration": 20,
    "start_time": "2022-01-05T10:41:44.090Z"
   },
   {
    "duration": 56,
    "start_time": "2022-01-05T10:41:44.113Z"
   },
   {
    "duration": 7,
    "start_time": "2022-01-05T10:41:44.172Z"
   },
   {
    "duration": 7,
    "start_time": "2022-01-05T10:41:44.181Z"
   },
   {
    "duration": 14,
    "start_time": "2022-01-05T10:41:44.190Z"
   },
   {
    "duration": 52,
    "start_time": "2022-01-05T10:41:44.207Z"
   },
   {
    "duration": 17,
    "start_time": "2022-01-05T10:41:44.261Z"
   },
   {
    "duration": 24,
    "start_time": "2022-01-05T10:41:44.280Z"
   },
   {
    "duration": 77,
    "start_time": "2022-01-05T10:41:44.306Z"
   },
   {
    "duration": 19,
    "start_time": "2022-01-05T10:41:44.386Z"
   },
   {
    "duration": 18,
    "start_time": "2022-01-05T10:41:44.408Z"
   },
   {
    "duration": 8,
    "start_time": "2022-01-05T10:41:44.461Z"
   },
   {
    "duration": 7,
    "start_time": "2022-01-05T10:41:44.474Z"
   },
   {
    "duration": 35,
    "start_time": "2022-01-05T10:41:44.484Z"
   },
   {
    "duration": 39,
    "start_time": "2022-01-05T10:41:44.521Z"
   },
   {
    "duration": 3278,
    "start_time": "2022-01-05T10:41:44.564Z"
   },
   {
    "duration": 5,
    "start_time": "2022-01-05T10:41:47.859Z"
   },
   {
    "duration": 8,
    "start_time": "2022-01-05T10:41:47.867Z"
   },
   {
    "duration": 1738,
    "start_time": "2022-01-05T10:41:47.877Z"
   },
   {
    "duration": 9,
    "start_time": "2022-01-05T10:41:49.617Z"
   },
   {
    "duration": 31,
    "start_time": "2022-01-05T10:41:49.628Z"
   },
   {
    "duration": 7,
    "start_time": "2022-01-05T10:41:49.661Z"
   },
   {
    "duration": 12,
    "start_time": "2022-01-05T10:41:49.670Z"
   },
   {
    "duration": 15,
    "start_time": "2022-01-05T10:41:49.684Z"
   },
   {
    "duration": 58,
    "start_time": "2022-01-05T10:41:49.702Z"
   },
   {
    "duration": 11,
    "start_time": "2022-01-05T10:41:49.763Z"
   },
   {
    "duration": 23,
    "start_time": "2022-01-05T10:41:49.777Z"
   },
   {
    "duration": 11,
    "start_time": "2022-01-05T10:41:49.802Z"
   },
   {
    "duration": 49,
    "start_time": "2022-01-05T10:41:49.816Z"
   },
   {
    "duration": 9,
    "start_time": "2022-01-05T10:41:49.869Z"
   },
   {
    "duration": 2020,
    "start_time": "2022-01-05T10:41:49.881Z"
   },
   {
    "duration": -11833,
    "start_time": "2022-01-05T10:42:03.736Z"
   },
   {
    "duration": -11834,
    "start_time": "2022-01-05T10:42:03.739Z"
   },
   {
    "duration": -11835,
    "start_time": "2022-01-05T10:42:03.742Z"
   },
   {
    "duration": -11836,
    "start_time": "2022-01-05T10:42:03.745Z"
   },
   {
    "duration": -11840,
    "start_time": "2022-01-05T10:42:03.752Z"
   },
   {
    "duration": -11842,
    "start_time": "2022-01-05T10:42:03.755Z"
   },
   {
    "duration": -11847,
    "start_time": "2022-01-05T10:42:03.762Z"
   },
   {
    "duration": -11851,
    "start_time": "2022-01-05T10:42:03.767Z"
   },
   {
    "duration": -11852,
    "start_time": "2022-01-05T10:42:03.770Z"
   },
   {
    "duration": -11853,
    "start_time": "2022-01-05T10:42:03.772Z"
   },
   {
    "duration": -11854,
    "start_time": "2022-01-05T10:42:03.775Z"
   },
   {
    "duration": -11853,
    "start_time": "2022-01-05T10:42:03.777Z"
   },
   {
    "duration": -11854,
    "start_time": "2022-01-05T10:42:03.780Z"
   },
   {
    "duration": -11859,
    "start_time": "2022-01-05T10:42:03.786Z"
   },
   {
    "duration": -11859,
    "start_time": "2022-01-05T10:42:03.788Z"
   },
   {
    "duration": -11863,
    "start_time": "2022-01-05T10:42:03.794Z"
   },
   {
    "duration": 22,
    "start_time": "2022-01-05T10:43:04.933Z"
   },
   {
    "duration": 11,
    "start_time": "2022-01-05T10:43:43.320Z"
   },
   {
    "duration": 10,
    "start_time": "2022-01-05T10:44:00.213Z"
   },
   {
    "duration": 15,
    "start_time": "2022-01-05T10:45:01.478Z"
   },
   {
    "duration": 10,
    "start_time": "2022-01-05T10:45:12.763Z"
   },
   {
    "duration": 9,
    "start_time": "2022-01-05T10:45:17.125Z"
   },
   {
    "duration": 8,
    "start_time": "2022-01-05T10:45:20.367Z"
   },
   {
    "duration": 9,
    "start_time": "2022-01-05T10:45:22.343Z"
   },
   {
    "duration": 3,
    "start_time": "2022-01-05T10:45:30.229Z"
   },
   {
    "duration": 3,
    "start_time": "2022-01-05T10:45:31.161Z"
   },
   {
    "duration": 10,
    "start_time": "2022-01-05T10:45:39.734Z"
   },
   {
    "duration": 6,
    "start_time": "2022-01-05T10:45:43.104Z"
   },
   {
    "duration": 9,
    "start_time": "2022-01-05T10:45:44.253Z"
   },
   {
    "duration": 12,
    "start_time": "2022-01-05T10:45:47.197Z"
   },
   {
    "duration": 12,
    "start_time": "2022-01-05T10:45:50.438Z"
   },
   {
    "duration": 5218,
    "start_time": "2022-01-05T10:48:28.715Z"
   },
   {
    "duration": 9,
    "start_time": "2022-01-05T10:49:14.720Z"
   },
   {
    "duration": 11,
    "start_time": "2022-01-05T10:49:26.616Z"
   },
   {
    "duration": 12,
    "start_time": "2022-01-05T10:53:37.206Z"
   },
   {
    "duration": 7,
    "start_time": "2022-01-05T10:55:45.274Z"
   },
   {
    "duration": 6,
    "start_time": "2022-01-05T10:59:12.549Z"
   },
   {
    "duration": 10,
    "start_time": "2022-01-05T11:03:27.185Z"
   },
   {
    "duration": 7,
    "start_time": "2022-01-05T11:03:29.442Z"
   },
   {
    "duration": 10,
    "start_time": "2022-01-05T11:03:30.952Z"
   },
   {
    "duration": 11,
    "start_time": "2022-01-05T11:03:31.829Z"
   },
   {
    "duration": 750,
    "start_time": "2022-01-05T20:30:34.879Z"
   },
   {
    "duration": 118,
    "start_time": "2022-01-05T20:30:35.632Z"
   },
   {
    "duration": 48,
    "start_time": "2022-01-05T20:30:35.754Z"
   },
   {
    "duration": 30,
    "start_time": "2022-01-05T20:30:35.805Z"
   },
   {
    "duration": 16,
    "start_time": "2022-01-05T20:30:35.837Z"
   },
   {
    "duration": 9,
    "start_time": "2022-01-05T20:30:35.856Z"
   },
   {
    "duration": 16,
    "start_time": "2022-01-05T20:30:35.868Z"
   },
   {
    "duration": 59,
    "start_time": "2022-01-05T20:30:35.889Z"
   },
   {
    "duration": 14,
    "start_time": "2022-01-05T20:30:35.952Z"
   },
   {
    "duration": 6,
    "start_time": "2022-01-05T20:30:35.970Z"
   },
   {
    "duration": 45,
    "start_time": "2022-01-05T20:30:35.979Z"
   },
   {
    "duration": 21,
    "start_time": "2022-01-05T20:30:36.027Z"
   },
   {
    "duration": 18,
    "start_time": "2022-01-05T20:30:36.051Z"
   },
   {
    "duration": 32,
    "start_time": "2022-01-05T20:30:36.071Z"
   },
   {
    "duration": 26,
    "start_time": "2022-01-05T20:30:36.105Z"
   },
   {
    "duration": 46,
    "start_time": "2022-01-05T20:30:36.133Z"
   },
   {
    "duration": 44,
    "start_time": "2022-01-05T20:30:36.181Z"
   },
   {
    "duration": 20,
    "start_time": "2022-01-05T20:30:36.227Z"
   },
   {
    "duration": 7,
    "start_time": "2022-01-05T20:30:36.249Z"
   },
   {
    "duration": 10,
    "start_time": "2022-01-05T20:30:36.258Z"
   },
   {
    "duration": 7,
    "start_time": "2022-01-05T20:30:36.270Z"
   },
   {
    "duration": 45,
    "start_time": "2022-01-05T20:30:36.279Z"
   },
   {
    "duration": 2683,
    "start_time": "2022-01-05T20:30:36.330Z"
   },
   {
    "duration": 6,
    "start_time": "2022-01-05T20:30:39.025Z"
   },
   {
    "duration": 7,
    "start_time": "2022-01-05T20:30:39.034Z"
   },
   {
    "duration": 1816,
    "start_time": "2022-01-05T20:30:39.044Z"
   },
   {
    "duration": 9,
    "start_time": "2022-01-05T20:30:40.862Z"
   },
   {
    "duration": 12,
    "start_time": "2022-01-05T20:30:40.873Z"
   },
   {
    "duration": 7,
    "start_time": "2022-01-05T20:30:40.887Z"
   },
   {
    "duration": 9,
    "start_time": "2022-01-05T20:30:40.924Z"
   },
   {
    "duration": 10,
    "start_time": "2022-01-05T20:30:40.936Z"
   },
   {
    "duration": 23,
    "start_time": "2022-01-05T20:30:40.949Z"
   },
   {
    "duration": 51,
    "start_time": "2022-01-05T20:30:40.974Z"
   },
   {
    "duration": 19,
    "start_time": "2022-01-05T20:30:41.027Z"
   },
   {
    "duration": 9,
    "start_time": "2022-01-05T20:30:41.048Z"
   },
   {
    "duration": 18,
    "start_time": "2022-01-05T20:30:41.059Z"
   },
   {
    "duration": 47,
    "start_time": "2022-01-05T20:30:41.080Z"
   },
   {
    "duration": 22,
    "start_time": "2022-01-05T20:30:41.130Z"
   },
   {
    "duration": 24,
    "start_time": "2022-01-05T20:30:41.154Z"
   },
   {
    "duration": 17,
    "start_time": "2022-01-05T20:30:41.181Z"
   },
   {
    "duration": 9,
    "start_time": "2022-01-05T20:30:41.224Z"
   },
   {
    "duration": 12,
    "start_time": "2022-01-05T20:30:41.235Z"
   },
   {
    "duration": 7,
    "start_time": "2022-01-05T20:30:41.249Z"
   },
   {
    "duration": 8,
    "start_time": "2022-01-05T20:30:41.259Z"
   },
   {
    "duration": 5,
    "start_time": "2022-01-05T20:30:41.270Z"
   },
   {
    "duration": 47,
    "start_time": "2022-01-05T20:30:41.277Z"
   },
   {
    "duration": 13,
    "start_time": "2022-01-05T20:30:41.327Z"
   },
   {
    "duration": 8,
    "start_time": "2022-01-05T20:30:41.343Z"
   },
   {
    "duration": 9,
    "start_time": "2022-01-05T20:30:41.354Z"
   },
   {
    "duration": 58,
    "start_time": "2022-01-05T20:30:41.366Z"
   },
   {
    "duration": 12,
    "start_time": "2022-01-05T20:30:41.427Z"
   },
   {
    "duration": 10,
    "start_time": "2022-01-05T20:30:41.442Z"
   },
   {
    "duration": 10,
    "start_time": "2022-01-05T20:30:41.454Z"
   },
   {
    "duration": 8,
    "start_time": "2022-01-05T20:30:41.466Z"
   },
   {
    "duration": 51,
    "start_time": "2022-01-05T20:30:41.476Z"
   },
   {
    "duration": 11,
    "start_time": "2022-01-05T20:30:41.529Z"
   },
   {
    "duration": 8,
    "start_time": "2022-01-05T20:30:41.543Z"
   },
   {
    "duration": 9,
    "start_time": "2022-01-05T20:30:41.553Z"
   },
   {
    "duration": 10,
    "start_time": "2022-01-05T20:30:41.565Z"
   },
   {
    "duration": 792,
    "start_time": "2022-01-08T10:48:58.928Z"
   },
   {
    "duration": 91,
    "start_time": "2022-01-08T10:48:59.723Z"
   },
   {
    "duration": 65,
    "start_time": "2022-01-08T10:48:59.817Z"
   },
   {
    "duration": 14,
    "start_time": "2022-01-08T10:48:59.885Z"
   },
   {
    "duration": 15,
    "start_time": "2022-01-08T10:48:59.901Z"
   },
   {
    "duration": 8,
    "start_time": "2022-01-08T10:48:59.919Z"
   },
   {
    "duration": 42,
    "start_time": "2022-01-08T10:48:59.930Z"
   },
   {
    "duration": 23,
    "start_time": "2022-01-08T10:48:59.976Z"
   },
   {
    "duration": 18,
    "start_time": "2022-01-08T10:49:00.003Z"
   },
   {
    "duration": 39,
    "start_time": "2022-01-08T10:49:00.024Z"
   },
   {
    "duration": 8,
    "start_time": "2022-01-08T10:49:00.066Z"
   },
   {
    "duration": 20,
    "start_time": "2022-01-08T10:49:00.077Z"
   },
   {
    "duration": 6,
    "start_time": "2022-01-08T10:49:00.100Z"
   },
   {
    "duration": 54,
    "start_time": "2022-01-08T10:49:00.109Z"
   },
   {
    "duration": 27,
    "start_time": "2022-01-08T10:49:00.166Z"
   },
   {
    "duration": 68,
    "start_time": "2022-01-08T10:49:00.196Z"
   },
   {
    "duration": 20,
    "start_time": "2022-01-08T10:49:00.267Z"
   },
   {
    "duration": 16,
    "start_time": "2022-01-08T10:49:00.290Z"
   },
   {
    "duration": 6,
    "start_time": "2022-01-08T10:49:00.308Z"
   },
   {
    "duration": 6,
    "start_time": "2022-01-08T10:49:00.317Z"
   },
   {
    "duration": 5,
    "start_time": "2022-01-08T10:49:00.364Z"
   },
   {
    "duration": 23,
    "start_time": "2022-01-08T10:49:00.371Z"
   },
   {
    "duration": 2434,
    "start_time": "2022-01-08T10:49:00.402Z"
   },
   {
    "duration": 22,
    "start_time": "2022-01-08T10:49:02.841Z"
   },
   {
    "duration": 7,
    "start_time": "2022-01-08T10:49:02.867Z"
   },
   {
    "duration": 1596,
    "start_time": "2022-01-08T10:49:02.877Z"
   },
   {
    "duration": 9,
    "start_time": "2022-01-08T10:49:04.476Z"
   },
   {
    "duration": 9,
    "start_time": "2022-01-08T10:49:04.488Z"
   },
   {
    "duration": 7,
    "start_time": "2022-01-08T10:49:04.499Z"
   },
   {
    "duration": 10,
    "start_time": "2022-01-08T10:49:04.508Z"
   },
   {
    "duration": 51,
    "start_time": "2022-01-08T10:49:04.520Z"
   },
   {
    "duration": 25,
    "start_time": "2022-01-08T10:49:04.574Z"
   },
   {
    "duration": 10,
    "start_time": "2022-01-08T10:49:04.601Z"
   },
   {
    "duration": 51,
    "start_time": "2022-01-08T10:49:04.614Z"
   },
   {
    "duration": 11,
    "start_time": "2022-01-08T10:49:04.667Z"
   },
   {
    "duration": 19,
    "start_time": "2022-01-08T10:49:04.680Z"
   },
   {
    "duration": 10,
    "start_time": "2022-01-08T10:49:04.701Z"
   },
   {
    "duration": 57,
    "start_time": "2022-01-08T10:49:04.713Z"
   },
   {
    "duration": 11,
    "start_time": "2022-01-08T10:49:04.773Z"
   },
   {
    "duration": 16,
    "start_time": "2022-01-08T10:49:04.787Z"
   },
   {
    "duration": 9,
    "start_time": "2022-01-08T10:49:04.806Z"
   },
   {
    "duration": 45,
    "start_time": "2022-01-08T10:49:04.818Z"
   },
   {
    "duration": 8,
    "start_time": "2022-01-08T10:49:04.865Z"
   },
   {
    "duration": 8,
    "start_time": "2022-01-08T10:49:04.875Z"
   },
   {
    "duration": 4,
    "start_time": "2022-01-08T10:49:04.885Z"
   },
   {
    "duration": 5,
    "start_time": "2022-01-08T10:49:04.891Z"
   },
   {
    "duration": 12,
    "start_time": "2022-01-08T10:49:04.899Z"
   },
   {
    "duration": 51,
    "start_time": "2022-01-08T10:49:04.913Z"
   },
   {
    "duration": 7,
    "start_time": "2022-01-08T10:49:04.967Z"
   },
   {
    "duration": 13,
    "start_time": "2022-01-08T10:49:04.977Z"
   },
   {
    "duration": 9,
    "start_time": "2022-01-08T10:49:04.992Z"
   },
   {
    "duration": 9,
    "start_time": "2022-01-08T10:49:05.005Z"
   },
   {
    "duration": 9,
    "start_time": "2022-01-08T10:49:05.064Z"
   },
   {
    "duration": 7,
    "start_time": "2022-01-08T10:49:05.075Z"
   },
   {
    "duration": 13,
    "start_time": "2022-01-08T10:49:05.085Z"
   },
   {
    "duration": 25,
    "start_time": "2022-01-08T10:49:05.100Z"
   },
   {
    "duration": 37,
    "start_time": "2022-01-08T10:49:05.127Z"
   },
   {
    "duration": 9,
    "start_time": "2022-01-08T10:49:05.166Z"
   },
   {
    "duration": 11,
    "start_time": "2022-01-08T10:49:05.178Z"
   },
   {
    "duration": 349,
    "start_time": "2022-01-08T11:20:01.140Z"
   },
   {
    "duration": 4,
    "start_time": "2022-01-08T11:22:22.101Z"
   },
   {
    "duration": 78,
    "start_time": "2022-01-08T11:22:25.390Z"
   },
   {
    "duration": 47,
    "start_time": "2022-01-08T11:22:30.717Z"
   },
   {
    "duration": 15,
    "start_time": "2022-01-08T11:22:35.069Z"
   },
   {
    "duration": 16,
    "start_time": "2022-01-08T11:22:53.246Z"
   },
   {
    "duration": 7,
    "start_time": "2022-01-08T11:23:02.296Z"
   },
   {
    "duration": 12,
    "start_time": "2022-01-08T11:23:29.101Z"
   },
   {
    "duration": 81,
    "start_time": "2022-01-08T11:23:38.507Z"
   },
   {
    "duration": 25,
    "start_time": "2022-01-08T11:24:29.892Z"
   },
   {
    "duration": 19,
    "start_time": "2022-01-08T11:25:22.958Z"
   },
   {
    "duration": 14,
    "start_time": "2022-01-08T11:25:44.866Z"
   },
   {
    "duration": 384,
    "start_time": "2022-01-08T11:26:19.428Z"
   },
   {
    "duration": 31,
    "start_time": "2022-01-08T11:27:24.833Z"
   },
   {
    "duration": 267,
    "start_time": "2022-01-08T11:28:17.818Z"
   },
   {
    "duration": 269,
    "start_time": "2022-01-08T11:28:37.171Z"
   },
   {
    "duration": 9,
    "start_time": "2022-01-08T11:29:04.135Z"
   },
   {
    "duration": 6,
    "start_time": "2022-01-08T11:30:02.555Z"
   },
   {
    "duration": 16,
    "start_time": "2022-01-08T11:40:25.725Z"
   },
   {
    "duration": 5,
    "start_time": "2022-01-08T11:40:45.364Z"
   },
   {
    "duration": 18,
    "start_time": "2022-01-08T11:40:49.300Z"
   },
   {
    "duration": 4,
    "start_time": "2022-01-08T11:50:22.752Z"
   },
   {
    "duration": 6736,
    "start_time": "2022-01-08T11:50:32.152Z"
   },
   {
    "duration": 47,
    "start_time": "2022-01-08T11:51:35.415Z"
   },
   {
    "duration": 18,
    "start_time": "2022-01-08T11:51:59.991Z"
   },
   {
    "duration": 46,
    "start_time": "2022-01-08T11:52:42.040Z"
   },
   {
    "duration": 15,
    "start_time": "2022-01-08T11:52:47.423Z"
   },
   {
    "duration": 18,
    "start_time": "2022-01-08T11:53:25.831Z"
   },
   {
    "duration": 32,
    "start_time": "2022-01-08T11:53:46.911Z"
   },
   {
    "duration": 10,
    "start_time": "2022-01-08T11:54:52.199Z"
   },
   {
    "duration": 147,
    "start_time": "2022-01-08T11:55:19.045Z"
   },
   {
    "duration": 17,
    "start_time": "2022-01-08T11:55:46.910Z"
   },
   {
    "duration": 9,
    "start_time": "2022-01-08T11:58:08.241Z"
   },
   {
    "duration": 254,
    "start_time": "2022-01-08T12:01:40.377Z"
   },
   {
    "duration": 22,
    "start_time": "2022-01-08T12:01:51.395Z"
   },
   {
    "duration": 15,
    "start_time": "2022-01-08T12:02:03.930Z"
   },
   {
    "duration": 24,
    "start_time": "2022-01-08T12:03:08.411Z"
   },
   {
    "duration": 20,
    "start_time": "2022-01-08T12:03:15.274Z"
   },
   {
    "duration": 8613,
    "start_time": "2022-01-08T12:05:51.505Z"
   },
   {
    "duration": -13017,
    "start_time": "2022-01-08T12:06:13.138Z"
   },
   {
    "duration": 103,
    "start_time": "2022-01-08T12:06:08.240Z"
   },
   {
    "duration": 25,
    "start_time": "2022-01-08T12:06:14.921Z"
   },
   {
    "duration": 86,
    "start_time": "2022-01-08T12:09:07.589Z"
   },
   {
    "duration": 180,
    "start_time": "2022-01-08T12:11:14.162Z"
   },
   {
    "duration": 27,
    "start_time": "2022-01-08T12:11:19.505Z"
   },
   {
    "duration": 4,
    "start_time": "2022-01-08T12:12:17.226Z"
   },
   {
    "duration": 78,
    "start_time": "2022-01-08T12:12:18.999Z"
   },
   {
    "duration": 49,
    "start_time": "2022-01-08T12:12:22.423Z"
   },
   {
    "duration": 14,
    "start_time": "2022-01-08T12:12:24.680Z"
   },
   {
    "duration": 15,
    "start_time": "2022-01-08T12:12:30.212Z"
   },
   {
    "duration": 7,
    "start_time": "2022-01-08T12:12:31.982Z"
   },
   {
    "duration": 12,
    "start_time": "2022-01-08T12:12:34.766Z"
   },
   {
    "duration": 24,
    "start_time": "2022-01-08T12:12:38.304Z"
   },
   {
    "duration": 12,
    "start_time": "2022-01-08T12:12:56.190Z"
   },
   {
    "duration": 5,
    "start_time": "2022-01-08T12:13:17.456Z"
   },
   {
    "duration": 12,
    "start_time": "2022-01-08T12:13:41.191Z"
   },
   {
    "duration": 6,
    "start_time": "2022-01-08T12:13:44.518Z"
   },
   {
    "duration": 190,
    "start_time": "2022-01-08T12:13:47.343Z"
   },
   {
    "duration": 19,
    "start_time": "2022-01-08T12:13:50.894Z"
   },
   {
    "duration": 195,
    "start_time": "2022-01-08T12:13:59.582Z"
   },
   {
    "duration": 16,
    "start_time": "2022-01-08T12:14:03.486Z"
   },
   {
    "duration": 14,
    "start_time": "2022-01-08T12:27:57.066Z"
   },
   {
    "duration": 49,
    "start_time": "2022-01-08T12:28:02.088Z"
   },
   {
    "duration": 17,
    "start_time": "2022-01-08T12:28:05.871Z"
   },
   {
    "duration": 14,
    "start_time": "2022-01-08T12:38:52.853Z"
   },
   {
    "duration": 24,
    "start_time": "2022-01-08T12:39:55.100Z"
   },
   {
    "duration": 52,
    "start_time": "2022-01-08T12:39:58.340Z"
   },
   {
    "duration": 17,
    "start_time": "2022-01-08T12:40:05.828Z"
   },
   {
    "duration": 10,
    "start_time": "2022-01-08T12:40:06.916Z"
   },
   {
    "duration": 5,
    "start_time": "2022-01-08T12:40:09.323Z"
   },
   {
    "duration": 6,
    "start_time": "2022-01-08T12:40:10.421Z"
   },
   {
    "duration": 5,
    "start_time": "2022-01-08T12:49:11.280Z"
   },
   {
    "duration": 3566,
    "start_time": "2022-01-08T12:49:17.280Z"
   },
   {
    "duration": 4,
    "start_time": "2022-01-08T12:51:20.601Z"
   },
   {
    "duration": 25,
    "start_time": "2022-01-08T12:52:25.487Z"
   },
   {
    "duration": 5,
    "start_time": "2022-01-08T13:04:36.224Z"
   },
   {
    "duration": 946,
    "start_time": "2022-01-08T13:04:56.546Z"
   },
   {
    "duration": 21,
    "start_time": "2022-01-08T13:05:16.737Z"
   },
   {
    "duration": 80,
    "start_time": "2022-01-08T13:08:58.564Z"
   },
   {
    "duration": 4,
    "start_time": "2022-01-08T13:09:39.486Z"
   },
   {
    "duration": 23,
    "start_time": "2022-01-08T13:09:42.820Z"
   },
   {
    "duration": 5,
    "start_time": "2022-01-08T13:11:09.037Z"
   },
   {
    "duration": 21,
    "start_time": "2022-01-08T13:11:15.395Z"
   },
   {
    "duration": 20,
    "start_time": "2022-01-08T13:12:03.289Z"
   },
   {
    "duration": 21,
    "start_time": "2022-01-08T13:12:28.257Z"
   },
   {
    "duration": 22,
    "start_time": "2022-01-08T13:12:42.869Z"
   },
   {
    "duration": 21,
    "start_time": "2022-01-08T13:12:57.486Z"
   },
   {
    "duration": 9,
    "start_time": "2022-01-08T13:13:36.084Z"
   },
   {
    "duration": 19,
    "start_time": "2022-01-08T13:14:13.976Z"
   },
   {
    "duration": 19,
    "start_time": "2022-01-08T13:14:58.553Z"
   },
   {
    "duration": 5,
    "start_time": "2022-01-08T13:15:13.223Z"
   },
   {
    "duration": 31,
    "start_time": "2022-01-08T13:15:19.370Z"
   },
   {
    "duration": 9,
    "start_time": "2022-01-08T13:15:29.656Z"
   },
   {
    "duration": 8,
    "start_time": "2022-01-08T13:15:46.559Z"
   },
   {
    "duration": 4,
    "start_time": "2022-01-08T13:16:50.958Z"
   },
   {
    "duration": 78,
    "start_time": "2022-01-08T13:16:53.172Z"
   },
   {
    "duration": 50,
    "start_time": "2022-01-08T13:17:01.281Z"
   },
   {
    "duration": 17,
    "start_time": "2022-01-08T13:17:04.758Z"
   },
   {
    "duration": 16,
    "start_time": "2022-01-08T13:17:10.479Z"
   },
   {
    "duration": 8,
    "start_time": "2022-01-08T13:17:12.439Z"
   },
   {
    "duration": 14,
    "start_time": "2022-01-08T13:17:15.008Z"
   },
   {
    "duration": 24,
    "start_time": "2022-01-08T13:17:20.001Z"
   },
   {
    "duration": 13,
    "start_time": "2022-01-08T13:17:24.015Z"
   },
   {
    "duration": 5,
    "start_time": "2022-01-08T13:17:27.989Z"
   },
   {
    "duration": 11,
    "start_time": "2022-01-08T13:17:40.194Z"
   },
   {
    "duration": 4,
    "start_time": "2022-01-08T13:17:46.913Z"
   },
   {
    "duration": 46,
    "start_time": "2022-01-08T13:17:48.666Z"
   },
   {
    "duration": 14,
    "start_time": "2022-01-08T13:17:53.004Z"
   },
   {
    "duration": 6,
    "start_time": "2022-01-08T13:17:57.007Z"
   },
   {
    "duration": 17,
    "start_time": "2022-01-08T13:17:59.127Z"
   },
   {
    "duration": 23,
    "start_time": "2022-01-08T13:18:03.864Z"
   },
   {
    "duration": 45,
    "start_time": "2022-01-08T13:18:05.853Z"
   },
   {
    "duration": 21,
    "start_time": "2022-01-08T13:18:09.617Z"
   },
   {
    "duration": 17,
    "start_time": "2022-01-08T13:18:12.095Z"
   },
   {
    "duration": 7,
    "start_time": "2022-01-08T13:18:13.612Z"
   },
   {
    "duration": 5,
    "start_time": "2022-01-08T13:18:15.663Z"
   },
   {
    "duration": 24,
    "start_time": "2022-01-08T13:18:19.607Z"
   },
   {
    "duration": 9,
    "start_time": "2022-01-08T13:18:21.767Z"
   },
   {
    "duration": 2515,
    "start_time": "2022-01-08T13:18:25.551Z"
   },
   {
    "duration": 5,
    "start_time": "2022-01-08T13:18:35.999Z"
   },
   {
    "duration": 1519,
    "start_time": "2022-01-08T13:18:38.767Z"
   },
   {
    "duration": 9,
    "start_time": "2022-01-08T13:18:51.874Z"
   },
   {
    "duration": 6,
    "start_time": "2022-01-08T13:19:30.992Z"
   },
   {
    "duration": 1479,
    "start_time": "2022-01-08T13:19:33.751Z"
   },
   {
    "duration": 4,
    "start_time": "2022-01-08T13:19:49.992Z"
   },
   {
    "duration": 1493,
    "start_time": "2022-01-08T13:19:53.333Z"
   },
   {
    "duration": 9,
    "start_time": "2022-01-08T13:20:16.063Z"
   },
   {
    "duration": 11,
    "start_time": "2022-01-08T13:20:42.976Z"
   },
   {
    "duration": 8,
    "start_time": "2022-01-08T13:20:47.957Z"
   },
   {
    "duration": 13,
    "start_time": "2022-01-08T13:20:51.686Z"
   },
   {
    "duration": 12,
    "start_time": "2022-01-08T13:20:54.174Z"
   },
   {
    "duration": 23,
    "start_time": "2022-01-08T13:20:56.614Z"
   },
   {
    "duration": 9,
    "start_time": "2022-01-08T13:20:59.749Z"
   },
   {
    "duration": 19,
    "start_time": "2022-01-08T13:21:04.830Z"
   },
   {
    "duration": 8,
    "start_time": "2022-01-08T13:21:12.054Z"
   },
   {
    "duration": 26,
    "start_time": "2022-01-08T13:21:14.214Z"
   },
   {
    "duration": 9,
    "start_time": "2022-01-08T13:21:18.429Z"
   },
   {
    "duration": 21,
    "start_time": "2022-01-08T13:21:23.250Z"
   },
   {
    "duration": 92,
    "start_time": "2022-01-08T13:22:12.863Z"
   },
   {
    "duration": 266,
    "start_time": "2022-01-08T13:22:26.452Z"
   },
   {
    "duration": 12,
    "start_time": "2022-01-08T13:22:38.256Z"
   },
   {
    "duration": 339,
    "start_time": "2022-01-08T13:23:01.477Z"
   },
   {
    "duration": 22,
    "start_time": "2022-01-08T13:23:14.239Z"
   },
   {
    "duration": 9,
    "start_time": "2022-01-08T13:23:21.799Z"
   },
   {
    "duration": 16,
    "start_time": "2022-01-08T13:23:28.485Z"
   },
   {
    "duration": 11,
    "start_time": "2022-01-08T13:23:35.989Z"
   },
   {
    "duration": 12,
    "start_time": "2022-01-08T13:23:44.053Z"
   },
   {
    "duration": 7,
    "start_time": "2022-01-08T13:23:47.463Z"
   },
   {
    "duration": 6,
    "start_time": "2022-01-08T13:23:50.475Z"
   },
   {
    "duration": 9,
    "start_time": "2022-01-08T13:23:56.852Z"
   },
   {
    "duration": 7,
    "start_time": "2022-01-08T13:23:59.564Z"
   },
   {
    "duration": 8,
    "start_time": "2022-01-08T13:24:03.197Z"
   },
   {
    "duration": 9,
    "start_time": "2022-01-08T13:24:05.885Z"
   },
   {
    "duration": 10,
    "start_time": "2022-01-08T13:24:08.628Z"
   },
   {
    "duration": 10,
    "start_time": "2022-01-08T13:24:19.924Z"
   },
   {
    "duration": 10,
    "start_time": "2022-01-08T13:24:23.448Z"
   },
   {
    "duration": 8,
    "start_time": "2022-01-08T13:24:25.669Z"
   },
   {
    "duration": 9,
    "start_time": "2022-01-08T13:24:28.428Z"
   },
   {
    "duration": 10,
    "start_time": "2022-01-08T13:24:33.153Z"
   },
   {
    "duration": 8,
    "start_time": "2022-01-08T13:24:35.556Z"
   },
   {
    "duration": 9,
    "start_time": "2022-01-08T13:24:38.199Z"
   },
   {
    "duration": 9264,
    "start_time": "2022-01-08T13:24:40.459Z"
   },
   {
    "duration": 13,
    "start_time": "2022-01-08T13:24:59.501Z"
   },
   {
    "duration": 7663,
    "start_time": "2022-01-08T13:25:02.157Z"
   },
   {
    "duration": 17352,
    "start_time": "2022-01-08T13:26:38.268Z"
   },
   {
    "duration": 8,
    "start_time": "2022-01-08T13:27:09.011Z"
   },
   {
    "duration": 85,
    "start_time": "2022-01-08T13:30:18.183Z"
   },
   {
    "duration": 5,
    "start_time": "2022-01-08T13:37:20.618Z"
   },
   {
    "duration": 15,
    "start_time": "2022-01-08T13:37:23.775Z"
   },
   {
    "duration": 92,
    "start_time": "2022-01-08T13:37:32.504Z"
   },
   {
    "duration": 94,
    "start_time": "2022-01-08T13:38:18.515Z"
   },
   {
    "duration": 84,
    "start_time": "2022-01-08T13:39:22.609Z"
   },
   {
    "duration": 9,
    "start_time": "2022-01-08T13:39:52.576Z"
   },
   {
    "duration": 47,
    "start_time": "2022-01-08T13:43:42.502Z"
   },
   {
    "duration": 40,
    "start_time": "2022-01-08T13:44:19.975Z"
   },
   {
    "duration": 52,
    "start_time": "2022-01-08T13:44:26.813Z"
   },
   {
    "duration": 39,
    "start_time": "2022-01-08T13:48:43.763Z"
   },
   {
    "duration": 145,
    "start_time": "2022-01-08T13:50:02.850Z"
   },
   {
    "duration": 87,
    "start_time": "2022-01-08T13:50:23.171Z"
   },
   {
    "duration": 80,
    "start_time": "2022-01-08T13:51:10.750Z"
   },
   {
    "duration": 107,
    "start_time": "2022-01-08T13:51:17.921Z"
   },
   {
    "duration": 6,
    "start_time": "2022-01-08T13:53:07.240Z"
   },
   {
    "duration": 14,
    "start_time": "2022-01-08T13:53:32.096Z"
   },
   {
    "duration": 19,
    "start_time": "2022-01-08T13:56:02.455Z"
   },
   {
    "duration": 25,
    "start_time": "2022-01-08T13:56:36.064Z"
   },
   {
    "duration": 77,
    "start_time": "2022-01-08T14:05:31.997Z"
   },
   {
    "duration": 24,
    "start_time": "2022-01-08T14:05:39.240Z"
   },
   {
    "duration": 234,
    "start_time": "2022-01-08T14:06:40.563Z"
   },
   {
    "duration": 13,
    "start_time": "2022-01-08T14:07:06.152Z"
   },
   {
    "duration": 39,
    "start_time": "2022-01-08T14:07:18.420Z"
   },
   {
    "duration": 13,
    "start_time": "2022-01-08T14:08:05.675Z"
   },
   {
    "duration": 19,
    "start_time": "2022-01-08T14:08:21.291Z"
   },
   {
    "duration": 14,
    "start_time": "2022-01-08T14:08:30.406Z"
   },
   {
    "duration": 12,
    "start_time": "2022-01-08T14:08:40.896Z"
   },
   {
    "duration": 24,
    "start_time": "2022-01-08T14:09:47.716Z"
   },
   {
    "duration": 42,
    "start_time": "2022-01-08T14:09:55.510Z"
   },
   {
    "duration": 4,
    "start_time": "2022-01-08T14:12:34.596Z"
   },
   {
    "duration": 5,
    "start_time": "2022-01-08T14:13:03.628Z"
   },
   {
    "duration": 7,
    "start_time": "2022-01-08T14:13:34.868Z"
   },
   {
    "duration": 7,
    "start_time": "2022-01-08T14:14:01.866Z"
   },
   {
    "duration": 9,
    "start_time": "2022-01-08T14:19:51.567Z"
   },
   {
    "duration": 7,
    "start_time": "2022-01-08T14:22:24.212Z"
   },
   {
    "duration": 8,
    "start_time": "2022-01-08T14:24:09.069Z"
   },
   {
    "duration": 8,
    "start_time": "2022-01-08T14:24:42.187Z"
   },
   {
    "duration": 7,
    "start_time": "2022-01-08T14:28:21.034Z"
   },
   {
    "duration": 13,
    "start_time": "2022-01-08T14:30:00.607Z"
   },
   {
    "duration": 26,
    "start_time": "2022-01-08T14:37:18.357Z"
   },
   {
    "duration": 3,
    "start_time": "2022-01-08T14:40:29.326Z"
   },
   {
    "duration": 80,
    "start_time": "2022-01-08T14:40:30.242Z"
   },
   {
    "duration": 48,
    "start_time": "2022-01-08T14:40:33.531Z"
   },
   {
    "duration": 15,
    "start_time": "2022-01-08T14:40:36.091Z"
   },
   {
    "duration": 17,
    "start_time": "2022-01-08T14:40:41.425Z"
   },
   {
    "duration": 8,
    "start_time": "2022-01-08T14:40:43.834Z"
   },
   {
    "duration": 13,
    "start_time": "2022-01-08T14:40:46.855Z"
   },
   {
    "duration": 23,
    "start_time": "2022-01-08T14:40:51.258Z"
   },
   {
    "duration": 12,
    "start_time": "2022-01-08T14:41:02.087Z"
   },
   {
    "duration": 6,
    "start_time": "2022-01-08T14:41:08.121Z"
   },
   {
    "duration": 10,
    "start_time": "2022-01-08T14:41:13.385Z"
   },
   {
    "duration": 6,
    "start_time": "2022-01-08T14:41:15.360Z"
   },
   {
    "duration": 12,
    "start_time": "2022-01-08T14:41:21.974Z"
   },
   {
    "duration": 20,
    "start_time": "2022-01-08T14:41:26.198Z"
   },
   {
    "duration": 15,
    "start_time": "2022-01-08T14:44:05.832Z"
   },
   {
    "duration": 20,
    "start_time": "2022-01-08T14:44:07.335Z"
   },
   {
    "duration": 7,
    "start_time": "2022-01-08T14:44:10.506Z"
   },
   {
    "duration": 18,
    "start_time": "2022-01-08T14:44:12.536Z"
   },
   {
    "duration": 30,
    "start_time": "2022-01-08T14:44:15.831Z"
   },
   {
    "duration": 49,
    "start_time": "2022-01-08T14:44:17.814Z"
   },
   {
    "duration": 23,
    "start_time": "2022-01-08T14:44:21.969Z"
   },
   {
    "duration": 23,
    "start_time": "2022-01-08T14:44:23.728Z"
   },
   {
    "duration": 6,
    "start_time": "2022-01-08T14:44:25.338Z"
   },
   {
    "duration": 5,
    "start_time": "2022-01-08T14:44:27.504Z"
   },
   {
    "duration": 30,
    "start_time": "2022-01-08T14:44:30.767Z"
   },
   {
    "duration": 9,
    "start_time": "2022-01-08T14:44:32.932Z"
   },
   {
    "duration": 2778,
    "start_time": "2022-01-08T14:44:41.008Z"
   },
   {
    "duration": 6,
    "start_time": "2022-01-08T14:44:52.980Z"
   },
   {
    "duration": 5,
    "start_time": "2022-01-08T14:45:00.063Z"
   },
   {
    "duration": 1844,
    "start_time": "2022-01-08T14:45:03.567Z"
   },
   {
    "duration": 9,
    "start_time": "2022-01-08T14:45:12.550Z"
   },
   {
    "duration": 10,
    "start_time": "2022-01-08T14:45:14.838Z"
   },
   {
    "duration": 8,
    "start_time": "2022-01-08T14:45:16.957Z"
   },
   {
    "duration": 9,
    "start_time": "2022-01-08T14:45:19.801Z"
   },
   {
    "duration": 12,
    "start_time": "2022-01-08T14:45:21.963Z"
   },
   {
    "duration": 28,
    "start_time": "2022-01-08T14:45:24.222Z"
   },
   {
    "duration": 10,
    "start_time": "2022-01-08T14:45:27.126Z"
   },
   {
    "duration": 20,
    "start_time": "2022-01-08T14:45:29.950Z"
   },
   {
    "duration": 9,
    "start_time": "2022-01-08T14:45:33.469Z"
   },
   {
    "duration": 19,
    "start_time": "2022-01-08T14:45:35.119Z"
   },
   {
    "duration": 10,
    "start_time": "2022-01-08T14:45:37.439Z"
   },
   {
    "duration": 23,
    "start_time": "2022-01-08T14:45:39.208Z"
   },
   {
    "duration": 9,
    "start_time": "2022-01-08T14:45:42.694Z"
   },
   {
    "duration": 22,
    "start_time": "2022-01-08T14:45:48.238Z"
   },
   {
    "duration": 11,
    "start_time": "2022-01-08T14:45:52.399Z"
   },
   {
    "duration": 12,
    "start_time": "2022-01-08T14:45:55.183Z"
   },
   {
    "duration": 8,
    "start_time": "2022-01-08T14:45:58.991Z"
   },
   {
    "duration": 8,
    "start_time": "2022-01-08T14:46:02.575Z"
   },
   {
    "duration": 10,
    "start_time": "2022-01-08T14:46:43.509Z"
   },
   {
    "duration": 7,
    "start_time": "2022-01-08T14:46:45.948Z"
   },
   {
    "duration": 7,
    "start_time": "2022-01-08T14:46:48.800Z"
   },
   {
    "duration": 10,
    "start_time": "2022-01-08T14:46:51.149Z"
   },
   {
    "duration": 10,
    "start_time": "2022-01-08T14:46:53.734Z"
   },
   {
    "duration": 10,
    "start_time": "2022-01-08T14:46:57.287Z"
   },
   {
    "duration": 10,
    "start_time": "2022-01-08T14:46:59.616Z"
   },
   {
    "duration": 8,
    "start_time": "2022-01-08T14:47:02.052Z"
   },
   {
    "duration": 8,
    "start_time": "2022-01-08T14:47:03.842Z"
   },
   {
    "duration": 12,
    "start_time": "2022-01-08T14:47:09.339Z"
   },
   {
    "duration": 8,
    "start_time": "2022-01-08T14:47:11.607Z"
   },
   {
    "duration": 9,
    "start_time": "2022-01-08T14:47:13.814Z"
   },
   {
    "duration": 9,
    "start_time": "2022-01-08T14:47:15.557Z"
   },
   {
    "duration": 14,
    "start_time": "2022-01-08T14:47:18.640Z"
   },
   {
    "duration": 28,
    "start_time": "2022-01-08T14:47:21.487Z"
   },
   {
    "duration": 12,
    "start_time": "2022-01-08T14:47:23.558Z"
   },
   {
    "duration": 12,
    "start_time": "2022-01-08T14:48:48.246Z"
   },
   {
    "duration": 24,
    "start_time": "2022-01-08T14:48:50.356Z"
   },
   {
    "duration": 13,
    "start_time": "2022-01-08T14:48:53.615Z"
   },
   {
    "duration": 801,
    "start_time": "2022-01-09T15:38:46.490Z"
   },
   {
    "duration": 104,
    "start_time": "2022-01-09T15:38:47.294Z"
   },
   {
    "duration": 86,
    "start_time": "2022-01-09T15:38:47.406Z"
   },
   {
    "duration": 22,
    "start_time": "2022-01-09T15:38:47.495Z"
   },
   {
    "duration": 19,
    "start_time": "2022-01-09T15:38:47.520Z"
   },
   {
    "duration": 30,
    "start_time": "2022-01-09T15:38:47.542Z"
   },
   {
    "duration": 13,
    "start_time": "2022-01-09T15:38:47.575Z"
   },
   {
    "duration": 22,
    "start_time": "2022-01-09T15:38:47.593Z"
   },
   {
    "duration": 61,
    "start_time": "2022-01-09T15:38:47.619Z"
   },
   {
    "duration": 13,
    "start_time": "2022-01-09T15:38:47.683Z"
   },
   {
    "duration": 6,
    "start_time": "2022-01-09T15:38:47.699Z"
   },
   {
    "duration": 6,
    "start_time": "2022-01-09T15:38:47.708Z"
   },
   {
    "duration": 57,
    "start_time": "2022-01-09T15:38:47.716Z"
   },
   {
    "duration": 6,
    "start_time": "2022-01-09T15:38:47.775Z"
   },
   {
    "duration": 5,
    "start_time": "2022-01-09T15:38:47.783Z"
   },
   {
    "duration": 90,
    "start_time": "2022-01-09T15:38:47.791Z"
   },
   {
    "duration": 14,
    "start_time": "2022-01-09T15:38:47.884Z"
   },
   {
    "duration": 17,
    "start_time": "2022-01-09T15:38:47.901Z"
   },
   {
    "duration": 8,
    "start_time": "2022-01-09T15:38:47.921Z"
   },
   {
    "duration": 56,
    "start_time": "2022-01-09T15:38:47.932Z"
   },
   {
    "duration": 34,
    "start_time": "2022-01-09T15:38:47.991Z"
   },
   {
    "duration": 92,
    "start_time": "2022-01-09T15:38:48.028Z"
   },
   {
    "duration": 44,
    "start_time": "2022-01-09T15:38:48.123Z"
   },
   {
    "duration": 18,
    "start_time": "2022-01-09T15:38:48.169Z"
   },
   {
    "duration": 5,
    "start_time": "2022-01-09T15:38:48.190Z"
   },
   {
    "duration": 5,
    "start_time": "2022-01-09T15:38:48.205Z"
   },
   {
    "duration": 7,
    "start_time": "2022-01-09T15:38:48.214Z"
   },
   {
    "duration": 50,
    "start_time": "2022-01-09T15:38:48.223Z"
   },
   {
    "duration": 2947,
    "start_time": "2022-01-09T15:38:48.276Z"
   },
   {
    "duration": 7,
    "start_time": "2022-01-09T15:38:51.226Z"
   },
   {
    "duration": 32,
    "start_time": "2022-01-09T15:38:51.236Z"
   },
   {
    "duration": 6,
    "start_time": "2022-01-09T15:38:51.271Z"
   },
   {
    "duration": 2060,
    "start_time": "2022-01-09T15:38:51.281Z"
   },
   {
    "duration": 24,
    "start_time": "2022-01-09T15:38:53.344Z"
   },
   {
    "duration": 12,
    "start_time": "2022-01-09T15:38:53.371Z"
   },
   {
    "duration": 27,
    "start_time": "2022-01-09T15:38:53.386Z"
   },
   {
    "duration": 13,
    "start_time": "2022-01-09T15:38:53.416Z"
   },
   {
    "duration": 44,
    "start_time": "2022-01-09T15:38:53.432Z"
   },
   {
    "duration": 36,
    "start_time": "2022-01-09T15:38:53.479Z"
   },
   {
    "duration": 11,
    "start_time": "2022-01-09T15:38:53.518Z"
   },
   {
    "duration": 54,
    "start_time": "2022-01-09T15:38:53.532Z"
   },
   {
    "duration": 16,
    "start_time": "2022-01-09T15:38:53.590Z"
   },
   {
    "duration": 57,
    "start_time": "2022-01-09T15:38:53.609Z"
   },
   {
    "duration": 10,
    "start_time": "2022-01-09T15:38:53.670Z"
   },
   {
    "duration": 22,
    "start_time": "2022-01-09T15:38:53.685Z"
   },
   {
    "duration": 12,
    "start_time": "2022-01-09T15:38:53.710Z"
   },
   {
    "duration": 54,
    "start_time": "2022-01-09T15:38:53.725Z"
   },
   {
    "duration": 20,
    "start_time": "2022-01-09T15:38:53.782Z"
   },
   {
    "duration": 13,
    "start_time": "2022-01-09T15:38:53.806Z"
   },
   {
    "duration": 47,
    "start_time": "2022-01-09T15:38:53.822Z"
   },
   {
    "duration": 8,
    "start_time": "2022-01-09T15:38:53.871Z"
   },
   {
    "duration": 13,
    "start_time": "2022-01-09T15:38:53.882Z"
   },
   {
    "duration": 7,
    "start_time": "2022-01-09T15:38:53.898Z"
   },
   {
    "duration": 20,
    "start_time": "2022-01-09T15:38:53.908Z"
   },
   {
    "duration": 38,
    "start_time": "2022-01-09T15:38:53.931Z"
   },
   {
    "duration": 9,
    "start_time": "2022-01-09T15:38:53.972Z"
   },
   {
    "duration": 15,
    "start_time": "2022-01-09T15:38:53.984Z"
   },
   {
    "duration": 15,
    "start_time": "2022-01-09T15:38:54.002Z"
   },
   {
    "duration": 56,
    "start_time": "2022-01-09T15:38:54.020Z"
   },
   {
    "duration": 24,
    "start_time": "2022-01-09T15:38:54.078Z"
   },
   {
    "duration": 11,
    "start_time": "2022-01-09T15:38:54.105Z"
   },
   {
    "duration": 10,
    "start_time": "2022-01-09T15:38:54.119Z"
   },
   {
    "duration": 43,
    "start_time": "2022-01-09T15:38:54.132Z"
   },
   {
    "duration": 11,
    "start_time": "2022-01-09T15:38:54.179Z"
   },
   {
    "duration": 12,
    "start_time": "2022-01-09T15:38:54.194Z"
   },
   {
    "duration": 12,
    "start_time": "2022-01-09T15:38:54.209Z"
   },
   {
    "duration": 20,
    "start_time": "2022-01-09T15:38:54.267Z"
   },
   {
    "duration": 40,
    "start_time": "2022-01-09T15:38:54.290Z"
   },
   {
    "duration": 45,
    "start_time": "2022-01-09T15:38:54.333Z"
   },
   {
    "duration": 13,
    "start_time": "2022-01-09T15:38:54.380Z"
   },
   {
    "duration": 41,
    "start_time": "2022-01-09T15:38:54.396Z"
   },
   {
    "duration": 37,
    "start_time": "2022-01-09T15:38:54.440Z"
   },
   {
    "duration": 831,
    "start_time": "2022-01-12T08:56:29.907Z"
   },
   {
    "duration": 91,
    "start_time": "2022-01-12T08:56:30.741Z"
   },
   {
    "duration": 49,
    "start_time": "2022-01-12T08:56:30.836Z"
   },
   {
    "duration": 42,
    "start_time": "2022-01-12T08:56:30.889Z"
   },
   {
    "duration": 17,
    "start_time": "2022-01-12T08:56:30.934Z"
   },
   {
    "duration": 14,
    "start_time": "2022-01-12T08:56:30.954Z"
   },
   {
    "duration": 25,
    "start_time": "2022-01-12T08:56:30.970Z"
   },
   {
    "duration": 41,
    "start_time": "2022-01-12T08:56:30.998Z"
   },
   {
    "duration": 26,
    "start_time": "2022-01-12T08:56:31.043Z"
   },
   {
    "duration": 16,
    "start_time": "2022-01-12T08:56:31.072Z"
   },
   {
    "duration": 35,
    "start_time": "2022-01-12T08:56:31.091Z"
   },
   {
    "duration": 19,
    "start_time": "2022-01-12T08:56:31.129Z"
   },
   {
    "duration": 13,
    "start_time": "2022-01-12T08:56:31.151Z"
   },
   {
    "duration": 6,
    "start_time": "2022-01-12T08:56:31.167Z"
   },
   {
    "duration": 11,
    "start_time": "2022-01-12T08:56:31.176Z"
   },
   {
    "duration": 73,
    "start_time": "2022-01-12T08:56:31.190Z"
   },
   {
    "duration": 11,
    "start_time": "2022-01-12T08:56:31.266Z"
   },
   {
    "duration": 27,
    "start_time": "2022-01-12T08:56:31.280Z"
   },
   {
    "duration": 16,
    "start_time": "2022-01-12T08:56:31.310Z"
   },
   {
    "duration": 29,
    "start_time": "2022-01-12T08:56:31.328Z"
   },
   {
    "duration": 23,
    "start_time": "2022-01-12T08:56:31.359Z"
   },
   {
    "duration": 67,
    "start_time": "2022-01-12T08:56:31.384Z"
   },
   {
    "duration": 20,
    "start_time": "2022-01-12T08:56:31.456Z"
   },
   {
    "duration": 16,
    "start_time": "2022-01-12T08:56:31.480Z"
   },
   {
    "duration": 26,
    "start_time": "2022-01-12T08:56:31.498Z"
   },
   {
    "duration": 15,
    "start_time": "2022-01-12T08:56:31.527Z"
   },
   {
    "duration": 11,
    "start_time": "2022-01-12T08:56:31.544Z"
   },
   {
    "duration": 15,
    "start_time": "2022-01-12T08:56:31.557Z"
   },
   {
    "duration": 2760,
    "start_time": "2022-01-12T08:56:31.574Z"
   },
   {
    "duration": 5,
    "start_time": "2022-01-12T08:56:34.337Z"
   },
   {
    "duration": 9,
    "start_time": "2022-01-12T08:56:34.344Z"
   },
   {
    "duration": 5,
    "start_time": "2022-01-12T08:56:34.355Z"
   },
   {
    "duration": 1878,
    "start_time": "2022-01-12T08:56:34.363Z"
   },
   {
    "duration": 9,
    "start_time": "2022-01-12T08:56:36.243Z"
   },
   {
    "duration": 11,
    "start_time": "2022-01-12T08:56:36.254Z"
   },
   {
    "duration": 6,
    "start_time": "2022-01-12T08:56:36.268Z"
   },
   {
    "duration": 46,
    "start_time": "2022-01-12T08:56:36.277Z"
   },
   {
    "duration": 10,
    "start_time": "2022-01-12T08:56:36.326Z"
   },
   {
    "duration": 22,
    "start_time": "2022-01-12T08:56:36.339Z"
   },
   {
    "duration": 8,
    "start_time": "2022-01-12T08:56:36.364Z"
   },
   {
    "duration": 56,
    "start_time": "2022-01-12T08:56:36.374Z"
   },
   {
    "duration": 14,
    "start_time": "2022-01-12T08:56:36.432Z"
   },
   {
    "duration": 22,
    "start_time": "2022-01-12T08:56:36.448Z"
   },
   {
    "duration": 14,
    "start_time": "2022-01-12T08:56:36.472Z"
   },
   {
    "duration": 45,
    "start_time": "2022-01-12T08:56:36.489Z"
   },
   {
    "duration": 8,
    "start_time": "2022-01-12T08:56:36.536Z"
   },
   {
    "duration": 16,
    "start_time": "2022-01-12T08:56:36.546Z"
   },
   {
    "duration": 8,
    "start_time": "2022-01-12T08:56:36.564Z"
   },
   {
    "duration": 10,
    "start_time": "2022-01-12T08:56:36.574Z"
   },
   {
    "duration": 7,
    "start_time": "2022-01-12T08:56:36.623Z"
   },
   {
    "duration": 7,
    "start_time": "2022-01-12T08:56:36.633Z"
   },
   {
    "duration": 4,
    "start_time": "2022-01-12T08:56:36.642Z"
   },
   {
    "duration": 5,
    "start_time": "2022-01-12T08:56:36.648Z"
   },
   {
    "duration": 14,
    "start_time": "2022-01-12T08:56:36.655Z"
   },
   {
    "duration": 56,
    "start_time": "2022-01-12T08:56:36.671Z"
   },
   {
    "duration": 9,
    "start_time": "2022-01-12T08:56:36.729Z"
   },
   {
    "duration": 12,
    "start_time": "2022-01-12T08:56:36.740Z"
   },
   {
    "duration": 10,
    "start_time": "2022-01-12T08:56:36.754Z"
   },
   {
    "duration": 59,
    "start_time": "2022-01-12T08:56:36.766Z"
   },
   {
    "duration": 15,
    "start_time": "2022-01-12T08:56:36.828Z"
   },
   {
    "duration": 9,
    "start_time": "2022-01-12T08:56:36.845Z"
   },
   {
    "duration": 13,
    "start_time": "2022-01-12T08:56:36.856Z"
   },
   {
    "duration": 12,
    "start_time": "2022-01-12T08:56:36.871Z"
   },
   {
    "duration": 46,
    "start_time": "2022-01-12T08:56:36.886Z"
   },
   {
    "duration": 13,
    "start_time": "2022-01-12T08:56:36.934Z"
   },
   {
    "duration": 9,
    "start_time": "2022-01-12T08:56:36.949Z"
   },
   {
    "duration": 20,
    "start_time": "2022-01-12T08:56:36.960Z"
   },
   {
    "duration": 55,
    "start_time": "2022-01-12T08:56:36.987Z"
   },
   {
    "duration": 12,
    "start_time": "2022-01-12T08:56:37.045Z"
   },
   {
    "duration": 12,
    "start_time": "2022-01-12T08:56:37.059Z"
   },
   {
    "duration": 58,
    "start_time": "2022-01-12T08:56:37.074Z"
   },
   {
    "duration": 13,
    "start_time": "2022-01-12T08:56:37.135Z"
   },
   {
    "duration": 26,
    "start_time": "2022-01-12T10:54:20.563Z"
   },
   {
    "duration": 769,
    "start_time": "2022-01-25T13:35:29.339Z"
   },
   {
    "duration": 92,
    "start_time": "2022-01-25T13:35:30.110Z"
   },
   {
    "duration": 53,
    "start_time": "2022-01-25T13:35:30.205Z"
   },
   {
    "duration": 14,
    "start_time": "2022-01-25T13:35:30.261Z"
   },
   {
    "duration": 23,
    "start_time": "2022-01-25T13:35:30.277Z"
   },
   {
    "duration": 31,
    "start_time": "2022-01-25T13:35:30.302Z"
   },
   {
    "duration": 14,
    "start_time": "2022-01-25T13:35:30.337Z"
   },
   {
    "duration": 34,
    "start_time": "2022-01-25T13:35:30.356Z"
   },
   {
    "duration": 39,
    "start_time": "2022-01-25T13:35:30.393Z"
   },
   {
    "duration": 13,
    "start_time": "2022-01-25T13:35:30.435Z"
   },
   {
    "duration": 22,
    "start_time": "2022-01-25T13:35:30.450Z"
   },
   {
    "duration": 14,
    "start_time": "2022-01-25T13:35:30.474Z"
   },
   {
    "duration": 14,
    "start_time": "2022-01-25T13:35:30.490Z"
   },
   {
    "duration": 15,
    "start_time": "2022-01-25T13:35:30.506Z"
   },
   {
    "duration": 49,
    "start_time": "2022-01-25T13:35:30.523Z"
   },
   {
    "duration": 11,
    "start_time": "2022-01-25T13:35:30.575Z"
   },
   {
    "duration": 20,
    "start_time": "2022-01-25T13:35:30.588Z"
   },
   {
    "duration": 21,
    "start_time": "2022-01-25T13:35:30.611Z"
   },
   {
    "duration": 19,
    "start_time": "2022-01-25T13:35:30.635Z"
   },
   {
    "duration": 28,
    "start_time": "2022-01-25T13:35:30.656Z"
   },
   {
    "duration": 69,
    "start_time": "2022-01-25T13:35:30.687Z"
   },
   {
    "duration": 22,
    "start_time": "2022-01-25T13:35:30.759Z"
   },
   {
    "duration": 20,
    "start_time": "2022-01-25T13:35:30.788Z"
   },
   {
    "duration": 7,
    "start_time": "2022-01-25T13:35:30.835Z"
   },
   {
    "duration": 13,
    "start_time": "2022-01-25T13:35:30.844Z"
   },
   {
    "duration": 20,
    "start_time": "2022-01-25T13:35:30.859Z"
   },
   {
    "duration": 10,
    "start_time": "2022-01-25T13:35:30.882Z"
   },
   {
    "duration": 2692,
    "start_time": "2022-01-25T13:35:30.895Z"
   },
   {
    "duration": 5,
    "start_time": "2022-01-25T13:35:33.590Z"
   },
   {
    "duration": 8,
    "start_time": "2022-01-25T13:35:33.597Z"
   },
   {
    "duration": 27,
    "start_time": "2022-01-25T13:35:33.607Z"
   },
   {
    "duration": 1744,
    "start_time": "2022-01-25T13:35:33.636Z"
   },
   {
    "duration": 10,
    "start_time": "2022-01-25T13:35:35.383Z"
   },
   {
    "duration": 13,
    "start_time": "2022-01-25T13:35:35.395Z"
   },
   {
    "duration": 8,
    "start_time": "2022-01-25T13:35:35.433Z"
   },
   {
    "duration": 12,
    "start_time": "2022-01-25T13:35:35.443Z"
   },
   {
    "duration": 11,
    "start_time": "2022-01-25T13:35:35.457Z"
   },
   {
    "duration": 61,
    "start_time": "2022-01-25T13:35:35.471Z"
   },
   {
    "duration": 10,
    "start_time": "2022-01-25T13:35:35.535Z"
   },
   {
    "duration": 22,
    "start_time": "2022-01-25T13:35:35.548Z"
   },
   {
    "duration": 13,
    "start_time": "2022-01-25T13:35:35.573Z"
   },
   {
    "duration": 58,
    "start_time": "2022-01-25T13:35:35.588Z"
   },
   {
    "duration": 10,
    "start_time": "2022-01-25T13:35:35.649Z"
   },
   {
    "duration": 23,
    "start_time": "2022-01-25T13:35:35.661Z"
   },
   {
    "duration": 46,
    "start_time": "2022-01-25T13:35:35.687Z"
   },
   {
    "duration": 24,
    "start_time": "2022-01-25T13:35:35.736Z"
   },
   {
    "duration": 15,
    "start_time": "2022-01-25T13:35:35.764Z"
   },
   {
    "duration": 14,
    "start_time": "2022-01-25T13:35:35.783Z"
   },
   {
    "duration": 39,
    "start_time": "2022-01-25T13:35:35.800Z"
   },
   {
    "duration": 11,
    "start_time": "2022-01-25T13:35:35.841Z"
   },
   {
    "duration": 6,
    "start_time": "2022-01-25T13:35:35.855Z"
   },
   {
    "duration": 7,
    "start_time": "2022-01-25T13:35:35.863Z"
   },
   {
    "duration": 17,
    "start_time": "2022-01-25T13:35:35.872Z"
   },
   {
    "duration": 8,
    "start_time": "2022-01-25T13:35:35.891Z"
   },
   {
    "duration": 10,
    "start_time": "2022-01-25T13:35:35.933Z"
   },
   {
    "duration": 13,
    "start_time": "2022-01-25T13:35:35.945Z"
   },
   {
    "duration": 10,
    "start_time": "2022-01-25T13:35:35.961Z"
   },
   {
    "duration": 30,
    "start_time": "2022-01-25T13:35:35.973Z"
   },
   {
    "duration": 27,
    "start_time": "2022-01-25T13:35:36.005Z"
   },
   {
    "duration": 20,
    "start_time": "2022-01-25T13:35:36.035Z"
   },
   {
    "duration": 24,
    "start_time": "2022-01-25T13:35:36.057Z"
   },
   {
    "duration": 28,
    "start_time": "2022-01-25T13:35:36.083Z"
   },
   {
    "duration": 27,
    "start_time": "2022-01-25T13:35:36.114Z"
   },
   {
    "duration": 35,
    "start_time": "2022-01-25T13:35:36.144Z"
   },
   {
    "duration": 28,
    "start_time": "2022-01-25T13:35:36.181Z"
   },
   {
    "duration": 48,
    "start_time": "2022-01-25T13:35:36.212Z"
   },
   {
    "duration": 27,
    "start_time": "2022-01-25T13:35:36.262Z"
   },
   {
    "duration": 22,
    "start_time": "2022-01-25T13:35:36.296Z"
   },
   {
    "duration": 22,
    "start_time": "2022-01-25T13:35:36.321Z"
   },
   {
    "duration": 11,
    "start_time": "2022-01-25T13:35:36.346Z"
   },
   {
    "duration": 25,
    "start_time": "2022-01-25T13:35:36.360Z"
   },
   {
    "duration": 12,
    "start_time": "2022-01-25T13:35:36.387Z"
   }
  ],
  "kernelspec": {
   "display_name": "Python 3",
   "language": "python",
   "name": "python3"
  },
  "language_info": {
   "codemirror_mode": {
    "name": "ipython",
    "version": 3
   },
   "file_extension": ".py",
   "mimetype": "text/x-python",
   "name": "python",
   "nbconvert_exporter": "python",
   "pygments_lexer": "ipython3",
   "version": "3.7.8"
  },
  "toc": {
   "base_numbering": 1,
   "nav_menu": {
    "height": "41.9965px",
    "width": "285.382px"
   },
   "number_sections": true,
   "sideBar": true,
   "skip_h1_title": true,
   "title_cell": "Table of Contents",
   "title_sidebar": "Contents",
   "toc_cell": false,
   "toc_position": {},
   "toc_section_display": true,
   "toc_window_display": false
  }
 },
 "nbformat": 4,
 "nbformat_minor": 2
}
